{
 "cells": [
  {
   "cell_type": "markdown",
   "metadata": {},
   "source": [
    "# SQL - анализ данных"
   ]
  },
  {
   "cell_type": "markdown",
   "metadata": {},
   "source": [
    "**Задания**\n",
    "* Посчитайте, сколько книг вышло после 1 января 2000 года;\n",
    "* Для каждой книги посчитайте количество обзоров и среднюю оценку;\n",
    "* Определите издательство, которое выпустило наибольшее число книг толще 50 страниц — так вы исключите из анализа брошюры;\n",
    "* Определите автора с самой высокой средней оценкой книг — учитывайте только книги с 50 и более оценками;\n",
    "* Посчитайте среднее количество обзоров от пользователей, которые поставили больше 50 оценок."
   ]
  },
  {
   "cell_type": "markdown",
   "metadata": {},
   "source": [
    "**Описание данных**"
   ]
  },
  {
   "cell_type": "markdown",
   "metadata": {},
   "source": [
    "**Таблица books**\n",
    "\n",
    "Содержит данные о книгах:\n",
    "\n",
    "    book_id — идентификатор книги;\n",
    "    author_id — идентификатор автора;\n",
    "    title — название книги;\n",
    "    num_pages — количество страниц;\n",
    "    publication_date — дата публикации книги;\n",
    "    publisher_id — идентификатор издателя.\n",
    "    \n",
    "**Таблица authors**\n",
    "\n",
    "Содержит данные об авторах:\n",
    "\n",
    "    author_id — идентификатор автора;\n",
    "    author — имя автора.\n",
    "\n",
    "**Таблица publishers**\n",
    "\n",
    "Содержит данные об издательствах:\n",
    "\n",
    "    publisher_id — идентификатор издательства;\n",
    "    publisher — название издательства;\n",
    "\n",
    "**Таблица ratings**\n",
    "\n",
    "Содержит данные о пользовательских оценках книг:\n",
    "\n",
    "    rating_id — идентификатор оценки;\n",
    "    book_id — идентификатор книги;\n",
    "    username — имя пользователя, оставившего оценку;\n",
    "    rating — оценка книги.\n",
    "    \n",
    "**Таблица reviews**\n",
    "\n",
    "Содержит данные о пользовательских обзорах на книги:\n",
    "\n",
    "    review_id — идентификатор обзора;\n",
    "    book_id — идентификатор книги;\n",
    "    username — имя пользователя, написавшего обзор;\n",
    "    text — текст обзора."
   ]
  },
  {
   "cell_type": "code",
   "execution_count": 1,
   "metadata": {},
   "outputs": [],
   "source": [
    "# импортируем библиотеки\n",
    "import pandas as pd\n",
    "from sqlalchemy import create_engine\n",
    "# устанавливаем параметры\n",
    "db_config = {'user': 'praktikum_student', # имя пользователя\n",
    "            'pwd': 'Sdf4$2;d-d30pp', # пароль\n",
    "             'host': 'rc1b-wcoijxj3yxfsf3fs.mdb.yandexcloud.net',\n",
    "             'port': 6432, # порт подключения\n",
    "             'db': 'data-analyst-final-project-db'} # название базы данных\n",
    "connection_string = 'postgresql://{}:{}@{}:{}/{}'.format(db_config['user'], db_config['pwd'], db_config['host'], db_config['port'],\n",
    "db_config['db']) \n",
    "engine = create_engine(connection_string, connect_args={'sslmode':'require'})"
   ]
  },
  {
   "cell_type": "code",
   "execution_count": 2,
   "metadata": {},
   "outputs": [
    {
     "data": {
      "text/html": [
       "<div>\n",
       "<style scoped>\n",
       "    .dataframe tbody tr th:only-of-type {\n",
       "        vertical-align: middle;\n",
       "    }\n",
       "\n",
       "    .dataframe tbody tr th {\n",
       "        vertical-align: top;\n",
       "    }\n",
       "\n",
       "    .dataframe thead th {\n",
       "        text-align: right;\n",
       "    }\n",
       "</style>\n",
       "<table border=\"1\" class=\"dataframe\">\n",
       "  <thead>\n",
       "    <tr style=\"text-align: right;\">\n",
       "      <th></th>\n",
       "      <th>book_id</th>\n",
       "      <th>author_id</th>\n",
       "      <th>title</th>\n",
       "      <th>num_pages</th>\n",
       "      <th>publication_date</th>\n",
       "      <th>publisher_id</th>\n",
       "    </tr>\n",
       "  </thead>\n",
       "  <tbody>\n",
       "    <tr>\n",
       "      <th>0</th>\n",
       "      <td>1</td>\n",
       "      <td>546</td>\n",
       "      <td>'Salem's Lot</td>\n",
       "      <td>594</td>\n",
       "      <td>2005-11-01</td>\n",
       "      <td>93</td>\n",
       "    </tr>\n",
       "    <tr>\n",
       "      <th>1</th>\n",
       "      <td>2</td>\n",
       "      <td>465</td>\n",
       "      <td>1 000 Places to See Before You Die</td>\n",
       "      <td>992</td>\n",
       "      <td>2003-05-22</td>\n",
       "      <td>336</td>\n",
       "    </tr>\n",
       "    <tr>\n",
       "      <th>2</th>\n",
       "      <td>3</td>\n",
       "      <td>407</td>\n",
       "      <td>13 Little Blue Envelopes (Little Blue Envelope...</td>\n",
       "      <td>322</td>\n",
       "      <td>2010-12-21</td>\n",
       "      <td>135</td>\n",
       "    </tr>\n",
       "    <tr>\n",
       "      <th>3</th>\n",
       "      <td>4</td>\n",
       "      <td>82</td>\n",
       "      <td>1491: New Revelations of the Americas Before C...</td>\n",
       "      <td>541</td>\n",
       "      <td>2006-10-10</td>\n",
       "      <td>309</td>\n",
       "    </tr>\n",
       "    <tr>\n",
       "      <th>4</th>\n",
       "      <td>5</td>\n",
       "      <td>125</td>\n",
       "      <td>1776</td>\n",
       "      <td>386</td>\n",
       "      <td>2006-07-04</td>\n",
       "      <td>268</td>\n",
       "    </tr>\n",
       "  </tbody>\n",
       "</table>\n",
       "</div>"
      ],
      "text/plain": [
       "   book_id  author_id                                              title  \\\n",
       "0        1        546                                       'Salem's Lot   \n",
       "1        2        465                 1 000 Places to See Before You Die   \n",
       "2        3        407  13 Little Blue Envelopes (Little Blue Envelope...   \n",
       "3        4         82  1491: New Revelations of the Americas Before C...   \n",
       "4        5        125                                               1776   \n",
       "\n",
       "   num_pages publication_date  publisher_id  \n",
       "0        594       2005-11-01            93  \n",
       "1        992       2003-05-22           336  \n",
       "2        322       2010-12-21           135  \n",
       "3        541       2006-10-10           309  \n",
       "4        386       2006-07-04           268  "
      ]
     },
     "execution_count": 2,
     "metadata": {},
     "output_type": "execute_result"
    }
   ],
   "source": [
    "query = '''\n",
    "SELECT *\n",
    "FROM books\n",
    "LIMIT 5\n",
    "'''\n",
    "pd.io.sql.read_sql(query, con = engine)"
   ]
  },
  {
   "cell_type": "code",
   "execution_count": 3,
   "metadata": {},
   "outputs": [
    {
     "data": {
      "text/html": [
       "<div>\n",
       "<style scoped>\n",
       "    .dataframe tbody tr th:only-of-type {\n",
       "        vertical-align: middle;\n",
       "    }\n",
       "\n",
       "    .dataframe tbody tr th {\n",
       "        vertical-align: top;\n",
       "    }\n",
       "\n",
       "    .dataframe thead th {\n",
       "        text-align: right;\n",
       "    }\n",
       "</style>\n",
       "<table border=\"1\" class=\"dataframe\">\n",
       "  <thead>\n",
       "    <tr style=\"text-align: right;\">\n",
       "      <th></th>\n",
       "      <th>author_id</th>\n",
       "      <th>author</th>\n",
       "    </tr>\n",
       "  </thead>\n",
       "  <tbody>\n",
       "    <tr>\n",
       "      <th>0</th>\n",
       "      <td>1</td>\n",
       "      <td>A.S. Byatt</td>\n",
       "    </tr>\n",
       "    <tr>\n",
       "      <th>1</th>\n",
       "      <td>2</td>\n",
       "      <td>Aesop/Laura Harris/Laura Gibbs</td>\n",
       "    </tr>\n",
       "    <tr>\n",
       "      <th>2</th>\n",
       "      <td>3</td>\n",
       "      <td>Agatha Christie</td>\n",
       "    </tr>\n",
       "    <tr>\n",
       "      <th>3</th>\n",
       "      <td>4</td>\n",
       "      <td>Alan Brennert</td>\n",
       "    </tr>\n",
       "    <tr>\n",
       "      <th>4</th>\n",
       "      <td>5</td>\n",
       "      <td>Alan Moore/David   Lloyd</td>\n",
       "    </tr>\n",
       "  </tbody>\n",
       "</table>\n",
       "</div>"
      ],
      "text/plain": [
       "   author_id                          author\n",
       "0          1                      A.S. Byatt\n",
       "1          2  Aesop/Laura Harris/Laura Gibbs\n",
       "2          3                 Agatha Christie\n",
       "3          4                   Alan Brennert\n",
       "4          5        Alan Moore/David   Lloyd"
      ]
     },
     "execution_count": 3,
     "metadata": {},
     "output_type": "execute_result"
    }
   ],
   "source": [
    "query = '''\n",
    "SELECT *\n",
    "FROM authors\n",
    "LIMIT 5\n",
    "'''\n",
    "pd.io.sql.read_sql(query, con = engine)"
   ]
  },
  {
   "cell_type": "code",
   "execution_count": 4,
   "metadata": {},
   "outputs": [
    {
     "data": {
      "text/html": [
       "<div>\n",
       "<style scoped>\n",
       "    .dataframe tbody tr th:only-of-type {\n",
       "        vertical-align: middle;\n",
       "    }\n",
       "\n",
       "    .dataframe tbody tr th {\n",
       "        vertical-align: top;\n",
       "    }\n",
       "\n",
       "    .dataframe thead th {\n",
       "        text-align: right;\n",
       "    }\n",
       "</style>\n",
       "<table border=\"1\" class=\"dataframe\">\n",
       "  <thead>\n",
       "    <tr style=\"text-align: right;\">\n",
       "      <th></th>\n",
       "      <th>publisher_id</th>\n",
       "      <th>publisher</th>\n",
       "    </tr>\n",
       "  </thead>\n",
       "  <tbody>\n",
       "    <tr>\n",
       "      <th>0</th>\n",
       "      <td>1</td>\n",
       "      <td>Ace</td>\n",
       "    </tr>\n",
       "    <tr>\n",
       "      <th>1</th>\n",
       "      <td>2</td>\n",
       "      <td>Ace Book</td>\n",
       "    </tr>\n",
       "    <tr>\n",
       "      <th>2</th>\n",
       "      <td>3</td>\n",
       "      <td>Ace Books</td>\n",
       "    </tr>\n",
       "    <tr>\n",
       "      <th>3</th>\n",
       "      <td>4</td>\n",
       "      <td>Ace Hardcover</td>\n",
       "    </tr>\n",
       "    <tr>\n",
       "      <th>4</th>\n",
       "      <td>5</td>\n",
       "      <td>Addison Wesley Publishing Company</td>\n",
       "    </tr>\n",
       "  </tbody>\n",
       "</table>\n",
       "</div>"
      ],
      "text/plain": [
       "   publisher_id                          publisher\n",
       "0             1                                Ace\n",
       "1             2                           Ace Book\n",
       "2             3                          Ace Books\n",
       "3             4                      Ace Hardcover\n",
       "4             5  Addison Wesley Publishing Company"
      ]
     },
     "execution_count": 4,
     "metadata": {},
     "output_type": "execute_result"
    }
   ],
   "source": [
    "query = '''\n",
    "SELECT *\n",
    "FROM publishers\n",
    "LIMIT 5\n",
    "'''\n",
    "pd.io.sql.read_sql(query, con = engine)"
   ]
  },
  {
   "cell_type": "code",
   "execution_count": 5,
   "metadata": {},
   "outputs": [
    {
     "data": {
      "text/html": [
       "<div>\n",
       "<style scoped>\n",
       "    .dataframe tbody tr th:only-of-type {\n",
       "        vertical-align: middle;\n",
       "    }\n",
       "\n",
       "    .dataframe tbody tr th {\n",
       "        vertical-align: top;\n",
       "    }\n",
       "\n",
       "    .dataframe thead th {\n",
       "        text-align: right;\n",
       "    }\n",
       "</style>\n",
       "<table border=\"1\" class=\"dataframe\">\n",
       "  <thead>\n",
       "    <tr style=\"text-align: right;\">\n",
       "      <th></th>\n",
       "      <th>rating_id</th>\n",
       "      <th>book_id</th>\n",
       "      <th>username</th>\n",
       "      <th>rating</th>\n",
       "    </tr>\n",
       "  </thead>\n",
       "  <tbody>\n",
       "    <tr>\n",
       "      <th>0</th>\n",
       "      <td>1</td>\n",
       "      <td>1</td>\n",
       "      <td>ryanfranco</td>\n",
       "      <td>4</td>\n",
       "    </tr>\n",
       "    <tr>\n",
       "      <th>1</th>\n",
       "      <td>2</td>\n",
       "      <td>1</td>\n",
       "      <td>grantpatricia</td>\n",
       "      <td>2</td>\n",
       "    </tr>\n",
       "    <tr>\n",
       "      <th>2</th>\n",
       "      <td>3</td>\n",
       "      <td>1</td>\n",
       "      <td>brandtandrea</td>\n",
       "      <td>5</td>\n",
       "    </tr>\n",
       "    <tr>\n",
       "      <th>3</th>\n",
       "      <td>4</td>\n",
       "      <td>2</td>\n",
       "      <td>lorichen</td>\n",
       "      <td>3</td>\n",
       "    </tr>\n",
       "    <tr>\n",
       "      <th>4</th>\n",
       "      <td>5</td>\n",
       "      <td>2</td>\n",
       "      <td>mariokeller</td>\n",
       "      <td>2</td>\n",
       "    </tr>\n",
       "  </tbody>\n",
       "</table>\n",
       "</div>"
      ],
      "text/plain": [
       "   rating_id  book_id       username  rating\n",
       "0          1        1     ryanfranco       4\n",
       "1          2        1  grantpatricia       2\n",
       "2          3        1   brandtandrea       5\n",
       "3          4        2       lorichen       3\n",
       "4          5        2    mariokeller       2"
      ]
     },
     "execution_count": 5,
     "metadata": {},
     "output_type": "execute_result"
    }
   ],
   "source": [
    "query = '''\n",
    "SELECT *\n",
    "FROM ratings\n",
    "LIMIT 5\n",
    "'''\n",
    "pd.io.sql.read_sql(query, con = engine)"
   ]
  },
  {
   "cell_type": "code",
   "execution_count": 6,
   "metadata": {},
   "outputs": [
    {
     "data": {
      "text/html": [
       "<div>\n",
       "<style scoped>\n",
       "    .dataframe tbody tr th:only-of-type {\n",
       "        vertical-align: middle;\n",
       "    }\n",
       "\n",
       "    .dataframe tbody tr th {\n",
       "        vertical-align: top;\n",
       "    }\n",
       "\n",
       "    .dataframe thead th {\n",
       "        text-align: right;\n",
       "    }\n",
       "</style>\n",
       "<table border=\"1\" class=\"dataframe\">\n",
       "  <thead>\n",
       "    <tr style=\"text-align: right;\">\n",
       "      <th></th>\n",
       "      <th>review_id</th>\n",
       "      <th>book_id</th>\n",
       "      <th>username</th>\n",
       "      <th>text</th>\n",
       "    </tr>\n",
       "  </thead>\n",
       "  <tbody>\n",
       "    <tr>\n",
       "      <th>0</th>\n",
       "      <td>1</td>\n",
       "      <td>1</td>\n",
       "      <td>brandtandrea</td>\n",
       "      <td>Mention society tell send professor analysis. ...</td>\n",
       "    </tr>\n",
       "    <tr>\n",
       "      <th>1</th>\n",
       "      <td>2</td>\n",
       "      <td>1</td>\n",
       "      <td>ryanfranco</td>\n",
       "      <td>Foot glass pretty audience hit themselves. Amo...</td>\n",
       "    </tr>\n",
       "    <tr>\n",
       "      <th>2</th>\n",
       "      <td>3</td>\n",
       "      <td>2</td>\n",
       "      <td>lorichen</td>\n",
       "      <td>Listen treat keep worry. Miss husband tax but ...</td>\n",
       "    </tr>\n",
       "    <tr>\n",
       "      <th>3</th>\n",
       "      <td>4</td>\n",
       "      <td>3</td>\n",
       "      <td>johnsonamanda</td>\n",
       "      <td>Finally month interesting blue could nature cu...</td>\n",
       "    </tr>\n",
       "    <tr>\n",
       "      <th>4</th>\n",
       "      <td>5</td>\n",
       "      <td>3</td>\n",
       "      <td>scotttamara</td>\n",
       "      <td>Nation purpose heavy give wait song will. List...</td>\n",
       "    </tr>\n",
       "  </tbody>\n",
       "</table>\n",
       "</div>"
      ],
      "text/plain": [
       "   review_id  book_id       username  \\\n",
       "0          1        1   brandtandrea   \n",
       "1          2        1     ryanfranco   \n",
       "2          3        2       lorichen   \n",
       "3          4        3  johnsonamanda   \n",
       "4          5        3    scotttamara   \n",
       "\n",
       "                                                text  \n",
       "0  Mention society tell send professor analysis. ...  \n",
       "1  Foot glass pretty audience hit themselves. Amo...  \n",
       "2  Listen treat keep worry. Miss husband tax but ...  \n",
       "3  Finally month interesting blue could nature cu...  \n",
       "4  Nation purpose heavy give wait song will. List...  "
      ]
     },
     "execution_count": 6,
     "metadata": {},
     "output_type": "execute_result"
    }
   ],
   "source": [
    "query = '''\n",
    "SELECT *\n",
    "FROM reviews\n",
    "LIMIT 5\n",
    "'''\n",
    "pd.io.sql.read_sql(query, con = engine)"
   ]
  },
  {
   "cell_type": "markdown",
   "metadata": {},
   "source": [
    "**Посчитайте, сколько книг вышло после 1 января 2000 года**"
   ]
  },
  {
   "cell_type": "code",
   "execution_count": 7,
   "metadata": {},
   "outputs": [
    {
     "data": {
      "text/html": [
       "<div>\n",
       "<style scoped>\n",
       "    .dataframe tbody tr th:only-of-type {\n",
       "        vertical-align: middle;\n",
       "    }\n",
       "\n",
       "    .dataframe tbody tr th {\n",
       "        vertical-align: top;\n",
       "    }\n",
       "\n",
       "    .dataframe thead th {\n",
       "        text-align: right;\n",
       "    }\n",
       "</style>\n",
       "<table border=\"1\" class=\"dataframe\">\n",
       "  <thead>\n",
       "    <tr style=\"text-align: right;\">\n",
       "      <th></th>\n",
       "      <th>count_books</th>\n",
       "    </tr>\n",
       "  </thead>\n",
       "  <tbody>\n",
       "    <tr>\n",
       "      <th>0</th>\n",
       "      <td>819</td>\n",
       "    </tr>\n",
       "  </tbody>\n",
       "</table>\n",
       "</div>"
      ],
      "text/plain": [
       "   count_books\n",
       "0          819"
      ]
     },
     "execution_count": 7,
     "metadata": {},
     "output_type": "execute_result"
    }
   ],
   "source": [
    "query = '''\n",
    "SELECT COUNT(title) AS count_books\n",
    "FROM books\n",
    "WHERE publication_date > '2000-01-01'\n",
    "'''\n",
    "pd.io.sql.read_sql(query, con = engine)"
   ]
  },
  {
   "cell_type": "markdown",
   "metadata": {},
   "source": [
    "819 книг вышло после 1 января 2000 года "
   ]
  },
  {
   "cell_type": "markdown",
   "metadata": {},
   "source": [
    "**Для каждой книги посчитайте количество обзоров и среднюю оценку**"
   ]
  },
  {
   "cell_type": "code",
   "execution_count": 8,
   "metadata": {},
   "outputs": [
    {
     "data": {
      "text/html": [
       "<div>\n",
       "<style scoped>\n",
       "    .dataframe tbody tr th:only-of-type {\n",
       "        vertical-align: middle;\n",
       "    }\n",
       "\n",
       "    .dataframe tbody tr th {\n",
       "        vertical-align: top;\n",
       "    }\n",
       "\n",
       "    .dataframe thead th {\n",
       "        text-align: right;\n",
       "    }\n",
       "</style>\n",
       "<table border=\"1\" class=\"dataframe\">\n",
       "  <thead>\n",
       "    <tr style=\"text-align: right;\">\n",
       "      <th></th>\n",
       "      <th>title</th>\n",
       "      <th>id</th>\n",
       "      <th>mean_rating</th>\n",
       "      <th>count</th>\n",
       "    </tr>\n",
       "  </thead>\n",
       "  <tbody>\n",
       "    <tr>\n",
       "      <th>0</th>\n",
       "      <td>Wherever You Go  There You Are: Mindfulness Me...</td>\n",
       "      <td>972</td>\n",
       "      <td>5.00</td>\n",
       "      <td>2</td>\n",
       "    </tr>\n",
       "    <tr>\n",
       "      <th>1</th>\n",
       "      <td>Piercing the Darkness (Darkness  #2)</td>\n",
       "      <td>513</td>\n",
       "      <td>5.00</td>\n",
       "      <td>2</td>\n",
       "    </tr>\n",
       "    <tr>\n",
       "      <th>2</th>\n",
       "      <td>The Walking Dead  Book One (The Walking Dead #...</td>\n",
       "      <td>901</td>\n",
       "      <td>5.00</td>\n",
       "      <td>2</td>\n",
       "    </tr>\n",
       "    <tr>\n",
       "      <th>3</th>\n",
       "      <td>Captivating: Unveiling the Mystery of a Woman'...</td>\n",
       "      <td>136</td>\n",
       "      <td>5.00</td>\n",
       "      <td>2</td>\n",
       "    </tr>\n",
       "    <tr>\n",
       "      <th>4</th>\n",
       "      <td>Arrows of the Queen (Heralds of Valdemar  #1)</td>\n",
       "      <td>86</td>\n",
       "      <td>5.00</td>\n",
       "      <td>2</td>\n",
       "    </tr>\n",
       "    <tr>\n",
       "      <th>...</th>\n",
       "      <td>...</td>\n",
       "      <td>...</td>\n",
       "      <td>...</td>\n",
       "      <td>...</td>\n",
       "    </tr>\n",
       "    <tr>\n",
       "      <th>989</th>\n",
       "      <td>The World Is Flat: A Brief History of the Twen...</td>\n",
       "      <td>915</td>\n",
       "      <td>2.25</td>\n",
       "      <td>3</td>\n",
       "    </tr>\n",
       "    <tr>\n",
       "      <th>990</th>\n",
       "      <td>Junky</td>\n",
       "      <td>371</td>\n",
       "      <td>2.00</td>\n",
       "      <td>2</td>\n",
       "    </tr>\n",
       "    <tr>\n",
       "      <th>991</th>\n",
       "      <td>His Excellency: George Washington</td>\n",
       "      <td>316</td>\n",
       "      <td>2.00</td>\n",
       "      <td>2</td>\n",
       "    </tr>\n",
       "    <tr>\n",
       "      <th>992</th>\n",
       "      <td>Drowning Ruth</td>\n",
       "      <td>202</td>\n",
       "      <td>2.00</td>\n",
       "      <td>3</td>\n",
       "    </tr>\n",
       "    <tr>\n",
       "      <th>993</th>\n",
       "      <td>Harvesting the Heart</td>\n",
       "      <td>303</td>\n",
       "      <td>1.50</td>\n",
       "      <td>2</td>\n",
       "    </tr>\n",
       "  </tbody>\n",
       "</table>\n",
       "<p>994 rows × 4 columns</p>\n",
       "</div>"
      ],
      "text/plain": [
       "                                                 title   id  mean_rating  \\\n",
       "0    Wherever You Go  There You Are: Mindfulness Me...  972         5.00   \n",
       "1                 Piercing the Darkness (Darkness  #2)  513         5.00   \n",
       "2    The Walking Dead  Book One (The Walking Dead #...  901         5.00   \n",
       "3    Captivating: Unveiling the Mystery of a Woman'...  136         5.00   \n",
       "4        Arrows of the Queen (Heralds of Valdemar  #1)   86         5.00   \n",
       "..                                                 ...  ...          ...   \n",
       "989  The World Is Flat: A Brief History of the Twen...  915         2.25   \n",
       "990                                              Junky  371         2.00   \n",
       "991                  His Excellency: George Washington  316         2.00   \n",
       "992                                      Drowning Ruth  202         2.00   \n",
       "993                               Harvesting the Heart  303         1.50   \n",
       "\n",
       "     count  \n",
       "0        2  \n",
       "1        2  \n",
       "2        2  \n",
       "3        2  \n",
       "4        2  \n",
       "..     ...  \n",
       "989      3  \n",
       "990      2  \n",
       "991      2  \n",
       "992      3  \n",
       "993      2  \n",
       "\n",
       "[994 rows x 4 columns]"
      ]
     },
     "execution_count": 8,
     "metadata": {},
     "output_type": "execute_result"
    }
   ],
   "source": [
    "query = '''\n",
    "SELECT \n",
    "    books.title AS title,\n",
    "    books.book_id AS id,\n",
    "    AVG(ratings.rating) AS mean_rating,\n",
    "    COUNT(DISTINCT reviews.text) AS count\n",
    "FROM\n",
    "    books\n",
    "INNER JOIN ratings ON ratings.book_id = books.book_id\n",
    "INNER JOIN reviews ON reviews.book_id = books.book_id\n",
    "GROUP BY\n",
    "     books.title,\n",
    "     books.book_id\n",
    "order by\n",
    "     mean_rating DESC\n",
    "'''\n",
    "pd.io.sql.read_sql(query, con = engine)\n"
   ]
  },
  {
   "cell_type": "markdown",
   "metadata": {},
   "source": [
    "Есть книги без обзоров, но с максимальным рейтингом 5"
   ]
  },
  {
   "cell_type": "markdown",
   "metadata": {},
   "source": [
    "**Определите издательство, которое выпустило наибольшее число книг толще 50 страниц**"
   ]
  },
  {
   "cell_type": "code",
   "execution_count": 9,
   "metadata": {},
   "outputs": [
    {
     "data": {
      "text/html": [
       "<div>\n",
       "<style scoped>\n",
       "    .dataframe tbody tr th:only-of-type {\n",
       "        vertical-align: middle;\n",
       "    }\n",
       "\n",
       "    .dataframe tbody tr th {\n",
       "        vertical-align: top;\n",
       "    }\n",
       "\n",
       "    .dataframe thead th {\n",
       "        text-align: right;\n",
       "    }\n",
       "</style>\n",
       "<table border=\"1\" class=\"dataframe\">\n",
       "  <thead>\n",
       "    <tr style=\"text-align: right;\">\n",
       "      <th></th>\n",
       "      <th>publisher</th>\n",
       "      <th>books</th>\n",
       "    </tr>\n",
       "  </thead>\n",
       "  <tbody>\n",
       "    <tr>\n",
       "      <th>0</th>\n",
       "      <td>Penguin Books</td>\n",
       "      <td>42</td>\n",
       "    </tr>\n",
       "  </tbody>\n",
       "</table>\n",
       "</div>"
      ],
      "text/plain": [
       "       publisher  books\n",
       "0  Penguin Books     42"
      ]
     },
     "execution_count": 9,
     "metadata": {},
     "output_type": "execute_result"
    }
   ],
   "source": [
    "query = '''\n",
    "SELECT publishers.publisher, COUNT(books.book_id) AS books\n",
    "FROM books\n",
    "LEFT JOIN publishers ON books.publisher_id = publishers.publisher_id\n",
    "WHERE books.book_id IN\n",
    "    (SELECT books.book_id\n",
    "     FROM books\n",
    "     GROUP BY books.book_id\n",
    "     HAVING books.num_pages > 50)\n",
    "GROUP BY publishers.publisher\n",
    "ORDER BY COUNT(books.book_id) DESC\n",
    "LIMIT 1;\n",
    "\n",
    "'''\n",
    "pd.io.sql.read_sql(query, con = engine)"
   ]
  },
  {
   "cell_type": "markdown",
   "metadata": {},
   "source": [
    "Издательство Penguin Books выпустило наибольшее число книг толще 50 страниц, что составило 42 книги"
   ]
  },
  {
   "cell_type": "markdown",
   "metadata": {},
   "source": [
    "**Определите автора с самой высокой средней оценкой книг — учитывайте только книги с 50 и более оценками**"
   ]
  },
  {
   "cell_type": "code",
   "execution_count": 10,
   "metadata": {},
   "outputs": [
    {
     "data": {
      "text/html": [
       "<div>\n",
       "<style scoped>\n",
       "    .dataframe tbody tr th:only-of-type {\n",
       "        vertical-align: middle;\n",
       "    }\n",
       "\n",
       "    .dataframe tbody tr th {\n",
       "        vertical-align: top;\n",
       "    }\n",
       "\n",
       "    .dataframe thead th {\n",
       "        text-align: right;\n",
       "    }\n",
       "</style>\n",
       "<table border=\"1\" class=\"dataframe\">\n",
       "  <thead>\n",
       "    <tr style=\"text-align: right;\">\n",
       "      <th></th>\n",
       "      <th>author</th>\n",
       "      <th>mean_rating</th>\n",
       "    </tr>\n",
       "  </thead>\n",
       "  <tbody>\n",
       "    <tr>\n",
       "      <th>0</th>\n",
       "      <td>J.K. Rowling/Mary GrandPré</td>\n",
       "      <td>4.287097</td>\n",
       "    </tr>\n",
       "  </tbody>\n",
       "</table>\n",
       "</div>"
      ],
      "text/plain": [
       "                       author  mean_rating\n",
       "0  J.K. Rowling/Mary GrandPré     4.287097"
      ]
     },
     "execution_count": 10,
     "metadata": {},
     "output_type": "execute_result"
    }
   ],
   "source": [
    "query = '''\n",
    "SELECT authors.author, AVG(ratings.rating) as mean_rating\n",
    "FROM books\n",
    "LEFT JOIN authors ON books.author_id = authors.author_id\n",
    "LEFT JOIN ratings ON books.book_id = ratings.book_id\n",
    "WHERE books.book_id IN\n",
    "\n",
    "    (SELECT books.book_id\n",
    "     FROM books\n",
    "     LEFT JOIN ratings ON books.book_id = ratings.book_id\n",
    "            \n",
    "GROUP BY books.book_id\n",
    "HAVING count(ratings.rating) >= 50)\n",
    "\n",
    "GROUP BY authors.author\n",
    "ORDER BY AVG(ratings.rating) DESC\n",
    "LIMIT 1;\n",
    "\n",
    "'''\n",
    "pd.io.sql.read_sql(query, con = engine)"
   ]
  },
  {
   "cell_type": "markdown",
   "metadata": {},
   "source": [
    "Авторы J.K. Rowling/Mary GrandPré обладает самой высокой средней оценкой книг с более 50 проставленных оценок пользователя. Их рейтинг составил 4,3. "
   ]
  },
  {
   "cell_type": "markdown",
   "metadata": {},
   "source": [
    "**Посчитайте среднее количество обзоров от пользователей, которые поставили больше 50 оценок**"
   ]
  },
  {
   "cell_type": "code",
   "execution_count": 11,
   "metadata": {},
   "outputs": [
    {
     "data": {
      "text/html": [
       "<div>\n",
       "<style scoped>\n",
       "    .dataframe tbody tr th:only-of-type {\n",
       "        vertical-align: middle;\n",
       "    }\n",
       "\n",
       "    .dataframe tbody tr th {\n",
       "        vertical-align: top;\n",
       "    }\n",
       "\n",
       "    .dataframe thead th {\n",
       "        text-align: right;\n",
       "    }\n",
       "</style>\n",
       "<table border=\"1\" class=\"dataframe\">\n",
       "  <thead>\n",
       "    <tr style=\"text-align: right;\">\n",
       "      <th></th>\n",
       "      <th>avg</th>\n",
       "    </tr>\n",
       "  </thead>\n",
       "  <tbody>\n",
       "    <tr>\n",
       "      <th>0</th>\n",
       "      <td>24.333333</td>\n",
       "    </tr>\n",
       "  </tbody>\n",
       "</table>\n",
       "</div>"
      ],
      "text/plain": [
       "         avg\n",
       "0  24.333333"
      ]
     },
     "execution_count": 11,
     "metadata": {},
     "output_type": "execute_result"
    }
   ],
   "source": [
    "query = '''\n",
    "SELECT AVG(sub.count)\n",
    "FROM \n",
    "    (SELECT count(*)\n",
    "     FROM reviews\n",
    "     WHERE username IN\n",
    "         (SELECT username\n",
    "          FROM ratings\n",
    "          GROUP BY username\n",
    "          HAVING count(rating) > 50)\n",
    "    GROUP BY username) AS sub;\n",
    "\n",
    "'''\n",
    "pd.io.sql.read_sql(query, con = engine)"
   ]
  },
  {
   "cell_type": "markdown",
   "metadata": {},
   "source": [
    "Среднее количество обзоров от пользователей, которые поставили больше 50 оценок составило 24,3"
   ]
  }
 ],
 "metadata": {
  "ExecuteTimeLog": [
   {
    "duration": 11531,
    "start_time": "2022-07-29T04:22:08.304Z"
   },
   {
    "duration": 90,
    "start_time": "2022-07-29T04:22:19.837Z"
   },
   {
    "duration": 11,
    "start_time": "2022-07-29T04:22:32.779Z"
   },
   {
    "duration": 38,
    "start_time": "2022-07-29T04:22:45.249Z"
   },
   {
    "duration": 12,
    "start_time": "2022-07-29T04:22:54.997Z"
   },
   {
    "duration": 22,
    "start_time": "2022-07-29T04:23:04.366Z"
   },
   {
    "duration": 11,
    "start_time": "2022-07-29T04:23:27.533Z"
   },
   {
    "duration": 67,
    "start_time": "2022-07-29T04:24:09.034Z"
   },
   {
    "duration": 13,
    "start_time": "2022-07-29T04:24:45.208Z"
   },
   {
    "duration": 16,
    "start_time": "2022-07-29T04:25:16.631Z"
   },
   {
    "duration": 41,
    "start_time": "2022-07-29T04:25:44.847Z"
   },
   {
    "duration": 11408,
    "start_time": "2022-07-29T07:13:09.986Z"
   },
   {
    "duration": 257,
    "start_time": "2022-07-29T07:13:21.396Z"
   },
   {
    "duration": 74,
    "start_time": "2022-07-29T07:13:21.655Z"
   },
   {
    "duration": 73,
    "start_time": "2022-07-29T07:13:21.731Z"
   },
   {
    "duration": 75,
    "start_time": "2022-07-29T07:13:21.806Z"
   },
   {
    "duration": 76,
    "start_time": "2022-07-29T07:13:21.883Z"
   },
   {
    "duration": 74,
    "start_time": "2022-07-29T07:13:21.960Z"
   },
   {
    "duration": 120,
    "start_time": "2022-07-29T07:13:22.035Z"
   },
   {
    "duration": 77,
    "start_time": "2022-07-29T07:13:22.156Z"
   },
   {
    "duration": 79,
    "start_time": "2022-07-29T07:13:22.235Z"
   },
   {
    "duration": 76,
    "start_time": "2022-07-29T07:13:22.316Z"
   },
   {
    "duration": 56,
    "start_time": "2022-07-29T09:31:06.322Z"
   },
   {
    "duration": 7290,
    "start_time": "2022-07-29T09:31:17.914Z"
   },
   {
    "duration": 238,
    "start_time": "2022-07-29T09:31:25.206Z"
   },
   {
    "duration": 66,
    "start_time": "2022-07-29T09:31:25.445Z"
   },
   {
    "duration": 65,
    "start_time": "2022-07-29T09:31:25.513Z"
   },
   {
    "duration": 71,
    "start_time": "2022-07-29T09:31:25.580Z"
   },
   {
    "duration": 65,
    "start_time": "2022-07-29T09:31:25.653Z"
   },
   {
    "duration": 64,
    "start_time": "2022-07-29T09:31:25.719Z"
   },
   {
    "duration": 101,
    "start_time": "2022-07-29T09:31:25.785Z"
   },
   {
    "duration": 69,
    "start_time": "2022-07-29T09:31:25.887Z"
   },
   {
    "duration": 70,
    "start_time": "2022-07-29T09:31:25.958Z"
   },
   {
    "duration": 73,
    "start_time": "2022-07-29T09:31:26.029Z"
   },
   {
    "duration": 103,
    "start_time": "2022-07-29T09:31:39.891Z"
   },
   {
    "duration": 89,
    "start_time": "2022-07-29T09:32:02.412Z"
   },
   {
    "duration": 104,
    "start_time": "2022-07-29T09:32:10.497Z"
   },
   {
    "duration": 104,
    "start_time": "2022-07-29T09:36:56.784Z"
   },
   {
    "duration": 106,
    "start_time": "2022-07-29T09:37:15.562Z"
   },
   {
    "duration": 110,
    "start_time": "2022-07-29T09:37:28.157Z"
   },
   {
    "duration": 81,
    "start_time": "2022-07-29T09:38:24.196Z"
   },
   {
    "duration": 75,
    "start_time": "2022-07-29T09:38:24.884Z"
   },
   {
    "duration": 76,
    "start_time": "2022-07-29T09:38:25.532Z"
   },
   {
    "duration": 11429,
    "start_time": "2022-07-29T11:55:46.685Z"
   },
   {
    "duration": 94,
    "start_time": "2022-07-29T11:55:58.116Z"
   },
   {
    "duration": 10,
    "start_time": "2022-07-29T11:55:58.211Z"
   },
   {
    "duration": 10,
    "start_time": "2022-07-29T11:55:58.223Z"
   },
   {
    "duration": 10,
    "start_time": "2022-07-29T11:55:58.234Z"
   },
   {
    "duration": 10,
    "start_time": "2022-07-29T11:55:58.246Z"
   },
   {
    "duration": 69,
    "start_time": "2022-07-29T11:55:58.257Z"
   },
   {
    "duration": 34,
    "start_time": "2022-07-29T11:55:58.328Z"
   },
   {
    "duration": 11,
    "start_time": "2022-07-29T11:55:58.363Z"
   },
   {
    "duration": 14,
    "start_time": "2022-07-29T11:55:58.376Z"
   },
   {
    "duration": 11,
    "start_time": "2022-07-29T11:55:58.391Z"
   }
  ],
  "kernelspec": {
   "display_name": "Python 3 (ipykernel)",
   "language": "python",
   "name": "python3"
  },
  "language_info": {
   "codemirror_mode": {
    "name": "ipython",
    "version": 3
   },
   "file_extension": ".py",
   "mimetype": "text/x-python",
   "name": "python",
   "nbconvert_exporter": "python",
   "pygments_lexer": "ipython3",
   "version": "3.9.5"
  },
  "toc": {
   "base_numbering": 1,
   "nav_menu": {},
   "number_sections": true,
   "sideBar": true,
   "skip_h1_title": true,
   "title_cell": "Table of Contents",
   "title_sidebar": "Contents",
   "toc_cell": false,
   "toc_position": {},
   "toc_section_display": true,
   "toc_window_display": false
  }
 },
 "nbformat": 4,
 "nbformat_minor": 2
}
