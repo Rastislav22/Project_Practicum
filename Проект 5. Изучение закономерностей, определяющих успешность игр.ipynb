{
 "cells": [
  {
   "cell_type": "markdown",
   "metadata": {},
   "source": [
    "**\"СТРИМЧИК\" - закономерности, определяющие успешность игр планирования рекламных стратегий**  \n",
    "\n",
    "**Шаг 1. Откройте файл с данными и изучите общую информацию**\n",
    "\n",
    "Путь к файлу: /datasets/games.csv. Скачать датасет\n",
    "\n",
    "**Done------------------**\n",
    "\n",
    "**Шаг 2. Подготовьте данные**\n",
    "\n",
    "Замените названия столбцов (приведите к нижнему регистру);\n",
    "\n",
    "Преобразуйте данные в нужные типы. Опишите, в каких столбцах заменили тип данных и почему;\n",
    "\n",
    "Обработайте пропуски при необходимости:\n",
    "\n",
    "Объясните, почему заполнили пропуски определённым образом или почему не стали это делать;\n",
    "\n",
    "Опишите причины, которые могли привести к пропускам;\n",
    "\n",
    "Обратите внимание на аббревиатуру 'tbd' в столбце с оценкой пользователей. Отдельно разберите это значение и опишите, как его обработать;\n",
    "\n",
    "Посчитайте суммарные продажи во всех регионах и запишите их в отдельный столбец.\n",
    "\n",
    "**Done------------------**\n",
    "\n",
    "\n",
    "**Шаг 3. Проведите исследовательский анализ данных**\n",
    "\n",
    "Посмотрите, сколько игр выпускалось в разные годы. Важны ли данные за все периоды?\n",
    "\n",
    "Посмотрите, как менялись продажи по платформам. Выберите платформы с наибольшими суммарными продажами и постройте распределение по годам. За какой характерный срок появляются новые и исчезают старые платформы?\n",
    "\n",
    "Возьмите данные за соответствующий актуальный период. Актуальный период определите самостоятельно в результате исследования предыдущих вопросов. Основной фактор — эти данные помогут построить прогноз на 2017 год.\n",
    "Не учитывайте в работе данные за предыдущие годы.\n",
    "\n",
    "Какие платформы лидируют по продажам, растут или падают? Выберите несколько потенциально прибыльных платформ.\n",
    "\n",
    "Постройте график «ящик с усами» по глобальным продажам игр в разбивке по платформам. Опишите результат.\n",
    "\n",
    "Посмотрите, как влияют на продажи внутри одной популярной платформы отзывы пользователей и критиков. Постройте диаграмму рассеяния и посчитайте корреляцию между отзывами и продажами. Сформулируйте выводы.\n",
    "\n",
    "Соотнесите выводы с продажами игр на других платформах.\n",
    "\n",
    "Посмотрите на общее распределение игр по жанрам. Что можно сказать о самых прибыльных жанрах? Выделяются ли жанры с высокими и низкими продажами?\n",
    "\n",
    "**Done------------------**\n",
    "\n",
    "\n",
    "**Шаг 4. Составьте портрет пользователя каждого региона**\n",
    "\n",
    "Определите для пользователя каждого региона (NA, EU, JP):\n",
    "\n",
    "Самые популярные платформы (топ-5). Опишите различия в долях продаж.\n",
    "\n",
    "Самые популярные жанры (топ-5). Поясните разницу.\n",
    "\n",
    "Влияет ли рейтинг ESRB на продажи в отдельном регионе?\n",
    "\n",
    "\n",
    "\n",
    "**Шаг 5. Проверьте гипотезы**\n",
    "\n",
    "Средние пользовательские рейтинги платформ Xbox One и PC одинаковые;\n",
    "\n",
    "Средние пользовательские рейтинги жанров Action (англ. «действие», экшен-игры) и Sports (англ. «спортивные соревнования») разные.\n",
    "\n",
    "Задайте самостоятельно пороговое значение alpha.\n",
    "\n",
    "Поясните:\n",
    "\n",
    "Как вы сформулировали нулевую и альтернативную гипотезы;\n",
    "\n",
    "Какой критерий применили для проверки гипотез и почему.\n",
    "\n",
    "\n",
    "\n",
    "**Шаг 6. Напишите общий вывод**\n",
    "\n",
    "\n",
    "**---------------------------------------------------------------------------------------------------------------**\n",
    "\n",
    "**ЦЕЛИ:**\n",
    "\n",
    "1. Нужно отработать принцип работы с данными;\n",
    "\n",
    "2. Нужно выявить определяющие успешность игры закономерности;\n",
    "\n",
    "3. Дать рекоммендации для планирования рекламных компаний.\n",
    "\n",
    "**ОПИСАНИЕ ДАННЫХ**\n",
    "\n",
    "Name — название игры\n",
    "\n",
    "Platform — платформа\n",
    "\n",
    "Year_of_Release — год выпуска\n",
    "\n",
    "Genre — жанр игры\n",
    "\n",
    "NA_sales — продажи в Северной Америке (миллионы проданных копий)\n",
    "\n",
    "EU_sales — продажи в Европе (миллионы проданных копий)\n",
    "\n",
    "JP_sales — продажи в Японии (миллионы проданных копий)\n",
    "\n",
    "Other_sales — продажи в других странах (миллионы проданных копий)\n",
    "\n",
    "Critic_Score — оценка критиков (максимум 100)\n",
    "\n",
    "User_Score — оценка пользователей (максимум 10)\n",
    "\n",
    "Rating — рейтинг от организации ESRB (англ. Entertainment Software Rating Board). Эта ассоциация определяет рейтинг компьютерных игр и присваивает им подходящую возрастную категорию."
   ]
  },
  {
   "cell_type": "markdown",
   "metadata": {},
   "source": [
    "**1. ИЗУЧИМ ДАННЫЕ**"
   ]
  },
  {
   "cell_type": "code",
   "execution_count": 43,
   "metadata": {},
   "outputs": [],
   "source": [
    "import pandas as pd\n",
    "import numpy as np\n",
    "import matplotlib.pyplot as plt\n",
    "\n",
    "from datetime import datetime\n",
    "from scipy import stats as st"
   ]
  },
  {
   "cell_type": "code",
   "execution_count": 44,
   "metadata": {},
   "outputs": [
    {
     "data": {
      "text/html": [
       "<div>\n",
       "<style scoped>\n",
       "    .dataframe tbody tr th:only-of-type {\n",
       "        vertical-align: middle;\n",
       "    }\n",
       "\n",
       "    .dataframe tbody tr th {\n",
       "        vertical-align: top;\n",
       "    }\n",
       "\n",
       "    .dataframe thead th {\n",
       "        text-align: right;\n",
       "    }\n",
       "</style>\n",
       "<table border=\"1\" class=\"dataframe\">\n",
       "  <thead>\n",
       "    <tr style=\"text-align: right;\">\n",
       "      <th></th>\n",
       "      <th>Name</th>\n",
       "      <th>Platform</th>\n",
       "      <th>Year_of_Release</th>\n",
       "      <th>Genre</th>\n",
       "      <th>NA_sales</th>\n",
       "      <th>EU_sales</th>\n",
       "      <th>JP_sales</th>\n",
       "      <th>Other_sales</th>\n",
       "      <th>Critic_Score</th>\n",
       "      <th>User_Score</th>\n",
       "      <th>Rating</th>\n",
       "    </tr>\n",
       "  </thead>\n",
       "  <tbody>\n",
       "    <tr>\n",
       "      <th>0</th>\n",
       "      <td>Wii Sports</td>\n",
       "      <td>Wii</td>\n",
       "      <td>2006.0</td>\n",
       "      <td>Sports</td>\n",
       "      <td>41.36</td>\n",
       "      <td>28.96</td>\n",
       "      <td>3.77</td>\n",
       "      <td>8.45</td>\n",
       "      <td>76.0</td>\n",
       "      <td>8</td>\n",
       "      <td>E</td>\n",
       "    </tr>\n",
       "    <tr>\n",
       "      <th>1</th>\n",
       "      <td>Super Mario Bros.</td>\n",
       "      <td>NES</td>\n",
       "      <td>1985.0</td>\n",
       "      <td>Platform</td>\n",
       "      <td>29.08</td>\n",
       "      <td>3.58</td>\n",
       "      <td>6.81</td>\n",
       "      <td>0.77</td>\n",
       "      <td>NaN</td>\n",
       "      <td>NaN</td>\n",
       "      <td>NaN</td>\n",
       "    </tr>\n",
       "    <tr>\n",
       "      <th>2</th>\n",
       "      <td>Mario Kart Wii</td>\n",
       "      <td>Wii</td>\n",
       "      <td>2008.0</td>\n",
       "      <td>Racing</td>\n",
       "      <td>15.68</td>\n",
       "      <td>12.76</td>\n",
       "      <td>3.79</td>\n",
       "      <td>3.29</td>\n",
       "      <td>82.0</td>\n",
       "      <td>8.3</td>\n",
       "      <td>E</td>\n",
       "    </tr>\n",
       "    <tr>\n",
       "      <th>3</th>\n",
       "      <td>Wii Sports Resort</td>\n",
       "      <td>Wii</td>\n",
       "      <td>2009.0</td>\n",
       "      <td>Sports</td>\n",
       "      <td>15.61</td>\n",
       "      <td>10.93</td>\n",
       "      <td>3.28</td>\n",
       "      <td>2.95</td>\n",
       "      <td>80.0</td>\n",
       "      <td>8</td>\n",
       "      <td>E</td>\n",
       "    </tr>\n",
       "    <tr>\n",
       "      <th>4</th>\n",
       "      <td>Pokemon Red/Pokemon Blue</td>\n",
       "      <td>GB</td>\n",
       "      <td>1996.0</td>\n",
       "      <td>Role-Playing</td>\n",
       "      <td>11.27</td>\n",
       "      <td>8.89</td>\n",
       "      <td>10.22</td>\n",
       "      <td>1.00</td>\n",
       "      <td>NaN</td>\n",
       "      <td>NaN</td>\n",
       "      <td>NaN</td>\n",
       "    </tr>\n",
       "    <tr>\n",
       "      <th>5</th>\n",
       "      <td>Tetris</td>\n",
       "      <td>GB</td>\n",
       "      <td>1989.0</td>\n",
       "      <td>Puzzle</td>\n",
       "      <td>23.20</td>\n",
       "      <td>2.26</td>\n",
       "      <td>4.22</td>\n",
       "      <td>0.58</td>\n",
       "      <td>NaN</td>\n",
       "      <td>NaN</td>\n",
       "      <td>NaN</td>\n",
       "    </tr>\n",
       "    <tr>\n",
       "      <th>6</th>\n",
       "      <td>New Super Mario Bros.</td>\n",
       "      <td>DS</td>\n",
       "      <td>2006.0</td>\n",
       "      <td>Platform</td>\n",
       "      <td>11.28</td>\n",
       "      <td>9.14</td>\n",
       "      <td>6.50</td>\n",
       "      <td>2.88</td>\n",
       "      <td>89.0</td>\n",
       "      <td>8.5</td>\n",
       "      <td>E</td>\n",
       "    </tr>\n",
       "    <tr>\n",
       "      <th>7</th>\n",
       "      <td>Wii Play</td>\n",
       "      <td>Wii</td>\n",
       "      <td>2006.0</td>\n",
       "      <td>Misc</td>\n",
       "      <td>13.96</td>\n",
       "      <td>9.18</td>\n",
       "      <td>2.93</td>\n",
       "      <td>2.84</td>\n",
       "      <td>58.0</td>\n",
       "      <td>6.6</td>\n",
       "      <td>E</td>\n",
       "    </tr>\n",
       "    <tr>\n",
       "      <th>8</th>\n",
       "      <td>New Super Mario Bros. Wii</td>\n",
       "      <td>Wii</td>\n",
       "      <td>2009.0</td>\n",
       "      <td>Platform</td>\n",
       "      <td>14.44</td>\n",
       "      <td>6.94</td>\n",
       "      <td>4.70</td>\n",
       "      <td>2.24</td>\n",
       "      <td>87.0</td>\n",
       "      <td>8.4</td>\n",
       "      <td>E</td>\n",
       "    </tr>\n",
       "    <tr>\n",
       "      <th>9</th>\n",
       "      <td>Duck Hunt</td>\n",
       "      <td>NES</td>\n",
       "      <td>1984.0</td>\n",
       "      <td>Shooter</td>\n",
       "      <td>26.93</td>\n",
       "      <td>0.63</td>\n",
       "      <td>0.28</td>\n",
       "      <td>0.47</td>\n",
       "      <td>NaN</td>\n",
       "      <td>NaN</td>\n",
       "      <td>NaN</td>\n",
       "    </tr>\n",
       "  </tbody>\n",
       "</table>\n",
       "</div>"
      ],
      "text/plain": [
       "                        Name Platform  Year_of_Release         Genre  \\\n",
       "0                 Wii Sports      Wii           2006.0        Sports   \n",
       "1          Super Mario Bros.      NES           1985.0      Platform   \n",
       "2             Mario Kart Wii      Wii           2008.0        Racing   \n",
       "3          Wii Sports Resort      Wii           2009.0        Sports   \n",
       "4   Pokemon Red/Pokemon Blue       GB           1996.0  Role-Playing   \n",
       "5                     Tetris       GB           1989.0        Puzzle   \n",
       "6      New Super Mario Bros.       DS           2006.0      Platform   \n",
       "7                   Wii Play      Wii           2006.0          Misc   \n",
       "8  New Super Mario Bros. Wii      Wii           2009.0      Platform   \n",
       "9                  Duck Hunt      NES           1984.0       Shooter   \n",
       "\n",
       "   NA_sales  EU_sales  JP_sales  Other_sales  Critic_Score User_Score Rating  \n",
       "0     41.36     28.96      3.77         8.45          76.0          8      E  \n",
       "1     29.08      3.58      6.81         0.77           NaN        NaN    NaN  \n",
       "2     15.68     12.76      3.79         3.29          82.0        8.3      E  \n",
       "3     15.61     10.93      3.28         2.95          80.0          8      E  \n",
       "4     11.27      8.89     10.22         1.00           NaN        NaN    NaN  \n",
       "5     23.20      2.26      4.22         0.58           NaN        NaN    NaN  \n",
       "6     11.28      9.14      6.50         2.88          89.0        8.5      E  \n",
       "7     13.96      9.18      2.93         2.84          58.0        6.6      E  \n",
       "8     14.44      6.94      4.70         2.24          87.0        8.4      E  \n",
       "9     26.93      0.63      0.28         0.47           NaN        NaN    NaN  "
      ]
     },
     "metadata": {},
     "output_type": "display_data"
    },
    {
     "data": {
      "text/html": [
       "<div>\n",
       "<style scoped>\n",
       "    .dataframe tbody tr th:only-of-type {\n",
       "        vertical-align: middle;\n",
       "    }\n",
       "\n",
       "    .dataframe tbody tr th {\n",
       "        vertical-align: top;\n",
       "    }\n",
       "\n",
       "    .dataframe thead th {\n",
       "        text-align: right;\n",
       "    }\n",
       "</style>\n",
       "<table border=\"1\" class=\"dataframe\">\n",
       "  <thead>\n",
       "    <tr style=\"text-align: right;\">\n",
       "      <th></th>\n",
       "      <th>Year_of_Release</th>\n",
       "      <th>NA_sales</th>\n",
       "      <th>EU_sales</th>\n",
       "      <th>JP_sales</th>\n",
       "      <th>Other_sales</th>\n",
       "      <th>Critic_Score</th>\n",
       "    </tr>\n",
       "  </thead>\n",
       "  <tbody>\n",
       "    <tr>\n",
       "      <th>count</th>\n",
       "      <td>16446.000000</td>\n",
       "      <td>16715.000000</td>\n",
       "      <td>16715.000000</td>\n",
       "      <td>16715.000000</td>\n",
       "      <td>16715.000000</td>\n",
       "      <td>8137.000000</td>\n",
       "    </tr>\n",
       "    <tr>\n",
       "      <th>mean</th>\n",
       "      <td>2006.484616</td>\n",
       "      <td>0.263377</td>\n",
       "      <td>0.145060</td>\n",
       "      <td>0.077617</td>\n",
       "      <td>0.047342</td>\n",
       "      <td>68.967679</td>\n",
       "    </tr>\n",
       "    <tr>\n",
       "      <th>std</th>\n",
       "      <td>5.877050</td>\n",
       "      <td>0.813604</td>\n",
       "      <td>0.503339</td>\n",
       "      <td>0.308853</td>\n",
       "      <td>0.186731</td>\n",
       "      <td>13.938165</td>\n",
       "    </tr>\n",
       "    <tr>\n",
       "      <th>min</th>\n",
       "      <td>1980.000000</td>\n",
       "      <td>0.000000</td>\n",
       "      <td>0.000000</td>\n",
       "      <td>0.000000</td>\n",
       "      <td>0.000000</td>\n",
       "      <td>13.000000</td>\n",
       "    </tr>\n",
       "    <tr>\n",
       "      <th>25%</th>\n",
       "      <td>2003.000000</td>\n",
       "      <td>0.000000</td>\n",
       "      <td>0.000000</td>\n",
       "      <td>0.000000</td>\n",
       "      <td>0.000000</td>\n",
       "      <td>60.000000</td>\n",
       "    </tr>\n",
       "    <tr>\n",
       "      <th>50%</th>\n",
       "      <td>2007.000000</td>\n",
       "      <td>0.080000</td>\n",
       "      <td>0.020000</td>\n",
       "      <td>0.000000</td>\n",
       "      <td>0.010000</td>\n",
       "      <td>71.000000</td>\n",
       "    </tr>\n",
       "    <tr>\n",
       "      <th>75%</th>\n",
       "      <td>2010.000000</td>\n",
       "      <td>0.240000</td>\n",
       "      <td>0.110000</td>\n",
       "      <td>0.040000</td>\n",
       "      <td>0.030000</td>\n",
       "      <td>79.000000</td>\n",
       "    </tr>\n",
       "    <tr>\n",
       "      <th>max</th>\n",
       "      <td>2016.000000</td>\n",
       "      <td>41.360000</td>\n",
       "      <td>28.960000</td>\n",
       "      <td>10.220000</td>\n",
       "      <td>10.570000</td>\n",
       "      <td>98.000000</td>\n",
       "    </tr>\n",
       "  </tbody>\n",
       "</table>\n",
       "</div>"
      ],
      "text/plain": [
       "       Year_of_Release      NA_sales      EU_sales      JP_sales  \\\n",
       "count     16446.000000  16715.000000  16715.000000  16715.000000   \n",
       "mean       2006.484616      0.263377      0.145060      0.077617   \n",
       "std           5.877050      0.813604      0.503339      0.308853   \n",
       "min        1980.000000      0.000000      0.000000      0.000000   \n",
       "25%        2003.000000      0.000000      0.000000      0.000000   \n",
       "50%        2007.000000      0.080000      0.020000      0.000000   \n",
       "75%        2010.000000      0.240000      0.110000      0.040000   \n",
       "max        2016.000000     41.360000     28.960000     10.220000   \n",
       "\n",
       "        Other_sales  Critic_Score  \n",
       "count  16715.000000   8137.000000  \n",
       "mean       0.047342     68.967679  \n",
       "std        0.186731     13.938165  \n",
       "min        0.000000     13.000000  \n",
       "25%        0.000000     60.000000  \n",
       "50%        0.010000     71.000000  \n",
       "75%        0.030000     79.000000  \n",
       "max       10.570000     98.000000  "
      ]
     },
     "metadata": {},
     "output_type": "display_data"
    },
    {
     "name": "stdout",
     "output_type": "stream",
     "text": [
      "<class 'pandas.core.frame.DataFrame'>\n",
      "RangeIndex: 16715 entries, 0 to 16714\n",
      "Data columns (total 11 columns):\n",
      " #   Column           Non-Null Count  Dtype  \n",
      "---  ------           --------------  -----  \n",
      " 0   Name             16713 non-null  object \n",
      " 1   Platform         16715 non-null  object \n",
      " 2   Year_of_Release  16446 non-null  float64\n",
      " 3   Genre            16713 non-null  object \n",
      " 4   NA_sales         16715 non-null  float64\n",
      " 5   EU_sales         16715 non-null  float64\n",
      " 6   JP_sales         16715 non-null  float64\n",
      " 7   Other_sales      16715 non-null  float64\n",
      " 8   Critic_Score     8137 non-null   float64\n",
      " 9   User_Score       10014 non-null  object \n",
      " 10  Rating           9949 non-null   object \n",
      "dtypes: float64(6), object(5)\n",
      "memory usage: 1.4+ MB\n"
     ]
    }
   ],
   "source": [
    "games = pd.read_csv('/datasets/games.csv')\n",
    "display(games.head(10))\n",
    "display(games.describe())\n",
    "games.info()"
   ]
  },
  {
   "cell_type": "markdown",
   "metadata": {},
   "source": [
    "*Есть пропуски, не все строки в корректном формате, есть NANы. Проведем предобработку данных.*"
   ]
  },
  {
   "cell_type": "markdown",
   "metadata": {},
   "source": [
    "**2. ПОДГОТОВИМ ДАННЫЕ**"
   ]
  },
  {
   "cell_type": "markdown",
   "metadata": {},
   "source": [
    "**Заменим название столбцов по нижнему регистру**"
   ]
  },
  {
   "cell_type": "code",
   "execution_count": 45,
   "metadata": {},
   "outputs": [
    {
     "data": {
      "text/html": [
       "<div>\n",
       "<style scoped>\n",
       "    .dataframe tbody tr th:only-of-type {\n",
       "        vertical-align: middle;\n",
       "    }\n",
       "\n",
       "    .dataframe tbody tr th {\n",
       "        vertical-align: top;\n",
       "    }\n",
       "\n",
       "    .dataframe thead th {\n",
       "        text-align: right;\n",
       "    }\n",
       "</style>\n",
       "<table border=\"1\" class=\"dataframe\">\n",
       "  <thead>\n",
       "    <tr style=\"text-align: right;\">\n",
       "      <th></th>\n",
       "      <th>name</th>\n",
       "      <th>platform</th>\n",
       "      <th>year_of_release</th>\n",
       "      <th>genre</th>\n",
       "      <th>na_sales</th>\n",
       "      <th>eu_sales</th>\n",
       "      <th>jp_sales</th>\n",
       "      <th>other_sales</th>\n",
       "      <th>critic_score</th>\n",
       "      <th>user_score</th>\n",
       "      <th>rating</th>\n",
       "    </tr>\n",
       "  </thead>\n",
       "  <tbody>\n",
       "    <tr>\n",
       "      <th>0</th>\n",
       "      <td>Wii Sports</td>\n",
       "      <td>Wii</td>\n",
       "      <td>2006.0</td>\n",
       "      <td>Sports</td>\n",
       "      <td>41.36</td>\n",
       "      <td>28.96</td>\n",
       "      <td>3.77</td>\n",
       "      <td>8.45</td>\n",
       "      <td>76.0</td>\n",
       "      <td>8</td>\n",
       "      <td>E</td>\n",
       "    </tr>\n",
       "    <tr>\n",
       "      <th>1</th>\n",
       "      <td>Super Mario Bros.</td>\n",
       "      <td>NES</td>\n",
       "      <td>1985.0</td>\n",
       "      <td>Platform</td>\n",
       "      <td>29.08</td>\n",
       "      <td>3.58</td>\n",
       "      <td>6.81</td>\n",
       "      <td>0.77</td>\n",
       "      <td>NaN</td>\n",
       "      <td>NaN</td>\n",
       "      <td>NaN</td>\n",
       "    </tr>\n",
       "    <tr>\n",
       "      <th>2</th>\n",
       "      <td>Mario Kart Wii</td>\n",
       "      <td>Wii</td>\n",
       "      <td>2008.0</td>\n",
       "      <td>Racing</td>\n",
       "      <td>15.68</td>\n",
       "      <td>12.76</td>\n",
       "      <td>3.79</td>\n",
       "      <td>3.29</td>\n",
       "      <td>82.0</td>\n",
       "      <td>8.3</td>\n",
       "      <td>E</td>\n",
       "    </tr>\n",
       "    <tr>\n",
       "      <th>3</th>\n",
       "      <td>Wii Sports Resort</td>\n",
       "      <td>Wii</td>\n",
       "      <td>2009.0</td>\n",
       "      <td>Sports</td>\n",
       "      <td>15.61</td>\n",
       "      <td>10.93</td>\n",
       "      <td>3.28</td>\n",
       "      <td>2.95</td>\n",
       "      <td>80.0</td>\n",
       "      <td>8</td>\n",
       "      <td>E</td>\n",
       "    </tr>\n",
       "    <tr>\n",
       "      <th>4</th>\n",
       "      <td>Pokemon Red/Pokemon Blue</td>\n",
       "      <td>GB</td>\n",
       "      <td>1996.0</td>\n",
       "      <td>Role-Playing</td>\n",
       "      <td>11.27</td>\n",
       "      <td>8.89</td>\n",
       "      <td>10.22</td>\n",
       "      <td>1.00</td>\n",
       "      <td>NaN</td>\n",
       "      <td>NaN</td>\n",
       "      <td>NaN</td>\n",
       "    </tr>\n",
       "    <tr>\n",
       "      <th>5</th>\n",
       "      <td>Tetris</td>\n",
       "      <td>GB</td>\n",
       "      <td>1989.0</td>\n",
       "      <td>Puzzle</td>\n",
       "      <td>23.20</td>\n",
       "      <td>2.26</td>\n",
       "      <td>4.22</td>\n",
       "      <td>0.58</td>\n",
       "      <td>NaN</td>\n",
       "      <td>NaN</td>\n",
       "      <td>NaN</td>\n",
       "    </tr>\n",
       "    <tr>\n",
       "      <th>6</th>\n",
       "      <td>New Super Mario Bros.</td>\n",
       "      <td>DS</td>\n",
       "      <td>2006.0</td>\n",
       "      <td>Platform</td>\n",
       "      <td>11.28</td>\n",
       "      <td>9.14</td>\n",
       "      <td>6.50</td>\n",
       "      <td>2.88</td>\n",
       "      <td>89.0</td>\n",
       "      <td>8.5</td>\n",
       "      <td>E</td>\n",
       "    </tr>\n",
       "    <tr>\n",
       "      <th>7</th>\n",
       "      <td>Wii Play</td>\n",
       "      <td>Wii</td>\n",
       "      <td>2006.0</td>\n",
       "      <td>Misc</td>\n",
       "      <td>13.96</td>\n",
       "      <td>9.18</td>\n",
       "      <td>2.93</td>\n",
       "      <td>2.84</td>\n",
       "      <td>58.0</td>\n",
       "      <td>6.6</td>\n",
       "      <td>E</td>\n",
       "    </tr>\n",
       "    <tr>\n",
       "      <th>8</th>\n",
       "      <td>New Super Mario Bros. Wii</td>\n",
       "      <td>Wii</td>\n",
       "      <td>2009.0</td>\n",
       "      <td>Platform</td>\n",
       "      <td>14.44</td>\n",
       "      <td>6.94</td>\n",
       "      <td>4.70</td>\n",
       "      <td>2.24</td>\n",
       "      <td>87.0</td>\n",
       "      <td>8.4</td>\n",
       "      <td>E</td>\n",
       "    </tr>\n",
       "    <tr>\n",
       "      <th>9</th>\n",
       "      <td>Duck Hunt</td>\n",
       "      <td>NES</td>\n",
       "      <td>1984.0</td>\n",
       "      <td>Shooter</td>\n",
       "      <td>26.93</td>\n",
       "      <td>0.63</td>\n",
       "      <td>0.28</td>\n",
       "      <td>0.47</td>\n",
       "      <td>NaN</td>\n",
       "      <td>NaN</td>\n",
       "      <td>NaN</td>\n",
       "    </tr>\n",
       "  </tbody>\n",
       "</table>\n",
       "</div>"
      ],
      "text/plain": [
       "                        name platform  year_of_release         genre  \\\n",
       "0                 Wii Sports      Wii           2006.0        Sports   \n",
       "1          Super Mario Bros.      NES           1985.0      Platform   \n",
       "2             Mario Kart Wii      Wii           2008.0        Racing   \n",
       "3          Wii Sports Resort      Wii           2009.0        Sports   \n",
       "4   Pokemon Red/Pokemon Blue       GB           1996.0  Role-Playing   \n",
       "5                     Tetris       GB           1989.0        Puzzle   \n",
       "6      New Super Mario Bros.       DS           2006.0      Platform   \n",
       "7                   Wii Play      Wii           2006.0          Misc   \n",
       "8  New Super Mario Bros. Wii      Wii           2009.0      Platform   \n",
       "9                  Duck Hunt      NES           1984.0       Shooter   \n",
       "\n",
       "   na_sales  eu_sales  jp_sales  other_sales  critic_score user_score rating  \n",
       "0     41.36     28.96      3.77         8.45          76.0          8      E  \n",
       "1     29.08      3.58      6.81         0.77           NaN        NaN    NaN  \n",
       "2     15.68     12.76      3.79         3.29          82.0        8.3      E  \n",
       "3     15.61     10.93      3.28         2.95          80.0          8      E  \n",
       "4     11.27      8.89     10.22         1.00           NaN        NaN    NaN  \n",
       "5     23.20      2.26      4.22         0.58           NaN        NaN    NaN  \n",
       "6     11.28      9.14      6.50         2.88          89.0        8.5      E  \n",
       "7     13.96      9.18      2.93         2.84          58.0        6.6      E  \n",
       "8     14.44      6.94      4.70         2.24          87.0        8.4      E  \n",
       "9     26.93      0.63      0.28         0.47           NaN        NaN    NaN  "
      ]
     },
     "execution_count": 45,
     "metadata": {},
     "output_type": "execute_result"
    }
   ],
   "source": [
    "games = games.rename(columns=str.lower)\n",
    "games.head(10)"
   ]
  },
  {
   "cell_type": "markdown",
   "metadata": {},
   "source": [
    "**Преобразуем данные в нужные типы**"
   ]
  },
  {
   "cell_type": "code",
   "execution_count": 46,
   "metadata": {},
   "outputs": [
    {
     "name": "stdout",
     "output_type": "stream",
     "text": [
      "<class 'pandas.core.frame.DataFrame'>\n",
      "RangeIndex: 16715 entries, 0 to 16714\n",
      "Data columns (total 11 columns):\n",
      " #   Column           Non-Null Count  Dtype  \n",
      "---  ------           --------------  -----  \n",
      " 0   name             16713 non-null  object \n",
      " 1   platform         16715 non-null  object \n",
      " 2   year_of_release  16446 non-null  float64\n",
      " 3   genre            16713 non-null  object \n",
      " 4   na_sales         16715 non-null  float64\n",
      " 5   eu_sales         16715 non-null  float64\n",
      " 6   jp_sales         16715 non-null  float64\n",
      " 7   other_sales      16715 non-null  float64\n",
      " 8   critic_score     8137 non-null   float64\n",
      " 9   user_score       10014 non-null  object \n",
      " 10  rating           9949 non-null   object \n",
      "dtypes: float64(6), object(5)\n",
      "memory usage: 1.4+ MB\n"
     ]
    }
   ],
   "source": [
    "games.info()"
   ]
  },
  {
   "cell_type": "markdown",
   "metadata": {},
   "source": [
    "*1. Год преобразуем к формату int*\n",
    "\n",
    "*2. User score к формату float64*"
   ]
  },
  {
   "cell_type": "code",
   "execution_count": 47,
   "metadata": {},
   "outputs": [
    {
     "data": {
      "text/plain": [
       "array([2006., 1985., 2008., 2009., 1996., 1989., 1984., 2005., 1999.,\n",
       "       2007., 2010., 2013., 2004., 1990., 1988., 2002., 2001., 2011.,\n",
       "       1998., 2015., 2012., 2014., 1992., 1997., 1993., 1994., 1982.,\n",
       "       2016., 2003., 1986., 2000.,   nan, 1995., 1991., 1981., 1987.,\n",
       "       1980., 1983.])"
      ]
     },
     "metadata": {},
     "output_type": "display_data"
    },
    {
     "data": {
      "text/plain": [
       "269"
      ]
     },
     "execution_count": 47,
     "metadata": {},
     "output_type": "execute_result"
    }
   ],
   "source": [
    "display(games['year_of_release'].unique())\n",
    "games['year_of_release'].isna().sum()\n",
    "#games['year_of_release'].value_counts()"
   ]
  },
  {
   "cell_type": "code",
   "execution_count": 48,
   "metadata": {},
   "outputs": [
    {
     "data": {
      "text/html": [
       "<div>\n",
       "<style scoped>\n",
       "    .dataframe tbody tr th:only-of-type {\n",
       "        vertical-align: middle;\n",
       "    }\n",
       "\n",
       "    .dataframe tbody tr th {\n",
       "        vertical-align: top;\n",
       "    }\n",
       "\n",
       "    .dataframe thead th {\n",
       "        text-align: right;\n",
       "    }\n",
       "</style>\n",
       "<table border=\"1\" class=\"dataframe\">\n",
       "  <thead>\n",
       "    <tr style=\"text-align: right;\">\n",
       "      <th></th>\n",
       "      <th>name</th>\n",
       "      <th>platform</th>\n",
       "      <th>year_of_release</th>\n",
       "      <th>genre</th>\n",
       "      <th>na_sales</th>\n",
       "      <th>eu_sales</th>\n",
       "      <th>jp_sales</th>\n",
       "      <th>other_sales</th>\n",
       "      <th>critic_score</th>\n",
       "      <th>user_score</th>\n",
       "      <th>rating</th>\n",
       "    </tr>\n",
       "  </thead>\n",
       "  <tbody>\n",
       "    <tr>\n",
       "      <th>0</th>\n",
       "      <td>Wii Sports</td>\n",
       "      <td>Wii</td>\n",
       "      <td>2006</td>\n",
       "      <td>Sports</td>\n",
       "      <td>41.36</td>\n",
       "      <td>28.96</td>\n",
       "      <td>3.77</td>\n",
       "      <td>8.45</td>\n",
       "      <td>76.0</td>\n",
       "      <td>8</td>\n",
       "      <td>E</td>\n",
       "    </tr>\n",
       "    <tr>\n",
       "      <th>1</th>\n",
       "      <td>Super Mario Bros.</td>\n",
       "      <td>NES</td>\n",
       "      <td>1985</td>\n",
       "      <td>Platform</td>\n",
       "      <td>29.08</td>\n",
       "      <td>3.58</td>\n",
       "      <td>6.81</td>\n",
       "      <td>0.77</td>\n",
       "      <td>NaN</td>\n",
       "      <td>NaN</td>\n",
       "      <td>NaN</td>\n",
       "    </tr>\n",
       "    <tr>\n",
       "      <th>2</th>\n",
       "      <td>Mario Kart Wii</td>\n",
       "      <td>Wii</td>\n",
       "      <td>2008</td>\n",
       "      <td>Racing</td>\n",
       "      <td>15.68</td>\n",
       "      <td>12.76</td>\n",
       "      <td>3.79</td>\n",
       "      <td>3.29</td>\n",
       "      <td>82.0</td>\n",
       "      <td>8.3</td>\n",
       "      <td>E</td>\n",
       "    </tr>\n",
       "    <tr>\n",
       "      <th>3</th>\n",
       "      <td>Wii Sports Resort</td>\n",
       "      <td>Wii</td>\n",
       "      <td>2009</td>\n",
       "      <td>Sports</td>\n",
       "      <td>15.61</td>\n",
       "      <td>10.93</td>\n",
       "      <td>3.28</td>\n",
       "      <td>2.95</td>\n",
       "      <td>80.0</td>\n",
       "      <td>8</td>\n",
       "      <td>E</td>\n",
       "    </tr>\n",
       "    <tr>\n",
       "      <th>4</th>\n",
       "      <td>Pokemon Red/Pokemon Blue</td>\n",
       "      <td>GB</td>\n",
       "      <td>1996</td>\n",
       "      <td>Role-Playing</td>\n",
       "      <td>11.27</td>\n",
       "      <td>8.89</td>\n",
       "      <td>10.22</td>\n",
       "      <td>1.00</td>\n",
       "      <td>NaN</td>\n",
       "      <td>NaN</td>\n",
       "      <td>NaN</td>\n",
       "    </tr>\n",
       "    <tr>\n",
       "      <th>5</th>\n",
       "      <td>Tetris</td>\n",
       "      <td>GB</td>\n",
       "      <td>1989</td>\n",
       "      <td>Puzzle</td>\n",
       "      <td>23.20</td>\n",
       "      <td>2.26</td>\n",
       "      <td>4.22</td>\n",
       "      <td>0.58</td>\n",
       "      <td>NaN</td>\n",
       "      <td>NaN</td>\n",
       "      <td>NaN</td>\n",
       "    </tr>\n",
       "    <tr>\n",
       "      <th>6</th>\n",
       "      <td>New Super Mario Bros.</td>\n",
       "      <td>DS</td>\n",
       "      <td>2006</td>\n",
       "      <td>Platform</td>\n",
       "      <td>11.28</td>\n",
       "      <td>9.14</td>\n",
       "      <td>6.50</td>\n",
       "      <td>2.88</td>\n",
       "      <td>89.0</td>\n",
       "      <td>8.5</td>\n",
       "      <td>E</td>\n",
       "    </tr>\n",
       "    <tr>\n",
       "      <th>7</th>\n",
       "      <td>Wii Play</td>\n",
       "      <td>Wii</td>\n",
       "      <td>2006</td>\n",
       "      <td>Misc</td>\n",
       "      <td>13.96</td>\n",
       "      <td>9.18</td>\n",
       "      <td>2.93</td>\n",
       "      <td>2.84</td>\n",
       "      <td>58.0</td>\n",
       "      <td>6.6</td>\n",
       "      <td>E</td>\n",
       "    </tr>\n",
       "    <tr>\n",
       "      <th>8</th>\n",
       "      <td>New Super Mario Bros. Wii</td>\n",
       "      <td>Wii</td>\n",
       "      <td>2009</td>\n",
       "      <td>Platform</td>\n",
       "      <td>14.44</td>\n",
       "      <td>6.94</td>\n",
       "      <td>4.70</td>\n",
       "      <td>2.24</td>\n",
       "      <td>87.0</td>\n",
       "      <td>8.4</td>\n",
       "      <td>E</td>\n",
       "    </tr>\n",
       "    <tr>\n",
       "      <th>9</th>\n",
       "      <td>Duck Hunt</td>\n",
       "      <td>NES</td>\n",
       "      <td>1984</td>\n",
       "      <td>Shooter</td>\n",
       "      <td>26.93</td>\n",
       "      <td>0.63</td>\n",
       "      <td>0.28</td>\n",
       "      <td>0.47</td>\n",
       "      <td>NaN</td>\n",
       "      <td>NaN</td>\n",
       "      <td>NaN</td>\n",
       "    </tr>\n",
       "  </tbody>\n",
       "</table>\n",
       "</div>"
      ],
      "text/plain": [
       "                        name platform  year_of_release         genre  \\\n",
       "0                 Wii Sports      Wii             2006        Sports   \n",
       "1          Super Mario Bros.      NES             1985      Platform   \n",
       "2             Mario Kart Wii      Wii             2008        Racing   \n",
       "3          Wii Sports Resort      Wii             2009        Sports   \n",
       "4   Pokemon Red/Pokemon Blue       GB             1996  Role-Playing   \n",
       "5                     Tetris       GB             1989        Puzzle   \n",
       "6      New Super Mario Bros.       DS             2006      Platform   \n",
       "7                   Wii Play      Wii             2006          Misc   \n",
       "8  New Super Mario Bros. Wii      Wii             2009      Platform   \n",
       "9                  Duck Hunt      NES             1984       Shooter   \n",
       "\n",
       "   na_sales  eu_sales  jp_sales  other_sales  critic_score user_score rating  \n",
       "0     41.36     28.96      3.77         8.45          76.0          8      E  \n",
       "1     29.08      3.58      6.81         0.77           NaN        NaN    NaN  \n",
       "2     15.68     12.76      3.79         3.29          82.0        8.3      E  \n",
       "3     15.61     10.93      3.28         2.95          80.0          8      E  \n",
       "4     11.27      8.89     10.22         1.00           NaN        NaN    NaN  \n",
       "5     23.20      2.26      4.22         0.58           NaN        NaN    NaN  \n",
       "6     11.28      9.14      6.50         2.88          89.0        8.5      E  \n",
       "7     13.96      9.18      2.93         2.84          58.0        6.6      E  \n",
       "8     14.44      6.94      4.70         2.24          87.0        8.4      E  \n",
       "9     26.93      0.63      0.28         0.47           NaN        NaN    NaN  "
      ]
     },
     "metadata": {},
     "output_type": "display_data"
    },
    {
     "name": "stdout",
     "output_type": "stream",
     "text": [
      "<class 'pandas.core.frame.DataFrame'>\n",
      "Int64Index: 16446 entries, 0 to 16714\n",
      "Data columns (total 11 columns):\n",
      " #   Column           Non-Null Count  Dtype  \n",
      "---  ------           --------------  -----  \n",
      " 0   name             16444 non-null  object \n",
      " 1   platform         16446 non-null  object \n",
      " 2   year_of_release  16446 non-null  int64  \n",
      " 3   genre            16444 non-null  object \n",
      " 4   na_sales         16446 non-null  float64\n",
      " 5   eu_sales         16446 non-null  float64\n",
      " 6   jp_sales         16446 non-null  float64\n",
      " 7   other_sales      16446 non-null  float64\n",
      " 8   critic_score     7983 non-null   float64\n",
      " 9   user_score       9839 non-null   object \n",
      " 10  rating           9768 non-null   object \n",
      "dtypes: float64(5), int64(1), object(5)\n",
      "memory usage: 1.5+ MB\n"
     ]
    }
   ],
   "source": [
    "games = games.dropna(subset=['year_of_release'])\n",
    "games['year_of_release'] = games['year_of_release'].astype('int')\n",
    "display(games.head(10))\n",
    "games.info()"
   ]
  },
  {
   "cell_type": "markdown",
   "metadata": {},
   "source": [
    "*Возникли проблемы при переводе формата в int, так как в строках были пропущенные значения nan, которое заменил на 2022 год, для определения пропуска даты выхода игры. Была мысль заменить пропуски на 2008 год, так как этом году выпущенно самое большое количество игр за изучаемый период, но преположил, что такая замена будет некорректной*\n",
    "\n",
    "*По user_score сразу проверим уникальные значения, так как в описании задания уже указан парамент tbd, который необходимо обраотать*"
   ]
  },
  {
   "cell_type": "code",
   "execution_count": 7,
   "metadata": {},
   "outputs": [
    {
     "data": {
      "text/plain": [
       "array(['8', nan, '8.3', '8.5', '6.6', '8.4', '8.6', '7.7', '6.3', '7.4',\n",
       "       '8.2', '9', '7.9', '8.1', '8.7', '7.1', '3.4', '5.3', '4.8', '3.2',\n",
       "       '8.9', '6.4', '7.8', '7.5', '2.6', '7.2', '9.2', '7', '7.3', '4.3',\n",
       "       '7.6', '5.7', '5', '9.1', '6.5', 'tbd', '8.8', '6.9', '9.4', '6.8',\n",
       "       '6.1', '6.7', '5.4', '4', '4.9', '4.5', '9.3', '6.2', '4.2', '6',\n",
       "       '3.7', '4.1', '5.8', '5.6', '5.5', '4.4', '4.6', '5.9', '3.9',\n",
       "       '3.1', '2.9', '5.2', '3.3', '4.7', '5.1', '3.5', '2.5', '1.9', '3',\n",
       "       '2.7', '2.2', '2', '9.5', '2.1', '3.6', '2.8', '1.8', '3.8', '0',\n",
       "       '1.6', '9.6', '2.4', '1.7', '1.1', '0.3', '1.5', '0.7', '1.2',\n",
       "       '2.3', '0.5', '1.3', '0.2', '0.6', '1.4', '0.9', '1', '9.7'],\n",
       "      dtype=object)"
      ]
     },
     "execution_count": 7,
     "metadata": {},
     "output_type": "execute_result"
    }
   ],
   "source": [
    "games['user_score'].unique()"
   ]
  },
  {
   "cell_type": "markdown",
   "metadata": {},
   "source": [
    "*Что и следовало ожидать tbd на месте). Кстати, эта абревиатура означет To Be Determined - Будет определено. Обычно относится к релизу игр.*"
   ]
  },
  {
   "cell_type": "code",
   "execution_count": 8,
   "metadata": {},
   "outputs": [
    {
     "data": {
      "text/plain": [
       "2376"
      ]
     },
     "execution_count": 8,
     "metadata": {},
     "output_type": "execute_result"
    }
   ],
   "source": [
    "games[games['user_score'] == 'tbd']['user_score'].count()"
   ]
  },
  {
   "cell_type": "markdown",
   "metadata": {},
   "source": [
    "*tbd большое количество, грубо для нас это будет считаться пропуском, так как данные будут загружены в неопределенный срок. Так что заменим.*"
   ]
  },
  {
   "cell_type": "code",
   "execution_count": 9,
   "metadata": {},
   "outputs": [
    {
     "data": {
      "text/plain": [
       "0"
      ]
     },
     "execution_count": 9,
     "metadata": {},
     "output_type": "execute_result"
    }
   ],
   "source": [
    "games.loc[games['user_score'] == 'tbd', 'user_score'] = float('nan')\n",
    "games[games['user_score'] == 'tbd']['user_score'].count()"
   ]
  },
  {
   "cell_type": "code",
   "execution_count": 10,
   "metadata": {},
   "outputs": [
    {
     "data": {
      "text/plain": [
       "array(['8', nan, '8.3', '8.5', '6.6', '8.4', '8.6', '7.7', '6.3', '7.4',\n",
       "       '8.2', '9', '7.9', '8.1', '8.7', '7.1', '3.4', '5.3', '4.8', '3.2',\n",
       "       '8.9', '6.4', '7.8', '7.5', '2.6', '7.2', '9.2', '7', '7.3', '4.3',\n",
       "       '7.6', '5.7', '5', '9.1', '6.5', '8.8', '6.9', '9.4', '6.8', '6.1',\n",
       "       '6.7', '5.4', '4', '4.9', '4.5', '9.3', '6.2', '4.2', '6', '3.7',\n",
       "       '4.1', '5.8', '5.6', '5.5', '4.4', '4.6', '5.9', '3.9', '3.1',\n",
       "       '2.9', '5.2', '3.3', '4.7', '5.1', '3.5', '2.5', '1.9', '3', '2.7',\n",
       "       '2.2', '2', '9.5', '2.1', '3.6', '2.8', '1.8', '3.8', '0', '1.6',\n",
       "       '9.6', '2.4', '1.7', '1.1', '0.3', '1.5', '0.7', '1.2', '2.3',\n",
       "       '0.5', '1.3', '0.2', '0.6', '1.4', '0.9', '1', '9.7'], dtype=object)"
      ]
     },
     "execution_count": 10,
     "metadata": {},
     "output_type": "execute_result"
    }
   ],
   "source": [
    "games['user_score'].unique()"
   ]
  },
  {
   "cell_type": "code",
   "execution_count": 11,
   "metadata": {},
   "outputs": [],
   "source": [
    "games['user_score'] = games['user_score'].astype('float')"
   ]
  },
  {
   "cell_type": "code",
   "execution_count": 12,
   "metadata": {},
   "outputs": [
    {
     "name": "stdout",
     "output_type": "stream",
     "text": [
      "<class 'pandas.core.frame.DataFrame'>\n",
      "Int64Index: 16446 entries, 0 to 16714\n",
      "Data columns (total 11 columns):\n",
      " #   Column           Non-Null Count  Dtype  \n",
      "---  ------           --------------  -----  \n",
      " 0   name             16444 non-null  object \n",
      " 1   platform         16446 non-null  object \n",
      " 2   year_of_release  16446 non-null  int64  \n",
      " 3   genre            16444 non-null  object \n",
      " 4   na_sales         16446 non-null  float64\n",
      " 5   eu_sales         16446 non-null  float64\n",
      " 6   jp_sales         16446 non-null  float64\n",
      " 7   other_sales      16446 non-null  float64\n",
      " 8   critic_score     7983 non-null   float64\n",
      " 9   user_score       7463 non-null   float64\n",
      " 10  rating           9768 non-null   object \n",
      "dtypes: float64(6), int64(1), object(4)\n",
      "memory usage: 1.5+ MB\n"
     ]
    }
   ],
   "source": [
    "games.info()"
   ]
  },
  {
   "cell_type": "markdown",
   "metadata": {},
   "source": [
    "**Проаботаем пропуски**"
   ]
  },
  {
   "cell_type": "code",
   "execution_count": 13,
   "metadata": {},
   "outputs": [
    {
     "data": {
      "text/plain": [
       "name                  2\n",
       "platform              0\n",
       "year_of_release       0\n",
       "genre                 2\n",
       "na_sales              0\n",
       "eu_sales              0\n",
       "jp_sales              0\n",
       "other_sales           0\n",
       "critic_score       8463\n",
       "user_score         8983\n",
       "rating             6678\n",
       "dtype: int64"
      ]
     },
     "execution_count": 13,
     "metadata": {},
     "output_type": "execute_result"
    }
   ],
   "source": [
    "games.isnull().sum()"
   ]
  },
  {
   "cell_type": "markdown",
   "metadata": {},
   "source": [
    "*Name пропуски заменим на No_name, удалять не будем*\n",
    "\n",
    "*Genre пропуски заменим на No_name_genre, удалять не будем*\n",
    "\n",
    "*Сritic_score и User_score пропуски заменим на 0, преположим, что пропущение значения возникли в связи с нулевыми значениями, хотя в выгрузке в данных сроках есть и 0 рейтинги*\n",
    "\n",
    "*Rating пропуски заменим на No_rating*"
   ]
  },
  {
   "cell_type": "code",
   "execution_count": 14,
   "metadata": {},
   "outputs": [
    {
     "data": {
      "text/plain": [
       "name               0\n",
       "platform           0\n",
       "year_of_release    0\n",
       "genre              0\n",
       "na_sales           0\n",
       "eu_sales           0\n",
       "jp_sales           0\n",
       "other_sales        0\n",
       "critic_score       0\n",
       "user_score         0\n",
       "rating             0\n",
       "dtype: int64"
      ]
     },
     "execution_count": 14,
     "metadata": {},
     "output_type": "execute_result"
    }
   ],
   "source": [
    "games = games.dropna(subset=['name','genre', 'critic_score', 'user_score' ])\n",
    "games['rating'] = games['rating'].fillna('No_rating')\n",
    "games.isnull().sum()"
   ]
  },
  {
   "cell_type": "code",
   "execution_count": 15,
   "metadata": {},
   "outputs": [
    {
     "data": {
      "text/plain": [
       "6894"
      ]
     },
     "execution_count": 15,
     "metadata": {},
     "output_type": "execute_result"
    }
   ],
   "source": [
    "len(games)"
   ]
  },
  {
   "cell_type": "markdown",
   "metadata": {},
   "source": [
    "**Посчитаем суммарные продажи во всех регионах в отдельный столбец**"
   ]
  },
  {
   "cell_type": "code",
   "execution_count": 16,
   "metadata": {},
   "outputs": [
    {
     "data": {
      "text/html": [
       "<div>\n",
       "<style scoped>\n",
       "    .dataframe tbody tr th:only-of-type {\n",
       "        vertical-align: middle;\n",
       "    }\n",
       "\n",
       "    .dataframe tbody tr th {\n",
       "        vertical-align: top;\n",
       "    }\n",
       "\n",
       "    .dataframe thead th {\n",
       "        text-align: right;\n",
       "    }\n",
       "</style>\n",
       "<table border=\"1\" class=\"dataframe\">\n",
       "  <thead>\n",
       "    <tr style=\"text-align: right;\">\n",
       "      <th></th>\n",
       "      <th>name</th>\n",
       "      <th>platform</th>\n",
       "      <th>year_of_release</th>\n",
       "      <th>genre</th>\n",
       "      <th>na_sales</th>\n",
       "      <th>eu_sales</th>\n",
       "      <th>jp_sales</th>\n",
       "      <th>other_sales</th>\n",
       "      <th>critic_score</th>\n",
       "      <th>user_score</th>\n",
       "      <th>rating</th>\n",
       "      <th>total_sales</th>\n",
       "    </tr>\n",
       "  </thead>\n",
       "  <tbody>\n",
       "    <tr>\n",
       "      <th>0</th>\n",
       "      <td>Wii Sports</td>\n",
       "      <td>Wii</td>\n",
       "      <td>2006</td>\n",
       "      <td>Sports</td>\n",
       "      <td>41.36</td>\n",
       "      <td>28.96</td>\n",
       "      <td>3.77</td>\n",
       "      <td>8.45</td>\n",
       "      <td>76.0</td>\n",
       "      <td>8.0</td>\n",
       "      <td>E</td>\n",
       "      <td>82.54</td>\n",
       "    </tr>\n",
       "    <tr>\n",
       "      <th>2</th>\n",
       "      <td>Mario Kart Wii</td>\n",
       "      <td>Wii</td>\n",
       "      <td>2008</td>\n",
       "      <td>Racing</td>\n",
       "      <td>15.68</td>\n",
       "      <td>12.76</td>\n",
       "      <td>3.79</td>\n",
       "      <td>3.29</td>\n",
       "      <td>82.0</td>\n",
       "      <td>8.3</td>\n",
       "      <td>E</td>\n",
       "      <td>35.52</td>\n",
       "    </tr>\n",
       "    <tr>\n",
       "      <th>3</th>\n",
       "      <td>Wii Sports Resort</td>\n",
       "      <td>Wii</td>\n",
       "      <td>2009</td>\n",
       "      <td>Sports</td>\n",
       "      <td>15.61</td>\n",
       "      <td>10.93</td>\n",
       "      <td>3.28</td>\n",
       "      <td>2.95</td>\n",
       "      <td>80.0</td>\n",
       "      <td>8.0</td>\n",
       "      <td>E</td>\n",
       "      <td>32.77</td>\n",
       "    </tr>\n",
       "    <tr>\n",
       "      <th>6</th>\n",
       "      <td>New Super Mario Bros.</td>\n",
       "      <td>DS</td>\n",
       "      <td>2006</td>\n",
       "      <td>Platform</td>\n",
       "      <td>11.28</td>\n",
       "      <td>9.14</td>\n",
       "      <td>6.50</td>\n",
       "      <td>2.88</td>\n",
       "      <td>89.0</td>\n",
       "      <td>8.5</td>\n",
       "      <td>E</td>\n",
       "      <td>29.80</td>\n",
       "    </tr>\n",
       "    <tr>\n",
       "      <th>7</th>\n",
       "      <td>Wii Play</td>\n",
       "      <td>Wii</td>\n",
       "      <td>2006</td>\n",
       "      <td>Misc</td>\n",
       "      <td>13.96</td>\n",
       "      <td>9.18</td>\n",
       "      <td>2.93</td>\n",
       "      <td>2.84</td>\n",
       "      <td>58.0</td>\n",
       "      <td>6.6</td>\n",
       "      <td>E</td>\n",
       "      <td>28.91</td>\n",
       "    </tr>\n",
       "    <tr>\n",
       "      <th>8</th>\n",
       "      <td>New Super Mario Bros. Wii</td>\n",
       "      <td>Wii</td>\n",
       "      <td>2009</td>\n",
       "      <td>Platform</td>\n",
       "      <td>14.44</td>\n",
       "      <td>6.94</td>\n",
       "      <td>4.70</td>\n",
       "      <td>2.24</td>\n",
       "      <td>87.0</td>\n",
       "      <td>8.4</td>\n",
       "      <td>E</td>\n",
       "      <td>28.32</td>\n",
       "    </tr>\n",
       "    <tr>\n",
       "      <th>11</th>\n",
       "      <td>Mario Kart DS</td>\n",
       "      <td>DS</td>\n",
       "      <td>2005</td>\n",
       "      <td>Racing</td>\n",
       "      <td>9.71</td>\n",
       "      <td>7.47</td>\n",
       "      <td>4.13</td>\n",
       "      <td>1.90</td>\n",
       "      <td>91.0</td>\n",
       "      <td>8.6</td>\n",
       "      <td>E</td>\n",
       "      <td>23.21</td>\n",
       "    </tr>\n",
       "    <tr>\n",
       "      <th>13</th>\n",
       "      <td>Wii Fit</td>\n",
       "      <td>Wii</td>\n",
       "      <td>2007</td>\n",
       "      <td>Sports</td>\n",
       "      <td>8.92</td>\n",
       "      <td>8.03</td>\n",
       "      <td>3.60</td>\n",
       "      <td>2.15</td>\n",
       "      <td>80.0</td>\n",
       "      <td>7.7</td>\n",
       "      <td>E</td>\n",
       "      <td>22.70</td>\n",
       "    </tr>\n",
       "    <tr>\n",
       "      <th>14</th>\n",
       "      <td>Kinect Adventures!</td>\n",
       "      <td>X360</td>\n",
       "      <td>2010</td>\n",
       "      <td>Misc</td>\n",
       "      <td>15.00</td>\n",
       "      <td>4.89</td>\n",
       "      <td>0.24</td>\n",
       "      <td>1.69</td>\n",
       "      <td>61.0</td>\n",
       "      <td>6.3</td>\n",
       "      <td>E</td>\n",
       "      <td>21.82</td>\n",
       "    </tr>\n",
       "    <tr>\n",
       "      <th>15</th>\n",
       "      <td>Wii Fit Plus</td>\n",
       "      <td>Wii</td>\n",
       "      <td>2009</td>\n",
       "      <td>Sports</td>\n",
       "      <td>9.01</td>\n",
       "      <td>8.49</td>\n",
       "      <td>2.53</td>\n",
       "      <td>1.77</td>\n",
       "      <td>80.0</td>\n",
       "      <td>7.4</td>\n",
       "      <td>E</td>\n",
       "      <td>21.80</td>\n",
       "    </tr>\n",
       "  </tbody>\n",
       "</table>\n",
       "</div>"
      ],
      "text/plain": [
       "                         name platform  year_of_release     genre  na_sales  \\\n",
       "0                  Wii Sports      Wii             2006    Sports     41.36   \n",
       "2              Mario Kart Wii      Wii             2008    Racing     15.68   \n",
       "3           Wii Sports Resort      Wii             2009    Sports     15.61   \n",
       "6       New Super Mario Bros.       DS             2006  Platform     11.28   \n",
       "7                    Wii Play      Wii             2006      Misc     13.96   \n",
       "8   New Super Mario Bros. Wii      Wii             2009  Platform     14.44   \n",
       "11              Mario Kart DS       DS             2005    Racing      9.71   \n",
       "13                    Wii Fit      Wii             2007    Sports      8.92   \n",
       "14         Kinect Adventures!     X360             2010      Misc     15.00   \n",
       "15               Wii Fit Plus      Wii             2009    Sports      9.01   \n",
       "\n",
       "    eu_sales  jp_sales  other_sales  critic_score  user_score rating  \\\n",
       "0      28.96      3.77         8.45          76.0         8.0      E   \n",
       "2      12.76      3.79         3.29          82.0         8.3      E   \n",
       "3      10.93      3.28         2.95          80.0         8.0      E   \n",
       "6       9.14      6.50         2.88          89.0         8.5      E   \n",
       "7       9.18      2.93         2.84          58.0         6.6      E   \n",
       "8       6.94      4.70         2.24          87.0         8.4      E   \n",
       "11      7.47      4.13         1.90          91.0         8.6      E   \n",
       "13      8.03      3.60         2.15          80.0         7.7      E   \n",
       "14      4.89      0.24         1.69          61.0         6.3      E   \n",
       "15      8.49      2.53         1.77          80.0         7.4      E   \n",
       "\n",
       "    total_sales  \n",
       "0         82.54  \n",
       "2         35.52  \n",
       "3         32.77  \n",
       "6         29.80  \n",
       "7         28.91  \n",
       "8         28.32  \n",
       "11        23.21  \n",
       "13        22.70  \n",
       "14        21.82  \n",
       "15        21.80  "
      ]
     },
     "execution_count": 16,
     "metadata": {},
     "output_type": "execute_result"
    }
   ],
   "source": [
    "games['total_sales'] = games['na_sales'] + games['eu_sales'] + games['jp_sales'] + games['other_sales']\n",
    "games.head(10)"
   ]
  },
  {
   "cell_type": "markdown",
   "metadata": {},
   "source": [
    "**Визуализируем количество релизов игр по годам**"
   ]
  },
  {
   "cell_type": "markdown",
   "metadata": {},
   "source": [
    "*Для этого выведем гистограмму*"
   ]
  },
  {
   "cell_type": "code",
   "execution_count": 17,
   "metadata": {},
   "outputs": [
    {
     "data": {
      "text/plain": [
       "<AxesSubplot:ylabel='Frequency'>"
      ]
     },
     "execution_count": 17,
     "metadata": {},
     "output_type": "execute_result"
    },
    {
     "data": {
      "image/png": "[encoded data removed]",
      "text/plain": [
       "<Figure size 432x288 with 1 Axes>"
      ]
     },
     "metadata": {
      "needs_background": "light"
     },
     "output_type": "display_data"
    }
   ],
   "source": [
    "games['year_of_release'].plot(kind='hist', bins=50, grid=True)"
   ]
  },
  {
   "cell_type": "markdown",
   "metadata": {},
   "source": [
    "*Видно, что первые релизы были 1980-х годах на очень малую аудиторию. Начало подъема выпуска игр можно считать 1995 год, связанный с развитием технологий (чипов). Пиком является 2008-2009 года, который можно связать с большой потребностью игр в мире. К 2010 году рынок игр стал переносыщенным + 27 января 2010 года был представлен iPad, что стало сигналом разработчикам и компаниям в игровом сегменте о переходе и увеличении аудитории на планшеты.\n",
    "В связи с этим, интересен период с 1995 года по 2016 год, не за весь периоды необходимы данные* "
   ]
  },
  {
   "cell_type": "markdown",
   "metadata": {},
   "source": [
    "**Визуализируем продажи по платформам**"
   ]
  },
  {
   "cell_type": "code",
   "execution_count": 18,
   "metadata": {},
   "outputs": [
    {
     "data": {
      "text/html": [
       "<div>\n",
       "<style scoped>\n",
       "    .dataframe tbody tr th:only-of-type {\n",
       "        vertical-align: middle;\n",
       "    }\n",
       "\n",
       "    .dataframe tbody tr th {\n",
       "        vertical-align: top;\n",
       "    }\n",
       "\n",
       "    .dataframe thead th {\n",
       "        text-align: right;\n",
       "    }\n",
       "</style>\n",
       "<table border=\"1\" class=\"dataframe\">\n",
       "  <thead>\n",
       "    <tr style=\"text-align: right;\">\n",
       "      <th></th>\n",
       "      <th>total_sales</th>\n",
       "    </tr>\n",
       "    <tr>\n",
       "      <th>platform</th>\n",
       "      <th></th>\n",
       "    </tr>\n",
       "  </thead>\n",
       "  <tbody>\n",
       "    <tr>\n",
       "      <th>PS2</th>\n",
       "      <td>946.01</td>\n",
       "    </tr>\n",
       "    <tr>\n",
       "      <th>X360</th>\n",
       "      <td>853.67</td>\n",
       "    </tr>\n",
       "    <tr>\n",
       "      <th>PS3</th>\n",
       "      <td>785.44</td>\n",
       "    </tr>\n",
       "    <tr>\n",
       "      <th>Wii</th>\n",
       "      <td>659.23</td>\n",
       "    </tr>\n",
       "    <tr>\n",
       "      <th>DS</th>\n",
       "      <td>382.88</td>\n",
       "    </tr>\n",
       "    <tr>\n",
       "      <th>PS4</th>\n",
       "      <td>244.27</td>\n",
       "    </tr>\n",
       "    <tr>\n",
       "      <th>XB</th>\n",
       "      <td>212.22</td>\n",
       "    </tr>\n",
       "    <tr>\n",
       "      <th>PS</th>\n",
       "      <td>209.98</td>\n",
       "    </tr>\n",
       "    <tr>\n",
       "      <th>PC</th>\n",
       "      <td>189.85</td>\n",
       "    </tr>\n",
       "    <tr>\n",
       "      <th>PSP</th>\n",
       "      <td>187.68</td>\n",
       "    </tr>\n",
       "  </tbody>\n",
       "</table>\n",
       "</div>"
      ],
      "text/plain": [
       "          total_sales\n",
       "platform             \n",
       "PS2            946.01\n",
       "X360           853.67\n",
       "PS3            785.44\n",
       "Wii            659.23\n",
       "DS             382.88\n",
       "PS4            244.27\n",
       "XB             212.22\n",
       "PS             209.98\n",
       "PC             189.85\n",
       "PSP            187.68"
      ]
     },
     "execution_count": 18,
     "metadata": {},
     "output_type": "execute_result"
    },
    {
     "data": {
      "image/png": "[encoded data removed]",
      "text/plain": [
       "<Figure size 432x288 with 1 Axes>"
      ]
     },
     "metadata": {
      "needs_background": "light"
     },
     "output_type": "display_data"
    }
   ],
   "source": [
    "games.groupby('platform').agg({'total_sales':'sum'}).plot(kind='bar',grid=True)\n",
    "games.groupby('platform').agg({'total_sales':'sum'}).sort_values(by='total_sales', ascending=False ).head(10)"
   ]
  },
  {
   "cell_type": "markdown",
   "metadata": {},
   "source": [
    "*Топ 3 по продажам являются: PS2, X360, PS3*"
   ]
  },
  {
   "cell_type": "markdown",
   "metadata": {},
   "source": [
    "ЧЕРНОВИК\n",
    "\n",
    "#games[(games['platform'] == 'PS2') & (games['platform'] == 'X360') & (games['platform'] == 'PS3')].plot(kind='bar',grid=True,figsize=(50, 50))\n",
    "\n",
    "\n",
    "#[(games['platform'] == 'PS2') & (games['platform'] == 'X360') & (games['platform'] == 'PS3')]\n",
    "\n",
    "\n",
    "#pd.pivot_table(games,index=['year_of_release','platform'],values=['total_sales'],aggfunc=np.sum).plot(kind='bar',grid=True,figsize=(50, 50))"
   ]
  },
  {
   "cell_type": "markdown",
   "metadata": {},
   "source": [
    "**Построим распределение по годам**"
   ]
  },
  {
   "cell_type": "code",
   "execution_count": 19,
   "metadata": {},
   "outputs": [
    {
     "data": {
      "image/png": "[encoded data removed]",
      "text/plain": [
       "<Figure size 432x288 with 1 Axes>"
      ]
     },
     "metadata": {
      "needs_background": "light"
     },
     "output_type": "display_data"
    }
   ],
   "source": [
    "import seaborn as sns\n",
    "N = 10\n",
    "platforms = games.groupby(['platform']).total_sales.sum().sort_values(ascending=False).head(N).index.values\n",
    "tmp = games[games['platform'].isin(platforms)]\n",
    "\n",
    "sns.lineplot(data=tmp.groupby(['platform','year_of_release']).total_sales.sum().reset_index().sort_values('total_sales'), x='year_of_release', y='total_sales', hue='platform')\n",
    "del tmp, platforms"
   ]
  },
  {
   "cell_type": "code",
   "execution_count": 20,
   "metadata": {
    "scrolled": true
   },
   "outputs": [
    {
     "data": {
      "text/plain": [
       "<AxesSubplot:xlabel='year_of_release,platform'>"
      ]
     },
     "execution_count": 20,
     "metadata": {},
     "output_type": "execute_result"
    },
    {
     "data": {
      "image/png": "[encoded data removed]",
      "text/plain": [
       "<Figure size 432x288 with 1 Axes>"
      ]
     },
     "metadata": {
      "needs_background": "light"
     },
     "output_type": "display_data"
    }
   ],
   "source": [
    "games[(games['platform'] == 'PS2')].pivot_table(index=['year_of_release','platform'],values=['total_sales'],aggfunc=np.sum).plot(kind='bar',grid=True)"
   ]
  },
  {
   "cell_type": "code",
   "execution_count": 21,
   "metadata": {},
   "outputs": [
    {
     "data": {
      "text/plain": [
       "<AxesSubplot:xlabel='year_of_release,platform'>"
      ]
     },
     "execution_count": 21,
     "metadata": {},
     "output_type": "execute_result"
    },
    {
     "data": {
      "image/png": "[encoded data removed]",
      "text/plain": [
       "<Figure size 432x288 with 1 Axes>"
      ]
     },
     "metadata": {
      "needs_background": "light"
     },
     "output_type": "display_data"
    }
   ],
   "source": [
    "games[(games['platform'] == 'X360')].pivot_table(index=['year_of_release','platform'],values=['total_sales'],aggfunc=np.sum).plot(kind='bar',grid=True)"
   ]
  },
  {
   "cell_type": "code",
   "execution_count": 22,
   "metadata": {},
   "outputs": [
    {
     "data": {
      "text/plain": [
       "<AxesSubplot:xlabel='year_of_release,platform'>"
      ]
     },
     "execution_count": 22,
     "metadata": {},
     "output_type": "execute_result"
    },
    {
     "data": {
      "image/png": "[encoded data removed]",
      "text/plain": [
       "<Figure size 432x288 with 1 Axes>"
      ]
     },
     "metadata": {
      "needs_background": "light"
     },
     "output_type": "display_data"
    }
   ],
   "source": [
    "games[(games['platform'] == 'PS3')].pivot_table(index=['year_of_release','platform'],values=['total_sales'],aggfunc=np.sum).plot(kind='bar',grid=True)"
   ]
  },
  {
   "cell_type": "markdown",
   "metadata": {},
   "source": [
    "*1. Видна активная динамика продаж с 2005 по 2016 гг. Что объясняется развитием игровых платформ и выскокй конкуренцией между ними.* \n",
    "\n",
    "\n",
    "*2. Взял топ 3 по продажам платформ: PS2, XBOX, PS3. Основная конкуренция была у PS3 и XBOX в 2010 и 2011 гг. PS2 в период своего подъема не имела конкурентов.* \n",
    "\n",
    "\n",
    "*3. С 2003 года видими характерное появление новых платформ, стариые исчезают в 2013 и 2014 году.* \n",
    "\n",
    "\n",
    "*4. Возьмем период 2005 - 2012 гг. Так как в данный промежуток было большее количество платформ и соотвественно продаж по ним.*\n",
    "\n",
    "**5. Средний жизненний цикл игровой платформы состаляет 8-10 лет, согласно диаграммам**"
   ]
  },
  {
   "cell_type": "code",
   "execution_count": 23,
   "metadata": {},
   "outputs": [
    {
     "data": {
      "text/plain": [
       "array(['PS4', 'WiiU', 'XOne', '3DS', 'PC', 'X360', 'PS3', 'PSV'],\n",
       "      dtype=object)"
      ]
     },
     "execution_count": 23,
     "metadata": {},
     "output_type": "execute_result"
    }
   ],
   "source": [
    "release_period = games[games['year_of_release'] > 2013]\n",
    "release_period['platform'].unique()"
   ]
  },
  {
   "cell_type": "markdown",
   "metadata": {},
   "source": [
    "**Построим график «ящик с усами» по глобальным продажам игр в разбивке по платформам.**"
   ]
  },
  {
   "cell_type": "code",
   "execution_count": 24,
   "metadata": {},
   "outputs": [],
   "source": [
    "top_6_platforms = ['PS4','XOne','PC','WiiU','3DS','PSV']\n",
    "top_6_platforms_data = release_period[release_period['platform'].isin(['PS4','XOne','PC','WiiU','3DS','PSV'])]\n",
    "top_6_platforms_data = top_6_platforms_data[top_6_platforms_data['total_sales']<1.4]"
   ]
  },
  {
   "cell_type": "code",
   "execution_count": 25,
   "metadata": {},
   "outputs": [
    {
     "data": {
      "text/plain": [
       "count    561.000000\n",
       "mean       0.286239\n",
       "std        0.324756\n",
       "min        0.010000\n",
       "25%        0.060000\n",
       "50%        0.150000\n",
       "75%        0.390000\n",
       "max        1.380000\n",
       "Name: total_sales, dtype: float64"
      ]
     },
     "execution_count": 25,
     "metadata": {},
     "output_type": "execute_result"
    }
   ],
   "source": [
    "top_6_platforms_data['total_sales'].describe()"
   ]
  },
  {
   "cell_type": "code",
   "execution_count": 26,
   "metadata": {},
   "outputs": [
    {
     "data": {
      "text/html": [
       "<div>\n",
       "<style scoped>\n",
       "    .dataframe tbody tr th:only-of-type {\n",
       "        vertical-align: middle;\n",
       "    }\n",
       "\n",
       "    .dataframe tbody tr th {\n",
       "        vertical-align: top;\n",
       "    }\n",
       "\n",
       "    .dataframe thead th {\n",
       "        text-align: right;\n",
       "    }\n",
       "</style>\n",
       "<table border=\"1\" class=\"dataframe\">\n",
       "  <thead>\n",
       "    <tr style=\"text-align: right;\">\n",
       "      <th></th>\n",
       "      <th>count</th>\n",
       "      <th>mean</th>\n",
       "      <th>std</th>\n",
       "      <th>min</th>\n",
       "      <th>25%</th>\n",
       "      <th>50%</th>\n",
       "      <th>75%</th>\n",
       "      <th>max</th>\n",
       "    </tr>\n",
       "    <tr>\n",
       "      <th>platform</th>\n",
       "      <th></th>\n",
       "      <th></th>\n",
       "      <th></th>\n",
       "      <th></th>\n",
       "      <th></th>\n",
       "      <th></th>\n",
       "      <th></th>\n",
       "      <th></th>\n",
       "    </tr>\n",
       "  </thead>\n",
       "  <tbody>\n",
       "    <tr>\n",
       "      <th>3DS</th>\n",
       "      <td>43.0</td>\n",
       "      <td>0.304651</td>\n",
       "      <td>0.327555</td>\n",
       "      <td>0.01</td>\n",
       "      <td>0.080</td>\n",
       "      <td>0.210</td>\n",
       "      <td>0.370</td>\n",
       "      <td>1.38</td>\n",
       "    </tr>\n",
       "    <tr>\n",
       "      <th>PC</th>\n",
       "      <td>114.0</td>\n",
       "      <td>0.182105</td>\n",
       "      <td>0.233179</td>\n",
       "      <td>0.01</td>\n",
       "      <td>0.030</td>\n",
       "      <td>0.095</td>\n",
       "      <td>0.230</td>\n",
       "      <td>1.28</td>\n",
       "    </tr>\n",
       "    <tr>\n",
       "      <th>PS4</th>\n",
       "      <td>187.0</td>\n",
       "      <td>0.289679</td>\n",
       "      <td>0.314378</td>\n",
       "      <td>0.01</td>\n",
       "      <td>0.060</td>\n",
       "      <td>0.150</td>\n",
       "      <td>0.395</td>\n",
       "      <td>1.27</td>\n",
       "    </tr>\n",
       "    <tr>\n",
       "      <th>PSV</th>\n",
       "      <td>53.0</td>\n",
       "      <td>0.149434</td>\n",
       "      <td>0.127149</td>\n",
       "      <td>0.01</td>\n",
       "      <td>0.070</td>\n",
       "      <td>0.110</td>\n",
       "      <td>0.180</td>\n",
       "      <td>0.65</td>\n",
       "    </tr>\n",
       "    <tr>\n",
       "      <th>WiiU</th>\n",
       "      <td>37.0</td>\n",
       "      <td>0.431892</td>\n",
       "      <td>0.375091</td>\n",
       "      <td>0.01</td>\n",
       "      <td>0.110</td>\n",
       "      <td>0.380</td>\n",
       "      <td>0.640</td>\n",
       "      <td>1.30</td>\n",
       "    </tr>\n",
       "    <tr>\n",
       "      <th>XOne</th>\n",
       "      <td>127.0</td>\n",
       "      <td>0.383071</td>\n",
       "      <td>0.397427</td>\n",
       "      <td>0.01</td>\n",
       "      <td>0.075</td>\n",
       "      <td>0.240</td>\n",
       "      <td>0.565</td>\n",
       "      <td>1.38</td>\n",
       "    </tr>\n",
       "  </tbody>\n",
       "</table>\n",
       "</div>"
      ],
      "text/plain": [
       "          count      mean       std   min    25%    50%    75%   max\n",
       "platform                                                            \n",
       "3DS        43.0  0.304651  0.327555  0.01  0.080  0.210  0.370  1.38\n",
       "PC        114.0  0.182105  0.233179  0.01  0.030  0.095  0.230  1.28\n",
       "PS4       187.0  0.289679  0.314378  0.01  0.060  0.150  0.395  1.27\n",
       "PSV        53.0  0.149434  0.127149  0.01  0.070  0.110  0.180  0.65\n",
       "WiiU       37.0  0.431892  0.375091  0.01  0.110  0.380  0.640  1.30\n",
       "XOne      127.0  0.383071  0.397427  0.01  0.075  0.240  0.565  1.38"
      ]
     },
     "execution_count": 26,
     "metadata": {},
     "output_type": "execute_result"
    }
   ],
   "source": [
    "top_6_platforms_data.groupby('platform')['total_sales'].describe()"
   ]
  },
  {
   "cell_type": "code",
   "execution_count": 27,
   "metadata": {},
   "outputs": [
    {
     "data": {
      "text/plain": [
       "<AxesSubplot:xlabel='platform', ylabel='total_sales'>"
      ]
     },
     "execution_count": 27,
     "metadata": {},
     "output_type": "execute_result"
    },
    {
     "data": {
      "image/png": "[encoded data removed]",
      "text/plain": [
       "<Figure size 864x720 with 1 Axes>"
      ]
     },
     "metadata": {
      "needs_background": "light"
     },
     "output_type": "display_data"
    }
   ],
   "source": [
    "plt.figure(figsize=(12,10))\n",
    "sns.boxplot(data=top_6_platforms_data, x='platform', y='total_sales')"
   ]
  },
  {
   "cell_type": "markdown",
   "metadata": {},
   "source": [
    "*1. Медиана у всех платформ разная*\n",
    "\n",
    "*2. Продажи распределились следующим образом по убыванию: WiiU, XOne, PS4, 3DS, PC, PSV*"
   ]
  },
  {
   "cell_type": "markdown",
   "metadata": {},
   "source": [
    "**Посмотрим, как влияют на продажи внутри одной популярной платформы отзывы пользователей и критиков.**"
   ]
  },
  {
   "cell_type": "code",
   "execution_count": 28,
   "metadata": {},
   "outputs": [
    {
     "data": {
      "text/plain": [
       "-0.03362497596528878"
      ]
     },
     "execution_count": 28,
     "metadata": {},
     "output_type": "execute_result"
    }
   ],
   "source": [
    "PS4 = games[games['platform']=='PS4']\n",
    "PS4['user_score'].corr(PS4['total_sales'])"
   ]
  },
  {
   "cell_type": "markdown",
   "metadata": {},
   "source": [
    "*Связь отзывов пользователей и продаж есть, но слабая*"
   ]
  },
  {
   "cell_type": "markdown",
   "metadata": {},
   "source": [
    "**Построим диаграммы рассеяния**"
   ]
  },
  {
   "cell_type": "markdown",
   "metadata": {},
   "source": [
    "*Диаграмма по пользовтельским отзывам*"
   ]
  },
  {
   "cell_type": "code",
   "execution_count": 29,
   "metadata": {},
   "outputs": [
    {
     "data": {
      "text/plain": [
       "<AxesSubplot:xlabel='user_score', ylabel='total_sales'>"
      ]
     },
     "execution_count": 29,
     "metadata": {},
     "output_type": "execute_result"
    },
    {
     "data": {
      "image/png": "[encoded data removed]",
      "text/plain": [
       "<Figure size 1080x576 with 1 Axes>"
      ]
     },
     "metadata": {
      "needs_background": "light"
     },
     "output_type": "display_data"
    }
   ],
   "source": [
    "plt.figure(figsize=(15,8))\n",
    "sns.scatterplot(x='user_score', y='total_sales', data=PS4)\n"
   ]
  },
  {
   "cell_type": "markdown",
   "metadata": {},
   "source": [
    "*Диаграмма по отзывам критиков и корреляция*"
   ]
  },
  {
   "cell_type": "code",
   "execution_count": 30,
   "metadata": {},
   "outputs": [
    {
     "data": {
      "text/plain": [
       "0.40589480145836687"
      ]
     },
     "execution_count": 30,
     "metadata": {},
     "output_type": "execute_result"
    }
   ],
   "source": [
    "PS4 = games[games['platform']=='PS4']\n",
    "PS4['critic_score'].corr(PS4['total_sales'])"
   ]
  },
  {
   "cell_type": "markdown",
   "metadata": {},
   "source": [
    "*Связь между продажами и отзывами есть, сильнее, чем с отзывами пользователей*"
   ]
  },
  {
   "cell_type": "code",
   "execution_count": 31,
   "metadata": {},
   "outputs": [
    {
     "data": {
      "text/plain": [
       "<AxesSubplot:xlabel='critic_score', ylabel='total_sales'>"
      ]
     },
     "execution_count": 31,
     "metadata": {},
     "output_type": "execute_result"
    },
    {
     "data": {
      "image/png": "[encoded data removed]",
      "text/plain": [
       "<Figure size 1080x576 with 1 Axes>"
      ]
     },
     "metadata": {
      "needs_background": "light"
     },
     "output_type": "display_data"
    }
   ],
   "source": [
    "plt.figure(figsize=(15,8))\n",
    "sns.scatterplot(x='critic_score', y='total_sales', data=PS4)"
   ]
  },
  {
   "cell_type": "markdown",
   "metadata": {},
   "source": [
    "**Соотнесем выводы с продажами игр на других платформах.**"
   ]
  },
  {
   "cell_type": "code",
   "execution_count": 32,
   "metadata": {},
   "outputs": [],
   "source": [
    "def platforms (name):\n",
    "    platform = games[games['platform']==name]\n",
    "    fig, ax = plt.subplots(1 ,2, figsize=(20,10))\n",
    "    sns.scatterplot(x='user_score', y='total_sales', data=platform, ax=ax[0])\n",
    "    sns.scatterplot(x='critic_score', y='total_sales', data=platform, ax=ax[1])\n",
    "    fig.suptitle(name, fontsize=15)\n",
    "    \n",
    "    user_correlation = platform['user_score'].corr(platform['total_sales'])\n",
    "    critic_correlation = platform['critic_score'].corr(platform['total_sales'])\n",
    "    \n",
    "    if 0.3 >= critic_correlation >= 0.1:\n",
    "        print('Корреляция между отзывами критиков и игровой платформой ', name.upper(), ': Слабая', critic_correlation)\n",
    "    if 0.5 >= critic_correlation >= 0.3:\n",
    "        print('Корреляция между отзывами критиков и игровой платформой ', name.upper(), ': Умеренная', critic_correlation)\n",
    "    if 0.7 >= critic_correlation >= 0.5:\n",
    "        print('Корреляция между отзывами критиков и игровой платформой ', name.upper(), ': Высокая', critic_correlation)\n",
    "    if 0.9 >= critic_correlation >= 0.7:\n",
    "        print('Корреляция между отзывами критиков и игровой платформой ', name.upper(), ': Весьма высокая', critic_correlation)\n",
    "    if 1 >= critic_correlation >= 0.9:\n",
    "        print('Корреляция между отзывами критиков и игровой платформой ', name.upper(), ': Сильная', critic_correlation)\n",
    "    \n",
    "    if 0.3 >= user_correlation >= 0.1:\n",
    "        print('Корреляция между отзывами пользователей и продажами ', name.upper(), ': Слабая', user_correlation)\n",
    "    if 0.5 >= user_correlation >= 0.3:\n",
    "        print('Корреляция между отзывами пользователей и продажами ', name.upper(), ': Умеренная', user_correlation)\n",
    "    if 0.7 >= user_correlation >= 0.5:\n",
    "        print('Корреляция между отзывами пользователей и продажами ', name.upper(), ': Высокая', user_correlation)\n",
    "    if 0.9 >= user_correlation >= 0.7:\n",
    "        print('Корреляция между отзывами пользователей и продажами ', name.upper(), ': Весьма высокая', user_correlation)\n",
    "    if 1 >= user_correlation >= 0.9:\n",
    "        print('Корреляция между отзывами пользователей и продажами ', name.upper(), ': Сильная', user_correlation)\n",
    "    print('\\n')\n",
    "    "
   ]
  },
  {
   "cell_type": "code",
   "execution_count": 33,
   "metadata": {},
   "outputs": [
    {
     "name": "stdout",
     "output_type": "stream",
     "text": [
      "Корреляция между отзывами критиков и игровой платформой  PS4 : Умеренная 0.40589480145836687\n",
      "\n",
      "\n",
      "Корреляция между отзывами критиков и игровой платформой  XONE : Умеренная 0.41042203561296375\n",
      "\n",
      "\n",
      "Корреляция между отзывами критиков и игровой платформой  PC : Слабая 0.257260981042733\n",
      "\n",
      "\n",
      "Корреляция между отзывами критиков и игровой платформой  WIIU : Умеренная 0.350882422488643\n",
      "Корреляция между отзывами пользователей и продажами  WIIU : Умеренная 0.3918479505297129\n",
      "\n",
      "\n",
      "Корреляция между отзывами критиков и игровой платформой  3DS : Умеренная 0.33890386446332155\n",
      "Корреляция между отзывами пользователей и продажами  3DS : Слабая 0.23208872237663558\n",
      "\n",
      "\n",
      "Корреляция между отзывами критиков и игровой платформой  PSV : Слабая 0.13161921121004788\n",
      "\n",
      "\n"
     ]
    },
    {
     "data": {
      "image/png": "[encoded data removed]",
      "text/plain": [
       "<Figure size 1440x720 with 2 Axes>"
      ]
     },
     "metadata": {
      "needs_background": "light"
     },
     "output_type": "display_data"
    },
    {
     "data": {
      "image/png": "[encoded data removed]",
      "text/plain": [
       "<Figure size 1440x720 with 2 Axes>"
      ]
     },
     "metadata": {
      "needs_background": "light"
     },
     "output_type": "display_data"
    },
    {
     "data": {
      "image/png": "[encoded data removed]",
      "text/plain": [
       "<Figure size 1440x720 with 2 Axes>"
      ]
     },
     "metadata": {
      "needs_background": "light"
     },
     "output_type": "display_data"
    },
    {
     "data": {
      "image/png": "[encoded data removed]",
      "text/plain": [
       "<Figure size 1440x720 with 2 Axes>"
      ]
     },
     "metadata": {
      "needs_background": "light"
     },
     "output_type": "display_data"
    },
    {
     "data": {
      "image/png": "[encoded data removed]",
      "text/plain": [
       "<Figure size 1440x720 with 2 Axes>"
      ]
     },
     "metadata": {
      "needs_background": "light"
     },
     "output_type": "display_data"
    },
    {
     "data": {
      "image/png": "[encoded data removed]",
      "text/plain": [
       "<Figure size 1440x720 with 2 Axes>"
      ]
     },
     "metadata": {
      "needs_background": "light"
     },
     "output_type": "display_data"
    }
   ],
   "source": [
    "for platform in top_6_platforms:\n",
    "    platforms(platform)"
   ]
  },
  {
   "cell_type": "markdown",
   "metadata": {},
   "source": [
    "*У всех платформ, как и у топовой PS4, наблюдается связь между продажами и отзывами, но все связи слабые.*"
   ]
  },
  {
   "cell_type": "markdown",
   "metadata": {},
   "source": [
    "**Посмотрим на общее распределение игр по жанрам.**"
   ]
  },
  {
   "cell_type": "code",
   "execution_count": 34,
   "metadata": {
    "scrolled": true
   },
   "outputs": [
    {
     "data": {
      "text/html": [
       "<div>\n",
       "<style scoped>\n",
       "    .dataframe tbody tr th:only-of-type {\n",
       "        vertical-align: middle;\n",
       "    }\n",
       "\n",
       "    .dataframe tbody tr th {\n",
       "        vertical-align: top;\n",
       "    }\n",
       "\n",
       "    .dataframe thead th {\n",
       "        text-align: right;\n",
       "    }\n",
       "</style>\n",
       "<table border=\"1\" class=\"dataframe\">\n",
       "  <thead>\n",
       "    <tr style=\"text-align: right;\">\n",
       "      <th></th>\n",
       "      <th>genre</th>\n",
       "      <th>total_sales</th>\n",
       "    </tr>\n",
       "  </thead>\n",
       "  <tbody>\n",
       "    <tr>\n",
       "      <th>0</th>\n",
       "      <td>Action</td>\n",
       "      <td>49.71</td>\n",
       "    </tr>\n",
       "    <tr>\n",
       "      <th>1</th>\n",
       "      <td>Shooter</td>\n",
       "      <td>25.00</td>\n",
       "    </tr>\n",
       "    <tr>\n",
       "      <th>2</th>\n",
       "      <td>Sports</td>\n",
       "      <td>21.61</td>\n",
       "    </tr>\n",
       "    <tr>\n",
       "      <th>3</th>\n",
       "      <td>Role-Playing</td>\n",
       "      <td>21.39</td>\n",
       "    </tr>\n",
       "    <tr>\n",
       "      <th>4</th>\n",
       "      <td>Misc</td>\n",
       "      <td>10.21</td>\n",
       "    </tr>\n",
       "    <tr>\n",
       "      <th>5</th>\n",
       "      <td>Fighting</td>\n",
       "      <td>8.11</td>\n",
       "    </tr>\n",
       "    <tr>\n",
       "      <th>6</th>\n",
       "      <td>Racing</td>\n",
       "      <td>6.64</td>\n",
       "    </tr>\n",
       "    <tr>\n",
       "      <th>7</th>\n",
       "      <td>Platform</td>\n",
       "      <td>6.52</td>\n",
       "    </tr>\n",
       "    <tr>\n",
       "      <th>8</th>\n",
       "      <td>Adventure</td>\n",
       "      <td>3.86</td>\n",
       "    </tr>\n",
       "    <tr>\n",
       "      <th>9</th>\n",
       "      <td>Simulation</td>\n",
       "      <td>3.58</td>\n",
       "    </tr>\n",
       "    <tr>\n",
       "      <th>10</th>\n",
       "      <td>Strategy</td>\n",
       "      <td>2.67</td>\n",
       "    </tr>\n",
       "    <tr>\n",
       "      <th>11</th>\n",
       "      <td>Puzzle</td>\n",
       "      <td>1.28</td>\n",
       "    </tr>\n",
       "  </tbody>\n",
       "</table>\n",
       "</div>"
      ],
      "text/plain": [
       "           genre  total_sales\n",
       "0         Action        49.71\n",
       "1        Shooter        25.00\n",
       "2         Sports        21.61\n",
       "3   Role-Playing        21.39\n",
       "4           Misc        10.21\n",
       "5       Fighting         8.11\n",
       "6         Racing         6.64\n",
       "7       Platform         6.52\n",
       "8      Adventure         3.86\n",
       "9     Simulation         3.58\n",
       "10      Strategy         2.67\n",
       "11        Puzzle         1.28"
      ]
     },
     "execution_count": 34,
     "metadata": {},
     "output_type": "execute_result"
    }
   ],
   "source": [
    "distribution_of_genres = top_6_platforms_data.pivot_table(index='genre', values='total_sales', aggfunc='sum').sort_values(\n",
    "by='total_sales', ascending=False).reset_index().rename_axis(None, axis=1)\n",
    "\n",
    "distribution_of_genres"
   ]
  },
  {
   "cell_type": "markdown",
   "metadata": {},
   "source": [
    "*Action, Role-Playing и Shooter лидируют в выпуске на платформах*"
   ]
  },
  {
   "cell_type": "markdown",
   "metadata": {},
   "source": [
    "**Посмотрим распределение жанров по продажам**"
   ]
  },
  {
   "cell_type": "code",
   "execution_count": 35,
   "metadata": {},
   "outputs": [
    {
     "data": {
      "text/html": [
       "<div>\n",
       "<style scoped>\n",
       "    .dataframe tbody tr th:only-of-type {\n",
       "        vertical-align: middle;\n",
       "    }\n",
       "\n",
       "    .dataframe tbody tr th {\n",
       "        vertical-align: top;\n",
       "    }\n",
       "\n",
       "    .dataframe thead th {\n",
       "        text-align: right;\n",
       "    }\n",
       "</style>\n",
       "<table border=\"1\" class=\"dataframe\">\n",
       "  <thead>\n",
       "    <tr style=\"text-align: right;\">\n",
       "      <th></th>\n",
       "      <th>genre</th>\n",
       "      <th>total_sales</th>\n",
       "    </tr>\n",
       "  </thead>\n",
       "  <tbody>\n",
       "    <tr>\n",
       "      <th>8</th>\n",
       "      <td>Shooter</td>\n",
       "      <td>0.438596</td>\n",
       "    </tr>\n",
       "    <tr>\n",
       "      <th>2</th>\n",
       "      <td>Fighting</td>\n",
       "      <td>0.368636</td>\n",
       "    </tr>\n",
       "    <tr>\n",
       "      <th>10</th>\n",
       "      <td>Sports</td>\n",
       "      <td>0.354262</td>\n",
       "    </tr>\n",
       "    <tr>\n",
       "      <th>3</th>\n",
       "      <td>Misc</td>\n",
       "      <td>0.340333</td>\n",
       "    </tr>\n",
       "    <tr>\n",
       "      <th>5</th>\n",
       "      <td>Puzzle</td>\n",
       "      <td>0.320000</td>\n",
       "    </tr>\n",
       "    <tr>\n",
       "      <th>4</th>\n",
       "      <td>Platform</td>\n",
       "      <td>0.296364</td>\n",
       "    </tr>\n",
       "    <tr>\n",
       "      <th>7</th>\n",
       "      <td>Role-Playing</td>\n",
       "      <td>0.277792</td>\n",
       "    </tr>\n",
       "    <tr>\n",
       "      <th>0</th>\n",
       "      <td>Action</td>\n",
       "      <td>0.260262</td>\n",
       "    </tr>\n",
       "    <tr>\n",
       "      <th>9</th>\n",
       "      <td>Simulation</td>\n",
       "      <td>0.210588</td>\n",
       "    </tr>\n",
       "    <tr>\n",
       "      <th>6</th>\n",
       "      <td>Racing</td>\n",
       "      <td>0.207500</td>\n",
       "    </tr>\n",
       "  </tbody>\n",
       "</table>\n",
       "</div>"
      ],
      "text/plain": [
       "           genre  total_sales\n",
       "8        Shooter     0.438596\n",
       "2       Fighting     0.368636\n",
       "10        Sports     0.354262\n",
       "3           Misc     0.340333\n",
       "5         Puzzle     0.320000\n",
       "4       Platform     0.296364\n",
       "7   Role-Playing     0.277792\n",
       "0         Action     0.260262\n",
       "9     Simulation     0.210588\n",
       "6         Racing     0.207500"
      ]
     },
     "metadata": {},
     "output_type": "display_data"
    }
   ],
   "source": [
    "distribution_of_sales = top_6_platforms_data.groupby('genre').agg({'total_sales':'mean'}).reset_index()\n",
    "display(distribution_of_sales.sort_values(by='total_sales', ascending=False).head(10))"
   ]
  },
  {
   "cell_type": "code",
   "execution_count": 36,
   "metadata": {},
   "outputs": [
    {
     "data": {
      "text/html": [
       "<div>\n",
       "<style scoped>\n",
       "    .dataframe tbody tr th:only-of-type {\n",
       "        vertical-align: middle;\n",
       "    }\n",
       "\n",
       "    .dataframe tbody tr th {\n",
       "        vertical-align: top;\n",
       "    }\n",
       "\n",
       "    .dataframe thead th {\n",
       "        text-align: right;\n",
       "    }\n",
       "</style>\n",
       "<table border=\"1\" class=\"dataframe\">\n",
       "  <thead>\n",
       "    <tr style=\"text-align: right;\">\n",
       "      <th></th>\n",
       "      <th>genre</th>\n",
       "      <th>total_sales</th>\n",
       "    </tr>\n",
       "  </thead>\n",
       "  <tbody>\n",
       "    <tr>\n",
       "      <th>8</th>\n",
       "      <td>Shooter</td>\n",
       "      <td>0.370</td>\n",
       "    </tr>\n",
       "    <tr>\n",
       "      <th>3</th>\n",
       "      <td>Misc</td>\n",
       "      <td>0.320</td>\n",
       "    </tr>\n",
       "    <tr>\n",
       "      <th>10</th>\n",
       "      <td>Sports</td>\n",
       "      <td>0.240</td>\n",
       "    </tr>\n",
       "    <tr>\n",
       "      <th>2</th>\n",
       "      <td>Fighting</td>\n",
       "      <td>0.165</td>\n",
       "    </tr>\n",
       "    <tr>\n",
       "      <th>7</th>\n",
       "      <td>Role-Playing</td>\n",
       "      <td>0.160</td>\n",
       "    </tr>\n",
       "    <tr>\n",
       "      <th>4</th>\n",
       "      <td>Platform</td>\n",
       "      <td>0.140</td>\n",
       "    </tr>\n",
       "    <tr>\n",
       "      <th>9</th>\n",
       "      <td>Simulation</td>\n",
       "      <td>0.140</td>\n",
       "    </tr>\n",
       "    <tr>\n",
       "      <th>0</th>\n",
       "      <td>Action</td>\n",
       "      <td>0.130</td>\n",
       "    </tr>\n",
       "    <tr>\n",
       "      <th>11</th>\n",
       "      <td>Strategy</td>\n",
       "      <td>0.105</td>\n",
       "    </tr>\n",
       "    <tr>\n",
       "      <th>6</th>\n",
       "      <td>Racing</td>\n",
       "      <td>0.095</td>\n",
       "    </tr>\n",
       "  </tbody>\n",
       "</table>\n",
       "</div>"
      ],
      "text/plain": [
       "           genre  total_sales\n",
       "8        Shooter        0.370\n",
       "3           Misc        0.320\n",
       "10        Sports        0.240\n",
       "2       Fighting        0.165\n",
       "7   Role-Playing        0.160\n",
       "4       Platform        0.140\n",
       "9     Simulation        0.140\n",
       "0         Action        0.130\n",
       "11      Strategy        0.105\n",
       "6         Racing        0.095"
      ]
     },
     "metadata": {},
     "output_type": "display_data"
    }
   ],
   "source": [
    "distribution_of_sales = top_6_platforms_data.groupby('genre').agg({'total_sales':'median'}).reset_index()\n",
    "display(distribution_of_sales.sort_values(by='total_sales', ascending=False).head(10))"
   ]
  },
  {
   "cell_type": "markdown",
   "metadata": {},
   "source": [
    "*Рассмотрел средние и медианные значения по жанрам. Как видно из таблиц, Shooter показывает топовые среднее значение и медиану*"
   ]
  },
  {
   "cell_type": "markdown",
   "metadata": {},
   "source": [
    "**4. СОСТАВИМ ПОРТРЕТ ПОЛЬЗОВАТЕЛЯ КАЖДОГО РЕГИОНА**"
   ]
  },
  {
   "cell_type": "markdown",
   "metadata": {},
   "source": [
    "**Определим самые популярные платформы (топ-5)**"
   ]
  },
  {
   "cell_type": "code",
   "execution_count": 37,
   "metadata": {
    "scrolled": true
   },
   "outputs": [
    {
     "data": {
      "text/plain": [
       "<AxesSubplot:xlabel='platform'>"
      ]
     },
     "execution_count": 37,
     "metadata": {},
     "output_type": "execute_result"
    },
    {
     "data": {
      "image/png": "[encoded data removed]",
      "text/plain": [
       "<Figure size 432x288 with 1 Axes>"
      ]
     },
     "metadata": {
      "needs_background": "light"
     },
     "output_type": "display_data"
    },
    {
     "data": {
      "image/png": "[encoded data removed]",
      "text/plain": [
       "<Figure size 432x288 with 1 Axes>"
      ]
     },
     "metadata": {
      "needs_background": "light"
     },
     "output_type": "display_data"
    },
    {
     "data": {
      "image/png": "[encoded data removed]",
      "text/plain": [
       "<Figure size 432x288 with 1 Axes>"
      ]
     },
     "metadata": {
      "needs_background": "light"
     },
     "output_type": "display_data"
    }
   ],
   "source": [
    "release_period.groupby(by='platform').agg({'na_sales':'sum'}).sort_values(by='na_sales', ascending=False).head(5).plot(kind='bar')\n",
    "release_period.groupby(by='platform').agg({'eu_sales':'sum'}).sort_values(by='eu_sales', ascending=False).head(5).plot(kind='bar')\n",
    "release_period.groupby(by='platform').agg({'jp_sales':'sum'}).sort_values(by='jp_sales', ascending=False).head(5).plot(kind='bar')"
   ]
  },
  {
   "cell_type": "markdown",
   "metadata": {},
   "source": [
    "*В Америке предпочитают игры на платформе PS4, хотя, если брать данные с 2009 года, то в лидерах XONE, видимо с 2013 года на PS4 выпусколось больше игр и с более лучшим интерффейсом. В Европе доминирует также PS4. Интересно, что в Японии, игроки предпочитают портативную 3DS, видимо японские игроманы более подвижны.*  "
   ]
  },
  {
   "cell_type": "markdown",
   "metadata": {},
   "source": [
    "**Определим Самые популярные жанры (топ-5)**"
   ]
  },
  {
   "cell_type": "code",
   "execution_count": 38,
   "metadata": {},
   "outputs": [
    {
     "data": {
      "text/plain": [
       "<AxesSubplot:xlabel='genre'>"
      ]
     },
     "execution_count": 38,
     "metadata": {},
     "output_type": "execute_result"
    },
    {
     "data": {
      "image/png": "[encoded data removed]",
      "text/plain": [
       "<Figure size 432x288 with 1 Axes>"
      ]
     },
     "metadata": {
      "needs_background": "light"
     },
     "output_type": "display_data"
    },
    {
     "data": {
      "image/png": "[encoded data removed]",
      "text/plain": [
       "<Figure size 432x288 with 1 Axes>"
      ]
     },
     "metadata": {
      "needs_background": "light"
     },
     "output_type": "display_data"
    },
    {
     "data": {
      "image/png": "[encoded data removed]",
      "text/plain": [
       "<Figure size 432x288 with 1 Axes>"
      ]
     },
     "metadata": {
      "needs_background": "light"
     },
     "output_type": "display_data"
    }
   ],
   "source": [
    "release_period.groupby(by='genre').agg({'na_sales':'sum'}).sort_values(by='na_sales', ascending=False).head(5).plot(kind='bar')\n",
    "release_period.groupby(by='genre').agg({'eu_sales':'sum'}).sort_values(by='eu_sales', ascending=False).head(5).plot(kind='bar')\n",
    "release_period.groupby(by='genre').agg({'jp_sales':'sum'}).sort_values(by='jp_sales', ascending=False).head(5).plot(kind='bar')"
   ]
  },
  {
   "cell_type": "markdown",
   "metadata": {},
   "source": [
    "*В Северной Америке больше любат Shooter, а в Европе Action. Японцы предпочитают ролевые игры, так как очень много игр такого жанра выпускают именно в Японии.*"
   ]
  },
  {
   "cell_type": "markdown",
   "metadata": {},
   "source": [
    "**Рассмотрим влияние ESRB на продажи в каждом регионе**"
   ]
  },
  {
   "cell_type": "code",
   "execution_count": 39,
   "metadata": {},
   "outputs": [
    {
     "data": {
      "text/plain": [
       "<AxesSubplot:xlabel='rating'>"
      ]
     },
     "execution_count": 39,
     "metadata": {},
     "output_type": "execute_result"
    },
    {
     "data": {
      "image/png": "[encoded data removed]",
      "text/plain": [
       "<Figure size 432x288 with 1 Axes>"
      ]
     },
     "metadata": {
      "needs_background": "light"
     },
     "output_type": "display_data"
    },
    {
     "data": {
      "image/png": "[encoded data removed]",
      "text/plain": [
       "<Figure size 432x288 with 1 Axes>"
      ]
     },
     "metadata": {
      "needs_background": "light"
     },
     "output_type": "display_data"
    },
    {
     "data": {
      "image/png": "[encoded data removed]",
      "text/plain": [
       "<Figure size 432x288 with 1 Axes>"
      ]
     },
     "metadata": {
      "needs_background": "light"
     },
     "output_type": "display_data"
    }
   ],
   "source": [
    "release_period.groupby(by='rating').agg({'na_sales':'sum'}).sort_values(by='na_sales', ascending=False).head(5).plot(kind='bar')\n",
    "release_period.groupby(by='rating').agg({'eu_sales':'sum'}).sort_values(by='eu_sales', ascending=False).head(5).plot(kind='bar')\n",
    "release_period.groupby(by='rating').agg({'jp_sales':'sum'}).sort_values(by='jp_sales', ascending=False).head(5).plot(kind='bar')"
   ]
  },
  {
   "cell_type": "markdown",
   "metadata": {},
   "source": [
    "*Все (E) это базовый рейтинг. Игры с таким рейтингом имеют контент, который «в целом подходит для всех возрастов». Они могут содержать незначительные случаи мультипликационного насилия или комического вреда.\n",
    "Данный рейтинг привалирует во всех регионах. В Японии, из-за некорректной выгрузки, много занчений без рейтинг. Если их не брать в счет, то рейтинг Е, также в топе в Японии.*"
   ]
  },
  {
   "cell_type": "markdown",
   "metadata": {},
   "source": [
    "**СДЕЛАНО**"
   ]
  },
  {
   "cell_type": "markdown",
   "metadata": {},
   "source": [
    "**5. ПРОВЕРИМ ГИПОТЕЗЫ**"
   ]
  },
  {
   "cell_type": "markdown",
   "metadata": {},
   "source": [
    "**Проверим гипотезу - \"средние пользовательские рейтинги платформ Xbox One и PC одинаковые\"**"
   ]
  },
  {
   "cell_type": "markdown",
   "metadata": {},
   "source": [
    "H0: средний пользовательский рейтинг платформ Xbox One и PC одинаковый\n",
    "\n",
    "H1: средний пользовательский рейтинг платформ Xbox One и PC различается"
   ]
  },
  {
   "cell_type": "code",
   "execution_count": 40,
   "metadata": {},
   "outputs": [],
   "source": [
    "alpha = 0.05"
   ]
  },
  {
   "cell_type": "code",
   "execution_count": 41,
   "metadata": {},
   "outputs": [
    {
     "name": "stdout",
     "output_type": "stream",
     "text": [
      "p-значение: 0.12817793652639856\n",
      "Не получилось отвергнуть нулевую гипотезу\n"
     ]
    }
   ],
   "source": [
    "xone = release_period[(release_period['platform'] == 'XOne') & (release_period['user_score'] > 0)]['user_score']\n",
    "pc = release_period[(release_period['platform'] == 'PC') & (release_period['user_score'] > 0)]['user_score']\n",
    "results = st.ttest_ind(xone, pc)\n",
    "\n",
    "print('p-значение:', results.pvalue)\n",
    "\n",
    "if (results.pvalue < alpha):\n",
    "    print(\"Отвергаем нулевую гипотезу\")\n",
    "else:\n",
    "    print(\"Не получилось отвергнуть нулевую гипотезу\")"
   ]
  },
  {
   "cell_type": "markdown",
   "metadata": {},
   "source": [
    "**СДЕЛАНО**"
   ]
  },
  {
   "cell_type": "markdown",
   "metadata": {},
   "source": [
    "**Проверим гипотезу - \"cредние пользовательские рейтинги жанров Action и Sports разные.\"**"
   ]
  },
  {
   "cell_type": "markdown",
   "metadata": {},
   "source": [
    "H0: средний пользовательский рейтинг жанров Action и Sports одинаковый\n",
    "\n",
    "H1: средний пользовательский рейтинг жанров Action и Sports различается"
   ]
  },
  {
   "cell_type": "code",
   "execution_count": 42,
   "metadata": {},
   "outputs": [
    {
     "name": "stdout",
     "output_type": "stream",
     "text": [
      "p-значение: 4.0540895999943536e-10\n",
      "Отвергаем нулевую гипотезу\n"
     ]
    }
   ],
   "source": [
    "action = release_period[(release_period['genre'] == 'Action') & (release_period['user_score'] > 0)]['user_score']\n",
    "sports = release_period[(release_period['genre'] == 'Sports') & (release_period['user_score'] > 0)]['user_score']\n",
    "results = st.ttest_ind(action, sports)\n",
    "\n",
    "print('p-значение:', results.pvalue)\n",
    "\n",
    "if (results.pvalue < alpha):\n",
    "    print(\"Отвергаем нулевую гипотезу\")\n",
    "else:\n",
    "    print(\"Не получилось отвергнуть нулевую гипотезу\")"
   ]
  },
  {
   "cell_type": "markdown",
   "metadata": {},
   "source": [
    "**СДЕЛАНО**"
   ]
  },
  {
   "cell_type": "markdown",
   "metadata": {},
   "source": [
    "*При проверке гипотез использовали функцию ttest_ind, вычисляющей t-тест двух независимых выборок:*\n",
    "\n",
    "*Гипотезу  \"Средние пользовательские рейтинги платформ Xbox one и PC одинаковые\" - отвергаем, рейтинги разные.* \n",
    "*Гипотезу \"Средние пользовательские рейтинги жанров Action и Sports разные\" - не отвергаем.*"
   ]
  },
  {
   "cell_type": "markdown",
   "metadata": {},
   "source": [
    "**6. ОБЩИЙ ВЫВОД:** "
   ]
  },
  {
   "cell_type": "markdown",
   "metadata": {},
   "source": [
    "*Анализ показал, что пик динамики по выпуску игр пришелся на период 1990 - 2008 гг., после чего был спад в связи с разарботкой мобильных платформ и игр.* \n",
    "\n",
    "*Наиболее популярными приставками среди пользователей стали: PS2, X360, PS3, WII, DS, PS*\n",
    "\n",
    "*У ТОП-5 платформ есть слабая связь между продажами и оценками пользователе, при этом связь с оценками критиков плотнее, что говорит о влиянии именно критиков на продажи игр.* \n",
    "\n",
    "*Топ жанром за изучаемый период является Action. Минимальное количество продаж в жанре Strategy.*\n",
    "\n",
    "*В Северной Америке:*\n",
    "*Топ платформы: XBOX, PS2, WII, PS3, DS*\n",
    "*Топ жанры: action, sports, shooter, platform, misc*\n",
    "*Топ игр с рейтингом \"Е\"(для всех).*\n",
    "\n",
    "*В Европе:*\n",
    "*Топ платформы: PS2, PS3, XBOX, WII, PS*\n",
    "*Топ жанры: action, sports, shooter, racing, misc*\n",
    "*Топ игр с рейтингом \"Е\"(для всех).*\n",
    "\n",
    "*В Японии:*\n",
    "*Топ платформы: DS, PS, PS2, SNES, 3DS*\n",
    "*Топ жанры: role-playing, action, sports, platform, misc*\n",
    "*Топ игр с рейтингом \"Е\"(для всех).*\n",
    "\n",
    "*В 2017 году необходимо делать упор на жанрах action, sports и shooter, так как за весь исследуемый период, данные жанр остаются в топах. Технологии постоянно развиваются, но топы мы видим в одних производителях PS и Xbox.* \n"
   ]
  },
  {
   "cell_type": "code",
   "execution_count": null,
   "metadata": {},
   "outputs": [],
   "source": []
  }
 ],
 "metadata": {
  "ExecuteTimeLog": [
   {
    "duration": 95,
    "start_time": "2022-03-02T18:37:15.510Z"
   },
   {
    "duration": 1094,
    "start_time": "2022-03-02T18:51:43.734Z"
   },
   {
    "duration": 72,
    "start_time": "2022-03-02T18:52:06.240Z"
   },
   {
    "duration": 55,
    "start_time": "2022-03-02T18:52:49.862Z"
   },
   {
    "duration": 78,
    "start_time": "2022-03-02T18:52:57.395Z"
   },
   {
    "duration": 72,
    "start_time": "2022-03-02T18:55:34.749Z"
   },
   {
    "duration": 75,
    "start_time": "2022-03-02T18:55:47.350Z"
   },
   {
    "duration": 269,
    "start_time": "2022-03-02T19:04:39.395Z"
   },
   {
    "duration": 207,
    "start_time": "2022-03-02T19:04:58.174Z"
   },
   {
    "duration": 3,
    "start_time": "2022-03-02T19:07:31.180Z"
   },
   {
    "duration": 16,
    "start_time": "2022-03-02T19:07:44.537Z"
   },
   {
    "duration": 243,
    "start_time": "2022-03-02T19:07:56.746Z"
   },
   {
    "duration": 172,
    "start_time": "2022-03-02T19:08:27.100Z"
   },
   {
    "duration": 195,
    "start_time": "2022-03-02T19:10:28.753Z"
   },
   {
    "duration": 176,
    "start_time": "2022-03-02T19:10:37.811Z"
   },
   {
    "duration": 3,
    "start_time": "2022-03-02T19:10:44.622Z"
   },
   {
    "duration": 70,
    "start_time": "2022-03-02T19:10:46.950Z"
   },
   {
    "duration": 16,
    "start_time": "2022-03-02T19:10:50.023Z"
   },
   {
    "duration": 780,
    "start_time": "2022-03-02T19:11:01.968Z"
   },
   {
    "duration": 3,
    "start_time": "2022-03-02T19:11:19.104Z"
   },
   {
    "duration": 71,
    "start_time": "2022-03-02T19:11:20.968Z"
   },
   {
    "duration": 775,
    "start_time": "2022-03-02T19:11:26.307Z"
   },
   {
    "duration": 825,
    "start_time": "2022-03-02T19:11:54.862Z"
   },
   {
    "duration": 20,
    "start_time": "2022-03-02T19:18:37.122Z"
   },
   {
    "duration": 17,
    "start_time": "2022-03-02T19:20:13.938Z"
   },
   {
    "duration": 15,
    "start_time": "2022-03-02T19:26:49.822Z"
   },
   {
    "duration": 12,
    "start_time": "2022-03-02T19:26:53.539Z"
   },
   {
    "duration": 195,
    "start_time": "2022-03-02T19:35:15.481Z"
   },
   {
    "duration": 200,
    "start_time": "2022-03-02T19:35:44.625Z"
   },
   {
    "duration": 190,
    "start_time": "2022-03-02T19:36:51.735Z"
   },
   {
    "duration": 187,
    "start_time": "2022-03-02T19:37:55.022Z"
   },
   {
    "duration": 193,
    "start_time": "2022-03-02T19:40:07.799Z"
   },
   {
    "duration": 23,
    "start_time": "2022-03-02T19:43:48.552Z"
   },
   {
    "duration": 711,
    "start_time": "2022-03-02T19:44:02.722Z"
   },
   {
    "duration": 13,
    "start_time": "2022-03-02T19:44:16.494Z"
   },
   {
    "duration": 15,
    "start_time": "2022-03-02T19:44:20.898Z"
   },
   {
    "duration": 728,
    "start_time": "2022-03-02T19:45:48.103Z"
   },
   {
    "duration": 25,
    "start_time": "2022-03-02T19:46:42.941Z"
   },
   {
    "duration": 193,
    "start_time": "2022-03-02T19:46:54.533Z"
   },
   {
    "duration": 720,
    "start_time": "2022-03-02T19:48:47.423Z"
   },
   {
    "duration": 968,
    "start_time": "2022-03-02T19:48:53.898Z"
   },
   {
    "duration": 79,
    "start_time": "2022-03-02T19:48:54.868Z"
   },
   {
    "duration": 19,
    "start_time": "2022-03-02T19:48:54.950Z"
   },
   {
    "duration": 9,
    "start_time": "2022-03-02T19:48:54.971Z"
   },
   {
    "duration": 876,
    "start_time": "2022-03-02T19:48:54.982Z"
   },
   {
    "duration": 738,
    "start_time": "2022-03-02T19:52:37.864Z"
   },
   {
    "duration": 1051,
    "start_time": "2022-03-02T19:53:03.710Z"
   },
   {
    "duration": 757,
    "start_time": "2022-03-02T19:55:18.478Z"
   },
   {
    "duration": 745,
    "start_time": "2022-03-02T20:05:04.517Z"
   },
   {
    "duration": 704,
    "start_time": "2022-03-02T20:05:29.969Z"
   },
   {
    "duration": 703,
    "start_time": "2022-03-02T20:05:40.050Z"
   },
   {
    "duration": 13,
    "start_time": "2022-03-02T20:06:09.846Z"
   },
   {
    "duration": 719,
    "start_time": "2022-03-02T20:06:19.401Z"
   },
   {
    "duration": 1099,
    "start_time": "2022-03-02T20:06:27.846Z"
   },
   {
    "duration": 110,
    "start_time": "2022-03-02T20:06:28.949Z"
   },
   {
    "duration": 24,
    "start_time": "2022-03-02T20:06:29.061Z"
   },
   {
    "duration": 13,
    "start_time": "2022-03-02T20:06:29.088Z"
   },
   {
    "duration": 2039,
    "start_time": "2022-03-02T20:06:29.103Z"
   },
   {
    "duration": 14,
    "start_time": "2022-03-02T20:07:59.107Z"
   },
   {
    "duration": 5,
    "start_time": "2022-03-02T20:08:14.941Z"
   },
   {
    "duration": 161,
    "start_time": "2022-03-02T20:11:22.867Z"
   },
   {
    "duration": 190,
    "start_time": "2022-03-02T20:11:46.927Z"
   },
   {
    "duration": 6,
    "start_time": "2022-03-02T20:11:59.258Z"
   },
   {
    "duration": 222,
    "start_time": "2022-03-02T20:13:06.793Z"
   },
   {
    "duration": 197,
    "start_time": "2022-03-02T20:14:19.547Z"
   },
   {
    "duration": 7,
    "start_time": "2022-03-02T20:14:25.715Z"
   },
   {
    "duration": 1007,
    "start_time": "2022-03-02T20:14:34.961Z"
   },
   {
    "duration": 90,
    "start_time": "2022-03-02T20:14:35.970Z"
   },
   {
    "duration": 16,
    "start_time": "2022-03-02T20:14:36.063Z"
   },
   {
    "duration": 9,
    "start_time": "2022-03-02T20:14:36.081Z"
   },
   {
    "duration": 4,
    "start_time": "2022-03-02T20:14:36.092Z"
   },
   {
    "duration": 10,
    "start_time": "2022-03-02T20:14:50.873Z"
   },
   {
    "duration": 295,
    "start_time": "2022-03-02T20:15:01.514Z"
   },
   {
    "duration": 4,
    "start_time": "2022-03-02T20:16:17.917Z"
   },
   {
    "duration": 8,
    "start_time": "2022-03-02T20:16:41.287Z"
   },
   {
    "duration": 9,
    "start_time": "2022-03-02T20:16:45.260Z"
   },
   {
    "duration": 10,
    "start_time": "2022-03-02T20:17:07.270Z"
   },
   {
    "duration": 10,
    "start_time": "2022-03-02T20:17:14.323Z"
   },
   {
    "duration": 15,
    "start_time": "2022-03-02T20:17:30.936Z"
   },
   {
    "duration": 8,
    "start_time": "2022-03-02T20:17:35.447Z"
   },
   {
    "duration": 8,
    "start_time": "2022-03-02T20:17:38.317Z"
   },
   {
    "duration": 995,
    "start_time": "2022-03-02T20:17:45.310Z"
   },
   {
    "duration": 82,
    "start_time": "2022-03-02T20:17:46.307Z"
   },
   {
    "duration": 16,
    "start_time": "2022-03-02T20:17:46.391Z"
   },
   {
    "duration": 29,
    "start_time": "2022-03-02T20:17:46.409Z"
   },
   {
    "duration": 13,
    "start_time": "2022-03-02T20:17:46.440Z"
   },
   {
    "duration": 17,
    "start_time": "2022-03-02T20:19:50.683Z"
   },
   {
    "duration": 8,
    "start_time": "2022-03-02T20:20:04.212Z"
   },
   {
    "duration": 10,
    "start_time": "2022-03-02T20:21:06.714Z"
   },
   {
    "duration": 889,
    "start_time": "2022-03-02T20:21:19.998Z"
   },
   {
    "duration": 775,
    "start_time": "2022-03-02T20:21:42.222Z"
   },
   {
    "duration": 717,
    "start_time": "2022-03-02T20:22:05.602Z"
   },
   {
    "duration": 1182,
    "start_time": "2022-03-02T20:22:17.380Z"
   },
   {
    "duration": 80,
    "start_time": "2022-03-02T20:22:18.564Z"
   },
   {
    "duration": 16,
    "start_time": "2022-03-02T20:22:18.649Z"
   },
   {
    "duration": 8,
    "start_time": "2022-03-02T20:22:18.667Z"
   },
   {
    "duration": 943,
    "start_time": "2022-03-02T20:22:18.676Z"
   },
   {
    "duration": 5,
    "start_time": "2022-03-02T20:22:40.722Z"
   },
   {
    "duration": 1032,
    "start_time": "2022-03-02T20:22:49.323Z"
   },
   {
    "duration": 80,
    "start_time": "2022-03-02T20:22:50.357Z"
   },
   {
    "duration": 16,
    "start_time": "2022-03-02T20:22:50.442Z"
   },
   {
    "duration": 11,
    "start_time": "2022-03-02T20:22:50.460Z"
   },
   {
    "duration": 5,
    "start_time": "2022-03-02T20:22:50.473Z"
   },
   {
    "duration": 11,
    "start_time": "2022-03-02T20:23:53.497Z"
   },
   {
    "duration": 6,
    "start_time": "2022-03-02T20:24:08.569Z"
   },
   {
    "duration": 1014,
    "start_time": "2022-03-02T20:24:13.455Z"
   },
   {
    "duration": 81,
    "start_time": "2022-03-02T20:24:14.471Z"
   },
   {
    "duration": 16,
    "start_time": "2022-03-02T20:24:14.554Z"
   },
   {
    "duration": 10,
    "start_time": "2022-03-02T20:24:14.572Z"
   },
   {
    "duration": 4,
    "start_time": "2022-03-02T20:24:14.584Z"
   },
   {
    "duration": 8,
    "start_time": "2022-03-02T20:24:38.019Z"
   },
   {
    "duration": 809,
    "start_time": "2022-03-02T20:26:46.366Z"
   },
   {
    "duration": 694,
    "start_time": "2022-03-02T20:26:58.457Z"
   },
   {
    "duration": 1097,
    "start_time": "2022-03-02T20:27:06.516Z"
   },
   {
    "duration": 78,
    "start_time": "2022-03-02T20:27:07.614Z"
   },
   {
    "duration": 16,
    "start_time": "2022-03-02T20:27:07.694Z"
   },
   {
    "duration": 30,
    "start_time": "2022-03-02T20:27:07.713Z"
   },
   {
    "duration": 764,
    "start_time": "2022-03-02T20:27:07.745Z"
   },
   {
    "duration": 718,
    "start_time": "2022-03-02T20:27:21.797Z"
   },
   {
    "duration": 1032,
    "start_time": "2022-03-02T20:27:29.593Z"
   },
   {
    "duration": 116,
    "start_time": "2022-03-02T20:27:30.627Z"
   },
   {
    "duration": 17,
    "start_time": "2022-03-02T20:27:30.748Z"
   },
   {
    "duration": 9,
    "start_time": "2022-03-02T20:27:30.766Z"
   },
   {
    "duration": 8,
    "start_time": "2022-03-02T20:27:30.777Z"
   },
   {
    "duration": 12,
    "start_time": "2022-03-02T20:27:53.463Z"
   },
   {
    "duration": 12,
    "start_time": "2022-03-02T20:28:04.164Z"
   },
   {
    "duration": 1183,
    "start_time": "2022-03-02T20:28:11.585Z"
   },
   {
    "duration": 84,
    "start_time": "2022-03-02T20:28:12.771Z"
   },
   {
    "duration": 17,
    "start_time": "2022-03-02T20:28:12.857Z"
   },
   {
    "duration": 9,
    "start_time": "2022-03-02T20:28:12.876Z"
   },
   {
    "duration": 827,
    "start_time": "2022-03-02T20:28:12.886Z"
   },
   {
    "duration": 713,
    "start_time": "2022-03-02T20:28:19.754Z"
   },
   {
    "duration": 1015,
    "start_time": "2022-03-02T20:28:25.978Z"
   },
   {
    "duration": 83,
    "start_time": "2022-03-02T20:28:26.995Z"
   },
   {
    "duration": 17,
    "start_time": "2022-03-02T20:28:27.079Z"
   },
   {
    "duration": 9,
    "start_time": "2022-03-02T20:28:27.098Z"
   },
   {
    "duration": 32,
    "start_time": "2022-03-02T20:28:27.109Z"
   },
   {
    "duration": 13,
    "start_time": "2022-03-02T20:29:05.880Z"
   },
   {
    "duration": 1202,
    "start_time": "2022-03-02T20:30:59.384Z"
   },
   {
    "duration": 117,
    "start_time": "2022-03-02T20:31:00.589Z"
   },
   {
    "duration": 35,
    "start_time": "2022-03-02T20:31:00.708Z"
   },
   {
    "duration": 11,
    "start_time": "2022-03-02T20:31:00.748Z"
   },
   {
    "duration": 16,
    "start_time": "2022-03-02T20:31:00.760Z"
   },
   {
    "duration": 31,
    "start_time": "2022-03-02T20:31:46.530Z"
   },
   {
    "duration": 5,
    "start_time": "2022-03-02T20:35:06.229Z"
   },
   {
    "duration": 8,
    "start_time": "2022-03-02T20:40:59.704Z"
   },
   {
    "duration": 1194,
    "start_time": "2022-03-02T20:41:08.806Z"
   },
   {
    "duration": 84,
    "start_time": "2022-03-02T20:41:10.002Z"
   },
   {
    "duration": 17,
    "start_time": "2022-03-02T20:41:10.088Z"
   },
   {
    "duration": 29,
    "start_time": "2022-03-02T20:41:10.107Z"
   },
   {
    "duration": 11,
    "start_time": "2022-03-02T20:41:10.138Z"
   },
   {
    "duration": 25,
    "start_time": "2022-03-02T20:41:10.151Z"
   },
   {
    "duration": 6,
    "start_time": "2022-03-02T20:41:10.177Z"
   },
   {
    "duration": 7,
    "start_time": "2022-03-02T20:42:15.557Z"
   },
   {
    "duration": 1127,
    "start_time": "2022-03-02T20:42:35.327Z"
   },
   {
    "duration": 105,
    "start_time": "2022-03-02T20:42:36.456Z"
   },
   {
    "duration": 22,
    "start_time": "2022-03-02T20:42:36.564Z"
   },
   {
    "duration": 13,
    "start_time": "2022-03-02T20:42:36.588Z"
   },
   {
    "duration": 36,
    "start_time": "2022-03-02T20:42:36.603Z"
   },
   {
    "duration": 25,
    "start_time": "2022-03-02T20:42:36.641Z"
   },
   {
    "duration": 5,
    "start_time": "2022-03-02T20:42:36.667Z"
   },
   {
    "duration": 10,
    "start_time": "2022-03-02T20:44:16.581Z"
   },
   {
    "duration": 7,
    "start_time": "2022-03-02T20:44:23.894Z"
   },
   {
    "duration": 1032,
    "start_time": "2022-03-02T20:44:41.428Z"
   },
   {
    "duration": 80,
    "start_time": "2022-03-02T20:44:42.462Z"
   },
   {
    "duration": 18,
    "start_time": "2022-03-02T20:44:42.544Z"
   },
   {
    "duration": 9,
    "start_time": "2022-03-02T20:44:42.564Z"
   },
   {
    "duration": 6,
    "start_time": "2022-03-02T20:44:42.574Z"
   },
   {
    "duration": 51,
    "start_time": "2022-03-02T20:44:42.582Z"
   },
   {
    "duration": 5,
    "start_time": "2022-03-02T20:44:42.635Z"
   },
   {
    "duration": 8,
    "start_time": "2022-03-02T20:45:47.022Z"
   },
   {
    "duration": 273,
    "start_time": "2022-03-02T20:46:05.796Z"
   },
   {
    "duration": 9,
    "start_time": "2022-03-02T20:46:22.564Z"
   },
   {
    "duration": 1016,
    "start_time": "2022-03-02T20:46:30.134Z"
   },
   {
    "duration": 88,
    "start_time": "2022-03-02T20:46:31.153Z"
   },
   {
    "duration": 19,
    "start_time": "2022-03-02T20:46:31.243Z"
   },
   {
    "duration": 10,
    "start_time": "2022-03-02T20:46:31.264Z"
   },
   {
    "duration": 10,
    "start_time": "2022-03-02T20:46:31.276Z"
   },
   {
    "duration": 51,
    "start_time": "2022-03-02T20:46:31.287Z"
   },
   {
    "duration": 7,
    "start_time": "2022-03-02T20:46:31.340Z"
   },
   {
    "duration": 23,
    "start_time": "2022-03-02T20:48:46.544Z"
   },
   {
    "duration": 9,
    "start_time": "2022-03-02T20:53:41.819Z"
   },
   {
    "duration": 7,
    "start_time": "2022-03-02T20:57:23.711Z"
   },
   {
    "duration": 13,
    "start_time": "2022-03-02T20:57:33.686Z"
   },
   {
    "duration": 5,
    "start_time": "2022-03-02T20:57:43.766Z"
   },
   {
    "duration": 768,
    "start_time": "2022-03-02T20:58:09.461Z"
   },
   {
    "duration": 5,
    "start_time": "2022-03-02T20:58:17.993Z"
   },
   {
    "duration": 11,
    "start_time": "2022-03-02T20:58:29.372Z"
   },
   {
    "duration": 1449,
    "start_time": "2022-03-03T06:55:57.240Z"
   },
   {
    "duration": 119,
    "start_time": "2022-03-03T06:55:58.691Z"
   },
   {
    "duration": 26,
    "start_time": "2022-03-03T06:55:58.812Z"
   },
   {
    "duration": 34,
    "start_time": "2022-03-03T06:55:58.841Z"
   },
   {
    "duration": 9,
    "start_time": "2022-03-03T06:55:58.877Z"
   },
   {
    "duration": 34,
    "start_time": "2022-03-03T06:55:58.888Z"
   },
   {
    "duration": 6,
    "start_time": "2022-03-03T06:55:58.925Z"
   },
   {
    "duration": 12,
    "start_time": "2022-03-03T06:55:58.974Z"
   },
   {
    "duration": 17,
    "start_time": "2022-03-03T06:55:58.989Z"
   },
   {
    "duration": 8,
    "start_time": "2022-03-03T06:55:59.008Z"
   },
   {
    "duration": 9,
    "start_time": "2022-03-03T06:55:59.018Z"
   },
   {
    "duration": 17,
    "start_time": "2022-03-03T06:55:59.029Z"
   },
   {
    "duration": 12,
    "start_time": "2022-03-03T06:55:59.074Z"
   },
   {
    "duration": 12,
    "start_time": "2022-03-03T06:56:10.928Z"
   },
   {
    "duration": 16,
    "start_time": "2022-03-03T06:56:48.311Z"
   },
   {
    "duration": 16,
    "start_time": "2022-03-03T07:00:07.894Z"
   },
   {
    "duration": 12,
    "start_time": "2022-03-03T07:00:18.723Z"
   },
   {
    "duration": 18,
    "start_time": "2022-03-03T07:29:26.184Z"
   },
   {
    "duration": 21,
    "start_time": "2022-03-03T07:31:25.462Z"
   },
   {
    "duration": 26,
    "start_time": "2022-03-03T07:35:39.493Z"
   },
   {
    "duration": 320,
    "start_time": "2022-03-03T19:14:30.158Z"
   },
   {
    "duration": 1372,
    "start_time": "2022-03-03T19:14:37.459Z"
   },
   {
    "duration": 116,
    "start_time": "2022-03-03T19:14:38.834Z"
   },
   {
    "duration": 42,
    "start_time": "2022-03-03T19:14:38.956Z"
   },
   {
    "duration": 16,
    "start_time": "2022-03-03T19:14:39.000Z"
   },
   {
    "duration": 14,
    "start_time": "2022-03-03T19:14:39.019Z"
   },
   {
    "duration": 70,
    "start_time": "2022-03-03T19:14:39.035Z"
   },
   {
    "duration": 7,
    "start_time": "2022-03-03T19:14:39.108Z"
   },
   {
    "duration": 11,
    "start_time": "2022-03-03T19:14:39.118Z"
   },
   {
    "duration": 14,
    "start_time": "2022-03-03T19:14:39.132Z"
   },
   {
    "duration": 41,
    "start_time": "2022-03-03T19:14:39.148Z"
   },
   {
    "duration": 11,
    "start_time": "2022-03-03T19:14:39.191Z"
   },
   {
    "duration": 16,
    "start_time": "2022-03-03T19:14:39.204Z"
   },
   {
    "duration": 13,
    "start_time": "2022-03-03T19:14:39.222Z"
   },
   {
    "duration": 54,
    "start_time": "2022-03-03T19:14:39.239Z"
   },
   {
    "duration": 26,
    "start_time": "2022-03-03T19:14:39.295Z"
   },
   {
    "duration": 408,
    "start_time": "2022-03-03T19:14:39.323Z"
   },
   {
    "duration": 422,
    "start_time": "2022-03-03T19:25:44.555Z"
   },
   {
    "duration": 614,
    "start_time": "2022-03-03T19:26:00.850Z"
   },
   {
    "duration": 558,
    "start_time": "2022-03-03T19:26:11.835Z"
   },
   {
    "duration": 264,
    "start_time": "2022-03-03T19:43:30.205Z"
   },
   {
    "duration": 91,
    "start_time": "2022-03-03T20:02:34.354Z"
   },
   {
    "duration": 371,
    "start_time": "2022-03-03T20:02:59.540Z"
   },
   {
    "duration": 361,
    "start_time": "2022-03-03T20:04:29.529Z"
   },
   {
    "duration": 252,
    "start_time": "2022-03-03T20:04:34.292Z"
   },
   {
    "duration": 233,
    "start_time": "2022-03-03T20:04:54.595Z"
   },
   {
    "duration": 295,
    "start_time": "2022-03-03T20:10:36.493Z"
   },
   {
    "duration": 303,
    "start_time": "2022-03-03T20:10:55.186Z"
   },
   {
    "duration": 15,
    "start_time": "2022-03-03T20:11:22.982Z"
   },
   {
    "duration": 5978,
    "start_time": "2022-03-03T20:12:23.295Z"
   },
   {
    "duration": 714,
    "start_time": "2022-03-03T20:12:41.587Z"
   },
   {
    "duration": 621,
    "start_time": "2022-03-03T20:13:26.066Z"
   },
   {
    "duration": 687,
    "start_time": "2022-03-03T20:13:36.729Z"
   },
   {
    "duration": 388,
    "start_time": "2022-03-03T20:14:21.512Z"
   },
   {
    "duration": 15,
    "start_time": "2022-03-03T20:14:58.601Z"
   },
   {
    "duration": 232,
    "start_time": "2022-03-03T20:15:13.486Z"
   },
   {
    "duration": 16,
    "start_time": "2022-03-03T20:17:27.245Z"
   },
   {
    "duration": 234,
    "start_time": "2022-03-03T20:17:52.926Z"
   },
   {
    "duration": 17,
    "start_time": "2022-03-03T20:18:33.014Z"
   },
   {
    "duration": 16,
    "start_time": "2022-03-03T20:19:20.773Z"
   },
   {
    "duration": 15,
    "start_time": "2022-03-03T20:20:28.178Z"
   },
   {
    "duration": 287,
    "start_time": "2022-03-03T20:21:04.030Z"
   },
   {
    "duration": 499,
    "start_time": "2022-03-03T20:21:37.834Z"
   },
   {
    "duration": 248,
    "start_time": "2022-03-03T20:21:46.027Z"
   },
   {
    "duration": 471,
    "start_time": "2022-03-03T20:23:22.391Z"
   },
   {
    "duration": 239,
    "start_time": "2022-03-03T20:25:19.452Z"
   },
   {
    "duration": 8,
    "start_time": "2022-03-03T20:25:22.976Z"
   },
   {
    "duration": 558,
    "start_time": "2022-03-03T20:25:39.118Z"
   },
   {
    "duration": 275,
    "start_time": "2022-03-03T20:27:09.550Z"
   },
   {
    "duration": 752,
    "start_time": "2022-03-03T20:27:29.723Z"
   },
   {
    "duration": 496,
    "start_time": "2022-03-03T20:28:27.411Z"
   },
   {
    "duration": 488,
    "start_time": "2022-03-03T20:29:24.859Z"
   },
   {
    "duration": 649,
    "start_time": "2022-03-03T20:29:42.637Z"
   },
   {
    "duration": 1544,
    "start_time": "2022-03-03T20:31:44.267Z"
   },
   {
    "duration": 5920,
    "start_time": "2022-03-03T20:34:36.930Z"
   },
   {
    "duration": 742,
    "start_time": "2022-03-03T20:35:18.218Z"
   },
   {
    "duration": 6170,
    "start_time": "2022-03-03T20:36:03.262Z"
   },
   {
    "duration": 1443,
    "start_time": "2022-03-03T20:36:13.394Z"
   },
   {
    "duration": 165,
    "start_time": "2022-03-03T20:36:14.840Z"
   },
   {
    "duration": 34,
    "start_time": "2022-03-03T20:36:15.009Z"
   },
   {
    "duration": 45,
    "start_time": "2022-03-03T20:36:15.046Z"
   },
   {
    "duration": 9,
    "start_time": "2022-03-03T20:36:15.094Z"
   },
   {
    "duration": 39,
    "start_time": "2022-03-03T20:36:15.107Z"
   },
   {
    "duration": 10,
    "start_time": "2022-03-03T20:36:15.183Z"
   },
   {
    "duration": 18,
    "start_time": "2022-03-03T20:36:15.196Z"
   },
   {
    "duration": 25,
    "start_time": "2022-03-03T20:36:15.217Z"
   },
   {
    "duration": 10,
    "start_time": "2022-03-03T20:36:15.245Z"
   },
   {
    "duration": 6,
    "start_time": "2022-03-03T20:36:15.282Z"
   },
   {
    "duration": 26,
    "start_time": "2022-03-03T20:36:15.290Z"
   },
   {
    "duration": 10,
    "start_time": "2022-03-03T20:36:15.319Z"
   },
   {
    "duration": 23,
    "start_time": "2022-03-03T20:36:15.332Z"
   },
   {
    "duration": 65,
    "start_time": "2022-03-03T20:36:15.358Z"
   },
   {
    "duration": 618,
    "start_time": "2022-03-03T20:36:15.426Z"
   },
   {
    "duration": 702,
    "start_time": "2022-03-03T20:36:16.047Z"
   },
   {
    "duration": 18,
    "start_time": "2022-03-03T20:36:16.752Z"
   },
   {
    "duration": 944,
    "start_time": "2022-03-04T06:37:52.979Z"
   },
   {
    "duration": 80,
    "start_time": "2022-03-04T06:37:53.925Z"
   },
   {
    "duration": 15,
    "start_time": "2022-03-04T06:37:54.007Z"
   },
   {
    "duration": 22,
    "start_time": "2022-03-04T06:37:54.024Z"
   },
   {
    "duration": 9,
    "start_time": "2022-03-04T06:37:54.047Z"
   },
   {
    "duration": 20,
    "start_time": "2022-03-04T06:37:54.057Z"
   },
   {
    "duration": 5,
    "start_time": "2022-03-04T06:37:54.079Z"
   },
   {
    "duration": 9,
    "start_time": "2022-03-04T06:37:54.085Z"
   },
   {
    "duration": 41,
    "start_time": "2022-03-04T06:37:54.097Z"
   },
   {
    "duration": 5,
    "start_time": "2022-03-04T06:37:54.140Z"
   },
   {
    "duration": 6,
    "start_time": "2022-03-04T06:37:54.147Z"
   },
   {
    "duration": 11,
    "start_time": "2022-03-04T06:37:54.154Z"
   },
   {
    "duration": 9,
    "start_time": "2022-03-04T06:37:54.167Z"
   },
   {
    "duration": 15,
    "start_time": "2022-03-04T06:37:54.177Z"
   },
   {
    "duration": 54,
    "start_time": "2022-03-04T06:37:54.194Z"
   },
   {
    "duration": 265,
    "start_time": "2022-03-04T06:37:54.250Z"
   },
   {
    "duration": 291,
    "start_time": "2022-03-04T06:37:54.517Z"
   },
   {
    "duration": 10,
    "start_time": "2022-03-04T06:37:54.810Z"
   },
   {
    "duration": 154,
    "start_time": "2022-03-04T06:38:16.472Z"
   },
   {
    "duration": 260,
    "start_time": "2022-03-04T06:38:23.821Z"
   },
   {
    "duration": 191,
    "start_time": "2022-03-04T06:38:35.240Z"
   },
   {
    "duration": 191,
    "start_time": "2022-03-04T06:39:16.980Z"
   },
   {
    "duration": 206,
    "start_time": "2022-03-04T06:39:47.028Z"
   },
   {
    "duration": 200,
    "start_time": "2022-03-04T06:40:08.823Z"
   },
   {
    "duration": 287,
    "start_time": "2022-03-04T06:41:12.793Z"
   },
   {
    "duration": 164,
    "start_time": "2022-03-04T08:03:07.068Z"
   },
   {
    "duration": 249,
    "start_time": "2022-03-04T19:02:33.550Z"
   },
   {
    "duration": 227,
    "start_time": "2022-03-04T19:02:38.469Z"
   },
   {
    "duration": 1038,
    "start_time": "2022-03-04T19:02:47.699Z"
   },
   {
    "duration": 76,
    "start_time": "2022-03-04T19:02:48.739Z"
   },
   {
    "duration": 17,
    "start_time": "2022-03-04T19:02:48.817Z"
   },
   {
    "duration": 27,
    "start_time": "2022-03-04T19:02:48.836Z"
   },
   {
    "duration": 8,
    "start_time": "2022-03-04T19:02:48.865Z"
   },
   {
    "duration": 23,
    "start_time": "2022-03-04T19:02:48.874Z"
   },
   {
    "duration": 4,
    "start_time": "2022-03-04T19:02:48.899Z"
   },
   {
    "duration": 6,
    "start_time": "2022-03-04T19:02:48.906Z"
   },
   {
    "duration": 10,
    "start_time": "2022-03-04T19:02:48.913Z"
   },
   {
    "duration": 40,
    "start_time": "2022-03-04T19:02:48.925Z"
   },
   {
    "duration": 5,
    "start_time": "2022-03-04T19:02:48.967Z"
   },
   {
    "duration": 16,
    "start_time": "2022-03-04T19:02:48.974Z"
   },
   {
    "duration": 11,
    "start_time": "2022-03-04T19:02:48.992Z"
   },
   {
    "duration": 21,
    "start_time": "2022-03-04T19:02:49.005Z"
   },
   {
    "duration": 52,
    "start_time": "2022-03-04T19:02:49.028Z"
   },
   {
    "duration": 255,
    "start_time": "2022-03-04T19:02:49.081Z"
   },
   {
    "duration": 161,
    "start_time": "2022-03-04T19:02:49.338Z"
   },
   {
    "duration": 10,
    "start_time": "2022-03-04T19:02:49.500Z"
   },
   {
    "duration": 4,
    "start_time": "2022-03-04T19:02:49.511Z"
   },
   {
    "duration": 6,
    "start_time": "2022-03-04T19:03:09.753Z"
   },
   {
    "duration": 149,
    "start_time": "2022-03-04T19:03:18.646Z"
   },
   {
    "duration": 6,
    "start_time": "2022-03-04T19:03:23.030Z"
   },
   {
    "duration": 265,
    "start_time": "2022-03-04T19:03:54.224Z"
   },
   {
    "duration": 264,
    "start_time": "2022-03-04T19:04:22.338Z"
   },
   {
    "duration": 157,
    "start_time": "2022-03-04T19:06:25.271Z"
   },
   {
    "duration": 176,
    "start_time": "2022-03-04T19:06:35.170Z"
   },
   {
    "duration": 320,
    "start_time": "2022-03-04T19:07:17.261Z"
   },
   {
    "duration": 80,
    "start_time": "2022-03-04T19:14:46.806Z"
   },
   {
    "duration": 330,
    "start_time": "2022-03-04T19:15:08.568Z"
   },
   {
    "duration": 539,
    "start_time": "2022-03-04T19:16:23.600Z"
   },
   {
    "duration": 380,
    "start_time": "2022-03-04T19:16:42.153Z"
   },
   {
    "duration": 240,
    "start_time": "2022-03-04T19:30:04.565Z"
   },
   {
    "duration": 81,
    "start_time": "2022-03-04T19:30:25.298Z"
   },
   {
    "duration": 238,
    "start_time": "2022-03-04T19:30:28.282Z"
   },
   {
    "duration": 215,
    "start_time": "2022-03-04T19:32:46.637Z"
   },
   {
    "duration": 235,
    "start_time": "2022-03-04T19:32:56.135Z"
   },
   {
    "duration": 289,
    "start_time": "2022-03-04T19:33:32.366Z"
   },
   {
    "duration": 244,
    "start_time": "2022-03-04T19:34:03.289Z"
   },
   {
    "duration": 282,
    "start_time": "2022-03-04T19:34:57.422Z"
   },
   {
    "duration": 243,
    "start_time": "2022-03-04T19:35:17.354Z"
   },
   {
    "duration": 400,
    "start_time": "2022-03-04T19:35:30.864Z"
   },
   {
    "duration": 1066,
    "start_time": "2022-03-04T19:35:43.844Z"
   },
   {
    "duration": 73,
    "start_time": "2022-03-04T19:35:44.911Z"
   },
   {
    "duration": 20,
    "start_time": "2022-03-04T19:35:44.986Z"
   },
   {
    "duration": 11,
    "start_time": "2022-03-04T19:35:45.009Z"
   },
   {
    "duration": 11,
    "start_time": "2022-03-04T19:35:45.022Z"
   },
   {
    "duration": 46,
    "start_time": "2022-03-04T19:35:45.034Z"
   },
   {
    "duration": 5,
    "start_time": "2022-03-04T19:35:45.082Z"
   },
   {
    "duration": 8,
    "start_time": "2022-03-04T19:35:45.089Z"
   },
   {
    "duration": 10,
    "start_time": "2022-03-04T19:35:45.098Z"
   },
   {
    "duration": 7,
    "start_time": "2022-03-04T19:35:45.110Z"
   },
   {
    "duration": 7,
    "start_time": "2022-03-04T19:35:45.119Z"
   },
   {
    "duration": 42,
    "start_time": "2022-03-04T19:35:45.127Z"
   },
   {
    "duration": 10,
    "start_time": "2022-03-04T19:35:45.171Z"
   },
   {
    "duration": 36,
    "start_time": "2022-03-04T19:35:45.183Z"
   },
   {
    "duration": 24,
    "start_time": "2022-03-04T19:35:45.221Z"
   },
   {
    "duration": 246,
    "start_time": "2022-03-04T19:35:45.247Z"
   },
   {
    "duration": 289,
    "start_time": "2022-03-04T19:35:45.495Z"
   },
   {
    "duration": 10,
    "start_time": "2022-03-04T19:35:45.786Z"
   },
   {
    "duration": 293,
    "start_time": "2022-03-04T19:50:31.119Z"
   },
   {
    "duration": 335,
    "start_time": "2022-03-04T19:52:05.322Z"
   },
   {
    "duration": 208,
    "start_time": "2022-03-04T19:54:09.349Z"
   },
   {
    "duration": 215,
    "start_time": "2022-03-04T19:54:29.046Z"
   },
   {
    "duration": 214,
    "start_time": "2022-03-04T19:55:41.518Z"
   },
   {
    "duration": 216,
    "start_time": "2022-03-04T19:56:05.209Z"
   },
   {
    "duration": 221,
    "start_time": "2022-03-04T19:56:24.190Z"
   },
   {
    "duration": 215,
    "start_time": "2022-03-04T19:56:32.386Z"
   },
   {
    "duration": 220,
    "start_time": "2022-03-04T19:58:30.529Z"
   },
   {
    "duration": 3,
    "start_time": "2022-03-04T20:02:18.436Z"
   },
   {
    "duration": 22,
    "start_time": "2022-03-04T20:03:43.616Z"
   },
   {
    "duration": 170,
    "start_time": "2022-03-04T20:04:18.459Z"
   },
   {
    "duration": 3187,
    "start_time": "2022-03-04T20:04:37.914Z"
   },
   {
    "duration": 3122,
    "start_time": "2022-03-04T20:06:10.515Z"
   },
   {
    "duration": 5835,
    "start_time": "2022-03-04T20:06:25.433Z"
   },
   {
    "duration": 5738,
    "start_time": "2022-03-04T20:08:16.013Z"
   },
   {
    "duration": 5935,
    "start_time": "2022-03-04T20:08:56.044Z"
   },
   {
    "duration": 249,
    "start_time": "2022-03-04T20:12:18.911Z"
   },
   {
    "duration": 6440,
    "start_time": "2022-03-04T20:14:08.289Z"
   },
   {
    "duration": 232,
    "start_time": "2022-03-04T20:14:30.276Z"
   },
   {
    "duration": 13,
    "start_time": "2022-03-04T20:16:17.287Z"
   },
   {
    "duration": 5697,
    "start_time": "2022-03-04T20:16:26.709Z"
   },
   {
    "duration": 246,
    "start_time": "2022-03-04T20:16:45.679Z"
   },
   {
    "duration": 5061,
    "start_time": "2022-03-04T20:17:07.246Z"
   },
   {
    "duration": 16,
    "start_time": "2022-03-04T20:17:47.524Z"
   },
   {
    "duration": 255,
    "start_time": "2022-03-04T20:18:02.640Z"
   },
   {
    "duration": 224,
    "start_time": "2022-03-04T20:18:29.684Z"
   },
   {
    "duration": 5057,
    "start_time": "2022-03-04T20:19:25.111Z"
   },
   {
    "duration": 76,
    "start_time": "2022-03-04T20:20:04.130Z"
   },
   {
    "duration": 85,
    "start_time": "2022-03-04T20:20:15.164Z"
   },
   {
    "duration": 87,
    "start_time": "2022-03-04T20:20:40.943Z"
   },
   {
    "duration": 73,
    "start_time": "2022-03-04T20:20:43.779Z"
   },
   {
    "duration": 73,
    "start_time": "2022-03-04T20:20:49.007Z"
   },
   {
    "duration": 72,
    "start_time": "2022-03-04T20:20:59.748Z"
   },
   {
    "duration": 66,
    "start_time": "2022-03-04T20:21:05.364Z"
   },
   {
    "duration": 71,
    "start_time": "2022-03-04T20:21:27.031Z"
   },
   {
    "duration": 74,
    "start_time": "2022-03-04T20:21:54.835Z"
   },
   {
    "duration": 1045,
    "start_time": "2022-03-04T20:22:01.118Z"
   },
   {
    "duration": 82,
    "start_time": "2022-03-04T20:22:02.166Z"
   },
   {
    "duration": 20,
    "start_time": "2022-03-04T20:22:02.250Z"
   },
   {
    "duration": 10,
    "start_time": "2022-03-04T20:22:02.271Z"
   },
   {
    "duration": 7,
    "start_time": "2022-03-04T20:22:02.283Z"
   },
   {
    "duration": 33,
    "start_time": "2022-03-04T20:22:02.292Z"
   },
   {
    "duration": 6,
    "start_time": "2022-03-04T20:22:02.327Z"
   },
   {
    "duration": 33,
    "start_time": "2022-03-04T20:22:02.336Z"
   },
   {
    "duration": 14,
    "start_time": "2022-03-04T20:22:02.371Z"
   },
   {
    "duration": 11,
    "start_time": "2022-03-04T20:22:02.387Z"
   },
   {
    "duration": 9,
    "start_time": "2022-03-04T20:22:02.399Z"
   },
   {
    "duration": 12,
    "start_time": "2022-03-04T20:22:02.410Z"
   },
   {
    "duration": 8,
    "start_time": "2022-03-04T20:22:02.424Z"
   },
   {
    "duration": 38,
    "start_time": "2022-03-04T20:22:02.433Z"
   },
   {
    "duration": 24,
    "start_time": "2022-03-04T20:22:02.472Z"
   },
   {
    "duration": 251,
    "start_time": "2022-03-04T20:22:02.498Z"
   },
   {
    "duration": 304,
    "start_time": "2022-03-04T20:22:02.751Z"
   },
   {
    "duration": 14,
    "start_time": "2022-03-04T20:22:03.057Z"
   },
   {
    "duration": 72,
    "start_time": "2022-03-04T20:22:03.073Z"
   },
   {
    "duration": 21,
    "start_time": "2022-03-04T20:22:46.439Z"
   },
   {
    "duration": 16,
    "start_time": "2022-03-04T20:23:28.190Z"
   },
   {
    "duration": 18,
    "start_time": "2022-03-04T20:24:02.548Z"
   },
   {
    "duration": 16,
    "start_time": "2022-03-04T20:24:31.521Z"
   },
   {
    "duration": 2646,
    "start_time": "2022-03-04T20:24:59.675Z"
   },
   {
    "duration": 299,
    "start_time": "2022-03-04T20:25:14.546Z"
   },
   {
    "duration": 899,
    "start_time": "2022-03-04T20:25:46.798Z"
   },
   {
    "duration": 19,
    "start_time": "2022-03-04T20:30:13.275Z"
   },
   {
    "duration": 293,
    "start_time": "2022-03-04T20:31:08.024Z"
   },
   {
    "duration": 383,
    "start_time": "2022-03-04T20:38:23.868Z"
   },
   {
    "duration": 346,
    "start_time": "2022-03-04T20:38:45.001Z"
   },
   {
    "duration": 286,
    "start_time": "2022-03-04T20:39:12.212Z"
   },
   {
    "duration": 314,
    "start_time": "2022-03-04T20:39:24.937Z"
   },
   {
    "duration": 233,
    "start_time": "2022-03-04T20:40:20.378Z"
   },
   {
    "duration": 231,
    "start_time": "2022-03-04T20:41:06.977Z"
   },
   {
    "duration": 74,
    "start_time": "2022-03-04T20:41:44.777Z"
   },
   {
    "duration": 1014,
    "start_time": "2022-03-04T20:42:19.426Z"
   },
   {
    "duration": 74,
    "start_time": "2022-03-04T20:42:20.442Z"
   },
   {
    "duration": 16,
    "start_time": "2022-03-04T20:42:20.518Z"
   },
   {
    "duration": 9,
    "start_time": "2022-03-04T20:42:20.535Z"
   },
   {
    "duration": 23,
    "start_time": "2022-03-04T20:42:20.545Z"
   },
   {
    "duration": 22,
    "start_time": "2022-03-04T20:42:20.569Z"
   },
   {
    "duration": 4,
    "start_time": "2022-03-04T20:42:20.593Z"
   },
   {
    "duration": 8,
    "start_time": "2022-03-04T20:42:20.599Z"
   },
   {
    "duration": 9,
    "start_time": "2022-03-04T20:42:20.608Z"
   },
   {
    "duration": 4,
    "start_time": "2022-03-04T20:42:20.619Z"
   },
   {
    "duration": 39,
    "start_time": "2022-03-04T20:42:20.625Z"
   },
   {
    "duration": 9,
    "start_time": "2022-03-04T20:42:20.666Z"
   },
   {
    "duration": 8,
    "start_time": "2022-03-04T20:42:20.677Z"
   },
   {
    "duration": 20,
    "start_time": "2022-03-04T20:42:20.686Z"
   },
   {
    "duration": 16,
    "start_time": "2022-03-04T20:42:20.708Z"
   },
   {
    "duration": 272,
    "start_time": "2022-03-04T20:42:20.726Z"
   },
   {
    "duration": 311,
    "start_time": "2022-03-04T20:42:21.000Z"
   },
   {
    "duration": 72,
    "start_time": "2022-03-04T20:42:21.312Z"
   },
   {
    "duration": 5036,
    "start_time": "2022-03-04T20:42:33.844Z"
   },
   {
    "duration": 5633,
    "start_time": "2022-03-04T20:43:07.668Z"
   },
   {
    "duration": 5232,
    "start_time": "2022-03-04T20:43:50.612Z"
   },
   {
    "duration": 6024,
    "start_time": "2022-03-04T20:45:31.210Z"
   },
   {
    "duration": 22,
    "start_time": "2022-03-04T20:46:04.080Z"
   },
   {
    "duration": 2,
    "start_time": "2022-03-04T20:47:41.012Z"
   },
   {
    "duration": 319,
    "start_time": "2022-03-04T20:48:25.233Z"
   },
   {
    "duration": 292,
    "start_time": "2022-03-04T20:48:28.117Z"
   },
   {
    "duration": 205,
    "start_time": "2022-03-04T20:48:42.814Z"
   },
   {
    "duration": 224,
    "start_time": "2022-03-04T20:50:32.455Z"
   },
   {
    "duration": 69,
    "start_time": "2022-03-04T20:50:49.477Z"
   },
   {
    "duration": 219,
    "start_time": "2022-03-04T20:50:55.495Z"
   },
   {
    "duration": 223,
    "start_time": "2022-03-04T20:52:05.058Z"
   },
   {
    "duration": 181,
    "start_time": "2022-03-04T20:52:44.692Z"
   },
   {
    "duration": 220,
    "start_time": "2022-03-04T20:52:58.368Z"
   },
   {
    "duration": 68,
    "start_time": "2022-03-04T20:54:04.268Z"
   },
   {
    "duration": 5040,
    "start_time": "2022-03-04T20:54:18.270Z"
   },
   {
    "duration": 210,
    "start_time": "2022-03-04T20:54:36.494Z"
   },
   {
    "duration": 1120,
    "start_time": "2022-03-13T08:30:24.463Z"
   },
   {
    "duration": 99,
    "start_time": "2022-03-13T08:30:25.585Z"
   },
   {
    "duration": 19,
    "start_time": "2022-03-13T08:30:25.686Z"
   },
   {
    "duration": 10,
    "start_time": "2022-03-13T08:30:25.708Z"
   },
   {
    "duration": 8,
    "start_time": "2022-03-13T08:30:25.720Z"
   },
   {
    "duration": 57,
    "start_time": "2022-03-13T08:30:25.730Z"
   },
   {
    "duration": 7,
    "start_time": "2022-03-13T08:30:25.789Z"
   },
   {
    "duration": 11,
    "start_time": "2022-03-13T08:30:25.798Z"
   },
   {
    "duration": 10,
    "start_time": "2022-03-13T08:30:25.813Z"
   },
   {
    "duration": 5,
    "start_time": "2022-03-13T08:30:25.825Z"
   },
   {
    "duration": 45,
    "start_time": "2022-03-13T08:30:25.832Z"
   },
   {
    "duration": 11,
    "start_time": "2022-03-13T08:30:25.879Z"
   },
   {
    "duration": 8,
    "start_time": "2022-03-13T08:30:25.892Z"
   },
   {
    "duration": 18,
    "start_time": "2022-03-13T08:30:25.902Z"
   },
   {
    "duration": 20,
    "start_time": "2022-03-13T08:30:25.922Z"
   },
   {
    "duration": 335,
    "start_time": "2022-03-13T08:30:25.944Z"
   },
   {
    "duration": 389,
    "start_time": "2022-03-13T08:30:26.282Z"
   },
   {
    "duration": 24,
    "start_time": "2022-03-13T08:30:26.677Z"
   },
   {
    "duration": 293,
    "start_time": "2022-03-13T08:30:26.702Z"
   },
   {
    "duration": 288,
    "start_time": "2022-03-13T08:30:26.997Z"
   },
   {
    "duration": 287,
    "start_time": "2022-03-13T08:30:27.287Z"
   },
   {
    "duration": 347,
    "start_time": "2022-03-13T08:34:06.977Z"
   },
   {
    "duration": 494,
    "start_time": "2022-03-13T08:34:15.191Z"
   },
   {
    "duration": 2,
    "start_time": "2022-03-13T08:39:09.364Z"
   },
   {
    "duration": 191,
    "start_time": "2022-03-13T09:17:37.289Z"
   },
   {
    "duration": 359,
    "start_time": "2022-03-13T09:25:43.834Z"
   },
   {
    "duration": 51,
    "start_time": "2022-03-13T09:25:59.629Z"
   },
   {
    "duration": 1078,
    "start_time": "2022-03-13T10:21:14.139Z"
   },
   {
    "duration": 106,
    "start_time": "2022-03-13T10:21:15.219Z"
   },
   {
    "duration": 20,
    "start_time": "2022-03-13T10:21:15.327Z"
   },
   {
    "duration": 33,
    "start_time": "2022-03-13T10:21:15.350Z"
   },
   {
    "duration": 8,
    "start_time": "2022-03-13T10:21:15.385Z"
   },
   {
    "duration": 28,
    "start_time": "2022-03-13T10:21:15.395Z"
   },
   {
    "duration": 5,
    "start_time": "2022-03-13T10:21:15.426Z"
   },
   {
    "duration": 44,
    "start_time": "2022-03-13T10:21:15.434Z"
   },
   {
    "duration": 11,
    "start_time": "2022-03-13T10:21:15.480Z"
   },
   {
    "duration": 11,
    "start_time": "2022-03-13T10:21:15.493Z"
   },
   {
    "duration": 7,
    "start_time": "2022-03-13T10:21:15.506Z"
   },
   {
    "duration": 18,
    "start_time": "2022-03-13T10:21:15.515Z"
   },
   {
    "duration": 8,
    "start_time": "2022-03-13T10:21:15.534Z"
   },
   {
    "duration": 41,
    "start_time": "2022-03-13T10:21:15.544Z"
   },
   {
    "duration": 19,
    "start_time": "2022-03-13T10:21:15.587Z"
   },
   {
    "duration": 340,
    "start_time": "2022-03-13T10:21:15.607Z"
   },
   {
    "duration": 390,
    "start_time": "2022-03-13T10:21:15.949Z"
   },
   {
    "duration": 518,
    "start_time": "2022-03-13T10:21:16.341Z"
   },
   {
    "duration": 284,
    "start_time": "2022-03-13T10:21:16.861Z"
   },
   {
    "duration": 285,
    "start_time": "2022-03-13T10:21:17.147Z"
   },
   {
    "duration": 347,
    "start_time": "2022-03-13T10:21:17.434Z"
   },
   {
    "duration": 202,
    "start_time": "2022-03-13T10:21:17.784Z"
   },
   {
    "duration": 39,
    "start_time": "2022-03-13T10:21:17.988Z"
   },
   {
    "duration": 547,
    "start_time": "2022-03-13T10:21:40.020Z"
   },
   {
    "duration": 531,
    "start_time": "2022-03-13T10:21:48.210Z"
   },
   {
    "duration": 233,
    "start_time": "2022-03-13T10:22:02.034Z"
   },
   {
    "duration": 228,
    "start_time": "2022-03-13T10:38:27.015Z"
   },
   {
    "duration": 239,
    "start_time": "2022-03-13T10:38:37.532Z"
   },
   {
    "duration": 381,
    "start_time": "2022-03-13T10:51:27.618Z"
   },
   {
    "duration": 7,
    "start_time": "2022-03-13T10:51:35.689Z"
   },
   {
    "duration": 8,
    "start_time": "2022-03-13T10:51:56.093Z"
   },
   {
    "duration": 5,
    "start_time": "2022-03-13T10:57:49.782Z"
   },
   {
    "duration": 257,
    "start_time": "2022-03-13T11:03:28.421Z"
   },
   {
    "duration": 315,
    "start_time": "2022-03-13T11:03:35.793Z"
   },
   {
    "duration": 365,
    "start_time": "2022-03-13T11:05:52.972Z"
   },
   {
    "duration": 5,
    "start_time": "2022-03-13T11:14:47.729Z"
   },
   {
    "duration": 283,
    "start_time": "2022-03-13T11:15:41.536Z"
   },
   {
    "duration": 390,
    "start_time": "2022-03-13T11:17:38.140Z"
   },
   {
    "duration": 1166,
    "start_time": "2022-03-13T11:18:45.275Z"
   },
   {
    "duration": 5,
    "start_time": "2022-03-13T11:19:03.143Z"
   },
   {
    "duration": 3605,
    "start_time": "2022-03-13T11:19:13.165Z"
   },
   {
    "duration": 8,
    "start_time": "2022-03-13T11:25:16.560Z"
   },
   {
    "duration": 5,
    "start_time": "2022-03-13T11:25:21.690Z"
   },
   {
    "duration": 304,
    "start_time": "2022-03-13T11:25:28.797Z"
   },
   {
    "duration": 334,
    "start_time": "2022-03-13T11:25:35.771Z"
   },
   {
    "duration": 3690,
    "start_time": "2022-03-13T11:25:50.387Z"
   },
   {
    "duration": 8,
    "start_time": "2022-03-13T11:30:59.691Z"
   },
   {
    "duration": 3686,
    "start_time": "2022-03-13T11:31:01.875Z"
   },
   {
    "duration": 91,
    "start_time": "2022-03-13T11:34:07.435Z"
   },
   {
    "duration": 7017,
    "start_time": "2022-03-13T11:37:51.080Z"
   },
   {
    "duration": 12,
    "start_time": "2022-03-13T11:40:35.510Z"
   },
   {
    "duration": 15,
    "start_time": "2022-03-13T11:40:41.099Z"
   },
   {
    "duration": 262,
    "start_time": "2022-03-13T11:46:46.216Z"
   },
   {
    "duration": 13,
    "start_time": "2022-03-13T12:25:24.899Z"
   },
   {
    "duration": 14,
    "start_time": "2022-03-13T12:25:33.272Z"
   },
   {
    "duration": 13,
    "start_time": "2022-03-13T12:25:46.304Z"
   },
   {
    "duration": 14,
    "start_time": "2022-03-13T12:30:21.483Z"
   },
   {
    "duration": 84,
    "start_time": "2022-03-13T12:30:35.578Z"
   },
   {
    "duration": 15,
    "start_time": "2022-03-13T12:30:38.722Z"
   },
   {
    "duration": 20,
    "start_time": "2022-03-13T12:31:02.410Z"
   },
   {
    "duration": 325,
    "start_time": "2022-03-13T12:38:13.508Z"
   },
   {
    "duration": 562,
    "start_time": "2022-03-13T12:38:33.829Z"
   },
   {
    "duration": 556,
    "start_time": "2022-03-13T12:50:39.202Z"
   },
   {
    "duration": 772,
    "start_time": "2022-03-13T12:56:14.298Z"
   },
   {
    "duration": 559,
    "start_time": "2022-03-13T12:58:06.152Z"
   },
   {
    "duration": 568,
    "start_time": "2022-03-13T13:12:05.976Z"
   },
   {
    "duration": 3,
    "start_time": "2022-03-13T13:24:32.502Z"
   },
   {
    "duration": 280,
    "start_time": "2022-03-13T13:28:02.149Z"
   },
   {
    "duration": 11,
    "start_time": "2022-03-13T13:28:11.748Z"
   },
   {
    "duration": 12,
    "start_time": "2022-03-13T13:28:35.288Z"
   },
   {
    "duration": 96,
    "start_time": "2022-03-13T13:30:07.420Z"
   },
   {
    "duration": 14,
    "start_time": "2022-03-13T13:34:09.554Z"
   },
   {
    "duration": 1400,
    "start_time": "2022-03-22T18:11:08.651Z"
   },
   {
    "duration": 126,
    "start_time": "2022-03-22T18:11:10.054Z"
   },
   {
    "duration": 25,
    "start_time": "2022-03-22T18:11:10.182Z"
   },
   {
    "duration": 31,
    "start_time": "2022-03-22T18:11:10.209Z"
   },
   {
    "duration": 7,
    "start_time": "2022-03-22T18:11:10.242Z"
   },
   {
    "duration": 22,
    "start_time": "2022-03-22T18:11:10.251Z"
   },
   {
    "duration": 5,
    "start_time": "2022-03-22T18:11:10.275Z"
   },
   {
    "duration": 14,
    "start_time": "2022-03-22T18:11:10.284Z"
   },
   {
    "duration": 45,
    "start_time": "2022-03-22T18:11:10.300Z"
   },
   {
    "duration": 8,
    "start_time": "2022-03-22T18:11:10.347Z"
   },
   {
    "duration": 7,
    "start_time": "2022-03-22T18:11:10.356Z"
   },
   {
    "duration": 15,
    "start_time": "2022-03-22T18:11:10.365Z"
   },
   {
    "duration": 9,
    "start_time": "2022-03-22T18:11:10.382Z"
   },
   {
    "duration": 44,
    "start_time": "2022-03-22T18:11:10.393Z"
   },
   {
    "duration": 16,
    "start_time": "2022-03-22T18:11:10.439Z"
   },
   {
    "duration": 273,
    "start_time": "2022-03-22T18:11:10.457Z"
   },
   {
    "duration": 316,
    "start_time": "2022-03-22T18:11:10.733Z"
   },
   {
    "duration": 442,
    "start_time": "2022-03-22T18:11:11.051Z"
   },
   {
    "duration": 363,
    "start_time": "2022-03-22T18:11:11.495Z"
   },
   {
    "duration": 375,
    "start_time": "2022-03-22T18:11:11.860Z"
   },
   {
    "duration": 295,
    "start_time": "2022-03-22T18:11:12.237Z"
   },
   {
    "duration": 209,
    "start_time": "2022-03-22T18:11:12.534Z"
   },
   {
    "duration": 35,
    "start_time": "2022-03-22T18:11:12.746Z"
   },
   {
    "duration": 12,
    "start_time": "2022-03-22T18:11:12.784Z"
   },
   {
    "duration": 5,
    "start_time": "2022-03-22T18:11:12.797Z"
   },
   {
    "duration": 338,
    "start_time": "2022-03-22T18:11:12.804Z"
   },
   {
    "duration": 299,
    "start_time": "2022-03-22T18:11:13.144Z"
   },
   {
    "duration": 8,
    "start_time": "2022-03-22T18:11:13.445Z"
   },
   {
    "duration": 3182,
    "start_time": "2022-03-22T18:11:13.455Z"
   },
   {
    "duration": 11,
    "start_time": "2022-03-22T18:11:16.639Z"
   },
   {
    "duration": 15,
    "start_time": "2022-03-22T18:11:16.652Z"
   },
   {
    "duration": 472,
    "start_time": "2022-03-22T18:11:16.668Z"
   },
   {
    "duration": 552,
    "start_time": "2022-03-22T18:11:17.141Z"
   },
   {
    "duration": 473,
    "start_time": "2022-03-22T18:11:17.695Z"
   },
   {
    "duration": 3,
    "start_time": "2022-03-22T18:11:18.170Z"
   },
   {
    "duration": 14,
    "start_time": "2022-03-22T18:11:18.174Z"
   },
   {
    "duration": 11,
    "start_time": "2022-03-22T18:11:18.190Z"
   },
   {
    "duration": 7,
    "start_time": "2022-03-22T18:41:09.826Z"
   },
   {
    "duration": 50,
    "start_time": "2022-03-30T20:01:21.158Z"
   },
   {
    "duration": 1275,
    "start_time": "2022-03-30T20:01:39.788Z"
   },
   {
    "duration": 86,
    "start_time": "2022-03-30T20:01:41.065Z"
   },
   {
    "duration": 18,
    "start_time": "2022-03-30T20:01:41.156Z"
   },
   {
    "duration": 44,
    "start_time": "2022-03-30T20:01:41.175Z"
   },
   {
    "duration": 7,
    "start_time": "2022-03-30T20:01:41.221Z"
   },
   {
    "duration": 30,
    "start_time": "2022-03-30T20:01:41.230Z"
   },
   {
    "duration": 6,
    "start_time": "2022-03-30T20:01:41.261Z"
   },
   {
    "duration": 7,
    "start_time": "2022-03-30T20:01:41.310Z"
   },
   {
    "duration": 11,
    "start_time": "2022-03-30T20:01:41.320Z"
   },
   {
    "duration": 8,
    "start_time": "2022-03-30T20:01:41.332Z"
   },
   {
    "duration": 7,
    "start_time": "2022-03-30T20:01:41.341Z"
   },
   {
    "duration": 16,
    "start_time": "2022-03-30T20:01:41.350Z"
   },
   {
    "duration": 42,
    "start_time": "2022-03-30T20:01:41.367Z"
   },
   {
    "duration": 15,
    "start_time": "2022-03-30T20:01:41.411Z"
   },
   {
    "duration": 19,
    "start_time": "2022-03-30T20:01:41.427Z"
   },
   {
    "duration": 238,
    "start_time": "2022-03-30T20:01:41.447Z"
   },
   {
    "duration": 288,
    "start_time": "2022-03-30T20:01:41.687Z"
   },
   {
    "duration": 371,
    "start_time": "2022-03-30T20:01:41.977Z"
   },
   {
    "duration": 209,
    "start_time": "2022-03-30T20:01:42.350Z"
   },
   {
    "duration": 210,
    "start_time": "2022-03-30T20:01:42.561Z"
   },
   {
    "duration": 204,
    "start_time": "2022-03-30T20:01:42.773Z"
   },
   {
    "duration": 196,
    "start_time": "2022-03-30T20:01:42.979Z"
   },
   {
    "duration": 40,
    "start_time": "2022-03-30T20:01:43.177Z"
   },
   {
    "duration": 7,
    "start_time": "2022-03-30T20:01:43.218Z"
   },
   {
    "duration": 5,
    "start_time": "2022-03-30T20:01:43.227Z"
   },
   {
    "duration": 143,
    "start_time": "2022-03-30T20:01:43.234Z"
   },
   {
    "duration": 142,
    "start_time": "2022-03-30T20:01:43.380Z"
   },
   {
    "duration": 7,
    "start_time": "2022-03-30T20:01:43.524Z"
   },
   {
    "duration": 1465,
    "start_time": "2022-03-30T20:01:43.533Z"
   },
   {
    "duration": 18,
    "start_time": "2022-03-30T20:01:45.000Z"
   },
   {
    "duration": 25,
    "start_time": "2022-03-30T20:01:45.019Z"
   },
   {
    "duration": 399,
    "start_time": "2022-03-30T20:01:45.046Z"
   },
   {
    "duration": 382,
    "start_time": "2022-03-30T20:01:45.446Z"
   },
   {
    "duration": 496,
    "start_time": "2022-03-30T20:01:45.830Z"
   },
   {
    "duration": 3,
    "start_time": "2022-03-30T20:01:46.327Z"
   },
   {
    "duration": 12,
    "start_time": "2022-03-30T20:01:46.331Z"
   },
   {
    "duration": 10,
    "start_time": "2022-03-30T20:01:46.345Z"
   },
   {
    "duration": 343,
    "start_time": "2022-03-30T20:01:59.462Z"
   },
   {
    "duration": 246,
    "start_time": "2022-03-30T20:02:04.697Z"
   },
   {
    "duration": 347,
    "start_time": "2022-03-30T20:02:10.168Z"
   },
   {
    "duration": 8,
    "start_time": "2022-03-30T20:02:31.314Z"
   },
   {
    "duration": 403,
    "start_time": "2022-03-30T20:02:37.707Z"
   },
   {
    "duration": 1040,
    "start_time": "2022-03-30T20:02:42.713Z"
   },
   {
    "duration": 89,
    "start_time": "2022-03-30T20:02:43.756Z"
   },
   {
    "duration": 18,
    "start_time": "2022-03-30T20:02:43.846Z"
   },
   {
    "duration": 19,
    "start_time": "2022-03-30T20:02:43.866Z"
   },
   {
    "duration": 27,
    "start_time": "2022-03-30T20:02:43.886Z"
   },
   {
    "duration": 25,
    "start_time": "2022-03-30T20:02:43.915Z"
   },
   {
    "duration": 5,
    "start_time": "2022-03-30T20:02:43.941Z"
   },
   {
    "duration": 13,
    "start_time": "2022-03-30T20:02:43.947Z"
   },
   {
    "duration": 9,
    "start_time": "2022-03-30T20:02:43.961Z"
   },
   {
    "duration": 40,
    "start_time": "2022-03-30T20:02:43.972Z"
   },
   {
    "duration": 8,
    "start_time": "2022-03-30T20:02:44.013Z"
   },
   {
    "duration": 16,
    "start_time": "2022-03-30T20:02:44.022Z"
   },
   {
    "duration": 8,
    "start_time": "2022-03-30T20:02:44.039Z"
   },
   {
    "duration": 13,
    "start_time": "2022-03-30T20:02:44.049Z"
   },
   {
    "duration": 58,
    "start_time": "2022-03-30T20:02:44.064Z"
   },
   {
    "duration": 202,
    "start_time": "2022-03-30T20:02:44.124Z"
   },
   {
    "duration": 298,
    "start_time": "2022-03-30T20:02:44.327Z"
   },
   {
    "duration": 355,
    "start_time": "2022-03-30T20:02:44.626Z"
   },
   {
    "duration": 214,
    "start_time": "2022-03-30T20:02:44.982Z"
   },
   {
    "duration": 217,
    "start_time": "2022-03-30T20:02:45.198Z"
   },
   {
    "duration": 203,
    "start_time": "2022-03-30T20:02:45.416Z"
   },
   {
    "duration": 192,
    "start_time": "2022-03-30T20:02:45.620Z"
   },
   {
    "duration": 33,
    "start_time": "2022-03-30T20:02:45.813Z"
   },
   {
    "duration": 7,
    "start_time": "2022-03-30T20:02:45.848Z"
   },
   {
    "duration": 4,
    "start_time": "2022-03-30T20:02:45.857Z"
   },
   {
    "duration": 156,
    "start_time": "2022-03-30T20:02:45.863Z"
   },
   {
    "duration": 153,
    "start_time": "2022-03-30T20:02:46.021Z"
   },
   {
    "duration": 7,
    "start_time": "2022-03-30T20:02:46.178Z"
   },
   {
    "duration": 1460,
    "start_time": "2022-03-30T20:02:46.186Z"
   },
   {
    "duration": 12,
    "start_time": "2022-03-30T20:02:47.648Z"
   },
   {
    "duration": 16,
    "start_time": "2022-03-30T20:02:47.662Z"
   },
   {
    "duration": 411,
    "start_time": "2022-03-30T20:02:47.679Z"
   },
   {
    "duration": 480,
    "start_time": "2022-03-30T20:02:48.091Z"
   },
   {
    "duration": 412,
    "start_time": "2022-03-30T20:02:48.573Z"
   },
   {
    "duration": 2,
    "start_time": "2022-03-30T20:02:48.987Z"
   },
   {
    "duration": 23,
    "start_time": "2022-03-30T20:02:48.991Z"
   },
   {
    "duration": 10,
    "start_time": "2022-03-30T20:02:49.016Z"
   },
   {
    "duration": 50,
    "start_time": "2022-04-03T17:10:47.100Z"
   },
   {
    "duration": 1350,
    "start_time": "2022-04-03T17:10:51.587Z"
   },
   {
    "duration": 101,
    "start_time": "2022-04-03T17:10:52.940Z"
   },
   {
    "duration": 21,
    "start_time": "2022-04-03T17:10:53.043Z"
   },
   {
    "duration": 19,
    "start_time": "2022-04-03T17:10:53.067Z"
   },
   {
    "duration": 8,
    "start_time": "2022-04-03T17:10:53.088Z"
   },
   {
    "duration": 57,
    "start_time": "2022-04-03T17:10:53.098Z"
   },
   {
    "duration": 5,
    "start_time": "2022-04-03T17:10:53.157Z"
   },
   {
    "duration": 10,
    "start_time": "2022-04-03T17:10:53.164Z"
   },
   {
    "duration": 13,
    "start_time": "2022-04-03T17:10:53.176Z"
   },
   {
    "duration": 10,
    "start_time": "2022-04-03T17:10:53.192Z"
   },
   {
    "duration": 28,
    "start_time": "2022-04-03T17:10:53.204Z"
   },
   {
    "duration": 15,
    "start_time": "2022-04-03T17:10:53.233Z"
   },
   {
    "duration": 25,
    "start_time": "2022-04-03T17:10:53.250Z"
   },
   {
    "duration": 17,
    "start_time": "2022-04-03T17:10:53.277Z"
   },
   {
    "duration": 19,
    "start_time": "2022-04-03T17:10:53.296Z"
   },
   {
    "duration": 238,
    "start_time": "2022-04-03T17:10:53.317Z"
   },
   {
    "duration": 325,
    "start_time": "2022-04-03T17:10:53.557Z"
   },
   {
    "duration": 373,
    "start_time": "2022-04-03T17:10:53.883Z"
   },
   {
    "duration": 218,
    "start_time": "2022-04-03T17:10:54.258Z"
   },
   {
    "duration": 225,
    "start_time": "2022-04-03T17:10:54.478Z"
   },
   {
    "duration": 278,
    "start_time": "2022-04-03T17:10:54.705Z"
   },
   {
    "duration": 146,
    "start_time": "2022-04-03T17:10:54.985Z"
   },
   {
    "duration": 36,
    "start_time": "2022-04-03T17:10:55.133Z"
   },
   {
    "duration": 8,
    "start_time": "2022-04-03T17:10:55.171Z"
   },
   {
    "duration": 9,
    "start_time": "2022-04-03T17:10:55.180Z"
   },
   {
    "duration": 153,
    "start_time": "2022-04-03T17:10:55.191Z"
   },
   {
    "duration": 134,
    "start_time": "2022-04-03T17:10:55.346Z"
   },
   {
    "duration": 8,
    "start_time": "2022-04-03T17:10:55.484Z"
   },
   {
    "duration": 1551,
    "start_time": "2022-04-03T17:10:55.494Z"
   },
   {
    "duration": 14,
    "start_time": "2022-04-03T17:10:57.047Z"
   },
   {
    "duration": 21,
    "start_time": "2022-04-03T17:10:57.063Z"
   },
   {
    "duration": 433,
    "start_time": "2022-04-03T17:10:57.086Z"
   },
   {
    "duration": 503,
    "start_time": "2022-04-03T17:10:57.521Z"
   },
   {
    "duration": 426,
    "start_time": "2022-04-03T17:10:58.026Z"
   },
   {
    "duration": 2,
    "start_time": "2022-04-03T17:10:58.454Z"
   },
   {
    "duration": 12,
    "start_time": "2022-04-03T17:10:58.458Z"
   },
   {
    "duration": 10,
    "start_time": "2022-04-03T17:10:58.472Z"
   },
   {
    "duration": 35,
    "start_time": "2022-04-03T17:11:41.467Z"
   },
   {
    "duration": 105,
    "start_time": "2022-04-03T17:18:17.291Z"
   },
   {
    "duration": 19,
    "start_time": "2022-04-03T17:20:38.455Z"
   },
   {
    "duration": 25,
    "start_time": "2022-04-03T17:58:32.720Z"
   },
   {
    "duration": 28,
    "start_time": "2022-04-03T17:59:03.321Z"
   },
   {
    "duration": 6,
    "start_time": "2022-04-03T18:03:22.920Z"
   },
   {
    "duration": 31,
    "start_time": "2022-04-03T18:03:38.543Z"
   },
   {
    "duration": 8,
    "start_time": "2022-04-03T18:04:24.751Z"
   },
   {
    "duration": 10,
    "start_time": "2022-04-03T18:05:49.309Z"
   },
   {
    "duration": 7,
    "start_time": "2022-04-03T18:06:05.580Z"
   },
   {
    "duration": 10,
    "start_time": "2022-04-03T18:06:06.890Z"
   },
   {
    "duration": 7,
    "start_time": "2022-04-03T18:08:32.262Z"
   },
   {
    "duration": 7,
    "start_time": "2022-04-03T18:08:47.627Z"
   },
   {
    "duration": 9,
    "start_time": "2022-04-03T18:14:02.878Z"
   },
   {
    "duration": 5,
    "start_time": "2022-04-03T18:14:35.389Z"
   },
   {
    "duration": 9,
    "start_time": "2022-04-03T18:14:37.459Z"
   },
   {
    "duration": 5,
    "start_time": "2022-04-03T18:15:26.800Z"
   },
   {
    "duration": 8,
    "start_time": "2022-04-03T18:15:27.834Z"
   },
   {
    "duration": 6,
    "start_time": "2022-04-03T18:16:02.730Z"
   },
   {
    "duration": 8,
    "start_time": "2022-04-03T18:16:03.743Z"
   },
   {
    "duration": 6,
    "start_time": "2022-04-03T18:16:23.542Z"
   },
   {
    "duration": 8,
    "start_time": "2022-04-03T18:16:24.002Z"
   },
   {
    "duration": 27,
    "start_time": "2022-04-03T18:17:18.622Z"
   },
   {
    "duration": 20,
    "start_time": "2022-04-03T18:19:24.048Z"
   },
   {
    "duration": 29,
    "start_time": "2022-04-03T18:19:33.442Z"
   },
   {
    "duration": 6,
    "start_time": "2022-04-03T18:19:44.985Z"
   },
   {
    "duration": 9,
    "start_time": "2022-04-03T18:19:47.922Z"
   },
   {
    "duration": 9,
    "start_time": "2022-04-03T18:19:54.954Z"
   },
   {
    "duration": 29,
    "start_time": "2022-04-03T18:20:13.383Z"
   },
   {
    "duration": 231,
    "start_time": "2022-04-03T18:20:13.414Z"
   },
   {
    "duration": 220,
    "start_time": "2022-04-03T18:20:54.130Z"
   },
   {
    "duration": 8,
    "start_time": "2022-04-03T18:30:01.041Z"
   },
   {
    "duration": 168,
    "start_time": "2022-04-03T18:30:54.995Z"
   },
   {
    "duration": 159,
    "start_time": "2022-04-03T18:31:00.920Z"
   },
   {
    "duration": 177,
    "start_time": "2022-04-03T18:31:12.691Z"
   },
   {
    "duration": 221,
    "start_time": "2022-04-03T18:32:13.626Z"
   },
   {
    "duration": 7,
    "start_time": "2022-04-03T18:32:50.002Z"
   },
   {
    "duration": 143,
    "start_time": "2022-04-03T18:33:15.744Z"
   },
   {
    "duration": 7,
    "start_time": "2022-04-03T18:34:08.098Z"
   },
   {
    "duration": 7,
    "start_time": "2022-04-03T18:34:23.207Z"
   },
   {
    "duration": 176,
    "start_time": "2022-04-03T18:36:16.424Z"
   },
   {
    "duration": 9,
    "start_time": "2022-04-03T18:37:13.151Z"
   },
   {
    "duration": 1729,
    "start_time": "2022-04-03T18:37:16.232Z"
   },
   {
    "duration": 2055,
    "start_time": "2022-04-03T18:38:08.529Z"
   },
   {
    "duration": 19,
    "start_time": "2022-04-03T18:41:20.011Z"
   },
   {
    "duration": 10,
    "start_time": "2022-04-03T18:42:26.086Z"
   },
   {
    "duration": 9,
    "start_time": "2022-04-03T18:43:05.147Z"
   },
   {
    "duration": 18,
    "start_time": "2022-04-03T18:44:34.878Z"
   },
   {
    "duration": 19,
    "start_time": "2022-04-03T18:46:10.804Z"
   },
   {
    "duration": 19,
    "start_time": "2022-04-03T18:56:09.202Z"
   },
   {
    "duration": 24,
    "start_time": "2022-04-03T18:56:35.765Z"
   },
   {
    "duration": 8,
    "start_time": "2022-04-03T19:00:34.513Z"
   },
   {
    "duration": 13,
    "start_time": "2022-04-03T19:00:40.842Z"
   },
   {
    "duration": 21,
    "start_time": "2022-04-03T19:01:03.185Z"
   },
   {
    "duration": 13,
    "start_time": "2022-04-03T19:01:11.637Z"
   },
   {
    "duration": 14,
    "start_time": "2022-04-03T19:02:27.835Z"
   },
   {
    "duration": 440,
    "start_time": "2022-04-03T19:06:00.802Z"
   },
   {
    "duration": 578,
    "start_time": "2022-04-03T19:06:50.747Z"
   },
   {
    "duration": 472,
    "start_time": "2022-04-03T19:07:05.406Z"
   },
   {
    "duration": 434,
    "start_time": "2022-04-03T19:10:15.433Z"
   },
   {
    "duration": 475,
    "start_time": "2022-04-03T19:13:17.070Z"
   },
   {
    "duration": 419,
    "start_time": "2022-04-03T19:13:52.646Z"
   },
   {
    "duration": 437,
    "start_time": "2022-04-03T19:14:50.841Z"
   },
   {
    "duration": 578,
    "start_time": "2022-04-03T19:15:43.488Z"
   },
   {
    "duration": 469,
    "start_time": "2022-04-03T19:19:48.423Z"
   },
   {
    "duration": 451,
    "start_time": "2022-04-03T19:20:28.091Z"
   },
   {
    "duration": 460,
    "start_time": "2022-04-03T19:21:02.700Z"
   },
   {
    "duration": 17,
    "start_time": "2022-04-03T19:21:58.673Z"
   },
   {
    "duration": 10,
    "start_time": "2022-04-03T19:22:45.324Z"
   },
   {
    "duration": 9,
    "start_time": "2022-04-03T19:22:48.704Z"
   },
   {
    "duration": 8,
    "start_time": "2022-04-03T19:24:07.657Z"
   },
   {
    "duration": 1239,
    "start_time": "2022-04-03T19:24:13.107Z"
   },
   {
    "duration": 105,
    "start_time": "2022-04-03T19:24:14.348Z"
   },
   {
    "duration": 26,
    "start_time": "2022-04-03T19:24:14.456Z"
   },
   {
    "duration": 26,
    "start_time": "2022-04-03T19:24:14.485Z"
   },
   {
    "duration": 24,
    "start_time": "2022-04-03T19:24:14.513Z"
   },
   {
    "duration": 53,
    "start_time": "2022-04-03T19:24:14.538Z"
   },
   {
    "duration": 6,
    "start_time": "2022-04-03T19:24:14.593Z"
   },
   {
    "duration": 18,
    "start_time": "2022-04-03T19:24:14.600Z"
   },
   {
    "duration": 17,
    "start_time": "2022-04-03T19:24:14.620Z"
   },
   {
    "duration": 9,
    "start_time": "2022-04-03T19:24:14.641Z"
   },
   {
    "duration": 18,
    "start_time": "2022-04-03T19:24:14.652Z"
   },
   {
    "duration": 31,
    "start_time": "2022-04-03T19:24:14.672Z"
   },
   {
    "duration": 17,
    "start_time": "2022-04-03T19:24:14.705Z"
   },
   {
    "duration": 36,
    "start_time": "2022-04-03T19:24:14.724Z"
   },
   {
    "duration": 22,
    "start_time": "2022-04-03T19:24:14.762Z"
   },
   {
    "duration": 235,
    "start_time": "2022-04-03T19:24:14.786Z"
   },
   {
    "duration": 240,
    "start_time": "2022-04-03T19:24:15.033Z"
   },
   {
    "duration": 405,
    "start_time": "2022-04-03T19:24:15.275Z"
   },
   {
    "duration": 223,
    "start_time": "2022-04-03T19:24:15.682Z"
   },
   {
    "duration": 222,
    "start_time": "2022-04-03T19:24:15.907Z"
   },
   {
    "duration": 220,
    "start_time": "2022-04-03T19:24:16.132Z"
   },
   {
    "duration": 8,
    "start_time": "2022-04-03T19:24:16.354Z"
   },
   {
    "duration": 6,
    "start_time": "2022-04-03T19:24:16.364Z"
   },
   {
    "duration": 12,
    "start_time": "2022-04-03T19:24:16.372Z"
   },
   {
    "duration": 60,
    "start_time": "2022-04-03T19:24:16.386Z"
   },
   {
    "duration": 241,
    "start_time": "2022-04-03T19:24:16.448Z"
   },
   {
    "duration": 7,
    "start_time": "2022-04-03T19:24:16.692Z"
   },
   {
    "duration": 294,
    "start_time": "2022-04-03T19:24:16.704Z"
   },
   {
    "duration": 9,
    "start_time": "2022-04-03T19:24:17.000Z"
   },
   {
    "duration": 220,
    "start_time": "2022-04-03T19:24:17.011Z"
   },
   {
    "duration": 9,
    "start_time": "2022-04-03T19:24:17.233Z"
   },
   {
    "duration": 2057,
    "start_time": "2022-04-03T19:24:17.244Z"
   },
   {
    "duration": 29,
    "start_time": "2022-04-03T19:24:19.303Z"
   },
   {
    "duration": 13,
    "start_time": "2022-04-03T19:24:19.333Z"
   },
   {
    "duration": 13,
    "start_time": "2022-04-03T19:24:19.348Z"
   },
   {
    "duration": 431,
    "start_time": "2022-04-03T19:24:19.363Z"
   },
   {
    "duration": 527,
    "start_time": "2022-04-03T19:24:19.796Z"
   },
   {
    "duration": 434,
    "start_time": "2022-04-03T19:24:20.324Z"
   },
   {
    "duration": 2,
    "start_time": "2022-04-03T19:24:20.760Z"
   },
   {
    "duration": 12,
    "start_time": "2022-04-03T19:24:20.764Z"
   },
   {
    "duration": 10,
    "start_time": "2022-04-03T19:24:20.778Z"
   },
   {
    "duration": 1079,
    "start_time": "2022-04-04T06:14:03.915Z"
   },
   {
    "duration": 91,
    "start_time": "2022-04-04T06:14:04.996Z"
   },
   {
    "duration": 16,
    "start_time": "2022-04-04T06:14:05.089Z"
   },
   {
    "duration": 15,
    "start_time": "2022-04-04T06:14:05.107Z"
   },
   {
    "duration": 7,
    "start_time": "2022-04-04T06:14:05.124Z"
   },
   {
    "duration": 54,
    "start_time": "2022-04-04T06:14:05.132Z"
   },
   {
    "duration": 5,
    "start_time": "2022-04-04T06:14:05.187Z"
   },
   {
    "duration": 7,
    "start_time": "2022-04-04T06:14:05.193Z"
   },
   {
    "duration": 7,
    "start_time": "2022-04-04T06:14:05.202Z"
   },
   {
    "duration": 5,
    "start_time": "2022-04-04T06:14:05.211Z"
   },
   {
    "duration": 6,
    "start_time": "2022-04-04T06:14:05.217Z"
   },
   {
    "duration": 43,
    "start_time": "2022-04-04T06:14:05.225Z"
   },
   {
    "duration": 10,
    "start_time": "2022-04-04T06:14:05.269Z"
   },
   {
    "duration": 15,
    "start_time": "2022-04-04T06:14:05.280Z"
   },
   {
    "duration": 18,
    "start_time": "2022-04-04T06:14:05.296Z"
   },
   {
    "duration": 199,
    "start_time": "2022-04-04T06:14:05.315Z"
   },
   {
    "duration": 187,
    "start_time": "2022-04-04T06:14:05.515Z"
   },
   {
    "duration": 316,
    "start_time": "2022-04-04T06:14:05.703Z"
   },
   {
    "duration": 180,
    "start_time": "2022-04-04T06:14:06.021Z"
   },
   {
    "duration": 170,
    "start_time": "2022-04-04T06:14:06.202Z"
   },
   {
    "duration": 167,
    "start_time": "2022-04-04T06:14:06.374Z"
   },
   {
    "duration": 6,
    "start_time": "2022-04-04T06:14:06.543Z"
   },
   {
    "duration": 16,
    "start_time": "2022-04-04T06:14:06.550Z"
   },
   {
    "duration": 9,
    "start_time": "2022-04-04T06:14:06.567Z"
   },
   {
    "duration": 23,
    "start_time": "2022-04-04T06:14:06.577Z"
   },
   {
    "duration": 202,
    "start_time": "2022-04-04T06:14:06.602Z"
   },
   {
    "duration": 6,
    "start_time": "2022-04-04T06:14:06.806Z"
   },
   {
    "duration": 238,
    "start_time": "2022-04-04T06:14:06.815Z"
   },
   {
    "duration": 11,
    "start_time": "2022-04-04T06:14:07.054Z"
   },
   {
    "duration": 161,
    "start_time": "2022-04-04T06:14:07.067Z"
   },
   {
    "duration": 8,
    "start_time": "2022-04-04T06:14:07.229Z"
   },
   {
    "duration": 1816,
    "start_time": "2022-04-04T06:14:07.238Z"
   },
   {
    "duration": 19,
    "start_time": "2022-04-04T06:14:09.056Z"
   },
   {
    "duration": 37,
    "start_time": "2022-04-04T06:14:09.076Z"
   },
   {
    "duration": 16,
    "start_time": "2022-04-04T06:14:09.114Z"
   },
   {
    "duration": 523,
    "start_time": "2022-04-04T06:14:09.132Z"
   },
   {
    "duration": 673,
    "start_time": "2022-04-04T06:14:09.657Z"
   },
   {
    "duration": 571,
    "start_time": "2022-04-04T06:14:10.332Z"
   },
   {
    "duration": 3,
    "start_time": "2022-04-04T06:14:10.905Z"
   },
   {
    "duration": 21,
    "start_time": "2022-04-04T06:14:10.910Z"
   },
   {
    "duration": 29,
    "start_time": "2022-04-04T06:14:10.933Z"
   },
   {
    "duration": 4,
    "start_time": "2022-04-04T06:27:14.299Z"
   },
   {
    "duration": 4,
    "start_time": "2022-04-04T06:27:56.164Z"
   },
   {
    "duration": 44,
    "start_time": "2022-08-02T11:22:43.149Z"
   },
   {
    "duration": 1023,
    "start_time": "2022-08-02T11:22:51.284Z"
   },
   {
    "duration": 234,
    "start_time": "2022-08-02T11:22:52.308Z"
   },
   {
    "duration": 16,
    "start_time": "2022-08-02T11:22:52.543Z"
   },
   {
    "duration": 12,
    "start_time": "2022-08-02T11:22:52.561Z"
   },
   {
    "duration": 27,
    "start_time": "2022-08-02T11:22:52.575Z"
   },
   {
    "duration": 25,
    "start_time": "2022-08-02T11:22:52.604Z"
   },
   {
    "duration": 5,
    "start_time": "2022-08-02T11:22:52.630Z"
   },
   {
    "duration": 6,
    "start_time": "2022-08-02T11:22:52.636Z"
   },
   {
    "duration": 8,
    "start_time": "2022-08-02T11:22:52.643Z"
   },
   {
    "duration": 4,
    "start_time": "2022-08-02T11:22:52.653Z"
   },
   {
    "duration": 8,
    "start_time": "2022-08-02T11:22:52.659Z"
   },
   {
    "duration": 39,
    "start_time": "2022-08-02T11:22:52.669Z"
   },
   {
    "duration": 6,
    "start_time": "2022-08-02T11:22:52.710Z"
   },
   {
    "duration": 11,
    "start_time": "2022-08-02T11:22:52.718Z"
   },
   {
    "duration": 3,
    "start_time": "2022-08-02T11:22:52.730Z"
   },
   {
    "duration": 18,
    "start_time": "2022-08-02T11:22:52.734Z"
   },
   {
    "duration": 205,
    "start_time": "2022-08-02T11:22:52.753Z"
   },
   {
    "duration": 192,
    "start_time": "2022-08-02T11:22:52.959Z"
   },
   {
    "duration": 318,
    "start_time": "2022-08-02T11:22:53.152Z"
   },
   {
    "duration": 175,
    "start_time": "2022-08-02T11:22:53.472Z"
   },
   {
    "duration": 173,
    "start_time": "2022-08-02T11:22:53.649Z"
   },
   {
    "duration": 170,
    "start_time": "2022-08-02T11:22:53.824Z"
   },
   {
    "duration": 9,
    "start_time": "2022-08-02T11:22:53.996Z"
   },
   {
    "duration": 7,
    "start_time": "2022-08-02T11:22:54.006Z"
   },
   {
    "duration": 8,
    "start_time": "2022-08-02T11:22:54.014Z"
   },
   {
    "duration": 23,
    "start_time": "2022-08-02T11:22:54.023Z"
   },
   {
    "duration": 203,
    "start_time": "2022-08-02T11:22:54.048Z"
   },
   {
    "duration": 6,
    "start_time": "2022-08-02T11:22:54.254Z"
   },
   {
    "duration": 228,
    "start_time": "2022-08-02T11:22:54.261Z"
   },
   {
    "duration": 11,
    "start_time": "2022-08-02T11:22:54.491Z"
   },
   {
    "duration": 166,
    "start_time": "2022-08-02T11:22:54.504Z"
   },
   {
    "duration": 8,
    "start_time": "2022-08-02T11:22:54.672Z"
   },
   {
    "duration": 1749,
    "start_time": "2022-08-02T11:22:54.682Z"
   },
   {
    "duration": 13,
    "start_time": "2022-08-02T11:22:56.432Z"
   },
   {
    "duration": 38,
    "start_time": "2022-08-02T11:22:56.446Z"
   },
   {
    "duration": 22,
    "start_time": "2022-08-02T11:22:56.485Z"
   },
   {
    "duration": 338,
    "start_time": "2022-08-02T11:22:56.508Z"
   },
   {
    "duration": 414,
    "start_time": "2022-08-02T11:22:56.847Z"
   },
   {
    "duration": 410,
    "start_time": "2022-08-02T11:22:57.263Z"
   },
   {
    "duration": 2,
    "start_time": "2022-08-02T11:22:57.675Z"
   },
   {
    "duration": 23,
    "start_time": "2022-08-02T11:22:57.679Z"
   },
   {
    "duration": 10,
    "start_time": "2022-08-02T11:22:57.703Z"
   },
   {
    "duration": 2,
    "start_time": "2022-08-02T11:23:31.273Z"
   },
   {
    "duration": 87,
    "start_time": "2022-08-02T11:23:31.556Z"
   },
   {
    "duration": 16,
    "start_time": "2022-08-02T11:23:32.556Z"
   },
   {
    "duration": 13,
    "start_time": "2022-08-02T11:23:32.955Z"
   },
   {
    "duration": 7,
    "start_time": "2022-08-02T11:23:34.130Z"
   },
   {
    "duration": 28,
    "start_time": "2022-08-02T11:23:34.931Z"
   }
  ],
  "kernelspec": {
   "display_name": "Python 3 (ipykernel)",
   "language": "python",
   "name": "python3"
  },
  "language_info": {
   "codemirror_mode": {
    "name": "ipython",
    "version": 3
   },
   "file_extension": ".py",
   "mimetype": "text/x-python",
   "name": "python",
   "nbconvert_exporter": "python",
   "pygments_lexer": "ipython3",
   "version": "3.9.5"
  },
  "toc": {
   "base_numbering": 1,
   "nav_menu": {},
   "number_sections": true,
   "sideBar": true,
   "skip_h1_title": true,
   "title_cell": "Table of Contents",
   "title_sidebar": "Contents",
   "toc_cell": false,
   "toc_position": {},
   "toc_section_display": true,
   "toc_window_display": false
  }
 },
 "nbformat": 4,
 "nbformat_minor": 2
}
