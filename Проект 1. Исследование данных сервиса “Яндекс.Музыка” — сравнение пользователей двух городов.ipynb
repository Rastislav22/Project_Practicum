{
 "cells": [
  {
   "cell_type": "markdown",
   "metadata": {
    "id": "E0vqbgi9ay0H"
   },
   "source": [
    "# Яндекс.Музыка"
   ]
  },
  {
   "cell_type": "markdown",
   "metadata": {
    "id": "VUC88oWjTJw2"
   },
   "source": [
    "Сравнение Москвы и Петербурга окружено мифами. Например:\n",
    " * Москва — мегаполис, подчинённый жёсткому ритму рабочей недели;\n",
    " * Петербург — культурная столица, со своими вкусами.\n",
    "\n",
    "На данных Яндекс.Музыки вы сравните поведение пользователей двух столиц.\n",
    "\n",
    "**Цель исследования** — проверьте три гипотезы:\n",
    "1. Активность пользователей зависит от дня недели. Причём в Москве и Петербурге это проявляется по-разному.\n",
    "2. В понедельник утром в Москве преобладают одни жанры, а в Петербурге — другие. Так же и вечером пятницы преобладают разные жанры — в зависимости от города. \n",
    "3. Москва и Петербург предпочитают разные жанры музыки. В Москве чаще слушают поп-музыку, в Петербурге — русский рэп.\n",
    "\n",
    "**Ход исследования**\n",
    "\n",
    "Данные о поведении пользователей вы получите из файла `yandex_music_project.csv`. О качестве данных ничего не известно. Поэтому перед проверкой гипотез понадобится обзор данных. \n",
    "\n",
    "Вы проверите данные на ошибки и оцените их влияние на исследование. Затем, на этапе предобработки вы поищете возможность исправить самые критичные ошибки данных.\n",
    " \n",
    "Таким образом, исследование пройдёт в три этапа:\n",
    " 1. Обзор данных.\n",
    " 2. Предобработка данных.\n",
    " 3. Проверка гипотез.\n",
    "\n"
   ]
  },
  {
   "cell_type": "markdown",
   "metadata": {
    "id": "Ml1hmfXC_Zcs"
   },
   "source": [
    "## Обзор данных\n",
    "\n",
    "Составьте первое представление о данных Яндекс.Музыки.\n",
    "\n",
    "\n"
   ]
  },
  {
   "cell_type": "markdown",
   "metadata": {
    "id": "57eAOGIz_Zcs"
   },
   "source": [
    "Основной инструмент аналитика — `pandas`. Импортируйте эту библиотеку."
   ]
  },
  {
   "cell_type": "code",
   "execution_count": 1,
   "metadata": {
    "id": "AXN7PHPN_Zcs"
   },
   "outputs": [],
   "source": [
    "# импорт библиотеки pandas"
   ]
  },
  {
   "cell_type": "code",
   "execution_count": 2,
   "metadata": {},
   "outputs": [],
   "source": [
    "import pandas as pd"
   ]
  },
  {
   "cell_type": "markdown",
   "metadata": {
    "id": "SG23P8tt_Zcs"
   },
   "source": [
    "Прочитайте файл `yandex_music_project.csv` из папки `/datasets` и сохраните его в переменной `df`:"
   ]
  },
  {
   "cell_type": "code",
   "execution_count": 3,
   "metadata": {
    "id": "fFVu7vqh_Zct"
   },
   "outputs": [],
   "source": [
    "# чтение файла с данными и сохранение в df"
   ]
  },
  {
   "cell_type": "code",
   "execution_count": 4,
   "metadata": {},
   "outputs": [],
   "source": [
    "df = pd.read_csv('/datasets/yandex_music_project.csv')"
   ]
  },
  {
   "cell_type": "markdown",
   "metadata": {
    "id": "rDoOMd3uTqnZ"
   },
   "source": [
    "Выведите на экран первые десять строк таблицы:"
   ]
  },
  {
   "cell_type": "code",
   "execution_count": 5,
   "metadata": {
    "id": "oWTVX3gW_Zct"
   },
   "outputs": [],
   "source": [
    "# получение первых 10 строк таблицы df"
   ]
  },
  {
   "cell_type": "code",
   "execution_count": 6,
   "metadata": {},
   "outputs": [
    {
     "name": "stdout",
     "output_type": "stream",
     "text": [
      "     userID                        Track            artist   genre  \\\n",
      "0  FFB692EC            Kamigata To Boots  The Mass Missile    rock   \n",
      "1  55204538  Delayed Because of Accident  Andreas Rönnberg    rock   \n",
      "2    20EC38            Funiculì funiculà       Mario Lanza     pop   \n",
      "3  A3DD03C9        Dragons in the Sunset        Fire + Ice    folk   \n",
      "4  E2DC1FAE                  Soul People        Space Echo   dance   \n",
      "5  842029A1                    Преданная         IMPERVTOR  rusrap   \n",
      "6  4CB90AA5                         True      Roman Messer   dance   \n",
      "7  F03E1C1F             Feeling This Way   Polina Griffith   dance   \n",
      "8  8FA1D3BE     И вновь продолжается бой               NaN  ruspop   \n",
      "9  E772D5C0                    Pessimist               NaN   dance   \n",
      "\n",
      "             City        time        Day  \n",
      "0  Saint-Petersburg  20:28:33  Wednesday  \n",
      "1            Moscow  14:07:09     Friday  \n",
      "2  Saint-Petersburg  20:58:07  Wednesday  \n",
      "3  Saint-Petersburg  08:37:09     Monday  \n",
      "4            Moscow  08:34:34     Monday  \n",
      "5  Saint-Petersburg  13:09:41     Friday  \n",
      "6            Moscow  13:00:07  Wednesday  \n",
      "7            Moscow  20:47:49  Wednesday  \n",
      "8            Moscow  09:17:40     Friday  \n",
      "9  Saint-Petersburg  21:20:49  Wednesday  \n"
     ]
    }
   ],
   "source": [
    "print(df.head(10))"
   ]
  },
  {
   "cell_type": "markdown",
   "metadata": {
    "id": "EO73Kwic_Zct"
   },
   "source": [
    "Одной командой получить общую информацию о таблице:"
   ]
  },
  {
   "cell_type": "code",
   "execution_count": 7,
   "metadata": {
    "id": "DSf2kIb-_Zct"
   },
   "outputs": [],
   "source": [
    "# получение общей информации о данных в таблице df"
   ]
  },
  {
   "cell_type": "code",
   "execution_count": 8,
   "metadata": {},
   "outputs": [
    {
     "name": "stdout",
     "output_type": "stream",
     "text": [
      "<class 'pandas.core.frame.DataFrame'>\n",
      "RangeIndex: 65079 entries, 0 to 65078\n",
      "Data columns (total 7 columns):\n",
      "  userID    65079 non-null object\n",
      "Track       63848 non-null object\n",
      "artist      57876 non-null object\n",
      "genre       63881 non-null object\n",
      "  City      65079 non-null object\n",
      "time        65079 non-null object\n",
      "Day         65079 non-null object\n",
      "dtypes: object(7)\n",
      "memory usage: 3.5+ MB\n",
      "None\n"
     ]
    }
   ],
   "source": [
    "print(df.info())"
   ]
  },
  {
   "cell_type": "markdown",
   "metadata": {
    "id": "TaQ2Iwbr_Zct"
   },
   "source": [
    "Итак, в таблице семь столбцов. Тип данных во всех столбцах — `object`.\n",
    "\n",
    "Согласно документации к данным:\n",
    "* `userID` — идентификатор пользователя;\n",
    "* `Track` — название трека;  \n",
    "* `artist` — имя исполнителя;\n",
    "* `genre` — название жанра;\n",
    "* `City` — город пользователя;\n",
    "* `time` — время начала прослушивания;\n",
    "* `Day` — день недели.\n",
    "\n",
    "В названиях колонок видны три нарушения стиля:\n",
    "1. Строчные буквы сочетаются с прописными.\n",
    "2. Встречаются пробелы.\n",
    "3. userID заменить на user_id - змеинный регистр \n",
    "\n",
    "\n",
    "\n",
    "Количество значений в столбцах различается. Значит, в данных есть пропущенные значения.\n"
   ]
  },
  {
   "cell_type": "markdown",
   "metadata": {
    "id": "MCB6-dXG_Zct"
   },
   "source": [
    "**Выводы**\n",
    "\n",
    "В каждой строке таблицы — данные о прослушанном треке. Часть колонок описывает саму композицию: название, исполнителя и жанр. Остальные данные рассказывают о пользователе: из какого он города, когда он слушал музыку. \n",
    "\n",
    "Предварительно можно утверждать, что, данных достаточно для проверки гипотез. Но встречаются пропуски в данных, а в названиях колонок — расхождения с хорошим стилем.\n",
    "\n",
    "Чтобы двигаться дальше, нужно устранить проблемы в данных."
   ]
  },
  {
   "cell_type": "markdown",
   "metadata": {
    "id": "SjYF6Ub9_Zct"
   },
   "source": [
    "## Предобработка данных\n",
    "Исправьте стиль в заголовках столбцов, исключите пропуски. Затем проверьте данные на дубликаты."
   ]
  },
  {
   "cell_type": "markdown",
   "metadata": {
    "id": "dIaKXr29_Zct"
   },
   "source": [
    "### Стиль заголовков\n",
    "Выведите на экран названия столбцов:"
   ]
  },
  {
   "cell_type": "code",
   "execution_count": 9,
   "metadata": {
    "id": "oKOTdF_Q_Zct"
   },
   "outputs": [
    {
     "name": "stdout",
     "output_type": "stream",
     "text": [
      "Index(['  userID', 'Track', 'artist', 'genre', '  City  ', 'time', 'Day'], dtype='object')\n"
     ]
    }
   ],
   "source": [
    "print(df.columns)"
   ]
  },
  {
   "cell_type": "markdown",
   "metadata": {
    "id": "zj5534cv_Zct"
   },
   "source": [
    "Приведите названия в соответствие с хорошим стилем:\n",
    "* несколько слов в названии запишите в «змеином_регистре»,\n",
    "* все символы сделайте строчными,\n",
    "* устраните пробелы.\n",
    "\n",
    "Для этого переименуйте колонки так:\n",
    "* `'  userID'` → `'user_id'`;\n",
    "* `'Track'` → `'track'`;\n",
    "* `'  City  '` → `'city'`;\n",
    "* `'Day'` → `'day'`."
   ]
  },
  {
   "cell_type": "code",
   "execution_count": 10,
   "metadata": {
    "id": "ISlFqs5y_Zct"
   },
   "outputs": [],
   "source": [
    "df = df.rename(columns ={'  userID' : 'user_id', 'Track': 'track', '  City  ' : 'city', 'Day' : 'day'})"
   ]
  },
  {
   "cell_type": "markdown",
   "metadata": {
    "id": "1dqbh00J_Zct"
   },
   "source": [
    "Проверьте результат. Для этого ещё раз выведите на экран названия столбцов:"
   ]
  },
  {
   "cell_type": "code",
   "execution_count": 11,
   "metadata": {
    "id": "d4NOAmTW_Zct"
   },
   "outputs": [
    {
     "name": "stdout",
     "output_type": "stream",
     "text": [
      "Index(['user_id', 'track', 'artist', 'genre', 'city', 'time', 'day'], dtype='object')\n"
     ]
    }
   ],
   "source": [
    "print(df.columns)"
   ]
  },
  {
   "cell_type": "markdown",
   "metadata": {
    "id": "5ISfbcfY_Zct"
   },
   "source": [
    "### Пропуски значений\n",
    "Сначала посчитайте, сколько в таблице пропущенных значений. Для этого достаточно двух методов `pandas`:"
   ]
  },
  {
   "cell_type": "code",
   "execution_count": 12,
   "metadata": {
    "id": "RskX29qr_Zct"
   },
   "outputs": [
    {
     "name": "stdout",
     "output_type": "stream",
     "text": [
      "user_id       0\n",
      "track      1231\n",
      "artist     7203\n",
      "genre      1198\n",
      "city          0\n",
      "time          0\n",
      "day           0\n",
      "dtype: int64\n"
     ]
    }
   ],
   "source": [
    "print(df.isna().sum())"
   ]
  },
  {
   "cell_type": "markdown",
   "metadata": {
    "id": "qubhgnlO_Zct"
   },
   "source": [
    "Не все пропущенные значения влияют на исследование. Так в `track` и `artist` пропуски не важны для вашей работы. Достаточно заменить их явными обозначениями.\n",
    "\n",
    "Но пропуски в `genre` могут помешать сравнению музыкальных вкусов в Москве и Санкт-Петербурге. На практике было бы правильно установить причину пропусков и восстановить данные. Такой возможности нет в учебном проекте. Придётся:\n",
    "* заполнить и эти пропуски явными обозначениями,\n",
    "* оценить, насколько они повредят расчётам. "
   ]
  },
  {
   "cell_type": "markdown",
   "metadata": {
    "id": "fSv2laPA_Zct"
   },
   "source": [
    "Замените пропущенные значения в столбцах `track`, `artist` и `genre` на строку `'unknown'`. Для этого создайте список `columns_to_replace`, переберите его элементы циклом `for` и для каждого столбца выполните замену пропущенных значений:"
   ]
  },
  {
   "cell_type": "code",
   "execution_count": 13,
   "metadata": {
    "id": "KplB5qWs_Zct"
   },
   "outputs": [],
   "source": [
    "columns_to_replace = ['track', 'artist', 'genre']\n",
    "for columns in columns_to_replace:\n",
    "    df[columns] = df[columns].fillna('unknown')"
   ]
  },
  {
   "cell_type": "markdown",
   "metadata": {
    "id": "Ilsm-MZo_Zct"
   },
   "source": [
    "Убедитесь, что в таблице не осталось пропусков. Для этого ещё раз посчитайте пропущенные значения."
   ]
  },
  {
   "cell_type": "code",
   "execution_count": 14,
   "metadata": {
    "id": "Tq4nYRX4_Zct"
   },
   "outputs": [
    {
     "name": "stdout",
     "output_type": "stream",
     "text": [
      "user_id    0\n",
      "track      0\n",
      "artist     0\n",
      "genre      0\n",
      "city       0\n",
      "time       0\n",
      "day        0\n",
      "dtype: int64\n"
     ]
    }
   ],
   "source": [
    "print(df.isna().sum())"
   ]
  },
  {
   "cell_type": "markdown",
   "metadata": {
    "id": "BWKRtBJ3_Zct"
   },
   "source": [
    "### Дубликаты\n",
    "Посчитайте явные дубликаты в таблице одной командой:"
   ]
  },
  {
   "cell_type": "code",
   "execution_count": 15,
   "metadata": {
    "id": "36eES_S0_Zct"
   },
   "outputs": [
    {
     "data": {
      "text/plain": [
       "3826"
      ]
     },
     "execution_count": 15,
     "metadata": {},
     "output_type": "execute_result"
    }
   ],
   "source": [
    "df.duplicated().sum()"
   ]
  },
  {
   "cell_type": "markdown",
   "metadata": {
    "id": "Ot25h6XR_Zct"
   },
   "source": [
    "Вызовите специальный метод `pandas`, чтобы удалить явные дубликаты:"
   ]
  },
  {
   "cell_type": "code",
   "execution_count": 16,
   "metadata": {
    "id": "exFHq6tt_Zct"
   },
   "outputs": [],
   "source": [
    "df = df.drop_duplicates().reset_index(drop=True)"
   ]
  },
  {
   "cell_type": "markdown",
   "metadata": {
    "id": "Im2YwBEG_Zct"
   },
   "source": [
    "Ещё раз посчитайте явные дубликаты в таблице — убедитесь, что полностью от них избавились:"
   ]
  },
  {
   "cell_type": "code",
   "execution_count": 17,
   "metadata": {
    "id": "-8PuNWQ0_Zct"
   },
   "outputs": [
    {
     "data": {
      "text/plain": [
       "0"
      ]
     },
     "execution_count": 17,
     "metadata": {},
     "output_type": "execute_result"
    }
   ],
   "source": [
    "df.duplicated().sum()"
   ]
  },
  {
   "cell_type": "markdown",
   "metadata": {
    "id": "QlFBsxAr_Zct"
   },
   "source": [
    "Теперь избавьтесь от неявных дубликатов в колонке `genre`. Например, название одного и того же жанра может быть записано немного по-разному. Такие ошибки тоже повлияют на результат исследования."
   ]
  },
  {
   "cell_type": "markdown",
   "metadata": {
    "id": "eSjWwsOh_Zct"
   },
   "source": [
    "Выведите на экран список уникальных названий жанров, отсортированный в алфавитном порядке. Для этого:\n",
    "* извлеките нужный столбец датафрейма, \n",
    "* примените к нему метод сортировки,\n",
    "* для отсортированного столбца вызовите метод, который вернёт уникальные значения из столбца."
   ]
  },
  {
   "cell_type": "code",
   "execution_count": 18,
   "metadata": {
    "id": "JIUcqzZN_Zct"
   },
   "outputs": [
    {
     "data": {
      "text/plain": [
       "array(['acid', 'acoustic', 'action', 'adult', 'africa', 'afrikaans',\n",
       "       'alternative', 'alternativepunk', 'ambient', 'americana',\n",
       "       'animated', 'anime', 'arabesk', 'arabic', 'arena',\n",
       "       'argentinetango', 'art', 'audiobook', 'author', 'avantgarde',\n",
       "       'axé', 'baile', 'balkan', 'beats', 'bigroom', 'black', 'bluegrass',\n",
       "       'blues', 'bollywood', 'bossa', 'brazilian', 'breakbeat', 'breaks',\n",
       "       'broadway', 'cantautori', 'cantopop', 'canzone', 'caribbean',\n",
       "       'caucasian', 'celtic', 'chamber', 'chanson', 'children', 'chill',\n",
       "       'chinese', 'choral', 'christian', 'christmas', 'classical',\n",
       "       'classicmetal', 'club', 'colombian', 'comedy', 'conjazz',\n",
       "       'contemporary', 'country', 'cuban', 'dance', 'dancehall',\n",
       "       'dancepop', 'dark', 'death', 'deep', 'deutschrock', 'deutschspr',\n",
       "       'dirty', 'disco', 'dnb', 'documentary', 'downbeat', 'downtempo',\n",
       "       'drum', 'dub', 'dubstep', 'eastern', 'easy', 'electronic',\n",
       "       'electropop', 'emo', 'entehno', 'epicmetal', 'estrada', 'ethnic',\n",
       "       'eurofolk', 'european', 'experimental', 'extrememetal', 'fado',\n",
       "       'fairytail', 'film', 'fitness', 'flamenco', 'folk', 'folklore',\n",
       "       'folkmetal', 'folkrock', 'folktronica', 'forró', 'frankreich',\n",
       "       'französisch', 'french', 'funk', 'future', 'gangsta', 'garage',\n",
       "       'german', 'ghazal', 'gitarre', 'glitch', 'gospel', 'gothic',\n",
       "       'grime', 'grunge', 'gypsy', 'handsup', \"hard'n'heavy\", 'hardcore',\n",
       "       'hardstyle', 'hardtechno', 'hip', 'hip-hop', 'hiphop',\n",
       "       'historisch', 'holiday', 'hop', 'horror', 'house', 'hymn', 'idm',\n",
       "       'independent', 'indian', 'indie', 'indipop', 'industrial',\n",
       "       'inspirational', 'instrumental', 'international', 'irish', 'jam',\n",
       "       'japanese', 'jazz', 'jewish', 'jpop', 'jungle', 'k-pop',\n",
       "       'karadeniz', 'karaoke', 'kayokyoku', 'korean', 'laiko', 'latin',\n",
       "       'latino', 'leftfield', 'local', 'lounge', 'loungeelectronic',\n",
       "       'lovers', 'malaysian', 'mandopop', 'marschmusik', 'meditative',\n",
       "       'mediterranean', 'melodic', 'metal', 'metalcore', 'mexican',\n",
       "       'middle', 'minimal', 'miscellaneous', 'modern', 'mood', 'mpb',\n",
       "       'muslim', 'native', 'neoklassik', 'neue', 'new', 'newage',\n",
       "       'newwave', 'nu', 'nujazz', 'numetal', 'oceania', 'old', 'opera',\n",
       "       'orchestral', 'other', 'piano', 'podcasts', 'pop', 'popdance',\n",
       "       'popelectronic', 'popeurodance', 'poprussian', 'post',\n",
       "       'posthardcore', 'postrock', 'power', 'progmetal', 'progressive',\n",
       "       'psychedelic', 'punjabi', 'punk', 'quebecois', 'ragga', 'ram',\n",
       "       'rancheras', 'rap', 'rave', 'reggae', 'reggaeton', 'regional',\n",
       "       'relax', 'religious', 'retro', 'rhythm', 'rnb', 'rnr', 'rock',\n",
       "       'rockabilly', 'rockalternative', 'rockindie', 'rockother',\n",
       "       'romance', 'roots', 'ruspop', 'rusrap', 'rusrock', 'russian',\n",
       "       'salsa', 'samba', 'scenic', 'schlager', 'self', 'sertanejo',\n",
       "       'shanson', 'shoegazing', 'showtunes', 'singer', 'ska', 'skarock',\n",
       "       'slow', 'smooth', 'soft', 'soul', 'soulful', 'sound', 'soundtrack',\n",
       "       'southern', 'specialty', 'speech', 'spiritual', 'sport',\n",
       "       'stonerrock', 'surf', 'swing', 'synthpop', 'synthrock',\n",
       "       'sängerportrait', 'tango', 'tanzorchester', 'taraftar', 'tatar',\n",
       "       'tech', 'techno', 'teen', 'thrash', 'top', 'traditional',\n",
       "       'tradjazz', 'trance', 'tribal', 'trip', 'triphop', 'tropical',\n",
       "       'türk', 'türkçe', 'ukrrock', 'unknown', 'urban', 'uzbek',\n",
       "       'variété', 'vi', 'videogame', 'vocal', 'western', 'world',\n",
       "       'worldbeat', 'ïîï', 'электроника'], dtype=object)"
      ]
     },
     "execution_count": 18,
     "metadata": {},
     "output_type": "execute_result"
    }
   ],
   "source": [
    "df['genre'].sort_values().unique()"
   ]
  },
  {
   "cell_type": "markdown",
   "metadata": {
    "id": "qej-Qmuo_Zct"
   },
   "source": [
    "Просмотрите список и найдите неявные дубликаты названия `hiphop`. Это могут быть названия с ошибками или альтернативные названия того же жанра.\n",
    "\n",
    "Вы увидите следующие неявные дубликаты:\n",
    "* *hip*,\n",
    "* *hop*,\n",
    "* *hip-hop*.\n",
    "\n",
    "Чтобы очистить от них таблицу, напишите функцию `replace_wrong_genres()` с двумя параметрами: \n",
    "* `wrong_genres` — список дубликатов,\n",
    "* `correct_genre` — строка с правильным значением.\n",
    "\n",
    "Функция должна исправить колонку `genre` в таблице `df`: заменить каждое значение из списка `wrong_genres` на значение из `correct_genre`."
   ]
  },
  {
   "cell_type": "code",
   "execution_count": 19,
   "metadata": {
    "id": "ErNDkmns_Zct"
   },
   "outputs": [],
   "source": [
    "def replace_wrong_genres(wrong_genres,correct_genre):\n",
    "    for i in wrong_genres:\n",
    "        df['genre'] = df['genre'].replace(i,correct_genre)"
   ]
  },
  {
   "cell_type": "markdown",
   "metadata": {
    "id": "aDoBJxbA_Zct"
   },
   "source": [
    "Вызовите `replace_wrong_genres()` и передайте ей такие аргументы, чтобы она устранила неявные дубликаты: вместо `hip`, `hop` и `hip-hop` в таблице должно быть значение `hiphop`:"
   ]
  },
  {
   "cell_type": "code",
   "execution_count": 20,
   "metadata": {
    "id": "YN5i2hpmSo09"
   },
   "outputs": [],
   "source": [
    "wrong_genres = ['hip', 'hop', 'hip-hop']\n",
    "correct_genre = 'hiphop'\n",
    "replace_wrong_genres(wrong_genres,correct_genre)"
   ]
  },
  {
   "cell_type": "markdown",
   "metadata": {
    "id": "zQKF16_RG15m"
   },
   "source": [
    "Проверьте, что заменили неправильные названия:\n",
    "\n",
    "*   hip\n",
    "*   hop\n",
    "*   hip-hop\n",
    "\n",
    "Выведите отсортированный список уникальных значений столбца `genre`:"
   ]
  },
  {
   "cell_type": "code",
   "execution_count": 21,
   "metadata": {
    "id": "wvixALnFG15m"
   },
   "outputs": [
    {
     "data": {
      "text/plain": [
       "array(['acid', 'acoustic', 'action', 'adult', 'africa', 'afrikaans',\n",
       "       'alternative', 'alternativepunk', 'ambient', 'americana',\n",
       "       'animated', 'anime', 'arabesk', 'arabic', 'arena',\n",
       "       'argentinetango', 'art', 'audiobook', 'author', 'avantgarde',\n",
       "       'axé', 'baile', 'balkan', 'beats', 'bigroom', 'black', 'bluegrass',\n",
       "       'blues', 'bollywood', 'bossa', 'brazilian', 'breakbeat', 'breaks',\n",
       "       'broadway', 'cantautori', 'cantopop', 'canzone', 'caribbean',\n",
       "       'caucasian', 'celtic', 'chamber', 'chanson', 'children', 'chill',\n",
       "       'chinese', 'choral', 'christian', 'christmas', 'classical',\n",
       "       'classicmetal', 'club', 'colombian', 'comedy', 'conjazz',\n",
       "       'contemporary', 'country', 'cuban', 'dance', 'dancehall',\n",
       "       'dancepop', 'dark', 'death', 'deep', 'deutschrock', 'deutschspr',\n",
       "       'dirty', 'disco', 'dnb', 'documentary', 'downbeat', 'downtempo',\n",
       "       'drum', 'dub', 'dubstep', 'eastern', 'easy', 'electronic',\n",
       "       'electropop', 'emo', 'entehno', 'epicmetal', 'estrada', 'ethnic',\n",
       "       'eurofolk', 'european', 'experimental', 'extrememetal', 'fado',\n",
       "       'fairytail', 'film', 'fitness', 'flamenco', 'folk', 'folklore',\n",
       "       'folkmetal', 'folkrock', 'folktronica', 'forró', 'frankreich',\n",
       "       'französisch', 'french', 'funk', 'future', 'gangsta', 'garage',\n",
       "       'german', 'ghazal', 'gitarre', 'glitch', 'gospel', 'gothic',\n",
       "       'grime', 'grunge', 'gypsy', 'handsup', \"hard'n'heavy\", 'hardcore',\n",
       "       'hardstyle', 'hardtechno', 'hiphop', 'historisch', 'holiday',\n",
       "       'horror', 'house', 'hymn', 'idm', 'independent', 'indian', 'indie',\n",
       "       'indipop', 'industrial', 'inspirational', 'instrumental',\n",
       "       'international', 'irish', 'jam', 'japanese', 'jazz', 'jewish',\n",
       "       'jpop', 'jungle', 'k-pop', 'karadeniz', 'karaoke', 'kayokyoku',\n",
       "       'korean', 'laiko', 'latin', 'latino', 'leftfield', 'local',\n",
       "       'lounge', 'loungeelectronic', 'lovers', 'malaysian', 'mandopop',\n",
       "       'marschmusik', 'meditative', 'mediterranean', 'melodic', 'metal',\n",
       "       'metalcore', 'mexican', 'middle', 'minimal', 'miscellaneous',\n",
       "       'modern', 'mood', 'mpb', 'muslim', 'native', 'neoklassik', 'neue',\n",
       "       'new', 'newage', 'newwave', 'nu', 'nujazz', 'numetal', 'oceania',\n",
       "       'old', 'opera', 'orchestral', 'other', 'piano', 'podcasts', 'pop',\n",
       "       'popdance', 'popelectronic', 'popeurodance', 'poprussian', 'post',\n",
       "       'posthardcore', 'postrock', 'power', 'progmetal', 'progressive',\n",
       "       'psychedelic', 'punjabi', 'punk', 'quebecois', 'ragga', 'ram',\n",
       "       'rancheras', 'rap', 'rave', 'reggae', 'reggaeton', 'regional',\n",
       "       'relax', 'religious', 'retro', 'rhythm', 'rnb', 'rnr', 'rock',\n",
       "       'rockabilly', 'rockalternative', 'rockindie', 'rockother',\n",
       "       'romance', 'roots', 'ruspop', 'rusrap', 'rusrock', 'russian',\n",
       "       'salsa', 'samba', 'scenic', 'schlager', 'self', 'sertanejo',\n",
       "       'shanson', 'shoegazing', 'showtunes', 'singer', 'ska', 'skarock',\n",
       "       'slow', 'smooth', 'soft', 'soul', 'soulful', 'sound', 'soundtrack',\n",
       "       'southern', 'specialty', 'speech', 'spiritual', 'sport',\n",
       "       'stonerrock', 'surf', 'swing', 'synthpop', 'synthrock',\n",
       "       'sängerportrait', 'tango', 'tanzorchester', 'taraftar', 'tatar',\n",
       "       'tech', 'techno', 'teen', 'thrash', 'top', 'traditional',\n",
       "       'tradjazz', 'trance', 'tribal', 'trip', 'triphop', 'tropical',\n",
       "       'türk', 'türkçe', 'ukrrock', 'unknown', 'urban', 'uzbek',\n",
       "       'variété', 'vi', 'videogame', 'vocal', 'western', 'world',\n",
       "       'worldbeat', 'ïîï', 'электроника'], dtype=object)"
      ]
     },
     "execution_count": 21,
     "metadata": {},
     "output_type": "execute_result"
    }
   ],
   "source": [
    "df['genre'].sort_values().unique()"
   ]
  },
  {
   "cell_type": "markdown",
   "metadata": {
    "id": "jz6a9-7HQUDd"
   },
   "source": [
    "**Выводы**\n",
    "\n",
    "Предобработка обнаружила три проблемы в данных:\n",
    "\n",
    "- нарушения в стиле заголовков,\n",
    "- пропущенные значения,\n",
    "- дубликаты — явные и неявные.\n",
    "\n",
    "Вы исправили заголовки, чтобы упростить работу с таблицей. Без дубликатов исследование станет более точным.\n",
    "\n",
    "Пропущенные значения вы заменили на `'unknown'`. Ещё предстоит увидеть, не повредят ли исследованию пропуски в колонке `genre`.\n",
    "\n",
    "Теперь можно перейти к проверке гипотез. "
   ]
  },
  {
   "cell_type": "markdown",
   "metadata": {
    "id": "WttZHXH0SqKk"
   },
   "source": [
    "## Проверка гипотез"
   ]
  },
  {
   "cell_type": "markdown",
   "metadata": {
    "id": "Im936VVi_Zcu"
   },
   "source": [
    "### Сравнение поведения пользователей двух столиц"
   ]
  },
  {
   "cell_type": "markdown",
   "metadata": {
    "id": "nwt_MuaL_Zcu"
   },
   "source": [
    "Первая гипотеза утверждает, что пользователи по-разному слушают музыку в Москве и Санкт-Петербурге. Проверьте это предположение по данным о трёх днях недели — понедельнике, среде и пятнице. Для этого:\n",
    "\n",
    "* Разделите пользователей Москвы и Санкт-Петербурга\n",
    "* Сравните, сколько треков послушала каждая группа пользователей в понедельник, среду и пятницу.\n"
   ]
  },
  {
   "cell_type": "markdown",
   "metadata": {
    "id": "8Dw_YMmT_Zcu"
   },
   "source": [
    "Для тренировки сначала выполните каждый из расчётов по отдельности. \n",
    "\n",
    "Оцените активность пользователей в каждом городе. Сгруппируйте данные по городу и посчитайте прослушивания в каждой группе.\n",
    "\n"
   ]
  },
  {
   "cell_type": "code",
   "execution_count": 22,
   "metadata": {
    "id": "0_Qs96oh_Zcu"
   },
   "outputs": [
    {
     "data": {
      "text/plain": [
       "city\n",
       "Moscow              42741\n",
       "Saint-Petersburg    18512\n",
       "Name: track, dtype: int64"
      ]
     },
     "execution_count": 22,
     "metadata": {},
     "output_type": "execute_result"
    }
   ],
   "source": [
    "df.groupby('city')['track'].count()"
   ]
  },
  {
   "cell_type": "markdown",
   "metadata": {
    "id": "dzli3w8o_Zcu"
   },
   "source": [
    "В Москве прослушиваний больше, чем в Петербурге. Из этого не следует, что московские пользователи чаще слушают музыку. Просто самих пользователей в Москве больше.\n",
    "\n",
    "Теперь сгруппируйте данные по дню недели и подсчитайте прослушивания в понедельник, среду и пятницу. Учтите, что в данных есть информация только о прослушиваниях только за эти дни.\n"
   ]
  },
  {
   "cell_type": "code",
   "execution_count": 23,
   "metadata": {
    "id": "uZMKjiJz_Zcu"
   },
   "outputs": [
    {
     "data": {
      "text/plain": [
       "day\n",
       "Friday       21840\n",
       "Monday       21354\n",
       "Wednesday    18059\n",
       "Name: track, dtype: int64"
      ]
     },
     "execution_count": 23,
     "metadata": {},
     "output_type": "execute_result"
    }
   ],
   "source": [
    "df.groupby('day')['track'].count()"
   ]
  },
  {
   "cell_type": "markdown",
   "metadata": {},
   "source": [
    "**СДЕЛАНО**"
   ]
  },
  {
   "cell_type": "markdown",
   "metadata": {
    "id": "cC2tNrlL_Zcu"
   },
   "source": [
    "В среднем пользователи из двух городов менее активны по средам. Но картина может измениться, если рассмотреть каждый город в отдельности."
   ]
  },
  {
   "cell_type": "markdown",
   "metadata": {
    "id": "POzs8bGa_Zcu"
   },
   "source": [
    "Вы видели, как работает группировка по городу и по дням недели. Теперь напишите функцию, которая объединит два эти расчёта.\n",
    "\n",
    "Создайте функцию `number_tracks()`, которая посчитает прослушивания для заданного дня и города. Ей понадобятся два параметра:\n",
    "* день недели,\n",
    "* название города.\n",
    "\n",
    "В функции сохраните в переменную строки исходной таблицы, у которых значение:\n",
    "  * в колонке `day` равно параметру `day`,\n",
    "  * в колонке `city` равно параметру `city`.\n",
    "\n",
    "Для этого примените последовательную фильтрацию с логической индексацией.\n",
    "\n",
    "Затем посчитайте значения в столбце `user_id` получившейся таблицы. Результат сохраните в новую переменную. Верните эту переменную из функции."
   ]
  },
  {
   "cell_type": "code",
   "execution_count": 24,
   "metadata": {
    "id": "Nz3GdQB1_Zcu"
   },
   "outputs": [],
   "source": [
    "def number_tracks(day,city):\n",
    "    track_list = df[(df['day'] == day) & (df['city'] == city)]\n",
    "    track_list_count = track_list['user_id'].count()\n",
    "    return track_list_count"
   ]
  },
  {
   "cell_type": "markdown",
   "metadata": {
    "id": "ytf7xFrFJQ2r"
   },
   "source": [
    "Вызовите `number_tracks()` шесть раз, меняя значение параметров — так, чтобы получить данные для каждого города в каждый из трёх дней."
   ]
  },
  {
   "cell_type": "code",
   "execution_count": 25,
   "metadata": {
    "id": "rJcRATNQ_Zcu"
   },
   "outputs": [
    {
     "data": {
      "text/plain": [
       "15740"
      ]
     },
     "execution_count": 25,
     "metadata": {},
     "output_type": "execute_result"
    }
   ],
   "source": [
    "msk = 'Moscow'\n",
    "spb = 'Saint-Petersburg'\n",
    "mondey = 'Monday'\n",
    "wednesday = 'Wednesday'\n",
    "friday = 'Friday'\n",
    "\n",
    "number_tracks(mondey,msk)"
   ]
  },
  {
   "cell_type": "code",
   "execution_count": 26,
   "metadata": {
    "id": "hq_ncZ5T_Zcu"
   },
   "outputs": [
    {
     "data": {
      "text/plain": [
       "5614"
      ]
     },
     "execution_count": 26,
     "metadata": {},
     "output_type": "execute_result"
    }
   ],
   "source": [
    "number_tracks(mondey,spb)"
   ]
  },
  {
   "cell_type": "code",
   "execution_count": 27,
   "metadata": {
    "id": "_NTy2VPU_Zcu"
   },
   "outputs": [
    {
     "data": {
      "text/plain": [
       "11056"
      ]
     },
     "execution_count": 27,
     "metadata": {},
     "output_type": "execute_result"
    }
   ],
   "source": [
    "number_tracks(wednesday,msk)"
   ]
  },
  {
   "cell_type": "code",
   "execution_count": 28,
   "metadata": {
    "id": "j2y3TAwo_Zcu"
   },
   "outputs": [
    {
     "data": {
      "text/plain": [
       "7003"
      ]
     },
     "execution_count": 28,
     "metadata": {},
     "output_type": "execute_result"
    }
   ],
   "source": [
    "number_tracks(wednesday,spb)"
   ]
  },
  {
   "cell_type": "code",
   "execution_count": 29,
   "metadata": {
    "id": "vYDw5u_K_Zcu"
   },
   "outputs": [
    {
     "data": {
      "text/plain": [
       "15945"
      ]
     },
     "execution_count": 29,
     "metadata": {},
     "output_type": "execute_result"
    }
   ],
   "source": [
    "number_tracks(friday,msk)"
   ]
  },
  {
   "cell_type": "code",
   "execution_count": 30,
   "metadata": {
    "id": "8_yzFtW3_Zcu"
   },
   "outputs": [
    {
     "data": {
      "text/plain": [
       "5895"
      ]
     },
     "execution_count": 30,
     "metadata": {},
     "output_type": "execute_result"
    }
   ],
   "source": [
    "number_tracks(friday,spb)"
   ]
  },
  {
   "cell_type": "markdown",
   "metadata": {
    "id": "7QXffbO-_Zcu"
   },
   "source": [
    "Создайте c помощью конструктора `pd.DataFrame` таблицу, где\n",
    "* названия колонок — `['city', 'monday', 'wednesday', 'friday']`;\n",
    "* данные — результаты, которые вы получили с помощью `number_tracks`."
   ]
  },
  {
   "cell_type": "code",
   "execution_count": 31,
   "metadata": {
    "id": "APAcLpOr_Zcu"
   },
   "outputs": [
    {
     "data": {
      "text/html": [
       "<div>\n",
       "<style scoped>\n",
       "    .dataframe tbody tr th:only-of-type {\n",
       "        vertical-align: middle;\n",
       "    }\n",
       "\n",
       "    .dataframe tbody tr th {\n",
       "        vertical-align: top;\n",
       "    }\n",
       "\n",
       "    .dataframe thead th {\n",
       "        text-align: right;\n",
       "    }\n",
       "</style>\n",
       "<table border=\"1\" class=\"dataframe\">\n",
       "  <thead>\n",
       "    <tr style=\"text-align: right;\">\n",
       "      <th></th>\n",
       "      <th>city</th>\n",
       "      <th>monday</th>\n",
       "      <th>wednesday</th>\n",
       "      <th>friday</th>\n",
       "    </tr>\n",
       "  </thead>\n",
       "  <tbody>\n",
       "    <tr>\n",
       "      <td>0</td>\n",
       "      <td>Moscow</td>\n",
       "      <td>15740</td>\n",
       "      <td>11056</td>\n",
       "      <td>15945</td>\n",
       "    </tr>\n",
       "    <tr>\n",
       "      <td>1</td>\n",
       "      <td>Saint-Petersburg</td>\n",
       "      <td>5614</td>\n",
       "      <td>7003</td>\n",
       "      <td>5895</td>\n",
       "    </tr>\n",
       "  </tbody>\n",
       "</table>\n",
       "</div>"
      ],
      "text/plain": [
       "               city  monday  wednesday  friday\n",
       "0            Moscow   15740      11056   15945\n",
       "1  Saint-Petersburg    5614       7003    5895"
      ]
     },
     "execution_count": 31,
     "metadata": {},
     "output_type": "execute_result"
    }
   ],
   "source": [
    "columns = ['city', 'monday', 'wednesday', 'friday']\n",
    "data = ['Moscow', 15740, 11056, 15945],['Saint-Petersburg', 5614, 7003, 5895]\n",
    "pd.DataFrame(data=data, columns=columns)"
   ]
  },
  {
   "cell_type": "markdown",
   "metadata": {
    "id": "-EgPIHYu_Zcu"
   },
   "source": [
    "**Выводы**\n",
    "\n",
    "Данные показывают разницу поведения пользователей:\n",
    "\n",
    "- В Москве пик прослушиваний приходится на понедельник и пятницу, а в среду заметен спад.\n",
    "- В Петербурге, наоборот, больше слушают музыку по средам. Активность в понедельник и пятницу здесь почти в равной мере уступает среде.\n",
    "\n",
    "Значит, данные говорят в пользу первой гипотезы."
   ]
  },
  {
   "cell_type": "markdown",
   "metadata": {
    "id": "atZAxtq4_Zcu"
   },
   "source": [
    "### Музыка в начале и в конце недели"
   ]
  },
  {
   "cell_type": "markdown",
   "metadata": {
    "id": "eXrQqXFH_Zcu"
   },
   "source": [
    "Согласно второй гипотезе, утром в понедельник в Москве преобладают одни жанры, а в Петербурге — другие. Так же и вечером пятницы преобладают разные жанры — в зависимости от города."
   ]
  },
  {
   "cell_type": "markdown",
   "metadata": {
    "id": "S8UcW6Hw_Zcu"
   },
   "source": [
    "Сохраните таблицы с данными в две переменные:\n",
    "* по Москве — в `moscow_general`;\n",
    "* по Санкт-Петербургу — в `spb_general`."
   ]
  },
  {
   "cell_type": "code",
   "execution_count": 32,
   "metadata": {
    "id": "qeaFfM_P_Zcu"
   },
   "outputs": [],
   "source": [
    "# получение таблицы moscow_general из тех строк таблицы df, \n",
    "# для которых значение в столбце 'city' равно 'Moscow'\n",
    "moscow_general = df[df['city'] == 'Moscow']\n"
   ]
  },
  {
   "cell_type": "code",
   "execution_count": 33,
   "metadata": {
    "id": "ORaVRKto_Zcu"
   },
   "outputs": [],
   "source": [
    "# получение таблицы spb_general из тех строк таблицы df,\n",
    "# для которых значение в столбце 'city' равно 'Saint-Petersburg'\n",
    "spb_general = df[df['city'] == 'Saint-Petersburg']\n"
   ]
  },
  {
   "cell_type": "markdown",
   "metadata": {
    "id": "MEJV-CX2_Zcu"
   },
   "source": [
    "Создайте функцию `genre_weekday()` с четырьмя параметрами:\n",
    "* таблица (датафрейм) с данными,\n",
    "* день недели,\n",
    "* начальная временная метка в формате 'hh:mm', \n",
    "* последняя временная метка в формате 'hh:mm'.\n",
    "\n",
    "Функция должна вернуть информацию о топ-10 жанров тех треков, которые прослушивали в указанный день, в промежутке между двумя отметками времени."
   ]
  },
  {
   "cell_type": "code",
   "execution_count": 34,
   "metadata": {
    "id": "laJT9BYl_Zcu"
   },
   "outputs": [],
   "source": [
    "# Объявление функции genre_weekday() с параметрами table, day, time1, time2,\n",
    "# которая возвращает информацию о самых популярных жанрах в указанный день в\n",
    "# заданное время:\n",
    "def genre_weekday(table, day, time1, time2):\n",
    "    genre_df = table[table['day'] == day]\n",
    "    genre_df = genre_df[genre_df['time'] > time1]\n",
    "    genre_df = genre_df[genre_df['time'] < time2]\n",
    "    genre_df_count = genre_df.groupby('genre')['genre'].count()\n",
    "    genre_df_sorted = genre_df_count.sort_values(ascending=False)\n",
    "    return genre_df_sorted.head(10)"
   ]
  },
  {
   "cell_type": "markdown",
   "metadata": {
    "id": "la2s2_PF_Zcu"
   },
   "source": [
    "Cравните результаты функции `genre_weekday()` для Москвы и Санкт-Петербурга в понедельник утром (с 7:00 до 11:00) и в пятницу вечером (с 17:00 до 23:00):"
   ]
  },
  {
   "cell_type": "code",
   "execution_count": 35,
   "metadata": {
    "id": "yz7itPUQ_Zcu"
   },
   "outputs": [
    {
     "data": {
      "text/plain": [
       "genre\n",
       "pop            781\n",
       "dance          549\n",
       "electronic     480\n",
       "rock           474\n",
       "hiphop         286\n",
       "ruspop         186\n",
       "world          181\n",
       "rusrap         175\n",
       "alternative    164\n",
       "unknown        161\n",
       "Name: genre, dtype: int64"
      ]
     },
     "execution_count": 35,
     "metadata": {},
     "output_type": "execute_result"
    }
   ],
   "source": [
    "# вызов функции для утра понедельника в Москве (вместо df — таблица moscow_general)\n",
    "# объекты, хранящие время, являются строками и сравниваются как строки\n",
    "# пример вызова: genre_weekday(moscow_general, 'Monday', '07:00', '11:00')\n",
    "genre_weekday(moscow_general, 'Monday', '07:00', '11:00')"
   ]
  },
  {
   "cell_type": "code",
   "execution_count": 36,
   "metadata": {
    "id": "kwUcHPdy_Zcu"
   },
   "outputs": [
    {
     "data": {
      "text/plain": [
       "genre\n",
       "pop            218\n",
       "dance          182\n",
       "rock           162\n",
       "electronic     147\n",
       "hiphop          80\n",
       "ruspop          64\n",
       "alternative     58\n",
       "rusrap          55\n",
       "jazz            44\n",
       "classical       40\n",
       "Name: genre, dtype: int64"
      ]
     },
     "execution_count": 36,
     "metadata": {},
     "output_type": "execute_result"
    }
   ],
   "source": [
    "# вызов функции для утра понедельника в Петербурге (вместо df — таблица spb_general)\n",
    "genre_weekday(spb_general, 'Monday', '07:00', '11:00')"
   ]
  },
  {
   "cell_type": "code",
   "execution_count": 37,
   "metadata": {
    "id": "EzXVRE1o_Zcu"
   },
   "outputs": [
    {
     "data": {
      "text/plain": [
       "genre\n",
       "pop            713\n",
       "rock           517\n",
       "dance          495\n",
       "electronic     482\n",
       "hiphop         273\n",
       "world          208\n",
       "ruspop         170\n",
       "alternative    163\n",
       "classical      163\n",
       "rusrap         142\n",
       "Name: genre, dtype: int64"
      ]
     },
     "execution_count": 37,
     "metadata": {},
     "output_type": "execute_result"
    }
   ],
   "source": [
    "# вызов функции для вечера пятницы в Москве\n",
    "genre_weekday(moscow_general, 'Friday', '18:00', '23:00')"
   ]
  },
  {
   "cell_type": "code",
   "execution_count": 38,
   "metadata": {
    "id": "JZaEKu5v_Zcu"
   },
   "outputs": [
    {
     "data": {
      "text/plain": [
       "genre\n",
       "pop            256\n",
       "rock           216\n",
       "electronic     216\n",
       "dance          210\n",
       "hiphop          97\n",
       "alternative     63\n",
       "jazz            61\n",
       "classical       60\n",
       "rusrap          59\n",
       "world           54\n",
       "Name: genre, dtype: int64"
      ]
     },
     "execution_count": 38,
     "metadata": {},
     "output_type": "execute_result"
    }
   ],
   "source": [
    "# вызов функции для вечера пятницы в Петербурге\n",
    "genre_weekday(spb_general, 'Friday', '18:00', '23:00')"
   ]
  },
  {
   "cell_type": "markdown",
   "metadata": {
    "id": "wrCe4MNX_Zcu"
   },
   "source": [
    "**Выводы**\n",
    "\n",
    "Если сравнить топ-10 жанров в понедельник утром, можно сделать такие выводы:\n",
    "\n",
    "1. В Москве и Петербурге слушают похожую музыку. Единственное отличие — в московский рейтинг вошёл жанр “world”, а в петербургский — джаз и классика.\n",
    "\n",
    "2. В Москве пропущенных значений оказалось так много, что значение `'unknown'` заняло десятое место среди самых популярных жанров. Значит, пропущенные значения занимают существенную долю в данных и угрожают достоверности исследования.\n",
    "\n",
    "Вечер пятницы не меняет эту картину. Некоторые жанры поднимаются немного выше, другие спускаются, но в целом топ-10 остаётся тем же самым.\n",
    "\n",
    "Таким образом, вторая гипотеза подтвердилась лишь частично:\n",
    "* Пользователи слушают похожую музыку в начале недели и в конце.\n",
    "* Разница между Москвой и Петербургом не слишком выражена. В Москве чаще слушают русскую популярную музыку, в Петербурге — джаз.\n",
    "\n",
    "Однако пропуски в данных ставят под сомнение этот результат. В Москве их так много, что рейтинг топ-10 мог бы выглядеть иначе, если бы не утерянные  данные о жанрах."
   ]
  },
  {
   "cell_type": "markdown",
   "metadata": {
    "id": "JolODAqr_Zcu"
   },
   "source": [
    "### Жанровые предпочтения в Москве и Петербурге\n",
    "\n",
    "Гипотеза: Петербург — столица рэпа, музыку этого жанра там слушают чаще, чем в Москве.  А Москва — город контрастов, в котором, тем не менее, преобладает поп-музыка."
   ]
  },
  {
   "cell_type": "markdown",
   "metadata": {
    "id": "DlegSvaT_Zcu"
   },
   "source": [
    "Сгруппируйте таблицу `moscow_general` по жанру и посчитайте прослушивания треков каждого жанра методом `count()`. Затем отсортируйте результат в порядке убывания и сохраните его в таблице `moscow_genres`."
   ]
  },
  {
   "cell_type": "code",
   "execution_count": 39,
   "metadata": {
    "id": "r19lIPke_Zcu"
   },
   "outputs": [],
   "source": [
    "# одной строкой: группировка таблицы moscow_general по столбцу 'genre', \n",
    "\n",
    "moscow_genres = moscow_general.groupby('genre')['genre'].count().sort_values(ascending = False)"
   ]
  },
  {
   "cell_type": "markdown",
   "metadata": {
    "id": "6kMuomxTiIr8"
   },
   "source": [
    "Выведите на экран первые десять строк `moscow_genres`:"
   ]
  },
  {
   "cell_type": "code",
   "execution_count": 40,
   "metadata": {
    "id": "WhCSooF8_Zcv"
   },
   "outputs": [
    {
     "name": "stdout",
     "output_type": "stream",
     "text": [
      "genre\n",
      "pop            5892\n",
      "dance          4435\n",
      "rock           3965\n",
      "electronic     3786\n",
      "hiphop         2096\n",
      "classical      1616\n",
      "world          1432\n",
      "alternative    1379\n",
      "ruspop         1372\n",
      "rusrap         1161\n",
      "Name: genre, dtype: int64\n"
     ]
    }
   ],
   "source": [
    "print(moscow_genres.head(10))"
   ]
  },
  {
   "cell_type": "markdown",
   "metadata": {},
   "source": [
    "**СДЕЛАНО**"
   ]
  },
  {
   "cell_type": "markdown",
   "metadata": {
    "id": "cnPG2vnN_Zcv"
   },
   "source": [
    "Теперь повторите то же и для Петербурга.\n",
    "\n",
    "Сгруппируйте таблицу `spb_general` по жанру. Посчитайте прослушивания треков каждого жанра. Результат отсортируйте в порядке убывания и сохраните в таблице `spb_genres`:\n"
   ]
  },
  {
   "cell_type": "code",
   "execution_count": 41,
   "metadata": {
    "id": "gluLIpE7_Zcv"
   },
   "outputs": [],
   "source": [
    "# одной строкой: группировка таблицы spb_general по столбцу 'genre', \n",
    "# подсчёт числа значений 'genre' в этой группировке методом count(), \n",
    "# сортировка получившегося Series в порядке убывания и сохранение в spb_genres\n",
    "spb_genres = spb_general.groupby('genre')['genre'].count().sort_values(ascending=False)"
   ]
  },
  {
   "cell_type": "markdown",
   "metadata": {
    "id": "5Doha_ODgyQ8"
   },
   "source": [
    "Выведите на экран первые десять строк `spb_genres`:"
   ]
  },
  {
   "cell_type": "code",
   "execution_count": 42,
   "metadata": {
    "id": "uaGJHjVU_Zcv"
   },
   "outputs": [
    {
     "name": "stdout",
     "output_type": "stream",
     "text": [
      "genre\n",
      "pop            2431\n",
      "dance          1932\n",
      "rock           1879\n",
      "electronic     1736\n",
      "hiphop          960\n",
      "alternative     649\n",
      "classical       646\n",
      "rusrap          564\n",
      "ruspop          538\n",
      "world           515\n",
      "Name: genre, dtype: int64\n"
     ]
    }
   ],
   "source": [
    "# просмотр первых 10 строк spb_genres\n",
    "print(spb_genres.head(10))"
   ]
  },
  {
   "cell_type": "markdown",
   "metadata": {
    "id": "RY51YJYu_Zcv"
   },
   "source": [
    "**Выводы**"
   ]
  },
  {
   "cell_type": "markdown",
   "metadata": {
    "id": "nVhnJEm__Zcv"
   },
   "source": [
    "Гипотеза частично подтвердилась:\n",
    "* Поп-музыка — самый популярный жанр в Москве, как и предполагала гипотеза. Более того, в топ-10 жанров встречается близкий жанр — русская популярная музыка.\n",
    "* Вопреки ожиданиям, рэп одинаково популярен в Москве и Петербурге. \n"
   ]
  },
  {
   "cell_type": "markdown",
   "metadata": {
    "id": "ykKQ0N65_Zcv"
   },
   "source": [
    "## Итоги исследования"
   ]
  },
  {
   "cell_type": "markdown",
   "metadata": {
    "id": "tjUwbHb3_Zcv"
   },
   "source": [
    "Вы проверили три гипотезы и установили:\n",
    "\n",
    "1. День недели по-разному влияет на активность пользователей в Москве и Петербурге. \n",
    "\n",
    "Первая гипотеза полностью подтвердилась.\n",
    "\n",
    "2. Музыкальные предпочтения не сильно меняются в течение недели — будь то Москва или Петербург. Небольшие различия заметны в начале недели, по понедельникам:\n",
    "* в Москве слушают музыку жанра “world”,\n",
    "* в Петербурге — джаз и классику.\n",
    "\n",
    "Таким образом, вторая гипотеза подтвердилась лишь отчасти. Этот результат мог оказаться иным, если бы не пропуски в данных.\n",
    "\n",
    "3. Во вкусах пользователей Москвы и Петербурга больше общего чем различий. Вопреки ожиданиям, предпочтения жанров в Петербурге напоминают московские.\n",
    "\n",
    "Третья гипотеза не подтвердилась. Если различия в предпочтениях и существуют, на основной массе пользователей они незаметны.\n",
    "\n",
    "**На практике исследования содержат проверки статистических гипотез.**\n",
    "Из данных одного сервиса не всегда можно сделать вывод о всех жителях города.\n",
    "Проверки статистических гипотез покажут, насколько они достоверны, исходя из имеющихся данных. \n",
    "С методами проверок гипотез вы ещё познакомитесь в следующих темах."
   ]
  }
 ],
 "metadata": {
  "ExecuteTimeLog": [
   {
    "duration": 5,
    "start_time": "2022-01-27T19:24:20.387Z"
   },
   {
    "duration": 399,
    "start_time": "2022-01-27T19:24:25.322Z"
   },
   {
    "duration": 288,
    "start_time": "2022-01-27T19:24:37.339Z"
   },
   {
    "duration": 769,
    "start_time": "2022-01-27T19:24:41.670Z"
   },
   {
    "duration": 4,
    "start_time": "2022-01-27T19:24:42.541Z"
   },
   {
    "duration": 1879,
    "start_time": "2022-01-27T19:24:43.169Z"
   },
   {
    "duration": 2929,
    "start_time": "2022-01-27T19:24:56.823Z"
   },
   {
    "duration": 2024,
    "start_time": "2022-01-27T19:26:54.577Z"
   },
   {
    "duration": 194,
    "start_time": "2022-01-27T19:27:06.932Z"
   },
   {
    "duration": 3,
    "start_time": "2022-01-27T19:27:15.102Z"
   },
   {
    "duration": 10,
    "start_time": "2022-01-27T19:27:36.511Z"
   },
   {
    "duration": 3,
    "start_time": "2022-01-27T19:31:55.797Z"
   },
   {
    "duration": 32,
    "start_time": "2022-01-27T19:32:27.310Z"
   },
   {
    "duration": 5,
    "start_time": "2022-01-27T19:36:10.348Z"
   },
   {
    "duration": 49,
    "start_time": "2022-01-27T19:40:32.548Z"
   },
   {
    "duration": 5,
    "start_time": "2022-01-27T19:41:24.851Z"
   },
   {
    "duration": 56,
    "start_time": "2022-01-27T19:41:32.445Z"
   },
   {
    "duration": 5,
    "start_time": "2022-01-27T19:41:33.574Z"
   },
   {
    "duration": 11,
    "start_time": "2022-01-27T19:41:52.173Z"
   },
   {
    "duration": 37,
    "start_time": "2022-01-27T19:41:57.689Z"
   },
   {
    "duration": 10,
    "start_time": "2022-01-27T19:41:59.963Z"
   },
   {
    "duration": 23,
    "start_time": "2022-01-27T19:42:51.412Z"
   },
   {
    "duration": 11,
    "start_time": "2022-01-27T19:42:53.342Z"
   },
   {
    "duration": 5,
    "start_time": "2022-01-27T19:43:01.284Z"
   },
   {
    "duration": 33,
    "start_time": "2022-01-27T19:43:55.571Z"
   },
   {
    "duration": 29,
    "start_time": "2022-01-27T19:44:19.624Z"
   },
   {
    "duration": 282,
    "start_time": "2022-01-27T19:52:26.596Z"
   },
   {
    "duration": 242,
    "start_time": "2022-01-27T19:53:08.110Z"
   },
   {
    "duration": 310,
    "start_time": "2022-01-27T19:53:20.182Z"
   },
   {
    "duration": 4,
    "start_time": "2022-01-27T19:58:58.711Z"
   },
   {
    "duration": 30,
    "start_time": "2022-01-27T19:59:12.117Z"
   },
   {
    "duration": 7990,
    "start_time": "2022-01-27T19:59:54.802Z"
   },
   {
    "duration": 28,
    "start_time": "2022-01-27T20:00:02.766Z"
   },
   {
    "duration": 7270,
    "start_time": "2022-01-27T20:00:20.692Z"
   },
   {
    "duration": 70,
    "start_time": "2022-01-27T20:00:27.896Z"
   },
   {
    "duration": 25,
    "start_time": "2022-01-27T20:00:47.590Z"
   },
   {
    "duration": 30,
    "start_time": "2022-01-27T20:00:56.769Z"
   },
   {
    "duration": 85,
    "start_time": "2022-01-27T20:01:50.627Z"
   },
   {
    "duration": 99,
    "start_time": "2022-01-27T20:03:30.980Z"
   },
   {
    "duration": 77,
    "start_time": "2022-01-27T20:03:38.118Z"
   },
   {
    "duration": 273,
    "start_time": "2022-01-27T20:06:38.971Z"
   },
   {
    "duration": 282,
    "start_time": "2022-01-27T20:08:01.927Z"
   },
   {
    "duration": 67,
    "start_time": "2022-01-27T20:09:32.852Z"
   },
   {
    "duration": 6,
    "start_time": "2022-01-27T20:17:42.270Z"
   },
   {
    "duration": 4,
    "start_time": "2022-01-27T20:18:27.159Z"
   },
   {
    "duration": 264,
    "start_time": "2022-01-27T20:18:37.102Z"
   },
   {
    "duration": 13,
    "start_time": "2022-01-27T20:18:56.810Z"
   },
   {
    "duration": 58,
    "start_time": "2022-01-27T20:19:44.460Z"
   },
   {
    "duration": 14,
    "start_time": "2022-01-27T20:22:23.788Z"
   },
   {
    "duration": 530,
    "start_time": "2022-01-27T20:22:36.178Z"
   },
   {
    "duration": 4,
    "start_time": "2022-01-27T20:23:24.944Z"
   },
   {
    "duration": 524,
    "start_time": "2022-01-27T20:23:26.788Z"
   },
   {
    "duration": 618,
    "start_time": "2022-01-27T20:23:39.174Z"
   },
   {
    "duration": 286,
    "start_time": "2022-01-27T20:24:30.844Z"
   },
   {
    "duration": 286,
    "start_time": "2022-01-27T20:24:41.614Z"
   },
   {
    "duration": 4,
    "start_time": "2022-01-27T20:26:02.516Z"
   },
   {
    "duration": 581,
    "start_time": "2022-01-27T20:26:12.831Z"
   },
   {
    "duration": 557,
    "start_time": "2022-01-27T20:26:29.455Z"
   },
   {
    "duration": 14,
    "start_time": "2022-01-27T20:27:11.823Z"
   },
   {
    "duration": 60,
    "start_time": "2022-01-27T20:27:25.887Z"
   },
   {
    "duration": 13,
    "start_time": "2022-01-27T20:28:09.144Z"
   },
   {
    "duration": 57,
    "start_time": "2022-01-27T20:28:13.040Z"
   },
   {
    "duration": 276,
    "start_time": "2022-01-27T20:36:07.926Z"
   },
   {
    "duration": 3,
    "start_time": "2022-01-27T20:37:33.193Z"
   },
   {
    "duration": 6,
    "start_time": "2022-01-27T20:37:47.679Z"
   },
   {
    "duration": 4,
    "start_time": "2022-01-27T20:38:12.024Z"
   },
   {
    "duration": 5,
    "start_time": "2022-01-27T20:38:19.461Z"
   },
   {
    "duration": 5,
    "start_time": "2022-01-27T20:38:42.422Z"
   },
   {
    "duration": 44,
    "start_time": "2022-01-27T20:39:18.391Z"
   },
   {
    "duration": 52,
    "start_time": "2022-01-27T20:39:31.018Z"
   },
   {
    "duration": 41,
    "start_time": "2022-01-27T20:39:34.611Z"
   },
   {
    "duration": 46,
    "start_time": "2022-01-27T20:41:32.423Z"
   },
   {
    "duration": 15,
    "start_time": "2022-01-27T20:43:19.041Z"
   },
   {
    "duration": 44,
    "start_time": "2022-01-27T20:43:39.478Z"
   },
   {
    "duration": 15,
    "start_time": "2022-01-27T20:43:55.531Z"
   },
   {
    "duration": 46,
    "start_time": "2022-01-27T20:44:26.203Z"
   },
   {
    "duration": 108,
    "start_time": "2022-01-27T20:54:21.367Z"
   },
   {
    "duration": 4,
    "start_time": "2022-01-27T20:56:38.488Z"
   },
   {
    "duration": 21,
    "start_time": "2022-01-27T20:58:16.235Z"
   },
   {
    "duration": 22,
    "start_time": "2022-01-27T21:00:53.235Z"
   },
   {
    "duration": 19,
    "start_time": "2022-01-27T21:01:12.115Z"
   },
   {
    "duration": 21,
    "start_time": "2022-01-27T21:01:26.892Z"
   },
   {
    "duration": 30,
    "start_time": "2022-01-27T21:01:43.183Z"
   },
   {
    "duration": 21,
    "start_time": "2022-01-27T21:01:56.682Z"
   },
   {
    "duration": 19,
    "start_time": "2022-01-27T21:02:13.857Z"
   },
   {
    "duration": 300,
    "start_time": "2022-01-27T21:03:23.600Z"
   },
   {
    "duration": 256,
    "start_time": "2022-01-27T21:03:37.827Z"
   },
   {
    "duration": 254,
    "start_time": "2022-01-27T21:03:47.108Z"
   },
   {
    "duration": 267,
    "start_time": "2022-01-27T21:03:55.056Z"
   },
   {
    "duration": 85,
    "start_time": "2022-01-27T21:04:49.357Z"
   },
   {
    "duration": 279,
    "start_time": "2022-01-27T21:05:00.760Z"
   },
   {
    "duration": 273,
    "start_time": "2022-01-27T21:05:10.094Z"
   },
   {
    "duration": 783,
    "start_time": "2022-01-27T21:05:15.535Z"
   },
   {
    "duration": 14,
    "start_time": "2022-01-27T21:06:31.951Z"
   },
   {
    "duration": 252,
    "start_time": "2022-01-29T16:24:30.460Z"
   },
   {
    "duration": 3,
    "start_time": "2022-01-29T16:24:45.576Z"
   },
   {
    "duration": 520,
    "start_time": "2022-01-29T16:24:45.776Z"
   },
   {
    "duration": 3,
    "start_time": "2022-01-29T16:24:46.476Z"
   },
   {
    "duration": 133,
    "start_time": "2022-01-29T16:24:46.807Z"
   },
   {
    "duration": 2,
    "start_time": "2022-01-29T16:24:47.281Z"
   },
   {
    "duration": 7,
    "start_time": "2022-01-29T16:24:47.481Z"
   },
   {
    "duration": 3,
    "start_time": "2022-01-29T16:24:47.791Z"
   },
   {
    "duration": 24,
    "start_time": "2022-01-29T16:24:47.937Z"
   },
   {
    "duration": 4,
    "start_time": "2022-01-29T16:24:48.683Z"
   },
   {
    "duration": 21,
    "start_time": "2022-01-29T16:24:49.054Z"
   },
   {
    "duration": 3,
    "start_time": "2022-01-29T16:24:49.386Z"
   },
   {
    "duration": 21,
    "start_time": "2022-01-29T16:24:49.715Z"
   },
   {
    "duration": 15,
    "start_time": "2022-01-29T16:24:50.168Z"
   },
   {
    "duration": 21,
    "start_time": "2022-01-29T16:24:50.470Z"
   },
   {
    "duration": 62,
    "start_time": "2022-01-29T16:24:50.773Z"
   },
   {
    "duration": 81,
    "start_time": "2022-01-29T16:24:51.078Z"
   },
   {
    "duration": 49,
    "start_time": "2022-01-29T16:24:51.390Z"
   },
   {
    "duration": 38,
    "start_time": "2022-01-29T16:24:52.285Z"
   },
   {
    "duration": 3,
    "start_time": "2022-01-29T16:24:53.034Z"
   },
   {
    "duration": 11,
    "start_time": "2022-01-29T16:24:53.659Z"
   },
   {
    "duration": 41,
    "start_time": "2022-01-29T16:24:54.077Z"
   },
   {
    "duration": 38,
    "start_time": "2022-01-29T16:24:56.341Z"
   },
   {
    "duration": 30,
    "start_time": "2022-01-29T16:24:58.151Z"
   },
   {
    "duration": 3,
    "start_time": "2022-01-29T16:24:59.371Z"
   },
   {
    "duration": 17,
    "start_time": "2022-01-29T16:25:00.221Z"
   },
   {
    "duration": 14,
    "start_time": "2022-01-29T16:25:45.519Z"
   },
   {
    "duration": 14,
    "start_time": "2022-01-29T16:25:46.122Z"
   },
   {
    "duration": 15,
    "start_time": "2022-01-29T16:25:46.452Z"
   },
   {
    "duration": 17,
    "start_time": "2022-01-29T16:25:46.685Z"
   },
   {
    "duration": 15,
    "start_time": "2022-01-29T16:25:46.884Z"
   },
   {
    "duration": 9,
    "start_time": "2022-01-29T16:25:47.955Z"
   },
   {
    "duration": 221,
    "start_time": "2022-01-29T16:25:52.836Z"
   },
   {
    "duration": 11,
    "start_time": "2022-01-29T16:26:59.623Z"
   },
   {
    "duration": 12,
    "start_time": "2022-01-29T16:27:32.876Z"
   },
   {
    "duration": 312,
    "start_time": "2022-01-29T16:33:50.625Z"
   },
   {
    "duration": 4,
    "start_time": "2022-01-29T16:33:54.605Z"
   },
   {
    "duration": 20,
    "start_time": "2022-01-29T16:35:13.889Z"
   },
   {
    "duration": 13,
    "start_time": "2022-01-29T16:35:36.524Z"
   },
   {
    "duration": 195,
    "start_time": "2022-01-29T16:36:25.257Z"
   },
   {
    "duration": 17,
    "start_time": "2022-01-29T16:36:31.894Z"
   },
   {
    "duration": 9,
    "start_time": "2022-01-29T16:37:10.752Z"
   },
   {
    "duration": 13,
    "start_time": "2022-01-29T16:38:22.586Z"
   },
   {
    "duration": 18,
    "start_time": "2022-01-29T16:38:26.165Z"
   },
   {
    "duration": 201,
    "start_time": "2022-01-29T16:46:53.822Z"
   },
   {
    "duration": 221,
    "start_time": "2022-01-29T16:47:27.305Z"
   },
   {
    "duration": 54,
    "start_time": "2022-01-29T16:49:14.325Z"
   },
   {
    "duration": 22,
    "start_time": "2022-01-29T16:49:29.782Z"
   },
   {
    "duration": 8,
    "start_time": "2022-01-29T16:50:11.633Z"
   },
   {
    "duration": 8,
    "start_time": "2022-01-29T16:50:27.902Z"
   },
   {
    "duration": 6,
    "start_time": "2022-01-29T16:51:01.001Z"
   },
   {
    "duration": 6,
    "start_time": "2022-01-29T16:51:55.195Z"
   },
   {
    "duration": 14,
    "start_time": "2022-01-29T16:52:01.042Z"
   },
   {
    "duration": 6,
    "start_time": "2022-01-29T16:52:02.346Z"
   },
   {
    "duration": 10,
    "start_time": "2022-01-29T16:53:57.279Z"
   },
   {
    "duration": 9,
    "start_time": "2022-01-29T16:53:58.224Z"
   },
   {
    "duration": 5,
    "start_time": "2022-01-29T16:54:04.295Z"
   },
   {
    "duration": 8,
    "start_time": "2022-01-29T16:54:04.576Z"
   },
   {
    "duration": 5,
    "start_time": "2022-01-29T16:54:11.044Z"
   },
   {
    "duration": 6,
    "start_time": "2022-01-29T16:54:11.700Z"
   },
   {
    "duration": 60,
    "start_time": "2022-01-29T16:54:37.254Z"
   },
   {
    "duration": 234,
    "start_time": "2022-01-29T16:54:43.239Z"
   },
   {
    "duration": 5,
    "start_time": "2022-01-29T16:55:11.058Z"
   },
   {
    "duration": 6,
    "start_time": "2022-01-29T16:55:13.709Z"
   },
   {
    "duration": 1085,
    "start_time": "2022-01-29T16:55:26.539Z"
   },
   {
    "duration": 5,
    "start_time": "2022-01-29T16:55:27.904Z"
   },
   {
    "duration": 5,
    "start_time": "2022-01-29T16:55:43.205Z"
   },
   {
    "duration": 6,
    "start_time": "2022-01-29T16:55:44.742Z"
   },
   {
    "duration": 4,
    "start_time": "2022-01-29T16:56:40.891Z"
   },
   {
    "duration": 5,
    "start_time": "2022-01-29T16:56:41.672Z"
   },
   {
    "duration": 5,
    "start_time": "2022-01-29T16:56:45.560Z"
   },
   {
    "duration": 6,
    "start_time": "2022-01-29T16:56:46.387Z"
   },
   {
    "duration": 5,
    "start_time": "2022-01-29T16:56:59.451Z"
   },
   {
    "duration": 5,
    "start_time": "2022-01-29T16:57:02.364Z"
   },
   {
    "duration": 6,
    "start_time": "2022-01-29T16:57:03.251Z"
   },
   {
    "duration": 5,
    "start_time": "2022-01-29T16:57:15.417Z"
   },
   {
    "duration": 6,
    "start_time": "2022-01-29T16:57:19.374Z"
   },
   {
    "duration": 5,
    "start_time": "2022-01-29T16:57:38.137Z"
   },
   {
    "duration": 5,
    "start_time": "2022-01-29T16:57:39.064Z"
   },
   {
    "duration": 7,
    "start_time": "2022-01-29T16:57:46.330Z"
   },
   {
    "duration": 5,
    "start_time": "2022-01-29T16:57:57.632Z"
   },
   {
    "duration": 6,
    "start_time": "2022-01-29T16:57:58.328Z"
   },
   {
    "duration": 12,
    "start_time": "2022-01-29T16:59:49.298Z"
   },
   {
    "duration": 11,
    "start_time": "2022-01-29T16:59:58.400Z"
   },
   {
    "duration": 12,
    "start_time": "2022-01-29T17:00:15.386Z"
   },
   {
    "duration": 13,
    "start_time": "2022-01-29T17:00:22.640Z"
   },
   {
    "duration": 6,
    "start_time": "2022-01-29T17:01:51.605Z"
   },
   {
    "duration": 5,
    "start_time": "2022-01-29T17:01:53.351Z"
   },
   {
    "duration": 212,
    "start_time": "2022-01-29T17:02:16.506Z"
   },
   {
    "duration": 196,
    "start_time": "2022-01-29T17:03:12.989Z"
   },
   {
    "duration": 4691,
    "start_time": "2022-01-29T17:03:26.577Z"
   },
   {
    "duration": 193,
    "start_time": "2022-01-29T17:03:55.303Z"
   },
   {
    "duration": 232,
    "start_time": "2022-01-29T17:04:03.175Z"
   },
   {
    "duration": 199,
    "start_time": "2022-01-29T17:05:13.824Z"
   },
   {
    "duration": 5,
    "start_time": "2022-01-29T17:05:30.327Z"
   },
   {
    "duration": 6,
    "start_time": "2022-01-29T17:05:32.665Z"
   },
   {
    "duration": 4949,
    "start_time": "2022-01-29T17:06:22.116Z"
   },
   {
    "duration": -88,
    "start_time": "2022-01-29T17:06:27.154Z"
   },
   {
    "duration": 5579,
    "start_time": "2022-01-29T17:06:36.376Z"
   },
   {
    "duration": -31,
    "start_time": "2022-01-29T17:06:41.988Z"
   },
   {
    "duration": 6466,
    "start_time": "2022-01-29T17:06:59.296Z"
   },
   {
    "duration": 5,
    "start_time": "2022-01-29T17:07:28.179Z"
   },
   {
    "duration": 6,
    "start_time": "2022-01-29T17:07:29.674Z"
   },
   {
    "duration": 5,
    "start_time": "2022-01-29T17:08:39.228Z"
   },
   {
    "duration": 5,
    "start_time": "2022-01-29T17:08:40.159Z"
   },
   {
    "duration": 5,
    "start_time": "2022-01-29T17:09:31.975Z"
   },
   {
    "duration": 6,
    "start_time": "2022-01-29T17:09:32.667Z"
   },
   {
    "duration": 5,
    "start_time": "2022-01-29T17:09:40.840Z"
   },
   {
    "duration": 5,
    "start_time": "2022-01-29T17:09:41.667Z"
   },
   {
    "duration": 26,
    "start_time": "2022-01-29T17:10:04.068Z"
   },
   {
    "duration": 5,
    "start_time": "2022-01-29T17:10:04.258Z"
   },
   {
    "duration": 5,
    "start_time": "2022-01-29T17:10:14.448Z"
   },
   {
    "duration": 5,
    "start_time": "2022-01-29T17:10:15.391Z"
   },
   {
    "duration": 6,
    "start_time": "2022-01-29T17:10:30.043Z"
   },
   {
    "duration": 4,
    "start_time": "2022-01-29T17:10:30.727Z"
   },
   {
    "duration": 382,
    "start_time": "2022-01-29T17:10:43.794Z"
   },
   {
    "duration": 3,
    "start_time": "2022-01-29T17:11:01.708Z"
   },
   {
    "duration": 555,
    "start_time": "2022-01-29T17:11:01.712Z"
   },
   {
    "duration": 2,
    "start_time": "2022-01-29T17:11:02.269Z"
   },
   {
    "duration": 136,
    "start_time": "2022-01-29T17:11:02.273Z"
   },
   {
    "duration": 2,
    "start_time": "2022-01-29T17:11:02.411Z"
   },
   {
    "duration": 9,
    "start_time": "2022-01-29T17:11:02.415Z"
   },
   {
    "duration": 8,
    "start_time": "2022-01-29T17:11:02.426Z"
   },
   {
    "duration": 27,
    "start_time": "2022-01-29T17:11:02.437Z"
   },
   {
    "duration": 3,
    "start_time": "2022-01-29T17:11:02.466Z"
   },
   {
    "duration": 42,
    "start_time": "2022-01-29T17:11:02.471Z"
   },
   {
    "duration": 6,
    "start_time": "2022-01-29T17:11:02.515Z"
   },
   {
    "duration": 27,
    "start_time": "2022-01-29T17:11:02.522Z"
   },
   {
    "duration": 16,
    "start_time": "2022-01-29T17:11:02.550Z"
   },
   {
    "duration": 19,
    "start_time": "2022-01-29T17:11:02.567Z"
   },
   {
    "duration": 83,
    "start_time": "2022-01-29T17:11:02.588Z"
   },
   {
    "duration": 70,
    "start_time": "2022-01-29T17:11:02.672Z"
   },
   {
    "duration": 48,
    "start_time": "2022-01-29T17:11:02.744Z"
   },
   {
    "duration": 56,
    "start_time": "2022-01-29T17:11:02.794Z"
   },
   {
    "duration": 2,
    "start_time": "2022-01-29T17:11:02.852Z"
   },
   {
    "duration": 11,
    "start_time": "2022-01-29T17:11:02.856Z"
   },
   {
    "duration": 51,
    "start_time": "2022-01-29T17:11:02.868Z"
   },
   {
    "duration": 29,
    "start_time": "2022-01-29T17:11:02.921Z"
   },
   {
    "duration": 29,
    "start_time": "2022-01-29T17:11:02.953Z"
   },
   {
    "duration": 2,
    "start_time": "2022-01-29T17:11:02.984Z"
   },
   {
    "duration": 40,
    "start_time": "2022-01-29T17:11:02.988Z"
   },
   {
    "duration": 13,
    "start_time": "2022-01-29T17:11:03.029Z"
   },
   {
    "duration": 13,
    "start_time": "2022-01-29T17:11:03.044Z"
   },
   {
    "duration": 13,
    "start_time": "2022-01-29T17:11:03.058Z"
   },
   {
    "duration": 49,
    "start_time": "2022-01-29T17:11:03.072Z"
   },
   {
    "duration": 13,
    "start_time": "2022-01-29T17:11:03.122Z"
   },
   {
    "duration": 8,
    "start_time": "2022-01-29T17:11:03.137Z"
   },
   {
    "duration": 13,
    "start_time": "2022-01-29T17:11:03.146Z"
   },
   {
    "duration": 9,
    "start_time": "2022-01-29T17:11:03.160Z"
   },
   {
    "duration": 3,
    "start_time": "2022-01-29T17:11:03.170Z"
   },
   {
    "duration": 53,
    "start_time": "2022-01-29T17:11:03.175Z"
   },
   {
    "duration": 11,
    "start_time": "2022-01-29T17:11:03.230Z"
   },
   {
    "duration": 15,
    "start_time": "2022-01-29T17:11:03.242Z"
   },
   {
    "duration": 11,
    "start_time": "2022-01-29T17:11:03.258Z"
   },
   {
    "duration": 46,
    "start_time": "2022-01-29T17:11:03.270Z"
   },
   {
    "duration": 6,
    "start_time": "2022-01-29T17:11:03.317Z"
   },
   {
    "duration": 18,
    "start_time": "2022-01-29T17:11:03.324Z"
   },
   {
    "duration": 5,
    "start_time": "2022-01-29T17:11:03.344Z"
   },
   {
    "duration": 286,
    "start_time": "2022-01-29T17:12:22.951Z"
   },
   {
    "duration": 6,
    "start_time": "2022-01-29T17:12:24.106Z"
   },
   {
    "duration": 201,
    "start_time": "2022-01-29T17:12:31.545Z"
   },
   {
    "duration": 3,
    "start_time": "2022-01-29T17:12:37.452Z"
   },
   {
    "duration": 522,
    "start_time": "2022-01-29T17:12:37.457Z"
   },
   {
    "duration": 2,
    "start_time": "2022-01-29T17:12:37.981Z"
   },
   {
    "duration": 127,
    "start_time": "2022-01-29T17:12:37.985Z"
   },
   {
    "duration": 2,
    "start_time": "2022-01-29T17:12:38.114Z"
   },
   {
    "duration": 9,
    "start_time": "2022-01-29T17:12:38.118Z"
   },
   {
    "duration": 3,
    "start_time": "2022-01-29T17:12:38.128Z"
   },
   {
    "duration": 23,
    "start_time": "2022-01-29T17:12:38.134Z"
   },
   {
    "duration": 3,
    "start_time": "2022-01-29T17:12:38.159Z"
   },
   {
    "duration": 22,
    "start_time": "2022-01-29T17:12:38.163Z"
   },
   {
    "duration": 27,
    "start_time": "2022-01-29T17:12:38.186Z"
   },
   {
    "duration": 24,
    "start_time": "2022-01-29T17:12:38.215Z"
   },
   {
    "duration": 16,
    "start_time": "2022-01-29T17:12:38.241Z"
   },
   {
    "duration": 20,
    "start_time": "2022-01-29T17:12:38.259Z"
   },
   {
    "duration": 83,
    "start_time": "2022-01-29T17:12:38.281Z"
   },
   {
    "duration": 66,
    "start_time": "2022-01-29T17:12:38.366Z"
   },
   {
    "duration": 45,
    "start_time": "2022-01-29T17:12:38.434Z"
   },
   {
    "duration": 49,
    "start_time": "2022-01-29T17:12:38.481Z"
   },
   {
    "duration": 2,
    "start_time": "2022-01-29T17:12:38.532Z"
   },
   {
    "duration": 14,
    "start_time": "2022-01-29T17:12:38.536Z"
   },
   {
    "duration": 37,
    "start_time": "2022-01-29T17:12:38.552Z"
   },
   {
    "duration": 43,
    "start_time": "2022-01-29T17:12:38.591Z"
   },
   {
    "duration": 28,
    "start_time": "2022-01-29T17:12:38.637Z"
   },
   {
    "duration": 3,
    "start_time": "2022-01-29T17:12:38.667Z"
   },
   {
    "duration": 17,
    "start_time": "2022-01-29T17:12:38.671Z"
   },
   {
    "duration": 33,
    "start_time": "2022-01-29T17:12:38.689Z"
   },
   {
    "duration": 12,
    "start_time": "2022-01-29T17:12:38.724Z"
   },
   {
    "duration": 13,
    "start_time": "2022-01-29T17:12:38.738Z"
   },
   {
    "duration": 14,
    "start_time": "2022-01-29T17:12:38.752Z"
   },
   {
    "duration": 11,
    "start_time": "2022-01-29T17:12:38.768Z"
   },
   {
    "duration": 36,
    "start_time": "2022-01-29T17:12:38.781Z"
   },
   {
    "duration": 9,
    "start_time": "2022-01-29T17:12:38.819Z"
   },
   {
    "duration": 8,
    "start_time": "2022-01-29T17:12:38.830Z"
   },
   {
    "duration": 3,
    "start_time": "2022-01-29T17:12:38.840Z"
   },
   {
    "duration": 20,
    "start_time": "2022-01-29T17:12:38.844Z"
   },
   {
    "duration": 11,
    "start_time": "2022-01-29T17:12:38.865Z"
   },
   {
    "duration": 47,
    "start_time": "2022-01-29T17:12:38.877Z"
   },
   {
    "duration": 10,
    "start_time": "2022-01-29T17:12:38.926Z"
   },
   {
    "duration": 381,
    "start_time": "2022-01-29T17:12:38.937Z"
   },
   {
    "duration": 46,
    "start_time": "2022-01-29T17:12:39.274Z"
   },
   {
    "duration": 25,
    "start_time": "2022-01-29T17:12:39.296Z"
   },
   {
    "duration": 23,
    "start_time": "2022-01-29T17:12:39.298Z"
   },
   {
    "duration": 191,
    "start_time": "2022-01-29T17:12:48.967Z"
   },
   {
    "duration": 24,
    "start_time": "2022-01-29T17:13:12.260Z"
   },
   {
    "duration": 5,
    "start_time": "2022-01-29T17:13:13.637Z"
   },
   {
    "duration": 197,
    "start_time": "2022-01-29T17:14:25.790Z"
   },
   {
    "duration": 216,
    "start_time": "2022-01-29T17:14:36.343Z"
   },
   {
    "duration": 24,
    "start_time": "2022-01-29T17:14:58.305Z"
   },
   {
    "duration": 6,
    "start_time": "2022-01-29T17:14:59.456Z"
   },
   {
    "duration": 21,
    "start_time": "2022-01-29T17:20:43.553Z"
   },
   {
    "duration": 6,
    "start_time": "2022-01-29T17:20:44.342Z"
   },
   {
    "duration": 24,
    "start_time": "2022-01-29T17:21:16.377Z"
   },
   {
    "duration": 5,
    "start_time": "2022-01-29T17:21:17.105Z"
   },
   {
    "duration": 15,
    "start_time": "2022-01-29T17:21:22.372Z"
   },
   {
    "duration": 6,
    "start_time": "2022-01-29T17:21:23.655Z"
   },
   {
    "duration": 359,
    "start_time": "2022-03-01T06:38:14.482Z"
   },
   {
    "duration": 4,
    "start_time": "2022-03-01T06:38:20.396Z"
   },
   {
    "duration": 725,
    "start_time": "2022-03-01T06:38:20.402Z"
   },
   {
    "duration": 3,
    "start_time": "2022-03-01T06:38:21.130Z"
   },
   {
    "duration": 189,
    "start_time": "2022-03-01T06:38:21.135Z"
   },
   {
    "duration": 3,
    "start_time": "2022-03-01T06:38:21.327Z"
   },
   {
    "duration": 24,
    "start_time": "2022-03-01T06:38:21.332Z"
   },
   {
    "duration": 10,
    "start_time": "2022-03-01T06:38:21.360Z"
   },
   {
    "duration": 40,
    "start_time": "2022-03-01T06:38:21.373Z"
   },
   {
    "duration": 5,
    "start_time": "2022-03-01T06:38:21.416Z"
   },
   {
    "duration": 32,
    "start_time": "2022-03-01T06:38:21.424Z"
   },
   {
    "duration": 28,
    "start_time": "2022-03-01T06:38:21.458Z"
   },
   {
    "duration": 32,
    "start_time": "2022-03-01T06:38:21.489Z"
   },
   {
    "duration": 32,
    "start_time": "2022-03-01T06:38:21.524Z"
   },
   {
    "duration": 61,
    "start_time": "2022-03-01T06:38:21.559Z"
   },
   {
    "duration": 4142,
    "start_time": "2022-03-01T06:38:21.623Z"
   },
   {
    "duration": 109,
    "start_time": "2022-03-01T06:38:25.767Z"
   },
   {
    "duration": 79,
    "start_time": "2022-03-01T06:38:25.878Z"
   },
   {
    "duration": 66,
    "start_time": "2022-03-01T06:38:25.959Z"
   },
   {
    "duration": 4,
    "start_time": "2022-03-01T06:38:26.030Z"
   },
   {
    "duration": 17,
    "start_time": "2022-03-01T06:38:26.036Z"
   },
   {
    "duration": 82,
    "start_time": "2022-03-01T06:38:26.055Z"
   },
   {
    "duration": 332,
    "start_time": "2022-03-01T06:38:26.139Z"
   },
   {
    "duration": -2,
    "start_time": "2022-03-01T06:38:26.475Z"
   },
   {
    "duration": -4,
    "start_time": "2022-03-01T06:38:26.479Z"
   },
   {
    "duration": -16,
    "start_time": "2022-03-01T06:38:26.492Z"
   },
   {
    "duration": -17,
    "start_time": "2022-03-01T06:38:26.494Z"
   },
   {
    "duration": -17,
    "start_time": "2022-03-01T06:38:26.496Z"
   },
   {
    "duration": -19,
    "start_time": "2022-03-01T06:38:26.499Z"
   },
   {
    "duration": -20,
    "start_time": "2022-03-01T06:38:26.501Z"
   },
   {
    "duration": -21,
    "start_time": "2022-03-01T06:38:26.503Z"
   },
   {
    "duration": -21,
    "start_time": "2022-03-01T06:38:26.505Z"
   },
   {
    "duration": -23,
    "start_time": "2022-03-01T06:38:26.508Z"
   },
   {
    "duration": -24,
    "start_time": "2022-03-01T06:38:26.510Z"
   },
   {
    "duration": -25,
    "start_time": "2022-03-01T06:38:26.513Z"
   },
   {
    "duration": -26,
    "start_time": "2022-03-01T06:38:26.515Z"
   },
   {
    "duration": -27,
    "start_time": "2022-03-01T06:38:26.517Z"
   },
   {
    "duration": -28,
    "start_time": "2022-03-01T06:38:26.519Z"
   },
   {
    "duration": -29,
    "start_time": "2022-03-01T06:38:26.521Z"
   },
   {
    "duration": -29,
    "start_time": "2022-03-01T06:38:26.523Z"
   },
   {
    "duration": -30,
    "start_time": "2022-03-01T06:38:26.525Z"
   },
   {
    "duration": -31,
    "start_time": "2022-03-01T06:38:26.527Z"
   },
   {
    "duration": -31,
    "start_time": "2022-03-01T06:38:26.529Z"
   },
   {
    "duration": 113,
    "start_time": "2022-03-01T06:39:03.234Z"
   },
   {
    "duration": 42,
    "start_time": "2022-03-01T06:39:09.408Z"
   },
   {
    "duration": 15,
    "start_time": "2022-03-01T06:39:47.109Z"
   },
   {
    "duration": 44,
    "start_time": "2022-03-01T06:40:20.960Z"
   },
   {
    "duration": 17,
    "start_time": "2022-03-01T06:40:36.494Z"
   },
   {
    "duration": 229,
    "start_time": "2022-03-01T06:41:08.879Z"
   },
   {
    "duration": 5,
    "start_time": "2022-03-01T06:41:21.404Z"
   },
   {
    "duration": 690,
    "start_time": "2022-03-01T06:41:21.412Z"
   },
   {
    "duration": 3,
    "start_time": "2022-03-01T06:41:22.105Z"
   },
   {
    "duration": 182,
    "start_time": "2022-03-01T06:41:22.111Z"
   },
   {
    "duration": 3,
    "start_time": "2022-03-01T06:41:22.296Z"
   },
   {
    "duration": 12,
    "start_time": "2022-03-01T06:41:22.302Z"
   },
   {
    "duration": 9,
    "start_time": "2022-03-01T06:41:22.316Z"
   },
   {
    "duration": 59,
    "start_time": "2022-03-01T06:41:22.328Z"
   },
   {
    "duration": 5,
    "start_time": "2022-03-01T06:41:22.390Z"
   },
   {
    "duration": 29,
    "start_time": "2022-03-01T06:41:22.397Z"
   },
   {
    "duration": 8,
    "start_time": "2022-03-01T06:41:22.428Z"
   },
   {
    "duration": 63,
    "start_time": "2022-03-01T06:41:22.438Z"
   },
   {
    "duration": 22,
    "start_time": "2022-03-01T06:41:22.504Z"
   },
   {
    "duration": 35,
    "start_time": "2022-03-01T06:41:22.528Z"
   },
   {
    "duration": 107,
    "start_time": "2022-03-01T06:41:22.565Z"
   },
   {
    "duration": 95,
    "start_time": "2022-03-01T06:41:22.674Z"
   },
   {
    "duration": 85,
    "start_time": "2022-03-01T06:41:22.771Z"
   },
   {
    "duration": 64,
    "start_time": "2022-03-01T06:41:22.859Z"
   },
   {
    "duration": 4,
    "start_time": "2022-03-01T06:41:22.925Z"
   },
   {
    "duration": 15,
    "start_time": "2022-03-01T06:41:22.932Z"
   },
   {
    "duration": 81,
    "start_time": "2022-03-01T06:41:22.949Z"
   },
   {
    "duration": 16,
    "start_time": "2022-03-01T06:41:23.033Z"
   },
   {
    "duration": 35,
    "start_time": "2022-03-01T06:41:23.053Z"
   },
   {
    "duration": 4,
    "start_time": "2022-03-01T06:41:23.091Z"
   },
   {
    "duration": 22,
    "start_time": "2022-03-01T06:41:23.098Z"
   },
   {
    "duration": 18,
    "start_time": "2022-03-01T06:41:23.122Z"
   },
   {
    "duration": 57,
    "start_time": "2022-03-01T06:41:23.143Z"
   },
   {
    "duration": 17,
    "start_time": "2022-03-01T06:41:23.202Z"
   },
   {
    "duration": 20,
    "start_time": "2022-03-01T06:41:23.221Z"
   },
   {
    "duration": 45,
    "start_time": "2022-03-01T06:41:23.243Z"
   },
   {
    "duration": 12,
    "start_time": "2022-03-01T06:41:23.291Z"
   },
   {
    "duration": 16,
    "start_time": "2022-03-01T06:41:23.305Z"
   },
   {
    "duration": 11,
    "start_time": "2022-03-01T06:41:23.323Z"
   },
   {
    "duration": 8,
    "start_time": "2022-03-01T06:41:23.336Z"
   },
   {
    "duration": 57,
    "start_time": "2022-03-01T06:41:23.346Z"
   },
   {
    "duration": 15,
    "start_time": "2022-03-01T06:41:23.406Z"
   },
   {
    "duration": 21,
    "start_time": "2022-03-01T06:41:23.423Z"
   },
   {
    "duration": 47,
    "start_time": "2022-03-01T06:41:23.446Z"
   },
   {
    "duration": 317,
    "start_time": "2022-03-01T06:41:23.495Z"
   },
   {
    "duration": 98,
    "start_time": "2022-03-01T06:41:23.717Z"
   },
   {
    "duration": 97,
    "start_time": "2022-03-01T06:41:23.720Z"
   },
   {
    "duration": 86,
    "start_time": "2022-03-01T06:41:23.733Z"
   },
   {
    "duration": 286,
    "start_time": "2022-03-01T07:08:05.029Z"
   },
   {
    "duration": 231,
    "start_time": "2022-03-01T07:08:29.488Z"
   },
   {
    "duration": 226,
    "start_time": "2022-03-01T07:08:37.806Z"
   },
   {
    "duration": 215,
    "start_time": "2022-03-01T07:09:25.473Z"
   },
   {
    "duration": 95,
    "start_time": "2022-03-01T10:14:59.236Z"
   },
   {
    "duration": 4,
    "start_time": "2022-03-01T10:15:14.525Z"
   },
   {
    "duration": 715,
    "start_time": "2022-03-01T10:15:14.771Z"
   },
   {
    "duration": 3,
    "start_time": "2022-03-01T10:15:16.009Z"
   },
   {
    "duration": 181,
    "start_time": "2022-03-01T10:15:16.185Z"
   },
   {
    "duration": 4,
    "start_time": "2022-03-01T10:15:16.681Z"
   },
   {
    "duration": 11,
    "start_time": "2022-03-01T10:15:19.997Z"
   },
   {
    "duration": 6,
    "start_time": "2022-03-01T10:15:20.011Z"
   },
   {
    "duration": 35,
    "start_time": "2022-03-01T10:15:20.020Z"
   },
   {
    "duration": 5,
    "start_time": "2022-03-01T10:15:20.058Z"
   },
   {
    "duration": 28,
    "start_time": "2022-03-01T10:15:20.065Z"
   },
   {
    "duration": 5,
    "start_time": "2022-03-01T10:15:20.095Z"
   },
   {
    "duration": 70,
    "start_time": "2022-03-01T10:15:20.103Z"
   },
   {
    "duration": 22,
    "start_time": "2022-03-01T10:15:20.175Z"
   },
   {
    "duration": 30,
    "start_time": "2022-03-01T10:15:20.385Z"
   },
   {
    "duration": 91,
    "start_time": "2022-03-01T10:15:20.841Z"
   },
   {
    "duration": 99,
    "start_time": "2022-03-01T10:15:21.233Z"
   },
   {
    "duration": 74,
    "start_time": "2022-03-01T10:15:21.585Z"
   },
   {
    "duration": 58,
    "start_time": "2022-03-01T10:15:22.305Z"
   },
   {
    "duration": 4,
    "start_time": "2022-03-01T10:15:22.819Z"
   },
   {
    "duration": 14,
    "start_time": "2022-03-01T10:15:23.168Z"
   },
   {
    "duration": 57,
    "start_time": "2022-03-01T10:15:23.514Z"
   },
   {
    "duration": 17,
    "start_time": "2022-03-01T10:15:24.713Z"
   },
   {
    "duration": 17,
    "start_time": "2022-03-01T10:15:25.384Z"
   },
   {
    "duration": 4,
    "start_time": "2022-03-01T10:15:26.425Z"
   },
   {
    "duration": 20,
    "start_time": "2022-03-01T10:15:26.771Z"
   },
   {
    "duration": 19,
    "start_time": "2022-03-01T10:15:26.945Z"
   },
   {
    "duration": 19,
    "start_time": "2022-03-01T10:15:27.105Z"
   },
   {
    "duration": 18,
    "start_time": "2022-03-01T10:15:27.297Z"
   },
   {
    "duration": 21,
    "start_time": "2022-03-01T10:15:27.476Z"
   },
   {
    "duration": 18,
    "start_time": "2022-03-01T10:15:27.642Z"
   },
   {
    "duration": 14,
    "start_time": "2022-03-01T10:15:28.012Z"
   },
   {
    "duration": 14,
    "start_time": "2022-03-01T10:15:29.065Z"
   },
   {
    "duration": 12,
    "start_time": "2022-03-01T10:15:29.241Z"
   },
   {
    "duration": 5,
    "start_time": "2022-03-01T10:15:29.585Z"
   },
   {
    "duration": 25,
    "start_time": "2022-03-01T10:15:30.233Z"
   },
   {
    "duration": 18,
    "start_time": "2022-03-01T10:15:30.420Z"
   },
   {
    "duration": 22,
    "start_time": "2022-03-01T10:15:30.594Z"
   },
   {
    "duration": 17,
    "start_time": "2022-03-01T10:15:30.865Z"
   },
   {
    "duration": 371,
    "start_time": "2022-03-01T10:15:32.112Z"
   },
   {
    "duration": 3,
    "start_time": "2022-03-01T19:23:39.769Z"
   },
   {
    "duration": 532,
    "start_time": "2022-03-01T19:23:39.774Z"
   },
   {
    "duration": 2,
    "start_time": "2022-03-01T19:23:40.308Z"
   },
   {
    "duration": 127,
    "start_time": "2022-03-01T19:23:40.311Z"
   },
   {
    "duration": 2,
    "start_time": "2022-03-01T19:23:40.440Z"
   },
   {
    "duration": 9,
    "start_time": "2022-03-01T19:23:40.443Z"
   },
   {
    "duration": 3,
    "start_time": "2022-03-01T19:23:40.454Z"
   },
   {
    "duration": 24,
    "start_time": "2022-03-01T19:23:40.459Z"
   },
   {
    "duration": 3,
    "start_time": "2022-03-01T19:23:40.484Z"
   },
   {
    "duration": 50,
    "start_time": "2022-03-01T19:23:40.489Z"
   },
   {
    "duration": 3,
    "start_time": "2022-03-01T19:23:40.541Z"
   },
   {
    "duration": 22,
    "start_time": "2022-03-01T19:23:40.546Z"
   },
   {
    "duration": 15,
    "start_time": "2022-03-01T19:23:40.570Z"
   },
   {
    "duration": 47,
    "start_time": "2022-03-01T19:23:40.586Z"
   },
   {
    "duration": 59,
    "start_time": "2022-03-01T19:23:40.635Z"
   },
   {
    "duration": 75,
    "start_time": "2022-03-01T19:23:40.696Z"
   },
   {
    "duration": 46,
    "start_time": "2022-03-01T19:23:40.773Z"
   },
   {
    "duration": 46,
    "start_time": "2022-03-01T19:23:40.820Z"
   },
   {
    "duration": 2,
    "start_time": "2022-03-01T19:23:40.869Z"
   },
   {
    "duration": 10,
    "start_time": "2022-03-01T19:23:40.873Z"
   },
   {
    "duration": 53,
    "start_time": "2022-03-01T19:23:40.884Z"
   },
   {
    "duration": 12,
    "start_time": "2022-03-01T19:23:40.939Z"
   },
   {
    "duration": 11,
    "start_time": "2022-03-01T19:23:40.953Z"
   },
   {
    "duration": 3,
    "start_time": "2022-03-01T19:23:40.966Z"
   },
   {
    "duration": 16,
    "start_time": "2022-03-01T19:23:40.971Z"
   },
   {
    "duration": 47,
    "start_time": "2022-03-01T19:23:40.989Z"
   },
   {
    "duration": 16,
    "start_time": "2022-03-01T19:23:41.038Z"
   },
   {
    "duration": 13,
    "start_time": "2022-03-01T19:23:41.056Z"
   },
   {
    "duration": 16,
    "start_time": "2022-03-01T19:23:41.071Z"
   },
   {
    "duration": 45,
    "start_time": "2022-03-01T19:23:41.088Z"
   },
   {
    "duration": 9,
    "start_time": "2022-03-01T19:23:41.135Z"
   },
   {
    "duration": 11,
    "start_time": "2022-03-01T19:23:41.145Z"
   },
   {
    "duration": 8,
    "start_time": "2022-03-01T19:23:41.158Z"
   },
   {
    "duration": 4,
    "start_time": "2022-03-01T19:23:41.167Z"
   },
   {
    "duration": 20,
    "start_time": "2022-03-01T19:23:41.172Z"
   },
   {
    "duration": 44,
    "start_time": "2022-03-01T19:23:41.194Z"
   },
   {
    "duration": 16,
    "start_time": "2022-03-01T19:23:41.240Z"
   },
   {
    "duration": 11,
    "start_time": "2022-03-01T19:23:41.258Z"
   },
   {
    "duration": 226,
    "start_time": "2022-03-01T19:23:41.271Z"
   },
   {
    "duration": -1222,
    "start_time": "2022-03-01T19:23:42.721Z"
   },
   {
    "duration": -1224,
    "start_time": "2022-03-01T19:23:42.724Z"
   },
   {
    "duration": -1225,
    "start_time": "2022-03-01T19:23:42.726Z"
   },
   {
    "duration": 7,
    "start_time": "2022-03-01T19:29:56.172Z"
   },
   {
    "duration": 6,
    "start_time": "2022-03-01T19:30:09.268Z"
   },
   {
    "duration": 3,
    "start_time": "2022-03-02T05:28:48.743Z"
   },
   {
    "duration": 542,
    "start_time": "2022-03-02T05:28:48.877Z"
   },
   {
    "duration": 2,
    "start_time": "2022-03-02T05:28:49.420Z"
   },
   {
    "duration": 133,
    "start_time": "2022-03-02T05:28:49.424Z"
   },
   {
    "duration": 3,
    "start_time": "2022-03-02T05:28:49.801Z"
   },
   {
    "duration": 7,
    "start_time": "2022-03-02T05:28:49.954Z"
   },
   {
    "duration": 3,
    "start_time": "2022-03-02T05:28:50.275Z"
   },
   {
    "duration": 23,
    "start_time": "2022-03-02T05:28:50.418Z"
   },
   {
    "duration": 4,
    "start_time": "2022-03-02T05:28:51.537Z"
   },
   {
    "duration": 22,
    "start_time": "2022-03-02T05:28:51.843Z"
   },
   {
    "duration": 3,
    "start_time": "2022-03-02T05:28:52.145Z"
   },
   {
    "duration": 20,
    "start_time": "2022-03-02T05:28:52.609Z"
   },
   {
    "duration": 16,
    "start_time": "2022-03-02T05:28:53.105Z"
   },
   {
    "duration": 21,
    "start_time": "2022-03-02T05:28:53.442Z"
   },
   {
    "duration": 57,
    "start_time": "2022-03-02T05:28:53.946Z"
   },
   {
    "duration": 64,
    "start_time": "2022-03-02T05:28:54.291Z"
   },
   {
    "duration": 48,
    "start_time": "2022-03-02T05:28:54.634Z"
   },
   {
    "duration": 37,
    "start_time": "2022-03-02T05:28:55.289Z"
   },
   {
    "duration": 3,
    "start_time": "2022-03-02T05:28:55.785Z"
   },
   {
    "duration": 10,
    "start_time": "2022-03-02T05:28:56.153Z"
   },
   {
    "duration": 37,
    "start_time": "2022-03-02T05:28:56.490Z"
   },
   {
    "duration": 11,
    "start_time": "2022-03-02T05:28:57.681Z"
   },
   {
    "duration": 11,
    "start_time": "2022-03-02T05:28:58.377Z"
   },
   {
    "duration": 3,
    "start_time": "2022-03-02T05:28:59.441Z"
   },
   {
    "duration": 16,
    "start_time": "2022-03-02T05:28:59.802Z"
   },
   {
    "duration": 14,
    "start_time": "2022-03-02T05:28:59.971Z"
   },
   {
    "duration": 14,
    "start_time": "2022-03-02T05:29:00.145Z"
   },
   {
    "duration": 14,
    "start_time": "2022-03-02T05:29:00.325Z"
   },
   {
    "duration": 17,
    "start_time": "2022-03-02T05:29:00.490Z"
   },
   {
    "duration": 13,
    "start_time": "2022-03-02T05:29:00.666Z"
   },
   {
    "duration": 9,
    "start_time": "2022-03-02T05:29:01.040Z"
   },
   {
    "duration": 11,
    "start_time": "2022-03-02T05:29:02.097Z"
   },
   {
    "duration": 8,
    "start_time": "2022-03-02T05:29:02.281Z"
   },
   {
    "duration": 4,
    "start_time": "2022-03-02T05:29:02.634Z"
   },
   {
    "duration": 17,
    "start_time": "2022-03-02T05:29:02.989Z"
   },
   {
    "duration": 13,
    "start_time": "2022-03-02T05:29:03.177Z"
   },
   {
    "duration": 17,
    "start_time": "2022-03-02T05:29:03.369Z"
   },
   {
    "duration": 12,
    "start_time": "2022-03-02T05:29:03.561Z"
   },
   {
    "duration": 7,
    "start_time": "2022-03-02T05:29:04.489Z"
   },
   {
    "duration": 3,
    "start_time": "2022-03-02T05:29:04.857Z"
   },
   {
    "duration": 6,
    "start_time": "2022-03-02T05:29:06.257Z"
   },
   {
    "duration": 4,
    "start_time": "2022-03-02T05:29:06.627Z"
   }
  ],
  "colab": {
   "collapsed_sections": [
    "E0vqbgi9ay0H",
    "VUC88oWjTJw2"
   ],
   "name": "yandex_music_project_2021.2.ipynb",
   "provenance": []
  },
  "kernelspec": {
   "display_name": "Python 3 (ipykernel)",
   "language": "python",
   "name": "python3"
  },
  "language_info": {
   "codemirror_mode": {
    "name": "ipython",
    "version": 3
   },
   "file_extension": ".py",
   "mimetype": "text/x-python",
   "name": "python",
   "nbconvert_exporter": "python",
   "pygments_lexer": "ipython3",
   "version": "3.9.5"
  },
  "toc": {
   "base_numbering": 1,
   "nav_menu": {},
   "number_sections": true,
   "sideBar": true,
   "skip_h1_title": true,
   "title_cell": "Table of Contents",
   "title_sidebar": "Contents",
   "toc_cell": false,
   "toc_position": {},
   "toc_section_display": true,
   "toc_window_display": true
  }
 },
 "nbformat": 4,
 "nbformat_minor": 1
}
