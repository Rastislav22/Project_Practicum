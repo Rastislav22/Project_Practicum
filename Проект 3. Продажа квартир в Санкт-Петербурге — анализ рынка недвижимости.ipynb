{
 "cells": [
  {
   "cell_type": "markdown",
   "metadata": {
    "toc": true
   },
   "source": [
    "<h1>Содержание<span class=\"tocSkip\"></span></h1>\n",
    "<div class=\"toc\"><ul class=\"toc-item\"><li><span><a href=\"#Изучение-данных-из-файла\" data-toc-modified-id=\"Изучение-данных-из-файла-1\"><span class=\"toc-item-num\">1&nbsp;&nbsp;</span>Изучение данных из файла</a></span><ul class=\"toc-item\"><li><span><a href=\"#Вывод\" data-toc-modified-id=\"Вывод-1.1\"><span class=\"toc-item-num\">1.1&nbsp;&nbsp;</span>Вывод</a></span></li></ul></li><li><span><a href=\"#Предобработка-данных\" data-toc-modified-id=\"Предобработка-данных-2\"><span class=\"toc-item-num\">2&nbsp;&nbsp;</span>Предобработка данных</a></span></li><li><span><a href=\"#Расчёты-и-добавление-результатов-в-таблицу\" data-toc-modified-id=\"Расчёты-и-добавление-результатов-в-таблицу-3\"><span class=\"toc-item-num\">3&nbsp;&nbsp;</span>Расчёты и добавление результатов в таблицу</a></span></li><li><span><a href=\"#Исследовательский-анализ-данных\" data-toc-modified-id=\"Исследовательский-анализ-данных-4\"><span class=\"toc-item-num\">4&nbsp;&nbsp;</span>Исследовательский анализ данных</a></span></li><li><span><a href=\"#Общий-вывод\" data-toc-modified-id=\"Общий-вывод-5\"><span class=\"toc-item-num\">5&nbsp;&nbsp;</span>Общий вывод</a></span></li><li><span><a href=\"#Чек-лист-готовности-проекта\" data-toc-modified-id=\"Чек-лист-готовности-проекта-6\"><span class=\"toc-item-num\">6&nbsp;&nbsp;</span>Чек-лист готовности проекта</a></span></li></ul></div>"
   ]
  },
  {
   "cell_type": "markdown",
   "metadata": {},
   "source": [
    "# Исследование объявлений о продаже квартир\n",
    "\n",
    "В вашем распоряжении данные сервиса Яндекс.Недвижимость — архив объявлений о продаже квартир в Санкт-Петербурге и соседних населённых пунктах за несколько лет. Нужно научиться определять рыночную стоимость объектов недвижимости. Ваша задача — установить параметры. Это позволит построить автоматизированную систему: она отследит аномалии и мошенническую деятельность. \n",
    "\n",
    "По каждой квартире на продажу доступны два вида данных. Первые вписаны пользователем, вторые получены автоматически на основе картографических данных. Например, расстояние до центра, аэропорта, ближайшего парка и водоёма. "
   ]
  },
  {
   "cell_type": "markdown",
   "metadata": {},
   "source": [
    "## Изучение данных из файла"
   ]
  },
  {
   "cell_type": "code",
   "execution_count": 1,
   "metadata": {},
   "outputs": [
    {
     "name": "stdout",
     "output_type": "stream",
     "text": [
      "22\n",
      "--------------------------------------\n",
      "total_images                0\n",
      "last_price                  0\n",
      "total_area                  0\n",
      "first_day_exposition        0\n",
      "rooms                       0\n",
      "ceiling_height           9195\n",
      "floors_total               86\n",
      "living_area              1903\n",
      "floor                       0\n",
      "is_apartment            20924\n",
      "studio                      0\n",
      "open_plan                   0\n",
      "kitchen_area             2278\n",
      "balcony                 11519\n",
      "locality_name              49\n",
      "airports_nearest         5542\n",
      "cityCenters_nearest      5519\n",
      "parks_around3000         5518\n",
      "parks_nearest           15620\n",
      "ponds_around3000         5518\n",
      "ponds_nearest           14589\n",
      "days_exposition          3181\n",
      "dtype: int64\n",
      "--------------------------------------\n",
      "<class 'pandas.core.frame.DataFrame'>\n",
      "RangeIndex: 23699 entries, 0 to 23698\n",
      "Data columns (total 22 columns):\n",
      " #   Column                Non-Null Count  Dtype  \n",
      "---  ------                --------------  -----  \n",
      " 0   total_images          23699 non-null  int64  \n",
      " 1   last_price            23699 non-null  float64\n",
      " 2   total_area            23699 non-null  float64\n",
      " 3   first_day_exposition  23699 non-null  object \n",
      " 4   rooms                 23699 non-null  int64  \n",
      " 5   ceiling_height        14504 non-null  float64\n",
      " 6   floors_total          23613 non-null  float64\n",
      " 7   living_area           21796 non-null  float64\n",
      " 8   floor                 23699 non-null  int64  \n",
      " 9   is_apartment          2775 non-null   object \n",
      " 10  studio                23699 non-null  bool   \n",
      " 11  open_plan             23699 non-null  bool   \n",
      " 12  kitchen_area          21421 non-null  float64\n",
      " 13  balcony               12180 non-null  float64\n",
      " 14  locality_name         23650 non-null  object \n",
      " 15  airports_nearest      18157 non-null  float64\n",
      " 16  cityCenters_nearest   18180 non-null  float64\n",
      " 17  parks_around3000      18181 non-null  float64\n",
      " 18  parks_nearest         8079 non-null   float64\n",
      " 19  ponds_around3000      18181 non-null  float64\n",
      " 20  ponds_nearest         9110 non-null   float64\n",
      " 21  days_exposition       20518 non-null  float64\n",
      "dtypes: bool(2), float64(14), int64(3), object(3)\n",
      "memory usage: 3.7+ MB\n"
     ]
    }
   ],
   "source": [
    "import pandas as pd \n",
    "import matplotlib.pyplot as plt\n",
    "data = pd.read_csv('/datasets/real_estate_data.csv', sep='\\t')\n",
    "print(len(data.columns))\n",
    "print('--------------------------------------')\n",
    "print(data.isnull().sum())\n",
    "print('--------------------------------------')\n",
    "data.info()\n"
   ]
  },
  {
   "cell_type": "markdown",
   "metadata": {},
   "source": [
    "### Вывод"
   ]
  },
  {
   "cell_type": "markdown",
   "metadata": {},
   "source": [
    "1. Есть пропуски в большинстве столбцов\n",
    "2. first_day_exposition не в формате даты \n",
    "3. floors_total количество этажей в дробном формате, при том, что floor в формате целых числе \n",
    "4. is_apartment по вводным данным должен быть формата bool\n",
    "5. parks_around3000 количество парков должно быть int \n",
    "6. ponds_around3000 аналогично по количеству водоемов\n",
    "7. days_exposition количество дней лучше ривести в int \n",
    "\n",
    "Форматы необходимо преобразоват. С пропусками необходимо разбираться, так как их очень много, может в этом есть закономерность. "
   ]
  },
  {
   "cell_type": "markdown",
   "metadata": {},
   "source": [
    "## Предобработка данных"
   ]
  },
  {
   "cell_type": "code",
   "execution_count": 2,
   "metadata": {},
   "outputs": [
    {
     "data": {
      "image/png": "[encoded data removed]",
      "text/plain": [
       "<Figure size 432x288 with 1 Axes>"
      ]
     },
     "metadata": {
      "needs_background": "light"
     },
     "output_type": "display_data"
    },
    {
     "name": "stdout",
     "output_type": "stream",
     "text": [
      "2.65\n",
      "\n",
      "----------------------------------------------------------------------------------------\n",
      "\n"
     ]
    }
   ],
   "source": [
    "#ceiling_height           9195\n",
    "#floors_total               86\n",
    "#living_area              1903\n",
    "#is_apartment            20924\n",
    "#kitchen_area             2278\n",
    "#balcony                 11519\n",
    "#locality_name              49\n",
    "#airports_nearest         5542\n",
    "#cityCenters_nearest      5519\n",
    "#parks_around3000         5518\n",
    "#parks_nearest           15620\n",
    "#ponds_around3000         5518\n",
    "#ponds_nearest           14589\n",
    "#days_exposition          3181\n",
    "\n",
    "data.boxplot(column='ceiling_height') #с помощью данного метода легко определить наличие выбрасов. \n",
    "plt.show()\n",
    "data['ceiling_height'].describe()\n",
    "#Явный выброс максимального значения 100 м., но он 1, исследованию не помешает. Также есть выбросы потолков более 10 метров и приближающихся к 0. Почистим значения от выбросов в рамках страндартных значений.\n",
    "data.drop(data[data.ceiling_height > 4].index, inplace=True)#Данным методом удаляем значения больше 4. Нашел метод https://pythobyte.com/pandas-drop-columns-rows-78f3f567/, он более удобен. \n",
    "data.drop(data[data.ceiling_height < 2.5].index, inplace=True)\n",
    "ceiling_height_median = data['ceiling_height'].median()\n",
    "print(ceiling_height_median)\n",
    "data['ceiling_height'] = data['ceiling_height'].fillna(ceiling_height_median) #Стандартный и для меня удобный способ замены на люое значение. В данном случае меняем на мидиану. Медиана меньше подвержена изменениям. \n",
    "#data.info()\n",
    "print ()\n",
    "print('----------------------------------------------------------------------------------------')\n",
    "print ()\n"
   ]
  },
  {
   "cell_type": "code",
   "execution_count": 5,
   "metadata": {},
   "outputs": [
    {
     "data": {
      "image/png": "[encoded data removed]",
      "text/plain": [
       "<Figure size 432x288 with 1 Axes>"
      ]
     },
     "metadata": {
      "needs_background": "light"
     },
     "output_type": "display_data"
    },
    {
     "name": "stdout",
     "output_type": "stream",
     "text": [
      "count    23465.000000\n",
      "mean        10.694865\n",
      "std          6.597822\n",
      "min          1.000000\n",
      "25%          5.000000\n",
      "50%          9.000000\n",
      "75%         16.000000\n",
      "max         60.000000\n",
      "Name: floors_total, dtype: float64\n",
      "\n",
      "----------------------------------------------------------------------------------------\n",
      "\n"
     ]
    }
   ],
   "source": [
    "data.boxplot(column='floors_total')\n",
    "plt.show()\n",
    "print (data['floors_total'].describe()) #Данным способом мы видим срез по данным, отклонения от стандартных значений, минимальные и максимальные значения. Легкий способ, чтобы узнать про данные в столбце. \n",
    "data['floors_total'].dropna()\n",
    "#data.info()\n",
    "print ()\n",
    "print('----------------------------------------------------------------------------------------')\n",
    "print ()\n"
   ]
  },
  {
   "cell_type": "code",
   "execution_count": 8,
   "metadata": {},
   "outputs": [
    {
     "data": {
      "image/png": "[encoded data removed]",
      "text/plain": [
       "<Figure size 432x288 with 1 Axes>"
      ]
     },
     "metadata": {
      "needs_background": "light"
     },
     "output_type": "display_data"
    },
    {
     "name": "stdout",
     "output_type": "stream",
     "text": [
      "\n",
      "----------------------------------------------------------------------------------------\n",
      "\n",
      "[nan False True]\n",
      "False    2698\n",
      "True       44\n",
      "Name: is_apartment, dtype: int64\n",
      "\n",
      "----------------------------------------------------------------------------------------\n",
      "\n"
     ]
    }
   ],
   "source": [
    "data.boxplot(column='living_area')\n",
    "plt.show()\n",
    "#print(data['living_area'].value_counts())\n",
    "#living_area_median = data['living_area'].median() #использую медианное значение, так как оно меньше подверженно изменениям.\n",
    "#data['living_area'] = data['living_area'].fillna(living_area_median)\n",
    "#data.info()\n",
    "print ()\n",
    "print('----------------------------------------------------------------------------------------')\n",
    "print ()\n",
    "print(data['is_apartment'].unique())\n",
    "print (data['is_apartment'].value_counts())\n",
    "data['is_apartment'] = data['is_apartment'].fillna(False) #В России апартаменты, как вид жилья, появлися относительно недавно. Это значит, что по ним не так много данных. В связи с этим заменил на False\n",
    "#data.info()\n",
    "print ()\n",
    "print('----------------------------------------------------------------------------------------')\n",
    "print ()"
   ]
  },
  {
   "cell_type": "code",
   "execution_count": 10,
   "metadata": {},
   "outputs": [
    {
     "data": {
      "image/png": "[encoded data removed]",
      "text/plain": [
       "<Figure size 432x288 with 1 Axes>"
      ]
     },
     "metadata": {
      "needs_background": "light"
     },
     "output_type": "display_data"
    },
    {
     "name": "stdout",
     "output_type": "stream",
     "text": [
      "\n",
      "----------------------------------------------------------------------------------------\n",
      "\n",
      "\n",
      "----------------------------------------------------------------------------------------\n",
      "\n",
      "\n",
      "----------------------------------------------------------------------------------------\n",
      "\n"
     ]
    }
   ],
   "source": [
    "data.boxplot(column='kitchen_area')\n",
    "plt.show()\n",
    "#data['kitchen_area'].describe()\n",
    "#kitchen_area_median = data['kitchen_area'].median()\n",
    "#data['kitchen_area'] = data['kitchen_area'].fillna(kitchen_area_median)\n",
    "#data.info()\n",
    "print ()\n",
    "print('----------------------------------------------------------------------------------------')\n",
    "print ()\n",
    "data['balcony'] = data['balcony'].fillna(0).astype('int') #Балкон либо есть, либо нет. Предположим, что пропущенные значения в балконах, это означает их отсутствие. \n",
    "#data.info()\n",
    "print ()\n",
    "print('----------------------------------------------------------------------------------------')\n",
    "print ()\n",
    "data['locality_name'] = data['locality_name'].fillna(\" \")\n",
    "#data.info()\n",
    "print ()\n",
    "print('----------------------------------------------------------------------------------------')\n",
    "print ()\n",
    "data['parks_around3000'] = data['parks_around3000'].fillna(0).astype('int')\n",
    "#data.info()\n",
    "data['ponds_around3000'] = data['ponds_around3000'].fillna(0).astype('int')\n",
    "#data.info()"
   ]
  },
  {
   "cell_type": "code",
   "execution_count": 12,
   "metadata": {},
   "outputs": [
    {
     "name": "stdout",
     "output_type": "stream",
     "text": [
      "0   2019-03-07\n",
      "1   2018-12-04\n",
      "2   2015-08-20\n",
      "3   2015-07-24\n",
      "4   2018-06-19\n",
      "Name: first_day_exposition, dtype: datetime64[ns]\n"
     ]
    },
    {
     "data": {
      "image/png": "[encoded data removed]",
      "text/plain": [
       "<Figure size 432x288 with 1 Axes>"
      ]
     },
     "metadata": {
      "needs_background": "light"
     },
     "output_type": "display_data"
    },
    {
     "name": "stdout",
     "output_type": "stream",
     "text": [
      "\n",
      "----------------------------------------------------------------------------------------\n",
      "\n"
     ]
    },
    {
     "data": {
      "image/png": "[encoded data removed]",
      "text/plain": [
       "<Figure size 432x288 with 1 Axes>"
      ]
     },
     "metadata": {
      "needs_background": "light"
     },
     "output_type": "display_data"
    },
    {
     "name": "stdout",
     "output_type": "stream",
     "text": [
      "count    23227.000000\n",
      "mean        57.760688\n",
      "std         25.367134\n",
      "min         20.000000\n",
      "25%         40.000000\n",
      "50%         51.700000\n",
      "75%         68.500000\n",
      "max        180.000000\n",
      "Name: total_area, dtype: float64\n"
     ]
    }
   ],
   "source": [
    "#Заменим формат first_day_exposition столбца на date \n",
    "data['first_day_exposition'] = pd.to_datetime(data['first_day_exposition'], format='%Y-%m-%dT%H:%M:%S')\n",
    "print(data['first_day_exposition'].head(5))\n",
    "\n",
    "#Проверим на аномалии столбца, которые на понадобяться в дальнейшем. \n",
    "data.boxplot(column='last_price')\n",
    "plt.show()\n",
    "data['last_price'].describe()\n",
    "#Критичных аномалий нет, по диапозону цен явно не Москва) Разница между медианным/средним и максимальным значением небольшая. Можно перевести в int для удоства. \n",
    "data['last_price'].astype('int')\n",
    "print ()\n",
    "print('----------------------------------------------------------------------------------------')\n",
    "print ()\n",
    "data.boxplot(column='total_area')\n",
    "plt.show()\n",
    "#data['total_area'].describe()\n",
    "#есть выбросы значений. Для квартир явно высокие или явно низкие. Избавимся от них. \n",
    "data.drop(data[data.total_area > 180].index, inplace=True)\n",
    "data.drop(data[data.total_area < 20].index, inplace=True)\n",
    "print (data['total_area'].describe())\n",
    "\n",
    "#Пропуски и выбросы скорректированны. С данными можно проводить расчеты. "
   ]
  },
  {
   "cell_type": "markdown",
   "metadata": {},
   "source": [
    "## Расчёты и добавление результатов в таблицу"
   ]
  },
  {
   "cell_type": "code",
   "execution_count": 13,
   "metadata": {},
   "outputs": [
    {
     "data": {
      "text/html": [
       "<div>\n",
       "<style scoped>\n",
       "    .dataframe tbody tr th:only-of-type {\n",
       "        vertical-align: middle;\n",
       "    }\n",
       "\n",
       "    .dataframe tbody tr th {\n",
       "        vertical-align: top;\n",
       "    }\n",
       "\n",
       "    .dataframe thead th {\n",
       "        text-align: right;\n",
       "    }\n",
       "</style>\n",
       "<table border=\"1\" class=\"dataframe\">\n",
       "  <thead>\n",
       "    <tr style=\"text-align: right;\">\n",
       "      <th></th>\n",
       "      <th>total_images</th>\n",
       "      <th>last_price</th>\n",
       "      <th>total_area</th>\n",
       "      <th>first_day_exposition</th>\n",
       "      <th>rooms</th>\n",
       "      <th>ceiling_height</th>\n",
       "      <th>floors_total</th>\n",
       "      <th>living_area</th>\n",
       "      <th>floor</th>\n",
       "      <th>is_apartment</th>\n",
       "      <th>...</th>\n",
       "      <th>ponds_around3000</th>\n",
       "      <th>ponds_nearest</th>\n",
       "      <th>days_exposition</th>\n",
       "      <th>price_square_meter</th>\n",
       "      <th>weekday</th>\n",
       "      <th>month</th>\n",
       "      <th>year</th>\n",
       "      <th>floor_category</th>\n",
       "      <th>living_area_relat</th>\n",
       "      <th>kitchen_area_relat</th>\n",
       "    </tr>\n",
       "  </thead>\n",
       "  <tbody>\n",
       "    <tr>\n",
       "      <td>0</td>\n",
       "      <td>20</td>\n",
       "      <td>13000000.0</td>\n",
       "      <td>108.0</td>\n",
       "      <td>2019-03-07</td>\n",
       "      <td>3</td>\n",
       "      <td>2.70</td>\n",
       "      <td>16.0</td>\n",
       "      <td>51.0</td>\n",
       "      <td>8</td>\n",
       "      <td>False</td>\n",
       "      <td>...</td>\n",
       "      <td>2</td>\n",
       "      <td>755.0</td>\n",
       "      <td>NaN</td>\n",
       "      <td>120370</td>\n",
       "      <td>3</td>\n",
       "      <td>3</td>\n",
       "      <td>2019</td>\n",
       "      <td>другой</td>\n",
       "      <td>0.472222</td>\n",
       "      <td>0.231481</td>\n",
       "    </tr>\n",
       "    <tr>\n",
       "      <td>1</td>\n",
       "      <td>7</td>\n",
       "      <td>3350000.0</td>\n",
       "      <td>40.4</td>\n",
       "      <td>2018-12-04</td>\n",
       "      <td>1</td>\n",
       "      <td>2.65</td>\n",
       "      <td>11.0</td>\n",
       "      <td>18.6</td>\n",
       "      <td>1</td>\n",
       "      <td>False</td>\n",
       "      <td>...</td>\n",
       "      <td>0</td>\n",
       "      <td>NaN</td>\n",
       "      <td>81.0</td>\n",
       "      <td>82920</td>\n",
       "      <td>1</td>\n",
       "      <td>12</td>\n",
       "      <td>2018</td>\n",
       "      <td>первый</td>\n",
       "      <td>0.460396</td>\n",
       "      <td>0.272277</td>\n",
       "    </tr>\n",
       "    <tr>\n",
       "      <td>2</td>\n",
       "      <td>10</td>\n",
       "      <td>5196000.0</td>\n",
       "      <td>56.0</td>\n",
       "      <td>2015-08-20</td>\n",
       "      <td>2</td>\n",
       "      <td>2.65</td>\n",
       "      <td>5.0</td>\n",
       "      <td>34.3</td>\n",
       "      <td>4</td>\n",
       "      <td>False</td>\n",
       "      <td>...</td>\n",
       "      <td>2</td>\n",
       "      <td>574.0</td>\n",
       "      <td>558.0</td>\n",
       "      <td>92785</td>\n",
       "      <td>3</td>\n",
       "      <td>8</td>\n",
       "      <td>2015</td>\n",
       "      <td>другой</td>\n",
       "      <td>0.612500</td>\n",
       "      <td>0.148214</td>\n",
       "    </tr>\n",
       "    <tr>\n",
       "      <td>3</td>\n",
       "      <td>0</td>\n",
       "      <td>64900000.0</td>\n",
       "      <td>159.0</td>\n",
       "      <td>2015-07-24</td>\n",
       "      <td>3</td>\n",
       "      <td>2.65</td>\n",
       "      <td>14.0</td>\n",
       "      <td>NaN</td>\n",
       "      <td>9</td>\n",
       "      <td>False</td>\n",
       "      <td>...</td>\n",
       "      <td>3</td>\n",
       "      <td>234.0</td>\n",
       "      <td>424.0</td>\n",
       "      <td>408176</td>\n",
       "      <td>4</td>\n",
       "      <td>7</td>\n",
       "      <td>2015</td>\n",
       "      <td>другой</td>\n",
       "      <td>NaN</td>\n",
       "      <td>NaN</td>\n",
       "    </tr>\n",
       "    <tr>\n",
       "      <td>4</td>\n",
       "      <td>2</td>\n",
       "      <td>10000000.0</td>\n",
       "      <td>100.0</td>\n",
       "      <td>2018-06-19</td>\n",
       "      <td>2</td>\n",
       "      <td>3.03</td>\n",
       "      <td>14.0</td>\n",
       "      <td>32.0</td>\n",
       "      <td>13</td>\n",
       "      <td>False</td>\n",
       "      <td>...</td>\n",
       "      <td>1</td>\n",
       "      <td>48.0</td>\n",
       "      <td>121.0</td>\n",
       "      <td>100000</td>\n",
       "      <td>1</td>\n",
       "      <td>6</td>\n",
       "      <td>2018</td>\n",
       "      <td>другой</td>\n",
       "      <td>0.320000</td>\n",
       "      <td>0.410000</td>\n",
       "    </tr>\n",
       "  </tbody>\n",
       "</table>\n",
       "<p>5 rows × 29 columns</p>\n",
       "</div>"
      ],
      "text/plain": [
       "   total_images  last_price  total_area first_day_exposition  rooms  \\\n",
       "0            20  13000000.0       108.0           2019-03-07      3   \n",
       "1             7   3350000.0        40.4           2018-12-04      1   \n",
       "2            10   5196000.0        56.0           2015-08-20      2   \n",
       "3             0  64900000.0       159.0           2015-07-24      3   \n",
       "4             2  10000000.0       100.0           2018-06-19      2   \n",
       "\n",
       "   ceiling_height  floors_total  living_area  floor  is_apartment  ...  \\\n",
       "0            2.70          16.0         51.0      8         False  ...   \n",
       "1            2.65          11.0         18.6      1         False  ...   \n",
       "2            2.65           5.0         34.3      4         False  ...   \n",
       "3            2.65          14.0          NaN      9         False  ...   \n",
       "4            3.03          14.0         32.0     13         False  ...   \n",
       "\n",
       "   ponds_around3000  ponds_nearest  days_exposition  price_square_meter  \\\n",
       "0                 2          755.0              NaN              120370   \n",
       "1                 0            NaN             81.0               82920   \n",
       "2                 2          574.0            558.0               92785   \n",
       "3                 3          234.0            424.0              408176   \n",
       "4                 1           48.0            121.0              100000   \n",
       "\n",
       "  weekday  month  year  floor_category  living_area_relat  kitchen_area_relat  \n",
       "0       3      3  2019          другой           0.472222            0.231481  \n",
       "1       1     12  2018          первый           0.460396            0.272277  \n",
       "2       3      8  2015          другой           0.612500            0.148214  \n",
       "3       4      7  2015          другой                NaN                 NaN  \n",
       "4       1      6  2018          другой           0.320000            0.410000  \n",
       "\n",
       "[5 rows x 29 columns]"
      ]
     },
     "metadata": {},
     "output_type": "display_data"
    }
   ],
   "source": [
    "# Добавляем в таблицу цену квадратного метра. \n",
    "data['price_square_meter'] = data['last_price'] / data['total_area']\n",
    "data['price_square_meter'] = data['price_square_meter'].astype('int')\n",
    "#display (data.head(5))\n",
    "\n",
    "# Добавляем дни недели, месяц и год публикации\n",
    "data['weekday'] = data['first_day_exposition'].dt.weekday\n",
    "data['month'] = data['first_day_exposition'].dt.month\n",
    "data['year'] = data['first_day_exposition'].dt.year\n",
    "#display (data.head(5))\n",
    "#Добавляем этаж квартиры\n",
    "def flat_floor(row):\n",
    "    if row['floor'] == 1:\n",
    "        return 'первый'\n",
    "    if row['floor'] == row['floors_total']:\n",
    "        return 'последний'\n",
    "    return 'другой'\n",
    "data['floor_category'] = data.apply(flat_floor, axis=1)\n",
    "#display (data.head(5))\n",
    "\n",
    "#Добавляем соотношение жилой и общей площади, а также отношение площади кухни к общей\n",
    "data['living_area_relat'] = data['living_area'] / data['total_area']\n",
    "data['kitchen_area_relat'] = data['kitchen_area'] / data['total_area']\n",
    "display (data.head(5))\n"
   ]
  },
  {
   "cell_type": "markdown",
   "metadata": {},
   "source": [
    "## Исследовательский анализ данных"
   ]
  },
  {
   "cell_type": "code",
   "execution_count": 14,
   "metadata": {
    "scrolled": false
   },
   "outputs": [
    {
     "name": "stdout",
     "output_type": "stream",
     "text": [
      "\n",
      "count    23227.000000\n",
      "mean        57.760688\n",
      "std         25.367134\n",
      "min         20.000000\n",
      "25%         40.000000\n",
      "50%         51.700000\n",
      "75%         68.500000\n",
      "max        180.000000\n",
      "Name: total_area, dtype: float64\n",
      "\n",
      "45.00     412\n",
      "42.00     379\n",
      "60.00     345\n",
      "31.00     345\n",
      "44.00     343\n",
      "         ... \n",
      "135.50      1\n",
      "40.56       1\n",
      "173.20      1\n",
      "115.60      1\n",
      "78.96       1\n",
      "Name: total_area, Length: 1959, dtype: int64\n",
      "\n",
      "\n",
      "\n",
      "\n",
      "\n",
      "\n",
      "\n",
      "\n"
     ]
    },
    {
     "data": {
      "image/png": "[encoded data removed]",
      "text/plain": [
       "<Figure size 648x648 with 1 Axes>"
      ]
     },
     "metadata": {
      "needs_background": "light"
     },
     "output_type": "display_data"
    },
    {
     "data": {
      "image/png": "[encoded data removed]",
      "text/plain": [
       "<Figure size 648x648 with 1 Axes>"
      ]
     },
     "metadata": {
      "needs_background": "light"
     },
     "output_type": "display_data"
    },
    {
     "data": {
      "image/png": "[encoded data removed]",
      "text/plain": [
       "<Figure size 648x648 with 1 Axes>"
      ]
     },
     "metadata": {
      "needs_background": "light"
     },
     "output_type": "display_data"
    },
    {
     "data": {
      "image/png": "[encoded data removed]",
      "text/plain": [
       "<Figure size 648x648 with 1 Axes>"
      ]
     },
     "metadata": {
      "needs_background": "light"
     },
     "output_type": "display_data"
    }
   ],
   "source": [
    "# РАССМОТРИМ РАСПРЕДЕЛЕНИЕ ОБЩЕЙ ПЛОЩАДИ КВАРТИР\n",
    "data.plot(y = 'total_area', kind = 'hist', bins = 100, grid=True, figsize = (9,9), range = (0,500))\n",
    "print ()\n",
    "print (data['total_area'].describe())\n",
    "print ()\n",
    "print (data['total_area'].value_counts())\n",
    "\n",
    "# Видим пиковое значение на отметки 45 кв.м. Действительно квартир в промежутке от 40 кв.м. до 50 кв.м., превалирующие значения, так как очень много квартир в продаже, построенные в советское время - \"хрущевки\" с малой квадратурой. При этом в новых домах площадь \"евродвушки\" варьируется примерно в этом е диапозоне квадратуры. \n",
    "\n",
    "print()\n",
    "print()\n",
    "\n",
    "# РАССМОТРИМ РАСПРЕДЕЛЕНИЕ ЦЕН\n",
    "data.plot(y = 'last_price', kind = 'hist', bins = 100, grid=True, figsize = (9,9), range = (0,2000000))\n",
    "#data['last_price'].describe()\n",
    "\n",
    "#Кричтичных отклонений нет, с данными все в порядке. Медиана стоимости квартиры составляет -  4 500 000. \n",
    "\n",
    "print()\n",
    "print()\n",
    "\n",
    "# РАССМОТРИМ РАСПРЕДЕЛЕНИЕ КОЛИЧЕСТВА КОМНАТ\n",
    "data.plot(y = 'rooms', kind = 'hist', bins = 20, grid=True, figsize = (9,9), range = (0,15))\n",
    "data['rooms'].describe()\n",
    "\n",
    "#Кричтичных отклонений нет, с данными все в порядке. В основном продяют однокомнатные и двухкомнатные квартиры. Соответвенно это мы видим и по квадратуре. \n",
    "\n",
    "print()\n",
    "print()\n",
    "\n",
    "# РАССМОТРИМ РАСПРЕДЕЛЕНИЕ ВЫСОТЫ ПОТОЛКОВ\n",
    "data.plot(y = 'ceiling_height', kind = 'hist', bins = 20, grid=True, figsize = (9,9), range = (2,8))\n",
    "data['ceiling_height'].describe()\n",
    "\n",
    "#Кричтичных отклонений нет, с данными все в порядке.  У большинства квартир высота потолка 2,6 м., что говорит о советском прошлом данных квартир. \n",
    "\n",
    "print()\n",
    "print()\n"
   ]
  },
  {
   "cell_type": "code",
   "execution_count": 16,
   "metadata": {},
   "outputs": [
    {
     "data": {
      "image/png": "[encoded data removed]",
      "text/plain": [
       "<Figure size 288x360 with 1 Axes>"
      ]
     },
     "metadata": {
      "needs_background": "light"
     },
     "output_type": "display_data"
    },
    {
     "name": "stdout",
     "output_type": "stream",
     "text": [
      "count    20140.000000\n",
      "mean       179.535204\n",
      "std        218.200443\n",
      "min          1.000000\n",
      "25%         45.000000\n",
      "50%         95.000000\n",
      "75%        229.000000\n",
      "max       1580.000000\n",
      "Name: days_exposition, dtype: float64\n"
     ]
    },
    {
     "data": {
      "image/png": "[encoded data removed]",
      "text/plain": [
       "<Figure size 1080x1080 with 1 Axes>"
      ]
     },
     "metadata": {
      "needs_background": "light"
     },
     "output_type": "display_data"
    },
    {
     "name": "stdout",
     "output_type": "stream",
     "text": [
      "45.0    871\n",
      "60.0    537\n",
      "30.0    205\n",
      "90.0    191\n",
      "20.0    138\n",
      "Name: days_exposition, dtype: int64\n",
      "104.0\n",
      "164.2983985060268\n"
     ]
    }
   ],
   "source": [
    "#data.plot(y='days_exposition', kind='hist', bins=200, figsize=(9,9), xlim=(0,2000))\n",
    "#plt.xlabel(\"days\")\n",
    "#plt.show()\n",
    "data.boxplot(['days_exposition'], figsize=(4,5), fontsize=14)\n",
    "plt.ylabel('days', fontsize=14)\n",
    "plt.show()\n",
    "print(data[data['days_exposition']!=0]['days_exposition'].describe())\n",
    "#Видны явные выбросы. Проработаем. Быстрой продажей сделаем продажу в 14 дней, а долгой 2 года. \n",
    "exposition_data = data.query('14<days_exposition<730')['days_exposition'] \n",
    "exposition_data.plot(kind='hist', bins=100, xlim=(10,800), figsize = (15,15))\n",
    "plt.show()\n",
    "print(exposition_data.value_counts().head(5))\n",
    "#Видим, что топ 5 значений 45.0, 60.0, 30.0, 90.0, 20.0.\n",
    "#Определим медианное значение нового параметра. \n",
    "print(exposition_data.median())\n",
    "print(exposition_data.mean())\n",
    "\n",
    "#среднее и медианное значение практически не изменились.\n",
    "#Исходя из графиков и метода discribe можно счатать значения от 14 до 500 нормальными. "
   ]
  },
  {
   "cell_type": "code",
   "execution_count": 17,
   "metadata": {
    "scrolled": true
   },
   "outputs": [
    {
     "name": "stdout",
     "output_type": "stream",
     "text": [
      "\n",
      "45.0    871\n",
      "90.0    191\n",
      "4.0     175\n",
      "3.0     156\n",
      "5.0     150\n",
      "Name: days_exposition, dtype: int64\n",
      "count    19168.000000\n",
      "mean       186.553579\n",
      "std        221.314153\n",
      "min          1.000000\n",
      "25%         45.000000\n",
      "50%        103.000000\n",
      "75%        241.000000\n",
      "max       1580.000000\n",
      "Name: days_exposition, dtype: float64\n"
     ]
    },
    {
     "data": {
      "image/png": "[encoded data removed]",
      "text/plain": [
       "<Figure size 432x288 with 1 Axes>"
      ]
     },
     "metadata": {
      "needs_background": "light"
     },
     "output_type": "display_data"
    }
   ],
   "source": [
    "#Убрать редкие и аномальные значения\n",
    "#Введем новый параметр с очищенными от аномалий \n",
    "good_days_exposition = data.query('days_exposition != 45 and days_exposition != 60 and days_exposition != 30 and days_exposition != 90 and days_exposition != 7 and days_exposition != 0')\n",
    "print()\n",
    "# Посмотрим на график \n",
    "good_days_exposition.plot(y = 'days_exposition', kind = 'hist', bins = 100, grid = True, range = (1,200))\n",
    "\n",
    "#Посмтрим на количественные показатели\n",
    "print(good_days_exposition['days_exposition'].value_counts().head(5))\n",
    "print (good_days_exposition['days_exposition'].describe())"
   ]
  },
  {
   "cell_type": "code",
   "execution_count": 18,
   "metadata": {},
   "outputs": [
    {
     "name": "stdout",
     "output_type": "stream",
     "text": [
      "0.23992180577442568\n"
     ]
    },
    {
     "data": {
      "image/png": "[encoded data removed]",
      "text/plain": [
       "<Figure size 432x288 with 1 Axes>"
      ]
     },
     "metadata": {
      "needs_background": "light"
     },
     "output_type": "display_data"
    }
   ],
   "source": [
    "#Какие факторы больше всего влияют на стоимость квартиры\n",
    "table_total_area = data.pivot_table(index = 'total_area', values = 'price_square_meter', aggfunc = ['mean', 'count', 'median'])\n",
    "table_total_area.columns = ['mean', 'count', 'median']\n",
    "table_total_area.plot(y = 'median')\n",
    "print(data['total_area'].corr(data['price_square_meter']))"
   ]
  },
  {
   "cell_type": "code",
   "execution_count": 19,
   "metadata": {},
   "outputs": [],
   "source": [
    "#Коэффициент Пирсона показывает, что связь между общей площадью и цены за квадратный метр мизерная. Видно, что цена за примерно 37 квадратов выше чем квартиры с другой квадратурой, что говорит о большем спросе на однокомнатные квартиры."
   ]
  },
  {
   "cell_type": "code",
   "execution_count": 21,
   "metadata": {},
   "outputs": [
    {
     "name": "stdout",
     "output_type": "stream",
     "text": [
      "-0.014774119033554932\n"
     ]
    },
    {
     "data": {
      "image/png": "[encoded data removed]",
      "text/plain": [
       "<Figure size 432x288 with 1 Axes>"
      ]
     },
     "metadata": {
      "needs_background": "light"
     },
     "output_type": "display_data"
    }
   ],
   "source": [
    "table_rooms = data.pivot_table(index = 'rooms', values = 'price_square_meter', aggfunc = ['mean', 'count', 'median'])\n",
    "table_rooms.columns = ['mean', 'count', 'median']\n",
    "table_rooms.plot(y = 'median')\n",
    "print(data['rooms'].corr(data['price_square_meter']))\n",
    "#Общая зависимость отрицательная - слабая. Но явно видно, что при приближении к 3м комнатам, стоимость квадратного метра уменьшается"
   ]
  },
  {
   "cell_type": "code",
   "execution_count": 22,
   "metadata": {
    "scrolled": false
   },
   "outputs": [
    {
     "data": {
      "text/plain": [
       "<matplotlib.axes._subplots.AxesSubplot at 0x7f1bcdb92f90>"
      ]
     },
     "execution_count": 22,
     "metadata": {},
     "output_type": "execute_result"
    },
    {
     "data": {
      "image/png": "[encoded data removed]",
      "text/plain": [
       "<Figure size 432x288 with 1 Axes>"
      ]
     },
     "metadata": {
      "needs_background": "light"
     },
     "output_type": "display_data"
    }
   ],
   "source": [
    "table_floor_category = data.query('floor_category != \"другой\"').pivot_table(index = 'floor_category', values = 'price_square_meter', aggfunc = ['mean', 'count', 'median'])\n",
    "table_floor_category.columns = ['mean', 'count', 'median']\n",
    "table_floor_category.query('count > 1').plot(y = 'median')\n",
    "#По графику видно, что первый этаж дешевле, чем последний этаж. "
   ]
  },
  {
   "cell_type": "code",
   "execution_count": 23,
   "metadata": {
    "scrolled": true
   },
   "outputs": [
    {
     "name": "stdout",
     "output_type": "stream",
     "text": [
      "-0.3521845471032442\n"
     ]
    },
    {
     "data": {
      "image/png": "[encoded data removed]",
      "text/plain": [
       "<Figure size 432x288 with 1 Axes>"
      ]
     },
     "metadata": {
      "needs_background": "light"
     },
     "output_type": "display_data"
    }
   ],
   "source": [
    "table_cityCenters_nearest = data.pivot_table(index = 'cityCenters_nearest', values = 'price_square_meter', aggfunc = ['mean', 'count', 'median'])\n",
    "table_cityCenters_nearest.columns = ['mean', 'count', 'median']\n",
    "table_cityCenters_nearest.plot(y = 'median')\n",
    "print(data['cityCenters_nearest'].corr(data['price_square_meter']))\n",
    "#По графику видна явная зависимость стоимости квадратного метра от отдаления от центра. "
   ]
  },
  {
   "cell_type": "code",
   "execution_count": 24,
   "metadata": {},
   "outputs": [
    {
     "data": {
      "text/plain": [
       "<matplotlib.axes._subplots.AxesSubplot at 0x7f1bc5246710>"
      ]
     },
     "execution_count": 24,
     "metadata": {},
     "output_type": "execute_result"
    },
    {
     "data": {
      "image/png": "[encoded data removed]",
      "text/plain": [
       "<Figure size 432x288 with 1 Axes>"
      ]
     },
     "metadata": {
      "needs_background": "light"
     },
     "output_type": "display_data"
    }
   ],
   "source": [
    "table_weekday = data.pivot_table(index = 'weekday', values = 'price_square_meter', aggfunc = ['mean', 'count', 'median'])\n",
    "table_weekday.columns = ['mean', 'count', 'median']\n",
    "table_weekday.plot(y = 'median',grid=True)\n",
    "#Стоимость выше, когда объявление публикую во вторник и низкая цена, когда предложения публикуются в субботу. Как я понимаю, для увеличения спроса.  "
   ]
  },
  {
   "cell_type": "code",
   "execution_count": 25,
   "metadata": {},
   "outputs": [
    {
     "data": {
      "text/plain": [
       "<matplotlib.axes._subplots.AxesSubplot at 0x7f1bc51b3150>"
      ]
     },
     "execution_count": 25,
     "metadata": {},
     "output_type": "execute_result"
    },
    {
     "data": {
      "image/png": "[encoded data removed]",
      "text/plain": [
       "<Figure size 432x288 with 1 Axes>"
      ]
     },
     "metadata": {
      "needs_background": "light"
     },
     "output_type": "display_data"
    }
   ],
   "source": [
    "table_month = data.pivot_table(index = 'month', values = 'price_square_meter', aggfunc = ['mean', 'count', 'median'])\n",
    "table_month.columns = ['mean', 'count', 'median']\n",
    "table_month.plot(y = 'median',grid=True)\n",
    "#Видна сезонность в недвижимости, лктом меньше предложени и меньше стоимость недвижимости. "
   ]
  },
  {
   "cell_type": "code",
   "execution_count": 26,
   "metadata": {},
   "outputs": [
    {
     "data": {
      "text/plain": [
       "<matplotlib.axes._subplots.AxesSubplot at 0x7f1bc44ec090>"
      ]
     },
     "execution_count": 26,
     "metadata": {},
     "output_type": "execute_result"
    },
    {
     "data": {
      "image/png": "[encoded data removed]",
      "text/plain": [
       "<Figure size 432x288 with 1 Axes>"
      ]
     },
     "metadata": {
      "needs_background": "light"
     },
     "output_type": "display_data"
    }
   ],
   "source": [
    "table_year = data.pivot_table(index = 'year', values = 'price_square_meter', aggfunc = ['mean', 'count', 'median'])\n",
    "table_year.columns = ['mean', 'count', 'median']\n",
    "table_year.plot(y = 'median',grid=True)\n",
    "#После кризиса 2014 года стоимость квадратного метра, в среднем, шла на спад до 2016 года, после 2016 года цена только растет. "
   ]
  },
  {
   "cell_type": "code",
   "execution_count": 27,
   "metadata": {},
   "outputs": [
    {
     "name": "stdout",
     "output_type": "stream",
     "text": [
      "                   count           mean\n",
      "locality_name                          \n",
      "Санкт-Петербург    15336  113028.545514\n",
      "посёлок Мурино       520   85724.784615\n",
      "посёлок Шушары       439   78655.132118\n",
      "Всеволожск           396   68669.992424\n",
      "Пушкин               358  102952.737430\n",
      "Колпино              336   75352.047619\n",
      "посёлок Парголово    325   90361.923077\n",
      "Гатчина              306   68757.225490\n",
      "деревня Кудрово      299   92473.086957\n",
      "Выборг               232   58123.254310\n",
      "                 count           mean\n",
      "locality_name                        \n",
      "Санкт-Петербург  15336  113028.545514\n",
      "               count         mean\n",
      "locality_name                    \n",
      "Выборг           232  58123.25431\n"
     ]
    }
   ],
   "source": [
    "table_locality_name = data.pivot_table(index = 'locality_name', values = 'price_square_meter', aggfunc=['count', 'mean'])\n",
    "table_locality_name.columns = ['count', 'mean']\n",
    "locality_pivot_table = table_locality_name.sort_values('count', ascending = False).head(10)\n",
    "print(locality_pivot_table)\n",
    "print(table_locality_name[table_locality_name['mean']==locality_pivot_table['mean'].max()])\n",
    "print(table_locality_name[table_locality_name['mean']==locality_pivot_table['mean'].min()])\n",
    "#Максимальная стоимость и количество предложений в СПб, самая низкая стоимость и наименьшее количество предложений в Выборге. "
   ]
  },
  {
   "cell_type": "code",
   "execution_count": 28,
   "metadata": {},
   "outputs": [
    {
     "name": "stdout",
     "output_type": "stream",
     "text": [
      "65.968\n"
     ]
    },
    {
     "data": {
      "text/html": [
       "<div>\n",
       "<style scoped>\n",
       "    .dataframe tbody tr th:only-of-type {\n",
       "        vertical-align: middle;\n",
       "    }\n",
       "\n",
       "    .dataframe tbody tr th {\n",
       "        vertical-align: top;\n",
       "    }\n",
       "\n",
       "    .dataframe thead th {\n",
       "        text-align: right;\n",
       "    }\n",
       "</style>\n",
       "<table border=\"1\" class=\"dataframe\">\n",
       "  <thead>\n",
       "    <tr style=\"text-align: right;\">\n",
       "      <th></th>\n",
       "      <th>total_images</th>\n",
       "      <th>last_price</th>\n",
       "      <th>total_area</th>\n",
       "      <th>first_day_exposition</th>\n",
       "      <th>rooms</th>\n",
       "      <th>ceiling_height</th>\n",
       "      <th>floors_total</th>\n",
       "      <th>living_area</th>\n",
       "      <th>floor</th>\n",
       "      <th>is_apartment</th>\n",
       "      <th>...</th>\n",
       "      <th>ponds_nearest</th>\n",
       "      <th>days_exposition</th>\n",
       "      <th>price_square_meter</th>\n",
       "      <th>weekday</th>\n",
       "      <th>month</th>\n",
       "      <th>year</th>\n",
       "      <th>floor_category</th>\n",
       "      <th>living_area_relat</th>\n",
       "      <th>kitchen_area_relat</th>\n",
       "      <th>km_cityCenters_nearest</th>\n",
       "    </tr>\n",
       "  </thead>\n",
       "  <tbody>\n",
       "    <tr>\n",
       "      <td>0</td>\n",
       "      <td>20</td>\n",
       "      <td>13000000.0</td>\n",
       "      <td>108.00</td>\n",
       "      <td>2019-03-07</td>\n",
       "      <td>3</td>\n",
       "      <td>2.70</td>\n",
       "      <td>16.0</td>\n",
       "      <td>51.00</td>\n",
       "      <td>8</td>\n",
       "      <td>False</td>\n",
       "      <td>...</td>\n",
       "      <td>755.0</td>\n",
       "      <td>NaN</td>\n",
       "      <td>120370</td>\n",
       "      <td>3</td>\n",
       "      <td>3</td>\n",
       "      <td>2019</td>\n",
       "      <td>другой</td>\n",
       "      <td>0.472222</td>\n",
       "      <td>0.231481</td>\n",
       "      <td>16</td>\n",
       "    </tr>\n",
       "    <tr>\n",
       "      <td>1</td>\n",
       "      <td>7</td>\n",
       "      <td>3350000.0</td>\n",
       "      <td>40.40</td>\n",
       "      <td>2018-12-04</td>\n",
       "      <td>1</td>\n",
       "      <td>2.65</td>\n",
       "      <td>11.0</td>\n",
       "      <td>18.60</td>\n",
       "      <td>1</td>\n",
       "      <td>False</td>\n",
       "      <td>...</td>\n",
       "      <td>NaN</td>\n",
       "      <td>81.0</td>\n",
       "      <td>82920</td>\n",
       "      <td>1</td>\n",
       "      <td>12</td>\n",
       "      <td>2018</td>\n",
       "      <td>первый</td>\n",
       "      <td>0.460396</td>\n",
       "      <td>0.272277</td>\n",
       "      <td>18</td>\n",
       "    </tr>\n",
       "    <tr>\n",
       "      <td>2</td>\n",
       "      <td>10</td>\n",
       "      <td>5196000.0</td>\n",
       "      <td>56.00</td>\n",
       "      <td>2015-08-20</td>\n",
       "      <td>2</td>\n",
       "      <td>2.65</td>\n",
       "      <td>5.0</td>\n",
       "      <td>34.30</td>\n",
       "      <td>4</td>\n",
       "      <td>False</td>\n",
       "      <td>...</td>\n",
       "      <td>574.0</td>\n",
       "      <td>558.0</td>\n",
       "      <td>92785</td>\n",
       "      <td>3</td>\n",
       "      <td>8</td>\n",
       "      <td>2015</td>\n",
       "      <td>другой</td>\n",
       "      <td>0.612500</td>\n",
       "      <td>0.148214</td>\n",
       "      <td>13</td>\n",
       "    </tr>\n",
       "    <tr>\n",
       "      <td>3</td>\n",
       "      <td>0</td>\n",
       "      <td>64900000.0</td>\n",
       "      <td>159.00</td>\n",
       "      <td>2015-07-24</td>\n",
       "      <td>3</td>\n",
       "      <td>2.65</td>\n",
       "      <td>14.0</td>\n",
       "      <td>NaN</td>\n",
       "      <td>9</td>\n",
       "      <td>False</td>\n",
       "      <td>...</td>\n",
       "      <td>234.0</td>\n",
       "      <td>424.0</td>\n",
       "      <td>408176</td>\n",
       "      <td>4</td>\n",
       "      <td>7</td>\n",
       "      <td>2015</td>\n",
       "      <td>другой</td>\n",
       "      <td>NaN</td>\n",
       "      <td>NaN</td>\n",
       "      <td>6</td>\n",
       "    </tr>\n",
       "    <tr>\n",
       "      <td>4</td>\n",
       "      <td>2</td>\n",
       "      <td>10000000.0</td>\n",
       "      <td>100.00</td>\n",
       "      <td>2018-06-19</td>\n",
       "      <td>2</td>\n",
       "      <td>3.03</td>\n",
       "      <td>14.0</td>\n",
       "      <td>32.00</td>\n",
       "      <td>13</td>\n",
       "      <td>False</td>\n",
       "      <td>...</td>\n",
       "      <td>48.0</td>\n",
       "      <td>121.0</td>\n",
       "      <td>100000</td>\n",
       "      <td>1</td>\n",
       "      <td>6</td>\n",
       "      <td>2018</td>\n",
       "      <td>другой</td>\n",
       "      <td>0.320000</td>\n",
       "      <td>0.410000</td>\n",
       "      <td>8</td>\n",
       "    </tr>\n",
       "    <tr>\n",
       "      <td>5</td>\n",
       "      <td>10</td>\n",
       "      <td>2890000.0</td>\n",
       "      <td>30.40</td>\n",
       "      <td>2018-09-10</td>\n",
       "      <td>1</td>\n",
       "      <td>2.65</td>\n",
       "      <td>12.0</td>\n",
       "      <td>14.40</td>\n",
       "      <td>5</td>\n",
       "      <td>False</td>\n",
       "      <td>...</td>\n",
       "      <td>NaN</td>\n",
       "      <td>55.0</td>\n",
       "      <td>95065</td>\n",
       "      <td>0</td>\n",
       "      <td>9</td>\n",
       "      <td>2018</td>\n",
       "      <td>другой</td>\n",
       "      <td>0.473684</td>\n",
       "      <td>0.299342</td>\n",
       "      <td>0</td>\n",
       "    </tr>\n",
       "    <tr>\n",
       "      <td>6</td>\n",
       "      <td>6</td>\n",
       "      <td>3700000.0</td>\n",
       "      <td>37.30</td>\n",
       "      <td>2017-11-02</td>\n",
       "      <td>1</td>\n",
       "      <td>2.65</td>\n",
       "      <td>26.0</td>\n",
       "      <td>10.60</td>\n",
       "      <td>6</td>\n",
       "      <td>False</td>\n",
       "      <td>...</td>\n",
       "      <td>NaN</td>\n",
       "      <td>155.0</td>\n",
       "      <td>99195</td>\n",
       "      <td>3</td>\n",
       "      <td>11</td>\n",
       "      <td>2017</td>\n",
       "      <td>другой</td>\n",
       "      <td>0.284182</td>\n",
       "      <td>0.386059</td>\n",
       "      <td>19</td>\n",
       "    </tr>\n",
       "    <tr>\n",
       "      <td>7</td>\n",
       "      <td>5</td>\n",
       "      <td>7915000.0</td>\n",
       "      <td>71.60</td>\n",
       "      <td>2019-04-18</td>\n",
       "      <td>2</td>\n",
       "      <td>2.65</td>\n",
       "      <td>24.0</td>\n",
       "      <td>NaN</td>\n",
       "      <td>22</td>\n",
       "      <td>False</td>\n",
       "      <td>...</td>\n",
       "      <td>NaN</td>\n",
       "      <td>NaN</td>\n",
       "      <td>110544</td>\n",
       "      <td>3</td>\n",
       "      <td>4</td>\n",
       "      <td>2019</td>\n",
       "      <td>другой</td>\n",
       "      <td>NaN</td>\n",
       "      <td>0.263966</td>\n",
       "      <td>11</td>\n",
       "    </tr>\n",
       "    <tr>\n",
       "      <td>8</td>\n",
       "      <td>20</td>\n",
       "      <td>2900000.0</td>\n",
       "      <td>33.16</td>\n",
       "      <td>2018-05-23</td>\n",
       "      <td>1</td>\n",
       "      <td>2.65</td>\n",
       "      <td>27.0</td>\n",
       "      <td>15.43</td>\n",
       "      <td>26</td>\n",
       "      <td>False</td>\n",
       "      <td>...</td>\n",
       "      <td>NaN</td>\n",
       "      <td>189.0</td>\n",
       "      <td>87454</td>\n",
       "      <td>2</td>\n",
       "      <td>5</td>\n",
       "      <td>2018</td>\n",
       "      <td>другой</td>\n",
       "      <td>0.465320</td>\n",
       "      <td>0.265682</td>\n",
       "      <td>0</td>\n",
       "    </tr>\n",
       "    <tr>\n",
       "      <td>9</td>\n",
       "      <td>18</td>\n",
       "      <td>5400000.0</td>\n",
       "      <td>61.00</td>\n",
       "      <td>2017-02-26</td>\n",
       "      <td>3</td>\n",
       "      <td>2.50</td>\n",
       "      <td>9.0</td>\n",
       "      <td>43.60</td>\n",
       "      <td>7</td>\n",
       "      <td>False</td>\n",
       "      <td>...</td>\n",
       "      <td>NaN</td>\n",
       "      <td>289.0</td>\n",
       "      <td>88524</td>\n",
       "      <td>6</td>\n",
       "      <td>2</td>\n",
       "      <td>2017</td>\n",
       "      <td>другой</td>\n",
       "      <td>0.714754</td>\n",
       "      <td>0.106557</td>\n",
       "      <td>15</td>\n",
       "    </tr>\n",
       "  </tbody>\n",
       "</table>\n",
       "<p>10 rows × 30 columns</p>\n",
       "</div>"
      ],
      "text/plain": [
       "   total_images  last_price  total_area first_day_exposition  rooms  \\\n",
       "0            20  13000000.0      108.00           2019-03-07      3   \n",
       "1             7   3350000.0       40.40           2018-12-04      1   \n",
       "2            10   5196000.0       56.00           2015-08-20      2   \n",
       "3             0  64900000.0      159.00           2015-07-24      3   \n",
       "4             2  10000000.0      100.00           2018-06-19      2   \n",
       "5            10   2890000.0       30.40           2018-09-10      1   \n",
       "6             6   3700000.0       37.30           2017-11-02      1   \n",
       "7             5   7915000.0       71.60           2019-04-18      2   \n",
       "8            20   2900000.0       33.16           2018-05-23      1   \n",
       "9            18   5400000.0       61.00           2017-02-26      3   \n",
       "\n",
       "   ceiling_height  floors_total  living_area  floor  is_apartment  ...  \\\n",
       "0            2.70          16.0        51.00      8         False  ...   \n",
       "1            2.65          11.0        18.60      1         False  ...   \n",
       "2            2.65           5.0        34.30      4         False  ...   \n",
       "3            2.65          14.0          NaN      9         False  ...   \n",
       "4            3.03          14.0        32.00     13         False  ...   \n",
       "5            2.65          12.0        14.40      5         False  ...   \n",
       "6            2.65          26.0        10.60      6         False  ...   \n",
       "7            2.65          24.0          NaN     22         False  ...   \n",
       "8            2.65          27.0        15.43     26         False  ...   \n",
       "9            2.50           9.0        43.60      7         False  ...   \n",
       "\n",
       "   ponds_nearest  days_exposition  price_square_meter  weekday month  year  \\\n",
       "0          755.0              NaN              120370        3     3  2019   \n",
       "1            NaN             81.0               82920        1    12  2018   \n",
       "2          574.0            558.0               92785        3     8  2015   \n",
       "3          234.0            424.0              408176        4     7  2015   \n",
       "4           48.0            121.0              100000        1     6  2018   \n",
       "5            NaN             55.0               95065        0     9  2018   \n",
       "6            NaN            155.0               99195        3    11  2017   \n",
       "7            NaN              NaN              110544        3     4  2019   \n",
       "8            NaN            189.0               87454        2     5  2018   \n",
       "9            NaN            289.0               88524        6     2  2017   \n",
       "\n",
       "   floor_category  living_area_relat  kitchen_area_relat  \\\n",
       "0          другой           0.472222            0.231481   \n",
       "1          первый           0.460396            0.272277   \n",
       "2          другой           0.612500            0.148214   \n",
       "3          другой                NaN                 NaN   \n",
       "4          другой           0.320000            0.410000   \n",
       "5          другой           0.473684            0.299342   \n",
       "6          другой           0.284182            0.386059   \n",
       "7          другой                NaN            0.263966   \n",
       "8          другой           0.465320            0.265682   \n",
       "9          другой           0.714754            0.106557   \n",
       "\n",
       "   km_cityCenters_nearest  \n",
       "0                      16  \n",
       "1                      18  \n",
       "2                      13  \n",
       "3                       6  \n",
       "4                       8  \n",
       "5                       0  \n",
       "6                      19  \n",
       "7                      11  \n",
       "8                       0  \n",
       "9                      15  \n",
       "\n",
       "[10 rows x 30 columns]"
      ]
     },
     "metadata": {},
     "output_type": "display_data"
    },
    {
     "data": {
      "image/png": "[encoded data removed]",
      "text/plain": [
       "<Figure size 1152x1152 with 1 Axes>"
      ]
     },
     "metadata": {
      "needs_background": "light"
     },
     "output_type": "display_data"
    }
   ],
   "source": [
    "data['km_cityCenters_nearest'] = data['cityCenters_nearest']/1000\n",
    "print(data['km_cityCenters_nearest'].max())\n",
    "data['km_cityCenters_nearest'] = data['km_cityCenters_nearest'].fillna(0)\n",
    "data['km_cityCenters_nearest'] = data['km_cityCenters_nearest'].astype('int')\n",
    "pivot_table_km = data.query('locality_name == \"Санкт-Петербург\"').pivot_table(index = 'km_cityCenters_nearest', values = 'price_square_meter', aggfunc = 'mean')\n",
    "pivot_table_km.plot(grid=True, figsize = (16,16))\n",
    "display(data.head(10))\n",
    "#График меняется на примерно на 3х киллометрах, что будет являться границей. \n",
    "\n"
   ]
  },
  {
   "cell_type": "code",
   "execution_count": 29,
   "metadata": {},
   "outputs": [
    {
     "data": {
      "text/plain": [
       "-0.15981963075206113"
      ]
     },
     "execution_count": 29,
     "metadata": {},
     "output_type": "execute_result"
    },
    {
     "data": {
      "image/png": "[encoded data removed]",
      "text/plain": [
       "<Figure size 432x288 with 1 Axes>"
      ]
     },
     "metadata": {
      "needs_background": "light"
     },
     "output_type": "display_data"
    }
   ],
   "source": [
    "cityCenters_nearest_spb = data.query('km_cityCenters_nearest <= 3 and locality_name == \"Санкт-Петербург\"')\n",
    "\n",
    "cityCenters_nearest_spb_rooms = cityCenters_nearest_spb.pivot_table(index = 'rooms', values = 'price_square_meter', aggfunc = ['mean', 'count', 'median'])\n",
    "cityCenters_nearest_spb_rooms.columns = ['mean', 'count', 'median']\n",
    "cityCenters_nearest_spb_rooms.plot(y = 'median')\n",
    "\n",
    "cityCenters_nearest_spb_rooms.sort_values('median', ascending = False)\n",
    "\n",
    "cityCenters_nearest_spb['rooms'].corr(cityCenters_nearest_spb['price_square_meter'])\n",
    "\n",
    "#Коэффициент корреляции показывает отсутствие связи. Но в СПб отличается график, стоимость снижается ближе к 6 комнатам, а не к 3, как в общей выборке. "
   ]
  },
  {
   "cell_type": "code",
   "execution_count": 30,
   "metadata": {},
   "outputs": [
    {
     "data": {
      "text/plain": [
       "<matplotlib.axes._subplots.AxesSubplot at 0x7f1bc596c790>"
      ]
     },
     "execution_count": 30,
     "metadata": {},
     "output_type": "execute_result"
    },
    {
     "data": {
      "image/png": "[encoded data removed]",
      "text/plain": [
       "<Figure size 432x288 with 1 Axes>"
      ]
     },
     "metadata": {
      "needs_background": "light"
     },
     "output_type": "display_data"
    }
   ],
   "source": [
    "spb_table_floor_category = cityCenters_nearest_spb.query('floor_category != \"другой\"').pivot_table(index = 'floor_category', values = 'price_square_meter', aggfunc = ['mean', 'count', 'median'])\n",
    "spb_table_floor_category.columns = ['mean', 'count', 'median']\n",
    "spb_table_floor_category.plot(y = 'median') \n",
    "#Аналогичная ситуация в СПБ, квартиры на последнем этаже стоят дороже первого. "
   ]
  },
  {
   "cell_type": "code",
   "execution_count": 31,
   "metadata": {},
   "outputs": [
    {
     "data": {
      "text/plain": [
       "-0.18456963128542403"
      ]
     },
     "execution_count": 31,
     "metadata": {},
     "output_type": "execute_result"
    },
    {
     "data": {
      "image/png": "[encoded data removed]",
      "text/plain": [
       "<Figure size 432x288 with 1 Axes>"
      ]
     },
     "metadata": {
      "needs_background": "light"
     },
     "output_type": "display_data"
    }
   ],
   "source": [
    "cityCenters_nearest_spb_1 = cityCenters_nearest_spb.pivot_table(index = 'cityCenters_nearest', values = 'price_square_meter', aggfunc = ['mean', 'count', 'median'])\n",
    "cityCenters_nearest_spb_1.columns = ['mean', 'count', 'median']\n",
    "cityCenters_nearest_spb_1.plot(y = 'median')\n",
    "cityCenters_nearest_spb['cityCenters_nearest'].corr(cityCenters_nearest_spb['price_square_meter'])\n",
    "#Как и в общей выборке, связи по коэффициенту корреляции - нет.Это видно и по графику "
   ]
  },
  {
   "cell_type": "code",
   "execution_count": 32,
   "metadata": {},
   "outputs": [
    {
     "data": {
      "text/plain": [
       "<matplotlib.axes._subplots.AxesSubplot at 0x7f1bc59f2a10>"
      ]
     },
     "execution_count": 32,
     "metadata": {},
     "output_type": "execute_result"
    },
    {
     "data": {
      "image/png": "[encoded data removed]",
      "text/plain": [
       "<Figure size 432x288 with 1 Axes>"
      ]
     },
     "metadata": {
      "needs_background": "light"
     },
     "output_type": "display_data"
    }
   ],
   "source": [
    "table_weekday_spb = cityCenters_nearest_spb.pivot_table(index = 'weekday', values = 'price_square_meter', aggfunc = ['mean', 'count', 'median'])\n",
    "table_weekday_spb.columns = ['mean', 'count', 'median']\n",
    "table_weekday_spb.plot(y = 'median',grid=True)\n",
    "#Ситуация в СПб отличается от общей выборки. Наименьшая цена в четверг, нивысшая цена в субботу и в понедельник. "
   ]
  },
  {
   "cell_type": "code",
   "execution_count": 33,
   "metadata": {},
   "outputs": [
    {
     "data": {
      "text/plain": [
       "<matplotlib.axes._subplots.AxesSubplot at 0x7f1bcdb28e50>"
      ]
     },
     "execution_count": 33,
     "metadata": {},
     "output_type": "execute_result"
    },
    {
     "data": {
      "image/png": "[encoded data removed]",
      "text/plain": [
       "<Figure size 432x288 with 1 Axes>"
      ]
     },
     "metadata": {
      "needs_background": "light"
     },
     "output_type": "display_data"
    }
   ],
   "source": [
    "table_month_spb = cityCenters_nearest_spb.pivot_table(index = 'month', values = 'price_square_meter', aggfunc = ['mean', 'count', 'median'])\n",
    "table_month_spb.columns = ['mean', 'count', 'median']\n",
    "table_month_spb.plot(y = 'median',grid=True)\n",
    "#Данные, аналогичны общей выборке, видна сезонность. "
   ]
  },
  {
   "cell_type": "code",
   "execution_count": 34,
   "metadata": {},
   "outputs": [
    {
     "data": {
      "text/plain": [
       "<matplotlib.axes._subplots.AxesSubplot at 0x7f1bcdcadb10>"
      ]
     },
     "execution_count": 34,
     "metadata": {},
     "output_type": "execute_result"
    },
    {
     "data": {
      "image/png": "[encoded data removed]",
      "text/plain": [
       "<Figure size 432x288 with 1 Axes>"
      ]
     },
     "metadata": {
      "needs_background": "light"
     },
     "output_type": "display_data"
    }
   ],
   "source": [
    "table_year_spb = cityCenters_nearest_spb.pivot_table(index = 'year', values = 'price_square_meter', aggfunc = ['mean', 'count', 'median'])\n",
    "table_year_spb.columns = ['mean', 'count', 'median']\n",
    "table_year_spb.plot(y = 'median',grid=True)\n",
    "#Данные отличаются от общей выборки. В СПб падение цен было до 2015 года, после чего виден тренд на рост, при чем не резкий. "
   ]
  },
  {
   "cell_type": "markdown",
   "metadata": {},
   "source": [
    "## Общий вывод"
   ]
  },
  {
   "cell_type": "markdown",
   "metadata": {},
   "source": [
    "1. При ознакомлении с данными были выявлены пропуски и аномалии, которые в дальнейшем были обработаны. \n",
    "\n",
    "2. Были обработаны пропуски в столбцах, которые были необходимы для анализа данных. Также, были обработаны аномалии и выбросы. \n",
    "\n",
    "3. Также, были расчитаны стоимость квадратного метра, отношения жилой и общей площади, кухни и общей площади. Добавлены дни, месяцы и года публикации объявлений, категории этажности. \n",
    "\n",
    "4. Исследовательский анализ выявил: \n",
    "    a. Средняя продолжительность публикации объявлений составляет четь более 90 дней. \n",
    "    b. Выявлена зависимость между стоимости квартиры от площади, количества комнат и отдалению от центра. \n",
    "    c. Также, выявлена зависимость от этажа. Первый этаж дешевле остальных. \n",
    "    d. В связи с кризисом, был выявлен тренд на снижение стоимости квартир с 2014 по 2017 год. \n",
    "    e. Выявлена сезонность увеличения и спада цен на недвижимость. Летом спад, в апреле рост. \n",
    "    f. Квартиры выставляются дешевле в восересенье, дороже во вторник. Предположительно, это связано с увеичением спроса на просмотр предложений в воскресенье. \n",
    "    g. Согласно выборки, самые дорогие квартиры находятся в СПб, самые дешевые в Выборге. \n",
    "    h. Граница центра для СПб была определена 3-мя километрами. \n",
    "    i. По СПб практически все данные сходтся с общей выборкой. \n",
    "    j. Стомисоть квартир в СПб\n",
    "    \n",
    "10. Стоимость квартир в центре также зависит от количества комнат, от этажа (на первом - дешевле), а от удаленности цена квартиры не зависит, в отличие от квартир из всей выборки.\n",
    "11. Стоимость квартир в центре Санкт-Петербурга также упала с 2014 года.\n",
    "12. По самой дешевой цене квартиры продаются в декабре, по самой дорогой - в сентябре\n",
    "13. Квартиры, размещаемые на продажу по четвергам продаются дешевле, чем в остальные дни. Пик стоимости приходится на воскресенье"
   ]
  },
  {
   "cell_type": "markdown",
   "metadata": {},
   "source": [
    "## Чек-лист готовности проекта\n",
    "\n",
    "Поставьте 'x' в выполненных пунктах. Далее нажмите Shift+Enter."
   ]
  },
  {
   "cell_type": "markdown",
   "metadata": {},
   "source": [
    "- [x]  открыт файл\n",
    "- [x]  файлы изучены (выведены первые строки, метод info())\n",
    "- [x]  определены пропущенные значения\n",
    "- [x]  заполнены пропущенные значения\n",
    "- [x]  есть пояснение, какие пропущенные значения обнаружены\n",
    "- [x]  изменены типы данных\n",
    "- [x]  есть пояснение, в каких столбцах изменены типы и почему\n",
    "- [x]  посчитано и добавлено в таблицу: цена квадратного метра\n",
    "- [x]  посчитано и добавлено в таблицу: день недели, месяц и год публикации объявления\n",
    "- [x]  посчитано и добавлено в таблицу: этаж квартиры; варианты — первый, последний, другой\n",
    "- [x]  посчитано и добавлено в таблицу: соотношение жилой и общей площади, а также отношение площади кухни к общей\n",
    "- [x]  изучены следующие параметры: площадь, цена, число комнат, высота потолков\n",
    "- [x]  построены гистограммы для каждого параметра\n",
    "- [x]  выполнено задание: \"Изучите время продажи квартиры. Постройте гистограмму. Посчитайте среднее и медиану. Опишите, сколько обычно занимает продажа. Когда можно считать, что продажи прошли очень быстро, а когда необычно долго?\"\n",
    "- [x]  выполнено задание: \"Уберите редкие и выбивающиеся значения. Опишите, какие особенности обнаружили.\"\n",
    "- [x]  выполнено задание: \"Какие факторы больше всего влияют на стоимость квартиры? Изучите, зависит ли цена от квадратного метра, числа комнат, этажа (первого или последнего), удалённости от центра. Также изучите зависимость от даты размещения: дня недели, месяца и года. \"Выберите 10 населённых пунктов с наибольшим числом объявлений. Посчитайте среднюю цену квадратного метра в этих населённых пунктах. Выделите населённые пункты с самой высокой и низкой стоимостью жилья. Эти данные можно найти по имени в столбце '*locality_name'*. \"\n",
    "- [x]  выполнено задание: \"Изучите предложения квартир: для каждой квартиры есть информация о расстоянии до центра. Выделите квартиры в Санкт-Петербурге (*'locality_name'*). Ваша задача — выяснить, какая область входит в центр. Создайте столбец с расстоянием до центра в километрах: округлите до целых значений. После этого посчитайте среднюю цену для каждого километра. Постройте график: он должен показывать, как цена зависит от удалённости от центра. Определите границу, где график сильно меняется — это и будет центральная зона. \"\n",
    "- [x]  выполнено задание: \"Выделите сегмент квартир в центре. Проанализируйте эту территорию и изучите следующие параметры: площадь, цена, число комнат, высота потолков. Также выделите факторы, которые влияют на стоимость квартиры (число комнат, этаж, удалённость от центра, дата размещения объявления). Сделайте выводы. Отличаются ли они от общих выводов по всему городу?\"\n",
    "- [x]  в каждом этапе есть выводы\n",
    "- [x]  есть общий вывод"
   ]
  },
  {
   "cell_type": "code",
   "execution_count": null,
   "metadata": {},
   "outputs": [],
   "source": []
  }
 ],
 "metadata": {
  "ExecuteTimeLog": [
   {
    "duration": 661,
    "start_time": "2021-10-05T19:00:34.021Z"
   },
   {
    "duration": 370,
    "start_time": "2021-10-05T19:00:44.301Z"
   },
   {
    "duration": 89,
    "start_time": "2021-10-05T19:00:51.918Z"
   },
   {
    "duration": 63,
    "start_time": "2021-10-05T19:01:12.650Z"
   },
   {
    "duration": 109,
    "start_time": "2021-10-05T19:02:22.027Z"
   },
   {
    "duration": 78,
    "start_time": "2021-10-05T19:02:50.275Z"
   },
   {
    "duration": 89,
    "start_time": "2021-10-05T19:05:16.784Z"
   },
   {
    "duration": 65,
    "start_time": "2021-10-05T19:05:25.972Z"
   },
   {
    "duration": 61,
    "start_time": "2021-10-05T19:05:31.416Z"
   },
   {
    "duration": 61,
    "start_time": "2021-10-05T19:05:43.695Z"
   },
   {
    "duration": 86,
    "start_time": "2021-10-05T19:05:51.334Z"
   },
   {
    "duration": 118,
    "start_time": "2021-10-05T19:05:55.295Z"
   },
   {
    "duration": 79,
    "start_time": "2021-10-05T19:06:06.755Z"
   },
   {
    "duration": -48,
    "start_time": "2021-10-05T19:08:02.805Z"
   },
   {
    "duration": 3620,
    "start_time": "2021-10-05T19:08:07.075Z"
   },
   {
    "duration": 901,
    "start_time": "2021-10-05T19:08:15.686Z"
   },
   {
    "duration": 57,
    "start_time": "2021-10-05T19:08:39.840Z"
   },
   {
    "duration": 79,
    "start_time": "2021-10-05T19:08:48.904Z"
   },
   {
    "duration": 62,
    "start_time": "2021-10-05T19:08:58.472Z"
   },
   {
    "duration": 61,
    "start_time": "2021-10-05T19:09:45.125Z"
   },
   {
    "duration": 62,
    "start_time": "2021-10-05T19:09:52.406Z"
   },
   {
    "duration": 82,
    "start_time": "2021-10-05T19:10:13.198Z"
   },
   {
    "duration": 84,
    "start_time": "2021-10-05T19:10:24.605Z"
   },
   {
    "duration": 74,
    "start_time": "2021-10-05T19:10:38.734Z"
   },
   {
    "duration": 86,
    "start_time": "2021-10-05T19:14:10.272Z"
   },
   {
    "duration": 78,
    "start_time": "2021-10-05T19:14:21.980Z"
   },
   {
    "duration": 128,
    "start_time": "2021-10-05T19:16:11.832Z"
   },
   {
    "duration": 79,
    "start_time": "2021-10-05T19:16:15.903Z"
   },
   {
    "duration": 85,
    "start_time": "2021-10-05T19:16:24.892Z"
   },
   {
    "duration": 104,
    "start_time": "2021-10-05T19:20:08.532Z"
   },
   {
    "duration": 77,
    "start_time": "2021-10-05T19:20:25.420Z"
   },
   {
    "duration": 85,
    "start_time": "2021-10-05T19:20:44.381Z"
   },
   {
    "duration": 99,
    "start_time": "2021-10-05T19:20:51.011Z"
   },
   {
    "duration": 70,
    "start_time": "2021-10-05T19:21:13.948Z"
   },
   {
    "duration": 93,
    "start_time": "2021-10-05T19:21:37.928Z"
   },
   {
    "duration": 72,
    "start_time": "2021-10-05T19:23:41.279Z"
   },
   {
    "duration": 82,
    "start_time": "2021-10-05T19:26:32.747Z"
   },
   {
    "duration": 92,
    "start_time": "2021-10-05T19:26:51.810Z"
   },
   {
    "duration": 90,
    "start_time": "2021-10-05T19:27:13.129Z"
   },
   {
    "duration": 90,
    "start_time": "2021-10-05T19:27:55.987Z"
   },
   {
    "duration": 78,
    "start_time": "2021-10-05T19:28:51.157Z"
   },
   {
    "duration": 73,
    "start_time": "2021-10-05T19:28:59.752Z"
   },
   {
    "duration": 74,
    "start_time": "2021-10-05T19:29:13.650Z"
   },
   {
    "duration": 90,
    "start_time": "2021-10-05T19:30:18.894Z"
   },
   {
    "duration": 85,
    "start_time": "2021-10-05T19:32:07.691Z"
   },
   {
    "duration": 77,
    "start_time": "2021-10-05T19:32:26.063Z"
   },
   {
    "duration": 80,
    "start_time": "2021-10-05T19:32:59.068Z"
   },
   {
    "duration": 92,
    "start_time": "2021-10-05T19:33:31.709Z"
   },
   {
    "duration": 88,
    "start_time": "2021-10-05T19:33:47.819Z"
   },
   {
    "duration": 8,
    "start_time": "2021-10-05T19:52:39.677Z"
   },
   {
    "duration": 30,
    "start_time": "2021-10-05T19:54:41.241Z"
   },
   {
    "duration": 21,
    "start_time": "2021-10-05T19:55:50.591Z"
   },
   {
    "duration": 5,
    "start_time": "2021-10-05T19:56:23.953Z"
   },
   {
    "duration": 8,
    "start_time": "2021-10-05T20:08:07.211Z"
   },
   {
    "duration": 7,
    "start_time": "2021-10-05T20:10:11.863Z"
   },
   {
    "duration": 423,
    "start_time": "2021-10-06T18:28:57.271Z"
   },
   {
    "duration": 896,
    "start_time": "2021-10-06T18:29:11.793Z"
   },
   {
    "duration": 16,
    "start_time": "2021-10-06T18:29:17.022Z"
   },
   {
    "duration": 158,
    "start_time": "2021-10-06T18:36:18.608Z"
   },
   {
    "duration": 10,
    "start_time": "2021-10-06T18:37:04.496Z"
   },
   {
    "duration": 328,
    "start_time": "2021-10-06T18:43:49.657Z"
   },
   {
    "duration": 211,
    "start_time": "2021-10-06T18:44:21.563Z"
   },
   {
    "duration": 203,
    "start_time": "2021-10-06T18:44:26.575Z"
   },
   {
    "duration": 257,
    "start_time": "2021-10-06T18:47:39.740Z"
   },
   {
    "duration": 560,
    "start_time": "2021-10-06T18:56:54.724Z"
   },
   {
    "duration": 528,
    "start_time": "2021-10-06T18:57:09.103Z"
   },
   {
    "duration": 547,
    "start_time": "2021-10-06T18:57:28.045Z"
   },
   {
    "duration": 213,
    "start_time": "2021-10-06T19:00:44.613Z"
   },
   {
    "duration": 1834,
    "start_time": "2021-10-06T19:08:02.662Z"
   },
   {
    "duration": 247,
    "start_time": "2021-10-06T19:08:27.026Z"
   },
   {
    "duration": 553,
    "start_time": "2021-10-06T19:08:43.784Z"
   },
   {
    "duration": 251,
    "start_time": "2021-10-06T19:09:00.498Z"
   },
   {
    "duration": 230,
    "start_time": "2021-10-06T19:09:18.565Z"
   },
   {
    "duration": 324,
    "start_time": "2021-10-06T19:09:36.616Z"
   },
   {
    "duration": 437,
    "start_time": "2021-10-06T19:10:55.313Z"
   },
   {
    "duration": 30,
    "start_time": "2021-10-06T19:11:45.180Z"
   },
   {
    "duration": 336,
    "start_time": "2021-10-06T19:21:46.951Z"
   },
   {
    "duration": 342,
    "start_time": "2021-10-06T19:22:17.521Z"
   },
   {
    "duration": 32,
    "start_time": "2021-10-06T19:22:36.260Z"
   },
   {
    "duration": 31,
    "start_time": "2021-10-06T19:22:54.091Z"
   },
   {
    "duration": 36,
    "start_time": "2021-10-06T19:23:52.192Z"
   },
   {
    "duration": 1422,
    "start_time": "2021-10-06T19:24:23.082Z"
   },
   {
    "duration": 1239,
    "start_time": "2021-10-06T19:24:38.717Z"
   },
   {
    "duration": 1301,
    "start_time": "2021-10-06T19:25:05.848Z"
   },
   {
    "duration": 1331,
    "start_time": "2021-10-06T19:25:21.482Z"
   },
   {
    "duration": 1525,
    "start_time": "2021-10-06T19:25:36.617Z"
   },
   {
    "duration": 1384,
    "start_time": "2021-10-06T19:26:04.971Z"
   },
   {
    "duration": 109,
    "start_time": "2021-10-06T19:26:32.357Z"
   },
   {
    "duration": -38,
    "start_time": "2021-10-06T19:26:32.507Z"
   },
   {
    "duration": -56,
    "start_time": "2021-10-06T19:26:32.526Z"
   },
   {
    "duration": 795,
    "start_time": "2021-10-06T19:30:38.295Z"
   },
   {
    "duration": 147,
    "start_time": "2021-10-06T19:30:42.935Z"
   },
   {
    "duration": 1436,
    "start_time": "2021-10-06T19:31:17.755Z"
   },
   {
    "duration": 1279,
    "start_time": "2021-10-06T19:31:54.526Z"
   },
   {
    "duration": 564,
    "start_time": "2021-10-06T19:32:07.826Z"
   },
   {
    "duration": 828,
    "start_time": "2021-10-06T19:32:28.686Z"
   },
   {
    "duration": 774,
    "start_time": "2021-10-06T19:32:29.516Z"
   },
   {
    "duration": 244,
    "start_time": "2021-10-06T19:33:29.007Z"
   },
   {
    "duration": 579,
    "start_time": "2021-10-06T19:34:08.122Z"
   },
   {
    "duration": 1084,
    "start_time": "2021-10-06T19:34:19.162Z"
   },
   {
    "duration": 868,
    "start_time": "2021-10-06T19:34:20.248Z"
   },
   {
    "duration": 1357,
    "start_time": "2021-10-06T19:34:38.112Z"
   },
   {
    "duration": 878,
    "start_time": "2021-10-06T19:34:46.239Z"
   },
   {
    "duration": 844,
    "start_time": "2021-10-06T19:34:47.120Z"
   },
   {
    "duration": 625,
    "start_time": "2021-10-06T19:35:03.764Z"
   },
   {
    "duration": 861,
    "start_time": "2021-10-06T19:35:12.070Z"
   },
   {
    "duration": 359,
    "start_time": "2021-10-06T19:35:12.934Z"
   },
   {
    "duration": 698,
    "start_time": "2021-10-06T19:36:11.860Z"
   },
   {
    "duration": 1113,
    "start_time": "2021-10-06T19:36:19.959Z"
   },
   {
    "duration": 886,
    "start_time": "2021-10-06T19:36:21.075Z"
   },
   {
    "duration": 721,
    "start_time": "2021-10-06T19:37:09.585Z"
   },
   {
    "duration": 915,
    "start_time": "2021-10-06T19:37:16.754Z"
   },
   {
    "duration": 787,
    "start_time": "2021-10-06T19:37:17.672Z"
   },
   {
    "duration": 1496,
    "start_time": "2021-10-06T19:37:36.336Z"
   },
   {
    "duration": 1496,
    "start_time": "2021-10-06T19:38:30.915Z"
   },
   {
    "duration": 119,
    "start_time": "2021-10-06T19:39:15.850Z"
   },
   {
    "duration": 325,
    "start_time": "2021-10-06T19:39:30.213Z"
   },
   {
    "duration": 274,
    "start_time": "2021-10-06T19:40:03.039Z"
   },
   {
    "duration": 224,
    "start_time": "2021-10-06T19:40:38.782Z"
   },
   {
    "duration": 235,
    "start_time": "2021-10-06T19:41:16.239Z"
   },
   {
    "duration": 226,
    "start_time": "2021-10-06T19:41:57.599Z"
   },
   {
    "duration": 840,
    "start_time": "2021-10-06T19:42:08.511Z"
   },
   {
    "duration": 1692,
    "start_time": "2021-10-06T19:42:09.354Z"
   },
   {
    "duration": 256,
    "start_time": "2021-10-06T19:42:33.980Z"
   },
   {
    "duration": 1094,
    "start_time": "2021-10-06T19:44:09.581Z"
   },
   {
    "duration": 1011,
    "start_time": "2021-10-06T19:44:19.168Z"
   },
   {
    "duration": 565,
    "start_time": "2021-10-06T19:44:20.182Z"
   },
   {
    "duration": 261,
    "start_time": "2021-10-06T19:46:09.540Z"
   },
   {
    "duration": 253,
    "start_time": "2021-10-06T19:46:24.733Z"
   },
   {
    "duration": 513,
    "start_time": "2021-10-06T19:47:03.950Z"
   },
   {
    "duration": 103,
    "start_time": "2021-10-06T19:50:48.222Z"
   },
   {
    "duration": 464,
    "start_time": "2021-10-06T19:50:54.667Z"
   },
   {
    "duration": 466,
    "start_time": "2021-10-06T19:51:22.598Z"
   },
   {
    "duration": 853,
    "start_time": "2021-10-06T19:51:29.253Z"
   },
   {
    "duration": 585,
    "start_time": "2021-10-06T19:51:30.108Z"
   },
   {
    "duration": 516,
    "start_time": "2021-10-06T19:51:49.274Z"
   },
   {
    "duration": 458,
    "start_time": "2021-10-06T19:53:46.962Z"
   },
   {
    "duration": 868,
    "start_time": "2021-10-06T19:53:57.857Z"
   },
   {
    "duration": 553,
    "start_time": "2021-10-06T19:53:58.727Z"
   },
   {
    "duration": 515,
    "start_time": "2021-10-06T19:58:06.881Z"
   },
   {
    "duration": 465,
    "start_time": "2021-10-06T19:59:13.025Z"
   },
   {
    "duration": 456,
    "start_time": "2021-10-06T19:59:46.878Z"
   },
   {
    "duration": 713,
    "start_time": "2021-10-06T20:03:10.155Z"
   },
   {
    "duration": 685,
    "start_time": "2021-10-06T20:03:48.112Z"
   },
   {
    "duration": 1403,
    "start_time": "2021-10-06T20:06:16.111Z"
   },
   {
    "duration": 1239,
    "start_time": "2021-10-06T20:06:24.703Z"
   },
   {
    "duration": 864,
    "start_time": "2021-10-06T20:06:32.743Z"
   },
   {
    "duration": 1485,
    "start_time": "2021-10-06T20:06:33.610Z"
   },
   {
    "duration": 1229,
    "start_time": "2021-10-06T20:06:58.973Z"
   },
   {
    "duration": 111,
    "start_time": "2021-10-06T20:08:25.948Z"
   },
   {
    "duration": 672,
    "start_time": "2021-10-06T20:08:33.781Z"
   },
   {
    "duration": 682,
    "start_time": "2021-10-06T20:08:52.422Z"
   },
   {
    "duration": 1064,
    "start_time": "2021-10-06T20:09:24.503Z"
   },
   {
    "duration": 687,
    "start_time": "2021-10-06T20:09:33.494Z"
   },
   {
    "duration": 668,
    "start_time": "2021-10-06T20:09:55.910Z"
   },
   {
    "duration": 1101,
    "start_time": "2021-10-06T20:10:55.274Z"
   },
   {
    "duration": 1011,
    "start_time": "2021-10-06T20:11:04.059Z"
   },
   {
    "duration": 122,
    "start_time": "2021-10-06T20:12:20.706Z"
   },
   {
    "duration": 676,
    "start_time": "2021-10-06T20:12:30.934Z"
   },
   {
    "duration": 676,
    "start_time": "2021-10-06T20:13:22.491Z"
   },
   {
    "duration": 731,
    "start_time": "2021-10-06T20:13:40.907Z"
   },
   {
    "duration": 1088,
    "start_time": "2021-10-06T20:15:51.502Z"
   },
   {
    "duration": 929,
    "start_time": "2021-10-06T20:16:10.405Z"
   },
   {
    "duration": 985,
    "start_time": "2021-10-06T20:16:55.810Z"
   },
   {
    "duration": 908,
    "start_time": "2021-10-06T20:20:13.764Z"
   },
   {
    "duration": 1019,
    "start_time": "2021-10-06T20:20:34.657Z"
   },
   {
    "duration": 1434,
    "start_time": "2021-10-06T20:23:34.222Z"
   },
   {
    "duration": 1227,
    "start_time": "2021-10-06T20:23:43.271Z"
   },
   {
    "duration": 993,
    "start_time": "2021-10-06T20:24:06.735Z"
   },
   {
    "duration": 909,
    "start_time": "2021-10-06T20:29:59.718Z"
   },
   {
    "duration": 997,
    "start_time": "2021-10-06T20:30:17.075Z"
   },
   {
    "duration": 1245,
    "start_time": "2021-10-06T20:30:32.639Z"
   },
   {
    "duration": 1330,
    "start_time": "2021-10-06T20:35:12.435Z"
   },
   {
    "duration": 1180,
    "start_time": "2021-10-06T20:35:37.426Z"
   },
   {
    "duration": 1200,
    "start_time": "2021-10-06T20:39:36.012Z"
   },
   {
    "duration": 1137,
    "start_time": "2021-10-06T20:45:29.225Z"
   },
   {
    "duration": 1403,
    "start_time": "2021-10-06T20:46:46.981Z"
   },
   {
    "duration": 1345,
    "start_time": "2021-10-06T20:49:06.958Z"
   },
   {
    "duration": 1827,
    "start_time": "2021-10-06T20:49:41.849Z"
   },
   {
    "duration": 1413,
    "start_time": "2021-10-06T20:50:38.627Z"
   },
   {
    "duration": 167,
    "start_time": "2021-10-12T16:54:19.100Z"
   },
   {
    "duration": 130,
    "start_time": "2021-10-12T16:54:38.353Z"
   },
   {
    "duration": 619,
    "start_time": "2021-10-12T16:54:48.068Z"
   },
   {
    "duration": 1037,
    "start_time": "2021-10-12T16:54:48.689Z"
   },
   {
    "duration": 5,
    "start_time": "2021-10-12T16:54:49.729Z"
   },
   {
    "duration": 4,
    "start_time": "2021-10-12T16:54:55.748Z"
   },
   {
    "duration": 12,
    "start_time": "2021-10-12T16:55:07.441Z"
   },
   {
    "duration": 15,
    "start_time": "2021-10-12T16:55:27.159Z"
   },
   {
    "duration": 25,
    "start_time": "2021-10-12T16:55:34.008Z"
   },
   {
    "duration": 193,
    "start_time": "2021-10-12T16:57:53.085Z"
   },
   {
    "duration": 138,
    "start_time": "2021-10-12T16:58:27.442Z"
   },
   {
    "duration": 146,
    "start_time": "2021-10-12T17:00:21.167Z"
   },
   {
    "duration": 3732,
    "start_time": "2021-10-12T17:02:44.840Z"
   },
   {
    "duration": 32,
    "start_time": "2021-10-12T17:03:21.023Z"
   },
   {
    "duration": 151,
    "start_time": "2021-10-12T17:07:43.216Z"
   },
   {
    "duration": 563,
    "start_time": "2021-10-12T17:07:59.583Z"
   },
   {
    "duration": 526,
    "start_time": "2021-10-12T17:10:36.700Z"
   },
   {
    "duration": 593,
    "start_time": "2021-10-12T17:10:50.284Z"
   },
   {
    "duration": 546,
    "start_time": "2021-10-12T17:11:41.815Z"
   },
   {
    "duration": 558,
    "start_time": "2021-10-12T17:14:13.782Z"
   },
   {
    "duration": 353,
    "start_time": "2021-10-12T17:16:30.951Z"
   },
   {
    "duration": 125,
    "start_time": "2021-10-12T17:17:14.173Z"
   },
   {
    "duration": 139,
    "start_time": "2021-10-12T17:17:18.666Z"
   },
   {
    "duration": 295,
    "start_time": "2021-10-12T17:17:24.564Z"
   },
   {
    "duration": 602,
    "start_time": "2021-10-12T17:17:55.780Z"
   },
   {
    "duration": 319,
    "start_time": "2021-10-12T17:18:01.552Z"
   },
   {
    "duration": 350,
    "start_time": "2021-10-12T17:18:09.130Z"
   },
   {
    "duration": 165,
    "start_time": "2021-10-12T17:18:18.761Z"
   },
   {
    "duration": 421,
    "start_time": "2021-10-12T17:18:35.629Z"
   },
   {
    "duration": 419,
    "start_time": "2021-10-12T17:19:03.651Z"
   },
   {
    "duration": 894,
    "start_time": "2021-10-12T17:20:11.617Z"
   },
   {
    "duration": 830,
    "start_time": "2021-10-12T17:20:34.195Z"
   },
   {
    "duration": 424,
    "start_time": "2021-10-12T17:20:39.610Z"
   },
   {
    "duration": 440,
    "start_time": "2021-10-12T17:21:40.361Z"
   },
   {
    "duration": 431,
    "start_time": "2021-10-12T17:21:57.754Z"
   },
   {
    "duration": 957,
    "start_time": "2021-10-12T17:22:05.320Z"
   },
   {
    "duration": 1279,
    "start_time": "2021-10-12T17:23:29.774Z"
   },
   {
    "duration": 1411,
    "start_time": "2021-10-12T17:23:39.175Z"
   },
   {
    "duration": 1223,
    "start_time": "2021-10-12T17:23:57.533Z"
   },
   {
    "duration": 1180,
    "start_time": "2021-10-12T17:24:09.943Z"
   },
   {
    "duration": 1284,
    "start_time": "2021-10-12T17:24:23.245Z"
   },
   {
    "duration": 1469,
    "start_time": "2021-10-12T17:25:23.107Z"
   },
   {
    "duration": 1525,
    "start_time": "2021-10-12T17:26:24.096Z"
   },
   {
    "duration": 1436,
    "start_time": "2021-10-12T17:27:20.161Z"
   },
   {
    "duration": 623,
    "start_time": "2021-10-12T19:20:11.677Z"
   },
   {
    "duration": 959,
    "start_time": "2021-10-12T19:20:12.302Z"
   },
   {
    "duration": 556,
    "start_time": "2021-10-12T19:20:13.263Z"
   },
   {
    "duration": 1418,
    "start_time": "2021-10-12T19:20:13.821Z"
   },
   {
    "duration": 837,
    "start_time": "2021-10-14T10:35:28.680Z"
   },
   {
    "duration": 1653,
    "start_time": "2021-10-14T10:35:29.520Z"
   },
   {
    "duration": 996,
    "start_time": "2021-10-14T10:35:31.176Z"
   },
   {
    "duration": 96,
    "start_time": "2021-10-14T10:35:32.175Z"
   },
   {
    "duration": 2932,
    "start_time": "2021-10-14T13:49:41.239Z"
   },
   {
    "duration": 765,
    "start_time": "2021-10-23T12:38:04.705Z"
   },
   {
    "duration": 1138,
    "start_time": "2021-10-23T12:38:05.476Z"
   },
   {
    "duration": 678,
    "start_time": "2021-10-23T12:38:06.616Z"
   },
   {
    "duration": 1562,
    "start_time": "2021-10-23T12:38:07.296Z"
   },
   {
    "duration": 551,
    "start_time": "2021-10-23T12:39:47.182Z"
   },
   {
    "duration": 699,
    "start_time": "2021-10-23T12:40:02.258Z"
   },
   {
    "duration": 743,
    "start_time": "2021-10-23T12:40:36.903Z"
   },
   {
    "duration": 640,
    "start_time": "2021-10-23T12:40:46.936Z"
   },
   {
    "duration": 882,
    "start_time": "2021-10-23T12:41:02.952Z"
   },
   {
    "duration": 679,
    "start_time": "2021-10-23T12:43:36.907Z"
   },
   {
    "duration": 315,
    "start_time": "2021-10-23T12:50:14.166Z"
   },
   {
    "duration": 6,
    "start_time": "2021-10-23T12:50:24.255Z"
   },
   {
    "duration": 228,
    "start_time": "2021-10-23T12:55:39.786Z"
   },
   {
    "duration": 157,
    "start_time": "2021-10-23T12:55:48.749Z"
   },
   {
    "duration": 149,
    "start_time": "2021-10-23T13:03:32.087Z"
   },
   {
    "duration": 375,
    "start_time": "2021-10-23T13:07:02.336Z"
   },
   {
    "duration": 605,
    "start_time": "2021-10-23T13:07:23.246Z"
   },
   {
    "duration": 118,
    "start_time": "2021-10-23T13:20:32.497Z"
   },
   {
    "duration": 82,
    "start_time": "2021-10-23T13:20:36.256Z"
   },
   {
    "duration": 97,
    "start_time": "2021-10-23T13:20:43.806Z"
   },
   {
    "duration": 78,
    "start_time": "2021-10-23T13:21:17.376Z"
   },
   {
    "duration": 84,
    "start_time": "2021-10-23T13:21:30.656Z"
   },
   {
    "duration": 80,
    "start_time": "2021-10-23T13:21:47.175Z"
   },
   {
    "duration": 617,
    "start_time": "2021-10-23T13:22:04.111Z"
   },
   {
    "duration": 1008,
    "start_time": "2021-10-23T13:22:04.730Z"
   },
   {
    "duration": 609,
    "start_time": "2021-10-23T13:22:05.741Z"
   },
   {
    "duration": 1433,
    "start_time": "2021-10-23T13:22:06.353Z"
   },
   {
    "duration": 81,
    "start_time": "2021-10-23T13:22:07.788Z"
   },
   {
    "duration": 75,
    "start_time": "2021-10-23T13:22:22.565Z"
   },
   {
    "duration": 79,
    "start_time": "2021-10-23T13:22:37.895Z"
   },
   {
    "duration": 78,
    "start_time": "2021-10-23T13:23:15.435Z"
   },
   {
    "duration": 79,
    "start_time": "2021-10-23T13:25:04.424Z"
   },
   {
    "duration": 232,
    "start_time": "2021-10-23T13:25:24.918Z"
   },
   {
    "duration": 89,
    "start_time": "2021-10-23T13:25:34.359Z"
   },
   {
    "duration": 75,
    "start_time": "2021-10-23T13:25:42.140Z"
   },
   {
    "duration": 74,
    "start_time": "2021-10-23T13:25:49.391Z"
   },
   {
    "duration": 510,
    "start_time": "2021-10-23T13:41:22.785Z"
   },
   {
    "duration": 512,
    "start_time": "2021-10-23T13:41:36.134Z"
   },
   {
    "duration": 648,
    "start_time": "2021-10-23T13:41:56.130Z"
   },
   {
    "duration": 704,
    "start_time": "2021-10-23T13:42:42.114Z"
   },
   {
    "duration": 831,
    "start_time": "2021-10-23T13:47:18.053Z"
   },
   {
    "duration": 721,
    "start_time": "2021-10-23T13:50:50.175Z"
   },
   {
    "duration": 740,
    "start_time": "2021-10-23T13:51:21.262Z"
   },
   {
    "duration": 1154,
    "start_time": "2021-10-23T13:53:49.685Z"
   },
   {
    "duration": 101,
    "start_time": "2021-10-23T13:58:17.947Z"
   },
   {
    "duration": 712,
    "start_time": "2021-10-23T14:00:55.152Z"
   },
   {
    "duration": 692,
    "start_time": "2021-10-23T14:01:21.975Z"
   },
   {
    "duration": 751,
    "start_time": "2021-10-23T14:01:41.614Z"
   },
   {
    "duration": 672,
    "start_time": "2021-10-23T14:09:45.464Z"
   },
   {
    "duration": 11,
    "start_time": "2021-10-23T14:10:45.925Z"
   },
   {
    "duration": 515,
    "start_time": "2021-10-23T14:16:37.374Z"
   },
   {
    "duration": 818,
    "start_time": "2021-10-23T14:17:21.476Z"
   },
   {
    "duration": 905,
    "start_time": "2021-10-23T14:17:34.426Z"
   },
   {
    "duration": 627,
    "start_time": "2021-10-23T14:17:53.485Z"
   },
   {
    "duration": 556,
    "start_time": "2021-10-23T14:17:59.845Z"
   },
   {
    "duration": 538,
    "start_time": "2021-10-23T14:18:17.905Z"
   },
   {
    "duration": 629,
    "start_time": "2021-10-23T14:19:25.404Z"
   },
   {
    "duration": 1676,
    "start_time": "2021-10-23T14:19:48.366Z"
   },
   {
    "duration": 646,
    "start_time": "2021-10-23T14:20:34.565Z"
   },
   {
    "duration": 700,
    "start_time": "2021-10-23T14:21:26.175Z"
   },
   {
    "duration": 387,
    "start_time": "2021-10-23T14:22:02.156Z"
   },
   {
    "duration": 750,
    "start_time": "2021-10-23T14:22:32.266Z"
   },
   {
    "duration": 536,
    "start_time": "2021-10-23T14:24:06.585Z"
   },
   {
    "duration": 666,
    "start_time": "2021-10-23T14:24:30.396Z"
   },
   {
    "duration": 517,
    "start_time": "2021-10-23T14:24:38.595Z"
   },
   {
    "duration": 495,
    "start_time": "2021-10-23T14:25:16.545Z"
   },
   {
    "duration": 1613,
    "start_time": "2021-10-23T14:25:37.383Z"
   },
   {
    "duration": 488,
    "start_time": "2021-10-23T14:30:03.455Z"
   },
   {
    "duration": 2684,
    "start_time": "2021-10-23T14:30:24.564Z"
   },
   {
    "duration": 394,
    "start_time": "2021-10-23T14:32:59.196Z"
   },
   {
    "duration": 443,
    "start_time": "2021-10-23T14:33:06.525Z"
   },
   {
    "duration": 516,
    "start_time": "2021-10-23T14:33:15.725Z"
   },
   {
    "duration": 529,
    "start_time": "2021-10-23T14:33:34.885Z"
   },
   {
    "duration": 6811,
    "start_time": "2021-10-23T14:33:58.705Z"
   },
   {
    "duration": 371,
    "start_time": "2021-10-23T14:34:34.015Z"
   },
   {
    "duration": 392,
    "start_time": "2021-10-23T14:35:48.773Z"
   },
   {
    "duration": 458,
    "start_time": "2021-10-23T14:38:22.044Z"
   },
   {
    "duration": 381,
    "start_time": "2021-10-23T14:39:06.944Z"
   },
   {
    "duration": 5813,
    "start_time": "2021-10-23T14:54:10.404Z"
   },
   {
    "duration": 5610,
    "start_time": "2021-10-23T14:54:21.984Z"
   },
   {
    "duration": 5,
    "start_time": "2021-10-23T14:59:32.934Z"
   },
   {
    "duration": 325,
    "start_time": "2021-10-23T15:04:51.355Z"
   },
   {
    "duration": 245,
    "start_time": "2021-10-23T15:08:11.127Z"
   },
   {
    "duration": 192,
    "start_time": "2021-10-23T15:08:55.464Z"
   },
   {
    "duration": 268,
    "start_time": "2021-10-23T15:09:36.574Z"
   },
   {
    "duration": 190,
    "start_time": "2021-10-23T15:09:50.215Z"
   },
   {
    "duration": 208,
    "start_time": "2021-10-23T15:10:39.684Z"
   },
   {
    "duration": 205,
    "start_time": "2021-10-23T15:10:50.884Z"
   },
   {
    "duration": 198,
    "start_time": "2021-10-23T15:10:59.974Z"
   },
   {
    "duration": 181,
    "start_time": "2021-10-23T15:11:04.933Z"
   },
   {
    "duration": 185,
    "start_time": "2021-10-23T15:11:12.054Z"
   },
   {
    "duration": 268,
    "start_time": "2021-10-23T15:11:21.135Z"
   },
   {
    "duration": 972,
    "start_time": "2021-10-23T15:15:55.324Z"
   },
   {
    "duration": 180,
    "start_time": "2021-10-23T15:16:19.665Z"
   },
   {
    "duration": 172,
    "start_time": "2021-10-23T15:17:23.525Z"
   },
   {
    "duration": 176,
    "start_time": "2021-10-23T15:22:18.004Z"
   },
   {
    "duration": 266,
    "start_time": "2021-10-23T15:24:01.404Z"
   },
   {
    "duration": 251,
    "start_time": "2021-10-23T15:24:13.275Z"
   },
   {
    "duration": 205,
    "start_time": "2021-10-23T15:27:35.005Z"
   },
   {
    "duration": 201,
    "start_time": "2021-10-23T15:27:49.044Z"
   },
   {
    "duration": 197,
    "start_time": "2021-10-23T15:28:05.835Z"
   },
   {
    "duration": 209,
    "start_time": "2021-10-23T15:42:54.003Z"
   },
   {
    "duration": 242,
    "start_time": "2021-10-23T15:44:26.297Z"
   },
   {
    "duration": 187,
    "start_time": "2021-10-23T15:46:21.005Z"
   },
   {
    "duration": 272,
    "start_time": "2021-10-23T15:47:20.953Z"
   },
   {
    "duration": 191,
    "start_time": "2021-10-23T16:00:39.574Z"
   },
   {
    "duration": 197,
    "start_time": "2021-10-23T16:02:35.285Z"
   },
   {
    "duration": 293,
    "start_time": "2021-10-23T16:15:47.654Z"
   },
   {
    "duration": 26,
    "start_time": "2021-10-23T16:16:25.703Z"
   },
   {
    "duration": 6,
    "start_time": "2021-10-23T16:24:59.471Z"
   },
   {
    "duration": 6,
    "start_time": "2021-10-23T16:25:10.372Z"
   },
   {
    "duration": 292,
    "start_time": "2021-10-23T16:28:35.694Z"
   },
   {
    "duration": 304,
    "start_time": "2021-10-23T16:29:36.088Z"
   },
   {
    "duration": 238,
    "start_time": "2021-10-23T16:30:28.914Z"
   },
   {
    "duration": 557,
    "start_time": "2021-10-23T16:30:48.462Z"
   },
   {
    "duration": 239,
    "start_time": "2021-10-23T16:42:21.068Z"
   },
   {
    "duration": 17,
    "start_time": "2021-10-23T16:43:01.653Z"
   },
   {
    "duration": 36,
    "start_time": "2021-10-23T16:43:08.444Z"
   },
   {
    "duration": 24,
    "start_time": "2021-10-23T16:44:39.194Z"
   },
   {
    "duration": 294,
    "start_time": "2021-10-23T16:46:28.553Z"
   },
   {
    "duration": 677,
    "start_time": "2021-10-23T16:46:59.034Z"
   },
   {
    "duration": 990,
    "start_time": "2021-10-23T16:46:59.713Z"
   },
   {
    "duration": 598,
    "start_time": "2021-10-23T16:47:00.705Z"
   },
   {
    "duration": 1424,
    "start_time": "2021-10-23T16:47:01.305Z"
   },
   {
    "duration": 758,
    "start_time": "2021-10-23T16:47:02.730Z"
   },
   {
    "duration": 404,
    "start_time": "2021-10-23T16:47:03.489Z"
   },
   {
    "duration": 214,
    "start_time": "2021-10-23T16:47:03.895Z"
   },
   {
    "duration": 206,
    "start_time": "2021-10-23T16:47:04.112Z"
   },
   {
    "duration": 186,
    "start_time": "2021-10-23T16:47:04.320Z"
   },
   {
    "duration": 213,
    "start_time": "2021-10-23T16:47:04.508Z"
   },
   {
    "duration": 213,
    "start_time": "2021-10-23T16:47:04.723Z"
   },
   {
    "duration": 206,
    "start_time": "2021-10-23T16:47:04.937Z"
   },
   {
    "duration": 284,
    "start_time": "2021-10-23T16:47:05.145Z"
   },
   {
    "duration": 36,
    "start_time": "2021-10-23T16:47:05.431Z"
   },
   {
    "duration": 23,
    "start_time": "2021-10-23T16:47:05.469Z"
   },
   {
    "duration": 304,
    "start_time": "2021-10-23T16:48:27.944Z"
   },
   {
    "duration": 206,
    "start_time": "2021-10-23T16:48:45.772Z"
   },
   {
    "duration": 248,
    "start_time": "2021-10-23T16:51:05.353Z"
   },
   {
    "duration": 204,
    "start_time": "2021-10-23T16:51:35.473Z"
   },
   {
    "duration": 193,
    "start_time": "2021-10-23T16:53:10.703Z"
   },
   {
    "duration": 250,
    "start_time": "2021-10-23T16:53:33.613Z"
   },
   {
    "duration": 358,
    "start_time": "2021-10-23T16:53:46.713Z"
   },
   {
    "duration": 234,
    "start_time": "2021-10-23T16:56:50.954Z"
   },
   {
    "duration": 199,
    "start_time": "2021-10-23T16:59:46.925Z"
   },
   {
    "duration": 203,
    "start_time": "2021-10-23T17:00:04.073Z"
   },
   {
    "duration": 205,
    "start_time": "2021-10-23T17:03:41.973Z"
   },
   {
    "duration": 91,
    "start_time": "2021-10-23T17:06:57.083Z"
   },
   {
    "duration": 420,
    "start_time": "2021-10-23T17:06:59.692Z"
   },
   {
    "duration": 420,
    "start_time": "2021-10-23T17:08:17.694Z"
   },
   {
    "duration": 564,
    "start_time": "2021-10-23T17:09:51.404Z"
   },
   {
    "duration": 547,
    "start_time": "2021-10-23T17:10:12.873Z"
   },
   {
    "duration": 487,
    "start_time": "2021-10-23T17:23:56.626Z"
   },
   {
    "duration": 440,
    "start_time": "2021-10-23T17:24:43.453Z"
   },
   {
    "duration": 196,
    "start_time": "2021-10-23T17:25:50.323Z"
   },
   {
    "duration": 191,
    "start_time": "2021-10-23T17:40:57.540Z"
   },
   {
    "duration": 203,
    "start_time": "2021-10-23T17:43:48.449Z"
   },
   {
    "duration": 164,
    "start_time": "2021-10-23T18:01:43.193Z"
   },
   {
    "duration": 254,
    "start_time": "2021-10-23T18:06:44.089Z"
   },
   {
    "duration": 5655,
    "start_time": "2021-10-23T18:07:05.744Z"
   },
   {
    "duration": 224,
    "start_time": "2021-10-23T18:10:42.304Z"
   },
   {
    "duration": 287,
    "start_time": "2021-10-23T18:11:54.113Z"
   },
   {
    "duration": 183,
    "start_time": "2021-10-23T18:12:25.342Z"
   },
   {
    "duration": 197,
    "start_time": "2021-10-23T18:13:08.862Z"
   },
   {
    "duration": 498,
    "start_time": "2021-10-23T18:13:19.513Z"
   },
   {
    "duration": 204,
    "start_time": "2021-10-23T18:13:27.241Z"
   },
   {
    "duration": 294,
    "start_time": "2021-10-23T18:13:34.924Z"
   },
   {
    "duration": 202,
    "start_time": "2021-10-23T18:14:20.974Z"
   },
   {
    "duration": 6037,
    "start_time": "2021-10-23T18:16:42.853Z"
   },
   {
    "duration": 237,
    "start_time": "2021-10-23T18:17:13.322Z"
   },
   {
    "duration": 232,
    "start_time": "2021-10-23T18:17:43.003Z"
   },
   {
    "duration": 242,
    "start_time": "2021-10-23T18:18:47.493Z"
   },
   {
    "duration": 237,
    "start_time": "2021-10-23T18:20:08.602Z"
   },
   {
    "duration": 643,
    "start_time": "2021-10-23T18:24:59.906Z"
   },
   {
    "duration": 1017,
    "start_time": "2021-10-23T18:25:00.552Z"
   },
   {
    "duration": 591,
    "start_time": "2021-10-23T18:25:01.571Z"
   },
   {
    "duration": 1401,
    "start_time": "2021-10-23T18:25:02.165Z"
   },
   {
    "duration": 766,
    "start_time": "2021-10-23T18:25:03.568Z"
   },
   {
    "duration": 400,
    "start_time": "2021-10-23T18:25:04.336Z"
   },
   {
    "duration": 218,
    "start_time": "2021-10-23T18:25:04.738Z"
   },
   {
    "duration": 202,
    "start_time": "2021-10-23T18:25:04.963Z"
   },
   {
    "duration": 303,
    "start_time": "2021-10-23T18:25:05.169Z"
   },
   {
    "duration": 217,
    "start_time": "2021-10-23T18:25:05.475Z"
   },
   {
    "duration": 224,
    "start_time": "2021-10-23T18:25:05.694Z"
   },
   {
    "duration": 199,
    "start_time": "2021-10-23T18:25:05.920Z"
   },
   {
    "duration": 286,
    "start_time": "2021-10-23T18:25:06.121Z"
   },
   {
    "duration": 27,
    "start_time": "2021-10-23T18:25:06.409Z"
   },
   {
    "duration": 444,
    "start_time": "2021-10-23T18:25:06.438Z"
   },
   {
    "duration": 205,
    "start_time": "2021-10-23T18:25:06.883Z"
   },
   {
    "duration": 181,
    "start_time": "2021-10-23T18:25:07.089Z"
   },
   {
    "duration": 207,
    "start_time": "2021-10-23T18:25:07.272Z"
   },
   {
    "duration": 6711,
    "start_time": "2021-10-23T18:26:00.546Z"
   },
   {
    "duration": 272,
    "start_time": "2021-10-23T18:28:08.449Z"
   },
   {
    "duration": 273,
    "start_time": "2021-10-23T18:32:18.795Z"
   },
   {
    "duration": 309,
    "start_time": "2021-10-23T18:36:01.905Z"
   },
   {
    "duration": 306,
    "start_time": "2021-10-23T18:40:03.245Z"
   },
   {
    "duration": 804,
    "start_time": "2021-10-24T06:36:54.497Z"
   },
   {
    "duration": 1682,
    "start_time": "2021-10-24T06:36:55.304Z"
   },
   {
    "duration": 1138,
    "start_time": "2021-10-24T06:36:56.989Z"
   },
   {
    "duration": 2544,
    "start_time": "2021-10-24T06:36:58.130Z"
   },
   {
    "duration": 1362,
    "start_time": "2021-10-24T06:37:00.677Z"
   },
   {
    "duration": 687,
    "start_time": "2021-10-24T06:37:02.041Z"
   },
   {
    "duration": 1965,
    "start_time": "2021-10-24T06:37:02.731Z"
   },
   {
    "duration": 342,
    "start_time": "2021-10-24T06:37:04.700Z"
   },
   {
    "duration": 298,
    "start_time": "2021-10-24T06:37:05.044Z"
   },
   {
    "duration": 358,
    "start_time": "2021-10-24T06:37:05.346Z"
   },
   {
    "duration": 361,
    "start_time": "2021-10-24T06:37:05.706Z"
   },
   {
    "duration": 342,
    "start_time": "2021-10-24T06:37:06.069Z"
   },
   {
    "duration": 401,
    "start_time": "2021-10-24T06:37:06.413Z"
   },
   {
    "duration": 52,
    "start_time": "2021-10-24T06:37:06.816Z"
   },
   {
    "duration": 751,
    "start_time": "2021-10-24T06:37:06.871Z"
   },
   {
    "duration": 339,
    "start_time": "2021-10-24T06:37:07.624Z"
   },
   {
    "duration": 292,
    "start_time": "2021-10-24T06:37:07.967Z"
   },
   {
    "duration": 373,
    "start_time": "2021-10-24T06:37:08.261Z"
   },
   {
    "duration": 347,
    "start_time": "2021-10-24T06:37:08.637Z"
   },
   {
    "duration": 366,
    "start_time": "2021-10-24T06:37:08.987Z"
   },
   {
    "duration": 355,
    "start_time": "2021-10-24T06:37:09.356Z"
   },
   {
    "duration": 470,
    "start_time": "2021-10-30T11:07:39.490Z"
   },
   {
    "duration": 923,
    "start_time": "2021-10-30T11:07:51.570Z"
   },
   {
    "duration": 355,
    "start_time": "2021-10-30T11:07:55.096Z"
   },
   {
    "duration": 223,
    "start_time": "2021-10-30T11:07:55.562Z"
   },
   {
    "duration": 247,
    "start_time": "2021-10-30T11:07:55.961Z"
   },
   {
    "duration": 269,
    "start_time": "2021-10-30T11:07:56.438Z"
   },
   {
    "duration": 464,
    "start_time": "2021-10-30T11:07:56.991Z"
   },
   {
    "duration": 1002,
    "start_time": "2021-10-30T11:08:06.500Z"
   },
   {
    "duration": 2464,
    "start_time": "2021-10-30T11:08:11.930Z"
   },
   {
    "duration": 830,
    "start_time": "2021-10-31T08:46:13.529Z"
   },
   {
    "duration": 90,
    "start_time": "2021-10-31T08:46:14.363Z"
   },
   {
    "duration": 553,
    "start_time": "2021-10-31T08:46:13.903Z"
   },
   {
    "duration": 541,
    "start_time": "2021-10-31T08:46:13.917Z"
   },
   {
    "duration": 529,
    "start_time": "2021-10-31T08:46:13.930Z"
   },
   {
    "duration": 527,
    "start_time": "2021-10-31T08:46:13.934Z"
   },
   {
    "duration": 525,
    "start_time": "2021-10-31T08:46:13.937Z"
   },
   {
    "duration": 516,
    "start_time": "2021-10-31T08:46:13.947Z"
   },
   {
    "duration": 515,
    "start_time": "2021-10-31T08:46:13.950Z"
   },
   {
    "duration": 513,
    "start_time": "2021-10-31T08:46:13.953Z"
   },
   {
    "duration": 504,
    "start_time": "2021-10-31T08:46:13.963Z"
   },
   {
    "duration": 501,
    "start_time": "2021-10-31T08:46:13.968Z"
   },
   {
    "duration": 486,
    "start_time": "2021-10-31T08:46:13.984Z"
   },
   {
    "duration": 481,
    "start_time": "2021-10-31T08:46:13.991Z"
   },
   {
    "duration": 475,
    "start_time": "2021-10-31T08:46:13.998Z"
   },
   {
    "duration": 474,
    "start_time": "2021-10-31T08:46:14.001Z"
   },
   {
    "duration": 473,
    "start_time": "2021-10-31T08:46:14.003Z"
   },
   {
    "duration": 464,
    "start_time": "2021-10-31T08:46:14.014Z"
   },
   {
    "duration": 463,
    "start_time": "2021-10-31T08:46:14.016Z"
   },
   {
    "duration": 462,
    "start_time": "2021-10-31T08:46:14.018Z"
   },
   {
    "duration": 458,
    "start_time": "2021-10-31T08:46:14.024Z"
   },
   {
    "duration": 451,
    "start_time": "2021-10-31T08:46:14.032Z"
   },
   {
    "duration": 449,
    "start_time": "2021-10-31T08:46:14.036Z"
   },
   {
    "duration": 445,
    "start_time": "2021-10-31T08:46:14.041Z"
   },
   {
    "duration": 440,
    "start_time": "2021-10-31T08:46:14.048Z"
   },
   {
    "duration": 799,
    "start_time": "2021-10-31T09:08:27.529Z"
   },
   {
    "duration": 98,
    "start_time": "2021-10-31T09:08:28.336Z"
   },
   {
    "duration": 584,
    "start_time": "2021-10-31T09:08:27.854Z"
   },
   {
    "duration": 582,
    "start_time": "2021-10-31T09:08:27.858Z"
   },
   {
    "duration": 579,
    "start_time": "2021-10-31T09:08:27.862Z"
   },
   {
    "duration": 568,
    "start_time": "2021-10-31T09:08:27.875Z"
   },
   {
    "duration": 561,
    "start_time": "2021-10-31T09:08:27.883Z"
   },
   {
    "duration": 558,
    "start_time": "2021-10-31T09:08:27.888Z"
   },
   {
    "duration": 557,
    "start_time": "2021-10-31T09:08:27.891Z"
   },
   {
    "duration": 555,
    "start_time": "2021-10-31T09:08:27.894Z"
   },
   {
    "duration": 545,
    "start_time": "2021-10-31T09:08:27.905Z"
   },
   {
    "duration": 535,
    "start_time": "2021-10-31T09:08:27.917Z"
   },
   {
    "duration": 530,
    "start_time": "2021-10-31T09:08:27.923Z"
   },
   {
    "duration": 529,
    "start_time": "2021-10-31T09:08:27.926Z"
   },
   {
    "duration": 524,
    "start_time": "2021-10-31T09:08:27.932Z"
   },
   {
    "duration": 524,
    "start_time": "2021-10-31T09:08:27.934Z"
   },
   {
    "duration": 523,
    "start_time": "2021-10-31T09:08:27.937Z"
   },
   {
    "duration": 521,
    "start_time": "2021-10-31T09:08:27.940Z"
   },
   {
    "duration": 521,
    "start_time": "2021-10-31T09:08:27.942Z"
   },
   {
    "duration": 519,
    "start_time": "2021-10-31T09:08:27.945Z"
   },
   {
    "duration": 509,
    "start_time": "2021-10-31T09:08:27.956Z"
   },
   {
    "duration": 510,
    "start_time": "2021-10-31T09:08:27.959Z"
   },
   {
    "duration": 508,
    "start_time": "2021-10-31T09:08:27.962Z"
   },
   {
    "duration": 505,
    "start_time": "2021-10-31T09:08:27.966Z"
   },
   {
    "duration": 502,
    "start_time": "2021-10-31T09:08:27.970Z"
   },
   {
    "duration": 765,
    "start_time": "2021-10-31T09:08:38.683Z"
   },
   {
    "duration": 552,
    "start_time": "2021-10-31T09:08:38.900Z"
   },
   {
    "duration": 546,
    "start_time": "2021-10-31T09:08:38.907Z"
   },
   {
    "duration": 532,
    "start_time": "2021-10-31T09:08:38.923Z"
   },
   {
    "duration": 517,
    "start_time": "2021-10-31T09:08:38.939Z"
   },
   {
    "duration": 514,
    "start_time": "2021-10-31T09:08:38.944Z"
   },
   {
    "duration": 502,
    "start_time": "2021-10-31T09:08:38.957Z"
   },
   {
    "duration": 510,
    "start_time": "2021-10-31T09:08:38.971Z"
   },
   {
    "duration": 508,
    "start_time": "2021-10-31T09:08:38.975Z"
   },
   {
    "duration": 506,
    "start_time": "2021-10-31T09:08:38.979Z"
   },
   {
    "duration": 505,
    "start_time": "2021-10-31T09:08:38.982Z"
   },
   {
    "duration": 502,
    "start_time": "2021-10-31T09:08:38.986Z"
   },
   {
    "duration": 500,
    "start_time": "2021-10-31T09:08:38.990Z"
   },
   {
    "duration": 499,
    "start_time": "2021-10-31T09:08:38.993Z"
   },
   {
    "duration": 496,
    "start_time": "2021-10-31T09:08:38.998Z"
   },
   {
    "duration": 494,
    "start_time": "2021-10-31T09:08:39.002Z"
   },
   {
    "duration": 492,
    "start_time": "2021-10-31T09:08:39.006Z"
   },
   {
    "duration": 491,
    "start_time": "2021-10-31T09:08:39.008Z"
   },
   {
    "duration": 484,
    "start_time": "2021-10-31T09:08:39.017Z"
   },
   {
    "duration": 480,
    "start_time": "2021-10-31T09:08:39.023Z"
   },
   {
    "duration": 480,
    "start_time": "2021-10-31T09:08:39.025Z"
   },
   {
    "duration": 472,
    "start_time": "2021-10-31T09:08:39.034Z"
   },
   {
    "duration": 467,
    "start_time": "2021-10-31T09:08:39.041Z"
   },
   {
    "duration": 118,
    "start_time": "2021-10-31T13:07:41.156Z"
   },
   {
    "duration": 368,
    "start_time": "2021-10-31T13:11:32.949Z"
   },
   {
    "duration": 829,
    "start_time": "2021-10-31T13:11:40.458Z"
   },
   {
    "duration": 153,
    "start_time": "2021-10-31T13:11:45.209Z"
   },
   {
    "duration": 133,
    "start_time": "2021-10-31T13:12:21.420Z"
   },
   {
    "duration": 136,
    "start_time": "2021-10-31T13:12:35.363Z"
   },
   {
    "duration": 3,
    "start_time": "2021-10-31T13:19:20.731Z"
   },
   {
    "duration": 136,
    "start_time": "2021-10-31T13:40:05.807Z"
   },
   {
    "duration": 2,
    "start_time": "2021-10-31T13:40:53.231Z"
   },
   {
    "duration": 203,
    "start_time": "2021-10-31T13:40:53.858Z"
   },
   {
    "duration": 3,
    "start_time": "2021-10-31T13:41:54.219Z"
   },
   {
    "duration": 164,
    "start_time": "2021-10-31T14:18:11.813Z"
   },
   {
    "duration": 153,
    "start_time": "2021-10-31T14:18:39.053Z"
   },
   {
    "duration": 2,
    "start_time": "2021-10-31T14:29:38.550Z"
   },
   {
    "duration": 411,
    "start_time": "2021-10-31T14:30:44.922Z"
   },
   {
    "duration": 310,
    "start_time": "2021-10-31T14:30:49.842Z"
   },
   {
    "duration": 592,
    "start_time": "2021-10-31T14:30:53.836Z"
   },
   {
    "duration": 1512,
    "start_time": "2021-10-31T14:32:12.282Z"
   },
   {
    "duration": 613,
    "start_time": "2021-10-31T14:32:21.010Z"
   },
   {
    "duration": 2,
    "start_time": "2021-10-31T14:41:12.607Z"
   },
   {
    "duration": 1535,
    "start_time": "2021-10-31T14:41:25.694Z"
   },
   {
    "duration": 1602,
    "start_time": "2021-10-31T14:41:52.607Z"
   },
   {
    "duration": 1682,
    "start_time": "2021-10-31T14:53:47.737Z"
   },
   {
    "duration": 1462,
    "start_time": "2021-10-31T14:56:40.976Z"
   },
   {
    "duration": 1529,
    "start_time": "2021-10-31T14:56:58.573Z"
   },
   {
    "duration": 1496,
    "start_time": "2021-10-31T15:07:16.929Z"
   },
   {
    "duration": 2,
    "start_time": "2021-10-31T15:08:47.950Z"
   },
   {
    "duration": 711,
    "start_time": "2021-10-31T15:08:50.173Z"
   },
   {
    "duration": 515,
    "start_time": "2021-10-31T15:09:05.470Z"
   },
   {
    "duration": 213,
    "start_time": "2021-10-31T15:09:07.917Z"
   },
   {
    "duration": 2,
    "start_time": "2021-10-31T15:09:45.519Z"
   },
   {
    "duration": 1014,
    "start_time": "2021-11-01T11:16:02.886Z"
   },
   {
    "duration": 253,
    "start_time": "2021-11-01T11:16:03.903Z"
   },
   {
    "duration": 4,
    "start_time": "2021-11-01T11:16:04.159Z"
   },
   {
    "duration": 23,
    "start_time": "2021-11-01T11:16:04.166Z"
   },
   {
    "duration": 232,
    "start_time": "2021-11-01T11:16:04.192Z"
   },
   {
    "duration": 3,
    "start_time": "2021-11-01T11:16:04.427Z"
   },
   {
    "duration": 19,
    "start_time": "2021-11-01T11:16:04.432Z"
   },
   {
    "duration": 240,
    "start_time": "2021-11-01T11:16:04.455Z"
   },
   {
    "duration": 2,
    "start_time": "2021-11-01T11:16:04.699Z"
   },
   {
    "duration": 232,
    "start_time": "2021-11-01T11:16:04.704Z"
   },
   {
    "duration": 3,
    "start_time": "2021-11-01T11:16:04.939Z"
   },
   {
    "duration": 532,
    "start_time": "2021-11-01T11:16:04.945Z"
   },
   {
    "duration": 956,
    "start_time": "2021-11-01T11:16:05.479Z"
   },
   {
    "duration": 2351,
    "start_time": "2021-11-01T11:16:06.437Z"
   },
   {
    "duration": 3,
    "start_time": "2021-11-01T11:16:08.790Z"
   },
   {
    "duration": 1236,
    "start_time": "2021-11-01T11:16:08.795Z"
   },
   {
    "duration": 663,
    "start_time": "2021-11-01T11:16:10.034Z"
   },
   {
    "duration": 381,
    "start_time": "2021-11-01T11:16:10.699Z"
   },
   {
    "duration": 3,
    "start_time": "2021-11-01T11:16:11.085Z"
   },
   {
    "duration": 17,
    "start_time": "2021-11-01T11:16:11.091Z"
   },
   {
    "duration": 361,
    "start_time": "2021-11-01T11:16:11.110Z"
   },
   {
    "duration": 302,
    "start_time": "2021-11-01T11:16:11.474Z"
   },
   {
    "duration": 372,
    "start_time": "2021-11-01T11:16:11.781Z"
   },
   {
    "duration": 359,
    "start_time": "2021-11-01T11:16:12.157Z"
   },
   {
    "duration": 352,
    "start_time": "2021-11-01T11:16:12.519Z"
   },
   {
    "duration": 375,
    "start_time": "2021-11-01T11:16:12.875Z"
   },
   {
    "duration": 41,
    "start_time": "2021-11-01T11:16:13.252Z"
   },
   {
    "duration": 798,
    "start_time": "2021-11-01T11:16:13.295Z"
   },
   {
    "duration": 335,
    "start_time": "2021-11-01T11:16:14.096Z"
   },
   {
    "duration": 291,
    "start_time": "2021-11-01T11:16:14.434Z"
   },
   {
    "duration": 330,
    "start_time": "2021-11-01T11:16:14.727Z"
   },
   {
    "duration": 333,
    "start_time": "2021-11-01T11:16:15.059Z"
   },
   {
    "duration": 347,
    "start_time": "2021-11-01T11:16:15.394Z"
   },
   {
    "duration": 330,
    "start_time": "2021-11-01T11:16:15.743Z"
   },
   {
    "duration": 17,
    "start_time": "2021-11-01T12:10:24.956Z"
   },
   {
    "duration": 409,
    "start_time": "2021-11-01T12:10:46.901Z"
   },
   {
    "duration": 17,
    "start_time": "2021-11-01T12:11:06.556Z"
   },
   {
    "duration": 832,
    "start_time": "2021-11-01T12:11:50.795Z"
   },
   {
    "duration": 739,
    "start_time": "2021-11-01T12:12:07.619Z"
   },
   {
    "duration": 52,
    "start_time": "2021-11-01T12:21:17.384Z"
   },
   {
    "duration": 913,
    "start_time": "2022-08-02T10:35:52.634Z"
   },
   {
    "duration": 117,
    "start_time": "2022-08-02T10:35:55.493Z"
   }
  ],
  "kernelspec": {
   "display_name": "Python 3 (ipykernel)",
   "language": "python",
   "name": "python3"
  },
  "language_info": {
   "codemirror_mode": {
    "name": "ipython",
    "version": 3
   },
   "file_extension": ".py",
   "mimetype": "text/x-python",
   "name": "python",
   "nbconvert_exporter": "python",
   "pygments_lexer": "ipython3",
   "version": "3.9.5"
  },
  "toc": {
   "base_numbering": 1,
   "nav_menu": {},
   "number_sections": true,
   "sideBar": true,
   "skip_h1_title": true,
   "title_cell": "Содержание",
   "title_sidebar": "Contents",
   "toc_cell": true,
   "toc_position": {},
   "toc_section_display": true,
   "toc_window_display": false
  }
 },
 "nbformat": 4,
 "nbformat_minor": 2
}
