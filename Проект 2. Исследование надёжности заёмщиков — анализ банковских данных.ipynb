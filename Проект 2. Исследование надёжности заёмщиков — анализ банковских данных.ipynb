{
 "cells": [
  {
   "cell_type": "markdown",
   "metadata": {},
   "source": [
    "# Исследование надёжности заёмщиков\n",
    "\n",
    "Заказчик — кредитный отдел банка. Нужно разобраться, влияет ли семейное положение и количество детей клиента на факт погашения кредита в срок. Входные данные от банка — статистика о платёжеспособности клиентов.\n",
    "\n",
    "Результаты исследования будут учтены при построении модели **кредитного скоринга** — специальной системы, которая оценивает способность потенциального заёмщика вернуть кредит банку."
   ]
  },
  {
   "cell_type": "markdown",
   "metadata": {},
   "source": [
    "## Шаг 1. Откройте файл с данными и изучите общую информацию"
   ]
  },
  {
   "cell_type": "code",
   "execution_count": 1,
   "metadata": {},
   "outputs": [
    {
     "name": "stdout",
     "output_type": "stream",
     "text": [
      "<class 'pandas.core.frame.DataFrame'>\n",
      "RangeIndex: 21525 entries, 0 to 21524\n",
      "Data columns (total 12 columns):\n",
      "children            21525 non-null int64\n",
      "days_employed       19351 non-null float64\n",
      "dob_years           21525 non-null int64\n",
      "education           21525 non-null object\n",
      "education_id        21525 non-null int64\n",
      "family_status       21525 non-null object\n",
      "family_status_id    21525 non-null int64\n",
      "gender              21525 non-null object\n",
      "income_type         21525 non-null object\n",
      "debt                21525 non-null int64\n",
      "total_income        19351 non-null float64\n",
      "purpose             21525 non-null object\n",
      "dtypes: float64(2), int64(5), object(5)\n",
      "memory usage: 2.0+ MB\n"
     ]
    },
    {
     "data": {
      "text/html": [
       "<div>\n",
       "<style scoped>\n",
       "    .dataframe tbody tr th:only-of-type {\n",
       "        vertical-align: middle;\n",
       "    }\n",
       "\n",
       "    .dataframe tbody tr th {\n",
       "        vertical-align: top;\n",
       "    }\n",
       "\n",
       "    .dataframe thead th {\n",
       "        text-align: right;\n",
       "    }\n",
       "</style>\n",
       "<table border=\"1\" class=\"dataframe\">\n",
       "  <thead>\n",
       "    <tr style=\"text-align: right;\">\n",
       "      <th></th>\n",
       "      <th>children</th>\n",
       "      <th>days_employed</th>\n",
       "      <th>dob_years</th>\n",
       "      <th>education</th>\n",
       "      <th>education_id</th>\n",
       "      <th>family_status</th>\n",
       "      <th>family_status_id</th>\n",
       "      <th>gender</th>\n",
       "      <th>income_type</th>\n",
       "      <th>debt</th>\n",
       "      <th>total_income</th>\n",
       "      <th>purpose</th>\n",
       "    </tr>\n",
       "  </thead>\n",
       "  <tbody>\n",
       "    <tr>\n",
       "      <td>0</td>\n",
       "      <td>1</td>\n",
       "      <td>-8437.673028</td>\n",
       "      <td>42</td>\n",
       "      <td>высшее</td>\n",
       "      <td>0</td>\n",
       "      <td>женат / замужем</td>\n",
       "      <td>0</td>\n",
       "      <td>F</td>\n",
       "      <td>сотрудник</td>\n",
       "      <td>0</td>\n",
       "      <td>253875.639453</td>\n",
       "      <td>покупка жилья</td>\n",
       "    </tr>\n",
       "    <tr>\n",
       "      <td>1</td>\n",
       "      <td>1</td>\n",
       "      <td>-4024.803754</td>\n",
       "      <td>36</td>\n",
       "      <td>среднее</td>\n",
       "      <td>1</td>\n",
       "      <td>женат / замужем</td>\n",
       "      <td>0</td>\n",
       "      <td>F</td>\n",
       "      <td>сотрудник</td>\n",
       "      <td>0</td>\n",
       "      <td>112080.014102</td>\n",
       "      <td>приобретение автомобиля</td>\n",
       "    </tr>\n",
       "    <tr>\n",
       "      <td>2</td>\n",
       "      <td>0</td>\n",
       "      <td>-5623.422610</td>\n",
       "      <td>33</td>\n",
       "      <td>Среднее</td>\n",
       "      <td>1</td>\n",
       "      <td>женат / замужем</td>\n",
       "      <td>0</td>\n",
       "      <td>M</td>\n",
       "      <td>сотрудник</td>\n",
       "      <td>0</td>\n",
       "      <td>145885.952297</td>\n",
       "      <td>покупка жилья</td>\n",
       "    </tr>\n",
       "    <tr>\n",
       "      <td>3</td>\n",
       "      <td>3</td>\n",
       "      <td>-4124.747207</td>\n",
       "      <td>32</td>\n",
       "      <td>среднее</td>\n",
       "      <td>1</td>\n",
       "      <td>женат / замужем</td>\n",
       "      <td>0</td>\n",
       "      <td>M</td>\n",
       "      <td>сотрудник</td>\n",
       "      <td>0</td>\n",
       "      <td>267628.550329</td>\n",
       "      <td>дополнительное образование</td>\n",
       "    </tr>\n",
       "    <tr>\n",
       "      <td>4</td>\n",
       "      <td>0</td>\n",
       "      <td>340266.072047</td>\n",
       "      <td>53</td>\n",
       "      <td>среднее</td>\n",
       "      <td>1</td>\n",
       "      <td>гражданский брак</td>\n",
       "      <td>1</td>\n",
       "      <td>F</td>\n",
       "      <td>пенсионер</td>\n",
       "      <td>0</td>\n",
       "      <td>158616.077870</td>\n",
       "      <td>сыграть свадьбу</td>\n",
       "    </tr>\n",
       "    <tr>\n",
       "      <td>5</td>\n",
       "      <td>0</td>\n",
       "      <td>-926.185831</td>\n",
       "      <td>27</td>\n",
       "      <td>высшее</td>\n",
       "      <td>0</td>\n",
       "      <td>гражданский брак</td>\n",
       "      <td>1</td>\n",
       "      <td>M</td>\n",
       "      <td>компаньон</td>\n",
       "      <td>0</td>\n",
       "      <td>255763.565419</td>\n",
       "      <td>покупка жилья</td>\n",
       "    </tr>\n",
       "    <tr>\n",
       "      <td>6</td>\n",
       "      <td>0</td>\n",
       "      <td>-2879.202052</td>\n",
       "      <td>43</td>\n",
       "      <td>высшее</td>\n",
       "      <td>0</td>\n",
       "      <td>женат / замужем</td>\n",
       "      <td>0</td>\n",
       "      <td>F</td>\n",
       "      <td>компаньон</td>\n",
       "      <td>0</td>\n",
       "      <td>240525.971920</td>\n",
       "      <td>операции с жильем</td>\n",
       "    </tr>\n",
       "    <tr>\n",
       "      <td>7</td>\n",
       "      <td>0</td>\n",
       "      <td>-152.779569</td>\n",
       "      <td>50</td>\n",
       "      <td>СРЕДНЕЕ</td>\n",
       "      <td>1</td>\n",
       "      <td>женат / замужем</td>\n",
       "      <td>0</td>\n",
       "      <td>M</td>\n",
       "      <td>сотрудник</td>\n",
       "      <td>0</td>\n",
       "      <td>135823.934197</td>\n",
       "      <td>образование</td>\n",
       "    </tr>\n",
       "    <tr>\n",
       "      <td>8</td>\n",
       "      <td>2</td>\n",
       "      <td>-6929.865299</td>\n",
       "      <td>35</td>\n",
       "      <td>ВЫСШЕЕ</td>\n",
       "      <td>0</td>\n",
       "      <td>гражданский брак</td>\n",
       "      <td>1</td>\n",
       "      <td>F</td>\n",
       "      <td>сотрудник</td>\n",
       "      <td>0</td>\n",
       "      <td>95856.832424</td>\n",
       "      <td>на проведение свадьбы</td>\n",
       "    </tr>\n",
       "    <tr>\n",
       "      <td>9</td>\n",
       "      <td>0</td>\n",
       "      <td>-2188.756445</td>\n",
       "      <td>41</td>\n",
       "      <td>среднее</td>\n",
       "      <td>1</td>\n",
       "      <td>женат / замужем</td>\n",
       "      <td>0</td>\n",
       "      <td>M</td>\n",
       "      <td>сотрудник</td>\n",
       "      <td>0</td>\n",
       "      <td>144425.938277</td>\n",
       "      <td>покупка жилья для семьи</td>\n",
       "    </tr>\n",
       "  </tbody>\n",
       "</table>\n",
       "</div>"
      ],
      "text/plain": [
       "   children  days_employed  dob_years education  education_id  \\\n",
       "0         1   -8437.673028         42    высшее             0   \n",
       "1         1   -4024.803754         36   среднее             1   \n",
       "2         0   -5623.422610         33   Среднее             1   \n",
       "3         3   -4124.747207         32   среднее             1   \n",
       "4         0  340266.072047         53   среднее             1   \n",
       "5         0    -926.185831         27    высшее             0   \n",
       "6         0   -2879.202052         43    высшее             0   \n",
       "7         0    -152.779569         50   СРЕДНЕЕ             1   \n",
       "8         2   -6929.865299         35    ВЫСШЕЕ             0   \n",
       "9         0   -2188.756445         41   среднее             1   \n",
       "\n",
       "      family_status  family_status_id gender income_type  debt   total_income  \\\n",
       "0   женат / замужем                 0      F   сотрудник     0  253875.639453   \n",
       "1   женат / замужем                 0      F   сотрудник     0  112080.014102   \n",
       "2   женат / замужем                 0      M   сотрудник     0  145885.952297   \n",
       "3   женат / замужем                 0      M   сотрудник     0  267628.550329   \n",
       "4  гражданский брак                 1      F   пенсионер     0  158616.077870   \n",
       "5  гражданский брак                 1      M   компаньон     0  255763.565419   \n",
       "6   женат / замужем                 0      F   компаньон     0  240525.971920   \n",
       "7   женат / замужем                 0      M   сотрудник     0  135823.934197   \n",
       "8  гражданский брак                 1      F   сотрудник     0   95856.832424   \n",
       "9   женат / замужем                 0      M   сотрудник     0  144425.938277   \n",
       "\n",
       "                      purpose  \n",
       "0               покупка жилья  \n",
       "1     приобретение автомобиля  \n",
       "2               покупка жилья  \n",
       "3  дополнительное образование  \n",
       "4             сыграть свадьбу  \n",
       "5               покупка жилья  \n",
       "6           операции с жильем  \n",
       "7                 образование  \n",
       "8       на проведение свадьбы  \n",
       "9     покупка жилья для семьи  "
      ]
     },
     "execution_count": 1,
     "metadata": {},
     "output_type": "execute_result"
    }
   ],
   "source": [
    "import pandas as pd \n",
    "from pymystem3 import Mystem #для задания 2.4.\n",
    "m = Mystem()\n",
    "\n",
    "data = pd.read_csv('/datasets/data.csv') # читаю таблицу для дальнейшей работы с ней. \n",
    "data.info() #смотрю общие сведения о таблице.\n",
    "data.head(10) # смотрю визуализацию таблицы. \n"
   ]
  },
  {
   "cell_type": "markdown",
   "metadata": {},
   "source": [
    "**Вывод**"
   ]
  },
  {
   "cell_type": "markdown",
   "metadata": {},
   "source": [
    "1 Отрицательные значение в столбце days_employed и большой хвост float - \"возможно\" округлить\n",
    "2 Разный формат написания значений - привести к единому формату\n",
    "3 Столбец total_income сложно читать - приветси в формат int\n",
    "Также, для дальнейше работы удобно будет классифицировать по значениям education_id, family_status_id, так как значение по id уже определены в таблице. Также, явно необходимо сгруппировать таблицу по столбцу purpose"
   ]
  },
  {
   "cell_type": "markdown",
   "metadata": {},
   "source": [
    "## Шаг 2. Предобработка данных"
   ]
  },
  {
   "cell_type": "markdown",
   "metadata": {},
   "source": [
    "### Обработка пропусков"
   ]
  },
  {
   "cell_type": "code",
   "execution_count": 2,
   "metadata": {},
   "outputs": [
    {
     "name": "stdout",
     "output_type": "stream",
     "text": [
      "children            0\n",
      "days_employed       0\n",
      "dob_years           0\n",
      "education           0\n",
      "education_id        0\n",
      "family_status       0\n",
      "family_status_id    0\n",
      "gender              0\n",
      "income_type         0\n",
      "debt                0\n",
      "total_income        0\n",
      "purpose             0\n",
      "dtype: int64\n"
     ]
    },
    {
     "data": {
      "text/html": [
       "<div>\n",
       "<style scoped>\n",
       "    .dataframe tbody tr th:only-of-type {\n",
       "        vertical-align: middle;\n",
       "    }\n",
       "\n",
       "    .dataframe tbody tr th {\n",
       "        vertical-align: top;\n",
       "    }\n",
       "\n",
       "    .dataframe thead th {\n",
       "        text-align: right;\n",
       "    }\n",
       "</style>\n",
       "<table border=\"1\" class=\"dataframe\">\n",
       "  <thead>\n",
       "    <tr style=\"text-align: right;\">\n",
       "      <th></th>\n",
       "      <th>children</th>\n",
       "      <th>days_employed</th>\n",
       "      <th>dob_years</th>\n",
       "      <th>education</th>\n",
       "      <th>education_id</th>\n",
       "      <th>family_status</th>\n",
       "      <th>family_status_id</th>\n",
       "      <th>gender</th>\n",
       "      <th>income_type</th>\n",
       "      <th>debt</th>\n",
       "      <th>total_income</th>\n",
       "      <th>purpose</th>\n",
       "    </tr>\n",
       "  </thead>\n",
       "  <tbody>\n",
       "    <tr>\n",
       "      <td>0</td>\n",
       "      <td>1</td>\n",
       "      <td>8437.673028</td>\n",
       "      <td>42.0</td>\n",
       "      <td>высшее</td>\n",
       "      <td>0</td>\n",
       "      <td>женат / замужем</td>\n",
       "      <td>0</td>\n",
       "      <td>F</td>\n",
       "      <td>сотрудник</td>\n",
       "      <td>0</td>\n",
       "      <td>253875.639453</td>\n",
       "      <td>покупка жилья</td>\n",
       "    </tr>\n",
       "    <tr>\n",
       "      <td>1</td>\n",
       "      <td>1</td>\n",
       "      <td>4024.803754</td>\n",
       "      <td>36.0</td>\n",
       "      <td>среднее</td>\n",
       "      <td>1</td>\n",
       "      <td>женат / замужем</td>\n",
       "      <td>0</td>\n",
       "      <td>F</td>\n",
       "      <td>сотрудник</td>\n",
       "      <td>0</td>\n",
       "      <td>112080.014102</td>\n",
       "      <td>приобретение автомобиля</td>\n",
       "    </tr>\n",
       "    <tr>\n",
       "      <td>2</td>\n",
       "      <td>0</td>\n",
       "      <td>5623.422610</td>\n",
       "      <td>33.0</td>\n",
       "      <td>Среднее</td>\n",
       "      <td>1</td>\n",
       "      <td>женат / замужем</td>\n",
       "      <td>0</td>\n",
       "      <td>M</td>\n",
       "      <td>сотрудник</td>\n",
       "      <td>0</td>\n",
       "      <td>145885.952297</td>\n",
       "      <td>покупка жилья</td>\n",
       "    </tr>\n",
       "    <tr>\n",
       "      <td>3</td>\n",
       "      <td>3</td>\n",
       "      <td>4124.747207</td>\n",
       "      <td>32.0</td>\n",
       "      <td>среднее</td>\n",
       "      <td>1</td>\n",
       "      <td>женат / замужем</td>\n",
       "      <td>0</td>\n",
       "      <td>M</td>\n",
       "      <td>сотрудник</td>\n",
       "      <td>0</td>\n",
       "      <td>267628.550329</td>\n",
       "      <td>дополнительное образование</td>\n",
       "    </tr>\n",
       "    <tr>\n",
       "      <td>4</td>\n",
       "      <td>0</td>\n",
       "      <td>340266.072047</td>\n",
       "      <td>53.0</td>\n",
       "      <td>среднее</td>\n",
       "      <td>1</td>\n",
       "      <td>гражданский брак</td>\n",
       "      <td>1</td>\n",
       "      <td>F</td>\n",
       "      <td>пенсионер</td>\n",
       "      <td>0</td>\n",
       "      <td>158616.077870</td>\n",
       "      <td>сыграть свадьбу</td>\n",
       "    </tr>\n",
       "    <tr>\n",
       "      <td>5</td>\n",
       "      <td>0</td>\n",
       "      <td>926.185831</td>\n",
       "      <td>27.0</td>\n",
       "      <td>высшее</td>\n",
       "      <td>0</td>\n",
       "      <td>гражданский брак</td>\n",
       "      <td>1</td>\n",
       "      <td>M</td>\n",
       "      <td>компаньон</td>\n",
       "      <td>0</td>\n",
       "      <td>255763.565419</td>\n",
       "      <td>покупка жилья</td>\n",
       "    </tr>\n",
       "    <tr>\n",
       "      <td>6</td>\n",
       "      <td>0</td>\n",
       "      <td>2879.202052</td>\n",
       "      <td>43.0</td>\n",
       "      <td>высшее</td>\n",
       "      <td>0</td>\n",
       "      <td>женат / замужем</td>\n",
       "      <td>0</td>\n",
       "      <td>F</td>\n",
       "      <td>компаньон</td>\n",
       "      <td>0</td>\n",
       "      <td>240525.971920</td>\n",
       "      <td>операции с жильем</td>\n",
       "    </tr>\n",
       "    <tr>\n",
       "      <td>7</td>\n",
       "      <td>0</td>\n",
       "      <td>152.779569</td>\n",
       "      <td>50.0</td>\n",
       "      <td>СРЕДНЕЕ</td>\n",
       "      <td>1</td>\n",
       "      <td>женат / замужем</td>\n",
       "      <td>0</td>\n",
       "      <td>M</td>\n",
       "      <td>сотрудник</td>\n",
       "      <td>0</td>\n",
       "      <td>135823.934197</td>\n",
       "      <td>образование</td>\n",
       "    </tr>\n",
       "    <tr>\n",
       "      <td>8</td>\n",
       "      <td>2</td>\n",
       "      <td>6929.865299</td>\n",
       "      <td>35.0</td>\n",
       "      <td>ВЫСШЕЕ</td>\n",
       "      <td>0</td>\n",
       "      <td>гражданский брак</td>\n",
       "      <td>1</td>\n",
       "      <td>F</td>\n",
       "      <td>сотрудник</td>\n",
       "      <td>0</td>\n",
       "      <td>95856.832424</td>\n",
       "      <td>на проведение свадьбы</td>\n",
       "    </tr>\n",
       "    <tr>\n",
       "      <td>9</td>\n",
       "      <td>0</td>\n",
       "      <td>2188.756445</td>\n",
       "      <td>41.0</td>\n",
       "      <td>среднее</td>\n",
       "      <td>1</td>\n",
       "      <td>женат / замужем</td>\n",
       "      <td>0</td>\n",
       "      <td>M</td>\n",
       "      <td>сотрудник</td>\n",
       "      <td>0</td>\n",
       "      <td>144425.938277</td>\n",
       "      <td>покупка жилья для семьи</td>\n",
       "    </tr>\n",
       "  </tbody>\n",
       "</table>\n",
       "</div>"
      ],
      "text/plain": [
       "   children  days_employed  dob_years education  education_id  \\\n",
       "0         1    8437.673028       42.0    высшее             0   \n",
       "1         1    4024.803754       36.0   среднее             1   \n",
       "2         0    5623.422610       33.0   Среднее             1   \n",
       "3         3    4124.747207       32.0   среднее             1   \n",
       "4         0  340266.072047       53.0   среднее             1   \n",
       "5         0     926.185831       27.0    высшее             0   \n",
       "6         0    2879.202052       43.0    высшее             0   \n",
       "7         0     152.779569       50.0   СРЕДНЕЕ             1   \n",
       "8         2    6929.865299       35.0    ВЫСШЕЕ             0   \n",
       "9         0    2188.756445       41.0   среднее             1   \n",
       "\n",
       "      family_status  family_status_id gender income_type  debt   total_income  \\\n",
       "0   женат / замужем                 0      F   сотрудник     0  253875.639453   \n",
       "1   женат / замужем                 0      F   сотрудник     0  112080.014102   \n",
       "2   женат / замужем                 0      M   сотрудник     0  145885.952297   \n",
       "3   женат / замужем                 0      M   сотрудник     0  267628.550329   \n",
       "4  гражданский брак                 1      F   пенсионер     0  158616.077870   \n",
       "5  гражданский брак                 1      M   компаньон     0  255763.565419   \n",
       "6   женат / замужем                 0      F   компаньон     0  240525.971920   \n",
       "7   женат / замужем                 0      M   сотрудник     0  135823.934197   \n",
       "8  гражданский брак                 1      F   сотрудник     0   95856.832424   \n",
       "9   женат / замужем                 0      M   сотрудник     0  144425.938277   \n",
       "\n",
       "                      purpose  \n",
       "0               покупка жилья  \n",
       "1     приобретение автомобиля  \n",
       "2               покупка жилья  \n",
       "3  дополнительное образование  \n",
       "4             сыграть свадьбу  \n",
       "5               покупка жилья  \n",
       "6           операции с жильем  \n",
       "7                 образование  \n",
       "8       на проведение свадьбы  \n",
       "9     покупка жилья для семьи  "
      ]
     },
     "execution_count": 2,
     "metadata": {},
     "output_type": "execute_result"
    }
   ],
   "source": [
    "data.isna().sum()  #Данным методом вявил, в каких строках есть пропуска. Сумма пропусков одинкова в 2х стобцах, что может говорить о том, что пропуски сделаны в одних и тех же строках.\n",
    "# print(data[data['total_income'].isna()].head()) #Строки в стобцах days_employed и total_income со значением float, а пропуски с NaN, то есть можно проводить математические операции. Это означает, что пропуски мы можем заменить средним значением столбца. Замена на среднее значение столбца не должно повлиять на результат анализа, так как количетсво заменяемых значений не превышвет 10%.\n",
    "#Для начала необходимо столбец days_employed избавить от отрицательных значений.\n",
    "data['days_employed'] = data['days_employed'].apply(abs) #метод abs показался мне наиболее легким и эффективным, нашел здесь https://ru.stackoverflow.com/questions/1133657/Сделать-положительное-число#:~:text=Соединяя%20инверсию%20знака%20с%20созданием,%23%20-5%20print(-abs(b))%20%23%20-2\n",
    "\n",
    "\n",
    "total_income_mean = data['total_income'].median()  #Для опередения среднего значения столбца, сгруппировал значения по столбцу income_type и ввел дополнительную переменную. \n",
    "#print(total_income_meal)\n",
    "data['total_income'] = data['total_income'].fillna(total_income_mean)\n",
    "\n",
    "days_employed_mean = data['days_employed'].median()\n",
    "data['days_employed'] = data['days_employed'].fillna(days_employed_mean)\n",
    "\n",
    "dob_mean = data['dob_years'].median() # выявил значание 0 в данном столбце, заменю его на средний возраст\n",
    "data.loc[data['dob_years'] == 0, 'dob_years'] = dob_mean\n",
    "\n",
    "print(data.isna().sum()) #повторно проверяю количество пропусков в столбцах, также результат можно проверить методом data.info(), проверить дополнительно не изменился ли фомат данных (были случаи)\n",
    "#data.info()\n",
    "data.head(10)\n",
    "\n",
    "\n"
   ]
  },
  {
   "cell_type": "markdown",
   "metadata": {},
   "source": [
    "**Вывод**\n",
    "\n",
    "Так как данные пропуски были обнаружены в двух стобцах в одинаковых строках, можно предположить, что ошибка была в выгрузке данных. Пропуски NaN, что означает принадлежность к единому формату столбцов. Также, только эти 2 стобца имеют формат float. Что может говорить именно о техничской потери данных при выгрузке дробных чисел. \n",
    "\n",
    "Была идея заменить пропуски на средние значения покатегорийно сгруппировав столбцы income_type-total_income и income_type-days_employed. \n",
    "Седние значение по группам нашел столбцам нашел - \"data.groupby('income_type')['total_income'].mean()\", но применить в объеденение не смог. Преположительно через функцию, но расписать ее не хватает времени, чтобы найти решение. Надеюсь сможешь подсказать. "
   ]
  },
  {
   "cell_type": "markdown",
   "metadata": {},
   "source": [
    "### Замена типа данных"
   ]
  },
  {
   "cell_type": "code",
   "execution_count": 4,
   "metadata": {
    "scrolled": true
   },
   "outputs": [
    {
     "name": "stdout",
     "output_type": "stream",
     "text": [
      "<class 'pandas.core.frame.DataFrame'>\n",
      "RangeIndex: 21525 entries, 0 to 21524\n",
      "Data columns (total 12 columns):\n",
      "children            21525 non-null int64\n",
      "days_employed       21525 non-null int64\n",
      "dob_years           21525 non-null float64\n",
      "education           21525 non-null object\n",
      "education_id        21525 non-null int64\n",
      "family_status       21525 non-null object\n",
      "family_status_id    21525 non-null int64\n",
      "gender              21525 non-null object\n",
      "income_type         21525 non-null object\n",
      "debt                21525 non-null int64\n",
      "total_income        21525 non-null int64\n",
      "purpose             21525 non-null object\n",
      "dtypes: float64(1), int64(6), object(5)\n",
      "memory usage: 2.0+ MB\n"
     ]
    },
    {
     "data": {
      "text/html": [
       "<div>\n",
       "<style scoped>\n",
       "    .dataframe tbody tr th:only-of-type {\n",
       "        vertical-align: middle;\n",
       "    }\n",
       "\n",
       "    .dataframe tbody tr th {\n",
       "        vertical-align: top;\n",
       "    }\n",
       "\n",
       "    .dataframe thead th {\n",
       "        text-align: right;\n",
       "    }\n",
       "</style>\n",
       "<table border=\"1\" class=\"dataframe\">\n",
       "  <thead>\n",
       "    <tr style=\"text-align: right;\">\n",
       "      <th></th>\n",
       "      <th>children</th>\n",
       "      <th>days_employed</th>\n",
       "      <th>dob_years</th>\n",
       "      <th>education</th>\n",
       "      <th>education_id</th>\n",
       "      <th>family_status</th>\n",
       "      <th>family_status_id</th>\n",
       "      <th>gender</th>\n",
       "      <th>income_type</th>\n",
       "      <th>debt</th>\n",
       "      <th>total_income</th>\n",
       "      <th>purpose</th>\n",
       "    </tr>\n",
       "  </thead>\n",
       "  <tbody>\n",
       "    <tr>\n",
       "      <td>0</td>\n",
       "      <td>1</td>\n",
       "      <td>8437</td>\n",
       "      <td>42.0</td>\n",
       "      <td>высшее</td>\n",
       "      <td>0</td>\n",
       "      <td>женат / замужем</td>\n",
       "      <td>0</td>\n",
       "      <td>F</td>\n",
       "      <td>сотрудник</td>\n",
       "      <td>0</td>\n",
       "      <td>253875</td>\n",
       "      <td>покупка жилья</td>\n",
       "    </tr>\n",
       "    <tr>\n",
       "      <td>1</td>\n",
       "      <td>1</td>\n",
       "      <td>4024</td>\n",
       "      <td>36.0</td>\n",
       "      <td>среднее</td>\n",
       "      <td>1</td>\n",
       "      <td>женат / замужем</td>\n",
       "      <td>0</td>\n",
       "      <td>F</td>\n",
       "      <td>сотрудник</td>\n",
       "      <td>0</td>\n",
       "      <td>112080</td>\n",
       "      <td>приобретение автомобиля</td>\n",
       "    </tr>\n",
       "    <tr>\n",
       "      <td>2</td>\n",
       "      <td>0</td>\n",
       "      <td>5623</td>\n",
       "      <td>33.0</td>\n",
       "      <td>среднее</td>\n",
       "      <td>1</td>\n",
       "      <td>женат / замужем</td>\n",
       "      <td>0</td>\n",
       "      <td>M</td>\n",
       "      <td>сотрудник</td>\n",
       "      <td>0</td>\n",
       "      <td>145885</td>\n",
       "      <td>покупка жилья</td>\n",
       "    </tr>\n",
       "    <tr>\n",
       "      <td>3</td>\n",
       "      <td>3</td>\n",
       "      <td>4124</td>\n",
       "      <td>32.0</td>\n",
       "      <td>среднее</td>\n",
       "      <td>1</td>\n",
       "      <td>женат / замужем</td>\n",
       "      <td>0</td>\n",
       "      <td>M</td>\n",
       "      <td>сотрудник</td>\n",
       "      <td>0</td>\n",
       "      <td>267628</td>\n",
       "      <td>дополнительное образование</td>\n",
       "    </tr>\n",
       "    <tr>\n",
       "      <td>4</td>\n",
       "      <td>0</td>\n",
       "      <td>340266</td>\n",
       "      <td>53.0</td>\n",
       "      <td>среднее</td>\n",
       "      <td>1</td>\n",
       "      <td>гражданский брак</td>\n",
       "      <td>1</td>\n",
       "      <td>F</td>\n",
       "      <td>пенсионер</td>\n",
       "      <td>0</td>\n",
       "      <td>158616</td>\n",
       "      <td>сыграть свадьбу</td>\n",
       "    </tr>\n",
       "    <tr>\n",
       "      <td>5</td>\n",
       "      <td>0</td>\n",
       "      <td>926</td>\n",
       "      <td>27.0</td>\n",
       "      <td>высшее</td>\n",
       "      <td>0</td>\n",
       "      <td>гражданский брак</td>\n",
       "      <td>1</td>\n",
       "      <td>M</td>\n",
       "      <td>компаньон</td>\n",
       "      <td>0</td>\n",
       "      <td>255763</td>\n",
       "      <td>покупка жилья</td>\n",
       "    </tr>\n",
       "    <tr>\n",
       "      <td>6</td>\n",
       "      <td>0</td>\n",
       "      <td>2879</td>\n",
       "      <td>43.0</td>\n",
       "      <td>высшее</td>\n",
       "      <td>0</td>\n",
       "      <td>женат / замужем</td>\n",
       "      <td>0</td>\n",
       "      <td>F</td>\n",
       "      <td>компаньон</td>\n",
       "      <td>0</td>\n",
       "      <td>240525</td>\n",
       "      <td>операции с жильем</td>\n",
       "    </tr>\n",
       "    <tr>\n",
       "      <td>7</td>\n",
       "      <td>0</td>\n",
       "      <td>152</td>\n",
       "      <td>50.0</td>\n",
       "      <td>среднее</td>\n",
       "      <td>1</td>\n",
       "      <td>женат / замужем</td>\n",
       "      <td>0</td>\n",
       "      <td>M</td>\n",
       "      <td>сотрудник</td>\n",
       "      <td>0</td>\n",
       "      <td>135823</td>\n",
       "      <td>образование</td>\n",
       "    </tr>\n",
       "    <tr>\n",
       "      <td>8</td>\n",
       "      <td>2</td>\n",
       "      <td>6929</td>\n",
       "      <td>35.0</td>\n",
       "      <td>высшее</td>\n",
       "      <td>0</td>\n",
       "      <td>гражданский брак</td>\n",
       "      <td>1</td>\n",
       "      <td>F</td>\n",
       "      <td>сотрудник</td>\n",
       "      <td>0</td>\n",
       "      <td>95856</td>\n",
       "      <td>на проведение свадьбы</td>\n",
       "    </tr>\n",
       "    <tr>\n",
       "      <td>9</td>\n",
       "      <td>0</td>\n",
       "      <td>2188</td>\n",
       "      <td>41.0</td>\n",
       "      <td>среднее</td>\n",
       "      <td>1</td>\n",
       "      <td>женат / замужем</td>\n",
       "      <td>0</td>\n",
       "      <td>M</td>\n",
       "      <td>сотрудник</td>\n",
       "      <td>0</td>\n",
       "      <td>144425</td>\n",
       "      <td>покупка жилья для семьи</td>\n",
       "    </tr>\n",
       "    <tr>\n",
       "      <td>10</td>\n",
       "      <td>2</td>\n",
       "      <td>4171</td>\n",
       "      <td>36.0</td>\n",
       "      <td>высшее</td>\n",
       "      <td>0</td>\n",
       "      <td>женат / замужем</td>\n",
       "      <td>0</td>\n",
       "      <td>M</td>\n",
       "      <td>компаньон</td>\n",
       "      <td>0</td>\n",
       "      <td>113943</td>\n",
       "      <td>покупка недвижимости</td>\n",
       "    </tr>\n",
       "    <tr>\n",
       "      <td>11</td>\n",
       "      <td>0</td>\n",
       "      <td>792</td>\n",
       "      <td>40.0</td>\n",
       "      <td>среднее</td>\n",
       "      <td>1</td>\n",
       "      <td>женат / замужем</td>\n",
       "      <td>0</td>\n",
       "      <td>F</td>\n",
       "      <td>сотрудник</td>\n",
       "      <td>0</td>\n",
       "      <td>77069</td>\n",
       "      <td>покупка коммерческой недвижимости</td>\n",
       "    </tr>\n",
       "    <tr>\n",
       "      <td>12</td>\n",
       "      <td>0</td>\n",
       "      <td>2194</td>\n",
       "      <td>65.0</td>\n",
       "      <td>среднее</td>\n",
       "      <td>1</td>\n",
       "      <td>гражданский брак</td>\n",
       "      <td>1</td>\n",
       "      <td>M</td>\n",
       "      <td>пенсионер</td>\n",
       "      <td>0</td>\n",
       "      <td>145017</td>\n",
       "      <td>сыграть свадьбу</td>\n",
       "    </tr>\n",
       "    <tr>\n",
       "      <td>13</td>\n",
       "      <td>0</td>\n",
       "      <td>1846</td>\n",
       "      <td>54.0</td>\n",
       "      <td>неоконченное высшее</td>\n",
       "      <td>2</td>\n",
       "      <td>женат / замужем</td>\n",
       "      <td>0</td>\n",
       "      <td>F</td>\n",
       "      <td>сотрудник</td>\n",
       "      <td>0</td>\n",
       "      <td>130458</td>\n",
       "      <td>приобретение автомобиля</td>\n",
       "    </tr>\n",
       "    <tr>\n",
       "      <td>14</td>\n",
       "      <td>0</td>\n",
       "      <td>1844</td>\n",
       "      <td>56.0</td>\n",
       "      <td>высшее</td>\n",
       "      <td>0</td>\n",
       "      <td>гражданский брак</td>\n",
       "      <td>1</td>\n",
       "      <td>F</td>\n",
       "      <td>компаньон</td>\n",
       "      <td>1</td>\n",
       "      <td>165127</td>\n",
       "      <td>покупка жилой недвижимости</td>\n",
       "    </tr>\n",
       "    <tr>\n",
       "      <td>15</td>\n",
       "      <td>1</td>\n",
       "      <td>972</td>\n",
       "      <td>26.0</td>\n",
       "      <td>среднее</td>\n",
       "      <td>1</td>\n",
       "      <td>женат / замужем</td>\n",
       "      <td>0</td>\n",
       "      <td>F</td>\n",
       "      <td>сотрудник</td>\n",
       "      <td>0</td>\n",
       "      <td>116820</td>\n",
       "      <td>строительство собственной недвижимости</td>\n",
       "    </tr>\n",
       "    <tr>\n",
       "      <td>16</td>\n",
       "      <td>0</td>\n",
       "      <td>1719</td>\n",
       "      <td>35.0</td>\n",
       "      <td>среднее</td>\n",
       "      <td>1</td>\n",
       "      <td>женат / замужем</td>\n",
       "      <td>0</td>\n",
       "      <td>F</td>\n",
       "      <td>сотрудник</td>\n",
       "      <td>0</td>\n",
       "      <td>289202</td>\n",
       "      <td>недвижимость</td>\n",
       "    </tr>\n",
       "    <tr>\n",
       "      <td>17</td>\n",
       "      <td>0</td>\n",
       "      <td>2369</td>\n",
       "      <td>33.0</td>\n",
       "      <td>высшее</td>\n",
       "      <td>0</td>\n",
       "      <td>гражданский брак</td>\n",
       "      <td>1</td>\n",
       "      <td>M</td>\n",
       "      <td>сотрудник</td>\n",
       "      <td>0</td>\n",
       "      <td>90410</td>\n",
       "      <td>строительство недвижимости</td>\n",
       "    </tr>\n",
       "    <tr>\n",
       "      <td>18</td>\n",
       "      <td>0</td>\n",
       "      <td>400281</td>\n",
       "      <td>53.0</td>\n",
       "      <td>среднее</td>\n",
       "      <td>1</td>\n",
       "      <td>вдовец / вдова</td>\n",
       "      <td>2</td>\n",
       "      <td>F</td>\n",
       "      <td>пенсионер</td>\n",
       "      <td>0</td>\n",
       "      <td>56823</td>\n",
       "      <td>на покупку подержанного автомобиля</td>\n",
       "    </tr>\n",
       "    <tr>\n",
       "      <td>19</td>\n",
       "      <td>0</td>\n",
       "      <td>10038</td>\n",
       "      <td>48.0</td>\n",
       "      <td>среднее</td>\n",
       "      <td>1</td>\n",
       "      <td>в разводе</td>\n",
       "      <td>3</td>\n",
       "      <td>F</td>\n",
       "      <td>сотрудник</td>\n",
       "      <td>0</td>\n",
       "      <td>242831</td>\n",
       "      <td>на покупку своего автомобиля</td>\n",
       "    </tr>\n",
       "  </tbody>\n",
       "</table>\n",
       "</div>"
      ],
      "text/plain": [
       "    children  days_employed  dob_years            education  education_id  \\\n",
       "0          1           8437       42.0               высшее             0   \n",
       "1          1           4024       36.0              среднее             1   \n",
       "2          0           5623       33.0              среднее             1   \n",
       "3          3           4124       32.0              среднее             1   \n",
       "4          0         340266       53.0              среднее             1   \n",
       "5          0            926       27.0               высшее             0   \n",
       "6          0           2879       43.0               высшее             0   \n",
       "7          0            152       50.0              среднее             1   \n",
       "8          2           6929       35.0               высшее             0   \n",
       "9          0           2188       41.0              среднее             1   \n",
       "10         2           4171       36.0               высшее             0   \n",
       "11         0            792       40.0              среднее             1   \n",
       "12         0           2194       65.0              среднее             1   \n",
       "13         0           1846       54.0  неоконченное высшее             2   \n",
       "14         0           1844       56.0               высшее             0   \n",
       "15         1            972       26.0              среднее             1   \n",
       "16         0           1719       35.0              среднее             1   \n",
       "17         0           2369       33.0               высшее             0   \n",
       "18         0         400281       53.0              среднее             1   \n",
       "19         0          10038       48.0              среднее             1   \n",
       "\n",
       "       family_status  family_status_id gender income_type  debt  total_income  \\\n",
       "0    женат / замужем                 0      F   сотрудник     0        253875   \n",
       "1    женат / замужем                 0      F   сотрудник     0        112080   \n",
       "2    женат / замужем                 0      M   сотрудник     0        145885   \n",
       "3    женат / замужем                 0      M   сотрудник     0        267628   \n",
       "4   гражданский брак                 1      F   пенсионер     0        158616   \n",
       "5   гражданский брак                 1      M   компаньон     0        255763   \n",
       "6    женат / замужем                 0      F   компаньон     0        240525   \n",
       "7    женат / замужем                 0      M   сотрудник     0        135823   \n",
       "8   гражданский брак                 1      F   сотрудник     0         95856   \n",
       "9    женат / замужем                 0      M   сотрудник     0        144425   \n",
       "10   женат / замужем                 0      M   компаньон     0        113943   \n",
       "11   женат / замужем                 0      F   сотрудник     0         77069   \n",
       "12  гражданский брак                 1      M   пенсионер     0        145017   \n",
       "13   женат / замужем                 0      F   сотрудник     0        130458   \n",
       "14  гражданский брак                 1      F   компаньон     1        165127   \n",
       "15   женат / замужем                 0      F   сотрудник     0        116820   \n",
       "16   женат / замужем                 0      F   сотрудник     0        289202   \n",
       "17  гражданский брак                 1      M   сотрудник     0         90410   \n",
       "18    вдовец / вдова                 2      F   пенсионер     0         56823   \n",
       "19         в разводе                 3      F   сотрудник     0        242831   \n",
       "\n",
       "                                   purpose  \n",
       "0                            покупка жилья  \n",
       "1                  приобретение автомобиля  \n",
       "2                            покупка жилья  \n",
       "3               дополнительное образование  \n",
       "4                          сыграть свадьбу  \n",
       "5                            покупка жилья  \n",
       "6                        операции с жильем  \n",
       "7                              образование  \n",
       "8                    на проведение свадьбы  \n",
       "9                  покупка жилья для семьи  \n",
       "10                    покупка недвижимости  \n",
       "11       покупка коммерческой недвижимости  \n",
       "12                         сыграть свадьбу  \n",
       "13                 приобретение автомобиля  \n",
       "14              покупка жилой недвижимости  \n",
       "15  строительство собственной недвижимости  \n",
       "16                            недвижимость  \n",
       "17              строительство недвижимости  \n",
       "18      на покупку подержанного автомобиля  \n",
       "19            на покупку своего автомобиля  "
      ]
     },
     "execution_count": 4,
     "metadata": {},
     "output_type": "execute_result"
    }
   ],
   "source": [
    "# Сперва переведу значения flaoat в int для удобной визуализации данных и дальнейшего анализа методом astype \n",
    "data['days_employed'] = data['days_employed'].astype('int') \n",
    "data['total_income'] = data['total_income'].astype('int')\n",
    "\n",
    "#столбец education переведу в единый формат. \n",
    "data['education'] = data['education'].str.lower()\n",
    "\n",
    "\n",
    "data.info()\n",
    "data.head(20)"
   ]
  },
  {
   "cell_type": "markdown",
   "metadata": {},
   "source": [
    "**Вывод**\n",
    "Все строки переведены в читалбельный формат. \n",
    "Видны \"странности\" в столбце days_employed - крупные значения дней. Но так как заказчик требует аналитику по другим столбцам, оставим эти значения, они нам не помогут в дальнейшем. \n"
   ]
  },
  {
   "cell_type": "markdown",
   "metadata": {},
   "source": [
    "### Обработка дубликатов"
   ]
  },
  {
   "cell_type": "code",
   "execution_count": 5,
   "metadata": {
    "scrolled": true
   },
   "outputs": [
    {
     "name": "stdout",
     "output_type": "stream",
     "text": [
      "среднее                15233\n",
      "высшее                  5260\n",
      "неоконченное высшее      744\n",
      "начальное                282\n",
      "ученая степень             6\n",
      "Name: education, dtype: int64\n",
      "\n",
      "женат / замужем          12380\n",
      "гражданский брак          4177\n",
      "не женат / не замужем     2813\n",
      "в разводе                 1195\n",
      "вдовец / вдова             960\n",
      "Name: family_status, dtype: int64\n",
      "\n",
      "F    14236\n",
      "M     7289\n",
      "Name: gender, dtype: int64\n",
      "\n",
      "сотрудник      11120\n",
      "компаньон       5087\n",
      "пенсионер       3859\n",
      "госслужащий     1459\n",
      "Name: income_type, dtype: int64\n",
      "\n",
      "свадьба                                   797\n",
      "на проведение свадьбы                     777\n",
      "сыграть свадьбу                           774\n",
      "операции с недвижимостью                  676\n",
      "покупка коммерческой недвижимости         664\n",
      "покупка жилья для сдачи                   653\n",
      "операции с жильем                         653\n",
      "операции с коммерческой недвижимостью     651\n",
      "жилье                                     647\n",
      "покупка жилья                             647\n",
      "покупка жилья для семьи                   641\n",
      "строительство собственной недвижимости    635\n",
      "недвижимость                              634\n",
      "операции со своей недвижимостью           630\n",
      "строительство жилой недвижимости          626\n",
      "покупка недвижимости                      624\n",
      "покупка своего жилья                      620\n",
      "строительство недвижимости                620\n",
      "ремонт жилью                              612\n",
      "покупка жилой недвижимости                607\n",
      "на покупку своего автомобиля              505\n",
      "заняться высшим образованием              496\n",
      "автомобиль                                495\n",
      "сделка с подержанным автомобилем          489\n",
      "свой автомобиль                           480\n",
      "на покупку подержанного автомобиля        479\n",
      "автомобили                                478\n",
      "на покупку автомобиля                     472\n",
      "дополнительное образование                462\n",
      "приобретение автомобиля                   462\n",
      "сделка с автомобилем                      455\n",
      "высшее образование                        453\n",
      "получение дополнительного образования     447\n",
      "образование                               447\n",
      "получение образования                     443\n",
      "профильное образование                    436\n",
      "получение высшего образования             426\n",
      "заняться образованием                     412\n",
      "Name: purpose, dtype: int64\n",
      "\n",
      "0\n"
     ]
    }
   ],
   "source": [
    "#data.info() #смотрю стороки с форматом object - education, family_status, gender,income_type, purpose\n",
    "# ищем дубликаты\n",
    "education_counts = data['education'].value_counts() \n",
    "print (education_counts)\n",
    "print ()\n",
    "\n",
    "data['family_status'] = data['family_status'].str.lower()\n",
    "family_status_counts = data['family_status'].value_counts() # выровнил по нижнему регистру. \n",
    "print (family_status_counts)\n",
    "print ()\n",
    "\n",
    "data['gender'] = data['gender'].replace('XNA', 'M')\n",
    "gender_counts = data['gender'].value_counts() \n",
    "#выявил значние 1 XNA, которое нельзя отнести к полу. Одно значение на результат не повлияет, заменю на М, так как данных значений меньше чем F\n",
    "# 2. Обнуружил нулевое значение. \n",
    "print (gender_counts)\n",
    "print ()\n",
    "\n",
    "data['income_type']=data['income_type'].replace('студент','пенсионер')\n",
    "data['income_type']=data['income_type'].replace('безработный','пенсионер')\n",
    "data['income_type']=data['income_type'].replace('предприниматель','компаньон')\n",
    "data['income_type']=data['income_type'].replace('в декрете','сотрудник')\n",
    "income_type_counts = data['income_type'].value_counts() #заменил занчение в количестве 1 - 2 на более подходящую категорb. для чистоты. \n",
    "print(income_type_counts)\n",
    "print ()\n",
    "\n",
    "purpose_counts = data['purpose'].value_counts() \n",
    "print (purpose_counts) # выведу категории в основные категории в следющем задании lemma\n",
    "print ()\n",
    "\n",
    "# выявлю количество дубликтов \n",
    "#print(data.duplicated().sum()) # Выявил 71 дубликат, необходимо удалить. \n",
    "data = data.drop_duplicates().reset_index()\n",
    "print(data.duplicated().sum()) # проверяю итог\n",
    "\n"
   ]
  },
  {
   "cell_type": "markdown",
   "metadata": {},
   "source": [
    "**Вывод**\n",
    "\n",
    "Дубликаты почищены. Дубликаты выявлял простым методом .value_counts(), так как он максимально прост и нагляден. "
   ]
  },
  {
   "cell_type": "markdown",
   "metadata": {},
   "source": [
    "### Лемматизация"
   ]
  },
  {
   "cell_type": "code",
   "execution_count": 6,
   "metadata": {},
   "outputs": [
    {
     "name": "stdout",
     "output_type": "stream",
     "text": [
      "Counter({' ': 59, 'с': 5, 'покупка': 4, 'свой': 3, 'жилье': 2, 'для': 2, 'недвижимостипокупка': 2, 'коммерческий': 2, 'жилой': 2, 'подержать': 2, 'высокий': 2, 'жильяприобретение': 1, 'автомобилядополнительный': 1, 'образованиесыграть': 1, 'свадьбуоперация': 1, 'жильемобразованиен': 1, 'проведение': 1, 'свадьбыпокупка': 1, 'семьипокупка': 1, 'недвижимостистроительство': 1, 'собственный': 1, 'недвижимостинедвижимостьстроительство': 1, 'недвижимостина': 1, 'автомобиляна': 1, 'автомобиляоперация': 1, 'недвижимостьюстроительство': 1, 'недвижимостижильеоперация': 1, 'со': 1, 'недвижимостьюавтомобилизаняться': 1, 'образованиемсделка': 1, 'автомобилемполучение': 1, 'образованияавтомобильсвадьбаполучение': 1, 'дополнительный': 1, 'образованияпокупка': 1, 'жильяоперация': 1, 'недвижимостьюполучение': 1, 'образованиясва': 1, 'автомобильсделка': 1, 'автомобилемпрофильный': 1, 'образованиевысший': 1, 'образованиепокупка': 1, 'сдачина': 1, 'автомобиляремонт': 1, 'жильюзаняться': 1, 'образование': 1, '\\n': 1})\n"
     ]
    }
   ],
   "source": [
    "#повторно посмотрю на столбец purpose\n",
    "#purpose_counts = data['purpose'].value_counts() \n",
    "#print (purpose_counts)\n",
    "\n",
    "#главные катеогрии видны: свадьба, жилье, автомобиль, образование. В каждой категрии есть повторяющиеся слова - Свадьба - свадьба, Жилья - недвижимость, Автомобиль - автомобиль, Образование - образование.\n",
    "#с данными категориями и повторяющимися словами и буду работать. Для этого сделаю функцию с методом lemma для группировки категорий.\n",
    "\n",
    "lemmas = m.lemmatize(''.join(data['purpose'].unique()))\n",
    "from collections import Counter\n",
    "print (Counter(lemmas)) #благодаря Counter полчилось вывести наиболее повторяемы слова в столбце purpose. Данным способом получил наименование категорий. \n",
    "\n",
    "def lemmatizer (data):\n",
    "    for i in range(0, len(data['purpose'])): #для изменения списока в цикле\n",
    "        lemmas = m.lemmatize(data.loc[i,'purpose'])\n",
    "        if 'свадьба' in lemmas:\n",
    "            data.loc[i,'purpose'] = 'свадьба'\n",
    "        if 'жилье' in lemmas or 'недвижимость' in lemmas:\n",
    "            data.loc[i,'purpose'] = 'недвижимость'\n",
    "        if 'автомобиль' in lemmas:\n",
    "            data.loc[i,'purpose'] = 'автомобиль'\n",
    "        if 'образование' in lemmas:\n",
    "            data.loc[i,'purpose'] = 'образование'\n",
    "    return data\n",
    "\n",
    "data = lemmatizer(data)\n",
    "#print (data.head(10)) #проверил реудьтат и чтобы ничего не \"поехало\". "
   ]
  },
  {
   "cell_type": "markdown",
   "metadata": {},
   "source": [
    "**Вывод**\n",
    "Благодаря Lemma в данных осталось только 4 категории из множетсва, что поможет анализировать данные для выполнения задания заказчика. "
   ]
  },
  {
   "cell_type": "markdown",
   "metadata": {},
   "source": [
    "### Категоризация данных"
   ]
  },
  {
   "cell_type": "code",
   "execution_count": 8,
   "metadata": {},
   "outputs": [
    {
     "name": "stdout",
     "output_type": "stream",
     "text": [
      "Заемщики без детей\n",
      "children    14090\n",
      "dtype: int64\n",
      "\n",
      "Заемщики с одним ребенком\n",
      "children    4808\n",
      "dtype: int64\n",
      "\n",
      "Многодетные заемщики\n",
      "children    2508\n",
      "dtype: int64\n",
      "\n",
      "Заемщики с низким доходом\n",
      "total_income    372\n",
      "dtype: int64\n",
      "\n",
      "Заемщики с доходом выше низкого\n",
      "total_income    11556\n",
      "dtype: int64\n",
      "\n",
      "Заемщики со средним доходом\n",
      "total_income    8962\n",
      "dtype: int64\n",
      "\n",
      "Заемщики с высоким доходом\n",
      "total_income    222\n",
      "dtype: int64\n",
      "\n",
      "Цель заема - свадьба\n",
      "purpose    2323\n",
      "dtype: int64\n",
      "\n",
      "Цель заема - недвижимость\n",
      "purpose    10811\n",
      "dtype: int64\n",
      "\n",
      "Цель заема - автомобиль\n",
      "purpose    4306\n",
      "dtype: int64\n",
      "\n",
      "Цель заема - образование\n",
      "purpose    4013\n",
      "dtype: int64\n",
      "\n"
     ]
    }
   ],
   "source": [
    "#сперва посмотрю уникальные значения столбеца \n",
    "#print(data['children'].unique())  \n",
    "\n",
    "# КАТЕГОРИЯ ДЛЯ ДЕТЕЙ \n",
    "children_group = data[['children']] #ввел индексацию по 2 столбцам\n",
    "no_children = children_group [children_group['children'] == 0] # определил категории \n",
    "one_children = children_group[children_group['children'] == 1]\n",
    "more_children = children_group[children_group['children'] > 1]\n",
    "\n",
    "print('Заемщики без детей') #проверяю категоризацию\n",
    "print (no_children.count())\n",
    "print()\n",
    "print('Заемщики с одним ребенком')\n",
    "print(one_children.count())\n",
    "print()\n",
    "print('Многодетные заемщики')\n",
    "print(more_children.count())\n",
    "print()\n",
    "\n",
    "#КАТЕГОРИЯ ПО ДОХОДУ\n",
    "income_group = data[['total_income']] \n",
    "income_poor = income_group[income_group['total_income'] <= 50000]\n",
    "income_low = income_group[(income_group['total_income'] >= 50001) & (income_group['total_income'])]\n",
    "income_middle = income_group[(income_group['total_income'] >= 150001) & (income_group['total_income'] <= 500000)]\n",
    "income_high = income_group[income_group['total_income'] >= 500001]\n",
    "                                                                     \n",
    "print('Заемщики с низким доходом') \n",
    "print (income_poor.count())\n",
    "print()\n",
    "print('Заемщики с доходом выше низкого')\n",
    "print(income_low.count())\n",
    "print()\n",
    "print('Заемщики со средним доходом')\n",
    "print(income_middle.count())\n",
    "print()\n",
    "print('Заемщики с высоким доходом')\n",
    "print(income_high.count())\n",
    "print()\n",
    "\n",
    "#КАТЕГОРИЯ ПО ЦЕЛЯМ\n",
    "purpose_group = data[['purpose']] \n",
    "wedding = purpose_group[purpose_group['purpose'] == 'свадьба']\n",
    "housing = purpose_group[purpose_group['purpose'] == 'недвижимость']\n",
    "car = purpose_group[purpose_group['purpose'] == 'автомобиль']\n",
    "education = purpose_group[purpose_group['purpose'] == 'образование']\n",
    "                                                                     \n",
    "print('Цель заема - свадьба') \n",
    "print (wedding.count())\n",
    "print()\n",
    "print('Цель заема - недвижимость')\n",
    "print(housing.count())\n",
    "print()\n",
    "print('Цель заема - автомобиль')\n",
    "print(car.count())\n",
    "print()\n",
    "print('Цель заема - образование')\n",
    "print(education.count())\n",
    "print()"
   ]
  },
  {
   "cell_type": "markdown",
   "metadata": {},
   "source": [
    "**Вывод**\n",
    "Согласно комментариям выделил категории замещиков по количеству детей, доходу и целей. "
   ]
  },
  {
   "cell_type": "markdown",
   "metadata": {},
   "source": [
    "## Шаг 3. Ответьте на вопросы"
   ]
  },
  {
   "cell_type": "markdown",
   "metadata": {},
   "source": [
    "- Есть ли зависимость между наличием детей и возвратом кредита в срок?"
   ]
  },
  {
   "cell_type": "code",
   "execution_count": 10,
   "metadata": {},
   "outputs": [
    {
     "name": "stdout",
     "output_type": "stream",
     "text": [
      "Процент возврата у бездетных заемщиков\n",
      "children    7.721789\n",
      "dtype: float64\n",
      "\n",
      "Процент возврата у заемщиков одним ребенком\n",
      "children    22.628952\n",
      "dtype: float64\n",
      "\n",
      "Процент возврата у многодетных заемщиков\n",
      "children    43.38118\n",
      "dtype: float64\n",
      "\n"
     ]
    }
   ],
   "source": [
    "children_debt = (data[data['debt'] == 1].groupby('debt')['children'].sum())\n",
    "no_children_debt = children_debt.sum()/no_children.count()\n",
    "one_children_debt = children_debt.sum()/one_children.count()\n",
    "more_children_debt = children_debt.sum()/more_children.count()\n",
    "print ('Процент возврата у бездетных заемщиков')\n",
    "print (no_children_debt*100)\n",
    "print()\n",
    "print ('Процент возврата у заемщиков одним ребенком')\n",
    "print (one_children_debt*100)\n",
    "print()\n",
    "print ('Процент возврата у многодетных заемщиков')\n",
    "print (more_children_debt*100)\n",
    "print()\n"
   ]
  },
  {
   "cell_type": "markdown",
   "metadata": {},
   "source": [
    "**Вывод**\n",
    "\n",
    "Заемщики не имещие детей реже возвращают кредиты. Заемщики с одним и более детьми возвращают чаще. \n",
    "Ответ - зависимость оплаты кредита от наличия ребенка есть. "
   ]
  },
  {
   "cell_type": "markdown",
   "metadata": {},
   "source": [
    "- Есть ли зависимость между семейным положением и возвратом кредита в срок?"
   ]
  },
  {
   "cell_type": "code",
   "execution_count": 12,
   "metadata": {},
   "outputs": [
    {
     "name": "stdout",
     "output_type": "stream",
     "text": [
      "family_status\n",
      "в разводе                7.112971\n",
      "вдовец / вдова           6.569343\n",
      "гражданский брак         9.349398\n",
      "женат / замужем          7.545182\n",
      "не женат / не замужем    9.750890\n",
      "Name: debt, dtype: float64\n"
     ]
    }
   ],
   "source": [
    "#print(data['family_status'].value_counts()) \n",
    "\n",
    "family_status_debt = (data[data['debt'] == 1].groupby('family_status')['debt'].count() / data.groupby('family_status')['debt'].count())\n",
    "print ((family_status_debt)*100)"
   ]
  },
  {
   "cell_type": "markdown",
   "metadata": {},
   "source": [
    "**Вывод**\n",
    "\n",
    "Не женатые и незамужние оплчивает кредиты чаще чем все остальные категории. Возможно ошибка в данных или расчетах. Так как, по логике, платить тдолжны семейные люди, но они на 2м месте. \n",
    "\n",
    "Ответ - зависимость есть. "
   ]
  },
  {
   "cell_type": "markdown",
   "metadata": {},
   "source": []
  },
  {
   "cell_type": "markdown",
   "metadata": {},
   "source": [
    "- Есть ли зависимость между уровнем дохода и возвратом кредита в срок?"
   ]
  },
  {
   "cell_type": "code",
   "execution_count": 13,
   "metadata": {},
   "outputs": [
    {
     "name": "stdout",
     "output_type": "stream",
     "text": [
      "Процент возврата у заемщиков с низким доходом\n",
      "total_income    7.550635e+07\n",
      "dtype: float64\n",
      "\n",
      "Процент возврата у заемщиков с доходом выше среднего\n",
      "total_income    2.430630e+06\n",
      "dtype: float64\n",
      "\n",
      "Процент возврата у заемщиков со средним доходом\n",
      "total_income    3.134162e+06\n",
      "dtype: float64\n",
      "\n",
      "Процент возврата у заемщиков с высоким доходом\n",
      "total_income    1.265241e+08\n",
      "dtype: float64\n",
      "\n"
     ]
    }
   ],
   "source": [
    "income_debt = (data[data['debt'] == 1].groupby('debt')['total_income'].sum())\n",
    "income_poor_debt = income_debt.sum()/income_poor.count()\n",
    "income_low_debt = income_debt.sum()/income_low.count()\n",
    "income_middle_debt = income_debt.sum()/income_middle.count()\n",
    "income_high_debt = income_debt.sum()/income_high.count()\n",
    "print ('Процент возврата у заемщиков с низким доходом')\n",
    "print (income_poor_debt*100)\n",
    "print()\n",
    "print ('Процент возврата у заемщиков с доходом выше среднего')\n",
    "print (income_low_debt*100)\n",
    "print()\n",
    "print ('Процент возврата у заемщиков со средним доходом')\n",
    "print (income_middle_debt*100)\n",
    "print()\n",
    "print ('Процент возврата у заемщиков с высоким доходом')\n",
    "print (income_high_debt*100)\n",
    "print()"
   ]
  },
  {
   "cell_type": "markdown",
   "metadata": {},
   "source": [
    "**Вывод**\n",
    "По результатам видим, что люди с низким доходом чаще выплачивают кредит во время. Это говорит о нежелании погрязнуть в долгах, не имея сверх дохода. С очень низким доходом и с высоким доходом, заемщики выплачивают реже кредит, так как у одних денег нет, другие инвестируют свободные деньги. "
   ]
  },
  {
   "cell_type": "markdown",
   "metadata": {},
   "source": [
    "- Как разные цели кредита влияют на его возврат в срок?"
   ]
  },
  {
   "cell_type": "code",
   "execution_count": 28,
   "metadata": {},
   "outputs": [
    {
     "name": "stdout",
     "output_type": "stream",
     "text": [
      "purpose\n",
      "недвижимость    7.233373\n",
      "свадьба         8.006888\n",
      "образование     9.220035\n",
      "автомобиль      9.359034\n",
      "Name: debt, dtype: float64\n"
     ]
    }
   ],
   "source": [
    "purpose_debt = (data[data['debt'] == 1].groupby('purpose')['debt'].count() / data.groupby('purpose')['debt'].count())\n",
    "\n",
    "print(purpose_debt.sort_values()*100)\n"
   ]
  },
  {
   "cell_type": "markdown",
   "metadata": {},
   "source": [
    "**Вывод**\n",
    "\n",
    "Лидирует недвижимость в целях по кредиту и, удивительно, - свадьба! \n",
    "\n",
    "Зависимость есть. "
   ]
  },
  {
   "cell_type": "code",
   "execution_count": 32,
   "metadata": {},
   "outputs": [
    {
     "data": {
      "text/html": [
       "<div>\n",
       "<style scoped>\n",
       "    .dataframe tbody tr th:only-of-type {\n",
       "        vertical-align: middle;\n",
       "    }\n",
       "\n",
       "    .dataframe tbody tr th {\n",
       "        vertical-align: top;\n",
       "    }\n",
       "\n",
       "    .dataframe thead th {\n",
       "        text-align: right;\n",
       "    }\n",
       "</style>\n",
       "<table border=\"1\" class=\"dataframe\">\n",
       "  <thead>\n",
       "    <tr style=\"text-align: right;\">\n",
       "      <th></th>\n",
       "      <th>index</th>\n",
       "      <th>purpose</th>\n",
       "      <th>debt</th>\n",
       "    </tr>\n",
       "  </thead>\n",
       "  <tbody>\n",
       "    <tr>\n",
       "      <td>0</td>\n",
       "      <td>0</td>\n",
       "      <td>автомобиль</td>\n",
       "      <td>9.4%</td>\n",
       "    </tr>\n",
       "    <tr>\n",
       "      <td>1</td>\n",
       "      <td>2</td>\n",
       "      <td>образование</td>\n",
       "      <td>9.2%</td>\n",
       "    </tr>\n",
       "    <tr>\n",
       "      <td>2</td>\n",
       "      <td>3</td>\n",
       "      <td>свадьба</td>\n",
       "      <td>8.0%</td>\n",
       "    </tr>\n",
       "    <tr>\n",
       "      <td>3</td>\n",
       "      <td>1</td>\n",
       "      <td>недвижимость</td>\n",
       "      <td>7.2%</td>\n",
       "    </tr>\n",
       "  </tbody>\n",
       "</table>\n",
       "</div>"
      ],
      "text/plain": [
       "   index       purpose  debt\n",
       "0      0    автомобиль  9.4%\n",
       "1      2   образование  9.2%\n",
       "2      3       свадьба  8.0%\n",
       "3      1  недвижимость  7.2%"
      ]
     },
     "execution_count": 32,
     "metadata": {},
     "output_type": "execute_result"
    }
   ],
   "source": [
    "# Код ревьюера\n",
    "purpose_debt = purpose_debt.reset_index().sort_values(by='debt', ascending=False)\n",
    "purpose_debt['debt'] = purpose_debt['debt'].map('{:.1%}'.format)\n",
    "purpose_debt"
   ]
  },
  {
   "cell_type": "markdown",
   "metadata": {},
   "source": [
    "## Шаг 4. Общий вывод"
   ]
  },
  {
   "cell_type": "markdown",
   "metadata": {},
   "source": [
    "Проанализировав данные можено сделать следующий вывод: \n",
    "\n",
    "1. Наличие детей влияет в положительную сторону на выплаты по кредиту\n",
    "2. Исходя из предыдущего пункта логичны показатели по целям кредита - заем на недвижимость для семьи\n",
    "3. Семейное положение, в масштабах, не влияет на выплаты по кредиту \n",
    "4. Выгоднее выдавать кредиты людам с достатком от 50000 до 150000, так как их платежеспособность лучше. "
   ]
  },
  {
   "cell_type": "markdown",
   "metadata": {},
   "source": [
    "## Чек-лист готовности проекта\n",
    "\n",
    "Поставьте 'x' в выполненных пунктах. Далее нажмите Shift+Enter."
   ]
  },
  {
   "cell_type": "markdown",
   "metadata": {},
   "source": [
    "- [x]  открыт файл;\n",
    "- [x]  файл изучен;\n",
    "- [x]  определены пропущенные значения;\n",
    "- [x]  заполнены пропущенные значения;\n",
    "- [x]  есть пояснение, какие пропущенные значения обнаружены;\n",
    "- [x]  описаны возможные причины появления пропусков в данных;\n",
    "- [x]  объяснено, по какому принципу заполнены пропуски;\n",
    "- [x]  заменен вещественный тип данных на целочисленный;\n",
    "- [x]  есть пояснение, какой метод используется для изменения типа данных и почему;\n",
    "- [x]  удалены дубликаты;\n",
    "- [x]  есть пояснение, какой метод используется для поиска и удаления дубликатов;\n",
    "- [x]  описаны возможные причины появления дубликатов в данных;\n",
    "- [x]  выделены леммы в значениях столбца с целями получения кредита;\n",
    "- [x]  описан процесс лемматизации;\n",
    "- [x]  данные категоризированы;\n",
    "- [x]  есть объяснение принципа категоризации данных;\n",
    "- [x]  есть ответ на вопрос: \"Есть ли зависимость между наличием детей и возвратом кредита в срок?\";\n",
    "- [x]  есть ответ на вопрос: \"Есть ли зависимость между семейным положением и возвратом кредита в срок?\";\n",
    "- [x]  есть ответ на вопрос: \"Есть ли зависимость между уровнем дохода и возвратом кредита в срок?\";\n",
    "- [x]  есть ответ на вопрос: \"Как разные цели кредита влияют на его возврат в срок?\";\n",
    "- [x]  в каждом этапе есть выводы;\n",
    "- [x]  есть общий вывод."
   ]
  },
  {
   "cell_type": "code",
   "execution_count": null,
   "metadata": {},
   "outputs": [],
   "source": []
  }
 ],
 "metadata": {
  "ExecuteTimeLog": [
   {
    "duration": 359,
    "start_time": "2021-09-15T15:44:50.116Z"
   },
   {
    "duration": 683,
    "start_time": "2021-09-15T15:45:03.900Z"
   },
   {
    "duration": 63,
    "start_time": "2021-09-15T15:45:55.985Z"
   },
   {
    "duration": 919,
    "start_time": "2021-09-15T18:30:25.515Z"
   },
   {
    "duration": 13,
    "start_time": "2021-09-15T18:48:35.634Z"
   },
   {
    "duration": 27,
    "start_time": "2021-09-15T18:52:07.675Z"
   },
   {
    "duration": 31,
    "start_time": "2021-09-15T18:52:43.529Z"
   },
   {
    "duration": 14,
    "start_time": "2021-09-15T18:53:18.248Z"
   },
   {
    "duration": 506,
    "start_time": "2021-09-15T19:09:39.498Z"
   },
   {
    "duration": 405,
    "start_time": "2021-09-15T19:09:49.428Z"
   },
   {
    "duration": -48,
    "start_time": "2021-09-15T19:10:24.349Z"
   },
   {
    "duration": -43,
    "start_time": "2021-09-15T19:10:54.793Z"
   },
   {
    "duration": -55,
    "start_time": "2021-09-15T19:11:09.125Z"
   },
   {
    "duration": 8234,
    "start_time": "2021-09-15T19:12:11.426Z"
   },
   {
    "duration": 72,
    "start_time": "2021-09-15T19:12:59.885Z"
   },
   {
    "duration": 90,
    "start_time": "2021-09-15T19:14:18.774Z"
   },
   {
    "duration": 78,
    "start_time": "2021-09-15T19:14:37.524Z"
   },
   {
    "duration": 390,
    "start_time": "2021-09-16T15:14:43.429Z"
   },
   {
    "duration": 248,
    "start_time": "2021-09-16T15:14:53.286Z"
   },
   {
    "duration": 280,
    "start_time": "2021-09-16T15:15:03.444Z"
   },
   {
    "duration": 333,
    "start_time": "2021-09-16T15:15:23.957Z"
   },
   {
    "duration": 274,
    "start_time": "2021-09-16T15:18:36.814Z"
   },
   {
    "duration": 358,
    "start_time": "2021-09-16T15:18:42.292Z"
   },
   {
    "duration": 464,
    "start_time": "2021-09-16T15:18:45.878Z"
   },
   {
    "duration": 1311,
    "start_time": "2021-09-16T15:22:54.700Z"
   },
   {
    "duration": 134,
    "start_time": "2021-09-16T15:23:12.523Z"
   },
   {
    "duration": 137,
    "start_time": "2021-09-16T15:23:38.465Z"
   },
   {
    "duration": 133,
    "start_time": "2021-09-16T15:25:14.061Z"
   },
   {
    "duration": 381,
    "start_time": "2021-09-16T15:28:41.706Z"
   },
   {
    "duration": 345,
    "start_time": "2021-09-16T15:28:46.855Z"
   },
   {
    "duration": 157,
    "start_time": "2021-09-16T15:29:12.959Z"
   },
   {
    "duration": 160,
    "start_time": "2021-09-16T15:29:42.144Z"
   },
   {
    "duration": 130,
    "start_time": "2021-09-16T15:30:19.420Z"
   },
   {
    "duration": 154,
    "start_time": "2021-09-16T15:30:44.716Z"
   },
   {
    "duration": 152,
    "start_time": "2021-09-16T15:31:11.962Z"
   },
   {
    "duration": 68,
    "start_time": "2021-09-16T15:37:27.745Z"
   },
   {
    "duration": 94,
    "start_time": "2021-09-16T15:38:30.651Z"
   },
   {
    "duration": 145,
    "start_time": "2021-09-16T15:39:10.891Z"
   },
   {
    "duration": 140,
    "start_time": "2021-09-16T15:39:33.317Z"
   },
   {
    "duration": 158,
    "start_time": "2021-09-16T15:41:55.147Z"
   },
   {
    "duration": 154,
    "start_time": "2021-09-16T15:42:11.246Z"
   },
   {
    "duration": 157,
    "start_time": "2021-09-16T15:43:13.413Z"
   },
   {
    "duration": 153,
    "start_time": "2021-09-16T15:51:30.280Z"
   },
   {
    "duration": 142,
    "start_time": "2021-09-16T15:52:12.967Z"
   },
   {
    "duration": 124,
    "start_time": "2021-09-16T15:55:06.827Z"
   },
   {
    "duration": 138,
    "start_time": "2021-09-16T15:55:25.736Z"
   },
   {
    "duration": 364,
    "start_time": "2021-09-16T15:56:59.400Z"
   },
   {
    "duration": 113,
    "start_time": "2021-09-16T15:57:37.185Z"
   },
   {
    "duration": 138,
    "start_time": "2021-09-16T15:57:50.876Z"
   },
   {
    "duration": 131,
    "start_time": "2021-09-16T16:01:24.553Z"
   },
   {
    "duration": 194,
    "start_time": "2021-09-16T16:15:10.515Z"
   },
   {
    "duration": 122,
    "start_time": "2021-09-16T16:22:07.163Z"
   },
   {
    "duration": 120,
    "start_time": "2021-09-16T16:22:14.011Z"
   },
   {
    "duration": 119,
    "start_time": "2021-09-16T16:22:22.805Z"
   },
   {
    "duration": 101,
    "start_time": "2021-09-16T16:24:09.580Z"
   },
   {
    "duration": 93,
    "start_time": "2021-09-16T16:24:15.530Z"
   },
   {
    "duration": -42,
    "start_time": "2021-09-16T16:25:15.689Z"
   },
   {
    "duration": 5052,
    "start_time": "2021-09-16T16:25:19.395Z"
   },
   {
    "duration": 380,
    "start_time": "2021-09-16T16:33:24.531Z"
   },
   {
    "duration": 1958,
    "start_time": "2021-09-16T16:34:09.958Z"
   },
   {
    "duration": 397,
    "start_time": "2021-09-16T16:34:19.168Z"
   },
   {
    "duration": 370,
    "start_time": "2021-09-16T16:34:29.788Z"
   },
   {
    "duration": 342,
    "start_time": "2021-09-16T16:34:38.118Z"
   },
   {
    "duration": 956,
    "start_time": "2021-09-16T18:47:21.958Z"
   },
   {
    "duration": 106,
    "start_time": "2021-09-16T18:59:12.074Z"
   },
   {
    "duration": 97,
    "start_time": "2021-09-16T18:59:32.523Z"
   },
   {
    "duration": 80,
    "start_time": "2021-09-16T19:02:02.088Z"
   },
   {
    "duration": 82,
    "start_time": "2021-09-16T19:02:08.681Z"
   },
   {
    "duration": 416,
    "start_time": "2021-09-16T19:35:01.820Z"
   },
   {
    "duration": 318,
    "start_time": "2021-09-16T19:41:41.496Z"
   },
   {
    "duration": 86,
    "start_time": "2021-09-16T19:41:54.403Z"
   },
   {
    "duration": 83,
    "start_time": "2021-09-16T19:45:41.082Z"
   },
   {
    "duration": 78,
    "start_time": "2021-09-16T19:48:13.234Z"
   },
   {
    "duration": 80,
    "start_time": "2021-09-16T19:48:46.111Z"
   },
   {
    "duration": 337,
    "start_time": "2021-09-16T19:52:35.473Z"
   },
   {
    "duration": 88,
    "start_time": "2021-09-16T19:52:46.763Z"
   },
   {
    "duration": 88,
    "start_time": "2021-09-16T19:53:26.789Z"
   },
   {
    "duration": 71,
    "start_time": "2021-09-16T19:54:31.289Z"
   },
   {
    "duration": 79,
    "start_time": "2021-09-16T19:56:52.097Z"
   },
   {
    "duration": 117,
    "start_time": "2021-09-16T20:02:41.073Z"
   },
   {
    "duration": 84,
    "start_time": "2021-09-16T20:03:50.880Z"
   },
   {
    "duration": 76,
    "start_time": "2021-09-16T20:06:44.495Z"
   },
   {
    "duration": 91,
    "start_time": "2021-09-16T20:09:20.821Z"
   },
   {
    "duration": 93,
    "start_time": "2021-09-16T20:09:43.597Z"
   },
   {
    "duration": 67,
    "start_time": "2021-09-16T20:10:09.276Z"
   },
   {
    "duration": 64,
    "start_time": "2021-09-16T20:10:13.178Z"
   },
   {
    "duration": 63,
    "start_time": "2021-09-16T20:11:33.419Z"
   },
   {
    "duration": 64,
    "start_time": "2021-09-16T20:11:45.533Z"
   },
   {
    "duration": 69,
    "start_time": "2021-09-16T20:12:06.745Z"
   },
   {
    "duration": 72,
    "start_time": "2021-09-16T20:12:31.634Z"
   },
   {
    "duration": 69,
    "start_time": "2021-09-16T20:17:01.256Z"
   },
   {
    "duration": 69,
    "start_time": "2021-09-16T20:19:17.119Z"
   },
   {
    "duration": 75,
    "start_time": "2021-09-16T20:21:34.673Z"
   },
   {
    "duration": 72,
    "start_time": "2021-09-16T20:22:02.279Z"
   },
   {
    "duration": 64,
    "start_time": "2021-09-16T20:22:21.047Z"
   },
   {
    "duration": 113,
    "start_time": "2021-09-16T20:24:57.191Z"
   },
   {
    "duration": 77,
    "start_time": "2021-09-16T20:28:22.001Z"
   },
   {
    "duration": 75,
    "start_time": "2021-09-16T20:28:33.563Z"
   },
   {
    "duration": 76,
    "start_time": "2021-09-16T20:28:47.539Z"
   },
   {
    "duration": 78,
    "start_time": "2021-09-16T20:29:07.073Z"
   },
   {
    "duration": 81,
    "start_time": "2021-09-16T20:29:42.083Z"
   },
   {
    "duration": 77,
    "start_time": "2021-09-16T20:29:52.451Z"
   },
   {
    "duration": 75,
    "start_time": "2021-09-16T20:30:29.524Z"
   },
   {
    "duration": 78,
    "start_time": "2021-09-16T20:30:38.973Z"
   },
   {
    "duration": 75,
    "start_time": "2021-09-16T20:30:46.870Z"
   },
   {
    "duration": 77,
    "start_time": "2021-09-16T20:30:57.464Z"
   },
   {
    "duration": 78,
    "start_time": "2021-09-16T20:31:34.102Z"
   },
   {
    "duration": 76,
    "start_time": "2021-09-16T20:32:59.356Z"
   },
   {
    "duration": 80,
    "start_time": "2021-09-16T20:34:13.374Z"
   },
   {
    "duration": 313,
    "start_time": "2021-09-18T10:11:17.177Z"
   },
   {
    "duration": 254,
    "start_time": "2021-09-18T10:11:46.418Z"
   },
   {
    "duration": 1118,
    "start_time": "2021-09-18T10:12:08.259Z"
   },
   {
    "duration": 344,
    "start_time": "2021-09-18T10:12:33.264Z"
   },
   {
    "duration": 331,
    "start_time": "2021-09-18T10:12:57.488Z"
   },
   {
    "duration": 333,
    "start_time": "2021-09-18T10:13:26.050Z"
   },
   {
    "duration": 332,
    "start_time": "2021-09-18T10:14:29.971Z"
   },
   {
    "duration": 342,
    "start_time": "2021-09-18T10:18:07.078Z"
   },
   {
    "duration": 334,
    "start_time": "2021-09-18T10:18:33.332Z"
   },
   {
    "duration": 516,
    "start_time": "2021-09-18T10:18:42.151Z"
   },
   {
    "duration": 168,
    "start_time": "2021-09-18T10:20:12.686Z"
   },
   {
    "duration": 147,
    "start_time": "2021-09-18T10:20:22.589Z"
   },
   {
    "duration": 370,
    "start_time": "2021-09-18T10:27:59.687Z"
   },
   {
    "duration": 72,
    "start_time": "2021-09-18T10:30:08.472Z"
   },
   {
    "duration": 351,
    "start_time": "2021-09-18T10:30:43.388Z"
   },
   {
    "duration": 328,
    "start_time": "2021-09-18T10:30:53.079Z"
   },
   {
    "duration": 332,
    "start_time": "2021-09-18T10:31:18.652Z"
   },
   {
    "duration": 315,
    "start_time": "2021-09-18T10:31:26.926Z"
   },
   {
    "duration": 357,
    "start_time": "2021-09-18T10:31:40.105Z"
   },
   {
    "duration": 319,
    "start_time": "2021-09-18T10:32:03.409Z"
   },
   {
    "duration": 339,
    "start_time": "2021-09-18T10:32:11.954Z"
   },
   {
    "duration": 326,
    "start_time": "2021-09-18T10:33:17.650Z"
   },
   {
    "duration": 945,
    "start_time": "2021-09-18T10:33:22.794Z"
   },
   {
    "duration": 337,
    "start_time": "2021-09-18T10:35:05.053Z"
   },
   {
    "duration": 71,
    "start_time": "2021-09-18T10:35:18.028Z"
   },
   {
    "duration": 103,
    "start_time": "2021-09-18T10:35:46.554Z"
   },
   {
    "duration": 113,
    "start_time": "2021-09-18T10:35:54.530Z"
   },
   {
    "duration": 109,
    "start_time": "2021-09-18T10:37:16.029Z"
   },
   {
    "duration": 321,
    "start_time": "2021-09-18T10:37:22.126Z"
   },
   {
    "duration": 282,
    "start_time": "2021-09-18T10:40:41.183Z"
   },
   {
    "duration": 76,
    "start_time": "2021-09-18T10:41:00.642Z"
   },
   {
    "duration": 123,
    "start_time": "2021-09-18T10:45:32.507Z"
   },
   {
    "duration": 84,
    "start_time": "2021-09-18T10:45:49.333Z"
   },
   {
    "duration": 339,
    "start_time": "2021-09-18T10:48:00.555Z"
   },
   {
    "duration": 273,
    "start_time": "2021-09-18T10:48:08.954Z"
   },
   {
    "duration": 352,
    "start_time": "2021-09-18T10:59:47.088Z"
   },
   {
    "duration": 326,
    "start_time": "2021-09-18T11:00:25.273Z"
   },
   {
    "duration": 72,
    "start_time": "2021-09-18T11:00:55.531Z"
   },
   {
    "duration": 102,
    "start_time": "2021-09-18T11:01:11.359Z"
   },
   {
    "duration": 44,
    "start_time": "2021-09-18T11:02:29.315Z"
   },
   {
    "duration": 47,
    "start_time": "2021-09-18T11:02:39.229Z"
   },
   {
    "duration": 39,
    "start_time": "2021-09-18T11:11:51.219Z"
   },
   {
    "duration": 36,
    "start_time": "2021-09-18T11:12:04.911Z"
   },
   {
    "duration": 33,
    "start_time": "2021-09-18T11:12:31.055Z"
   },
   {
    "duration": 50,
    "start_time": "2021-09-18T11:12:52.136Z"
   },
   {
    "duration": 32,
    "start_time": "2021-09-18T11:12:59.514Z"
   },
   {
    "duration": 38,
    "start_time": "2021-09-18T11:13:13.577Z"
   },
   {
    "duration": 49,
    "start_time": "2021-09-18T11:13:16.310Z"
   },
   {
    "duration": 49,
    "start_time": "2021-09-18T11:13:22.793Z"
   },
   {
    "duration": 49,
    "start_time": "2021-09-18T11:13:31.203Z"
   },
   {
    "duration": 46,
    "start_time": "2021-09-18T11:13:51.298Z"
   },
   {
    "duration": 147,
    "start_time": "2021-09-18T11:14:04.362Z"
   },
   {
    "duration": 46,
    "start_time": "2021-09-18T11:14:19.600Z"
   },
   {
    "duration": 48,
    "start_time": "2021-09-18T11:14:25.191Z"
   },
   {
    "duration": 35,
    "start_time": "2021-09-18T11:14:44.878Z"
   },
   {
    "duration": 34,
    "start_time": "2021-09-18T11:15:12.173Z"
   },
   {
    "duration": 38,
    "start_time": "2021-09-18T11:15:23.969Z"
   },
   {
    "duration": 35,
    "start_time": "2021-09-18T11:15:33.085Z"
   },
   {
    "duration": 31,
    "start_time": "2021-09-18T11:15:41.184Z"
   },
   {
    "duration": 102,
    "start_time": "2021-09-18T11:15:45.962Z"
   },
   {
    "duration": 47,
    "start_time": "2021-09-18T11:16:05.825Z"
   },
   {
    "duration": 56,
    "start_time": "2021-09-18T11:16:09.930Z"
   },
   {
    "duration": 59,
    "start_time": "2021-09-18T11:18:11.380Z"
   },
   {
    "duration": 57,
    "start_time": "2021-09-18T11:18:19.204Z"
   },
   {
    "duration": 74,
    "start_time": "2021-09-18T11:21:00.826Z"
   },
   {
    "duration": 270,
    "start_time": "2021-09-18T11:26:52.308Z"
   },
   {
    "duration": 251,
    "start_time": "2021-09-18T11:27:06.118Z"
   },
   {
    "duration": 508,
    "start_time": "2021-09-18T11:28:04.742Z"
   },
   {
    "duration": 14,
    "start_time": "2021-09-18T11:28:32.334Z"
   },
   {
    "duration": 10,
    "start_time": "2021-09-18T11:28:43.114Z"
   },
   {
    "duration": 27,
    "start_time": "2021-09-18T11:30:26.873Z"
   },
   {
    "duration": 21,
    "start_time": "2021-09-18T11:30:38.992Z"
   },
   {
    "duration": 24,
    "start_time": "2021-09-18T11:30:46.133Z"
   },
   {
    "duration": 16,
    "start_time": "2021-09-18T11:32:58.933Z"
   },
   {
    "duration": 17,
    "start_time": "2021-09-18T11:35:58.950Z"
   },
   {
    "duration": 6,
    "start_time": "2021-09-18T11:36:05.295Z"
   },
   {
    "duration": 299,
    "start_time": "2021-09-18T11:36:18.790Z"
   },
   {
    "duration": 275,
    "start_time": "2021-09-18T11:36:24.370Z"
   },
   {
    "duration": 84,
    "start_time": "2021-09-18T11:36:29.358Z"
   },
   {
    "duration": 90,
    "start_time": "2021-09-18T11:36:33.294Z"
   },
   {
    "duration": 8,
    "start_time": "2021-09-18T11:36:36.328Z"
   },
   {
    "duration": 291,
    "start_time": "2021-09-18T11:41:19.220Z"
   },
   {
    "duration": 301,
    "start_time": "2021-09-18T11:41:29.342Z"
   },
   {
    "duration": 44,
    "start_time": "2021-09-18T11:42:25.156Z"
   },
   {
    "duration": 69,
    "start_time": "2021-09-18T11:44:33.298Z"
   },
   {
    "duration": 96,
    "start_time": "2021-09-18T11:50:52.796Z"
   },
   {
    "duration": 46,
    "start_time": "2021-09-18T11:51:29.766Z"
   },
   {
    "duration": 48,
    "start_time": "2021-09-18T11:51:35.759Z"
   },
   {
    "duration": 49,
    "start_time": "2021-09-18T11:51:44.372Z"
   },
   {
    "duration": 267,
    "start_time": "2021-09-18T12:02:30.467Z"
   },
   {
    "duration": 81,
    "start_time": "2021-09-18T12:02:38.166Z"
   },
   {
    "duration": 5230,
    "start_time": "2021-09-18T12:04:02.528Z"
   },
   {
    "duration": 5369,
    "start_time": "2021-09-18T12:04:35.657Z"
   },
   {
    "duration": 3431,
    "start_time": "2021-09-18T12:05:37.761Z"
   },
   {
    "duration": 3407,
    "start_time": "2021-09-18T12:06:00.730Z"
   },
   {
    "duration": 3423,
    "start_time": "2021-09-18T12:06:31.433Z"
   },
   {
    "duration": 3427,
    "start_time": "2021-09-18T12:07:38.337Z"
   },
   {
    "duration": 5224,
    "start_time": "2021-09-18T12:07:58.605Z"
   },
   {
    "duration": 3419,
    "start_time": "2021-09-18T12:08:46.540Z"
   },
   {
    "duration": 3418,
    "start_time": "2021-09-18T12:09:42.465Z"
   },
   {
    "duration": 46,
    "start_time": "2021-09-18T12:10:01.448Z"
   },
   {
    "duration": 176,
    "start_time": "2021-09-18T12:10:28.064Z"
   },
   {
    "duration": 3680,
    "start_time": "2021-09-18T12:10:34.581Z"
   },
   {
    "duration": 171,
    "start_time": "2021-09-18T12:10:49.499Z"
   },
   {
    "duration": 3365,
    "start_time": "2021-09-18T12:11:03.275Z"
   },
   {
    "duration": 3821,
    "start_time": "2021-09-18T12:11:39.385Z"
   },
   {
    "duration": 4337,
    "start_time": "2021-09-18T12:11:57.031Z"
   },
   {
    "duration": 3535,
    "start_time": "2021-09-18T12:12:11.648Z"
   },
   {
    "duration": 366,
    "start_time": "2021-09-18T12:12:27.731Z"
   },
   {
    "duration": -611,
    "start_time": "2021-09-18T12:12:35.867Z"
   },
   {
    "duration": 5269,
    "start_time": "2021-09-18T12:12:39.243Z"
   },
   {
    "duration": 3641,
    "start_time": "2021-09-18T12:13:08.420Z"
   },
   {
    "duration": 3480,
    "start_time": "2021-09-18T12:13:18.997Z"
   },
   {
    "duration": 3370,
    "start_time": "2021-09-18T12:13:59.526Z"
   },
   {
    "duration": 4343,
    "start_time": "2021-09-18T12:14:10.605Z"
   },
   {
    "duration": 282,
    "start_time": "2021-09-18T12:14:24.510Z"
   },
   {
    "duration": 931,
    "start_time": "2021-09-18T12:15:30.031Z"
   },
   {
    "duration": 5365,
    "start_time": "2021-09-18T12:15:43.972Z"
   },
   {
    "duration": 122,
    "start_time": "2021-09-18T12:16:33.029Z"
   },
   {
    "duration": 175,
    "start_time": "2021-09-18T12:16:58.594Z"
   },
   {
    "duration": 5110,
    "start_time": "2021-09-18T12:17:18.492Z"
   },
   {
    "duration": 53,
    "start_time": "2021-09-18T12:18:18.842Z"
   },
   {
    "duration": 3435,
    "start_time": "2021-09-18T12:18:33.493Z"
   },
   {
    "duration": -621,
    "start_time": "2021-09-18T12:20:32.029Z"
   },
   {
    "duration": 4502,
    "start_time": "2021-09-18T12:20:43.752Z"
   },
   {
    "duration": 6148,
    "start_time": "2021-09-18T12:21:39.282Z"
   },
   {
    "duration": 320,
    "start_time": "2021-09-18T12:22:42.174Z"
   },
   {
    "duration": 258,
    "start_time": "2021-09-18T12:22:50.776Z"
   },
   {
    "duration": 1118,
    "start_time": "2021-09-18T12:22:59.096Z"
   },
   {
    "duration": 44,
    "start_time": "2021-09-18T12:23:04.224Z"
   },
   {
    "duration": 50,
    "start_time": "2021-09-18T12:23:08.150Z"
   },
   {
    "duration": 9,
    "start_time": "2021-09-18T12:23:13.495Z"
   },
   {
    "duration": 72,
    "start_time": "2021-09-18T12:23:29.567Z"
   },
   {
    "duration": 62,
    "start_time": "2021-09-18T12:25:01.093Z"
   },
   {
    "duration": 102,
    "start_time": "2021-09-18T12:25:23.858Z"
   },
   {
    "duration": 62,
    "start_time": "2021-09-18T12:25:52.100Z"
   },
   {
    "duration": 64,
    "start_time": "2021-09-18T12:26:18.519Z"
   },
   {
    "duration": 451,
    "start_time": "2021-09-18T12:30:51.521Z"
   },
   {
    "duration": 223,
    "start_time": "2021-09-18T12:31:03.445Z"
   },
   {
    "duration": 406,
    "start_time": "2021-09-18T12:34:04.097Z"
   },
   {
    "duration": 141,
    "start_time": "2021-09-18T12:34:18.227Z"
   },
   {
    "duration": 349,
    "start_time": "2021-09-18T12:46:07.030Z"
   },
   {
    "duration": 684,
    "start_time": "2021-09-18T12:51:23.959Z"
   },
   {
    "duration": 629,
    "start_time": "2021-09-18T12:51:46.467Z"
   },
   {
    "duration": 38616,
    "start_time": "2021-09-18T12:52:58.286Z"
   },
   {
    "duration": -55,
    "start_time": "2021-09-18T12:57:20.459Z"
   },
   {
    "duration": -57,
    "start_time": "2021-09-18T12:57:20.463Z"
   },
   {
    "duration": -53,
    "start_time": "2021-09-18T12:57:20.466Z"
   },
   {
    "duration": 292,
    "start_time": "2021-09-18T12:57:37.443Z"
   },
   {
    "duration": 92,
    "start_time": "2021-09-18T12:57:43.935Z"
   },
   {
    "duration": 44,
    "start_time": "2021-09-18T12:58:07.987Z"
   },
   {
    "duration": 822,
    "start_time": "2021-09-18T12:58:56.755Z"
   },
   {
    "duration": 45,
    "start_time": "2021-09-18T12:59:01.714Z"
   },
   {
    "duration": 52,
    "start_time": "2021-09-18T12:59:05.371Z"
   },
   {
    "duration": 105,
    "start_time": "2021-09-18T12:59:08.024Z"
   },
   {
    "duration": 40347,
    "start_time": "2021-09-18T12:59:11.063Z"
   },
   {
    "duration": 100,
    "start_time": "2021-09-18T13:00:40.673Z"
   },
   {
    "duration": 44,
    "start_time": "2021-09-18T13:00:45.146Z"
   },
   {
    "duration": 48,
    "start_time": "2021-09-18T13:00:48.280Z"
   },
   {
    "duration": 113,
    "start_time": "2021-09-18T13:00:50.991Z"
   },
   {
    "duration": 41285,
    "start_time": "2021-09-18T13:00:56.912Z"
   },
   {
    "duration": 438,
    "start_time": "2021-09-18T13:02:04.866Z"
   },
   {
    "duration": 293,
    "start_time": "2021-09-18T13:02:11.572Z"
   },
   {
    "duration": 91,
    "start_time": "2021-09-18T13:04:19.546Z"
   },
   {
    "duration": 98,
    "start_time": "2021-09-18T13:32:02.575Z"
   },
   {
    "duration": 6,
    "start_time": "2021-09-18T13:32:10.667Z"
   },
   {
    "duration": 26,
    "start_time": "2021-09-18T13:34:12.523Z"
   },
   {
    "duration": 611,
    "start_time": "2021-09-18T13:34:21.394Z"
   },
   {
    "duration": 5,
    "start_time": "2021-09-18T13:34:33.938Z"
   },
   {
    "duration": 6,
    "start_time": "2021-09-18T13:37:16.052Z"
   },
   {
    "duration": 17,
    "start_time": "2021-09-18T14:40:07.819Z"
   },
   {
    "duration": 16,
    "start_time": "2021-09-18T14:40:24.008Z"
   },
   {
    "duration": 14,
    "start_time": "2021-09-18T14:40:51.124Z"
   },
   {
    "duration": 15,
    "start_time": "2021-09-18T14:41:23.577Z"
   },
   {
    "duration": 28,
    "start_time": "2021-09-18T14:42:34.859Z"
   },
   {
    "duration": 20,
    "start_time": "2021-09-18T14:43:40.103Z"
   },
   {
    "duration": 22,
    "start_time": "2021-09-18T14:51:55.757Z"
   },
   {
    "duration": 311,
    "start_time": "2021-09-18T14:57:46.710Z"
   },
   {
    "duration": 92,
    "start_time": "2021-09-18T14:58:05.279Z"
   },
   {
    "duration": 64,
    "start_time": "2021-09-18T14:58:07.784Z"
   },
   {
    "duration": 51,
    "start_time": "2021-09-18T14:58:11.163Z"
   },
   {
    "duration": 508,
    "start_time": "2021-09-18T14:58:13.468Z"
   },
   {
    "duration": 168,
    "start_time": "2021-09-18T14:58:42.483Z"
   },
   {
    "duration": 27,
    "start_time": "2021-09-18T15:00:23.526Z"
   },
   {
    "duration": 28,
    "start_time": "2021-09-18T15:00:38.100Z"
   },
   {
    "duration": 52,
    "start_time": "2021-09-18T15:06:51.938Z"
   },
   {
    "duration": 26,
    "start_time": "2021-09-18T15:07:00.282Z"
   },
   {
    "duration": 23,
    "start_time": "2021-09-18T15:13:08.403Z"
   },
   {
    "duration": 22,
    "start_time": "2021-09-18T15:17:19.551Z"
   },
   {
    "duration": 8,
    "start_time": "2021-09-18T15:22:16.792Z"
   },
   {
    "duration": 1064,
    "start_time": "2021-09-18T15:25:58.895Z"
   },
   {
    "duration": 255,
    "start_time": "2021-09-18T15:26:19.596Z"
   },
   {
    "duration": 14,
    "start_time": "2021-09-18T15:26:27.531Z"
   },
   {
    "duration": 23,
    "start_time": "2021-09-18T15:26:51.691Z"
   },
   {
    "duration": 293,
    "start_time": "2021-09-18T15:31:30.158Z"
   },
   {
    "duration": 24,
    "start_time": "2021-09-18T15:34:17.745Z"
   },
   {
    "duration": 28,
    "start_time": "2021-09-18T15:34:44.121Z"
   },
   {
    "duration": 25,
    "start_time": "2021-09-18T15:36:06.375Z"
   },
   {
    "duration": 89,
    "start_time": "2021-09-18T15:38:42.522Z"
   },
   {
    "duration": 36,
    "start_time": "2021-09-18T15:39:35.856Z"
   },
   {
    "duration": 28,
    "start_time": "2021-09-18T15:40:07.469Z"
   },
   {
    "duration": 87,
    "start_time": "2021-09-18T15:40:33.547Z"
   },
   {
    "duration": 22,
    "start_time": "2021-09-18T15:43:08.753Z"
   },
   {
    "duration": 96,
    "start_time": "2021-09-18T15:45:59.540Z"
   },
   {
    "duration": 44,
    "start_time": "2021-09-18T15:47:19.355Z"
   },
   {
    "duration": 27,
    "start_time": "2021-09-18T15:47:39.937Z"
   },
   {
    "duration": 26,
    "start_time": "2021-09-18T15:48:50.196Z"
   },
   {
    "duration": 26,
    "start_time": "2021-09-18T15:49:20.715Z"
   },
   {
    "duration": 29,
    "start_time": "2021-09-18T15:49:27.809Z"
   },
   {
    "duration": 311,
    "start_time": "2021-09-18T15:55:40.522Z"
   },
   {
    "duration": 320,
    "start_time": "2021-09-18T15:56:04.111Z"
   },
   {
    "duration": 309,
    "start_time": "2021-09-18T15:56:44.635Z"
   },
   {
    "duration": 45,
    "start_time": "2021-09-18T15:57:00.096Z"
   },
   {
    "duration": 41,
    "start_time": "2021-09-18T15:57:33.342Z"
   },
   {
    "duration": 45,
    "start_time": "2021-09-18T16:00:28.019Z"
   },
   {
    "duration": 43,
    "start_time": "2021-09-18T16:00:39.816Z"
   },
   {
    "duration": 10,
    "start_time": "2021-09-18T16:03:01.627Z"
   },
   {
    "duration": 86,
    "start_time": "2021-09-18T16:08:12.741Z"
   },
   {
    "duration": 73,
    "start_time": "2021-09-18T16:08:52.231Z"
   },
   {
    "duration": 70,
    "start_time": "2021-09-18T16:09:52.573Z"
   },
   {
    "duration": 75,
    "start_time": "2021-09-18T16:11:51.661Z"
   },
   {
    "duration": 14,
    "start_time": "2021-09-18T16:14:19.946Z"
   },
   {
    "duration": 16,
    "start_time": "2021-09-18T16:14:21.993Z"
   },
   {
    "duration": 15,
    "start_time": "2021-09-18T16:17:00.162Z"
   },
   {
    "duration": 15,
    "start_time": "2021-09-18T16:17:34.445Z"
   },
   {
    "duration": 91,
    "start_time": "2021-09-18T16:18:04.748Z"
   },
   {
    "duration": 49,
    "start_time": "2021-09-18T16:18:07.936Z"
   },
   {
    "duration": 51,
    "start_time": "2021-09-18T16:18:12.303Z"
   },
   {
    "duration": 115,
    "start_time": "2021-09-18T16:18:15.093Z"
   },
   {
    "duration": 823,
    "start_time": "2021-09-18T16:18:46.670Z"
   },
   {
    "duration": 52,
    "start_time": "2021-09-18T16:18:51.909Z"
   },
   {
    "duration": 51,
    "start_time": "2021-09-18T16:18:56.474Z"
   },
   {
    "duration": 118,
    "start_time": "2021-09-18T16:18:58.847Z"
   },
   {
    "duration": 41585,
    "start_time": "2021-09-18T16:19:02.628Z"
   },
   {
    "duration": 23,
    "start_time": "2021-09-18T16:21:14.169Z"
   },
   {
    "duration": 675,
    "start_time": "2021-09-18T16:23:08.505Z"
   },
   {
    "duration": 7,
    "start_time": "2021-09-18T16:23:56.780Z"
   },
   {
    "duration": 5,
    "start_time": "2021-09-18T16:27:26.834Z"
   },
   {
    "duration": 6,
    "start_time": "2021-09-18T16:28:13.026Z"
   },
   {
    "duration": 7,
    "start_time": "2021-09-18T16:28:16.128Z"
   },
   {
    "duration": 9,
    "start_time": "2021-09-18T16:33:27.252Z"
   },
   {
    "duration": 8,
    "start_time": "2021-09-18T16:33:37.576Z"
   },
   {
    "duration": 267,
    "start_time": "2021-09-18T16:46:57.529Z"
   },
   {
    "duration": 20,
    "start_time": "2021-09-18T16:47:45.801Z"
   },
   {
    "duration": 98,
    "start_time": "2021-09-18T16:50:46.116Z"
   },
   {
    "duration": 105,
    "start_time": "2021-09-18T16:51:06.331Z"
   },
   {
    "duration": 166,
    "start_time": "2021-09-18T16:52:15.874Z"
   },
   {
    "duration": 91,
    "start_time": "2021-09-18T16:52:25.867Z"
   },
   {
    "duration": 99,
    "start_time": "2021-09-18T16:52:45.449Z"
   },
   {
    "duration": 110,
    "start_time": "2021-09-18T16:52:57.656Z"
   },
   {
    "duration": 102,
    "start_time": "2021-09-18T16:53:14.209Z"
   },
   {
    "duration": 90,
    "start_time": "2021-09-18T16:53:21.287Z"
   },
   {
    "duration": 98,
    "start_time": "2021-09-18T16:54:29.971Z"
   },
   {
    "duration": 105,
    "start_time": "2021-09-18T16:54:54.523Z"
   },
   {
    "duration": 92,
    "start_time": "2021-09-18T16:55:01.353Z"
   },
   {
    "duration": 98,
    "start_time": "2021-09-18T16:55:07.207Z"
   },
   {
    "duration": 89,
    "start_time": "2021-09-18T16:55:15.490Z"
   },
   {
    "duration": 93,
    "start_time": "2021-09-18T16:55:45.447Z"
   },
   {
    "duration": 117,
    "start_time": "2021-09-18T16:57:38.766Z"
   },
   {
    "duration": 150,
    "start_time": "2021-09-18T16:58:04.552Z"
   },
   {
    "duration": 167,
    "start_time": "2021-09-18T16:59:00.140Z"
   },
   {
    "duration": 100,
    "start_time": "2021-09-18T16:59:37.355Z"
   },
   {
    "duration": 101,
    "start_time": "2021-09-18T17:00:02.708Z"
   },
   {
    "duration": 14,
    "start_time": "2021-09-18T17:00:21.388Z"
   },
   {
    "duration": 89,
    "start_time": "2021-09-18T17:00:55.464Z"
   },
   {
    "duration": 17,
    "start_time": "2021-09-18T17:07:02.711Z"
   },
   {
    "duration": 18,
    "start_time": "2021-09-18T17:07:05.165Z"
   },
   {
    "duration": 93,
    "start_time": "2021-09-18T17:08:26.771Z"
   },
   {
    "duration": 112,
    "start_time": "2021-09-18T17:08:46.557Z"
   },
   {
    "duration": 32,
    "start_time": "2021-09-18T17:10:11.425Z"
   },
   {
    "duration": 35,
    "start_time": "2021-09-18T17:10:20.249Z"
   },
   {
    "duration": 33,
    "start_time": "2021-09-18T17:10:36.984Z"
   },
   {
    "duration": 33,
    "start_time": "2021-09-18T17:12:09.816Z"
   },
   {
    "duration": 28,
    "start_time": "2021-09-18T17:12:16.764Z"
   },
   {
    "duration": 37,
    "start_time": "2021-09-18T17:13:58.810Z"
   },
   {
    "duration": 61,
    "start_time": "2021-09-18T17:15:30.423Z"
   },
   {
    "duration": 43,
    "start_time": "2021-09-18T17:17:20.580Z"
   },
   {
    "duration": 45,
    "start_time": "2021-09-18T17:17:41.466Z"
   },
   {
    "duration": 670,
    "start_time": "2021-09-20T19:00:35.832Z"
   },
   {
    "duration": 1168,
    "start_time": "2021-09-20T19:00:43.977Z"
   },
   {
    "duration": 63,
    "start_time": "2021-09-20T19:00:50.278Z"
   },
   {
    "duration": 122,
    "start_time": "2021-09-20T19:01:48.233Z"
   },
   {
    "duration": 92,
    "start_time": "2021-09-20T19:02:05.211Z"
   },
   {
    "duration": 80,
    "start_time": "2021-09-20T19:02:35.499Z"
   },
   {
    "duration": 97,
    "start_time": "2021-09-20T19:02:53.159Z"
   },
   {
    "duration": 99,
    "start_time": "2021-09-20T19:03:15.480Z"
   },
   {
    "duration": 84,
    "start_time": "2021-09-20T19:03:19.141Z"
   },
   {
    "duration": 108,
    "start_time": "2021-09-20T19:03:23.634Z"
   },
   {
    "duration": 186,
    "start_time": "2021-09-20T19:03:54.265Z"
   },
   {
    "duration": 4,
    "start_time": "2021-09-20T19:04:02.661Z"
   },
   {
    "duration": 94,
    "start_time": "2021-09-20T19:04:26.790Z"
   },
   {
    "duration": 1152,
    "start_time": "2021-09-20T19:11:36.281Z"
   },
   {
    "duration": 436,
    "start_time": "2021-09-20T19:12:01.668Z"
   },
   {
    "duration": 82,
    "start_time": "2021-09-20T19:12:07.055Z"
   },
   {
    "duration": 107,
    "start_time": "2021-09-20T19:12:19.462Z"
   },
   {
    "duration": 497,
    "start_time": "2021-09-20T19:12:31.730Z"
   },
   {
    "duration": 238,
    "start_time": "2021-09-20T19:14:39.624Z"
   },
   {
    "duration": 2257,
    "start_time": "2021-09-20T19:14:45.955Z"
   },
   {
    "duration": 286,
    "start_time": "2021-09-20T19:14:59.678Z"
   },
   {
    "duration": 267,
    "start_time": "2021-09-20T19:15:14.135Z"
   },
   {
    "duration": 97,
    "start_time": "2021-09-20T19:15:40.893Z"
   },
   {
    "duration": 83,
    "start_time": "2021-09-20T19:15:47.758Z"
   },
   {
    "duration": 296,
    "start_time": "2021-09-20T19:15:59.490Z"
   },
   {
    "duration": 277,
    "start_time": "2021-09-20T19:16:05.278Z"
   },
   {
    "duration": 43776,
    "start_time": "2021-09-20T19:16:30.423Z"
   },
   {
    "duration": 289,
    "start_time": "2021-09-20T19:19:30.783Z"
   },
   {
    "duration": 94,
    "start_time": "2021-09-20T19:19:37.641Z"
   },
   {
    "duration": 93,
    "start_time": "2021-09-20T19:19:55.408Z"
   },
   {
    "duration": 87,
    "start_time": "2021-09-20T19:20:03.754Z"
   },
   {
    "duration": 114,
    "start_time": "2021-09-20T19:20:08.610Z"
   },
   {
    "duration": 273,
    "start_time": "2021-09-20T19:20:14.218Z"
   },
   {
    "duration": 266,
    "start_time": "2021-09-20T19:21:28.677Z"
   },
   {
    "duration": 289,
    "start_time": "2021-09-20T19:21:43.575Z"
   },
   {
    "duration": 293,
    "start_time": "2021-09-20T19:25:31.640Z"
   },
   {
    "duration": 383,
    "start_time": "2021-09-20T19:30:15.394Z"
   },
   {
    "duration": 308,
    "start_time": "2021-09-20T19:31:09.418Z"
   },
   {
    "duration": 24,
    "start_time": "2021-09-20T19:32:14.654Z"
   },
   {
    "duration": 104,
    "start_time": "2021-09-20T19:32:27.979Z"
   },
   {
    "duration": 17,
    "start_time": "2021-09-20T19:32:34.748Z"
   },
   {
    "duration": 307,
    "start_time": "2021-09-20T19:33:53.815Z"
   },
   {
    "duration": 98,
    "start_time": "2021-09-20T19:34:00.578Z"
   },
   {
    "duration": 99,
    "start_time": "2021-09-20T19:34:09.914Z"
   },
   {
    "duration": 282,
    "start_time": "2021-09-20T19:34:45.718Z"
   },
   {
    "duration": 313,
    "start_time": "2021-09-20T19:35:10.636Z"
   },
   {
    "duration": 98,
    "start_time": "2021-09-20T19:36:35.314Z"
   },
   {
    "duration": 93,
    "start_time": "2021-09-20T19:36:50.157Z"
   },
   {
    "duration": 300,
    "start_time": "2021-09-20T19:37:07.501Z"
   },
   {
    "duration": 86,
    "start_time": "2021-09-20T19:37:25.124Z"
   },
   {
    "duration": 460,
    "start_time": "2021-09-20T19:38:42.917Z"
   },
   {
    "duration": 96,
    "start_time": "2021-09-20T19:38:48.259Z"
   },
   {
    "duration": 266,
    "start_time": "2021-09-20T19:38:54.196Z"
   },
   {
    "duration": 331,
    "start_time": "2021-09-20T19:39:10.786Z"
   },
   {
    "duration": 321,
    "start_time": "2021-09-20T19:39:19.165Z"
   },
   {
    "duration": 498,
    "start_time": "2021-09-20T19:40:34.567Z"
   },
   {
    "duration": 275,
    "start_time": "2021-09-20T19:40:47.205Z"
   },
   {
    "duration": 14,
    "start_time": "2021-09-20T19:41:05.181Z"
   },
   {
    "duration": 320,
    "start_time": "2021-09-20T19:41:23.016Z"
   },
   {
    "duration": 298,
    "start_time": "2021-09-20T19:41:43.667Z"
   },
   {
    "duration": 14,
    "start_time": "2021-09-20T19:42:09.300Z"
   },
   {
    "duration": 361,
    "start_time": "2021-09-20T19:47:02.429Z"
   },
   {
    "duration": 17,
    "start_time": "2021-09-20T19:48:59.012Z"
   },
   {
    "duration": 25,
    "start_time": "2021-09-20T19:49:03.868Z"
   },
   {
    "duration": 18,
    "start_time": "2021-09-20T19:50:26.482Z"
   },
   {
    "duration": 107,
    "start_time": "2021-09-20T19:50:37.302Z"
   },
   {
    "duration": 21,
    "start_time": "2021-09-20T19:50:41.768Z"
   },
   {
    "duration": 268,
    "start_time": "2021-09-20T19:50:59.565Z"
   },
   {
    "duration": 94,
    "start_time": "2021-09-20T19:51:14.089Z"
   },
   {
    "duration": 98,
    "start_time": "2021-09-20T19:51:20.128Z"
   },
   {
    "duration": 82,
    "start_time": "2021-09-20T19:51:28.969Z"
   },
   {
    "duration": 17,
    "start_time": "2021-09-20T19:51:39.384Z"
   },
   {
    "duration": 12,
    "start_time": "2021-09-20T19:53:22.118Z"
   },
   {
    "duration": 13,
    "start_time": "2021-09-20T19:53:24.981Z"
   },
   {
    "duration": 309,
    "start_time": "2021-09-20T19:53:30.060Z"
   },
   {
    "duration": 13,
    "start_time": "2021-09-20T19:54:02.724Z"
   },
   {
    "duration": 14,
    "start_time": "2021-09-20T19:54:15.052Z"
   },
   {
    "duration": 280,
    "start_time": "2021-09-20T19:54:20.148Z"
   },
   {
    "duration": 12,
    "start_time": "2021-09-20T19:54:30.400Z"
   },
   {
    "duration": 13,
    "start_time": "2021-09-20T19:54:44.632Z"
   },
   {
    "duration": 97,
    "start_time": "2021-09-20T19:59:10.490Z"
   },
   {
    "duration": 82,
    "start_time": "2021-09-20T19:59:32.114Z"
   },
   {
    "duration": 258,
    "start_time": "2021-09-20T19:59:39.835Z"
   },
   {
    "duration": 829,
    "start_time": "2021-09-20T20:01:00.116Z"
   },
   {
    "duration": 107,
    "start_time": "2021-09-20T20:01:58.726Z"
   },
   {
    "duration": 254,
    "start_time": "2021-09-20T20:02:10.459Z"
   },
   {
    "duration": 272,
    "start_time": "2021-09-20T20:02:31.861Z"
   },
   {
    "duration": 41106,
    "start_time": "2021-09-20T20:04:35.758Z"
   },
   {
    "duration": 41564,
    "start_time": "2021-09-20T20:05:42.249Z"
   },
   {
    "duration": 316,
    "start_time": "2021-09-20T20:07:23.547Z"
   },
   {
    "duration": 282,
    "start_time": "2021-09-20T20:09:40.819Z"
   },
   {
    "duration": 95,
    "start_time": "2021-09-20T20:09:49.243Z"
   },
   {
    "duration": 103,
    "start_time": "2021-09-20T20:10:05.442Z"
   },
   {
    "duration": 102,
    "start_time": "2021-09-20T20:11:31.303Z"
   },
   {
    "duration": 7249,
    "start_time": "2021-09-20T20:11:37.800Z"
   },
   {
    "duration": 3678,
    "start_time": "2021-09-20T20:11:47.831Z"
   },
   {
    "duration": 436,
    "start_time": "2021-09-20T20:12:56.173Z"
   },
   {
    "duration": 242,
    "start_time": "2021-09-20T20:13:27.154Z"
   },
   {
    "duration": 95,
    "start_time": "2021-09-20T20:15:02.472Z"
   },
   {
    "duration": 39233,
    "start_time": "2021-09-20T20:15:11.177Z"
   },
   {
    "duration": 867,
    "start_time": "2021-09-20T20:18:09.780Z"
   },
   {
    "duration": 60,
    "start_time": "2021-09-20T20:18:10.650Z"
   },
   {
    "duration": 73,
    "start_time": "2021-09-20T20:18:10.713Z"
   },
   {
    "duration": 129,
    "start_time": "2021-09-20T20:18:10.789Z"
   },
   {
    "duration": 1367,
    "start_time": "2021-09-20T20:18:10.921Z"
   },
   {
    "duration": -202,
    "start_time": "2021-09-20T20:18:12.493Z"
   },
   {
    "duration": -206,
    "start_time": "2021-09-20T20:18:12.499Z"
   },
   {
    "duration": -208,
    "start_time": "2021-09-20T20:18:12.502Z"
   },
   {
    "duration": -209,
    "start_time": "2021-09-20T20:18:12.504Z"
   },
   {
    "duration": -210,
    "start_time": "2021-09-20T20:18:12.507Z"
   },
   {
    "duration": 850,
    "start_time": "2021-09-20T20:19:41.296Z"
   },
   {
    "duration": 67,
    "start_time": "2021-09-20T20:19:42.150Z"
   },
   {
    "duration": 78,
    "start_time": "2021-09-20T20:19:42.219Z"
   },
   {
    "duration": 148,
    "start_time": "2021-09-20T20:19:42.300Z"
   },
   {
    "duration": 44171,
    "start_time": "2021-09-20T20:19:42.469Z"
   },
   {
    "duration": 30,
    "start_time": "2021-09-20T20:20:26.643Z"
   },
   {
    "duration": 58,
    "start_time": "2021-09-20T20:20:26.676Z"
   },
   {
    "duration": 37,
    "start_time": "2021-09-20T20:20:26.737Z"
   },
   {
    "duration": 49,
    "start_time": "2021-09-20T20:20:26.778Z"
   },
   {
    "duration": 41,
    "start_time": "2021-09-20T20:20:26.830Z"
   },
   {
    "duration": 37072,
    "start_time": "2021-09-20T20:20:37.509Z"
   },
   {
    "duration": 394,
    "start_time": "2021-09-20T20:27:08.918Z"
   },
   {
    "duration": 271,
    "start_time": "2021-09-20T20:27:27.346Z"
   },
   {
    "duration": 26,
    "start_time": "2021-09-20T20:27:39.857Z"
   },
   {
    "duration": 282,
    "start_time": "2021-09-20T20:28:35.521Z"
   },
   {
    "duration": 89,
    "start_time": "2021-09-20T20:28:43.031Z"
   },
   {
    "duration": 842,
    "start_time": "2021-09-20T20:29:34.778Z"
   },
   {
    "duration": 14,
    "start_time": "2021-09-20T20:29:50.092Z"
   },
   {
    "duration": 12,
    "start_time": "2021-09-20T20:29:53.133Z"
   },
   {
    "duration": 14,
    "start_time": "2021-09-20T20:30:05.553Z"
   },
   {
    "duration": 96,
    "start_time": "2021-09-20T20:30:21.400Z"
   },
   {
    "duration": 13,
    "start_time": "2021-09-20T20:30:37.823Z"
   },
   {
    "duration": 21,
    "start_time": "2021-09-20T20:30:45.653Z"
   },
   {
    "duration": 22,
    "start_time": "2021-09-20T20:32:25.454Z"
   },
   {
    "duration": 209,
    "start_time": "2021-09-21T18:01:06.184Z"
   },
   {
    "duration": 628,
    "start_time": "2021-09-21T18:01:15.598Z"
   },
   {
    "duration": 33,
    "start_time": "2021-09-21T18:01:19.478Z"
   },
   {
    "duration": 32,
    "start_time": "2021-09-21T18:01:25.368Z"
   },
   {
    "duration": 73,
    "start_time": "2021-09-21T18:01:28.821Z"
   },
   {
    "duration": 23131,
    "start_time": "2021-09-21T18:01:59.520Z"
   },
   {
    "duration": 15,
    "start_time": "2021-09-21T18:02:22.653Z"
   },
   {
    "duration": 50,
    "start_time": "2021-09-21T18:02:22.670Z"
   },
   {
    "duration": 11,
    "start_time": "2021-09-21T18:02:22.722Z"
   },
   {
    "duration": 12,
    "start_time": "2021-09-21T18:02:22.736Z"
   },
   {
    "duration": 574,
    "start_time": "2021-09-21T18:02:37.858Z"
   },
   {
    "duration": 35,
    "start_time": "2021-09-21T18:02:38.434Z"
   },
   {
    "duration": 48,
    "start_time": "2021-09-21T18:02:38.470Z"
   },
   {
    "duration": 80,
    "start_time": "2021-09-21T18:02:38.520Z"
   },
   {
    "duration": 24841,
    "start_time": "2021-09-21T18:02:38.602Z"
   },
   {
    "duration": 15,
    "start_time": "2021-09-21T18:03:03.445Z"
   },
   {
    "duration": 41,
    "start_time": "2021-09-21T18:03:03.462Z"
   },
   {
    "duration": 9,
    "start_time": "2021-09-21T18:03:03.505Z"
   },
   {
    "duration": 26,
    "start_time": "2021-09-21T18:03:03.516Z"
   },
   {
    "duration": 9,
    "start_time": "2021-09-21T18:03:03.555Z"
   },
   {
    "duration": 10,
    "start_time": "2021-09-21T18:03:49.055Z"
   },
   {
    "duration": 10,
    "start_time": "2021-09-21T18:04:04.096Z"
   },
   {
    "duration": 382,
    "start_time": "2021-09-21T18:05:34.868Z"
   },
   {
    "duration": -57,
    "start_time": "2021-09-21T18:06:04.610Z"
   },
   {
    "duration": 22714,
    "start_time": "2021-09-21T18:06:16.858Z"
   },
   {
    "duration": 18,
    "start_time": "2021-09-21T18:10:05.247Z"
   },
   {
    "duration": 58,
    "start_time": "2021-09-21T18:12:33.884Z"
   },
   {
    "duration": 14,
    "start_time": "2021-09-21T18:13:39.738Z"
   },
   {
    "duration": 13,
    "start_time": "2021-09-21T18:15:41.104Z"
   },
   {
    "duration": 65,
    "start_time": "2021-09-21T18:26:01.428Z"
   },
   {
    "duration": 26,
    "start_time": "2021-09-21T18:26:55.374Z"
   },
   {
    "duration": 22891,
    "start_time": "2021-09-21T18:30:25.722Z"
   },
   {
    "duration": 22823,
    "start_time": "2021-09-21T18:33:09.481Z"
   },
   {
    "duration": 39,
    "start_time": "2021-09-21T18:40:23.117Z"
   },
   {
    "duration": 40,
    "start_time": "2021-09-21T18:41:27.560Z"
   },
   {
    "duration": 10,
    "start_time": "2021-09-21T18:45:19.713Z"
   },
   {
    "duration": 9,
    "start_time": "2021-09-21T18:45:28.651Z"
   },
   {
    "duration": 30,
    "start_time": "2021-09-21T18:46:25.399Z"
   },
   {
    "duration": 9,
    "start_time": "2021-09-21T18:50:24.020Z"
   },
   {
    "duration": 182,
    "start_time": "2021-09-21T18:51:07.683Z"
   },
   {
    "duration": 261,
    "start_time": "2021-09-21T18:52:17.493Z"
   },
   {
    "duration": 177,
    "start_time": "2021-09-21T18:52:49.052Z"
   },
   {
    "duration": 173,
    "start_time": "2021-09-21T18:53:04.498Z"
   },
   {
    "duration": 189,
    "start_time": "2021-09-21T18:53:42.927Z"
   },
   {
    "duration": 255,
    "start_time": "2021-09-21T18:55:00.392Z"
   },
   {
    "duration": 212,
    "start_time": "2021-09-21T18:55:11.296Z"
   },
   {
    "duration": 181,
    "start_time": "2021-09-21T18:55:16.884Z"
   },
   {
    "duration": 172,
    "start_time": "2021-09-21T18:55:24.059Z"
   },
   {
    "duration": 74,
    "start_time": "2021-09-21T18:57:42.249Z"
   },
   {
    "duration": 206,
    "start_time": "2021-09-21T18:57:54.551Z"
   },
   {
    "duration": 45,
    "start_time": "2021-09-21T18:58:22.458Z"
   },
   {
    "duration": 47,
    "start_time": "2021-09-21T18:59:05.056Z"
   },
   {
    "duration": 42,
    "start_time": "2021-09-21T19:00:47.408Z"
   },
   {
    "duration": 177,
    "start_time": "2021-09-21T19:08:17.557Z"
   },
   {
    "duration": 234,
    "start_time": "2021-09-21T19:10:23.334Z"
   },
   {
    "duration": 42,
    "start_time": "2021-09-21T19:10:40.908Z"
   },
   {
    "duration": 41,
    "start_time": "2021-09-21T19:10:56.558Z"
   },
   {
    "duration": 11,
    "start_time": "2021-09-21T19:12:19.851Z"
   },
   {
    "duration": 11,
    "start_time": "2021-09-21T19:12:42.106Z"
   },
   {
    "duration": 2669,
    "start_time": "2021-09-21T19:14:28.155Z"
   },
   {
    "duration": 2713,
    "start_time": "2021-09-21T19:15:13.768Z"
   },
   {
    "duration": 213,
    "start_time": "2021-09-21T19:15:51.258Z"
   },
   {
    "duration": 274,
    "start_time": "2021-09-21T19:16:15.828Z"
   },
   {
    "duration": 224,
    "start_time": "2021-09-21T19:17:06.853Z"
   },
   {
    "duration": 53,
    "start_time": "2021-09-21T19:17:10.529Z"
   },
   {
    "duration": 228,
    "start_time": "2021-09-21T19:20:58.506Z"
   },
   {
    "duration": 66,
    "start_time": "2021-09-21T19:21:34.621Z"
   },
   {
    "duration": 212,
    "start_time": "2021-09-21T19:21:58.724Z"
   },
   {
    "duration": 45,
    "start_time": "2021-09-21T19:22:11.476Z"
   },
   {
    "duration": 210,
    "start_time": "2021-09-21T19:22:54.371Z"
   },
   {
    "duration": 231,
    "start_time": "2021-09-21T19:23:44.262Z"
   },
   {
    "duration": 208,
    "start_time": "2021-09-21T19:23:59.309Z"
   },
   {
    "duration": 211,
    "start_time": "2021-09-21T19:24:12.357Z"
   },
   {
    "duration": 211,
    "start_time": "2021-09-21T19:24:36.847Z"
   },
   {
    "duration": 9,
    "start_time": "2021-09-21T19:31:10.362Z"
   },
   {
    "duration": 64,
    "start_time": "2021-09-21T19:31:46.508Z"
   },
   {
    "duration": 7,
    "start_time": "2021-09-21T19:31:52.516Z"
   },
   {
    "duration": 227,
    "start_time": "2021-09-21T19:32:05.195Z"
   },
   {
    "duration": 7,
    "start_time": "2021-09-21T19:32:20.307Z"
   },
   {
    "duration": 10,
    "start_time": "2021-09-21T19:32:54.219Z"
   },
   {
    "duration": 9,
    "start_time": "2021-09-21T19:33:01.456Z"
   },
   {
    "duration": 8,
    "start_time": "2021-09-21T19:33:10.097Z"
   },
   {
    "duration": 11,
    "start_time": "2021-09-21T19:33:32.476Z"
   },
   {
    "duration": 6,
    "start_time": "2021-09-21T19:33:41.249Z"
   },
   {
    "duration": 7,
    "start_time": "2021-09-21T19:34:09.892Z"
   },
   {
    "duration": 226,
    "start_time": "2021-09-21T19:34:25.843Z"
   },
   {
    "duration": 185,
    "start_time": "2021-09-21T19:35:10.999Z"
   },
   {
    "duration": 181,
    "start_time": "2021-09-21T19:35:15.145Z"
   },
   {
    "duration": 377,
    "start_time": "2021-09-21T19:36:44.511Z"
   },
   {
    "duration": 13,
    "start_time": "2021-09-21T19:37:10.781Z"
   },
   {
    "duration": 13,
    "start_time": "2021-09-21T19:37:24.492Z"
   },
   {
    "duration": 5,
    "start_time": "2021-09-21T19:38:21.320Z"
   },
   {
    "duration": 62,
    "start_time": "2021-09-21T19:38:57.863Z"
   },
   {
    "duration": 68,
    "start_time": "2021-09-21T19:39:05.370Z"
   },
   {
    "duration": 58,
    "start_time": "2021-09-21T19:39:22.567Z"
   },
   {
    "duration": 11,
    "start_time": "2021-09-21T19:39:31.642Z"
   },
   {
    "duration": 8,
    "start_time": "2021-09-21T19:40:01.602Z"
   },
   {
    "duration": 7,
    "start_time": "2021-09-21T19:40:10.348Z"
   },
   {
    "duration": 7,
    "start_time": "2021-09-21T19:40:51.646Z"
   },
   {
    "duration": 176,
    "start_time": "2021-09-21T19:41:20.493Z"
   },
   {
    "duration": 44,
    "start_time": "2021-09-21T19:42:02.914Z"
   },
   {
    "duration": 44,
    "start_time": "2021-09-21T19:42:25.503Z"
   },
   {
    "duration": 45,
    "start_time": "2021-09-21T19:43:02.470Z"
   },
   {
    "duration": 201,
    "start_time": "2021-09-21T19:43:35.453Z"
   },
   {
    "duration": 7,
    "start_time": "2021-09-21T19:43:41.971Z"
   },
   {
    "duration": 14,
    "start_time": "2021-09-21T19:43:51.293Z"
   },
   {
    "duration": 14,
    "start_time": "2021-09-21T19:44:07.513Z"
   },
   {
    "duration": 11,
    "start_time": "2021-09-21T19:44:14.879Z"
   },
   {
    "duration": 58,
    "start_time": "2021-09-21T19:45:53.365Z"
   },
   {
    "duration": 8,
    "start_time": "2021-09-21T19:46:06.932Z"
   },
   {
    "duration": 11,
    "start_time": "2021-09-21T19:46:21.908Z"
   },
   {
    "duration": 16,
    "start_time": "2021-09-21T19:47:20.411Z"
   },
   {
    "duration": 9,
    "start_time": "2021-09-21T19:47:31.855Z"
   },
   {
    "duration": 6,
    "start_time": "2021-09-21T19:47:47.177Z"
   },
   {
    "duration": 8,
    "start_time": "2021-09-21T19:48:59.865Z"
   },
   {
    "duration": 10,
    "start_time": "2021-09-21T19:50:31.114Z"
   },
   {
    "duration": 10,
    "start_time": "2021-09-21T19:50:50.750Z"
   },
   {
    "duration": 174,
    "start_time": "2021-09-21T19:51:00.622Z"
   },
   {
    "duration": 178,
    "start_time": "2021-09-21T19:51:30.249Z"
   },
   {
    "duration": 10,
    "start_time": "2021-09-21T19:51:49.906Z"
   },
   {
    "duration": 60,
    "start_time": "2021-09-21T19:53:06.857Z"
   },
   {
    "duration": 8,
    "start_time": "2021-09-21T19:53:11.270Z"
   },
   {
    "duration": 7,
    "start_time": "2021-09-21T19:53:18.153Z"
   },
   {
    "duration": 64,
    "start_time": "2021-09-21T19:53:27.738Z"
   },
   {
    "duration": 229,
    "start_time": "2021-09-21T19:53:31.632Z"
   },
   {
    "duration": 182,
    "start_time": "2021-09-21T19:53:34.656Z"
   },
   {
    "duration": 194,
    "start_time": "2021-09-21T19:53:41.042Z"
   },
   {
    "duration": 317,
    "start_time": "2021-09-21T19:55:52.301Z"
   },
   {
    "duration": 178,
    "start_time": "2021-09-21T19:55:58.405Z"
   },
   {
    "duration": 3,
    "start_time": "2021-09-21T19:57:28.035Z"
   },
   {
    "duration": 4,
    "start_time": "2021-09-21T19:57:35.314Z"
   },
   {
    "duration": 6,
    "start_time": "2021-09-21T19:57:48.379Z"
   },
   {
    "duration": 8,
    "start_time": "2021-09-21T19:58:35.126Z"
   },
   {
    "duration": 11,
    "start_time": "2021-09-21T19:59:09.541Z"
   },
   {
    "duration": 183,
    "start_time": "2021-09-21T19:59:19.309Z"
   },
   {
    "duration": 11,
    "start_time": "2021-09-21T19:59:24.436Z"
   },
   {
    "duration": 9,
    "start_time": "2021-09-21T19:59:50.691Z"
   },
   {
    "duration": 58,
    "start_time": "2021-09-21T19:59:58.403Z"
   },
   {
    "duration": 8,
    "start_time": "2021-09-21T20:00:04.227Z"
   },
   {
    "duration": 11,
    "start_time": "2021-09-21T20:00:41.317Z"
   },
   {
    "duration": 12,
    "start_time": "2021-09-21T20:00:53.511Z"
   },
   {
    "duration": 12,
    "start_time": "2021-09-21T20:01:19.088Z"
   },
   {
    "duration": 11,
    "start_time": "2021-09-21T20:01:36.607Z"
   },
   {
    "duration": 9,
    "start_time": "2021-09-21T20:01:51.203Z"
   },
   {
    "duration": 9,
    "start_time": "2021-09-21T20:02:11.257Z"
   },
   {
    "duration": 8,
    "start_time": "2021-09-21T20:02:17.962Z"
   },
   {
    "duration": 9,
    "start_time": "2021-09-21T20:02:28.214Z"
   },
   {
    "duration": 11,
    "start_time": "2021-09-21T20:02:49.992Z"
   },
   {
    "duration": 8,
    "start_time": "2021-09-21T20:02:57.734Z"
   },
   {
    "duration": 7,
    "start_time": "2021-09-21T20:03:06.236Z"
   },
   {
    "duration": 8,
    "start_time": "2021-09-21T20:03:11.873Z"
   },
   {
    "duration": 9,
    "start_time": "2021-09-21T20:03:18.333Z"
   },
   {
    "duration": 10,
    "start_time": "2021-09-21T20:03:24.141Z"
   },
   {
    "duration": 9,
    "start_time": "2021-09-21T20:03:40.637Z"
   },
   {
    "duration": 57,
    "start_time": "2021-09-21T20:07:27.780Z"
   },
   {
    "duration": 74,
    "start_time": "2021-09-21T20:07:55.770Z"
   },
   {
    "duration": 60,
    "start_time": "2021-09-21T20:08:10.783Z"
   },
   {
    "duration": 14,
    "start_time": "2021-09-21T20:08:41.431Z"
   },
   {
    "duration": 12,
    "start_time": "2021-09-21T20:09:38.934Z"
   },
   {
    "duration": 13,
    "start_time": "2021-09-21T20:11:13.724Z"
   },
   {
    "duration": 12,
    "start_time": "2021-09-21T20:11:54.028Z"
   },
   {
    "duration": 196,
    "start_time": "2021-09-21T20:14:02.058Z"
   },
   {
    "duration": 976,
    "start_time": "2021-09-21T20:14:07.807Z"
   },
   {
    "duration": 68,
    "start_time": "2021-09-21T20:14:17.247Z"
   },
   {
    "duration": 202,
    "start_time": "2021-09-21T20:15:37.152Z"
   },
   {
    "duration": 1594,
    "start_time": "2021-09-21T20:15:52.103Z"
   },
   {
    "duration": 220,
    "start_time": "2021-09-21T20:16:05.045Z"
   },
   {
    "duration": 196,
    "start_time": "2021-09-21T20:16:41.515Z"
   },
   {
    "duration": 12,
    "start_time": "2021-09-21T20:16:47.453Z"
   },
   {
    "duration": 12,
    "start_time": "2021-09-21T20:17:06.668Z"
   },
   {
    "duration": 194,
    "start_time": "2021-09-21T20:18:21.694Z"
   },
   {
    "duration": 13,
    "start_time": "2021-09-21T20:18:51.345Z"
   },
   {
    "duration": 56,
    "start_time": "2021-09-21T20:19:35.816Z"
   },
   {
    "duration": 3,
    "start_time": "2021-09-21T20:19:57.655Z"
   },
   {
    "duration": 3,
    "start_time": "2021-09-21T20:20:16.994Z"
   },
   {
    "duration": 2,
    "start_time": "2021-09-21T20:20:21.701Z"
   },
   {
    "duration": 2,
    "start_time": "2021-09-21T20:20:42.855Z"
   },
   {
    "duration": 3,
    "start_time": "2021-09-21T20:20:56.522Z"
   },
   {
    "duration": 4,
    "start_time": "2021-09-21T20:21:22.019Z"
   },
   {
    "duration": 16,
    "start_time": "2021-09-21T20:26:25.349Z"
   },
   {
    "duration": 192,
    "start_time": "2021-09-21T20:27:43.970Z"
   },
   {
    "duration": 15,
    "start_time": "2021-09-21T20:28:07.133Z"
   },
   {
    "duration": 16,
    "start_time": "2021-09-21T20:29:42.452Z"
   },
   {
    "duration": 2,
    "start_time": "2021-09-21T20:30:13.407Z"
   },
   {
    "duration": 10,
    "start_time": "2021-09-21T20:30:22.871Z"
   },
   {
    "duration": 2,
    "start_time": "2021-09-21T20:31:48.764Z"
   },
   {
    "duration": 108,
    "start_time": "2021-09-22T07:22:21.594Z"
   },
   {
    "duration": 108,
    "start_time": "2021-09-22T07:22:42.896Z"
   },
   {
    "duration": 138,
    "start_time": "2021-09-22T07:23:59.492Z"
   },
   {
    "duration": 845,
    "start_time": "2021-09-22T07:45:28.781Z"
   },
   {
    "duration": 51,
    "start_time": "2021-09-22T07:45:35.128Z"
   },
   {
    "duration": 3,
    "start_time": "2021-09-22T07:45:35.722Z"
   },
   {
    "duration": 48,
    "start_time": "2021-09-22T07:45:36.258Z"
   },
   {
    "duration": 106,
    "start_time": "2021-09-22T07:45:36.884Z"
   },
   {
    "duration": 37593,
    "start_time": "2021-09-22T07:45:37.537Z"
   },
   {
    "duration": 4,
    "start_time": "2021-09-22T07:46:15.132Z"
   },
   {
    "duration": 84,
    "start_time": "2021-09-22T07:46:15.139Z"
   },
   {
    "duration": 3,
    "start_time": "2021-09-22T07:46:15.226Z"
   },
   {
    "duration": 43,
    "start_time": "2021-09-22T07:46:15.232Z"
   },
   {
    "duration": 3,
    "start_time": "2021-09-22T07:46:15.277Z"
   },
   {
    "duration": 20,
    "start_time": "2021-09-22T07:46:15.283Z"
   },
   {
    "duration": 41,
    "start_time": "2021-09-22T07:46:15.307Z"
   },
   {
    "duration": 18,
    "start_time": "2021-09-22T07:46:15.352Z"
   },
   {
    "duration": 42,
    "start_time": "2021-09-22T07:46:15.373Z"
   },
   {
    "duration": 18,
    "start_time": "2021-09-22T07:46:15.417Z"
   },
   {
    "duration": 26,
    "start_time": "2021-09-22T07:46:15.438Z"
   },
   {
    "duration": 12,
    "start_time": "2021-09-22T07:48:06.627Z"
   },
   {
    "duration": 354,
    "start_time": "2021-09-22T07:48:36.171Z"
   },
   {
    "duration": 12,
    "start_time": "2021-09-22T07:48:46.684Z"
   },
   {
    "duration": 13,
    "start_time": "2021-09-22T07:48:56.659Z"
   },
   {
    "duration": 14,
    "start_time": "2021-09-22T07:49:46.211Z"
   },
   {
    "duration": 1039,
    "start_time": "2021-09-22T07:57:37.592Z"
   },
   {
    "duration": 1054,
    "start_time": "2021-09-22T07:59:23.228Z"
   },
   {
    "duration": 293,
    "start_time": "2021-09-22T07:59:41.676Z"
   },
   {
    "duration": 1108,
    "start_time": "2021-09-22T08:00:04.318Z"
   },
   {
    "duration": 279,
    "start_time": "2021-09-22T08:00:22.787Z"
   },
   {
    "duration": 14,
    "start_time": "2021-09-22T08:00:34.522Z"
   },
   {
    "duration": 3,
    "start_time": "2021-09-22T08:00:35.944Z"
   },
   {
    "duration": 13,
    "start_time": "2021-09-22T08:00:36.746Z"
   },
   {
    "duration": 13,
    "start_time": "2021-09-22T08:00:46.433Z"
   },
   {
    "duration": 14,
    "start_time": "2021-09-22T08:01:01.883Z"
   },
   {
    "duration": 96,
    "start_time": "2021-09-22T08:02:31.692Z"
   }
  ],
  "kernelspec": {
   "display_name": "Python 3 (ipykernel)",
   "language": "python",
   "name": "python3"
  },
  "language_info": {
   "codemirror_mode": {
    "name": "ipython",
    "version": 3
   },
   "file_extension": ".py",
   "mimetype": "text/x-python",
   "name": "python",
   "nbconvert_exporter": "python",
   "pygments_lexer": "ipython3",
   "version": "3.9.5"
  },
  "toc": {
   "base_numbering": 1,
   "nav_menu": {},
   "number_sections": true,
   "sideBar": true,
   "skip_h1_title": true,
   "title_cell": "Table of Contents",
   "title_sidebar": "Contents",
   "toc_cell": false,
   "toc_position": {},
   "toc_section_display": true,
   "toc_window_display": false
  }
 },
 "nbformat": 4,
 "nbformat_minor": 2
}
