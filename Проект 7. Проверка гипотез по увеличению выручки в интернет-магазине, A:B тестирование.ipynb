{
 "cells": [
  {
   "cell_type": "markdown",
   "metadata": {},
   "source": [
    "**A/B АНАЛИЗ И ПРОВЕРКА ГИБОТЕЗ ДЛЯ УВЕЛИЧЕНИЯ ВЫРУЧКИ ИНТЕРНЕТ МАГАЗИНА**"
   ]
  },
  {
   "cell_type": "markdown",
   "metadata": {},
   "source": [
    "**СТРУКТУРА РАБОТЫ:**"
   ]
  },
  {
   "cell_type": "markdown",
   "metadata": {},
   "source": [
    "**Часть 1. Приоритизация гипотез.**"
   ]
  },
  {
   "cell_type": "markdown",
   "metadata": {},
   "source": [
    "**Задачи части 1:**"
   ]
  },
  {
   "cell_type": "markdown",
   "metadata": {},
   "source": [
    "1. Примените фреймворк ICE для приоритизации гипотез. Отсортируйте их по убыванию приоритета."
   ]
  },
  {
   "cell_type": "markdown",
   "metadata": {},
   "source": [
    "2. Примените фреймворк RICE для приоритизации гипотез. Отсортируйте их по убыванию приоритета."
   ]
  },
  {
   "cell_type": "markdown",
   "metadata": {},
   "source": [
    "3. Укажите, как изменилась приоритизация гипотез при применении RICE вместо ICE. Объясните, почему так произошло."
   ]
  },
  {
   "cell_type": "markdown",
   "metadata": {},
   "source": [
    "**Часть 2. Анализ A/B-теста**"
   ]
  },
  {
   "cell_type": "markdown",
   "metadata": {},
   "source": [
    "**Задачи части 2:**"
   ]
  },
  {
   "cell_type": "markdown",
   "metadata": {},
   "source": [
    "1. Постройте график кумулятивной выручки по группам. Сделайте выводы и предположения."
   ]
  },
  {
   "cell_type": "markdown",
   "metadata": {},
   "source": [
    "2. Постройте график кумулятивного среднего чека по группам. Сделайте выводы и предположения."
   ]
  },
  {
   "cell_type": "markdown",
   "metadata": {},
   "source": [
    "3. Постройте график относительного изменения кумулятивного среднего чека группы B к группе A. Сделайте выводы и предположения."
   ]
  },
  {
   "cell_type": "markdown",
   "metadata": {},
   "source": [
    "4. Постройте график кумулятивной конверсии по группам. Сделайте выводы и предположения."
   ]
  },
  {
   "cell_type": "markdown",
   "metadata": {},
   "source": [
    "5. Постройте график относительного изменения кумулятивной конверсии группы B к группе A. Сделайте выводы и предположения."
   ]
  },
  {
   "cell_type": "markdown",
   "metadata": {},
   "source": [
    "6. Постройте точечный график количества заказов по пользователям. Сделайте выводы и предположения."
   ]
  },
  {
   "cell_type": "markdown",
   "metadata": {},
   "source": [
    "7. Посчитайте 95-й и 99-й перцентили количества заказов на пользователя. Выберите границу для определения аномальных пользователей."
   ]
  },
  {
   "cell_type": "markdown",
   "metadata": {},
   "source": [
    "8. Постройте точечный график стоимостей заказов. Сделайте выводы и предположения."
   ]
  },
  {
   "cell_type": "markdown",
   "metadata": {},
   "source": [
    "9. Посчитайте 95-й и 99-й перцентили стоимости заказов. Выберите границу для определения аномальных заказов."
   ]
  },
  {
   "cell_type": "markdown",
   "metadata": {},
   "source": [
    "10. Посчитайте статистическую значимость различий в конверсии между группами по «сырым» данным. Сделайте выводы и предположения."
   ]
  },
  {
   "cell_type": "markdown",
   "metadata": {},
   "source": [
    "11. Посчитайте статистическую значимость различий в среднем чеке заказа между группами по «сырым» данным. Сделайте выводы и предположения."
   ]
  },
  {
   "cell_type": "markdown",
   "metadata": {},
   "source": [
    "12. Посчитайте статистическую значимость различий в конверсии между группами по «очищенным» данным. Сделайте выводы и предположения."
   ]
  },
  {
   "cell_type": "markdown",
   "metadata": {},
   "source": [
    "13. Посчитайте статистическую значимость различий в среднем чеке заказа между группами по «очищенным» данным. Сделайте выводы и предположения."
   ]
  },
  {
   "cell_type": "markdown",
   "metadata": {},
   "source": [
    "14. Примите решение по результатам теста и объясните его. \n",
    "\n",
    "Варианты решений: \n",
    "\n",
    "1. Остановить тест, зафиксировать победу одной из групп. \n",
    "\n",
    "2. Остановить тест, зафиксировать отсутствие различий между группами. \n",
    "\n",
    "3. Продолжить тест."
   ]
  },
  {
   "cell_type": "code",
   "execution_count": 1,
   "metadata": {},
   "outputs": [],
   "source": [
    "import pandas as pd\n",
    "import scipy.stats as stats\n",
    "from scipy import stats as st\n",
    "import math\n",
    "import numpy as np\n",
    "import matplotlib.pyplot as plt"
   ]
  },
  {
   "cell_type": "code",
   "execution_count": 2,
   "metadata": {},
   "outputs": [],
   "source": [
    "hypothesis = pd.read_csv('/datasets/hypothesis.csv')\n",
    "orders = pd.read_csv('/datasets/orders.csv')\n",
    "visitors = pd.read_csv('/datasets/visitors.csv')"
   ]
  },
  {
   "cell_type": "code",
   "execution_count": 3,
   "metadata": {},
   "outputs": [
    {
     "name": "stdout",
     "output_type": "stream",
     "text": [
      "<class 'pandas.core.frame.DataFrame'>\n",
      "RangeIndex: 9 entries, 0 to 8\n",
      "Data columns (total 5 columns):\n",
      " #   Column      Non-Null Count  Dtype \n",
      "---  ------      --------------  ----- \n",
      " 0   Hypothesis  9 non-null      object\n",
      " 1   Reach       9 non-null      int64 \n",
      " 2   Impact      9 non-null      int64 \n",
      " 3   Confidence  9 non-null      int64 \n",
      " 4   Efforts     9 non-null      int64 \n",
      "dtypes: int64(4), object(1)\n",
      "memory usage: 488.0+ bytes\n"
     ]
    }
   ],
   "source": [
    "hypothesis.info()"
   ]
  },
  {
   "cell_type": "code",
   "execution_count": 4,
   "metadata": {},
   "outputs": [
    {
     "name": "stdout",
     "output_type": "stream",
     "text": [
      "<class 'pandas.core.frame.DataFrame'>\n",
      "RangeIndex: 1197 entries, 0 to 1196\n",
      "Data columns (total 5 columns):\n",
      " #   Column         Non-Null Count  Dtype \n",
      "---  ------         --------------  ----- \n",
      " 0   transactionId  1197 non-null   int64 \n",
      " 1   visitorId      1197 non-null   int64 \n",
      " 2   date           1197 non-null   object\n",
      " 3   revenue        1197 non-null   int64 \n",
      " 4   group          1197 non-null   object\n",
      "dtypes: int64(3), object(2)\n",
      "memory usage: 46.9+ KB\n"
     ]
    }
   ],
   "source": [
    "orders.info()"
   ]
  },
  {
   "cell_type": "code",
   "execution_count": 5,
   "metadata": {},
   "outputs": [
    {
     "name": "stdout",
     "output_type": "stream",
     "text": [
      "<class 'pandas.core.frame.DataFrame'>\n",
      "RangeIndex: 62 entries, 0 to 61\n",
      "Data columns (total 3 columns):\n",
      " #   Column    Non-Null Count  Dtype \n",
      "---  ------    --------------  ----- \n",
      " 0   date      62 non-null     object\n",
      " 1   group     62 non-null     object\n",
      " 2   visitors  62 non-null     int64 \n",
      "dtypes: int64(1), object(2)\n",
      "memory usage: 1.6+ KB\n"
     ]
    }
   ],
   "source": [
    "visitors.info()"
   ]
  },
  {
   "cell_type": "markdown",
   "metadata": {},
   "source": [
    "*В таблице orders и visitors некорректные форматы дат, необходимо поправить*"
   ]
  },
  {
   "cell_type": "code",
   "execution_count": 6,
   "metadata": {},
   "outputs": [],
   "source": [
    "orders['date'] = pd.to_datetime(orders['date'])\n",
    "visitors['date'] = pd.to_datetime(visitors['date'])"
   ]
  },
  {
   "cell_type": "code",
   "execution_count": 7,
   "metadata": {},
   "outputs": [
    {
     "name": "stdout",
     "output_type": "stream",
     "text": [
      "<class 'pandas.core.frame.DataFrame'>\n",
      "RangeIndex: 62 entries, 0 to 61\n",
      "Data columns (total 3 columns):\n",
      " #   Column    Non-Null Count  Dtype         \n",
      "---  ------    --------------  -----         \n",
      " 0   date      62 non-null     datetime64[ns]\n",
      " 1   group     62 non-null     object        \n",
      " 2   visitors  62 non-null     int64         \n",
      "dtypes: datetime64[ns](1), int64(1), object(1)\n",
      "memory usage: 1.6+ KB\n",
      "<class 'pandas.core.frame.DataFrame'>\n",
      "RangeIndex: 1197 entries, 0 to 1196\n",
      "Data columns (total 5 columns):\n",
      " #   Column         Non-Null Count  Dtype         \n",
      "---  ------         --------------  -----         \n",
      " 0   transactionId  1197 non-null   int64         \n",
      " 1   visitorId      1197 non-null   int64         \n",
      " 2   date           1197 non-null   datetime64[ns]\n",
      " 3   revenue        1197 non-null   int64         \n",
      " 4   group          1197 non-null   object        \n",
      "dtypes: datetime64[ns](1), int64(3), object(1)\n",
      "memory usage: 46.9+ KB\n"
     ]
    }
   ],
   "source": [
    "visitors.info()\n",
    "orders.info()"
   ]
  },
  {
   "cell_type": "markdown",
   "metadata": {},
   "source": [
    "**ЧАСТЬ 1**"
   ]
  },
  {
   "cell_type": "markdown",
   "metadata": {},
   "source": [
    "**Применим фреймворк ICE для приоритизации гипотез**"
   ]
  },
  {
   "cell_type": "markdown",
   "metadata": {},
   "source": [
    "*Для расчета ICE необходимо \n",
    "Impact (насколько сильно изменение повлияет на пользователей, их опыт и удовлетворение от продукта) умножить на Confidence (насколько вы уверены, что это изменение повлияет на пользователей именно так) и поделить на\n",
    "Efforts(сколько стоит протестировать эту гипотезу)*"
   ]
  },
  {
   "cell_type": "code",
   "execution_count": 8,
   "metadata": {},
   "outputs": [],
   "source": [
    "hypothesis['ICE'] = hypothesis['Impact'] * hypothesis['Confidence'] / hypothesis['Efforts']"
   ]
  },
  {
   "cell_type": "code",
   "execution_count": 9,
   "metadata": {},
   "outputs": [
    {
     "data": {
      "text/html": [
       "<div>\n",
       "<style scoped>\n",
       "    .dataframe tbody tr th:only-of-type {\n",
       "        vertical-align: middle;\n",
       "    }\n",
       "\n",
       "    .dataframe tbody tr th {\n",
       "        vertical-align: top;\n",
       "    }\n",
       "\n",
       "    .dataframe thead th {\n",
       "        text-align: right;\n",
       "    }\n",
       "</style>\n",
       "<table border=\"1\" class=\"dataframe\">\n",
       "  <thead>\n",
       "    <tr style=\"text-align: right;\">\n",
       "      <th></th>\n",
       "      <th>ICE</th>\n",
       "      <th>Hypothesis</th>\n",
       "    </tr>\n",
       "  </thead>\n",
       "  <tbody>\n",
       "    <tr>\n",
       "      <th>8</th>\n",
       "      <td>16.200000</td>\n",
       "      <td>Запустить акцию, дающую скидку на товар в день рождения</td>\n",
       "    </tr>\n",
       "    <tr>\n",
       "      <th>0</th>\n",
       "      <td>13.333333</td>\n",
       "      <td>Добавить два новых канала привлечения трафика, что позволит привлекать на 30% больше пользователей</td>\n",
       "    </tr>\n",
       "    <tr>\n",
       "      <th>7</th>\n",
       "      <td>11.200000</td>\n",
       "      <td>Добавить форму подписки на все основные страницы, чтобы собрать базу клиентов для email-рассылок</td>\n",
       "    </tr>\n",
       "    <tr>\n",
       "      <th>6</th>\n",
       "      <td>8.000000</td>\n",
       "      <td>Показать на главной странице баннеры с актуальными акциями и распродажами, чтобы увеличить конверсию</td>\n",
       "    </tr>\n",
       "    <tr>\n",
       "      <th>2</th>\n",
       "      <td>7.000000</td>\n",
       "      <td>Добавить блоки рекомендаций товаров на сайт интернет магазина, чтобы повысить конверсию и средний чек заказа</td>\n",
       "    </tr>\n",
       "    <tr>\n",
       "      <th>1</th>\n",
       "      <td>2.000000</td>\n",
       "      <td>Запустить собственную службу доставки, что сократит срок доставки заказов</td>\n",
       "    </tr>\n",
       "    <tr>\n",
       "      <th>5</th>\n",
       "      <td>1.333333</td>\n",
       "      <td>Добавить страницу отзывов клиентов о магазине, что позволит увеличить количество заказов</td>\n",
       "    </tr>\n",
       "    <tr>\n",
       "      <th>3</th>\n",
       "      <td>1.125000</td>\n",
       "      <td>Изменить структура категорий, что увеличит конверсию, т.к. пользователи быстрее найдут нужный товар</td>\n",
       "    </tr>\n",
       "    <tr>\n",
       "      <th>4</th>\n",
       "      <td>1.000000</td>\n",
       "      <td>Изменить цвет фона главной страницы, чтобы увеличить вовлеченность пользователей</td>\n",
       "    </tr>\n",
       "  </tbody>\n",
       "</table>\n",
       "</div>"
      ],
      "text/plain": [
       "         ICE  \\\n",
       "8  16.200000   \n",
       "0  13.333333   \n",
       "7  11.200000   \n",
       "6   8.000000   \n",
       "2   7.000000   \n",
       "1   2.000000   \n",
       "5   1.333333   \n",
       "3   1.125000   \n",
       "4   1.000000   \n",
       "\n",
       "                                                                                                     Hypothesis  \n",
       "8                                                       Запустить акцию, дающую скидку на товар в день рождения  \n",
       "0            Добавить два новых канала привлечения трафика, что позволит привлекать на 30% больше пользователей  \n",
       "7              Добавить форму подписки на все основные страницы, чтобы собрать базу клиентов для email-рассылок  \n",
       "6          Показать на главной странице баннеры с актуальными акциями и распродажами, чтобы увеличить конверсию  \n",
       "2  Добавить блоки рекомендаций товаров на сайт интернет магазина, чтобы повысить конверсию и средний чек заказа  \n",
       "1                                     Запустить собственную службу доставки, что сократит срок доставки заказов  \n",
       "5                      Добавить страницу отзывов клиентов о магазине, что позволит увеличить количество заказов  \n",
       "3           Изменить структура категорий, что увеличит конверсию, т.к. пользователи быстрее найдут нужный товар  \n",
       "4                              Изменить цвет фона главной страницы, чтобы увеличить вовлеченность пользователей  "
      ]
     },
     "metadata": {},
     "output_type": "display_data"
    }
   ],
   "source": [
    "pd.options.display.max_colwidth = 400\n",
    "display(hypothesis[['ICE','Hypothesis']].sort_values('ICE', ascending=False))\n"
   ]
  },
  {
   "cell_type": "markdown",
   "metadata": {},
   "source": [
    "**Применим фреймворк RICE для приоритизации гипотез**"
   ]
  },
  {
   "cell_type": "markdown",
   "metadata": {},
   "source": [
    "*Для расчета RICE необходимо \n",
    "Reach (скольких пользователей затронет изменение, которое вы хотите внести) умножить на \n",
    "Impact (насколько сильно изменение повлияет на пользователей, их опыт и удовлетворение от продукта) и на\n",
    "Confidence (насколько вы уверены, что это изменение повлияет на пользователей именно так), и раздедлить на\n",
    "Efforts (сколько стоит протестировать эту гипотезу)*"
   ]
  },
  {
   "cell_type": "code",
   "execution_count": 10,
   "metadata": {},
   "outputs": [],
   "source": [
    "hypothesis['RICE'] = hypothesis['Reach'] * hypothesis['Impact'] * hypothesis['Confidence'] / hypothesis['Efforts']"
   ]
  },
  {
   "cell_type": "code",
   "execution_count": 11,
   "metadata": {},
   "outputs": [
    {
     "data": {
      "text/html": [
       "<div>\n",
       "<style scoped>\n",
       "    .dataframe tbody tr th:only-of-type {\n",
       "        vertical-align: middle;\n",
       "    }\n",
       "\n",
       "    .dataframe tbody tr th {\n",
       "        vertical-align: top;\n",
       "    }\n",
       "\n",
       "    .dataframe thead th {\n",
       "        text-align: right;\n",
       "    }\n",
       "</style>\n",
       "<table border=\"1\" class=\"dataframe\">\n",
       "  <thead>\n",
       "    <tr style=\"text-align: right;\">\n",
       "      <th></th>\n",
       "      <th>RICE</th>\n",
       "      <th>Hypothesis</th>\n",
       "    </tr>\n",
       "  </thead>\n",
       "  <tbody>\n",
       "    <tr>\n",
       "      <th>7</th>\n",
       "      <td>112.0</td>\n",
       "      <td>Добавить форму подписки на все основные страницы, чтобы собрать базу клиентов для email-рассылок</td>\n",
       "    </tr>\n",
       "    <tr>\n",
       "      <th>2</th>\n",
       "      <td>56.0</td>\n",
       "      <td>Добавить блоки рекомендаций товаров на сайт интернет магазина, чтобы повысить конверсию и средний чек заказа</td>\n",
       "    </tr>\n",
       "    <tr>\n",
       "      <th>0</th>\n",
       "      <td>40.0</td>\n",
       "      <td>Добавить два новых канала привлечения трафика, что позволит привлекать на 30% больше пользователей</td>\n",
       "    </tr>\n",
       "    <tr>\n",
       "      <th>6</th>\n",
       "      <td>40.0</td>\n",
       "      <td>Показать на главной странице баннеры с актуальными акциями и распродажами, чтобы увеличить конверсию</td>\n",
       "    </tr>\n",
       "    <tr>\n",
       "      <th>8</th>\n",
       "      <td>16.2</td>\n",
       "      <td>Запустить акцию, дающую скидку на товар в день рождения</td>\n",
       "    </tr>\n",
       "    <tr>\n",
       "      <th>3</th>\n",
       "      <td>9.0</td>\n",
       "      <td>Изменить структура категорий, что увеличит конверсию, т.к. пользователи быстрее найдут нужный товар</td>\n",
       "    </tr>\n",
       "    <tr>\n",
       "      <th>1</th>\n",
       "      <td>4.0</td>\n",
       "      <td>Запустить собственную службу доставки, что сократит срок доставки заказов</td>\n",
       "    </tr>\n",
       "    <tr>\n",
       "      <th>5</th>\n",
       "      <td>4.0</td>\n",
       "      <td>Добавить страницу отзывов клиентов о магазине, что позволит увеличить количество заказов</td>\n",
       "    </tr>\n",
       "    <tr>\n",
       "      <th>4</th>\n",
       "      <td>3.0</td>\n",
       "      <td>Изменить цвет фона главной страницы, чтобы увеличить вовлеченность пользователей</td>\n",
       "    </tr>\n",
       "  </tbody>\n",
       "</table>\n",
       "</div>"
      ],
      "text/plain": [
       "    RICE  \\\n",
       "7  112.0   \n",
       "2   56.0   \n",
       "0   40.0   \n",
       "6   40.0   \n",
       "8   16.2   \n",
       "3    9.0   \n",
       "1    4.0   \n",
       "5    4.0   \n",
       "4    3.0   \n",
       "\n",
       "                                                                                                     Hypothesis  \n",
       "7              Добавить форму подписки на все основные страницы, чтобы собрать базу клиентов для email-рассылок  \n",
       "2  Добавить блоки рекомендаций товаров на сайт интернет магазина, чтобы повысить конверсию и средний чек заказа  \n",
       "0            Добавить два новых канала привлечения трафика, что позволит привлекать на 30% больше пользователей  \n",
       "6          Показать на главной странице баннеры с актуальными акциями и распродажами, чтобы увеличить конверсию  \n",
       "8                                                       Запустить акцию, дающую скидку на товар в день рождения  \n",
       "3           Изменить структура категорий, что увеличит конверсию, т.к. пользователи быстрее найдут нужный товар  \n",
       "1                                     Запустить собственную службу доставки, что сократит срок доставки заказов  \n",
       "5                      Добавить страницу отзывов клиентов о магазине, что позволит увеличить количество заказов  \n",
       "4                              Изменить цвет фона главной страницы, чтобы увеличить вовлеченность пользователей  "
      ]
     },
     "metadata": {},
     "output_type": "display_data"
    }
   ],
   "source": [
    "display(hypothesis[['RICE','Hypothesis']].sort_values('RICE', ascending=False))\n",
    "pd.options.display.max_colwidth = 400"
   ]
  },
  {
   "cell_type": "markdown",
   "metadata": {},
   "source": [
    "**Укажем, как изменилась приоритизация гипотез при применении RICE вместо ICE**"
   ]
  },
  {
   "cell_type": "code",
   "execution_count": 12,
   "metadata": {},
   "outputs": [
    {
     "data": {
      "text/plain": [
       "<AxesSubplot:xlabel='Hypothesis'>"
      ]
     },
     "execution_count": 12,
     "metadata": {},
     "output_type": "execute_result"
    },
    {
     "data": {
      "image/png": "[encoded data removed]",
      "text/plain": [
       "<Figure size 432x288 with 1 Axes>"
      ]
     },
     "metadata": {
      "needs_background": "light"
     },
     "output_type": "display_data"
    }
   ],
   "source": [
    "hypothesis[['Hypothesis', 'RICE','ICE']].set_index('Hypothesis').plot(kind='bar')"
   ]
  },
  {
   "cell_type": "markdown",
   "metadata": {},
   "source": [
    "*Приоритизация отличается у двух фремфорков, так как в расчете RICE добавляется параметр Reach — скольких пользователей затронет изменение, которое вы хотите внести. При этом оба фреймворка показывают одинаковые значения по гипотезе в 8 строке.*"
   ]
  },
  {
   "cell_type": "markdown",
   "metadata": {},
   "source": [
    "**ЧАСТЬ 2**"
   ]
  },
  {
   "cell_type": "markdown",
   "metadata": {},
   "source": [
    "**Проверим корректность разбиения полтзователей на группы и корректность дат в таблицах**"
   ]
  },
  {
   "cell_type": "code",
   "execution_count": 13,
   "metadata": {},
   "outputs": [],
   "source": [
    "#check_data_group = orders[['date','group']].drop_duplicates().sort_values(by=['date','group']).reset_index(drop=True) == visitors[['date','group']].drop_duplicates().sort_values(by=['date','group']).reset_index(drop=True)\n",
    "#display(check_data_group)"
   ]
  },
  {
   "cell_type": "code",
   "execution_count": 14,
   "metadata": {
    "scrolled": true
   },
   "outputs": [],
   "source": [
    "#print(check_data_group['date'].sum(), check_data_group['group'].sum())"
   ]
  },
  {
   "cell_type": "markdown",
   "metadata": {},
   "source": [
    "*Дубликаты удалены, данные на совпадения проверены*"
   ]
  },
  {
   "cell_type": "code",
   "execution_count": 15,
   "metadata": {},
   "outputs": [],
   "source": [
    "orders_check = orders.groupby('visitorId').agg({'group':'nunique'}).reset_index().query('group > 1')\n",
    "orders_check = orders_check['visitorId']\n",
    "orders = orders.query(\"visitorId not in @orders_check\")"
   ]
  },
  {
   "cell_type": "code",
   "execution_count": 16,
   "metadata": {},
   "outputs": [],
   "source": [
    "#orders_check = orders.groupby('visitorId')['group'].nunique().reset_index()\n",
    "#orders_check = orders_new.query('group>1')\n",
    "#orders = orders[~orders['visitorId'].isin(orders_check['visitorId'])]"
   ]
  },
  {
   "cell_type": "markdown",
   "metadata": {},
   "source": [
    "**1. Построим график кумулятивной выручки по группам. Сформировав сводную таблицу.**"
   ]
  },
  {
   "cell_type": "code",
   "execution_count": 17,
   "metadata": {},
   "outputs": [],
   "source": [
    "datesGroups = orders[['date', 'group']].drop_duplicates()"
   ]
  },
  {
   "cell_type": "code",
   "execution_count": 18,
   "metadata": {},
   "outputs": [],
   "source": [
    "ordersAggregated = datesGroups.apply(lambda x: orders[np.logical_and(orders['date'] <= x['date'], orders['group'] == x['group'])].agg({'date': 'max','group': 'max','transactionId': 'nunique','visitorId': 'nunique','revenue': 'sum',}),axis=1,).sort_values(by=['date', 'group'])"
   ]
  },
  {
   "cell_type": "code",
   "execution_count": 19,
   "metadata": {},
   "outputs": [],
   "source": [
    "visitorsAggregated = datesGroups.apply(lambda x: visitors[np.logical_and(visitors['date'] <= x['date'], visitors['group'] == x['group'])].agg({'date': 'max', 'group': 'max', 'visitors': 'sum'}),axis=1,).sort_values(by=['date', 'group'])"
   ]
  },
  {
   "cell_type": "code",
   "execution_count": 20,
   "metadata": {},
   "outputs": [],
   "source": [
    "cumulativeData = ordersAggregated.merge(visitorsAggregated, left_on=['date', 'group'], right_on=['date', 'group'])\n",
    "\n",
    "cumulativeData.columns = ['date','group','orders','buyers','revenue','visitors',]"
   ]
  },
  {
   "cell_type": "code",
   "execution_count": 21,
   "metadata": {},
   "outputs": [],
   "source": [
    "cumulativeRevenueA = cumulativeData[cumulativeData['group']=='A'][['date','revenue', 'orders']]\n",
    "\n",
    "cumulativeRevenueB = cumulativeData[cumulativeData['group']=='B'][['date','revenue', 'orders']]"
   ]
  },
  {
   "cell_type": "code",
   "execution_count": 22,
   "metadata": {},
   "outputs": [
    {
     "data": {
      "image/png": "[encoded data removed]",
      "text/plain": [
       "<Figure size 936x360 with 1 Axes>"
      ]
     },
     "metadata": {
      "needs_background": "light"
     },
     "output_type": "display_data"
    }
   ],
   "source": [
    "plt.figure(figsize=(13,5))\n",
    "\n",
    "plt.plot(cumulativeRevenueA['date'], cumulativeRevenueA['revenue'], label='Группа A')\n",
    "\n",
    "plt.plot(cumulativeRevenueB['date'], cumulativeRevenueB['revenue'], label='Группа B')\n",
    "\n",
    "plt.legend() \n",
    "\n",
    "plt.title('График кумулятивной выручки по группам')\n",
    "\n",
    "plt.ylabel('Выручка')\n",
    "\n",
    "plt.xlabel('Дата')\n",
    "\n",
    "plt.show()"
   ]
  },
  {
   "cell_type": "markdown",
   "metadata": {},
   "source": [
    "*Выручка группы 'B' стабильно выше выручки группы 'A'*"
   ]
  },
  {
   "cell_type": "markdown",
   "metadata": {},
   "source": [
    "**2. Построим график кумулятивного среднего чека по группам.**"
   ]
  },
  {
   "cell_type": "code",
   "execution_count": 23,
   "metadata": {},
   "outputs": [
    {
     "data": {
      "image/png": "[encoded data removed]",
      "text/plain": [
       "<Figure size 936x360 with 1 Axes>"
      ]
     },
     "metadata": {
      "needs_background": "light"
     },
     "output_type": "display_data"
    }
   ],
   "source": [
    "plt.figure(figsize=(13,5))\n",
    "\n",
    "plt.plot(cumulativeRevenueA['date'], cumulativeRevenueA['revenue']/cumulativeRevenueA['orders'], label='Группа A')\n",
    "\n",
    "plt.plot(cumulativeRevenueB['date'], cumulativeRevenueB['revenue']/cumulativeRevenueB['orders'], label='Группа B')\n",
    "\n",
    "plt.legend() \n",
    "\n",
    "plt.title('График кумулятивной выручки по группам')\n",
    "\n",
    "plt.ylabel('Выручка')\n",
    "\n",
    "plt.xlabel('Дата')\n",
    "\n",
    "plt.show()"
   ]
  },
  {
   "cell_type": "markdown",
   "metadata": {},
   "source": [
    "*Данные по среднему чеку показывают лидерство группы В. Но видим резкий рост, который возможно произошел из-за аномалий*"
   ]
  },
  {
   "cell_type": "markdown",
   "metadata": {},
   "source": [
    "**3. Построим график относительного изменения кумулятивного среднего чека группы B к группе A.**"
   ]
  },
  {
   "cell_type": "code",
   "execution_count": 24,
   "metadata": {},
   "outputs": [
    {
     "data": {
      "image/png": "[encoded data removed]",
      "text/plain": [
       "<Figure size 936x360 with 1 Axes>"
      ]
     },
     "metadata": {
      "needs_background": "light"
     },
     "output_type": "display_data"
    }
   ],
   "source": [
    "plt.figure(figsize=(13,5))\n",
    "\n",
    "mergedCumulativeRevenue = cumulativeRevenueA.merge(cumulativeRevenueB, left_on='date', right_on='date', how='left', suffixes=['A', 'B'])\n",
    "\n",
    "plt.plot(mergedCumulativeRevenue['date'], (mergedCumulativeRevenue['revenueB']/mergedCumulativeRevenue['ordersB'])/(mergedCumulativeRevenue['revenueA']/mergedCumulativeRevenue['ordersA'])-1)\n",
    "\n",
    "plt.axhline(y=0, color='black', linestyle='--') \n",
    "\n",
    "plt.title('График относительного изменения кумулятивного среднего чека группы B к группе A')\n",
    "\n",
    "plt.xlabel('Дата')\n",
    "\n",
    "plt.show()"
   ]
  },
  {
   "cell_type": "markdown",
   "metadata": {},
   "source": [
    "*Волотивность большая, неободимо будет проверить аномалии*"
   ]
  },
  {
   "cell_type": "markdown",
   "metadata": {},
   "source": [
    "**4. Построим график кумулятивной конверсии по группам**"
   ]
  },
  {
   "cell_type": "code",
   "execution_count": 25,
   "metadata": {},
   "outputs": [
    {
     "data": {
      "image/png": "[encoded data removed]",
      "text/plain": [
       "<Figure size 936x360 with 1 Axes>"
      ]
     },
     "metadata": {
      "needs_background": "light"
     },
     "output_type": "display_data"
    }
   ],
   "source": [
    "cumulativeData ['conversion'] = cumulativeData['orders']/cumulativeData['visitors']\n",
    "\n",
    "cumulativeDataA = cumulativeData[cumulativeData['group']=='A']\n",
    "\n",
    "cumulativeDataB = cumulativeData[cumulativeData['group']=='B']\n",
    "\n",
    "plt.figure(figsize=(13,5))\n",
    "plt.plot(cumulativeDataA['date'], cumulativeDataA['conversion'], label='Группа A')\n",
    "plt.plot(cumulativeDataB['date'], cumulativeDataB['conversion'], label='Группа B')\n",
    "plt.legend()\n",
    "plt.title('График кумулятивной конверсии по группам')\n",
    "plt.xlabel('Дата')\n",
    "plt.ylabel('Конверсия')\n",
    "plt.show()"
   ]
  },
  {
   "cell_type": "markdown",
   "metadata": {},
   "source": [
    "*Конверсия группы В явно показывает лучший резльтат*"
   ]
  },
  {
   "cell_type": "markdown",
   "metadata": {},
   "source": [
    " **5. Постройте график относительного изменения кумулятивной конверсии группы B к группе A. Сделайте выводы и предположения.**"
   ]
  },
  {
   "cell_type": "code",
   "execution_count": 26,
   "metadata": {},
   "outputs": [
    {
     "data": {
      "image/png": "[encoded data removed]",
      "text/plain": [
       "<Figure size 936x360 with 1 Axes>"
      ]
     },
     "metadata": {
      "needs_background": "light"
     },
     "output_type": "display_data"
    }
   ],
   "source": [
    "mergedCumulativeConversions = cumulativeDataA[['date','conversion']].merge(cumulativeDataB[['date','conversion']], left_on='date', right_on='date', how='left', suffixes=['A', 'B'])\n",
    "plt.figure(figsize=(13,5))\n",
    "plt.plot(mergedCumulativeConversions['date'], mergedCumulativeConversions['conversionB']/mergedCumulativeConversions['conversionA']-1, label=\"Относительный прирост конверсии группы B относительно группы A\")\n",
    "plt.legend()\n",
    "\n",
    "plt.axhline(y=0, color='black', linestyle='--')\n",
    "plt.axhline(y=0.1, color='grey', linestyle='--')\n",
    "\n",
    "plt.title('График относительного изменения кумулятивной конверсии группы B к группе A')\n",
    "plt.xlabel('Дата')\n",
    "plt.show()"
   ]
  },
  {
   "cell_type": "markdown",
   "metadata": {},
   "source": [
    "*Конверсия группы В выше группы А на 10%*"
   ]
  },
  {
   "cell_type": "markdown",
   "metadata": {},
   "source": [
    "**6. Построим точечный график количества заказов по пользователям.**"
   ]
  },
  {
   "cell_type": "code",
   "execution_count": 27,
   "metadata": {},
   "outputs": [],
   "source": [
    "ordersByUsers = (orders.groupby('visitorId', as_index=False).agg({'transactionId': 'nunique'}))\n",
    "ordersByUsers.columns = ['visitorId', 'orders']"
   ]
  },
  {
   "cell_type": "code",
   "execution_count": 28,
   "metadata": {},
   "outputs": [
    {
     "data": {
      "image/png": "[encoded data removed]",
      "text/plain": [
       "<Figure size 936x360 with 1 Axes>"
      ]
     },
     "metadata": {
      "needs_background": "light"
     },
     "output_type": "display_data"
    }
   ],
   "source": [
    "x_values = pd.Series(range(0, len(ordersByUsers)))\n",
    "\n",
    "plt.figure(figsize=(13,5))\n",
    "plt.scatter(x_values,ordersByUsers['orders'])\n",
    "plt.title('Точечный график количества заказов по пользователям')\n",
    "plt.show()"
   ]
  },
  {
   "cell_type": "markdown",
   "metadata": {},
   "source": [
    "*Согласно точечному графику, клиенты редко совершают более 2х заказов*"
   ]
  },
  {
   "cell_type": "markdown",
   "metadata": {},
   "source": [
    "**7. Посчитаем 95-й и 99-й перцентили количества заказов на пользователя.**"
   ]
  },
  {
   "cell_type": "code",
   "execution_count": 29,
   "metadata": {},
   "outputs": [
    {
     "name": "stdout",
     "output_type": "stream",
     "text": [
      "[1. 2.]\n"
     ]
    }
   ],
   "source": [
    "print(np.percentile(ordersByUsers['orders'],[95,99]))"
   ]
  },
  {
   "cell_type": "markdown",
   "metadata": {},
   "source": [
    "*Больше 1-го заказа совершают 5% пользователей*"
   ]
  },
  {
   "cell_type": "markdown",
   "metadata": {},
   "source": [
    "**8. Построим точечный график стоимостей заказов.**"
   ]
  },
  {
   "cell_type": "code",
   "execution_count": 30,
   "metadata": {},
   "outputs": [
    {
     "data": {
      "image/png": "[encoded data removed]",
      "text/plain": [
       "<Figure size 936x360 with 1 Axes>"
      ]
     },
     "metadata": {
      "needs_background": "light"
     },
     "output_type": "display_data"
    }
   ],
   "source": [
    "x_values = pd.Series(range(0, len(orders['revenue'])))\n",
    "\n",
    "plt.figure(figsize=(13,5))\n",
    "plt.scatter(x_values, orders['revenue'])\n",
    "plt.axis([0, 1000, 0, 100000])\n",
    "plt.title('Точечный график стоимостей заказов')\n",
    "plt.show()"
   ]
  },
  {
   "cell_type": "markdown",
   "metadata": {},
   "source": [
    "*В основном клиенты делают заказ до 20 000 р.*"
   ]
  },
  {
   "cell_type": "markdown",
   "metadata": {},
   "source": [
    "**9. Посчитаем 95-й и 99-й перцентили стоимости заказов.**"
   ]
  },
  {
   "cell_type": "code",
   "execution_count": 31,
   "metadata": {},
   "outputs": [
    {
     "name": "stdout",
     "output_type": "stream",
     "text": [
      "[26785. 53904.]\n"
     ]
    }
   ],
   "source": [
    "print(np.percentile(orders['revenue'],[95,99]))"
   ]
  },
  {
   "cell_type": "markdown",
   "metadata": {},
   "source": [
    "*Только 5% процентов заказов имеют стоимость выше 28 000*"
   ]
  },
  {
   "cell_type": "markdown",
   "metadata": {},
   "source": [
    "**10. Посчитаем статистическую значимость различий в конверсии между группами по «сырым» данным.**"
   ]
  },
  {
   "cell_type": "code",
   "execution_count": 32,
   "metadata": {},
   "outputs": [
    {
     "name": "stdout",
     "output_type": "stream",
     "text": [
      "0.011\n",
      "0.160\n"
     ]
    }
   ],
   "source": [
    "visitorsADaily = visitors[visitors['group'] == 'A'][['date', 'visitors']]\n",
    "visitorsADaily.columns = ['date', 'visitorsPerDateA']\n",
    "\n",
    "visitorsACummulative = visitorsADaily.apply(\n",
    "    lambda x: visitorsADaily[visitorsADaily['date'] <= x['date']].agg(\n",
    "        {'date': 'max', 'visitorsPerDateA': 'sum'}\n",
    "    ),\n",
    "    axis=1,\n",
    ")\n",
    "visitorsACummulative.columns = ['date', 'visitorsCummulativeA']\n",
    "\n",
    "visitorsBDaily = visitors[visitors['group'] == 'B'][['date', 'visitors']]\n",
    "visitorsBDaily.columns = ['date', 'visitorsPerDateB']\n",
    "\n",
    "visitorsBCummulative = visitorsBDaily.apply(\n",
    "    lambda x: visitorsBDaily[visitorsBDaily['date'] <= x['date']].agg(\n",
    "        {'date': 'max', 'visitorsPerDateB': 'sum'}\n",
    "    ),\n",
    "    axis=1,\n",
    ")\n",
    "visitorsBCummulative.columns = ['date', 'visitorsCummulativeB']\n",
    "\n",
    "ordersADaily = (\n",
    "    orders[orders['group'] == 'A'][['date', 'transactionId', 'visitorId', 'revenue']]\n",
    "    .groupby('date', as_index=False)\n",
    "    .agg({'visitorId': pd.Series.nunique, 'revenue': 'sum'})\n",
    ")\n",
    "ordersADaily.columns = ['date', 'ordersPerDateA', 'revenuePerDateA']\n",
    "\n",
    "ordersACummulative = ordersADaily.apply(\n",
    "    lambda x: ordersADaily[ordersADaily['date'] <= x['date']].agg(\n",
    "        {'date': 'max', 'ordersPerDateA': 'sum', 'revenuePerDateA': 'sum'}\n",
    "    ),\n",
    "    axis=1,\n",
    ").sort_values(by=['date'])\n",
    "ordersACummulative.columns = [\n",
    "    'date',\n",
    "    'ordersCummulativeA',\n",
    "    'revenueCummulativeA',\n",
    "]\n",
    "\n",
    "ordersBDaily = (\n",
    "    orders[orders['group'] == 'B'][['date', 'transactionId', 'visitorId', 'revenue']]\n",
    "    .groupby('date', as_index=False)\n",
    "    .agg({'visitorId': pd.Series.nunique, 'revenue': 'sum'})\n",
    ")\n",
    "ordersBDaily.columns = ['date', 'ordersPerDateB', 'revenuePerDateB']\n",
    "\n",
    "ordersBCummulative = ordersBDaily.apply(\n",
    "    lambda x: ordersBDaily[ordersBDaily['date'] <= x['date']].agg(\n",
    "        {'date': 'max', 'ordersPerDateB': 'sum', 'revenuePerDateB': 'sum'}\n",
    "    ),\n",
    "    axis=1,\n",
    ").sort_values(by=['date'])\n",
    "ordersBCummulative.columns = [\n",
    "    'date',\n",
    "    'ordersCummulativeB',\n",
    "    'revenueCummulativeB',\n",
    "]\n",
    "\n",
    "data = (\n",
    "    ordersADaily.merge(\n",
    "        ordersBDaily, left_on='date', right_on='date', how='left'\n",
    "    )\n",
    "    .merge(ordersACummulative, left_on='date', right_on='date', how='left')\n",
    "    .merge(ordersBCummulative, left_on='date', right_on='date', how='left')\n",
    "    .merge(visitorsADaily, left_on='date', right_on='date', how='left')\n",
    "    .merge(visitorsBDaily, left_on='date', right_on='date', how='left')\n",
    "    .merge(visitorsACummulative, left_on='date', right_on='date', how='left')\n",
    "    .merge(visitorsBCummulative, left_on='date', right_on='date', how='left')\n",
    ")\n",
    "\n",
    "ordersByUsersA =(orders[orders['group']== 'A'].groupby('visitorId', as_index = False).agg({'transactionId':pd.Series.nunique}))\n",
    "\n",
    "ordersByUsersA.columns = ['visitorId','orders']\n",
    "\n",
    "ordersByUsersB =(orders[orders['group']== 'B'].groupby('visitorId', as_index = False).agg({'transactionId':pd.Series.nunique}))\n",
    "\n",
    "ordersByUsersB.columns = ['visitorId','orders']\n",
    "\n",
    "sampleA = pd.concat([ordersByUsersA['orders'],pd.Series(0, index=np.arange(data['visitorsPerDateA'].sum() - len(ordersByUsersA['orders'])), name='orders')],axis=0)\n",
    "\n",
    "sampleB = pd.concat([ordersByUsersB['orders'],pd.Series(0, index=np.arange(data['visitorsPerDateB'].sum() - len(ordersByUsersB['orders'])), name='orders')],axis=0) \n",
    "ordersByUsersA = (\n",
    "    orders[orders['group'] == 'A']\n",
    "    .groupby('visitorId', as_index=False)\n",
    "    .agg({'transactionId': pd.Series.nunique})\n",
    ")\n",
    "ordersByUsersA.columns = ['visitorId', 'orders']\n",
    "\n",
    "ordersByUsersB = (\n",
    "    orders[orders['group'] == 'B']\n",
    "    .groupby('visitorId', as_index=False)\n",
    "    .agg({'transactionId': pd.Series.nunique})\n",
    ")\n",
    "ordersByUsersB.columns = ['visitorId', 'orders']\n",
    "\n",
    "sampleA = pd.concat(\n",
    "    [\n",
    "        ordersByUsersA['orders'],\n",
    "        pd.Series(\n",
    "            0,\n",
    "            index=np.arange(\n",
    "                data['visitorsPerDateA'].sum() - len(ordersByUsersA['orders'])\n",
    "            ),\n",
    "            name='orders',\n",
    "        ),\n",
    "    ],\n",
    "    axis=0,\n",
    ")\n",
    "\n",
    "sampleB = pd.concat(\n",
    "    [\n",
    "        ordersByUsersB['orders'],\n",
    "        pd.Series(\n",
    "            0,\n",
    "            index=np.arange(\n",
    "                data['visitorsPerDateB'].sum() - len(ordersByUsersB['orders'])\n",
    "            ),\n",
    "            name='orders',\n",
    "        ),\n",
    "    ],\n",
    "    axis=0,\n",
    ")\n",
    "\n",
    "print(\"{0:.3f}\".format(stats.mannwhitneyu(sampleA, sampleB)[1]))\n",
    "\n",
    "print(\"{0:.3f}\".format(sampleB.mean() / sampleA.mean() - 1))"
   ]
  },
  {
   "cell_type": "markdown",
   "metadata": {},
   "source": [
    "Гипотезы:\n",
    "\n",
    "H0: Нет различий между группами \n",
    "\n",
    "H1: Есть различия между группами"
   ]
  },
  {
   "cell_type": "code",
   "execution_count": 33,
   "metadata": {},
   "outputs": [
    {
     "name": "stdout",
     "output_type": "stream",
     "text": [
      "Отвергаем нулевую гипотезу\n"
     ]
    }
   ],
   "source": [
    "alpha = 0.05\n",
    "if (stats.mannwhitneyu(sampleA, sampleB)[1] < alpha):\n",
    "    print(\"Отвергаем нулевую гипотезу\")\n",
    "else:\n",
    "    print(\"Не получилось отвергнуть нулевую гипотезу\")"
   ]
  },
  {
   "cell_type": "markdown",
   "metadata": {},
   "source": [
    "*Согласно сделанным расчетам делаем вывод, что конверсия групп А и В статистически значима. P-value меньше 0.05. Относилтельный прирост конверсии группы В к конверсии группы А равен 13,8%*"
   ]
  },
  {
   "cell_type": "markdown",
   "metadata": {},
   "source": [
    "**11. Посчитаем статистическую значимость различий в среднем чеке заказа между группами по «сырым» данным**"
   ]
  },
  {
   "cell_type": "code",
   "execution_count": 34,
   "metadata": {},
   "outputs": [
    {
     "name": "stdout",
     "output_type": "stream",
     "text": [
      "0.829\n",
      "0.287\n"
     ]
    }
   ],
   "source": [
    "print('{0:.3f}'.format(stats.mannwhitneyu(orders[orders['group']=='A']['revenue'], orders[orders['group']=='B']['revenue'])[1]))\n",
    "print('{0:.3f}'.format(orders[orders['group']=='B']['revenue'].mean()/orders[orders['group']=='A']['revenue'].mean()-1)) "
   ]
  },
  {
   "cell_type": "code",
   "execution_count": 35,
   "metadata": {},
   "outputs": [
    {
     "name": "stdout",
     "output_type": "stream",
     "text": [
      "Не получилось отвергнуть нулевую гипотезу\n"
     ]
    }
   ],
   "source": [
    "if (stats.mannwhitneyu(orders[orders['group']=='A']['revenue'], orders[orders['group']=='B']['revenue'])[1] < alpha):\n",
    "    print(\"Отвергаем нулевую гипотезу\")\n",
    "else:\n",
    "    print(\"Не получилось отвергнуть нулевую гипотезу\")"
   ]
  },
  {
   "cell_type": "markdown",
   "metadata": {},
   "source": [
    "*Проверили аномальный заказ, который дает такую высокую разницу в среднем чеке*"
   ]
  },
  {
   "cell_type": "markdown",
   "metadata": {},
   "source": [
    "*P-value больше 0.05, значит статистически значимых различий нет. Относительное различие среднего чека между сегментами 26%, которое не является статистически значимым*"
   ]
  },
  {
   "cell_type": "code",
   "execution_count": 36,
   "metadata": {},
   "outputs": [
    {
     "name": "stdout",
     "output_type": "stream",
     "text": [
      "1294500\n"
     ]
    }
   ],
   "source": [
    "print(orders[orders['group'] == 'B']['revenue'].max())"
   ]
  },
  {
   "cell_type": "markdown",
   "metadata": {},
   "source": [
    "*Проверили аномальный заказ, который дает такую высокуб разницу в среднем чеке*"
   ]
  },
  {
   "cell_type": "markdown",
   "metadata": {},
   "source": [
    "**12. Посчитаем статистическую значимость различий в конверсии между группами по «очищенным» данным.**"
   ]
  },
  {
   "cell_type": "code",
   "execution_count": 37,
   "metadata": {},
   "outputs": [],
   "source": [
    "usersWithManyOrders = pd.concat(\n",
    "    [\n",
    "        ordersByUsersA[ordersByUsersA['orders'] > 1]['visitorId'],\n",
    "        ordersByUsersB[ordersByUsersB['orders'] > 1]['visitorId'],\n",
    "    ],\n",
    "    axis=0,\n",
    ")\n",
    "\n",
    "revenue_lim = 26785\n",
    "usersWithExpensiveOrders = orders[orders['revenue'] > revenue_lim]['visitorId']"
   ]
  },
  {
   "cell_type": "code",
   "execution_count": 38,
   "metadata": {},
   "outputs": [],
   "source": [
    "abnormalUsers = (\n",
    "    pd.concat([usersWithManyOrders, usersWithExpensiveOrders], axis=0)\n",
    "    .drop_duplicates()\n",
    "    .sort_values(ascending = True)\n",
    ")"
   ]
  },
  {
   "cell_type": "code",
   "execution_count": 39,
   "metadata": {},
   "outputs": [],
   "source": [
    "sampleAFiltered = pd.concat(\n",
    "    [\n",
    "        ordersByUsersA[\n",
    "            np.logical_not(ordersByUsersA['visitorId'].isin(abnormalUsers))\n",
    "        ]['orders'],\n",
    "        pd.Series(\n",
    "            0,\n",
    "            index=np.arange(\n",
    "                data['visitorsPerDateA'].sum() - len(ordersByUsersA['orders'])\n",
    "            ),\n",
    "            name='orders',\n",
    "        ),\n",
    "    ],\n",
    "    axis=0,\n",
    ")\n",
    "\n",
    "sampleBFiltered = pd.concat(\n",
    "    [\n",
    "        ordersByUsersB[\n",
    "            np.logical_not(ordersByUsersB['visitorId'].isin(abnormalUsers))\n",
    "        ]['orders'],\n",
    "        pd.Series(\n",
    "            0,\n",
    "            index=np.arange(\n",
    "                data['visitorsPerDateB'].sum() - len(ordersByUsersB['orders'])\n",
    "            ),\n",
    "            name='orders',\n",
    "        ),\n",
    "    ],\n",
    "    axis=0,\n",
    ") "
   ]
  },
  {
   "cell_type": "code",
   "execution_count": 40,
   "metadata": {},
   "outputs": [
    {
     "name": "stdout",
     "output_type": "stream",
     "text": [
      "86\n",
      "0.016\n",
      "0.174\n"
     ]
    }
   ],
   "source": [
    "print(len(abnormalUsers))\n",
    "print('{0:.3f}'.format(stats.mannwhitneyu(sampleAFiltered, sampleBFiltered)[1]))\n",
    "print('{0:.3f}'.format(sampleBFiltered.mean()/sampleAFiltered.mean()-1)) "
   ]
  },
  {
   "cell_type": "code",
   "execution_count": 41,
   "metadata": {},
   "outputs": [
    {
     "name": "stdout",
     "output_type": "stream",
     "text": [
      "Отвергаем нулевую гипотезу\n"
     ]
    }
   ],
   "source": [
    "if (stats.mannwhitneyu(sampleAFiltered, sampleBFiltered)[1] < alpha):\n",
    "    print(\"Отвергаем нулевую гипотезу\")\n",
    "else:\n",
    "    print(\"Не получилось отвергнуть нулевую гипотезу\")"
   ]
  },
  {
   "cell_type": "markdown",
   "metadata": {},
   "source": [
    "*Количество аномальных пользователей - 74. Разница статистически значима. P-value меньше 0.05. Относительный прирост конверсии группы В к группе А составляет 17,3%*"
   ]
  },
  {
   "cell_type": "markdown",
   "metadata": {},
   "source": [
    "**13. Посчитаем статистическую значимость различий в среднем чеке заказа между группами по «очищенным» данным.**"
   ]
  },
  {
   "cell_type": "code",
   "execution_count": 42,
   "metadata": {},
   "outputs": [
    {
     "name": "stdout",
     "output_type": "stream",
     "text": [
      "0.727\n",
      "-0.034\n"
     ]
    }
   ],
   "source": [
    "print('{0:.3f}'.format(stats.mannwhitneyu(orders[np.logical_and(orders['group'] == 'A',np.logical_not(orders['visitorId'].isin(abnormalUsers)),)]['revenue'],orders[np.logical_and(orders['group'] == 'B',np.logical_not(orders['visitorId'].isin(abnormalUsers)),)]['revenue'],)[1]))\n",
    "print(\"{0:.3f}\".format(orders[np.logical_and(orders['group'] == 'B',np.logical_not(orders['visitorId'].isin(abnormalUsers)),)]['revenue'].mean()/ orders[np.logical_and(orders['group'] == 'A',np.logical_not(orders['visitorId'].isin(abnormalUsers)),)]['revenue'].mean()- 1)) "
   ]
  },
  {
   "cell_type": "code",
   "execution_count": 43,
   "metadata": {},
   "outputs": [
    {
     "name": "stdout",
     "output_type": "stream",
     "text": [
      "Не получилось отвергнуть нулевую гипотезу\n"
     ]
    }
   ],
   "source": [
    "if (stats.mannwhitneyu(orders[np.logical_and(orders['group'] == 'A',np.logical_not(orders['visitorId'].isin(abnormalUsers)),)]['revenue'],orders[np.logical_and(orders['group'] == 'B',np.logical_not(orders['visitorId'].isin(abnormalUsers)),)]['revenue'],)[1] < alpha):\n",
    "    print(\"Отвергаем нулевую гипотезу\")\n",
    "else:\n",
    "    print(\"Не получилось отвергнуть нулевую гипотезу\")"
   ]
  },
  {
   "cell_type": "markdown",
   "metadata": {},
   "source": [
    "*Разница в среднем чеке между группами составляет всего 2% P-value больше 0.05, значит различий между группами нет в среднем чеке. *"
   ]
  },
  {
   "cell_type": "markdown",
   "metadata": {},
   "source": [
    "**14. Примим решение по результатам теста.**"
   ]
  },
  {
   "cell_type": "markdown",
   "metadata": {},
   "source": [
    "**Решение:**"
   ]
  },
  {
   "cell_type": "markdown",
   "metadata": {},
   "source": [
    "*Остановить тест, зафиксировать победу группы В.*"
   ]
  },
  {
   "cell_type": "markdown",
   "metadata": {},
   "source": [
    "*1. Разница в пользу группы В по \"сырым\" данным составляет 13,8%*"
   ]
  },
  {
   "cell_type": "markdown",
   "metadata": {},
   "source": [
    "*2. Разница в пользу группы В по \"очищенным\" данным составляет 17,4%*"
   ]
  },
  {
   "cell_type": "markdown",
   "metadata": {},
   "source": [
    "*3.  Разница в коверсии по 2м группам в \"очищенных\" и \"сырых\" данных есть.*"
   ]
  },
  {
   "cell_type": "markdown",
   "metadata": {},
   "source": [
    "*4. По данным среднего чего, различий между группами нет. При этом средний чек группы В в \"очищенных\" данных меньше на 2%, а в \"сырых\" данных выше на 26%. Такая разница связана c аномальным заказом на 1 294 500 р.* "
   ]
  },
  {
   "cell_type": "markdown",
   "metadata": {},
   "source": [
    "*Итого, согласно проведенному А/В - тесту видим более высокие показания в данных по группе В*"
   ]
  }
 ],
 "metadata": {
  "ExecuteTimeLog": [
   {
    "duration": 51,
    "start_time": "2022-05-08T12:16:30.958Z"
   },
   {
    "duration": 1307,
    "start_time": "2022-05-08T12:16:36.357Z"
   },
   {
    "duration": 36,
    "start_time": "2022-05-08T12:16:37.667Z"
   },
   {
    "duration": 9,
    "start_time": "2022-05-08T12:16:56.650Z"
   },
   {
    "duration": 11,
    "start_time": "2022-05-08T12:17:03.997Z"
   },
   {
    "duration": 11,
    "start_time": "2022-05-08T12:17:23.689Z"
   },
   {
    "duration": 10,
    "start_time": "2022-05-08T12:17:31.210Z"
   },
   {
    "duration": 6,
    "start_time": "2022-05-08T12:19:13.789Z"
   },
   {
    "duration": 17,
    "start_time": "2022-05-08T12:19:29.491Z"
   },
   {
    "duration": 3,
    "start_time": "2022-05-08T12:27:11.008Z"
   },
   {
    "duration": 36,
    "start_time": "2022-05-08T12:27:11.720Z"
   },
   {
    "duration": 20,
    "start_time": "2022-05-08T12:27:12.069Z"
   },
   {
    "duration": 16,
    "start_time": "2022-05-08T12:27:12.501Z"
   },
   {
    "duration": 16,
    "start_time": "2022-05-08T12:27:12.781Z"
   },
   {
    "duration": 9,
    "start_time": "2022-05-08T12:27:13.672Z"
   },
   {
    "duration": 25,
    "start_time": "2022-05-08T12:27:14.948Z"
   },
   {
    "duration": 6,
    "start_time": "2022-05-08T12:27:21.096Z"
   },
   {
    "duration": 7,
    "start_time": "2022-05-08T12:27:49.848Z"
   },
   {
    "duration": 7,
    "start_time": "2022-05-08T12:28:31.669Z"
   },
   {
    "duration": 90,
    "start_time": "2022-05-08T12:33:41.948Z"
   },
   {
    "duration": 4,
    "start_time": "2022-05-08T12:34:22.884Z"
   },
   {
    "duration": 67,
    "start_time": "2022-05-08T12:34:30.904Z"
   },
   {
    "duration": 7,
    "start_time": "2022-05-08T12:34:35.576Z"
   },
   {
    "duration": 301,
    "start_time": "2022-05-08T12:42:16.309Z"
   },
   {
    "duration": 193,
    "start_time": "2022-05-08T12:44:12.318Z"
   },
   {
    "duration": 309,
    "start_time": "2022-05-08T12:44:21.965Z"
   },
   {
    "duration": 314,
    "start_time": "2022-05-08T12:44:44.649Z"
   },
   {
    "duration": 18,
    "start_time": "2022-05-08T12:45:16.369Z"
   },
   {
    "duration": 256,
    "start_time": "2022-05-08T12:45:28.885Z"
   },
   {
    "duration": 142,
    "start_time": "2022-05-08T12:45:37.989Z"
   },
   {
    "duration": 246,
    "start_time": "2022-05-08T12:45:46.230Z"
   },
   {
    "duration": 183,
    "start_time": "2022-05-08T12:45:55.409Z"
   },
   {
    "duration": 15,
    "start_time": "2022-05-08T12:46:04.789Z"
   },
   {
    "duration": 13,
    "start_time": "2022-05-08T12:46:08.281Z"
   },
   {
    "duration": 304,
    "start_time": "2022-05-08T12:46:20.490Z"
   },
   {
    "duration": 6,
    "start_time": "2022-05-08T13:11:28.770Z"
   },
   {
    "duration": 169,
    "start_time": "2022-05-08T13:12:27.951Z"
   },
   {
    "duration": 162,
    "start_time": "2022-05-08T13:12:42.751Z"
   },
   {
    "duration": 168,
    "start_time": "2022-05-08T13:13:03.890Z"
   },
   {
    "duration": 21,
    "start_time": "2022-05-08T13:14:19.351Z"
   },
   {
    "duration": 80,
    "start_time": "2022-05-08T13:15:09.212Z"
   },
   {
    "duration": 180,
    "start_time": "2022-05-08T13:15:18.311Z"
   },
   {
    "duration": 167,
    "start_time": "2022-05-08T13:15:36.539Z"
   },
   {
    "duration": 804,
    "start_time": "2022-05-08T13:15:43.553Z"
   },
   {
    "duration": 35,
    "start_time": "2022-05-08T13:15:44.359Z"
   },
   {
    "duration": 13,
    "start_time": "2022-05-08T13:15:44.395Z"
   },
   {
    "duration": 11,
    "start_time": "2022-05-08T13:15:44.410Z"
   },
   {
    "duration": 11,
    "start_time": "2022-05-08T13:15:44.424Z"
   },
   {
    "duration": 12,
    "start_time": "2022-05-08T13:15:44.437Z"
   },
   {
    "duration": 19,
    "start_time": "2022-05-08T13:15:44.451Z"
   },
   {
    "duration": 39,
    "start_time": "2022-05-08T13:15:44.472Z"
   },
   {
    "duration": 8,
    "start_time": "2022-05-08T13:15:44.513Z"
   },
   {
    "duration": 5,
    "start_time": "2022-05-08T13:15:44.523Z"
   },
   {
    "duration": 12,
    "start_time": "2022-05-08T13:15:44.530Z"
   },
   {
    "duration": 619,
    "start_time": "2022-05-08T13:15:44.545Z"
   },
   {
    "duration": 6,
    "start_time": "2022-05-08T13:15:45.166Z"
   },
   {
    "duration": 174,
    "start_time": "2022-05-08T13:15:45.175Z"
   },
   {
    "duration": 178,
    "start_time": "2022-05-08T13:16:11.831Z"
   },
   {
    "duration": 172,
    "start_time": "2022-05-08T13:16:26.731Z"
   },
   {
    "duration": 167,
    "start_time": "2022-05-08T13:16:36.532Z"
   },
   {
    "duration": 128,
    "start_time": "2022-05-08T13:18:03.312Z"
   },
   {
    "duration": 7,
    "start_time": "2022-05-08T13:21:02.683Z"
   },
   {
    "duration": 13,
    "start_time": "2022-05-08T13:21:23.592Z"
   },
   {
    "duration": 98,
    "start_time": "2022-05-08T13:22:27.452Z"
   },
   {
    "duration": 9,
    "start_time": "2022-05-08T13:22:44.212Z"
   },
   {
    "duration": 9,
    "start_time": "2022-05-08T13:22:56.397Z"
   },
   {
    "duration": 12,
    "start_time": "2022-05-08T13:23:03.870Z"
   },
   {
    "duration": 3,
    "start_time": "2022-05-08T13:23:27.692Z"
   },
   {
    "duration": 243,
    "start_time": "2022-05-08T13:23:31.793Z"
   },
   {
    "duration": 166,
    "start_time": "2022-05-08T13:23:46.635Z"
   },
   {
    "duration": 206,
    "start_time": "2022-05-08T13:24:36.693Z"
   },
   {
    "duration": 179,
    "start_time": "2022-05-08T13:32:14.072Z"
   },
   {
    "duration": 196,
    "start_time": "2022-05-08T13:32:47.392Z"
   },
   {
    "duration": 225,
    "start_time": "2022-05-08T13:33:28.213Z"
   },
   {
    "duration": 203,
    "start_time": "2022-05-08T13:33:34.512Z"
   },
   {
    "duration": 270,
    "start_time": "2022-05-08T13:33:44.780Z"
   },
   {
    "duration": 37,
    "start_time": "2022-05-08T13:35:24.874Z"
   },
   {
    "duration": 30,
    "start_time": "2022-05-08T13:36:11.833Z"
   },
   {
    "duration": 476,
    "start_time": "2022-05-08T13:39:21.414Z"
   },
   {
    "duration": 461,
    "start_time": "2022-05-08T13:39:37.254Z"
   },
   {
    "duration": 597,
    "start_time": "2022-05-08T13:39:47.893Z"
   },
   {
    "duration": 484,
    "start_time": "2022-05-08T13:39:55.053Z"
   },
   {
    "duration": 485,
    "start_time": "2022-05-08T13:40:03.973Z"
   },
   {
    "duration": 176,
    "start_time": "2022-05-08T13:41:52.882Z"
   },
   {
    "duration": 123,
    "start_time": "2022-05-08T13:42:26.772Z"
   },
   {
    "duration": 11,
    "start_time": "2022-05-08T13:43:57.317Z"
   },
   {
    "duration": 7,
    "start_time": "2022-05-08T13:44:37.438Z"
   },
   {
    "duration": 7,
    "start_time": "2022-05-08T13:44:53.778Z"
   },
   {
    "duration": 160,
    "start_time": "2022-05-08T13:44:54.127Z"
   },
   {
    "duration": 125,
    "start_time": "2022-05-08T13:44:54.542Z"
   },
   {
    "duration": 8,
    "start_time": "2022-05-08T13:44:55.138Z"
   },
   {
    "duration": 7,
    "start_time": "2022-05-08T13:44:55.710Z"
   },
   {
    "duration": 203,
    "start_time": "2022-05-08T13:44:56.390Z"
   },
   {
    "duration": 230,
    "start_time": "2022-05-08T13:53:17.792Z"
   },
   {
    "duration": 52,
    "start_time": "2022-05-10T12:17:20.724Z"
   },
   {
    "duration": 1313,
    "start_time": "2022-05-10T12:17:28.713Z"
   },
   {
    "duration": 143,
    "start_time": "2022-05-10T12:17:30.029Z"
   },
   {
    "duration": 21,
    "start_time": "2022-05-10T12:17:30.174Z"
   },
   {
    "duration": 34,
    "start_time": "2022-05-10T12:17:30.198Z"
   },
   {
    "duration": 19,
    "start_time": "2022-05-10T12:17:30.234Z"
   },
   {
    "duration": 21,
    "start_time": "2022-05-10T12:17:30.256Z"
   },
   {
    "duration": 51,
    "start_time": "2022-05-10T12:17:30.279Z"
   },
   {
    "duration": 8,
    "start_time": "2022-05-10T12:17:30.332Z"
   },
   {
    "duration": 24,
    "start_time": "2022-05-10T12:17:30.342Z"
   },
   {
    "duration": 6,
    "start_time": "2022-05-10T12:17:30.370Z"
   },
   {
    "duration": 25,
    "start_time": "2022-05-10T12:17:30.378Z"
   },
   {
    "duration": 382,
    "start_time": "2022-05-10T12:17:30.405Z"
   },
   {
    "duration": 7,
    "start_time": "2022-05-10T12:17:30.789Z"
   },
   {
    "duration": 222,
    "start_time": "2022-05-10T12:17:30.798Z"
   },
   {
    "duration": 150,
    "start_time": "2022-05-10T12:17:31.022Z"
   },
   {
    "duration": 7,
    "start_time": "2022-05-10T12:17:31.174Z"
   },
   {
    "duration": 44,
    "start_time": "2022-05-10T12:17:31.183Z"
   },
   {
    "duration": 418,
    "start_time": "2022-05-10T12:17:31.230Z"
   },
   {
    "duration": 204,
    "start_time": "2022-05-10T12:17:31.654Z"
   },
   {
    "duration": 445,
    "start_time": "2022-05-10T12:17:31.860Z"
   },
   {
    "duration": 331,
    "start_time": "2022-05-10T12:17:45.057Z"
   },
   {
    "duration": 106,
    "start_time": "2022-05-10T12:20:26.401Z"
   },
   {
    "duration": 200,
    "start_time": "2022-05-10T12:21:33.812Z"
   },
   {
    "duration": 193,
    "start_time": "2022-05-10T12:22:08.618Z"
   },
   {
    "duration": 163,
    "start_time": "2022-05-10T12:25:58.608Z"
   },
   {
    "duration": 373,
    "start_time": "2022-05-10T12:26:33.300Z"
   },
   {
    "duration": 294,
    "start_time": "2022-05-10T12:26:49.160Z"
   },
   {
    "duration": 303,
    "start_time": "2022-05-10T12:27:33.420Z"
   },
   {
    "duration": 323,
    "start_time": "2022-05-10T12:29:30.042Z"
   },
   {
    "duration": 10,
    "start_time": "2022-05-10T12:35:43.305Z"
   },
   {
    "duration": 8,
    "start_time": "2022-05-10T12:35:54.063Z"
   },
   {
    "duration": 103,
    "start_time": "2022-05-10T12:36:05.617Z"
   },
   {
    "duration": 118,
    "start_time": "2022-05-10T12:36:58.716Z"
   },
   {
    "duration": 5,
    "start_time": "2022-05-10T12:39:20.247Z"
   },
   {
    "duration": 9,
    "start_time": "2022-05-10T12:42:57.787Z"
   },
   {
    "duration": 132,
    "start_time": "2022-05-10T12:43:20.227Z"
   },
   {
    "duration": 140,
    "start_time": "2022-05-10T12:43:57.602Z"
   },
   {
    "duration": 122,
    "start_time": "2022-05-10T12:44:35.578Z"
   },
   {
    "duration": 9,
    "start_time": "2022-05-10T12:55:57.495Z"
   },
   {
    "duration": 4,
    "start_time": "2022-05-10T12:56:17.769Z"
   },
   {
    "duration": 2275,
    "start_time": "2022-05-10T13:03:19.012Z"
   },
   {
    "duration": 156,
    "start_time": "2022-05-10T13:03:35.828Z"
   },
   {
    "duration": 142,
    "start_time": "2022-05-10T13:04:30.241Z"
   },
   {
    "duration": 167,
    "start_time": "2022-05-10T13:07:08.653Z"
   },
   {
    "duration": 144,
    "start_time": "2022-05-10T13:08:00.212Z"
   },
   {
    "duration": 148,
    "start_time": "2022-05-10T13:08:07.841Z"
   },
   {
    "duration": 149,
    "start_time": "2022-05-10T13:08:19.685Z"
   },
   {
    "duration": 159,
    "start_time": "2022-05-10T13:08:32.353Z"
   },
   {
    "duration": 135,
    "start_time": "2022-05-10T13:08:43.412Z"
   },
   {
    "duration": 138,
    "start_time": "2022-05-10T13:08:54.267Z"
   },
   {
    "duration": 150,
    "start_time": "2022-05-10T13:10:07.328Z"
   },
   {
    "duration": 144,
    "start_time": "2022-05-10T13:10:13.940Z"
   },
   {
    "duration": 144,
    "start_time": "2022-05-10T13:10:19.027Z"
   },
   {
    "duration": 505,
    "start_time": "2022-05-10T13:20:21.928Z"
   },
   {
    "duration": 490,
    "start_time": "2022-05-10T13:21:48.937Z"
   },
   {
    "duration": 11,
    "start_time": "2022-05-10T13:41:01.488Z"
   },
   {
    "duration": 2215,
    "start_time": "2022-05-10T13:54:29.024Z"
   },
   {
    "duration": 32,
    "start_time": "2022-05-10T13:55:10.935Z"
   },
   {
    "duration": 32,
    "start_time": "2022-05-10T13:55:17.183Z"
   },
   {
    "duration": 33,
    "start_time": "2022-05-10T13:57:01.779Z"
   },
   {
    "duration": 132,
    "start_time": "2022-05-10T13:57:27.085Z"
   },
   {
    "duration": 32,
    "start_time": "2022-05-10T13:57:30.833Z"
   },
   {
    "duration": 2325,
    "start_time": "2022-05-10T14:07:44.405Z"
   },
   {
    "duration": 14,
    "start_time": "2022-05-10T14:08:28.999Z"
   },
   {
    "duration": 2316,
    "start_time": "2022-05-10T14:30:53.569Z"
   },
   {
    "duration": 4,
    "start_time": "2022-05-10T14:31:17.887Z"
   },
   {
    "duration": 7,
    "start_time": "2022-05-10T14:32:03.969Z"
   },
   {
    "duration": 5,
    "start_time": "2022-05-10T14:33:35.894Z"
   },
   {
    "duration": 5,
    "start_time": "2022-05-10T14:34:16.516Z"
   },
   {
    "duration": 2004,
    "start_time": "2022-05-11T18:30:15.493Z"
   },
   {
    "duration": 171,
    "start_time": "2022-05-11T18:30:17.501Z"
   },
   {
    "duration": 18,
    "start_time": "2022-05-11T18:30:17.674Z"
   },
   {
    "duration": 20,
    "start_time": "2022-05-11T18:30:17.694Z"
   },
   {
    "duration": 34,
    "start_time": "2022-05-11T18:30:17.717Z"
   },
   {
    "duration": 9,
    "start_time": "2022-05-11T18:30:17.754Z"
   },
   {
    "duration": 31,
    "start_time": "2022-05-11T18:30:17.765Z"
   },
   {
    "duration": 12,
    "start_time": "2022-05-11T18:30:17.799Z"
   },
   {
    "duration": 23,
    "start_time": "2022-05-11T18:30:17.814Z"
   },
   {
    "duration": 7,
    "start_time": "2022-05-11T18:30:17.840Z"
   },
   {
    "duration": 17,
    "start_time": "2022-05-11T18:30:17.849Z"
   },
   {
    "duration": 755,
    "start_time": "2022-05-11T18:30:17.868Z"
   },
   {
    "duration": 11,
    "start_time": "2022-05-11T18:30:18.625Z"
   },
   {
    "duration": 452,
    "start_time": "2022-05-11T18:30:18.642Z"
   },
   {
    "duration": 340,
    "start_time": "2022-05-11T18:30:19.097Z"
   },
   {
    "duration": 11,
    "start_time": "2022-05-11T18:30:19.441Z"
   },
   {
    "duration": 13,
    "start_time": "2022-05-11T18:30:19.454Z"
   },
   {
    "duration": 465,
    "start_time": "2022-05-11T18:30:19.469Z"
   },
   {
    "duration": 335,
    "start_time": "2022-05-11T18:30:19.937Z"
   },
   {
    "duration": 461,
    "start_time": "2022-05-11T18:30:20.275Z"
   },
   {
    "duration": 356,
    "start_time": "2022-05-11T18:30:20.738Z"
   },
   {
    "duration": 469,
    "start_time": "2022-05-11T18:30:21.097Z"
   },
   {
    "duration": 10,
    "start_time": "2022-05-11T18:30:21.568Z"
   },
   {
    "duration": 246,
    "start_time": "2022-05-11T18:30:21.581Z"
   },
   {
    "duration": 7,
    "start_time": "2022-05-11T18:30:21.829Z"
   },
   {
    "duration": 264,
    "start_time": "2022-05-11T18:30:21.839Z"
   },
   {
    "duration": 18,
    "start_time": "2022-05-11T18:30:22.106Z"
   },
   {
    "duration": 898,
    "start_time": "2022-05-11T18:30:22.127Z"
   },
   {
    "duration": 14,
    "start_time": "2022-05-11T18:30:23.028Z"
   },
   {
    "duration": 6,
    "start_time": "2022-05-11T18:30:23.045Z"
   },
   {
    "duration": 84,
    "start_time": "2022-05-11T18:30:23.054Z"
   },
   {
    "duration": 22,
    "start_time": "2022-05-11T18:30:23.140Z"
   },
   {
    "duration": 126,
    "start_time": "2022-05-11T18:37:17.243Z"
   },
   {
    "duration": 71,
    "start_time": "2022-05-15T09:12:18.055Z"
   },
   {
    "duration": 1707,
    "start_time": "2022-05-15T09:12:25.343Z"
   },
   {
    "duration": 124,
    "start_time": "2022-05-15T09:12:27.053Z"
   },
   {
    "duration": 18,
    "start_time": "2022-05-15T09:12:27.180Z"
   },
   {
    "duration": 24,
    "start_time": "2022-05-15T09:12:27.201Z"
   },
   {
    "duration": 20,
    "start_time": "2022-05-15T09:12:27.227Z"
   },
   {
    "duration": 40,
    "start_time": "2022-05-15T09:12:27.250Z"
   },
   {
    "duration": 34,
    "start_time": "2022-05-15T09:12:27.292Z"
   },
   {
    "duration": 9,
    "start_time": "2022-05-15T09:12:27.329Z"
   },
   {
    "duration": 16,
    "start_time": "2022-05-15T09:12:27.341Z"
   },
   {
    "duration": 10,
    "start_time": "2022-05-15T09:12:27.361Z"
   },
   {
    "duration": 185,
    "start_time": "2022-05-15T09:12:27.373Z"
   },
   {
    "duration": 0,
    "start_time": "2022-05-15T09:12:27.560Z"
   },
   {
    "duration": 0,
    "start_time": "2022-05-15T09:12:27.562Z"
   },
   {
    "duration": 0,
    "start_time": "2022-05-15T09:12:27.563Z"
   },
   {
    "duration": 0,
    "start_time": "2022-05-15T09:12:27.565Z"
   },
   {
    "duration": 0,
    "start_time": "2022-05-15T09:12:27.567Z"
   },
   {
    "duration": 0,
    "start_time": "2022-05-15T09:12:27.568Z"
   },
   {
    "duration": 0,
    "start_time": "2022-05-15T09:12:27.570Z"
   },
   {
    "duration": 0,
    "start_time": "2022-05-15T09:12:27.572Z"
   },
   {
    "duration": 1,
    "start_time": "2022-05-15T09:12:27.573Z"
   },
   {
    "duration": 0,
    "start_time": "2022-05-15T09:12:27.575Z"
   },
   {
    "duration": 0,
    "start_time": "2022-05-15T09:12:27.577Z"
   },
   {
    "duration": 0,
    "start_time": "2022-05-15T09:12:27.578Z"
   },
   {
    "duration": 0,
    "start_time": "2022-05-15T09:12:27.580Z"
   },
   {
    "duration": 0,
    "start_time": "2022-05-15T09:12:27.581Z"
   },
   {
    "duration": 0,
    "start_time": "2022-05-15T09:12:27.583Z"
   },
   {
    "duration": 0,
    "start_time": "2022-05-15T09:12:27.585Z"
   },
   {
    "duration": 0,
    "start_time": "2022-05-15T09:12:27.625Z"
   },
   {
    "duration": 0,
    "start_time": "2022-05-15T09:12:27.627Z"
   },
   {
    "duration": 0,
    "start_time": "2022-05-15T09:12:27.629Z"
   },
   {
    "duration": 1,
    "start_time": "2022-05-15T09:12:27.630Z"
   },
   {
    "duration": 0,
    "start_time": "2022-05-15T09:12:27.632Z"
   },
   {
    "duration": 10,
    "start_time": "2022-05-15T09:13:05.622Z"
   },
   {
    "duration": 10,
    "start_time": "2022-05-15T09:18:08.132Z"
   },
   {
    "duration": 13,
    "start_time": "2022-05-15T09:18:29.822Z"
   },
   {
    "duration": 19,
    "start_time": "2022-05-15T09:18:38.342Z"
   },
   {
    "duration": 14,
    "start_time": "2022-05-15T09:18:59.432Z"
   },
   {
    "duration": 518,
    "start_time": "2022-05-15T09:25:04.723Z"
   },
   {
    "duration": 21,
    "start_time": "2022-05-15T09:37:07.512Z"
   },
   {
    "duration": 28,
    "start_time": "2022-05-15T09:37:42.920Z"
   },
   {
    "duration": 39,
    "start_time": "2022-05-15T09:39:25.920Z"
   },
   {
    "duration": 6,
    "start_time": "2022-05-15T09:40:10.281Z"
   },
   {
    "duration": 6,
    "start_time": "2022-05-15T09:40:32.160Z"
   },
   {
    "duration": 9,
    "start_time": "2022-05-15T09:41:50.830Z"
   },
   {
    "duration": 278,
    "start_time": "2022-05-15T09:41:51.290Z"
   },
   {
    "duration": 220,
    "start_time": "2022-05-15T09:41:51.711Z"
   },
   {
    "duration": 11,
    "start_time": "2022-05-15T09:41:52.261Z"
   },
   {
    "duration": 10,
    "start_time": "2022-05-15T09:41:52.871Z"
   },
   {
    "duration": 443,
    "start_time": "2022-05-15T09:41:53.581Z"
   },
   {
    "duration": 307,
    "start_time": "2022-05-15T09:44:07.221Z"
   },
   {
    "duration": 309,
    "start_time": "2022-05-15T09:47:28.171Z"
   },
   {
    "duration": 527,
    "start_time": "2022-05-15T09:52:17.002Z"
   },
   {
    "duration": 325,
    "start_time": "2022-05-15T09:53:12.380Z"
   },
   {
    "duration": 485,
    "start_time": "2022-05-15T09:53:50.479Z"
   },
   {
    "duration": 436,
    "start_time": "2022-05-15T09:54:52.230Z"
   },
   {
    "duration": 365,
    "start_time": "2022-05-15T09:55:01.090Z"
   },
   {
    "duration": 446,
    "start_time": "2022-05-15T09:56:08.491Z"
   },
   {
    "duration": 562,
    "start_time": "2022-05-15T09:57:10.741Z"
   },
   {
    "duration": 444,
    "start_time": "2022-05-15T09:57:42.730Z"
   },
   {
    "duration": 9,
    "start_time": "2022-05-15T09:58:13.651Z"
   },
   {
    "duration": 213,
    "start_time": "2022-05-15T09:58:16.461Z"
   },
   {
    "duration": 229,
    "start_time": "2022-05-15T09:59:08.880Z"
   },
   {
    "duration": 227,
    "start_time": "2022-05-15T09:59:12.682Z"
   },
   {
    "duration": 6,
    "start_time": "2022-05-15T10:03:58.712Z"
   },
   {
    "duration": 325,
    "start_time": "2022-05-15T10:05:57.761Z"
   },
   {
    "duration": 237,
    "start_time": "2022-05-15T10:06:22.521Z"
   },
   {
    "duration": 6,
    "start_time": "2022-05-15T10:06:33.161Z"
   },
   {
    "duration": 896,
    "start_time": "2022-05-15T10:16:49.292Z"
   },
   {
    "duration": 29,
    "start_time": "2022-05-15T10:24:40.150Z"
   },
   {
    "duration": 986,
    "start_time": "2022-05-15T10:25:30.082Z"
   },
   {
    "duration": 879,
    "start_time": "2022-05-15T10:25:37.423Z"
   },
   {
    "duration": 12,
    "start_time": "2022-05-15T10:27:40.240Z"
   },
   {
    "duration": 7,
    "start_time": "2022-05-15T10:34:25.841Z"
   },
   {
    "duration": 47,
    "start_time": "2022-05-15T10:35:17.552Z"
   },
   {
    "duration": 13,
    "start_time": "2022-05-15T10:35:31.821Z"
   },
   {
    "duration": 29,
    "start_time": "2022-05-15T10:35:51.121Z"
   },
   {
    "duration": 19,
    "start_time": "2022-05-15T10:37:49.561Z"
   },
   {
    "duration": 31,
    "start_time": "2022-05-15T10:37:51.461Z"
   },
   {
    "duration": 30,
    "start_time": "2022-05-15T10:37:53.771Z"
   },
   {
    "duration": 10,
    "start_time": "2022-05-15T10:38:33.121Z"
   },
   {
    "duration": 6,
    "start_time": "2022-05-15T10:38:33.611Z"
   },
   {
    "duration": 13,
    "start_time": "2022-05-15T10:38:34.213Z"
   },
   {
    "duration": 31,
    "start_time": "2022-05-15T10:38:35.181Z"
   },
   {
    "duration": 30,
    "start_time": "2022-05-15T10:38:36.662Z"
   },
   {
    "duration": 14,
    "start_time": "2022-05-15T10:39:45.862Z"
   },
   {
    "duration": 1143,
    "start_time": "2022-05-15T17:15:29.498Z"
   },
   {
    "duration": 122,
    "start_time": "2022-05-15T17:15:30.643Z"
   },
   {
    "duration": 14,
    "start_time": "2022-05-15T17:15:30.767Z"
   },
   {
    "duration": 18,
    "start_time": "2022-05-15T17:15:30.782Z"
   },
   {
    "duration": 23,
    "start_time": "2022-05-15T17:15:30.803Z"
   },
   {
    "duration": 20,
    "start_time": "2022-05-15T17:15:30.829Z"
   },
   {
    "duration": 30,
    "start_time": "2022-05-15T17:15:30.851Z"
   },
   {
    "duration": 15,
    "start_time": "2022-05-15T17:15:30.884Z"
   },
   {
    "duration": 38,
    "start_time": "2022-05-15T17:15:30.901Z"
   },
   {
    "duration": 44,
    "start_time": "2022-05-15T17:15:30.941Z"
   },
   {
    "duration": 37,
    "start_time": "2022-05-15T17:15:30.986Z"
   },
   {
    "duration": 372,
    "start_time": "2022-05-15T17:15:31.025Z"
   },
   {
    "duration": 36,
    "start_time": "2022-05-15T17:15:31.399Z"
   },
   {
    "duration": 9,
    "start_time": "2022-05-15T17:15:31.440Z"
   },
   {
    "duration": 24,
    "start_time": "2022-05-15T17:15:31.451Z"
   },
   {
    "duration": 217,
    "start_time": "2022-05-15T17:15:31.477Z"
   },
   {
    "duration": 152,
    "start_time": "2022-05-15T17:15:31.696Z"
   },
   {
    "duration": 7,
    "start_time": "2022-05-15T17:15:31.850Z"
   },
   {
    "duration": 13,
    "start_time": "2022-05-15T17:15:31.859Z"
   },
   {
    "duration": 334,
    "start_time": "2022-05-15T17:15:31.874Z"
   },
   {
    "duration": 255,
    "start_time": "2022-05-15T17:15:32.210Z"
   },
   {
    "duration": 334,
    "start_time": "2022-05-15T17:15:32.467Z"
   },
   {
    "duration": 276,
    "start_time": "2022-05-15T17:15:32.803Z"
   },
   {
    "duration": 373,
    "start_time": "2022-05-15T17:15:33.080Z"
   },
   {
    "duration": 7,
    "start_time": "2022-05-15T17:15:33.455Z"
   },
   {
    "duration": 163,
    "start_time": "2022-05-15T17:15:33.463Z"
   },
   {
    "duration": 12,
    "start_time": "2022-05-15T17:15:33.627Z"
   },
   {
    "duration": 161,
    "start_time": "2022-05-15T17:15:33.641Z"
   },
   {
    "duration": 4,
    "start_time": "2022-05-15T17:15:33.804Z"
   },
   {
    "duration": 567,
    "start_time": "2022-05-15T17:15:33.810Z"
   },
   {
    "duration": 23,
    "start_time": "2022-05-15T17:15:34.379Z"
   },
   {
    "duration": 10,
    "start_time": "2022-05-15T17:15:34.404Z"
   },
   {
    "duration": 31,
    "start_time": "2022-05-15T17:15:34.415Z"
   },
   {
    "duration": 8,
    "start_time": "2022-05-15T17:15:34.447Z"
   },
   {
    "duration": 9,
    "start_time": "2022-05-15T17:15:34.456Z"
   },
   {
    "duration": 7,
    "start_time": "2022-05-15T17:15:34.467Z"
   },
   {
    "duration": 10,
    "start_time": "2022-05-15T17:15:34.475Z"
   },
   {
    "duration": 57,
    "start_time": "2022-05-15T17:15:34.487Z"
   },
   {
    "duration": 25,
    "start_time": "2022-05-15T17:15:34.546Z"
   },
   {
    "duration": 16,
    "start_time": "2022-05-15T17:15:34.573Z"
   },
   {
    "duration": 10,
    "start_time": "2022-05-15T17:15:34.593Z"
   },
   {
    "duration": 12,
    "start_time": "2022-05-15T17:16:01.625Z"
   },
   {
    "duration": 81,
    "start_time": "2022-05-15T17:55:35.494Z"
   },
   {
    "duration": 2018,
    "start_time": "2022-05-15T17:55:43.685Z"
   },
   {
    "duration": 125,
    "start_time": "2022-05-15T17:55:45.707Z"
   },
   {
    "duration": 17,
    "start_time": "2022-05-15T17:55:45.834Z"
   },
   {
    "duration": 51,
    "start_time": "2022-05-15T17:55:45.854Z"
   },
   {
    "duration": 14,
    "start_time": "2022-05-15T17:55:45.909Z"
   },
   {
    "duration": 12,
    "start_time": "2022-05-15T17:55:45.926Z"
   },
   {
    "duration": 39,
    "start_time": "2022-05-15T17:55:45.940Z"
   },
   {
    "duration": 28,
    "start_time": "2022-05-15T17:55:45.985Z"
   },
   {
    "duration": 19,
    "start_time": "2022-05-15T17:55:46.015Z"
   },
   {
    "duration": 72,
    "start_time": "2022-05-15T17:55:46.036Z"
   },
   {
    "duration": 16,
    "start_time": "2022-05-15T17:55:46.111Z"
   },
   {
    "duration": 671,
    "start_time": "2022-05-15T17:55:46.129Z"
   },
   {
    "duration": 27,
    "start_time": "2022-05-15T17:55:46.803Z"
   },
   {
    "duration": 5,
    "start_time": "2022-05-15T17:55:46.836Z"
   },
   {
    "duration": 203,
    "start_time": "2022-05-15T17:55:46.843Z"
   },
   {
    "duration": 0,
    "start_time": "2022-05-15T17:55:47.061Z"
   },
   {
    "duration": 0,
    "start_time": "2022-05-15T17:55:47.068Z"
   },
   {
    "duration": 0,
    "start_time": "2022-05-15T17:55:47.070Z"
   },
   {
    "duration": 0,
    "start_time": "2022-05-15T17:55:47.073Z"
   },
   {
    "duration": 0,
    "start_time": "2022-05-15T17:55:47.075Z"
   },
   {
    "duration": 0,
    "start_time": "2022-05-15T17:55:47.077Z"
   },
   {
    "duration": 0,
    "start_time": "2022-05-15T17:55:47.080Z"
   },
   {
    "duration": 0,
    "start_time": "2022-05-15T17:55:47.082Z"
   },
   {
    "duration": 0,
    "start_time": "2022-05-15T17:55:47.085Z"
   },
   {
    "duration": 0,
    "start_time": "2022-05-15T17:55:47.087Z"
   },
   {
    "duration": 0,
    "start_time": "2022-05-15T17:55:47.089Z"
   },
   {
    "duration": 0,
    "start_time": "2022-05-15T17:55:47.091Z"
   },
   {
    "duration": 0,
    "start_time": "2022-05-15T17:55:47.094Z"
   },
   {
    "duration": 0,
    "start_time": "2022-05-15T17:55:47.096Z"
   },
   {
    "duration": 0,
    "start_time": "2022-05-15T17:55:47.097Z"
   },
   {
    "duration": 0,
    "start_time": "2022-05-15T17:55:47.099Z"
   },
   {
    "duration": 0,
    "start_time": "2022-05-15T17:55:47.100Z"
   },
   {
    "duration": 0,
    "start_time": "2022-05-15T17:55:47.101Z"
   },
   {
    "duration": 0,
    "start_time": "2022-05-15T17:55:47.103Z"
   },
   {
    "duration": 0,
    "start_time": "2022-05-15T17:55:47.104Z"
   },
   {
    "duration": 0,
    "start_time": "2022-05-15T17:55:47.105Z"
   },
   {
    "duration": 1,
    "start_time": "2022-05-15T17:55:47.106Z"
   },
   {
    "duration": 0,
    "start_time": "2022-05-15T17:55:47.108Z"
   },
   {
    "duration": 1,
    "start_time": "2022-05-15T17:55:47.159Z"
   },
   {
    "duration": 0,
    "start_time": "2022-05-15T17:55:47.163Z"
   },
   {
    "duration": 0,
    "start_time": "2022-05-15T17:55:47.167Z"
   },
   {
    "duration": 0,
    "start_time": "2022-05-15T17:55:47.169Z"
   },
   {
    "duration": 12,
    "start_time": "2022-05-15T17:56:50.013Z"
   },
   {
    "duration": 11,
    "start_time": "2022-05-15T17:57:09.819Z"
   },
   {
    "duration": 17,
    "start_time": "2022-05-15T18:00:16.649Z"
   },
   {
    "duration": 27,
    "start_time": "2022-05-15T18:00:31.555Z"
   },
   {
    "duration": 19,
    "start_time": "2022-05-15T18:01:16.237Z"
   },
   {
    "duration": 661,
    "start_time": "2022-05-15T18:02:20.165Z"
   },
   {
    "duration": 37,
    "start_time": "2022-05-15T18:02:47.758Z"
   },
   {
    "duration": 29,
    "start_time": "2022-05-15T18:06:10.820Z"
   },
   {
    "duration": 24,
    "start_time": "2022-05-15T18:10:55.882Z"
   },
   {
    "duration": 26,
    "start_time": "2022-05-15T18:11:15.899Z"
   },
   {
    "duration": 31,
    "start_time": "2022-05-15T18:11:26.892Z"
   },
   {
    "duration": 27,
    "start_time": "2022-05-15T18:11:49.352Z"
   },
   {
    "duration": 23,
    "start_time": "2022-05-15T18:12:08.340Z"
   },
   {
    "duration": 22,
    "start_time": "2022-05-15T18:12:17.080Z"
   },
   {
    "duration": 23,
    "start_time": "2022-05-15T18:13:39.286Z"
   },
   {
    "duration": 32,
    "start_time": "2022-05-15T18:14:13.564Z"
   },
   {
    "duration": 559,
    "start_time": "2022-05-15T18:14:49.605Z"
   },
   {
    "duration": 5,
    "start_time": "2022-05-15T18:15:23.514Z"
   },
   {
    "duration": 573,
    "start_time": "2022-05-15T18:15:28.068Z"
   },
   {
    "duration": 20,
    "start_time": "2022-05-15T18:15:40.512Z"
   },
   {
    "duration": 11,
    "start_time": "2022-05-15T18:15:59.283Z"
   },
   {
    "duration": 13,
    "start_time": "2022-05-15T18:16:17.982Z"
   },
   {
    "duration": 20,
    "start_time": "2022-05-15T18:16:54.110Z"
   },
   {
    "duration": 24,
    "start_time": "2022-05-15T18:18:52.674Z"
   },
   {
    "duration": 31,
    "start_time": "2022-05-15T18:19:19.944Z"
   },
   {
    "duration": 20,
    "start_time": "2022-05-15T18:24:43.884Z"
   },
   {
    "duration": 139,
    "start_time": "2022-05-15T18:26:01.664Z"
   },
   {
    "duration": 27,
    "start_time": "2022-05-15T18:26:39.401Z"
   },
   {
    "duration": 29,
    "start_time": "2022-05-15T18:27:23.186Z"
   },
   {
    "duration": 29,
    "start_time": "2022-05-15T18:28:12.870Z"
   },
   {
    "duration": 28,
    "start_time": "2022-05-15T18:28:38.346Z"
   },
   {
    "duration": 28,
    "start_time": "2022-05-15T18:28:44.478Z"
   },
   {
    "duration": 26,
    "start_time": "2022-05-15T18:29:02.454Z"
   },
   {
    "duration": 26,
    "start_time": "2022-05-15T18:30:28.290Z"
   },
   {
    "duration": 18,
    "start_time": "2022-05-15T18:30:42.485Z"
   },
   {
    "duration": 11,
    "start_time": "2022-05-15T18:33:53.968Z"
   },
   {
    "duration": 18,
    "start_time": "2022-05-15T18:34:39.558Z"
   },
   {
    "duration": 25,
    "start_time": "2022-05-15T18:34:49.280Z"
   },
   {
    "duration": 17,
    "start_time": "2022-05-15T18:35:15.034Z"
   },
   {
    "duration": 15,
    "start_time": "2022-05-15T18:36:40.764Z"
   },
   {
    "duration": 26,
    "start_time": "2022-05-15T18:36:59.283Z"
   },
   {
    "duration": 24,
    "start_time": "2022-05-15T18:37:15.823Z"
   },
   {
    "duration": 24,
    "start_time": "2022-05-15T18:37:24.843Z"
   },
   {
    "duration": 24,
    "start_time": "2022-05-15T18:37:48.382Z"
   },
   {
    "duration": 19,
    "start_time": "2022-05-15T18:38:34.910Z"
   },
   {
    "duration": 24,
    "start_time": "2022-05-15T18:39:13.070Z"
   },
   {
    "duration": 19,
    "start_time": "2022-05-15T18:39:29.721Z"
   },
   {
    "duration": 20,
    "start_time": "2022-05-15T18:39:49.065Z"
   },
   {
    "duration": 21,
    "start_time": "2022-05-15T18:40:44.334Z"
   },
   {
    "duration": 26,
    "start_time": "2022-05-15T18:40:59.835Z"
   },
   {
    "duration": 26,
    "start_time": "2022-05-15T18:41:40.407Z"
   },
   {
    "duration": 1967,
    "start_time": "2022-05-15T18:42:32.736Z"
   },
   {
    "duration": 109,
    "start_time": "2022-05-15T18:42:34.707Z"
   },
   {
    "duration": 19,
    "start_time": "2022-05-15T18:42:34.818Z"
   },
   {
    "duration": 22,
    "start_time": "2022-05-15T18:42:34.841Z"
   },
   {
    "duration": 19,
    "start_time": "2022-05-15T18:42:34.865Z"
   },
   {
    "duration": 11,
    "start_time": "2022-05-15T18:42:34.886Z"
   },
   {
    "duration": 60,
    "start_time": "2022-05-15T18:42:34.900Z"
   },
   {
    "duration": 9,
    "start_time": "2022-05-15T18:42:34.962Z"
   },
   {
    "duration": 19,
    "start_time": "2022-05-15T18:42:34.973Z"
   },
   {
    "duration": 5,
    "start_time": "2022-05-15T18:42:34.996Z"
   },
   {
    "duration": 55,
    "start_time": "2022-05-15T18:42:35.003Z"
   },
   {
    "duration": 497,
    "start_time": "2022-05-15T18:42:35.061Z"
   },
   {
    "duration": 28,
    "start_time": "2022-05-15T18:42:35.560Z"
   },
   {
    "duration": 7,
    "start_time": "2022-05-15T18:42:35.590Z"
   },
   {
    "duration": 71,
    "start_time": "2022-05-15T18:42:35.600Z"
   },
   {
    "duration": 9,
    "start_time": "2022-05-15T18:42:35.674Z"
   },
   {
    "duration": 398,
    "start_time": "2022-05-15T18:42:35.686Z"
   },
   {
    "duration": 353,
    "start_time": "2022-05-15T18:42:36.087Z"
   },
   {
    "duration": 19,
    "start_time": "2022-05-15T18:42:36.443Z"
   },
   {
    "duration": 21,
    "start_time": "2022-05-15T18:42:36.464Z"
   },
   {
    "duration": 441,
    "start_time": "2022-05-15T18:42:36.488Z"
   },
   {
    "duration": 325,
    "start_time": "2022-05-15T18:42:36.931Z"
   },
   {
    "duration": 433,
    "start_time": "2022-05-15T18:42:37.258Z"
   },
   {
    "duration": 363,
    "start_time": "2022-05-15T18:42:37.693Z"
   },
   {
    "duration": 477,
    "start_time": "2022-05-15T18:42:38.059Z"
   },
   {
    "duration": 20,
    "start_time": "2022-05-15T18:42:38.539Z"
   },
   {
    "duration": 298,
    "start_time": "2022-05-15T18:42:38.561Z"
   },
   {
    "duration": 7,
    "start_time": "2022-05-15T18:42:38.866Z"
   },
   {
    "duration": 316,
    "start_time": "2022-05-15T18:42:38.876Z"
   },
   {
    "duration": 6,
    "start_time": "2022-05-15T18:42:39.195Z"
   },
   {
    "duration": 861,
    "start_time": "2022-05-15T18:42:39.204Z"
   },
   {
    "duration": 47,
    "start_time": "2022-05-15T18:42:40.067Z"
   },
   {
    "duration": 47,
    "start_time": "2022-05-15T18:42:40.116Z"
   },
   {
    "duration": 15,
    "start_time": "2022-05-15T18:42:40.165Z"
   },
   {
    "duration": 7,
    "start_time": "2022-05-15T18:42:40.182Z"
   },
   {
    "duration": 9,
    "start_time": "2022-05-15T18:42:40.191Z"
   },
   {
    "duration": 55,
    "start_time": "2022-05-15T18:42:40.202Z"
   },
   {
    "duration": 16,
    "start_time": "2022-05-15T18:42:40.259Z"
   },
   {
    "duration": 31,
    "start_time": "2022-05-15T18:42:40.278Z"
   },
   {
    "duration": 57,
    "start_time": "2022-05-15T18:42:40.312Z"
   },
   {
    "duration": 19,
    "start_time": "2022-05-15T18:42:40.372Z"
   },
   {
    "duration": 16,
    "start_time": "2022-05-15T18:42:40.395Z"
   },
   {
    "duration": 5,
    "start_time": "2022-05-15T18:43:26.779Z"
   },
   {
    "duration": 9,
    "start_time": "2022-05-15T18:43:55.190Z"
   },
   {
    "duration": 22,
    "start_time": "2022-05-15T18:44:30.470Z"
   },
   {
    "duration": 25,
    "start_time": "2022-05-15T18:45:26.768Z"
   },
   {
    "duration": 16,
    "start_time": "2022-05-15T18:45:37.343Z"
   },
   {
    "duration": 17,
    "start_time": "2022-05-15T18:46:05.794Z"
   },
   {
    "duration": 16,
    "start_time": "2022-05-15T18:46:11.840Z"
   },
   {
    "duration": 148,
    "start_time": "2022-05-15T18:46:33.488Z"
   },
   {
    "duration": 25,
    "start_time": "2022-05-15T18:46:37.998Z"
   },
   {
    "duration": 19,
    "start_time": "2022-05-15T18:46:51.179Z"
   },
   {
    "duration": 16,
    "start_time": "2022-05-15T18:46:57.392Z"
   },
   {
    "duration": 15,
    "start_time": "2022-05-15T18:47:18.294Z"
   },
   {
    "duration": 15,
    "start_time": "2022-05-15T18:47:40.772Z"
   },
   {
    "duration": 17,
    "start_time": "2022-05-15T18:48:40.366Z"
   },
   {
    "duration": 18,
    "start_time": "2022-05-15T18:49:01.085Z"
   },
   {
    "duration": 1281,
    "start_time": "2022-05-15T18:49:46.892Z"
   },
   {
    "duration": 98,
    "start_time": "2022-05-15T18:49:48.176Z"
   },
   {
    "duration": 16,
    "start_time": "2022-05-15T18:49:48.276Z"
   },
   {
    "duration": 17,
    "start_time": "2022-05-15T18:49:48.294Z"
   },
   {
    "duration": 15,
    "start_time": "2022-05-15T18:49:48.314Z"
   },
   {
    "duration": 8,
    "start_time": "2022-05-15T18:49:48.356Z"
   },
   {
    "duration": 25,
    "start_time": "2022-05-15T18:49:48.367Z"
   },
   {
    "duration": 11,
    "start_time": "2022-05-15T18:49:48.394Z"
   },
   {
    "duration": 55,
    "start_time": "2022-05-15T18:49:48.407Z"
   },
   {
    "duration": 6,
    "start_time": "2022-05-15T18:49:48.466Z"
   },
   {
    "duration": 17,
    "start_time": "2022-05-15T18:49:48.474Z"
   },
   {
    "duration": 504,
    "start_time": "2022-05-15T18:49:48.493Z"
   },
   {
    "duration": 29,
    "start_time": "2022-05-15T18:49:49.000Z"
   },
   {
    "duration": 7,
    "start_time": "2022-05-15T18:49:49.031Z"
   },
   {
    "duration": 44,
    "start_time": "2022-05-15T18:49:49.040Z"
   },
   {
    "duration": 8,
    "start_time": "2022-05-15T18:49:49.086Z"
   },
   {
    "duration": 371,
    "start_time": "2022-05-15T18:49:49.096Z"
   },
   {
    "duration": 224,
    "start_time": "2022-05-15T18:49:49.470Z"
   },
   {
    "duration": 12,
    "start_time": "2022-05-15T18:49:49.697Z"
   },
   {
    "duration": 9,
    "start_time": "2022-05-15T18:49:49.711Z"
   },
   {
    "duration": 467,
    "start_time": "2022-05-15T18:49:49.723Z"
   },
   {
    "duration": 326,
    "start_time": "2022-05-15T18:49:50.193Z"
   },
   {
    "duration": 429,
    "start_time": "2022-05-15T18:49:50.521Z"
   },
   {
    "duration": 547,
    "start_time": "2022-05-15T18:49:50.957Z"
   },
   {
    "duration": 659,
    "start_time": "2022-05-15T18:49:51.507Z"
   },
   {
    "duration": 13,
    "start_time": "2022-05-15T18:49:52.169Z"
   },
   {
    "duration": 361,
    "start_time": "2022-05-15T18:49:52.185Z"
   },
   {
    "duration": 7,
    "start_time": "2022-05-15T18:49:52.564Z"
   },
   {
    "duration": 250,
    "start_time": "2022-05-15T18:49:52.574Z"
   },
   {
    "duration": 5,
    "start_time": "2022-05-15T18:49:52.827Z"
   },
   {
    "duration": 852,
    "start_time": "2022-05-15T18:49:52.834Z"
   },
   {
    "duration": 31,
    "start_time": "2022-05-15T18:49:53.689Z"
   },
   {
    "duration": 41,
    "start_time": "2022-05-15T18:49:53.722Z"
   },
   {
    "duration": 21,
    "start_time": "2022-05-15T18:49:53.765Z"
   },
   {
    "duration": 6,
    "start_time": "2022-05-15T18:49:53.788Z"
   },
   {
    "duration": 22,
    "start_time": "2022-05-15T18:49:53.796Z"
   },
   {
    "duration": 9,
    "start_time": "2022-05-15T18:49:53.820Z"
   },
   {
    "duration": 33,
    "start_time": "2022-05-15T18:49:53.831Z"
   },
   {
    "duration": 32,
    "start_time": "2022-05-15T18:49:53.866Z"
   },
   {
    "duration": 58,
    "start_time": "2022-05-15T18:49:53.901Z"
   },
   {
    "duration": 20,
    "start_time": "2022-05-15T18:49:53.961Z"
   },
   {
    "duration": 14,
    "start_time": "2022-05-15T18:49:53.983Z"
   },
   {
    "duration": 6,
    "start_time": "2022-05-15T18:49:59.731Z"
   },
   {
    "duration": 27,
    "start_time": "2022-05-15T18:52:22.199Z"
   },
   {
    "duration": 25,
    "start_time": "2022-05-15T18:52:27.027Z"
   },
   {
    "duration": 15,
    "start_time": "2022-05-15T18:52:40.092Z"
   },
   {
    "duration": 16,
    "start_time": "2022-05-15T18:53:44.908Z"
   },
   {
    "duration": 26,
    "start_time": "2022-05-15T18:53:51.931Z"
   },
   {
    "duration": 1363,
    "start_time": "2022-05-15T18:53:58.521Z"
   },
   {
    "duration": 135,
    "start_time": "2022-05-15T18:53:59.888Z"
   },
   {
    "duration": 17,
    "start_time": "2022-05-15T18:54:00.025Z"
   },
   {
    "duration": 24,
    "start_time": "2022-05-15T18:54:00.047Z"
   },
   {
    "duration": 22,
    "start_time": "2022-05-15T18:54:00.074Z"
   },
   {
    "duration": 13,
    "start_time": "2022-05-15T18:54:00.099Z"
   },
   {
    "duration": 67,
    "start_time": "2022-05-15T18:54:00.116Z"
   },
   {
    "duration": 9,
    "start_time": "2022-05-15T18:54:00.187Z"
   },
   {
    "duration": 28,
    "start_time": "2022-05-15T18:54:00.199Z"
   },
   {
    "duration": 8,
    "start_time": "2022-05-15T18:54:00.261Z"
   },
   {
    "duration": 26,
    "start_time": "2022-05-15T18:54:00.273Z"
   },
   {
    "duration": 787,
    "start_time": "2022-05-15T18:54:00.302Z"
   },
   {
    "duration": 41,
    "start_time": "2022-05-15T18:54:01.093Z"
   },
   {
    "duration": 7,
    "start_time": "2022-05-15T18:54:01.137Z"
   },
   {
    "duration": 29,
    "start_time": "2022-05-15T18:54:01.157Z"
   },
   {
    "duration": 9,
    "start_time": "2022-05-15T18:54:01.188Z"
   },
   {
    "duration": 298,
    "start_time": "2022-05-15T18:54:01.199Z"
   },
   {
    "duration": 225,
    "start_time": "2022-05-15T18:54:01.500Z"
   },
   {
    "duration": 16,
    "start_time": "2022-05-15T18:54:01.727Z"
   },
   {
    "duration": 16,
    "start_time": "2022-05-15T18:54:01.757Z"
   },
   {
    "duration": 437,
    "start_time": "2022-05-15T18:54:01.776Z"
   },
   {
    "duration": 343,
    "start_time": "2022-05-15T18:54:02.216Z"
   },
   {
    "duration": 426,
    "start_time": "2022-05-15T18:54:02.562Z"
   },
   {
    "duration": 343,
    "start_time": "2022-05-15T18:54:02.991Z"
   },
   {
    "duration": 450,
    "start_time": "2022-05-15T18:54:03.336Z"
   },
   {
    "duration": 10,
    "start_time": "2022-05-15T18:54:03.788Z"
   },
   {
    "duration": 240,
    "start_time": "2022-05-15T18:54:03.801Z"
   },
   {
    "duration": 7,
    "start_time": "2022-05-15T18:54:04.058Z"
   },
   {
    "duration": 365,
    "start_time": "2022-05-15T18:54:04.068Z"
   },
   {
    "duration": 7,
    "start_time": "2022-05-15T18:54:04.436Z"
   },
   {
    "duration": 1445,
    "start_time": "2022-05-15T18:54:04.458Z"
   },
   {
    "duration": 56,
    "start_time": "2022-05-15T18:54:05.907Z"
   },
   {
    "duration": 20,
    "start_time": "2022-05-15T18:54:05.966Z"
   },
   {
    "duration": 13,
    "start_time": "2022-05-15T18:54:05.989Z"
   },
   {
    "duration": 8,
    "start_time": "2022-05-15T18:54:06.004Z"
   },
   {
    "duration": 47,
    "start_time": "2022-05-15T18:54:06.014Z"
   },
   {
    "duration": 12,
    "start_time": "2022-05-15T18:54:06.064Z"
   },
   {
    "duration": 13,
    "start_time": "2022-05-15T18:54:06.078Z"
   },
   {
    "duration": 30,
    "start_time": "2022-05-15T18:54:06.094Z"
   },
   {
    "duration": 52,
    "start_time": "2022-05-15T18:54:06.127Z"
   },
   {
    "duration": 20,
    "start_time": "2022-05-15T18:54:06.182Z"
   },
   {
    "duration": 15,
    "start_time": "2022-05-15T18:54:06.204Z"
   },
   {
    "duration": 6,
    "start_time": "2022-05-15T18:54:14.802Z"
   },
   {
    "duration": 1419,
    "start_time": "2022-05-16T12:04:19.285Z"
   },
   {
    "duration": 108,
    "start_time": "2022-05-16T12:04:20.706Z"
   },
   {
    "duration": 24,
    "start_time": "2022-05-16T12:04:20.816Z"
   },
   {
    "duration": 19,
    "start_time": "2022-05-16T12:04:20.843Z"
   },
   {
    "duration": 21,
    "start_time": "2022-05-16T12:04:20.864Z"
   },
   {
    "duration": 11,
    "start_time": "2022-05-16T12:04:20.888Z"
   },
   {
    "duration": 46,
    "start_time": "2022-05-16T12:04:20.902Z"
   },
   {
    "duration": 7,
    "start_time": "2022-05-16T12:04:20.951Z"
   },
   {
    "duration": 22,
    "start_time": "2022-05-16T12:04:20.960Z"
   },
   {
    "duration": 5,
    "start_time": "2022-05-16T12:04:20.987Z"
   },
   {
    "duration": 50,
    "start_time": "2022-05-16T12:04:20.994Z"
   },
   {
    "duration": 500,
    "start_time": "2022-05-16T12:04:21.047Z"
   },
   {
    "duration": 25,
    "start_time": "2022-05-16T12:04:21.550Z"
   },
   {
    "duration": 6,
    "start_time": "2022-05-16T12:04:21.577Z"
   },
   {
    "duration": 57,
    "start_time": "2022-05-16T12:04:21.585Z"
   },
   {
    "duration": 8,
    "start_time": "2022-05-16T12:04:21.644Z"
   },
   {
    "duration": 310,
    "start_time": "2022-05-16T12:04:21.654Z"
   },
   {
    "duration": 210,
    "start_time": "2022-05-16T12:04:21.967Z"
   },
   {
    "duration": 9,
    "start_time": "2022-05-16T12:04:22.180Z"
   },
   {
    "duration": 15,
    "start_time": "2022-05-16T12:04:22.192Z"
   },
   {
    "duration": 466,
    "start_time": "2022-05-16T12:04:22.209Z"
   },
   {
    "duration": 339,
    "start_time": "2022-05-16T12:04:22.677Z"
   },
   {
    "duration": 426,
    "start_time": "2022-05-16T12:04:23.018Z"
   },
   {
    "duration": 367,
    "start_time": "2022-05-16T12:04:23.446Z"
   },
   {
    "duration": 465,
    "start_time": "2022-05-16T12:04:23.815Z"
   },
   {
    "duration": 9,
    "start_time": "2022-05-16T12:04:24.282Z"
   },
   {
    "duration": 248,
    "start_time": "2022-05-16T12:04:24.293Z"
   },
   {
    "duration": 6,
    "start_time": "2022-05-16T12:04:24.546Z"
   },
   {
    "duration": 255,
    "start_time": "2022-05-16T12:04:24.554Z"
   },
   {
    "duration": 14,
    "start_time": "2022-05-16T12:04:24.811Z"
   },
   {
    "duration": 923,
    "start_time": "2022-05-16T12:04:24.827Z"
   },
   {
    "duration": 29,
    "start_time": "2022-05-16T12:04:25.753Z"
   },
   {
    "duration": 14,
    "start_time": "2022-05-16T12:04:25.784Z"
   },
   {
    "duration": 18,
    "start_time": "2022-05-16T12:04:25.825Z"
   },
   {
    "duration": 8,
    "start_time": "2022-05-16T12:04:25.845Z"
   },
   {
    "duration": 9,
    "start_time": "2022-05-16T12:04:25.855Z"
   },
   {
    "duration": 8,
    "start_time": "2022-05-16T12:04:25.867Z"
   },
   {
    "duration": 51,
    "start_time": "2022-05-16T12:04:25.877Z"
   },
   {
    "duration": 46,
    "start_time": "2022-05-16T12:04:25.931Z"
   },
   {
    "duration": 29,
    "start_time": "2022-05-16T12:04:25.980Z"
   },
   {
    "duration": 29,
    "start_time": "2022-05-16T12:04:26.012Z"
   },
   {
    "duration": 18,
    "start_time": "2022-05-16T12:04:26.044Z"
   },
   {
    "duration": 13,
    "start_time": "2022-05-16T12:05:20.673Z"
   },
   {
    "duration": 13,
    "start_time": "2022-05-16T12:05:31.193Z"
   },
   {
    "duration": 43,
    "start_time": "2022-05-16T18:41:23.620Z"
   },
   {
    "duration": 1180,
    "start_time": "2022-05-16T18:41:29.899Z"
   },
   {
    "duration": 125,
    "start_time": "2022-05-16T18:41:31.081Z"
   },
   {
    "duration": 11,
    "start_time": "2022-05-16T18:41:31.207Z"
   },
   {
    "duration": 13,
    "start_time": "2022-05-16T18:41:31.219Z"
   },
   {
    "duration": 21,
    "start_time": "2022-05-16T18:41:31.233Z"
   },
   {
    "duration": 8,
    "start_time": "2022-05-16T18:41:31.255Z"
   },
   {
    "duration": 16,
    "start_time": "2022-05-16T18:41:31.264Z"
   },
   {
    "duration": 7,
    "start_time": "2022-05-16T18:41:31.281Z"
   },
   {
    "duration": 11,
    "start_time": "2022-05-16T18:41:31.289Z"
   },
   {
    "duration": 6,
    "start_time": "2022-05-16T18:41:31.303Z"
   },
   {
    "duration": 14,
    "start_time": "2022-05-16T18:41:31.310Z"
   },
   {
    "duration": 291,
    "start_time": "2022-05-16T18:41:31.325Z"
   },
   {
    "duration": 18,
    "start_time": "2022-05-16T18:41:31.618Z"
   },
   {
    "duration": 22,
    "start_time": "2022-05-16T18:41:31.638Z"
   },
   {
    "duration": 27,
    "start_time": "2022-05-16T18:41:31.661Z"
   },
   {
    "duration": 4,
    "start_time": "2022-05-16T18:41:31.689Z"
   },
   {
    "duration": 162,
    "start_time": "2022-05-16T18:41:31.695Z"
   },
   {
    "duration": 120,
    "start_time": "2022-05-16T18:41:31.858Z"
   },
   {
    "duration": 9,
    "start_time": "2022-05-16T18:41:31.980Z"
   },
   {
    "duration": 24,
    "start_time": "2022-05-16T18:41:31.991Z"
   },
   {
    "duration": 241,
    "start_time": "2022-05-16T18:41:32.017Z"
   },
   {
    "duration": 176,
    "start_time": "2022-05-16T18:41:32.263Z"
   },
   {
    "duration": 348,
    "start_time": "2022-05-16T18:41:32.441Z"
   },
   {
    "duration": 196,
    "start_time": "2022-05-16T18:41:32.791Z"
   },
   {
    "duration": 294,
    "start_time": "2022-05-16T18:41:32.989Z"
   },
   {
    "duration": 7,
    "start_time": "2022-05-16T18:41:33.285Z"
   },
   {
    "duration": 124,
    "start_time": "2022-05-16T18:41:33.294Z"
   },
   {
    "duration": 4,
    "start_time": "2022-05-16T18:41:33.422Z"
   },
   {
    "duration": 128,
    "start_time": "2022-05-16T18:41:33.427Z"
   },
   {
    "duration": 4,
    "start_time": "2022-05-16T18:41:33.563Z"
   },
   {
    "duration": 433,
    "start_time": "2022-05-16T18:41:33.569Z"
   },
   {
    "duration": 19,
    "start_time": "2022-05-16T18:41:34.003Z"
   },
   {
    "duration": 9,
    "start_time": "2022-05-16T18:41:34.023Z"
   },
   {
    "duration": 6,
    "start_time": "2022-05-16T18:41:34.033Z"
   },
   {
    "duration": 23,
    "start_time": "2022-05-16T18:41:34.041Z"
   },
   {
    "duration": 5,
    "start_time": "2022-05-16T18:41:34.066Z"
   },
   {
    "duration": 9,
    "start_time": "2022-05-16T18:41:34.072Z"
   },
   {
    "duration": 8,
    "start_time": "2022-05-16T18:41:34.082Z"
   },
   {
    "duration": 21,
    "start_time": "2022-05-16T18:41:34.091Z"
   },
   {
    "duration": 19,
    "start_time": "2022-05-16T18:41:34.113Z"
   },
   {
    "duration": 38,
    "start_time": "2022-05-16T18:41:34.134Z"
   },
   {
    "duration": 8,
    "start_time": "2022-05-16T18:41:34.173Z"
   },
   {
    "duration": 3,
    "start_time": "2022-05-16T18:42:18.000Z"
   },
   {
    "duration": 15,
    "start_time": "2022-05-16T18:42:46.541Z"
   },
   {
    "duration": 17,
    "start_time": "2022-05-16T18:43:07.563Z"
   },
   {
    "duration": 4,
    "start_time": "2022-05-16T18:43:23.578Z"
   },
   {
    "duration": 4,
    "start_time": "2022-05-16T18:43:29.290Z"
   },
   {
    "duration": 995,
    "start_time": "2022-05-16T18:43:33.899Z"
   },
   {
    "duration": 103,
    "start_time": "2022-05-16T18:43:34.896Z"
   },
   {
    "duration": 10,
    "start_time": "2022-05-16T18:43:35.001Z"
   },
   {
    "duration": 12,
    "start_time": "2022-05-16T18:43:35.013Z"
   },
   {
    "duration": 10,
    "start_time": "2022-05-16T18:43:35.027Z"
   },
   {
    "duration": 8,
    "start_time": "2022-05-16T18:43:35.038Z"
   },
   {
    "duration": 19,
    "start_time": "2022-05-16T18:43:35.047Z"
   },
   {
    "duration": 12,
    "start_time": "2022-05-16T18:43:35.067Z"
   },
   {
    "duration": 17,
    "start_time": "2022-05-16T18:43:35.080Z"
   },
   {
    "duration": 3,
    "start_time": "2022-05-16T18:43:35.100Z"
   },
   {
    "duration": 10,
    "start_time": "2022-05-16T18:43:35.105Z"
   },
   {
    "duration": 308,
    "start_time": "2022-05-16T18:43:35.117Z"
   },
   {
    "duration": 15,
    "start_time": "2022-05-16T18:43:35.427Z"
   },
   {
    "duration": 3,
    "start_time": "2022-05-16T18:43:35.444Z"
   },
   {
    "duration": 22,
    "start_time": "2022-05-16T18:43:35.449Z"
   },
   {
    "duration": 5,
    "start_time": "2022-05-16T18:43:35.473Z"
   },
   {
    "duration": 154,
    "start_time": "2022-05-16T18:43:35.479Z"
   },
   {
    "duration": 114,
    "start_time": "2022-05-16T18:43:35.635Z"
   },
   {
    "duration": 18,
    "start_time": "2022-05-16T18:43:35.751Z"
   },
   {
    "duration": 8,
    "start_time": "2022-05-16T18:43:35.770Z"
   },
   {
    "duration": 240,
    "start_time": "2022-05-16T18:43:35.779Z"
   },
   {
    "duration": 175,
    "start_time": "2022-05-16T18:43:36.020Z"
   },
   {
    "duration": 253,
    "start_time": "2022-05-16T18:43:36.197Z"
   },
   {
    "duration": 194,
    "start_time": "2022-05-16T18:43:36.451Z"
   },
   {
    "duration": 312,
    "start_time": "2022-05-16T18:43:36.646Z"
   },
   {
    "duration": 7,
    "start_time": "2022-05-16T18:43:36.964Z"
   },
   {
    "duration": 116,
    "start_time": "2022-05-16T18:43:36.972Z"
   },
   {
    "duration": 3,
    "start_time": "2022-05-16T18:43:37.092Z"
   },
   {
    "duration": 129,
    "start_time": "2022-05-16T18:43:37.096Z"
   },
   {
    "duration": 4,
    "start_time": "2022-05-16T18:43:37.226Z"
   },
   {
    "duration": 448,
    "start_time": "2022-05-16T18:43:37.232Z"
   },
   {
    "duration": 20,
    "start_time": "2022-05-16T18:43:37.681Z"
   },
   {
    "duration": 8,
    "start_time": "2022-05-16T18:43:37.702Z"
   },
   {
    "duration": 6,
    "start_time": "2022-05-16T18:43:37.712Z"
   },
   {
    "duration": 4,
    "start_time": "2022-05-16T18:43:37.719Z"
   },
   {
    "duration": 7,
    "start_time": "2022-05-16T18:43:37.724Z"
   },
   {
    "duration": 32,
    "start_time": "2022-05-16T18:43:37.732Z"
   },
   {
    "duration": 7,
    "start_time": "2022-05-16T18:43:37.765Z"
   },
   {
    "duration": 20,
    "start_time": "2022-05-16T18:43:37.773Z"
   },
   {
    "duration": 18,
    "start_time": "2022-05-16T18:43:37.795Z"
   },
   {
    "duration": 11,
    "start_time": "2022-05-16T18:43:37.814Z"
   },
   {
    "duration": 7,
    "start_time": "2022-05-16T18:43:37.826Z"
   },
   {
    "duration": 198,
    "start_time": "2022-05-16T18:44:33.792Z"
   },
   {
    "duration": 10,
    "start_time": "2022-05-16T18:44:43.848Z"
   },
   {
    "duration": 10,
    "start_time": "2022-05-16T18:44:52.915Z"
   },
   {
    "duration": 10,
    "start_time": "2022-05-16T18:45:00.597Z"
   },
   {
    "duration": 8,
    "start_time": "2022-05-16T18:45:07.400Z"
   },
   {
    "duration": 9,
    "start_time": "2022-05-16T18:45:11.824Z"
   },
   {
    "duration": 11,
    "start_time": "2022-05-16T18:45:18.300Z"
   },
   {
    "duration": 9,
    "start_time": "2022-05-16T18:45:26.967Z"
   },
   {
    "duration": 10,
    "start_time": "2022-05-16T18:45:37.541Z"
   },
   {
    "duration": 11,
    "start_time": "2022-05-16T18:46:44.593Z"
   },
   {
    "duration": 12,
    "start_time": "2022-05-16T18:47:01.499Z"
   },
   {
    "duration": 4,
    "start_time": "2022-05-16T18:47:54.242Z"
   },
   {
    "duration": 3,
    "start_time": "2022-05-16T18:47:59.345Z"
   },
   {
    "duration": 10,
    "start_time": "2022-05-16T18:48:31.864Z"
   },
   {
    "duration": 19,
    "start_time": "2022-05-16T18:49:49.206Z"
   },
   {
    "duration": 10,
    "start_time": "2022-05-16T18:50:35.493Z"
   },
   {
    "duration": 2348,
    "start_time": "2022-05-16T18:50:49.237Z"
   },
   {
    "duration": 16,
    "start_time": "2022-05-16T18:50:59.936Z"
   },
   {
    "duration": 16,
    "start_time": "2022-05-16T18:51:21.032Z"
   },
   {
    "duration": 11,
    "start_time": "2022-05-16T18:51:26.211Z"
   },
   {
    "duration": 4150,
    "start_time": "2022-05-16T18:51:49.973Z"
   },
   {
    "duration": 4743,
    "start_time": "2022-05-16T18:52:19.581Z"
   },
   {
    "duration": 11,
    "start_time": "2022-05-16T18:52:34.970Z"
   },
   {
    "duration": 3038,
    "start_time": "2022-05-16T18:53:03.549Z"
   },
   {
    "duration": 2924,
    "start_time": "2022-05-16T18:56:22.145Z"
   },
   {
    "duration": 2270,
    "start_time": "2022-05-16T18:56:34.722Z"
   },
   {
    "duration": 11,
    "start_time": "2022-05-16T18:57:11.129Z"
   },
   {
    "duration": 8,
    "start_time": "2022-05-16T18:57:34.679Z"
   },
   {
    "duration": 7,
    "start_time": "2022-05-16T18:57:38.612Z"
   },
   {
    "duration": 8,
    "start_time": "2022-05-16T18:57:47.685Z"
   },
   {
    "duration": 2626,
    "start_time": "2022-05-16T18:58:06.473Z"
   },
   {
    "duration": 2271,
    "start_time": "2022-05-16T18:58:38.722Z"
   },
   {
    "duration": 10,
    "start_time": "2022-05-16T18:59:06.185Z"
   },
   {
    "duration": 18,
    "start_time": "2022-05-16T18:59:20.646Z"
   },
   {
    "duration": 10,
    "start_time": "2022-05-16T18:59:24.370Z"
   },
   {
    "duration": 1030,
    "start_time": "2022-05-16T19:00:10.778Z"
   },
   {
    "duration": 112,
    "start_time": "2022-05-16T19:00:11.810Z"
   },
   {
    "duration": 11,
    "start_time": "2022-05-16T19:00:11.923Z"
   },
   {
    "duration": 11,
    "start_time": "2022-05-16T19:00:11.936Z"
   },
   {
    "duration": 9,
    "start_time": "2022-05-16T19:00:11.948Z"
   },
   {
    "duration": 9,
    "start_time": "2022-05-16T19:00:11.958Z"
   },
   {
    "duration": 23,
    "start_time": "2022-05-16T19:00:11.968Z"
   },
   {
    "duration": 4,
    "start_time": "2022-05-16T19:00:11.993Z"
   },
   {
    "duration": 14,
    "start_time": "2022-05-16T19:00:11.999Z"
   },
   {
    "duration": 4,
    "start_time": "2022-05-16T19:00:12.015Z"
   },
   {
    "duration": 13,
    "start_time": "2022-05-16T19:00:12.020Z"
   },
   {
    "duration": 298,
    "start_time": "2022-05-16T19:00:12.034Z"
   },
   {
    "duration": 18,
    "start_time": "2022-05-16T19:00:12.334Z"
   },
   {
    "duration": 3,
    "start_time": "2022-05-16T19:00:12.354Z"
   },
   {
    "duration": 11,
    "start_time": "2022-05-16T19:00:12.359Z"
   },
   {
    "duration": 5,
    "start_time": "2022-05-16T19:00:12.371Z"
   },
   {
    "duration": 150,
    "start_time": "2022-05-16T19:00:12.377Z"
   },
   {
    "duration": 114,
    "start_time": "2022-05-16T19:00:12.529Z"
   },
   {
    "duration": 6,
    "start_time": "2022-05-16T19:00:12.645Z"
   },
   {
    "duration": 8,
    "start_time": "2022-05-16T19:00:12.664Z"
   },
   {
    "duration": 251,
    "start_time": "2022-05-16T19:00:12.674Z"
   },
   {
    "duration": 177,
    "start_time": "2022-05-16T19:00:12.927Z"
   },
   {
    "duration": 262,
    "start_time": "2022-05-16T19:00:13.106Z"
   },
   {
    "duration": 201,
    "start_time": "2022-05-16T19:00:13.369Z"
   },
   {
    "duration": 299,
    "start_time": "2022-05-16T19:00:13.571Z"
   },
   {
    "duration": 6,
    "start_time": "2022-05-16T19:00:13.872Z"
   },
   {
    "duration": 125,
    "start_time": "2022-05-16T19:00:13.879Z"
   },
   {
    "duration": 4,
    "start_time": "2022-05-16T19:00:14.007Z"
   },
   {
    "duration": 133,
    "start_time": "2022-05-16T19:00:14.013Z"
   },
   {
    "duration": 4,
    "start_time": "2022-05-16T19:00:14.147Z"
   },
   {
    "duration": 454,
    "start_time": "2022-05-16T19:00:14.152Z"
   },
   {
    "duration": 20,
    "start_time": "2022-05-16T19:00:14.608Z"
   },
   {
    "duration": 9,
    "start_time": "2022-05-16T19:00:14.630Z"
   },
   {
    "duration": 28,
    "start_time": "2022-05-16T19:00:14.641Z"
   },
   {
    "duration": 5,
    "start_time": "2022-05-16T19:00:14.670Z"
   },
   {
    "duration": 8,
    "start_time": "2022-05-16T19:00:14.677Z"
   },
   {
    "duration": 6,
    "start_time": "2022-05-16T19:00:14.687Z"
   },
   {
    "duration": 12,
    "start_time": "2022-05-16T19:00:14.694Z"
   },
   {
    "duration": 30,
    "start_time": "2022-05-16T19:00:14.708Z"
   },
   {
    "duration": 39,
    "start_time": "2022-05-16T19:00:14.740Z"
   },
   {
    "duration": 12,
    "start_time": "2022-05-16T19:00:14.781Z"
   },
   {
    "duration": 8,
    "start_time": "2022-05-16T19:00:14.794Z"
   },
   {
    "duration": 4,
    "start_time": "2022-05-16T19:00:51.202Z"
   },
   {
    "duration": 5,
    "start_time": "2022-05-16T19:01:06.495Z"
   },
   {
    "duration": 11,
    "start_time": "2022-05-16T19:01:58.747Z"
   },
   {
    "duration": 10,
    "start_time": "2022-05-16T19:02:26.011Z"
   },
   {
    "duration": 10,
    "start_time": "2022-05-16T19:02:32.566Z"
   },
   {
    "duration": 3282,
    "start_time": "2022-05-16T19:03:49.907Z"
   },
   {
    "duration": 7,
    "start_time": "2022-05-16T19:04:12.507Z"
   },
   {
    "duration": 9,
    "start_time": "2022-05-16T19:04:21.804Z"
   },
   {
    "duration": 3092,
    "start_time": "2022-05-16T19:04:38.544Z"
   },
   {
    "duration": 3328,
    "start_time": "2022-05-16T19:05:05.269Z"
   },
   {
    "duration": 3432,
    "start_time": "2022-05-16T19:05:31.332Z"
   },
   {
    "duration": 3280,
    "start_time": "2022-05-16T19:05:36.246Z"
   },
   {
    "duration": 9,
    "start_time": "2022-05-16T19:06:05.076Z"
   },
   {
    "duration": 9,
    "start_time": "2022-05-16T19:06:23.924Z"
   },
   {
    "duration": 3709,
    "start_time": "2022-05-16T19:08:49.394Z"
   },
   {
    "duration": 11,
    "start_time": "2022-05-16T19:09:06.523Z"
   },
   {
    "duration": 11,
    "start_time": "2022-05-16T19:12:05.213Z"
   },
   {
    "duration": 18,
    "start_time": "2022-05-16T19:14:56.973Z"
   },
   {
    "duration": 12,
    "start_time": "2022-05-16T19:15:04.753Z"
   },
   {
    "duration": 13,
    "start_time": "2022-05-16T19:15:44.660Z"
   },
   {
    "duration": 11,
    "start_time": "2022-05-16T19:15:59.783Z"
   },
   {
    "duration": 11,
    "start_time": "2022-05-16T19:16:21.586Z"
   },
   {
    "duration": 10,
    "start_time": "2022-05-16T19:16:37.688Z"
   },
   {
    "duration": 11,
    "start_time": "2022-05-16T19:17:02.233Z"
   },
   {
    "duration": 9,
    "start_time": "2022-05-16T19:20:17.971Z"
   },
   {
    "duration": 10,
    "start_time": "2022-05-16T19:20:31.376Z"
   },
   {
    "duration": 13,
    "start_time": "2022-05-16T19:23:04.716Z"
   },
   {
    "duration": 13,
    "start_time": "2022-05-16T19:23:23.434Z"
   },
   {
    "duration": 15,
    "start_time": "2022-05-16T19:23:42.429Z"
   },
   {
    "duration": 12,
    "start_time": "2022-05-16T19:24:06.341Z"
   },
   {
    "duration": 1089,
    "start_time": "2022-05-16T19:27:20.881Z"
   },
   {
    "duration": 100,
    "start_time": "2022-05-16T19:27:21.972Z"
   },
   {
    "duration": 11,
    "start_time": "2022-05-16T19:27:22.073Z"
   },
   {
    "duration": 14,
    "start_time": "2022-05-16T19:27:22.086Z"
   },
   {
    "duration": 11,
    "start_time": "2022-05-16T19:27:22.103Z"
   },
   {
    "duration": 10,
    "start_time": "2022-05-16T19:27:22.116Z"
   },
   {
    "duration": 20,
    "start_time": "2022-05-16T19:27:22.127Z"
   },
   {
    "duration": 7,
    "start_time": "2022-05-16T19:27:22.149Z"
   },
   {
    "duration": 24,
    "start_time": "2022-05-16T19:27:22.157Z"
   },
   {
    "duration": 4,
    "start_time": "2022-05-16T19:27:22.183Z"
   },
   {
    "duration": 19,
    "start_time": "2022-05-16T19:27:22.188Z"
   },
   {
    "duration": 296,
    "start_time": "2022-05-16T19:27:22.208Z"
   },
   {
    "duration": 17,
    "start_time": "2022-05-16T19:27:22.506Z"
   },
   {
    "duration": 4,
    "start_time": "2022-05-16T19:27:22.526Z"
   },
   {
    "duration": 102,
    "start_time": "2022-05-16T19:27:22.531Z"
   },
   {
    "duration": 0,
    "start_time": "2022-05-16T19:27:22.634Z"
   },
   {
    "duration": 0,
    "start_time": "2022-05-16T19:27:22.635Z"
   },
   {
    "duration": 1,
    "start_time": "2022-05-16T19:27:22.636Z"
   },
   {
    "duration": 0,
    "start_time": "2022-05-16T19:27:22.637Z"
   },
   {
    "duration": 0,
    "start_time": "2022-05-16T19:27:22.639Z"
   },
   {
    "duration": 0,
    "start_time": "2022-05-16T19:27:22.640Z"
   },
   {
    "duration": 0,
    "start_time": "2022-05-16T19:27:22.641Z"
   },
   {
    "duration": 0,
    "start_time": "2022-05-16T19:27:22.642Z"
   },
   {
    "duration": 0,
    "start_time": "2022-05-16T19:27:22.643Z"
   },
   {
    "duration": 0,
    "start_time": "2022-05-16T19:27:22.643Z"
   },
   {
    "duration": 0,
    "start_time": "2022-05-16T19:27:22.664Z"
   },
   {
    "duration": 0,
    "start_time": "2022-05-16T19:27:22.665Z"
   },
   {
    "duration": 0,
    "start_time": "2022-05-16T19:27:22.666Z"
   },
   {
    "duration": 0,
    "start_time": "2022-05-16T19:27:22.667Z"
   },
   {
    "duration": 0,
    "start_time": "2022-05-16T19:27:22.668Z"
   },
   {
    "duration": 0,
    "start_time": "2022-05-16T19:27:22.669Z"
   },
   {
    "duration": 1,
    "start_time": "2022-05-16T19:27:22.669Z"
   },
   {
    "duration": 0,
    "start_time": "2022-05-16T19:27:22.670Z"
   },
   {
    "duration": 0,
    "start_time": "2022-05-16T19:27:22.671Z"
   },
   {
    "duration": 0,
    "start_time": "2022-05-16T19:27:22.672Z"
   },
   {
    "duration": 0,
    "start_time": "2022-05-16T19:27:22.673Z"
   },
   {
    "duration": 0,
    "start_time": "2022-05-16T19:27:22.674Z"
   },
   {
    "duration": 0,
    "start_time": "2022-05-16T19:27:22.675Z"
   },
   {
    "duration": 0,
    "start_time": "2022-05-16T19:27:22.676Z"
   },
   {
    "duration": 0,
    "start_time": "2022-05-16T19:27:22.677Z"
   },
   {
    "duration": 0,
    "start_time": "2022-05-16T19:27:22.678Z"
   },
   {
    "duration": 0,
    "start_time": "2022-05-16T19:27:22.679Z"
   },
   {
    "duration": 4,
    "start_time": "2022-05-16T19:27:52.936Z"
   },
   {
    "duration": 2,
    "start_time": "2022-05-16T19:28:05.421Z"
   },
   {
    "duration": 62,
    "start_time": "2022-05-16T19:28:05.694Z"
   },
   {
    "duration": 9,
    "start_time": "2022-05-16T19:28:06.205Z"
   },
   {
    "duration": 10,
    "start_time": "2022-05-16T19:28:06.746Z"
   },
   {
    "duration": 9,
    "start_time": "2022-05-16T19:28:07.184Z"
   },
   {
    "duration": 5,
    "start_time": "2022-05-16T19:28:07.963Z"
   },
   {
    "duration": 17,
    "start_time": "2022-05-16T19:28:08.377Z"
   },
   {
    "duration": 4,
    "start_time": "2022-05-16T19:28:10.282Z"
   },
   {
    "duration": 10,
    "start_time": "2022-05-16T19:28:10.754Z"
   },
   {
    "duration": 5,
    "start_time": "2022-05-16T19:28:12.641Z"
   },
   {
    "duration": 10,
    "start_time": "2022-05-16T19:28:13.143Z"
   },
   {
    "duration": 253,
    "start_time": "2022-05-16T19:28:15.654Z"
   },
   {
    "duration": 17,
    "start_time": "2022-05-16T19:28:18.700Z"
   },
   {
    "duration": 3,
    "start_time": "2022-05-16T19:28:19.551Z"
   },
   {
    "duration": 14,
    "start_time": "2022-05-16T19:28:23.331Z"
   },
   {
    "duration": 14,
    "start_time": "2022-05-16T19:28:39.243Z"
   },
   {
    "duration": 2365,
    "start_time": "2022-05-16T19:28:50.434Z"
   },
   {
    "duration": 14,
    "start_time": "2022-05-16T19:29:00.093Z"
   },
   {
    "duration": 13,
    "start_time": "2022-05-16T19:29:06.671Z"
   },
   {
    "duration": 6,
    "start_time": "2022-05-16T19:29:08.114Z"
   },
   {
    "duration": 208,
    "start_time": "2022-05-16T19:29:08.401Z"
   },
   {
    "duration": 962,
    "start_time": "2022-05-16T19:29:08.702Z"
   },
   {
    "duration": 8,
    "start_time": "2022-05-16T19:29:09.666Z"
   },
   {
    "duration": 13,
    "start_time": "2022-05-16T19:29:09.676Z"
   },
   {
    "duration": 358,
    "start_time": "2022-05-16T19:29:09.693Z"
   },
   {
    "duration": 181,
    "start_time": "2022-05-16T19:29:12.885Z"
   },
   {
    "duration": 327,
    "start_time": "2022-05-16T19:29:15.154Z"
   },
   {
    "duration": 191,
    "start_time": "2022-05-16T19:29:17.117Z"
   },
   {
    "duration": 270,
    "start_time": "2022-05-16T19:29:19.110Z"
   },
   {
    "duration": 6,
    "start_time": "2022-05-16T19:29:21.566Z"
   },
   {
    "duration": 110,
    "start_time": "2022-05-16T19:29:22.690Z"
   },
   {
    "duration": 4,
    "start_time": "2022-05-16T19:29:24.944Z"
   },
   {
    "duration": 119,
    "start_time": "2022-05-16T19:29:27.691Z"
   },
   {
    "duration": 4,
    "start_time": "2022-05-16T19:29:29.352Z"
   },
   {
    "duration": 10,
    "start_time": "2022-05-16T19:29:55.154Z"
   },
   {
    "duration": 6,
    "start_time": "2022-05-16T19:30:01.089Z"
   },
   {
    "duration": 214,
    "start_time": "2022-05-16T19:30:01.400Z"
   },
   {
    "duration": 107,
    "start_time": "2022-05-16T19:30:01.741Z"
   },
   {
    "duration": 6,
    "start_time": "2022-05-16T19:30:02.053Z"
   },
   {
    "duration": 7,
    "start_time": "2022-05-16T19:30:02.427Z"
   },
   {
    "duration": 180,
    "start_time": "2022-05-16T19:30:02.786Z"
   },
   {
    "duration": 168,
    "start_time": "2022-05-16T19:30:05.079Z"
   },
   {
    "duration": 301,
    "start_time": "2022-05-16T19:30:07.126Z"
   },
   {
    "duration": 192,
    "start_time": "2022-05-16T19:30:09.225Z"
   },
   {
    "duration": 282,
    "start_time": "2022-05-16T19:30:11.399Z"
   },
   {
    "duration": 6,
    "start_time": "2022-05-16T19:30:13.778Z"
   },
   {
    "duration": 109,
    "start_time": "2022-05-16T19:30:14.446Z"
   },
   {
    "duration": 4,
    "start_time": "2022-05-16T19:30:16.282Z"
   },
   {
    "duration": 122,
    "start_time": "2022-05-16T19:30:18.804Z"
   },
   {
    "duration": 5,
    "start_time": "2022-05-16T19:30:20.451Z"
   },
   {
    "duration": 8,
    "start_time": "2022-05-16T19:31:05.988Z"
   },
   {
    "duration": 4,
    "start_time": "2022-05-16T19:31:20.633Z"
   },
   {
    "duration": 10,
    "start_time": "2022-05-16T19:31:35.577Z"
   },
   {
    "duration": 9,
    "start_time": "2022-05-16T19:31:55.562Z"
   },
   {
    "duration": 11,
    "start_time": "2022-05-16T19:32:10.140Z"
   },
   {
    "duration": 12,
    "start_time": "2022-05-16T19:32:21.773Z"
   },
   {
    "duration": 3212,
    "start_time": "2022-05-16T19:32:37.701Z"
   },
   {
    "duration": 3281,
    "start_time": "2022-05-16T19:33:03.888Z"
   },
   {
    "duration": 9,
    "start_time": "2022-05-16T19:33:20.650Z"
   },
   {
    "duration": 12,
    "start_time": "2022-05-16T19:33:29.624Z"
   },
   {
    "duration": 13,
    "start_time": "2022-05-16T19:33:47.754Z"
   },
   {
    "duration": 9,
    "start_time": "2022-05-16T19:35:30.316Z"
   },
   {
    "duration": 12,
    "start_time": "2022-05-16T19:35:40.324Z"
   },
   {
    "duration": 11,
    "start_time": "2022-05-16T19:35:54.104Z"
   },
   {
    "duration": 8,
    "start_time": "2022-05-16T19:36:01.255Z"
   },
   {
    "duration": 11,
    "start_time": "2022-05-16T19:37:52.120Z"
   },
   {
    "duration": 10,
    "start_time": "2022-05-16T19:37:59.701Z"
   },
   {
    "duration": 11,
    "start_time": "2022-05-16T19:38:10.513Z"
   },
   {
    "duration": 9,
    "start_time": "2022-05-16T19:38:37.164Z"
   },
   {
    "duration": 7,
    "start_time": "2022-05-16T19:39:16.006Z"
   },
   {
    "duration": 13,
    "start_time": "2022-05-16T19:39:17.210Z"
   },
   {
    "duration": 3,
    "start_time": "2022-05-16T19:39:20.268Z"
   },
   {
    "duration": 4,
    "start_time": "2022-05-16T19:39:40.904Z"
   },
   {
    "duration": 3,
    "start_time": "2022-05-16T19:39:42.848Z"
   },
   {
    "duration": 6388,
    "start_time": "2022-05-16T19:40:25.821Z"
   },
   {
    "duration": 0,
    "start_time": "2022-05-16T19:40:32.211Z"
   },
   {
    "duration": 0,
    "start_time": "2022-05-16T19:40:32.212Z"
   },
   {
    "duration": 9,
    "start_time": "2022-05-16T19:40:38.157Z"
   },
   {
    "duration": 8,
    "start_time": "2022-05-16T19:41:18.767Z"
   },
   {
    "duration": 8,
    "start_time": "2022-05-16T19:41:30.792Z"
   },
   {
    "duration": 9,
    "start_time": "2022-05-16T19:41:56.530Z"
   },
   {
    "duration": 12,
    "start_time": "2022-05-16T19:42:17.730Z"
   },
   {
    "duration": 19,
    "start_time": "2022-05-16T19:42:47.251Z"
   },
   {
    "duration": 18,
    "start_time": "2022-05-16T19:42:56.132Z"
   },
   {
    "duration": 17,
    "start_time": "2022-05-16T19:43:26.230Z"
   },
   {
    "duration": 1982,
    "start_time": "2022-05-16T19:43:35.627Z"
   },
   {
    "duration": 792,
    "start_time": "2022-05-16T19:43:37.611Z"
   },
   {
    "duration": 11,
    "start_time": "2022-05-16T19:43:38.404Z"
   },
   {
    "duration": 11,
    "start_time": "2022-05-16T19:43:38.416Z"
   },
   {
    "duration": 9,
    "start_time": "2022-05-16T19:43:38.429Z"
   },
   {
    "duration": 7,
    "start_time": "2022-05-16T19:43:38.439Z"
   },
   {
    "duration": 17,
    "start_time": "2022-05-16T19:43:38.448Z"
   },
   {
    "duration": 5,
    "start_time": "2022-05-16T19:43:38.466Z"
   },
   {
    "duration": 11,
    "start_time": "2022-05-16T19:43:38.472Z"
   },
   {
    "duration": 3,
    "start_time": "2022-05-16T19:43:38.484Z"
   },
   {
    "duration": 10,
    "start_time": "2022-05-16T19:43:38.489Z"
   },
   {
    "duration": 296,
    "start_time": "2022-05-16T19:43:38.500Z"
   },
   {
    "duration": 18,
    "start_time": "2022-05-16T19:43:38.798Z"
   },
   {
    "duration": 4,
    "start_time": "2022-05-16T19:43:38.819Z"
   },
   {
    "duration": 91,
    "start_time": "2022-05-16T19:43:38.824Z"
   },
   {
    "duration": 0,
    "start_time": "2022-05-16T19:43:38.916Z"
   },
   {
    "duration": 0,
    "start_time": "2022-05-16T19:43:38.918Z"
   },
   {
    "duration": 0,
    "start_time": "2022-05-16T19:43:38.919Z"
   },
   {
    "duration": 0,
    "start_time": "2022-05-16T19:43:38.920Z"
   },
   {
    "duration": 0,
    "start_time": "2022-05-16T19:43:38.921Z"
   },
   {
    "duration": 0,
    "start_time": "2022-05-16T19:43:38.922Z"
   },
   {
    "duration": 0,
    "start_time": "2022-05-16T19:43:38.923Z"
   },
   {
    "duration": 0,
    "start_time": "2022-05-16T19:43:38.924Z"
   },
   {
    "duration": 0,
    "start_time": "2022-05-16T19:43:38.926Z"
   },
   {
    "duration": 0,
    "start_time": "2022-05-16T19:43:38.927Z"
   },
   {
    "duration": 0,
    "start_time": "2022-05-16T19:43:38.928Z"
   },
   {
    "duration": 0,
    "start_time": "2022-05-16T19:43:38.929Z"
   },
   {
    "duration": 0,
    "start_time": "2022-05-16T19:43:38.930Z"
   },
   {
    "duration": 0,
    "start_time": "2022-05-16T19:43:38.931Z"
   },
   {
    "duration": 0,
    "start_time": "2022-05-16T19:43:38.932Z"
   },
   {
    "duration": 0,
    "start_time": "2022-05-16T19:43:38.933Z"
   },
   {
    "duration": 0,
    "start_time": "2022-05-16T19:43:38.934Z"
   },
   {
    "duration": 0,
    "start_time": "2022-05-16T19:43:38.963Z"
   },
   {
    "duration": 0,
    "start_time": "2022-05-16T19:43:38.964Z"
   },
   {
    "duration": 0,
    "start_time": "2022-05-16T19:43:38.965Z"
   },
   {
    "duration": 0,
    "start_time": "2022-05-16T19:43:38.966Z"
   },
   {
    "duration": 0,
    "start_time": "2022-05-16T19:43:38.967Z"
   },
   {
    "duration": 0,
    "start_time": "2022-05-16T19:43:38.968Z"
   },
   {
    "duration": 0,
    "start_time": "2022-05-16T19:43:38.969Z"
   },
   {
    "duration": 0,
    "start_time": "2022-05-16T19:43:38.970Z"
   },
   {
    "duration": 0,
    "start_time": "2022-05-16T19:43:38.971Z"
   },
   {
    "duration": 0,
    "start_time": "2022-05-16T19:43:38.972Z"
   },
   {
    "duration": 3216,
    "start_time": "2022-05-16T19:44:13.267Z"
   },
   {
    "duration": 25,
    "start_time": "2022-05-16T19:44:35.814Z"
   },
   {
    "duration": 12,
    "start_time": "2022-05-16T19:44:50.091Z"
   },
   {
    "duration": 1914,
    "start_time": "2022-05-16T19:45:08.812Z"
   },
   {
    "duration": 183,
    "start_time": "2022-05-16T19:45:10.730Z"
   },
   {
    "duration": 22,
    "start_time": "2022-05-16T19:45:10.916Z"
   },
   {
    "duration": 19,
    "start_time": "2022-05-16T19:45:10.940Z"
   },
   {
    "duration": 12,
    "start_time": "2022-05-16T19:45:10.962Z"
   },
   {
    "duration": 8,
    "start_time": "2022-05-16T19:45:10.976Z"
   },
   {
    "duration": 21,
    "start_time": "2022-05-16T19:45:10.985Z"
   },
   {
    "duration": 7,
    "start_time": "2022-05-16T19:45:11.007Z"
   },
   {
    "duration": 16,
    "start_time": "2022-05-16T19:45:11.016Z"
   },
   {
    "duration": 4,
    "start_time": "2022-05-16T19:45:11.034Z"
   },
   {
    "duration": 10,
    "start_time": "2022-05-16T19:45:11.065Z"
   },
   {
    "duration": 324,
    "start_time": "2022-05-16T19:45:11.077Z"
   },
   {
    "duration": 17,
    "start_time": "2022-05-16T19:45:11.402Z"
   },
   {
    "duration": 3,
    "start_time": "2022-05-16T19:45:11.422Z"
   },
   {
    "duration": 11,
    "start_time": "2022-05-16T19:45:11.427Z"
   },
   {
    "duration": 5,
    "start_time": "2022-05-16T19:45:11.440Z"
   },
   {
    "duration": 171,
    "start_time": "2022-05-16T19:45:11.446Z"
   },
   {
    "duration": 128,
    "start_time": "2022-05-16T19:45:11.619Z"
   },
   {
    "duration": 26,
    "start_time": "2022-05-16T19:45:11.749Z"
   },
   {
    "duration": 9,
    "start_time": "2022-05-16T19:45:11.777Z"
   },
   {
    "duration": 249,
    "start_time": "2022-05-16T19:45:11.788Z"
   },
   {
    "duration": 202,
    "start_time": "2022-05-16T19:45:12.038Z"
   },
   {
    "duration": 305,
    "start_time": "2022-05-16T19:45:12.242Z"
   },
   {
    "duration": 212,
    "start_time": "2022-05-16T19:45:12.549Z"
   },
   {
    "duration": 319,
    "start_time": "2022-05-16T19:45:12.764Z"
   },
   {
    "duration": 7,
    "start_time": "2022-05-16T19:45:13.084Z"
   },
   {
    "duration": 132,
    "start_time": "2022-05-16T19:45:13.093Z"
   },
   {
    "duration": 4,
    "start_time": "2022-05-16T19:45:13.227Z"
   },
   {
    "duration": 145,
    "start_time": "2022-05-16T19:45:13.233Z"
   },
   {
    "duration": 4,
    "start_time": "2022-05-16T19:45:13.379Z"
   },
   {
    "duration": 514,
    "start_time": "2022-05-16T19:45:13.385Z"
   },
   {
    "duration": 24,
    "start_time": "2022-05-16T19:45:13.901Z"
   },
   {
    "duration": 12,
    "start_time": "2022-05-16T19:45:13.927Z"
   },
   {
    "duration": 9,
    "start_time": "2022-05-16T19:45:13.963Z"
   },
   {
    "duration": 6,
    "start_time": "2022-05-16T19:45:13.973Z"
   },
   {
    "duration": 7,
    "start_time": "2022-05-16T19:45:13.981Z"
   },
   {
    "duration": 6,
    "start_time": "2022-05-16T19:45:13.990Z"
   },
   {
    "duration": 8,
    "start_time": "2022-05-16T19:45:13.998Z"
   },
   {
    "duration": 59,
    "start_time": "2022-05-16T19:45:14.008Z"
   },
   {
    "duration": 22,
    "start_time": "2022-05-16T19:45:14.069Z"
   },
   {
    "duration": 15,
    "start_time": "2022-05-16T19:45:14.095Z"
   },
   {
    "duration": 9,
    "start_time": "2022-05-16T19:45:14.112Z"
   },
   {
    "duration": 5,
    "start_time": "2022-05-16T19:45:21.507Z"
   },
   {
    "duration": 4,
    "start_time": "2022-05-16T19:45:25.176Z"
   },
   {
    "duration": 15,
    "start_time": "2022-05-16T19:45:35.926Z"
   },
   {
    "duration": 1030,
    "start_time": "2022-05-16T19:46:20.799Z"
   },
   {
    "duration": 107,
    "start_time": "2022-05-16T19:46:21.831Z"
   },
   {
    "duration": 12,
    "start_time": "2022-05-16T19:46:21.940Z"
   },
   {
    "duration": 12,
    "start_time": "2022-05-16T19:46:21.954Z"
   },
   {
    "duration": 10,
    "start_time": "2022-05-16T19:46:21.969Z"
   },
   {
    "duration": 6,
    "start_time": "2022-05-16T19:46:21.981Z"
   },
   {
    "duration": 18,
    "start_time": "2022-05-16T19:46:21.988Z"
   },
   {
    "duration": 5,
    "start_time": "2022-05-16T19:46:22.008Z"
   },
   {
    "duration": 13,
    "start_time": "2022-05-16T19:46:22.014Z"
   },
   {
    "duration": 4,
    "start_time": "2022-05-16T19:46:22.029Z"
   },
   {
    "duration": 10,
    "start_time": "2022-05-16T19:46:22.065Z"
   },
   {
    "duration": 307,
    "start_time": "2022-05-16T19:46:22.077Z"
   },
   {
    "duration": 18,
    "start_time": "2022-05-16T19:46:22.387Z"
   },
   {
    "duration": 4,
    "start_time": "2022-05-16T19:46:22.408Z"
   },
   {
    "duration": 17,
    "start_time": "2022-05-16T19:46:22.413Z"
   },
   {
    "duration": 6,
    "start_time": "2022-05-16T19:46:22.431Z"
   },
   {
    "duration": 181,
    "start_time": "2022-05-16T19:46:22.438Z"
   },
   {
    "duration": 120,
    "start_time": "2022-05-16T19:46:22.620Z"
   },
   {
    "duration": 7,
    "start_time": "2022-05-16T19:46:22.741Z"
   },
   {
    "duration": 15,
    "start_time": "2022-05-16T19:46:22.749Z"
   },
   {
    "duration": 258,
    "start_time": "2022-05-16T19:46:22.766Z"
   },
   {
    "duration": 309,
    "start_time": "2022-05-16T19:46:23.026Z"
   },
   {
    "duration": 404,
    "start_time": "2022-05-16T19:46:23.336Z"
   },
   {
    "duration": 332,
    "start_time": "2022-05-16T19:46:23.742Z"
   },
   {
    "duration": 409,
    "start_time": "2022-05-16T19:46:24.076Z"
   },
   {
    "duration": 11,
    "start_time": "2022-05-16T19:46:24.487Z"
   },
   {
    "duration": 194,
    "start_time": "2022-05-16T19:46:24.499Z"
   },
   {
    "duration": 5,
    "start_time": "2022-05-16T19:46:24.695Z"
   },
   {
    "duration": 210,
    "start_time": "2022-05-16T19:46:24.702Z"
   },
   {
    "duration": 6,
    "start_time": "2022-05-16T19:46:24.914Z"
   },
   {
    "duration": 877,
    "start_time": "2022-05-16T19:46:24.922Z"
   },
   {
    "duration": 34,
    "start_time": "2022-05-16T19:46:25.801Z"
   },
   {
    "duration": 27,
    "start_time": "2022-05-16T19:46:25.837Z"
   },
   {
    "duration": 9,
    "start_time": "2022-05-16T19:46:25.866Z"
   },
   {
    "duration": 5,
    "start_time": "2022-05-16T19:46:25.877Z"
   },
   {
    "duration": 10,
    "start_time": "2022-05-16T19:46:25.884Z"
   },
   {
    "duration": 8,
    "start_time": "2022-05-16T19:46:25.896Z"
   },
   {
    "duration": 10,
    "start_time": "2022-05-16T19:46:25.906Z"
   },
   {
    "duration": 55,
    "start_time": "2022-05-16T19:46:25.918Z"
   },
   {
    "duration": 22,
    "start_time": "2022-05-16T19:46:25.974Z"
   },
   {
    "duration": 13,
    "start_time": "2022-05-16T19:46:25.999Z"
   },
   {
    "duration": 11,
    "start_time": "2022-05-16T19:46:26.013Z"
   },
   {
    "duration": 4,
    "start_time": "2022-05-16T19:46:30.668Z"
   },
   {
    "duration": 4,
    "start_time": "2022-05-16T19:46:34.373Z"
   },
   {
    "duration": 18,
    "start_time": "2022-05-16T19:47:48.217Z"
   },
   {
    "duration": 1015,
    "start_time": "2022-05-16T19:47:59.419Z"
   },
   {
    "duration": 109,
    "start_time": "2022-05-16T19:48:00.436Z"
   },
   {
    "duration": 11,
    "start_time": "2022-05-16T19:48:00.546Z"
   },
   {
    "duration": 14,
    "start_time": "2022-05-16T19:48:00.559Z"
   },
   {
    "duration": 13,
    "start_time": "2022-05-16T19:48:00.574Z"
   },
   {
    "duration": 10,
    "start_time": "2022-05-16T19:48:00.589Z"
   },
   {
    "duration": 18,
    "start_time": "2022-05-16T19:48:00.600Z"
   },
   {
    "duration": 7,
    "start_time": "2022-05-16T19:48:00.619Z"
   },
   {
    "duration": 12,
    "start_time": "2022-05-16T19:48:00.627Z"
   },
   {
    "duration": 11,
    "start_time": "2022-05-16T19:48:00.641Z"
   },
   {
    "duration": 11,
    "start_time": "2022-05-16T19:48:00.654Z"
   },
   {
    "duration": 294,
    "start_time": "2022-05-16T19:48:00.667Z"
   },
   {
    "duration": 17,
    "start_time": "2022-05-16T19:48:00.962Z"
   },
   {
    "duration": 4,
    "start_time": "2022-05-16T19:48:00.980Z"
   },
   {
    "duration": 27,
    "start_time": "2022-05-16T19:48:00.985Z"
   },
   {
    "duration": 15,
    "start_time": "2022-05-16T19:48:01.013Z"
   },
   {
    "duration": 174,
    "start_time": "2022-05-16T19:48:01.029Z"
   },
   {
    "duration": 116,
    "start_time": "2022-05-16T19:48:01.205Z"
   },
   {
    "duration": 5,
    "start_time": "2022-05-16T19:48:01.323Z"
   },
   {
    "duration": 21,
    "start_time": "2022-05-16T19:48:01.330Z"
   },
   {
    "duration": 240,
    "start_time": "2022-05-16T19:48:01.353Z"
   },
   {
    "duration": 179,
    "start_time": "2022-05-16T19:48:01.595Z"
   },
   {
    "duration": 289,
    "start_time": "2022-05-16T19:48:01.776Z"
   },
   {
    "duration": 216,
    "start_time": "2022-05-16T19:48:02.067Z"
   },
   {
    "duration": 297,
    "start_time": "2022-05-16T19:48:02.285Z"
   },
   {
    "duration": 8,
    "start_time": "2022-05-16T19:48:02.583Z"
   },
   {
    "duration": 129,
    "start_time": "2022-05-16T19:48:02.593Z"
   },
   {
    "duration": 3,
    "start_time": "2022-05-16T19:48:02.727Z"
   },
   {
    "duration": 132,
    "start_time": "2022-05-16T19:48:02.732Z"
   },
   {
    "duration": 6,
    "start_time": "2022-05-16T19:48:02.865Z"
   },
   {
    "duration": 449,
    "start_time": "2022-05-16T19:48:02.872Z"
   },
   {
    "duration": 22,
    "start_time": "2022-05-16T19:48:03.322Z"
   },
   {
    "duration": 24,
    "start_time": "2022-05-16T19:48:03.345Z"
   },
   {
    "duration": 6,
    "start_time": "2022-05-16T19:48:03.371Z"
   },
   {
    "duration": 4,
    "start_time": "2022-05-16T19:48:03.379Z"
   },
   {
    "duration": 11,
    "start_time": "2022-05-16T19:48:03.384Z"
   },
   {
    "duration": 8,
    "start_time": "2022-05-16T19:48:03.397Z"
   },
   {
    "duration": 10,
    "start_time": "2022-05-16T19:48:03.407Z"
   },
   {
    "duration": 29,
    "start_time": "2022-05-16T19:48:03.419Z"
   },
   {
    "duration": 28,
    "start_time": "2022-05-16T19:48:03.449Z"
   },
   {
    "duration": 13,
    "start_time": "2022-05-16T19:48:03.478Z"
   },
   {
    "duration": 8,
    "start_time": "2022-05-16T19:48:03.492Z"
   },
   {
    "duration": 18,
    "start_time": "2022-05-16T19:48:35.951Z"
   },
   {
    "duration": 84,
    "start_time": "2022-05-16T19:48:51.989Z"
   },
   {
    "duration": 6,
    "start_time": "2022-05-16T19:48:54.565Z"
   },
   {
    "duration": 153,
    "start_time": "2022-05-16T19:48:54.904Z"
   },
   {
    "duration": 110,
    "start_time": "2022-05-16T19:48:55.242Z"
   },
   {
    "duration": 6,
    "start_time": "2022-05-16T19:48:55.608Z"
   },
   {
    "duration": 5,
    "start_time": "2022-05-16T19:48:55.996Z"
   },
   {
    "duration": 165,
    "start_time": "2022-05-16T19:48:56.247Z"
   },
   {
    "duration": 169,
    "start_time": "2022-05-16T19:48:59.321Z"
   },
   {
    "duration": 271,
    "start_time": "2022-05-16T19:49:01.020Z"
   },
   {
    "duration": 184,
    "start_time": "2022-05-16T19:49:02.653Z"
   },
   {
    "duration": 276,
    "start_time": "2022-05-16T19:49:04.183Z"
   },
   {
    "duration": 7,
    "start_time": "2022-05-16T19:49:05.822Z"
   },
   {
    "duration": 115,
    "start_time": "2022-05-16T19:49:06.184Z"
   },
   {
    "duration": 1392,
    "start_time": "2022-05-16T19:49:37.400Z"
   },
   {
    "duration": 145,
    "start_time": "2022-05-16T19:49:38.795Z"
   },
   {
    "duration": 13,
    "start_time": "2022-05-16T19:49:38.941Z"
   },
   {
    "duration": 10,
    "start_time": "2022-05-16T19:49:38.956Z"
   },
   {
    "duration": 10,
    "start_time": "2022-05-16T19:49:38.967Z"
   },
   {
    "duration": 8,
    "start_time": "2022-05-16T19:49:38.978Z"
   },
   {
    "duration": 19,
    "start_time": "2022-05-16T19:49:38.987Z"
   },
   {
    "duration": 7,
    "start_time": "2022-05-16T19:49:39.007Z"
   },
   {
    "duration": 12,
    "start_time": "2022-05-16T19:49:39.015Z"
   },
   {
    "duration": 3,
    "start_time": "2022-05-16T19:49:39.030Z"
   },
   {
    "duration": 9,
    "start_time": "2022-05-16T19:49:39.064Z"
   },
   {
    "duration": 314,
    "start_time": "2022-05-16T19:49:39.075Z"
   },
   {
    "duration": 19,
    "start_time": "2022-05-16T19:49:39.391Z"
   },
   {
    "duration": 3,
    "start_time": "2022-05-16T19:49:39.412Z"
   },
   {
    "duration": 7,
    "start_time": "2022-05-16T19:49:39.417Z"
   },
   {
    "duration": 155,
    "start_time": "2022-05-16T19:49:39.426Z"
   },
   {
    "duration": 123,
    "start_time": "2022-05-16T19:49:39.583Z"
   },
   {
    "duration": 5,
    "start_time": "2022-05-16T19:49:39.708Z"
   },
   {
    "duration": 7,
    "start_time": "2022-05-16T19:49:39.715Z"
   },
   {
    "duration": 249,
    "start_time": "2022-05-16T19:49:39.724Z"
   },
   {
    "duration": 190,
    "start_time": "2022-05-16T19:49:39.974Z"
   },
   {
    "duration": 280,
    "start_time": "2022-05-16T19:49:40.165Z"
   },
   {
    "duration": 196,
    "start_time": "2022-05-16T19:49:40.447Z"
   },
   {
    "duration": 335,
    "start_time": "2022-05-16T19:49:40.645Z"
   },
   {
    "duration": 7,
    "start_time": "2022-05-16T19:49:40.981Z"
   },
   {
    "duration": 123,
    "start_time": "2022-05-16T19:49:40.989Z"
   },
   {
    "duration": 4,
    "start_time": "2022-05-16T19:49:41.114Z"
   },
   {
    "duration": 130,
    "start_time": "2022-05-16T19:49:41.121Z"
   },
   {
    "duration": 4,
    "start_time": "2022-05-16T19:49:41.253Z"
   },
   {
    "duration": 452,
    "start_time": "2022-05-16T19:49:41.264Z"
   },
   {
    "duration": 20,
    "start_time": "2022-05-16T19:49:41.718Z"
   },
   {
    "duration": 27,
    "start_time": "2022-05-16T19:49:41.740Z"
   },
   {
    "duration": 8,
    "start_time": "2022-05-16T19:49:41.768Z"
   },
   {
    "duration": 5,
    "start_time": "2022-05-16T19:49:41.777Z"
   },
   {
    "duration": 7,
    "start_time": "2022-05-16T19:49:41.783Z"
   },
   {
    "duration": 5,
    "start_time": "2022-05-16T19:49:41.791Z"
   },
   {
    "duration": 7,
    "start_time": "2022-05-16T19:49:41.798Z"
   },
   {
    "duration": 66,
    "start_time": "2022-05-16T19:49:41.807Z"
   },
   {
    "duration": 33,
    "start_time": "2022-05-16T19:49:41.875Z"
   },
   {
    "duration": 14,
    "start_time": "2022-05-16T19:49:41.910Z"
   },
   {
    "duration": 9,
    "start_time": "2022-05-16T19:49:41.926Z"
   },
   {
    "duration": 4,
    "start_time": "2022-05-16T19:50:04.721Z"
   },
   {
    "duration": 4,
    "start_time": "2022-05-16T19:50:12.755Z"
   },
   {
    "duration": 21,
    "start_time": "2022-05-16T19:50:29.856Z"
   },
   {
    "duration": 99,
    "start_time": "2022-05-16T19:50:49.245Z"
   },
   {
    "duration": 102,
    "start_time": "2022-05-16T19:50:59.934Z"
   },
   {
    "duration": 25,
    "start_time": "2022-05-16T19:51:11.884Z"
   },
   {
    "duration": 24,
    "start_time": "2022-05-16T19:51:33.047Z"
   },
   {
    "duration": 6,
    "start_time": "2022-05-16T19:51:35.879Z"
   },
   {
    "duration": 155,
    "start_time": "2022-05-16T19:51:36.401Z"
   },
   {
    "duration": 111,
    "start_time": "2022-05-16T19:51:36.804Z"
   },
   {
    "duration": 6,
    "start_time": "2022-05-16T19:51:37.196Z"
   },
   {
    "duration": 6,
    "start_time": "2022-05-16T19:51:37.809Z"
   },
   {
    "duration": 172,
    "start_time": "2022-05-16T19:51:38.644Z"
   },
   {
    "duration": 171,
    "start_time": "2022-05-16T19:51:42.024Z"
   },
   {
    "duration": 269,
    "start_time": "2022-05-16T19:51:44.287Z"
   },
   {
    "duration": 191,
    "start_time": "2022-05-16T19:51:47.236Z"
   },
   {
    "duration": 329,
    "start_time": "2022-05-16T19:51:49.926Z"
   },
   {
    "duration": 7,
    "start_time": "2022-05-16T19:51:52.324Z"
   },
   {
    "duration": 112,
    "start_time": "2022-05-16T19:51:53.501Z"
   },
   {
    "duration": 4,
    "start_time": "2022-05-16T19:52:03.609Z"
   },
   {
    "duration": 111,
    "start_time": "2022-05-16T19:52:06.030Z"
   },
   {
    "duration": 4,
    "start_time": "2022-05-16T19:52:07.569Z"
   },
   {
    "duration": 2674,
    "start_time": "2022-05-16T19:53:23.752Z"
   },
   {
    "duration": 24,
    "start_time": "2022-05-16T19:53:32.089Z"
   },
   {
    "duration": 22,
    "start_time": "2022-05-16T19:53:38.054Z"
   },
   {
    "duration": 6,
    "start_time": "2022-05-16T19:53:39.988Z"
   },
   {
    "duration": 151,
    "start_time": "2022-05-16T19:53:40.517Z"
   },
   {
    "duration": 114,
    "start_time": "2022-05-16T19:53:40.891Z"
   },
   {
    "duration": 6,
    "start_time": "2022-05-16T19:53:41.218Z"
   },
   {
    "duration": 7,
    "start_time": "2022-05-16T19:53:41.569Z"
   },
   {
    "duration": 176,
    "start_time": "2022-05-16T19:53:41.936Z"
   },
   {
    "duration": 166,
    "start_time": "2022-05-16T19:53:45.340Z"
   },
   {
    "duration": 281,
    "start_time": "2022-05-16T19:53:47.160Z"
   },
   {
    "duration": 262,
    "start_time": "2022-05-16T19:53:48.812Z"
   },
   {
    "duration": 302,
    "start_time": "2022-05-16T19:53:51.131Z"
   },
   {
    "duration": 7,
    "start_time": "2022-05-16T19:53:53.537Z"
   },
   {
    "duration": 118,
    "start_time": "2022-05-16T19:53:54.025Z"
   },
   {
    "duration": 25,
    "start_time": "2022-05-16T19:54:26.387Z"
   },
   {
    "duration": 23,
    "start_time": "2022-05-16T19:54:52.498Z"
   },
   {
    "duration": 21,
    "start_time": "2022-05-16T19:54:58.015Z"
   },
   {
    "duration": 1058,
    "start_time": "2022-05-16T19:55:08.074Z"
   },
   {
    "duration": 112,
    "start_time": "2022-05-16T19:55:09.134Z"
   },
   {
    "duration": 10,
    "start_time": "2022-05-16T19:55:09.248Z"
   },
   {
    "duration": 12,
    "start_time": "2022-05-16T19:55:09.261Z"
   },
   {
    "duration": 12,
    "start_time": "2022-05-16T19:55:09.274Z"
   },
   {
    "duration": 7,
    "start_time": "2022-05-16T19:55:09.287Z"
   },
   {
    "duration": 17,
    "start_time": "2022-05-16T19:55:09.296Z"
   },
   {
    "duration": 7,
    "start_time": "2022-05-16T19:55:09.315Z"
   },
   {
    "duration": 16,
    "start_time": "2022-05-16T19:55:09.324Z"
   },
   {
    "duration": 4,
    "start_time": "2022-05-16T19:55:09.343Z"
   },
   {
    "duration": 11,
    "start_time": "2022-05-16T19:55:09.364Z"
   },
   {
    "duration": 312,
    "start_time": "2022-05-16T19:55:09.376Z"
   },
   {
    "duration": 18,
    "start_time": "2022-05-16T19:55:09.690Z"
   },
   {
    "duration": 6,
    "start_time": "2022-05-16T19:55:09.709Z"
   },
   {
    "duration": 22,
    "start_time": "2022-05-16T19:55:09.717Z"
   },
   {
    "duration": 5,
    "start_time": "2022-05-16T19:55:09.741Z"
   },
   {
    "duration": 173,
    "start_time": "2022-05-16T19:55:09.747Z"
   },
   {
    "duration": 129,
    "start_time": "2022-05-16T19:55:09.922Z"
   },
   {
    "duration": 15,
    "start_time": "2022-05-16T19:55:10.053Z"
   },
   {
    "duration": 16,
    "start_time": "2022-05-16T19:55:10.070Z"
   },
   {
    "duration": 251,
    "start_time": "2022-05-16T19:55:10.088Z"
   },
   {
    "duration": 204,
    "start_time": "2022-05-16T19:55:10.341Z"
   },
   {
    "duration": 301,
    "start_time": "2022-05-16T19:55:10.547Z"
   },
   {
    "duration": 216,
    "start_time": "2022-05-16T19:55:10.850Z"
   },
   {
    "duration": 306,
    "start_time": "2022-05-16T19:55:11.068Z"
   },
   {
    "duration": 7,
    "start_time": "2022-05-16T19:55:11.375Z"
   },
   {
    "duration": 126,
    "start_time": "2022-05-16T19:55:11.384Z"
   },
   {
    "duration": 3,
    "start_time": "2022-05-16T19:55:11.514Z"
   },
   {
    "duration": 138,
    "start_time": "2022-05-16T19:55:11.519Z"
   },
   {
    "duration": 8,
    "start_time": "2022-05-16T19:55:11.658Z"
   },
   {
    "duration": 480,
    "start_time": "2022-05-16T19:55:11.667Z"
   },
   {
    "duration": 30,
    "start_time": "2022-05-16T19:55:12.149Z"
   },
   {
    "duration": 12,
    "start_time": "2022-05-16T19:55:12.180Z"
   },
   {
    "duration": 8,
    "start_time": "2022-05-16T19:55:12.193Z"
   },
   {
    "duration": 10,
    "start_time": "2022-05-16T19:55:12.203Z"
   },
   {
    "duration": 8,
    "start_time": "2022-05-16T19:55:12.215Z"
   },
   {
    "duration": 8,
    "start_time": "2022-05-16T19:55:12.225Z"
   },
   {
    "duration": 36,
    "start_time": "2022-05-16T19:55:12.235Z"
   },
   {
    "duration": 26,
    "start_time": "2022-05-16T19:55:12.273Z"
   },
   {
    "duration": 22,
    "start_time": "2022-05-16T19:55:12.300Z"
   },
   {
    "duration": 13,
    "start_time": "2022-05-16T19:55:12.324Z"
   },
   {
    "duration": 29,
    "start_time": "2022-05-16T19:55:12.338Z"
   },
   {
    "duration": 4,
    "start_time": "2022-05-16T19:55:14.543Z"
   },
   {
    "duration": 5,
    "start_time": "2022-05-16T19:55:19.651Z"
   },
   {
    "duration": 193,
    "start_time": "2022-05-16T19:55:29.965Z"
   },
   {
    "duration": 4,
    "start_time": "2022-05-16T19:55:33.799Z"
   },
   {
    "duration": 18,
    "start_time": "2022-05-16T19:57:49.774Z"
   },
   {
    "duration": 19,
    "start_time": "2022-05-16T19:59:08.795Z"
   },
   {
    "duration": 1006,
    "start_time": "2022-05-16T19:59:18.618Z"
   },
   {
    "duration": 108,
    "start_time": "2022-05-16T19:59:19.626Z"
   },
   {
    "duration": 10,
    "start_time": "2022-05-16T19:59:19.736Z"
   },
   {
    "duration": 11,
    "start_time": "2022-05-16T19:59:19.749Z"
   },
   {
    "duration": 10,
    "start_time": "2022-05-16T19:59:19.761Z"
   },
   {
    "duration": 7,
    "start_time": "2022-05-16T19:59:19.772Z"
   },
   {
    "duration": 17,
    "start_time": "2022-05-16T19:59:19.780Z"
   },
   {
    "duration": 6,
    "start_time": "2022-05-16T19:59:19.798Z"
   },
   {
    "duration": 12,
    "start_time": "2022-05-16T19:59:19.806Z"
   },
   {
    "duration": 3,
    "start_time": "2022-05-16T19:59:19.820Z"
   },
   {
    "duration": 12,
    "start_time": "2022-05-16T19:59:19.824Z"
   },
   {
    "duration": 303,
    "start_time": "2022-05-16T19:59:19.837Z"
   },
   {
    "duration": 17,
    "start_time": "2022-05-16T19:59:20.142Z"
   },
   {
    "duration": 3,
    "start_time": "2022-05-16T19:59:20.160Z"
   },
   {
    "duration": 21,
    "start_time": "2022-05-16T19:59:20.164Z"
   },
   {
    "duration": 5,
    "start_time": "2022-05-16T19:59:20.186Z"
   },
   {
    "duration": 175,
    "start_time": "2022-05-16T19:59:20.192Z"
   },
   {
    "duration": 125,
    "start_time": "2022-05-16T19:59:20.369Z"
   },
   {
    "duration": 11,
    "start_time": "2022-05-16T19:59:20.495Z"
   },
   {
    "duration": 7,
    "start_time": "2022-05-16T19:59:20.508Z"
   },
   {
    "duration": 253,
    "start_time": "2022-05-16T19:59:20.517Z"
   },
   {
    "duration": 199,
    "start_time": "2022-05-16T19:59:20.773Z"
   },
   {
    "duration": 281,
    "start_time": "2022-05-16T19:59:20.974Z"
   },
   {
    "duration": 207,
    "start_time": "2022-05-16T19:59:21.257Z"
   },
   {
    "duration": 310,
    "start_time": "2022-05-16T19:59:21.466Z"
   },
   {
    "duration": 6,
    "start_time": "2022-05-16T19:59:21.778Z"
   },
   {
    "duration": 131,
    "start_time": "2022-05-16T19:59:21.786Z"
   },
   {
    "duration": 4,
    "start_time": "2022-05-16T19:59:21.920Z"
   },
   {
    "duration": 131,
    "start_time": "2022-05-16T19:59:21.925Z"
   },
   {
    "duration": 7,
    "start_time": "2022-05-16T19:59:22.058Z"
   },
   {
    "duration": 445,
    "start_time": "2022-05-16T19:59:22.066Z"
   },
   {
    "duration": 20,
    "start_time": "2022-05-16T19:59:22.513Z"
   },
   {
    "duration": 9,
    "start_time": "2022-05-16T19:59:22.534Z"
   },
   {
    "duration": 24,
    "start_time": "2022-05-16T19:59:22.545Z"
   },
   {
    "duration": 16,
    "start_time": "2022-05-16T19:59:22.571Z"
   },
   {
    "duration": 8,
    "start_time": "2022-05-16T19:59:22.589Z"
   },
   {
    "duration": 20,
    "start_time": "2022-05-16T19:59:22.598Z"
   },
   {
    "duration": 8,
    "start_time": "2022-05-16T19:59:22.620Z"
   },
   {
    "duration": 24,
    "start_time": "2022-05-16T19:59:22.629Z"
   },
   {
    "duration": 23,
    "start_time": "2022-05-16T19:59:22.654Z"
   },
   {
    "duration": 11,
    "start_time": "2022-05-16T19:59:22.679Z"
   },
   {
    "duration": 7,
    "start_time": "2022-05-16T19:59:22.691Z"
   },
   {
    "duration": 4,
    "start_time": "2022-05-16T19:59:25.394Z"
   },
   {
    "duration": 24,
    "start_time": "2022-05-16T20:00:08.554Z"
   },
   {
    "duration": 3,
    "start_time": "2022-05-16T20:00:29.166Z"
   },
   {
    "duration": 60,
    "start_time": "2022-05-16T20:00:29.516Z"
   },
   {
    "duration": 9,
    "start_time": "2022-05-16T20:00:30.202Z"
   },
   {
    "duration": 10,
    "start_time": "2022-05-16T20:00:32.744Z"
   },
   {
    "duration": 9,
    "start_time": "2022-05-16T20:00:33.236Z"
   },
   {
    "duration": 5,
    "start_time": "2022-05-16T20:00:34.096Z"
   },
   {
    "duration": 15,
    "start_time": "2022-05-16T20:00:34.512Z"
   },
   {
    "duration": 4,
    "start_time": "2022-05-16T20:00:36.326Z"
   },
   {
    "duration": 8,
    "start_time": "2022-05-16T20:00:36.744Z"
   },
   {
    "duration": 4,
    "start_time": "2022-05-16T20:00:38.062Z"
   },
   {
    "duration": 8,
    "start_time": "2022-05-16T20:00:38.459Z"
   },
   {
    "duration": 300,
    "start_time": "2022-05-16T20:00:40.186Z"
   },
   {
    "duration": 16,
    "start_time": "2022-05-16T20:00:42.350Z"
   },
   {
    "duration": 4,
    "start_time": "2022-05-16T20:00:44.444Z"
   },
   {
    "duration": 23,
    "start_time": "2022-05-16T20:00:44.859Z"
   },
   {
    "duration": 6,
    "start_time": "2022-05-16T20:00:47.614Z"
   },
   {
    "duration": 152,
    "start_time": "2022-05-16T20:00:47.886Z"
   },
   {
    "duration": 109,
    "start_time": "2022-05-16T20:00:48.183Z"
   },
   {
    "duration": 8,
    "start_time": "2022-05-16T20:00:48.459Z"
   },
   {
    "duration": 7,
    "start_time": "2022-05-16T20:00:48.768Z"
   },
   {
    "duration": 169,
    "start_time": "2022-05-16T20:00:49.047Z"
   },
   {
    "duration": 169,
    "start_time": "2022-05-16T20:00:50.774Z"
   },
   {
    "duration": 285,
    "start_time": "2022-05-16T20:00:52.385Z"
   },
   {
    "duration": 179,
    "start_time": "2022-05-16T20:00:54.002Z"
   },
   {
    "duration": 326,
    "start_time": "2022-05-16T20:00:55.753Z"
   },
   {
    "duration": 7,
    "start_time": "2022-05-16T20:00:57.301Z"
   },
   {
    "duration": 112,
    "start_time": "2022-05-16T20:00:57.721Z"
   },
   {
    "duration": 4,
    "start_time": "2022-05-16T20:01:02.324Z"
   },
   {
    "duration": 113,
    "start_time": "2022-05-16T20:01:09.008Z"
   },
   {
    "duration": 4,
    "start_time": "2022-05-16T20:01:10.499Z"
   },
   {
    "duration": 24,
    "start_time": "2022-05-16T20:04:08.810Z"
   },
   {
    "duration": 24,
    "start_time": "2022-05-16T20:04:21.325Z"
   },
   {
    "duration": 1022,
    "start_time": "2022-05-16T20:04:28.089Z"
   },
   {
    "duration": 111,
    "start_time": "2022-05-16T20:04:29.113Z"
   },
   {
    "duration": 10,
    "start_time": "2022-05-16T20:04:29.225Z"
   },
   {
    "duration": 12,
    "start_time": "2022-05-16T20:04:29.237Z"
   },
   {
    "duration": 10,
    "start_time": "2022-05-16T20:04:29.250Z"
   },
   {
    "duration": 8,
    "start_time": "2022-05-16T20:04:29.261Z"
   },
   {
    "duration": 16,
    "start_time": "2022-05-16T20:04:29.270Z"
   },
   {
    "duration": 4,
    "start_time": "2022-05-16T20:04:29.288Z"
   },
   {
    "duration": 12,
    "start_time": "2022-05-16T20:04:29.293Z"
   },
   {
    "duration": 3,
    "start_time": "2022-05-16T20:04:29.307Z"
   },
   {
    "duration": 16,
    "start_time": "2022-05-16T20:04:29.311Z"
   },
   {
    "duration": 308,
    "start_time": "2022-05-16T20:04:29.328Z"
   },
   {
    "duration": 17,
    "start_time": "2022-05-16T20:04:29.638Z"
   },
   {
    "duration": 4,
    "start_time": "2022-05-16T20:04:29.656Z"
   },
   {
    "duration": 25,
    "start_time": "2022-05-16T20:04:29.661Z"
   },
   {
    "duration": 5,
    "start_time": "2022-05-16T20:04:29.687Z"
   },
   {
    "duration": 166,
    "start_time": "2022-05-16T20:04:29.694Z"
   },
   {
    "duration": 119,
    "start_time": "2022-05-16T20:04:29.862Z"
   },
   {
    "duration": 7,
    "start_time": "2022-05-16T20:04:29.983Z"
   },
   {
    "duration": 8,
    "start_time": "2022-05-16T20:04:29.992Z"
   },
   {
    "duration": 262,
    "start_time": "2022-05-16T20:04:30.002Z"
   },
   {
    "duration": 176,
    "start_time": "2022-05-16T20:04:30.266Z"
   },
   {
    "duration": 298,
    "start_time": "2022-05-16T20:04:30.444Z"
   },
   {
    "duration": 201,
    "start_time": "2022-05-16T20:04:30.744Z"
   },
   {
    "duration": 313,
    "start_time": "2022-05-16T20:04:30.946Z"
   },
   {
    "duration": 7,
    "start_time": "2022-05-16T20:04:31.264Z"
   },
   {
    "duration": 123,
    "start_time": "2022-05-16T20:04:31.272Z"
   },
   {
    "duration": 4,
    "start_time": "2022-05-16T20:04:31.398Z"
   },
   {
    "duration": 126,
    "start_time": "2022-05-16T20:04:31.404Z"
   },
   {
    "duration": 4,
    "start_time": "2022-05-16T20:04:31.532Z"
   },
   {
    "duration": 435,
    "start_time": "2022-05-16T20:04:31.538Z"
   },
   {
    "duration": 20,
    "start_time": "2022-05-16T20:04:31.975Z"
   },
   {
    "duration": 9,
    "start_time": "2022-05-16T20:04:31.996Z"
   },
   {
    "duration": 12,
    "start_time": "2022-05-16T20:04:32.006Z"
   },
   {
    "duration": 5,
    "start_time": "2022-05-16T20:04:32.019Z"
   },
   {
    "duration": 11,
    "start_time": "2022-05-16T20:04:32.026Z"
   },
   {
    "duration": 25,
    "start_time": "2022-05-16T20:04:32.039Z"
   },
   {
    "duration": 12,
    "start_time": "2022-05-16T20:04:32.065Z"
   },
   {
    "duration": 22,
    "start_time": "2022-05-16T20:04:32.078Z"
   },
   {
    "duration": 19,
    "start_time": "2022-05-16T20:04:32.102Z"
   },
   {
    "duration": 12,
    "start_time": "2022-05-16T20:04:32.123Z"
   },
   {
    "duration": 31,
    "start_time": "2022-05-16T20:04:32.136Z"
   },
   {
    "duration": 193,
    "start_time": "2022-05-16T20:05:20.065Z"
   },
   {
    "duration": 13,
    "start_time": "2022-05-16T20:05:23.577Z"
   },
   {
    "duration": 15,
    "start_time": "2022-05-16T20:07:39.171Z"
   },
   {
    "duration": 12,
    "start_time": "2022-05-16T20:07:53.921Z"
   },
   {
    "duration": 12,
    "start_time": "2022-05-16T20:07:58.850Z"
   },
   {
    "duration": 6,
    "start_time": "2022-05-16T20:08:01.505Z"
   },
   {
    "duration": 160,
    "start_time": "2022-05-16T20:08:01.958Z"
   },
   {
    "duration": 138,
    "start_time": "2022-05-16T20:08:02.350Z"
   },
   {
    "duration": 9,
    "start_time": "2022-05-16T20:08:02.712Z"
   },
   {
    "duration": 9,
    "start_time": "2022-05-16T20:08:03.106Z"
   },
   {
    "duration": 368,
    "start_time": "2022-05-16T20:08:03.527Z"
   },
   {
    "duration": 299,
    "start_time": "2022-05-16T20:08:06.446Z"
   },
   {
    "duration": 401,
    "start_time": "2022-05-16T20:08:08.656Z"
   },
   {
    "duration": 308,
    "start_time": "2022-05-16T20:08:10.748Z"
   },
   {
    "duration": 310,
    "start_time": "2022-05-16T20:08:12.979Z"
   },
   {
    "duration": 7,
    "start_time": "2022-05-16T20:08:15.412Z"
   },
   {
    "duration": 125,
    "start_time": "2022-05-16T20:08:16.583Z"
   },
   {
    "duration": 1077,
    "start_time": "2022-05-16T20:08:29.842Z"
   },
   {
    "duration": 115,
    "start_time": "2022-05-16T20:08:30.921Z"
   },
   {
    "duration": 11,
    "start_time": "2022-05-16T20:08:31.038Z"
   },
   {
    "duration": 15,
    "start_time": "2022-05-16T20:08:31.051Z"
   },
   {
    "duration": 14,
    "start_time": "2022-05-16T20:08:31.068Z"
   },
   {
    "duration": 21,
    "start_time": "2022-05-16T20:08:31.084Z"
   },
   {
    "duration": 28,
    "start_time": "2022-05-16T20:08:31.106Z"
   },
   {
    "duration": 7,
    "start_time": "2022-05-16T20:08:31.136Z"
   },
   {
    "duration": 18,
    "start_time": "2022-05-16T20:08:31.144Z"
   },
   {
    "duration": 4,
    "start_time": "2022-05-16T20:08:31.165Z"
   },
   {
    "duration": 15,
    "start_time": "2022-05-16T20:08:31.171Z"
   },
   {
    "duration": 285,
    "start_time": "2022-05-16T20:08:31.188Z"
   },
   {
    "duration": 19,
    "start_time": "2022-05-16T20:08:31.474Z"
   },
   {
    "duration": 3,
    "start_time": "2022-05-16T20:08:31.495Z"
   },
   {
    "duration": 14,
    "start_time": "2022-05-16T20:08:31.500Z"
   },
   {
    "duration": 5,
    "start_time": "2022-05-16T20:08:31.516Z"
   },
   {
    "duration": 171,
    "start_time": "2022-05-16T20:08:31.523Z"
   },
   {
    "duration": 127,
    "start_time": "2022-05-16T20:08:31.696Z"
   },
   {
    "duration": 6,
    "start_time": "2022-05-16T20:08:31.825Z"
   },
   {
    "duration": 8,
    "start_time": "2022-05-16T20:08:31.833Z"
   },
   {
    "duration": 247,
    "start_time": "2022-05-16T20:08:31.842Z"
   },
   {
    "duration": 184,
    "start_time": "2022-05-16T20:08:32.091Z"
   },
   {
    "duration": 297,
    "start_time": "2022-05-16T20:08:32.277Z"
   },
   {
    "duration": 201,
    "start_time": "2022-05-16T20:08:32.576Z"
   },
   {
    "duration": 318,
    "start_time": "2022-05-16T20:08:32.778Z"
   },
   {
    "duration": 7,
    "start_time": "2022-05-16T20:08:33.097Z"
   },
   {
    "duration": 131,
    "start_time": "2022-05-16T20:08:33.105Z"
   },
   {
    "duration": 4,
    "start_time": "2022-05-16T20:08:33.240Z"
   },
   {
    "duration": 131,
    "start_time": "2022-05-16T20:08:33.246Z"
   },
   {
    "duration": 4,
    "start_time": "2022-05-16T20:08:33.379Z"
   },
   {
    "duration": 451,
    "start_time": "2022-05-16T20:08:33.384Z"
   },
   {
    "duration": 30,
    "start_time": "2022-05-16T20:08:33.836Z"
   },
   {
    "duration": 10,
    "start_time": "2022-05-16T20:08:33.867Z"
   },
   {
    "duration": 31,
    "start_time": "2022-05-16T20:08:33.879Z"
   },
   {
    "duration": 39,
    "start_time": "2022-05-16T20:08:33.912Z"
   },
   {
    "duration": 15,
    "start_time": "2022-05-16T20:08:33.953Z"
   },
   {
    "duration": 33,
    "start_time": "2022-05-16T20:08:33.969Z"
   },
   {
    "duration": 13,
    "start_time": "2022-05-16T20:08:34.004Z"
   },
   {
    "duration": 36,
    "start_time": "2022-05-16T20:08:34.018Z"
   },
   {
    "duration": 24,
    "start_time": "2022-05-16T20:08:34.056Z"
   },
   {
    "duration": 11,
    "start_time": "2022-05-16T20:08:34.082Z"
   },
   {
    "duration": 46,
    "start_time": "2022-05-16T20:08:34.095Z"
   },
   {
    "duration": 4,
    "start_time": "2022-05-16T20:08:42.204Z"
   },
   {
    "duration": 120,
    "start_time": "2022-05-16T20:08:45.159Z"
   },
   {
    "duration": 4,
    "start_time": "2022-05-16T20:08:49.450Z"
   },
   {
    "duration": 18,
    "start_time": "2022-05-16T20:11:00.613Z"
   },
   {
    "duration": 17,
    "start_time": "2022-05-16T20:11:06.812Z"
   },
   {
    "duration": 5,
    "start_time": "2022-05-16T20:11:08.969Z"
   },
   {
    "duration": 208,
    "start_time": "2022-05-16T20:11:09.533Z"
   },
   {
    "duration": 113,
    "start_time": "2022-05-16T20:11:09.936Z"
   },
   {
    "duration": 6,
    "start_time": "2022-05-16T20:11:10.360Z"
   },
   {
    "duration": 6,
    "start_time": "2022-05-16T20:11:10.737Z"
   },
   {
    "duration": 164,
    "start_time": "2022-05-16T20:11:11.340Z"
   },
   {
    "duration": 166,
    "start_time": "2022-05-16T20:11:14.470Z"
   },
   {
    "duration": 255,
    "start_time": "2022-05-16T20:11:16.409Z"
   },
   {
    "duration": 181,
    "start_time": "2022-05-16T20:11:18.719Z"
   },
   {
    "duration": 290,
    "start_time": "2022-05-16T20:11:20.874Z"
   },
   {
    "duration": 6,
    "start_time": "2022-05-16T20:11:23.509Z"
   },
   {
    "duration": 114,
    "start_time": "2022-05-16T20:11:24.440Z"
   },
   {
    "duration": 4,
    "start_time": "2022-05-16T20:11:27.695Z"
   },
   {
    "duration": 118,
    "start_time": "2022-05-16T20:11:30.395Z"
   },
   {
    "duration": 4,
    "start_time": "2022-05-16T20:11:32.108Z"
   },
   {
    "duration": 431,
    "start_time": "2022-05-16T20:11:36.884Z"
   },
   {
    "duration": 19,
    "start_time": "2022-05-16T20:11:38.051Z"
   },
   {
    "duration": 9,
    "start_time": "2022-05-16T20:11:40.273Z"
   },
   {
    "duration": 7,
    "start_time": "2022-05-16T20:11:40.877Z"
   },
   {
    "duration": 5,
    "start_time": "2022-05-16T20:11:43.415Z"
   },
   {
    "duration": 101,
    "start_time": "2022-05-16T20:12:08.251Z"
   },
   {
    "duration": 18,
    "start_time": "2022-05-16T20:12:40.504Z"
   },
   {
    "duration": 12,
    "start_time": "2022-05-16T20:13:38.076Z"
   },
   {
    "duration": 10,
    "start_time": "2022-05-16T20:13:48.092Z"
   },
   {
    "duration": 16,
    "start_time": "2022-05-16T20:14:06.858Z"
   },
   {
    "duration": 16,
    "start_time": "2022-05-16T20:14:11.622Z"
   },
   {
    "duration": 17,
    "start_time": "2022-05-16T20:14:14.622Z"
   },
   {
    "duration": 6,
    "start_time": "2022-05-16T20:14:16.988Z"
   },
   {
    "duration": 168,
    "start_time": "2022-05-16T20:14:17.243Z"
   },
   {
    "duration": 120,
    "start_time": "2022-05-16T20:14:17.527Z"
   },
   {
    "duration": 7,
    "start_time": "2022-05-16T20:14:17.918Z"
   },
   {
    "duration": 7,
    "start_time": "2022-05-16T20:14:18.143Z"
   },
   {
    "duration": 170,
    "start_time": "2022-05-16T20:14:18.429Z"
   },
   {
    "duration": 173,
    "start_time": "2022-05-16T20:14:20.466Z"
   },
   {
    "duration": 296,
    "start_time": "2022-05-16T20:14:22.177Z"
   },
   {
    "duration": 253,
    "start_time": "2022-05-16T20:14:23.932Z"
   },
   {
    "duration": 334,
    "start_time": "2022-05-16T20:14:25.537Z"
   },
   {
    "duration": 6,
    "start_time": "2022-05-16T20:14:27.189Z"
   },
   {
    "duration": 114,
    "start_time": "2022-05-16T20:14:27.588Z"
   },
   {
    "duration": 4,
    "start_time": "2022-05-16T20:14:29.434Z"
   },
   {
    "duration": 120,
    "start_time": "2022-05-16T20:14:31.022Z"
   },
   {
    "duration": 5,
    "start_time": "2022-05-16T20:14:32.077Z"
   },
   {
    "duration": 445,
    "start_time": "2022-05-16T20:14:34.173Z"
   },
   {
    "duration": 20,
    "start_time": "2022-05-16T20:14:34.928Z"
   },
   {
    "duration": 11,
    "start_time": "2022-05-16T20:14:36.680Z"
   },
   {
    "duration": 8,
    "start_time": "2022-05-16T20:14:37.151Z"
   },
   {
    "duration": 5,
    "start_time": "2022-05-16T20:14:38.845Z"
   },
   {
    "duration": 6,
    "start_time": "2022-05-16T20:14:39.996Z"
   },
   {
    "duration": 5,
    "start_time": "2022-05-16T20:14:40.325Z"
   },
   {
    "duration": 9,
    "start_time": "2022-05-16T20:14:40.697Z"
   },
   {
    "duration": 22,
    "start_time": "2022-05-16T20:14:41.060Z"
   },
   {
    "duration": 22,
    "start_time": "2022-05-16T20:14:41.589Z"
   },
   {
    "duration": 14,
    "start_time": "2022-05-16T20:14:44.395Z"
   },
   {
    "duration": 9,
    "start_time": "2022-05-16T20:14:44.543Z"
   },
   {
    "duration": 13,
    "start_time": "2022-05-16T20:17:51.522Z"
   },
   {
    "duration": 6,
    "start_time": "2022-05-16T20:17:54.331Z"
   },
   {
    "duration": 149,
    "start_time": "2022-05-16T20:17:54.625Z"
   },
   {
    "duration": 115,
    "start_time": "2022-05-16T20:17:54.992Z"
   },
   {
    "duration": 6,
    "start_time": "2022-05-16T20:17:55.289Z"
   },
   {
    "duration": 6,
    "start_time": "2022-05-16T20:17:55.549Z"
   },
   {
    "duration": 168,
    "start_time": "2022-05-16T20:17:55.794Z"
   },
   {
    "duration": 176,
    "start_time": "2022-05-16T20:17:57.557Z"
   },
   {
    "duration": 259,
    "start_time": "2022-05-16T20:17:59.081Z"
   },
   {
    "duration": 182,
    "start_time": "2022-05-16T20:18:00.465Z"
   },
   {
    "duration": 292,
    "start_time": "2022-05-16T20:18:02.122Z"
   },
   {
    "duration": 7,
    "start_time": "2022-05-16T20:18:03.620Z"
   },
   {
    "duration": 113,
    "start_time": "2022-05-16T20:18:04.019Z"
   },
   {
    "duration": 4,
    "start_time": "2022-05-16T20:18:11.156Z"
   },
   {
    "duration": 113,
    "start_time": "2022-05-16T20:18:13.428Z"
   },
   {
    "duration": 4,
    "start_time": "2022-05-16T20:18:14.540Z"
   },
   {
    "duration": 542,
    "start_time": "2022-05-16T20:18:17.673Z"
   },
   {
    "duration": 20,
    "start_time": "2022-05-16T20:18:19.237Z"
   },
   {
    "duration": 10,
    "start_time": "2022-05-16T20:18:21.292Z"
   },
   {
    "duration": 8,
    "start_time": "2022-05-16T20:18:21.877Z"
   },
   {
    "duration": 5,
    "start_time": "2022-05-16T20:18:23.964Z"
   },
   {
    "duration": 6,
    "start_time": "2022-05-16T20:18:25.307Z"
   },
   {
    "duration": 4,
    "start_time": "2022-05-16T20:18:25.611Z"
   },
   {
    "duration": 8,
    "start_time": "2022-05-16T20:18:26.079Z"
   },
   {
    "duration": 22,
    "start_time": "2022-05-16T20:18:26.390Z"
   },
   {
    "duration": 20,
    "start_time": "2022-05-16T20:18:26.947Z"
   },
   {
    "duration": 14,
    "start_time": "2022-05-16T20:19:36.179Z"
   },
   {
    "duration": 6,
    "start_time": "2022-05-16T20:19:37.796Z"
   },
   {
    "duration": 155,
    "start_time": "2022-05-16T20:19:38.055Z"
   },
   {
    "duration": 105,
    "start_time": "2022-05-16T20:19:38.283Z"
   },
   {
    "duration": 7,
    "start_time": "2022-05-16T20:19:38.541Z"
   },
   {
    "duration": 6,
    "start_time": "2022-05-16T20:19:38.813Z"
   },
   {
    "duration": 172,
    "start_time": "2022-05-16T20:19:39.052Z"
   },
   {
    "duration": 166,
    "start_time": "2022-05-16T20:19:40.265Z"
   },
   {
    "duration": 265,
    "start_time": "2022-05-16T20:19:41.306Z"
   },
   {
    "duration": 188,
    "start_time": "2022-05-16T20:19:42.341Z"
   },
   {
    "duration": 298,
    "start_time": "2022-05-16T20:19:43.615Z"
   },
   {
    "duration": 9,
    "start_time": "2022-05-16T20:19:45.045Z"
   },
   {
    "duration": 119,
    "start_time": "2022-05-16T20:19:45.454Z"
   },
   {
    "duration": 113,
    "start_time": "2022-05-16T20:19:48.368Z"
   },
   {
    "duration": 17,
    "start_time": "2022-05-16T20:20:22.497Z"
   },
   {
    "duration": 4,
    "start_time": "2022-05-16T20:21:51.865Z"
   },
   {
    "duration": 17,
    "start_time": "2022-05-16T20:26:21.097Z"
   },
   {
    "duration": 20,
    "start_time": "2022-05-16T20:26:30.146Z"
   },
   {
    "duration": 1074,
    "start_time": "2022-05-16T20:26:36.615Z"
   },
   {
    "duration": 121,
    "start_time": "2022-05-16T20:26:37.691Z"
   },
   {
    "duration": 10,
    "start_time": "2022-05-16T20:26:37.814Z"
   },
   {
    "duration": 11,
    "start_time": "2022-05-16T20:26:37.826Z"
   },
   {
    "duration": 9,
    "start_time": "2022-05-16T20:26:37.839Z"
   },
   {
    "duration": 7,
    "start_time": "2022-05-16T20:26:37.850Z"
   },
   {
    "duration": 16,
    "start_time": "2022-05-16T20:26:37.859Z"
   },
   {
    "duration": 5,
    "start_time": "2022-05-16T20:26:37.877Z"
   },
   {
    "duration": 19,
    "start_time": "2022-05-16T20:26:37.884Z"
   },
   {
    "duration": 4,
    "start_time": "2022-05-16T20:26:37.905Z"
   },
   {
    "duration": 13,
    "start_time": "2022-05-16T20:26:37.911Z"
   },
   {
    "duration": 454,
    "start_time": "2022-05-16T20:26:37.926Z"
   },
   {
    "duration": 17,
    "start_time": "2022-05-16T20:26:38.383Z"
   },
   {
    "duration": 4,
    "start_time": "2022-05-16T20:26:38.405Z"
   },
   {
    "duration": 21,
    "start_time": "2022-05-16T20:26:38.410Z"
   },
   {
    "duration": 5,
    "start_time": "2022-05-16T20:26:38.432Z"
   },
   {
    "duration": 170,
    "start_time": "2022-05-16T20:26:38.438Z"
   },
   {
    "duration": 125,
    "start_time": "2022-05-16T20:26:38.610Z"
   },
   {
    "duration": 6,
    "start_time": "2022-05-16T20:26:38.737Z"
   },
   {
    "duration": 20,
    "start_time": "2022-05-16T20:26:38.745Z"
   },
   {
    "duration": 253,
    "start_time": "2022-05-16T20:26:38.767Z"
   },
   {
    "duration": 183,
    "start_time": "2022-05-16T20:26:39.022Z"
   },
   {
    "duration": 259,
    "start_time": "2022-05-16T20:26:39.207Z"
   },
   {
    "duration": 187,
    "start_time": "2022-05-16T20:26:39.467Z"
   },
   {
    "duration": 299,
    "start_time": "2022-05-16T20:26:39.655Z"
   },
   {
    "duration": 7,
    "start_time": "2022-05-16T20:26:39.963Z"
   },
   {
    "duration": 125,
    "start_time": "2022-05-16T20:26:39.972Z"
   },
   {
    "duration": 3,
    "start_time": "2022-05-16T20:26:40.099Z"
   },
   {
    "duration": 126,
    "start_time": "2022-05-16T20:26:40.104Z"
   },
   {
    "duration": 4,
    "start_time": "2022-05-16T20:26:40.232Z"
   },
   {
    "duration": 440,
    "start_time": "2022-05-16T20:26:40.237Z"
   },
   {
    "duration": 20,
    "start_time": "2022-05-16T20:26:40.678Z"
   },
   {
    "duration": 9,
    "start_time": "2022-05-16T20:26:40.700Z"
   },
   {
    "duration": 6,
    "start_time": "2022-05-16T20:26:40.710Z"
   },
   {
    "duration": 3,
    "start_time": "2022-05-16T20:26:40.718Z"
   },
   {
    "duration": 5,
    "start_time": "2022-05-16T20:26:40.723Z"
   },
   {
    "duration": 37,
    "start_time": "2022-05-16T20:26:40.730Z"
   },
   {
    "duration": 9,
    "start_time": "2022-05-16T20:26:40.768Z"
   },
   {
    "duration": 21,
    "start_time": "2022-05-16T20:26:40.778Z"
   },
   {
    "duration": 19,
    "start_time": "2022-05-16T20:26:40.800Z"
   },
   {
    "duration": 12,
    "start_time": "2022-05-16T20:26:40.823Z"
   },
   {
    "duration": 31,
    "start_time": "2022-05-16T20:26:40.837Z"
   },
   {
    "duration": 19,
    "start_time": "2022-05-16T20:28:29.061Z"
   },
   {
    "duration": 984,
    "start_time": "2022-05-16T20:28:34.816Z"
   },
   {
    "duration": 108,
    "start_time": "2022-05-16T20:28:35.802Z"
   },
   {
    "duration": 11,
    "start_time": "2022-05-16T20:28:35.911Z"
   },
   {
    "duration": 38,
    "start_time": "2022-05-16T20:28:35.924Z"
   },
   {
    "duration": 24,
    "start_time": "2022-05-16T20:28:35.963Z"
   },
   {
    "duration": 30,
    "start_time": "2022-05-16T20:28:35.988Z"
   },
   {
    "duration": 21,
    "start_time": "2022-05-16T20:28:36.019Z"
   },
   {
    "duration": 7,
    "start_time": "2022-05-16T20:28:36.041Z"
   },
   {
    "duration": 13,
    "start_time": "2022-05-16T20:28:36.049Z"
   },
   {
    "duration": 3,
    "start_time": "2022-05-16T20:28:36.064Z"
   },
   {
    "duration": 13,
    "start_time": "2022-05-16T20:28:36.069Z"
   },
   {
    "duration": 284,
    "start_time": "2022-05-16T20:28:36.084Z"
   },
   {
    "duration": 3,
    "start_time": "2022-05-16T20:28:36.370Z"
   },
   {
    "duration": 4,
    "start_time": "2022-05-16T20:28:36.375Z"
   },
   {
    "duration": 31,
    "start_time": "2022-05-16T20:28:36.381Z"
   },
   {
    "duration": 6,
    "start_time": "2022-05-16T20:28:36.413Z"
   },
   {
    "duration": 177,
    "start_time": "2022-05-16T20:28:36.420Z"
   },
   {
    "duration": 124,
    "start_time": "2022-05-16T20:28:36.599Z"
   },
   {
    "duration": 8,
    "start_time": "2022-05-16T20:28:36.725Z"
   },
   {
    "duration": 7,
    "start_time": "2022-05-16T20:28:36.735Z"
   },
   {
    "duration": 258,
    "start_time": "2022-05-16T20:28:36.744Z"
   },
   {
    "duration": 180,
    "start_time": "2022-05-16T20:28:37.004Z"
   },
   {
    "duration": 296,
    "start_time": "2022-05-16T20:28:37.185Z"
   },
   {
    "duration": 194,
    "start_time": "2022-05-16T20:28:37.482Z"
   },
   {
    "duration": 295,
    "start_time": "2022-05-16T20:28:37.678Z"
   },
   {
    "duration": 7,
    "start_time": "2022-05-16T20:28:37.974Z"
   },
   {
    "duration": 127,
    "start_time": "2022-05-16T20:28:37.982Z"
   },
   {
    "duration": 4,
    "start_time": "2022-05-16T20:28:38.112Z"
   },
   {
    "duration": 129,
    "start_time": "2022-05-16T20:28:38.117Z"
   },
   {
    "duration": 4,
    "start_time": "2022-05-16T20:28:38.248Z"
   },
   {
    "duration": 437,
    "start_time": "2022-05-16T20:28:38.253Z"
   },
   {
    "duration": 21,
    "start_time": "2022-05-16T20:28:38.692Z"
   },
   {
    "duration": 19,
    "start_time": "2022-05-16T20:28:38.715Z"
   },
   {
    "duration": 30,
    "start_time": "2022-05-16T20:28:38.735Z"
   },
   {
    "duration": 23,
    "start_time": "2022-05-16T20:28:38.766Z"
   },
   {
    "duration": 7,
    "start_time": "2022-05-16T20:28:38.790Z"
   },
   {
    "duration": 5,
    "start_time": "2022-05-16T20:28:38.799Z"
   },
   {
    "duration": 9,
    "start_time": "2022-05-16T20:28:38.805Z"
   },
   {
    "duration": 24,
    "start_time": "2022-05-16T20:28:38.815Z"
   },
   {
    "duration": 25,
    "start_time": "2022-05-16T20:28:38.840Z"
   },
   {
    "duration": 12,
    "start_time": "2022-05-16T20:28:38.867Z"
   },
   {
    "duration": 8,
    "start_time": "2022-05-16T20:28:38.880Z"
   },
   {
    "duration": 4,
    "start_time": "2022-05-16T20:29:06.590Z"
   },
   {
    "duration": 20,
    "start_time": "2022-05-16T20:29:20.246Z"
   },
   {
    "duration": 1103,
    "start_time": "2022-05-17T13:28:30.354Z"
   },
   {
    "duration": 89,
    "start_time": "2022-05-17T13:28:31.459Z"
   },
   {
    "duration": 12,
    "start_time": "2022-05-17T13:28:31.549Z"
   },
   {
    "duration": 12,
    "start_time": "2022-05-17T13:28:31.563Z"
   },
   {
    "duration": 19,
    "start_time": "2022-05-17T13:28:31.577Z"
   },
   {
    "duration": 18,
    "start_time": "2022-05-17T13:28:31.598Z"
   },
   {
    "duration": 19,
    "start_time": "2022-05-17T13:28:31.617Z"
   },
   {
    "duration": 4,
    "start_time": "2022-05-17T13:28:31.638Z"
   },
   {
    "duration": 14,
    "start_time": "2022-05-17T13:28:31.644Z"
   },
   {
    "duration": 3,
    "start_time": "2022-05-17T13:28:31.661Z"
   },
   {
    "duration": 12,
    "start_time": "2022-05-17T13:28:31.666Z"
   },
   {
    "duration": 331,
    "start_time": "2022-05-17T13:28:31.698Z"
   },
   {
    "duration": 3,
    "start_time": "2022-05-17T13:28:32.030Z"
   },
   {
    "duration": 9,
    "start_time": "2022-05-17T13:28:32.035Z"
   },
   {
    "duration": 25,
    "start_time": "2022-05-17T13:28:32.046Z"
   },
   {
    "duration": 26,
    "start_time": "2022-05-17T13:28:32.073Z"
   },
   {
    "duration": 177,
    "start_time": "2022-05-17T13:28:32.100Z"
   },
   {
    "duration": 141,
    "start_time": "2022-05-17T13:28:32.278Z"
   },
   {
    "duration": 7,
    "start_time": "2022-05-17T13:28:32.420Z"
   },
   {
    "duration": 8,
    "start_time": "2022-05-17T13:28:32.429Z"
   },
   {
    "duration": 306,
    "start_time": "2022-05-17T13:28:32.439Z"
   },
   {
    "duration": 225,
    "start_time": "2022-05-17T13:28:32.747Z"
   },
   {
    "duration": 342,
    "start_time": "2022-05-17T13:28:32.973Z"
   },
   {
    "duration": 246,
    "start_time": "2022-05-17T13:28:33.317Z"
   },
   {
    "duration": 364,
    "start_time": "2022-05-17T13:28:33.565Z"
   },
   {
    "duration": 8,
    "start_time": "2022-05-17T13:28:33.931Z"
   },
   {
    "duration": 156,
    "start_time": "2022-05-17T13:28:33.941Z"
   },
   {
    "duration": 4,
    "start_time": "2022-05-17T13:28:34.101Z"
   },
   {
    "duration": 158,
    "start_time": "2022-05-17T13:28:34.106Z"
   },
   {
    "duration": 5,
    "start_time": "2022-05-17T13:28:34.265Z"
   },
   {
    "duration": 494,
    "start_time": "2022-05-17T13:28:34.271Z"
   },
   {
    "duration": 32,
    "start_time": "2022-05-17T13:28:34.767Z"
   },
   {
    "duration": 11,
    "start_time": "2022-05-17T13:28:34.800Z"
   },
   {
    "duration": 8,
    "start_time": "2022-05-17T13:28:34.813Z"
   },
   {
    "duration": 5,
    "start_time": "2022-05-17T13:28:34.822Z"
   },
   {
    "duration": 6,
    "start_time": "2022-05-17T13:28:34.828Z"
   },
   {
    "duration": 5,
    "start_time": "2022-05-17T13:28:34.836Z"
   },
   {
    "duration": 7,
    "start_time": "2022-05-17T13:28:34.843Z"
   },
   {
    "duration": 65,
    "start_time": "2022-05-17T13:28:34.852Z"
   },
   {
    "duration": 22,
    "start_time": "2022-05-17T13:28:34.919Z"
   },
   {
    "duration": 14,
    "start_time": "2022-05-17T13:28:34.942Z"
   },
   {
    "duration": 9,
    "start_time": "2022-05-17T13:28:34.958Z"
   },
   {
    "duration": 3,
    "start_time": "2022-05-17T13:29:24.777Z"
   },
   {
    "duration": 40,
    "start_time": "2022-05-17T13:29:25.010Z"
   },
   {
    "duration": 12,
    "start_time": "2022-05-17T13:29:25.227Z"
   },
   {
    "duration": 11,
    "start_time": "2022-05-17T13:29:25.682Z"
   },
   {
    "duration": 11,
    "start_time": "2022-05-17T13:29:25.883Z"
   },
   {
    "duration": 5,
    "start_time": "2022-05-17T13:29:26.619Z"
   },
   {
    "duration": 17,
    "start_time": "2022-05-17T13:29:26.996Z"
   },
   {
    "duration": 9,
    "start_time": "2022-05-17T13:29:51.673Z"
   },
   {
    "duration": 4,
    "start_time": "2022-05-17T13:30:11.624Z"
   },
   {
    "duration": 4,
    "start_time": "2022-05-17T13:30:19.261Z"
   },
   {
    "duration": 26,
    "start_time": "2022-05-17T13:30:35.789Z"
   },
   {
    "duration": 4,
    "start_time": "2022-05-17T13:30:40.634Z"
   },
   {
    "duration": 98,
    "start_time": "2022-05-17T13:30:49.885Z"
   },
   {
    "duration": 4,
    "start_time": "2022-05-17T13:30:57.059Z"
   },
   {
    "duration": 18,
    "start_time": "2022-05-17T13:31:08.043Z"
   },
   {
    "duration": 4,
    "start_time": "2022-05-17T13:31:12.143Z"
   },
   {
    "duration": 1045,
    "start_time": "2022-05-17T13:31:25.292Z"
   },
   {
    "duration": 83,
    "start_time": "2022-05-17T13:31:26.339Z"
   },
   {
    "duration": 12,
    "start_time": "2022-05-17T13:31:26.424Z"
   },
   {
    "duration": 13,
    "start_time": "2022-05-17T13:31:26.438Z"
   },
   {
    "duration": 15,
    "start_time": "2022-05-17T13:31:26.453Z"
   },
   {
    "duration": 7,
    "start_time": "2022-05-17T13:31:26.470Z"
   },
   {
    "duration": 22,
    "start_time": "2022-05-17T13:31:26.479Z"
   },
   {
    "duration": 6,
    "start_time": "2022-05-17T13:31:26.502Z"
   },
   {
    "duration": 14,
    "start_time": "2022-05-17T13:31:26.510Z"
   },
   {
    "duration": 4,
    "start_time": "2022-05-17T13:31:26.525Z"
   },
   {
    "duration": 16,
    "start_time": "2022-05-17T13:31:26.531Z"
   },
   {
    "duration": 349,
    "start_time": "2022-05-17T13:31:26.549Z"
   },
   {
    "duration": 2,
    "start_time": "2022-05-17T13:31:26.900Z"
   },
   {
    "duration": 8,
    "start_time": "2022-05-17T13:31:26.905Z"
   },
   {
    "duration": 28,
    "start_time": "2022-05-17T13:31:26.914Z"
   },
   {
    "duration": 3,
    "start_time": "2022-05-17T13:31:26.944Z"
   },
   {
    "duration": 5,
    "start_time": "2022-05-17T13:31:26.949Z"
   },
   {
    "duration": 6,
    "start_time": "2022-05-17T13:31:26.956Z"
   },
   {
    "duration": 197,
    "start_time": "2022-05-17T13:31:26.963Z"
   },
   {
    "duration": 146,
    "start_time": "2022-05-17T13:31:27.162Z"
   },
   {
    "duration": 7,
    "start_time": "2022-05-17T13:31:27.309Z"
   },
   {
    "duration": 7,
    "start_time": "2022-05-17T13:31:27.317Z"
   },
   {
    "duration": 295,
    "start_time": "2022-05-17T13:31:27.326Z"
   },
   {
    "duration": 216,
    "start_time": "2022-05-17T13:31:27.623Z"
   },
   {
    "duration": 287,
    "start_time": "2022-05-17T13:31:27.841Z"
   },
   {
    "duration": 232,
    "start_time": "2022-05-17T13:31:28.130Z"
   },
   {
    "duration": 386,
    "start_time": "2022-05-17T13:31:28.363Z"
   },
   {
    "duration": 8,
    "start_time": "2022-05-17T13:31:28.750Z"
   },
   {
    "duration": 151,
    "start_time": "2022-05-17T13:31:28.759Z"
   },
   {
    "duration": 4,
    "start_time": "2022-05-17T13:31:28.911Z"
   },
   {
    "duration": 154,
    "start_time": "2022-05-17T13:31:28.917Z"
   },
   {
    "duration": 5,
    "start_time": "2022-05-17T13:31:29.073Z"
   },
   {
    "duration": 482,
    "start_time": "2022-05-17T13:31:29.080Z"
   },
   {
    "duration": 22,
    "start_time": "2022-05-17T13:31:29.564Z"
   },
   {
    "duration": 11,
    "start_time": "2022-05-17T13:31:29.596Z"
   },
   {
    "duration": 7,
    "start_time": "2022-05-17T13:31:29.609Z"
   },
   {
    "duration": 4,
    "start_time": "2022-05-17T13:31:29.618Z"
   },
   {
    "duration": 6,
    "start_time": "2022-05-17T13:31:29.624Z"
   },
   {
    "duration": 6,
    "start_time": "2022-05-17T13:31:29.632Z"
   },
   {
    "duration": 8,
    "start_time": "2022-05-17T13:31:29.639Z"
   },
   {
    "duration": 61,
    "start_time": "2022-05-17T13:31:29.650Z"
   },
   {
    "duration": 23,
    "start_time": "2022-05-17T13:31:29.712Z"
   },
   {
    "duration": 14,
    "start_time": "2022-05-17T13:31:29.737Z"
   },
   {
    "duration": 10,
    "start_time": "2022-05-17T13:31:29.753Z"
   },
   {
    "duration": 11,
    "start_time": "2022-05-17T13:33:12.963Z"
   },
   {
    "duration": 9,
    "start_time": "2022-05-17T13:35:57.219Z"
   },
   {
    "duration": 83,
    "start_time": "2022-05-17T16:18:35.787Z"
   },
   {
    "duration": 1557,
    "start_time": "2022-05-17T16:18:41.192Z"
   },
   {
    "duration": 102,
    "start_time": "2022-05-17T16:18:42.751Z"
   },
   {
    "duration": 17,
    "start_time": "2022-05-17T16:18:42.856Z"
   },
   {
    "duration": 20,
    "start_time": "2022-05-17T16:18:42.878Z"
   },
   {
    "duration": 17,
    "start_time": "2022-05-17T16:18:42.900Z"
   },
   {
    "duration": 40,
    "start_time": "2022-05-17T16:18:42.920Z"
   },
   {
    "duration": 40,
    "start_time": "2022-05-17T16:18:42.963Z"
   },
   {
    "duration": 9,
    "start_time": "2022-05-17T16:18:43.006Z"
   },
   {
    "duration": 19,
    "start_time": "2022-05-17T16:18:43.018Z"
   },
   {
    "duration": 6,
    "start_time": "2022-05-17T16:18:43.057Z"
   },
   {
    "duration": 15,
    "start_time": "2022-05-17T16:18:43.065Z"
   },
   {
    "duration": 507,
    "start_time": "2022-05-17T16:18:43.082Z"
   },
   {
    "duration": 3,
    "start_time": "2022-05-17T16:18:43.592Z"
   },
   {
    "duration": 8,
    "start_time": "2022-05-17T16:18:43.597Z"
   },
   {
    "duration": 16,
    "start_time": "2022-05-17T16:18:43.607Z"
   },
   {
    "duration": 5,
    "start_time": "2022-05-17T16:18:43.625Z"
   },
   {
    "duration": 8,
    "start_time": "2022-05-17T16:18:43.632Z"
   },
   {
    "duration": 16,
    "start_time": "2022-05-17T16:18:43.643Z"
   },
   {
    "duration": 681,
    "start_time": "2022-05-17T16:18:43.662Z"
   },
   {
    "duration": 1,
    "start_time": "2022-05-17T16:18:44.345Z"
   },
   {
    "duration": 0,
    "start_time": "2022-05-17T16:18:44.348Z"
   },
   {
    "duration": 1,
    "start_time": "2022-05-17T16:18:44.349Z"
   },
   {
    "duration": 0,
    "start_time": "2022-05-17T16:18:44.351Z"
   },
   {
    "duration": 0,
    "start_time": "2022-05-17T16:18:44.353Z"
   },
   {
    "duration": 0,
    "start_time": "2022-05-17T16:18:44.354Z"
   },
   {
    "duration": 0,
    "start_time": "2022-05-17T16:18:44.356Z"
   },
   {
    "duration": 0,
    "start_time": "2022-05-17T16:18:44.358Z"
   },
   {
    "duration": 0,
    "start_time": "2022-05-17T16:18:44.359Z"
   },
   {
    "duration": 0,
    "start_time": "2022-05-17T16:18:44.361Z"
   },
   {
    "duration": 0,
    "start_time": "2022-05-17T16:18:44.363Z"
   },
   {
    "duration": 0,
    "start_time": "2022-05-17T16:18:44.364Z"
   },
   {
    "duration": 0,
    "start_time": "2022-05-17T16:18:44.366Z"
   },
   {
    "duration": 0,
    "start_time": "2022-05-17T16:18:44.368Z"
   },
   {
    "duration": 0,
    "start_time": "2022-05-17T16:18:44.369Z"
   },
   {
    "duration": 0,
    "start_time": "2022-05-17T16:18:44.371Z"
   },
   {
    "duration": 0,
    "start_time": "2022-05-17T16:18:44.373Z"
   },
   {
    "duration": 1,
    "start_time": "2022-05-17T16:18:44.374Z"
   },
   {
    "duration": 0,
    "start_time": "2022-05-17T16:18:44.376Z"
   },
   {
    "duration": 0,
    "start_time": "2022-05-17T16:18:44.378Z"
   },
   {
    "duration": 0,
    "start_time": "2022-05-17T16:18:44.379Z"
   },
   {
    "duration": 0,
    "start_time": "2022-05-17T16:18:44.381Z"
   },
   {
    "duration": 0,
    "start_time": "2022-05-17T16:18:44.382Z"
   },
   {
    "duration": 582,
    "start_time": "2022-05-17T16:19:02.402Z"
   },
   {
    "duration": 14,
    "start_time": "2022-05-17T16:19:31.398Z"
   },
   {
    "duration": 17,
    "start_time": "2022-05-17T16:20:20.065Z"
   },
   {
    "duration": 6,
    "start_time": "2022-05-17T16:20:22.894Z"
   },
   {
    "duration": 8,
    "start_time": "2022-05-17T16:20:23.398Z"
   },
   {
    "duration": 7,
    "start_time": "2022-05-17T16:20:23.826Z"
   },
   {
    "duration": 591,
    "start_time": "2022-05-17T16:20:24.369Z"
   },
   {
    "duration": 20,
    "start_time": "2022-05-17T16:20:25.543Z"
   },
   {
    "duration": 17,
    "start_time": "2022-05-17T16:20:26.312Z"
   },
   {
    "duration": 17,
    "start_time": "2022-05-17T16:20:28.486Z"
   },
   {
    "duration": 16,
    "start_time": "2022-05-17T16:20:30.017Z"
   },
   {
    "duration": 11,
    "start_time": "2022-05-17T16:20:43.948Z"
   },
   {
    "duration": 5,
    "start_time": "2022-05-17T16:20:45.668Z"
   },
   {
    "duration": 8,
    "start_time": "2022-05-17T16:20:45.907Z"
   },
   {
    "duration": 8,
    "start_time": "2022-05-17T16:20:46.155Z"
   },
   {
    "duration": 621,
    "start_time": "2022-05-17T16:20:46.407Z"
   },
   {
    "duration": 18,
    "start_time": "2022-05-17T16:20:47.120Z"
   },
   {
    "duration": 17,
    "start_time": "2022-05-17T16:20:48.318Z"
   },
   {
    "duration": 5,
    "start_time": "2022-05-17T16:21:03.111Z"
   },
   {
    "duration": 47,
    "start_time": "2022-05-17T16:21:03.459Z"
   },
   {
    "duration": 15,
    "start_time": "2022-05-17T16:21:03.919Z"
   },
   {
    "duration": 16,
    "start_time": "2022-05-17T16:21:04.412Z"
   },
   {
    "duration": 16,
    "start_time": "2022-05-17T16:21:04.807Z"
   },
   {
    "duration": 7,
    "start_time": "2022-05-17T16:21:05.646Z"
   },
   {
    "duration": 26,
    "start_time": "2022-05-17T16:21:06.093Z"
   },
   {
    "duration": 5,
    "start_time": "2022-05-17T16:21:08.038Z"
   },
   {
    "duration": 13,
    "start_time": "2022-05-17T16:21:08.529Z"
   },
   {
    "duration": 6,
    "start_time": "2022-05-17T16:21:10.294Z"
   },
   {
    "duration": 14,
    "start_time": "2022-05-17T16:21:10.786Z"
   },
   {
    "duration": 472,
    "start_time": "2022-05-17T16:21:13.208Z"
   },
   {
    "duration": 4,
    "start_time": "2022-05-17T16:21:16.002Z"
   },
   {
    "duration": 4,
    "start_time": "2022-05-17T16:21:16.453Z"
   },
   {
    "duration": 10,
    "start_time": "2022-05-17T16:21:18.379Z"
   },
   {
    "duration": 8,
    "start_time": "2022-05-17T16:21:19.701Z"
   },
   {
    "duration": 307,
    "start_time": "2022-05-17T16:21:20.062Z"
   },
   {
    "duration": 206,
    "start_time": "2022-05-17T16:21:21.432Z"
   },
   {
    "duration": 21,
    "start_time": "2022-05-17T16:21:21.641Z"
   },
   {
    "duration": 11,
    "start_time": "2022-05-17T16:21:22.489Z"
   },
   {
    "duration": 423,
    "start_time": "2022-05-17T16:21:23.930Z"
   },
   {
    "duration": 418,
    "start_time": "2022-05-17T16:21:27.113Z"
   },
   {
    "duration": 440,
    "start_time": "2022-05-17T16:21:28.365Z"
   },
   {
    "duration": 357,
    "start_time": "2022-05-17T16:21:30.329Z"
   },
   {
    "duration": 518,
    "start_time": "2022-05-17T16:21:32.140Z"
   },
   {
    "duration": 9,
    "start_time": "2022-05-17T16:21:34.376Z"
   },
   {
    "duration": 204,
    "start_time": "2022-05-17T16:21:34.780Z"
   },
   {
    "duration": 5,
    "start_time": "2022-05-17T16:21:36.567Z"
   },
   {
    "duration": 227,
    "start_time": "2022-05-17T16:21:40.040Z"
   },
   {
    "duration": 6,
    "start_time": "2022-05-17T16:21:41.092Z"
   },
   {
    "duration": 837,
    "start_time": "2022-05-17T16:21:43.470Z"
   },
   {
    "duration": 30,
    "start_time": "2022-05-17T16:21:44.441Z"
   },
   {
    "duration": 16,
    "start_time": "2022-05-17T16:21:45.999Z"
   },
   {
    "duration": 12,
    "start_time": "2022-05-17T16:21:46.303Z"
   },
   {
    "duration": 7,
    "start_time": "2022-05-17T16:21:47.824Z"
   },
   {
    "duration": 10,
    "start_time": "2022-05-17T16:21:48.733Z"
   },
   {
    "duration": 6,
    "start_time": "2022-05-17T16:21:49.261Z"
   },
   {
    "duration": 13,
    "start_time": "2022-05-17T16:21:49.651Z"
   },
   {
    "duration": 29,
    "start_time": "2022-05-17T16:21:50.086Z"
   },
   {
    "duration": 29,
    "start_time": "2022-05-17T16:21:50.518Z"
   },
   {
    "duration": 18,
    "start_time": "2022-05-17T16:21:52.161Z"
   },
   {
    "duration": 12,
    "start_time": "2022-05-17T16:21:52.621Z"
   },
   {
    "duration": 14,
    "start_time": "2022-05-17T16:22:12.553Z"
   },
   {
    "duration": 5,
    "start_time": "2022-05-17T16:22:15.693Z"
   },
   {
    "duration": 8,
    "start_time": "2022-05-17T16:22:16.068Z"
   },
   {
    "duration": 8,
    "start_time": "2022-05-17T16:22:16.464Z"
   },
   {
    "duration": 565,
    "start_time": "2022-05-17T16:22:16.829Z"
   },
   {
    "duration": 0,
    "start_time": "2022-05-17T16:22:17.396Z"
   },
   {
    "duration": 11,
    "start_time": "2022-05-17T16:24:20.753Z"
   },
   {
    "duration": 12,
    "start_time": "2022-05-17T16:24:32.078Z"
   },
   {
    "duration": 5,
    "start_time": "2022-05-17T16:24:37.045Z"
   },
   {
    "duration": 8,
    "start_time": "2022-05-17T16:24:37.432Z"
   },
   {
    "duration": 7,
    "start_time": "2022-05-17T16:24:37.808Z"
   },
   {
    "duration": 553,
    "start_time": "2022-05-17T16:24:38.523Z"
   },
   {
    "duration": 13,
    "start_time": "2022-05-17T16:25:57.748Z"
   },
   {
    "duration": 14,
    "start_time": "2022-05-17T16:26:02.683Z"
   },
   {
    "duration": 6,
    "start_time": "2022-05-17T16:26:06.649Z"
   },
   {
    "duration": 9,
    "start_time": "2022-05-17T16:26:06.981Z"
   },
   {
    "duration": 8,
    "start_time": "2022-05-17T16:26:07.294Z"
   },
   {
    "duration": 669,
    "start_time": "2022-05-17T16:26:07.624Z"
   },
   {
    "duration": 5,
    "start_time": "2022-05-17T16:26:42.937Z"
   },
   {
    "duration": 5,
    "start_time": "2022-05-17T16:26:45.602Z"
   },
   {
    "duration": 8,
    "start_time": "2022-05-17T16:26:46.042Z"
   },
   {
    "duration": 7,
    "start_time": "2022-05-17T16:26:46.427Z"
   },
   {
    "duration": 563,
    "start_time": "2022-05-17T16:26:47.070Z"
   },
   {
    "duration": 1359,
    "start_time": "2022-05-17T16:26:57.008Z"
   },
   {
    "duration": 101,
    "start_time": "2022-05-17T16:26:58.370Z"
   },
   {
    "duration": 16,
    "start_time": "2022-05-17T16:26:58.474Z"
   },
   {
    "duration": 13,
    "start_time": "2022-05-17T16:26:58.494Z"
   },
   {
    "duration": 21,
    "start_time": "2022-05-17T16:26:58.510Z"
   },
   {
    "duration": 25,
    "start_time": "2022-05-17T16:26:58.534Z"
   },
   {
    "duration": 26,
    "start_time": "2022-05-17T16:26:58.562Z"
   },
   {
    "duration": 11,
    "start_time": "2022-05-17T16:26:58.590Z"
   },
   {
    "duration": 17,
    "start_time": "2022-05-17T16:26:58.604Z"
   },
   {
    "duration": 6,
    "start_time": "2022-05-17T16:26:58.659Z"
   },
   {
    "duration": 15,
    "start_time": "2022-05-17T16:26:58.667Z"
   },
   {
    "duration": 512,
    "start_time": "2022-05-17T16:26:58.685Z"
   },
   {
    "duration": 3,
    "start_time": "2022-05-17T16:26:59.200Z"
   },
   {
    "duration": 7,
    "start_time": "2022-05-17T16:26:59.206Z"
   },
   {
    "duration": 8,
    "start_time": "2022-05-17T16:26:59.215Z"
   },
   {
    "duration": 12,
    "start_time": "2022-05-17T16:26:59.225Z"
   },
   {
    "duration": 287,
    "start_time": "2022-05-17T16:26:59.240Z"
   },
   {
    "duration": 215,
    "start_time": "2022-05-17T16:26:59.529Z"
   },
   {
    "duration": 10,
    "start_time": "2022-05-17T16:26:59.756Z"
   },
   {
    "duration": 11,
    "start_time": "2022-05-17T16:26:59.769Z"
   },
   {
    "duration": 458,
    "start_time": "2022-05-17T16:26:59.782Z"
   },
   {
    "duration": 362,
    "start_time": "2022-05-17T16:27:00.243Z"
   },
   {
    "duration": 450,
    "start_time": "2022-05-17T16:27:00.608Z"
   },
   {
    "duration": 364,
    "start_time": "2022-05-17T16:27:01.061Z"
   },
   {
    "duration": 473,
    "start_time": "2022-05-17T16:27:01.428Z"
   },
   {
    "duration": 9,
    "start_time": "2022-05-17T16:27:01.904Z"
   },
   {
    "duration": 226,
    "start_time": "2022-05-17T16:27:01.915Z"
   },
   {
    "duration": 14,
    "start_time": "2022-05-17T16:27:02.146Z"
   },
   {
    "duration": 247,
    "start_time": "2022-05-17T16:27:02.163Z"
   },
   {
    "duration": 5,
    "start_time": "2022-05-17T16:27:02.413Z"
   },
   {
    "duration": 873,
    "start_time": "2022-05-17T16:27:02.421Z"
   },
   {
    "duration": 28,
    "start_time": "2022-05-17T16:27:03.297Z"
   },
   {
    "duration": 36,
    "start_time": "2022-05-17T16:27:03.327Z"
   },
   {
    "duration": 12,
    "start_time": "2022-05-17T16:27:03.365Z"
   },
   {
    "duration": 6,
    "start_time": "2022-05-17T16:27:03.379Z"
   },
   {
    "duration": 17,
    "start_time": "2022-05-17T16:27:03.387Z"
   },
   {
    "duration": 12,
    "start_time": "2022-05-17T16:27:03.406Z"
   },
   {
    "duration": 36,
    "start_time": "2022-05-17T16:27:03.420Z"
   },
   {
    "duration": 30,
    "start_time": "2022-05-17T16:27:03.458Z"
   },
   {
    "duration": 28,
    "start_time": "2022-05-17T16:27:03.490Z"
   },
   {
    "duration": 46,
    "start_time": "2022-05-17T16:27:03.520Z"
   },
   {
    "duration": 12,
    "start_time": "2022-05-17T16:27:03.568Z"
   },
   {
    "duration": 13,
    "start_time": "2022-05-17T16:29:44.909Z"
   },
   {
    "duration": 16,
    "start_time": "2022-05-17T16:29:55.842Z"
   },
   {
    "duration": 15,
    "start_time": "2022-05-17T16:30:12.496Z"
   },
   {
    "duration": 13,
    "start_time": "2022-05-17T16:30:32.647Z"
   },
   {
    "duration": 12,
    "start_time": "2022-05-17T16:30:43.664Z"
   },
   {
    "duration": 4,
    "start_time": "2022-05-17T16:30:55.129Z"
   },
   {
    "duration": 48,
    "start_time": "2022-05-17T16:30:55.299Z"
   },
   {
    "duration": 14,
    "start_time": "2022-05-17T16:30:55.464Z"
   },
   {
    "duration": 16,
    "start_time": "2022-05-17T16:30:55.626Z"
   },
   {
    "duration": 14,
    "start_time": "2022-05-17T16:30:55.797Z"
   },
   {
    "duration": 8,
    "start_time": "2022-05-17T16:30:56.434Z"
   },
   {
    "duration": 25,
    "start_time": "2022-05-17T16:30:56.706Z"
   },
   {
    "duration": 5,
    "start_time": "2022-05-17T16:30:58.394Z"
   },
   {
    "duration": 13,
    "start_time": "2022-05-17T16:30:58.684Z"
   },
   {
    "duration": 6,
    "start_time": "2022-05-17T16:30:59.804Z"
   },
   {
    "duration": 15,
    "start_time": "2022-05-17T16:31:00.154Z"
   },
   {
    "duration": 505,
    "start_time": "2022-05-17T16:31:02.315Z"
   },
   {
    "duration": 4,
    "start_time": "2022-05-17T16:31:07.491Z"
   },
   {
    "duration": 3,
    "start_time": "2022-05-17T16:31:07.714Z"
   },
   {
    "duration": 19,
    "start_time": "2022-05-17T16:31:09.300Z"
   },
   {
    "duration": 15,
    "start_time": "2022-05-17T16:31:19.520Z"
   },
   {
    "duration": 1174,
    "start_time": "2022-05-18T16:31:29.697Z"
   },
   {
    "duration": 249,
    "start_time": "2022-05-18T16:31:30.874Z"
   },
   {
    "duration": 14,
    "start_time": "2022-05-18T16:31:31.124Z"
   },
   {
    "duration": 23,
    "start_time": "2022-05-18T16:31:31.141Z"
   },
   {
    "duration": 38,
    "start_time": "2022-05-18T16:31:31.167Z"
   },
   {
    "duration": 9,
    "start_time": "2022-05-18T16:31:31.206Z"
   },
   {
    "duration": 23,
    "start_time": "2022-05-18T16:31:31.217Z"
   },
   {
    "duration": 20,
    "start_time": "2022-05-18T16:31:31.242Z"
   },
   {
    "duration": 50,
    "start_time": "2022-05-18T16:31:31.265Z"
   },
   {
    "duration": 7,
    "start_time": "2022-05-18T16:31:31.317Z"
   },
   {
    "duration": 22,
    "start_time": "2022-05-18T16:31:31.326Z"
   },
   {
    "duration": 435,
    "start_time": "2022-05-18T16:31:31.349Z"
   },
   {
    "duration": 3,
    "start_time": "2022-05-18T16:31:31.786Z"
   },
   {
    "duration": 7,
    "start_time": "2022-05-18T16:31:31.795Z"
   },
   {
    "duration": 16,
    "start_time": "2022-05-18T16:31:31.804Z"
   },
   {
    "duration": 3,
    "start_time": "2022-05-18T16:31:31.822Z"
   },
   {
    "duration": 22,
    "start_time": "2022-05-18T16:31:31.827Z"
   },
   {
    "duration": 210,
    "start_time": "2022-05-18T16:31:31.851Z"
   },
   {
    "duration": 142,
    "start_time": "2022-05-18T16:31:32.063Z"
   },
   {
    "duration": 7,
    "start_time": "2022-05-18T16:31:32.207Z"
   },
   {
    "duration": 14,
    "start_time": "2022-05-18T16:31:32.216Z"
   },
   {
    "duration": 516,
    "start_time": "2022-05-18T16:31:32.232Z"
   },
   {
    "duration": 320,
    "start_time": "2022-05-18T16:31:32.751Z"
   },
   {
    "duration": 327,
    "start_time": "2022-05-18T16:31:33.077Z"
   },
   {
    "duration": 267,
    "start_time": "2022-05-18T16:31:33.407Z"
   },
   {
    "duration": 384,
    "start_time": "2022-05-18T16:31:33.676Z"
   },
   {
    "duration": 7,
    "start_time": "2022-05-18T16:31:34.062Z"
   },
   {
    "duration": 228,
    "start_time": "2022-05-18T16:31:34.077Z"
   },
   {
    "duration": 5,
    "start_time": "2022-05-18T16:31:34.307Z"
   },
   {
    "duration": 170,
    "start_time": "2022-05-18T16:31:34.314Z"
   },
   {
    "duration": 7,
    "start_time": "2022-05-18T16:31:34.490Z"
   },
   {
    "duration": 532,
    "start_time": "2022-05-18T16:31:34.498Z"
   },
   {
    "duration": 27,
    "start_time": "2022-05-18T16:31:35.032Z"
   },
   {
    "duration": 29,
    "start_time": "2022-05-18T16:31:35.061Z"
   },
   {
    "duration": 14,
    "start_time": "2022-05-18T16:31:35.094Z"
   },
   {
    "duration": 7,
    "start_time": "2022-05-18T16:31:35.110Z"
   },
   {
    "duration": 9,
    "start_time": "2022-05-18T16:31:35.120Z"
   },
   {
    "duration": 9,
    "start_time": "2022-05-18T16:31:35.132Z"
   },
   {
    "duration": 42,
    "start_time": "2022-05-18T16:31:35.143Z"
   },
   {
    "duration": 30,
    "start_time": "2022-05-18T16:31:35.191Z"
   },
   {
    "duration": 28,
    "start_time": "2022-05-18T16:31:35.225Z"
   },
   {
    "duration": 25,
    "start_time": "2022-05-18T16:31:35.255Z"
   },
   {
    "duration": 17,
    "start_time": "2022-05-18T16:31:35.288Z"
   }
  ],
  "kernelspec": {
   "display_name": "Python 3 (ipykernel)",
   "language": "python",
   "name": "python3"
  },
  "language_info": {
   "codemirror_mode": {
    "name": "ipython",
    "version": 3
   },
   "file_extension": ".py",
   "mimetype": "text/x-python",
   "name": "python",
   "nbconvert_exporter": "python",
   "pygments_lexer": "ipython3",
   "version": "3.9.5"
  },
  "toc": {
   "base_numbering": 1,
   "nav_menu": {},
   "number_sections": true,
   "sideBar": true,
   "skip_h1_title": true,
   "title_cell": "Table of Contents",
   "title_sidebar": "Contents",
   "toc_cell": false,
   "toc_position": {
    "height": "calc(100% - 180px)",
    "left": "10px",
    "top": "150px",
    "width": "165px"
   },
   "toc_section_display": true,
   "toc_window_display": true
  }
 },
 "nbformat": 4,
 "nbformat_minor": 2
}
