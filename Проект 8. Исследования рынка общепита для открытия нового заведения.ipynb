{
 "cells": [
  {
   "cell_type": "markdown",
   "metadata": {},
   "source": [
    "**РЫНОК ЗАВЕДЕНИЙ ОБЩЕСТВЕННОГО ПИТАНИЯ МОСКВЫ**"
   ]
  },
  {
   "cell_type": "markdown",
   "metadata": {},
   "source": [
    "**СТРУКТУРА РАБОТЫ:**"
   ]
  },
  {
   "cell_type": "markdown",
   "metadata": {},
   "source": [
    "**Часть 1. Загрузите данные и подготовьте их к анализу**"
   ]
  },
  {
   "cell_type": "markdown",
   "metadata": {},
   "source": [
    "**Задачи части 1:**"
   ]
  },
  {
   "cell_type": "markdown",
   "metadata": {},
   "source": [
    "1.1. Загрузить данные о заведениях общественного питания Москвы."
   ]
  },
  {
   "cell_type": "markdown",
   "metadata": {},
   "source": [
    "1.2. Проверить и скорректировать тип данных, наличие пропусков и дубликатов."
   ]
  },
  {
   "cell_type": "markdown",
   "metadata": {},
   "source": [
    "**Часть 2. Анализ данных**"
   ]
  },
  {
   "cell_type": "markdown",
   "metadata": {},
   "source": [
    "**Задачи части 2:**"
   ]
  },
  {
   "cell_type": "markdown",
   "metadata": {},
   "source": [
    "2.1. Исследовать соотношение видов объектов общественного питания по количеству. Построить график."
   ]
  },
  {
   "cell_type": "markdown",
   "metadata": {},
   "source": [
    "2.2. Исследовать соотношение сетевых и несетевых заведений по количеству. Построить график."
   ]
  },
  {
   "cell_type": "markdown",
   "metadata": {},
   "source": [
    "2.3. Определить для какого вида объекта общественного питания характерно сетевое распространение."
   ]
  },
  {
   "cell_type": "markdown",
   "metadata": {},
   "source": [
    "2.4. Определить, что характерно для сетевых заведений: много заведений с небольшим числом посадочных мест в каждом или мало заведений с большим количеством посадочных мест?"
   ]
  },
  {
   "cell_type": "markdown",
   "metadata": {},
   "source": [
    "2.5. Описать для каждого вида объекта общественного питания среднее количество посадочных мест. Определить какой вид предоставляет в среднем самое большое количество посадочных мест? Построить графики."
   ]
  },
  {
   "cell_type": "markdown",
   "metadata": {},
   "source": [
    "2.6. Выделить в отдельный столбец информацию об улице из столбца \"address\"."
   ]
  },
  {
   "cell_type": "markdown",
   "metadata": {},
   "source": [
    "2.7. Постройть график топ-10 улиц по количеству объектов общественного питания. Воспользуоваться внешней информацией и ответить на вопрос — в каких районах Москвы находятся эти улицы?"
   ]
  },
  {
   "cell_type": "markdown",
   "metadata": {},
   "source": [
    "2.8. Найти число улиц с одним объектом общественного питания. Воспользоваться внешней информацией и ответить на вопрос — в каких районах Москвы находятся эти улицы?"
   ]
  },
  {
   "cell_type": "markdown",
   "metadata": {},
   "source": [
    "**Часть 3. Подготовить презентацию**"
   ]
  },
  {
   "cell_type": "code",
   "execution_count": 1,
   "metadata": {},
   "outputs": [],
   "source": [
    "import pandas as pd\n",
    "import matplotlib.pyplot as plt\n",
    "import seaborn as sb\n",
    "import plotly.express as px\n",
    "from plotly import graph_objects as go"
   ]
  },
  {
   "cell_type": "markdown",
   "metadata": {},
   "source": [
    "**ЧАСТЬ 1**"
   ]
  },
  {
   "cell_type": "markdown",
   "metadata": {},
   "source": [
    "1.1. Загрузить данные о заведениях общественного питания Москвы."
   ]
  },
  {
   "cell_type": "code",
   "execution_count": 2,
   "metadata": {},
   "outputs": [],
   "source": [
    "rest = pd.read_csv('/datasets/rest_data.csv')"
   ]
  },
  {
   "cell_type": "code",
   "execution_count": 3,
   "metadata": {},
   "outputs": [
    {
     "data": {
      "text/html": [
       "<div>\n",
       "<style scoped>\n",
       "    .dataframe tbody tr th:only-of-type {\n",
       "        vertical-align: middle;\n",
       "    }\n",
       "\n",
       "    .dataframe tbody tr th {\n",
       "        vertical-align: top;\n",
       "    }\n",
       "\n",
       "    .dataframe thead th {\n",
       "        text-align: right;\n",
       "    }\n",
       "</style>\n",
       "<table border=\"1\" class=\"dataframe\">\n",
       "  <thead>\n",
       "    <tr style=\"text-align: right;\">\n",
       "      <th></th>\n",
       "      <th>id</th>\n",
       "      <th>object_name</th>\n",
       "      <th>chain</th>\n",
       "      <th>object_type</th>\n",
       "      <th>address</th>\n",
       "      <th>number</th>\n",
       "    </tr>\n",
       "  </thead>\n",
       "  <tbody>\n",
       "    <tr>\n",
       "      <th>0</th>\n",
       "      <td>151635</td>\n",
       "      <td>СМЕТАНА</td>\n",
       "      <td>нет</td>\n",
       "      <td>кафе</td>\n",
       "      <td>город Москва, улица Егора Абакумова, дом 9</td>\n",
       "      <td>48</td>\n",
       "    </tr>\n",
       "    <tr>\n",
       "      <th>1</th>\n",
       "      <td>77874</td>\n",
       "      <td>Родник</td>\n",
       "      <td>нет</td>\n",
       "      <td>кафе</td>\n",
       "      <td>город Москва, улица Талалихина, дом 2/1, корпус 1</td>\n",
       "      <td>35</td>\n",
       "    </tr>\n",
       "    <tr>\n",
       "      <th>2</th>\n",
       "      <td>24309</td>\n",
       "      <td>Кафе «Академия»</td>\n",
       "      <td>нет</td>\n",
       "      <td>кафе</td>\n",
       "      <td>город Москва, Абельмановская улица, дом 6</td>\n",
       "      <td>95</td>\n",
       "    </tr>\n",
       "    <tr>\n",
       "      <th>3</th>\n",
       "      <td>21894</td>\n",
       "      <td>ПИЦЦЕТОРИЯ</td>\n",
       "      <td>да</td>\n",
       "      <td>кафе</td>\n",
       "      <td>город Москва, Абрамцевская улица, дом 1</td>\n",
       "      <td>40</td>\n",
       "    </tr>\n",
       "    <tr>\n",
       "      <th>4</th>\n",
       "      <td>119365</td>\n",
       "      <td>Кафе «Вишневая метель»</td>\n",
       "      <td>нет</td>\n",
       "      <td>кафе</td>\n",
       "      <td>город Москва, Абрамцевская улица, дом 9, корпус 1</td>\n",
       "      <td>50</td>\n",
       "    </tr>\n",
       "    <tr>\n",
       "      <th>...</th>\n",
       "      <td>...</td>\n",
       "      <td>...</td>\n",
       "      <td>...</td>\n",
       "      <td>...</td>\n",
       "      <td>...</td>\n",
       "      <td>...</td>\n",
       "    </tr>\n",
       "    <tr>\n",
       "      <th>15361</th>\n",
       "      <td>208537</td>\n",
       "      <td>Шоколадница</td>\n",
       "      <td>да</td>\n",
       "      <td>кафе</td>\n",
       "      <td>город Москва, 3-й Крутицкий переулок, дом 18</td>\n",
       "      <td>50</td>\n",
       "    </tr>\n",
       "    <tr>\n",
       "      <th>15362</th>\n",
       "      <td>209264</td>\n",
       "      <td>Шоколадница</td>\n",
       "      <td>да</td>\n",
       "      <td>кафе</td>\n",
       "      <td>город Москва, улица Земляной Вал, дом 33</td>\n",
       "      <td>10</td>\n",
       "    </tr>\n",
       "    <tr>\n",
       "      <th>15363</th>\n",
       "      <td>209186</td>\n",
       "      <td>Шоколадница</td>\n",
       "      <td>да</td>\n",
       "      <td>кафе</td>\n",
       "      <td>город Москва, улица Земляной Вал, дом 33</td>\n",
       "      <td>20</td>\n",
       "    </tr>\n",
       "    <tr>\n",
       "      <th>15364</th>\n",
       "      <td>221900</td>\n",
       "      <td>Шоколадница</td>\n",
       "      <td>да</td>\n",
       "      <td>кафе</td>\n",
       "      <td>город Москва, поселение Московский, Киевское ш...</td>\n",
       "      <td>36</td>\n",
       "    </tr>\n",
       "    <tr>\n",
       "      <th>15365</th>\n",
       "      <td>222535</td>\n",
       "      <td>Шоколадница</td>\n",
       "      <td>да</td>\n",
       "      <td>кафе</td>\n",
       "      <td>город Москва, Ходынский бульвар, дом 4</td>\n",
       "      <td>10</td>\n",
       "    </tr>\n",
       "  </tbody>\n",
       "</table>\n",
       "<p>15366 rows × 6 columns</p>\n",
       "</div>"
      ],
      "text/plain": [
       "           id             object_name chain object_type  \\\n",
       "0      151635                 СМЕТАНА   нет        кафе   \n",
       "1       77874                  Родник   нет        кафе   \n",
       "2       24309         Кафе «Академия»   нет        кафе   \n",
       "3       21894              ПИЦЦЕТОРИЯ    да        кафе   \n",
       "4      119365  Кафе «Вишневая метель»   нет        кафе   \n",
       "...       ...                     ...   ...         ...   \n",
       "15361  208537             Шоколадница    да        кафе   \n",
       "15362  209264             Шоколадница    да        кафе   \n",
       "15363  209186             Шоколадница    да        кафе   \n",
       "15364  221900             Шоколадница    да        кафе   \n",
       "15365  222535             Шоколадница    да        кафе   \n",
       "\n",
       "                                                 address  number  \n",
       "0             город Москва, улица Егора Абакумова, дом 9      48  \n",
       "1      город Москва, улица Талалихина, дом 2/1, корпус 1      35  \n",
       "2              город Москва, Абельмановская улица, дом 6      95  \n",
       "3                город Москва, Абрамцевская улица, дом 1      40  \n",
       "4      город Москва, Абрамцевская улица, дом 9, корпус 1      50  \n",
       "...                                                  ...     ...  \n",
       "15361       город Москва, 3-й Крутицкий переулок, дом 18      50  \n",
       "15362           город Москва, улица Земляной Вал, дом 33      10  \n",
       "15363           город Москва, улица Земляной Вал, дом 33      20  \n",
       "15364  город Москва, поселение Московский, Киевское ш...      36  \n",
       "15365             город Москва, Ходынский бульвар, дом 4      10  \n",
       "\n",
       "[15366 rows x 6 columns]"
      ]
     },
     "metadata": {},
     "output_type": "display_data"
    }
   ],
   "source": [
    "display (rest)"
   ]
  },
  {
   "cell_type": "markdown",
   "metadata": {},
   "source": [
    "1.2. Проверить и скорректировать тип данных, наличие пропусков и дубликатов."
   ]
  },
  {
   "cell_type": "code",
   "execution_count": 4,
   "metadata": {},
   "outputs": [
    {
     "name": "stdout",
     "output_type": "stream",
     "text": [
      "<class 'pandas.core.frame.DataFrame'>\n",
      "RangeIndex: 15366 entries, 0 to 15365\n",
      "Data columns (total 6 columns):\n",
      " #   Column       Non-Null Count  Dtype \n",
      "---  ------       --------------  ----- \n",
      " 0   id           15366 non-null  int64 \n",
      " 1   object_name  15366 non-null  object\n",
      " 2   chain        15366 non-null  object\n",
      " 3   object_type  15366 non-null  object\n",
      " 4   address      15366 non-null  object\n",
      " 5   number       15366 non-null  int64 \n",
      "dtypes: int64(2), object(4)\n",
      "memory usage: 720.4+ KB\n"
     ]
    }
   ],
   "source": [
    "rest.info()"
   ]
  },
  {
   "cell_type": "code",
   "execution_count": 5,
   "metadata": {},
   "outputs": [
    {
     "name": "stdout",
     "output_type": "stream",
     "text": [
      "0                       СМЕТАНА\n",
      "1                        Родник\n",
      "2               Кафе «Академия»\n",
      "3                    ПИЦЦЕТОРИЯ\n",
      "4        Кафе «Вишневая метель»\n",
      "                  ...          \n",
      "15361               Шоколадница\n",
      "15362               Шоколадница\n",
      "15363               Шоколадница\n",
      "15364               Шоколадница\n",
      "15365               Шоколадница\n",
      "Name: object_name, Length: 15366, dtype: object\n"
     ]
    }
   ],
   "source": [
    "print(rest['object_name'])"
   ]
  },
  {
   "cell_type": "markdown",
   "metadata": {},
   "source": [
    "*Приведем столбец к нижнему регистру*"
   ]
  },
  {
   "cell_type": "code",
   "execution_count": 6,
   "metadata": {},
   "outputs": [
    {
     "name": "stdout",
     "output_type": "stream",
     "text": [
      "0                       сметана\n",
      "1                        родник\n",
      "2               кафе «академия»\n",
      "3                    пиццетория\n",
      "4        кафе «вишневая метель»\n",
      "                  ...          \n",
      "15361               шоколадница\n",
      "15362               шоколадница\n",
      "15363               шоколадница\n",
      "15364               шоколадница\n",
      "15365               шоколадница\n",
      "Name: object_name, Length: 15366, dtype: object\n"
     ]
    }
   ],
   "source": [
    "rest['object_name'] = rest['object_name'].str.lower()\n",
    "print(rest['object_name'])"
   ]
  },
  {
   "cell_type": "code",
   "execution_count": 7,
   "metadata": {},
   "outputs": [
    {
     "data": {
      "text/plain": [
       "array(['нет', 'да'], dtype=object)"
      ]
     },
     "execution_count": 7,
     "metadata": {},
     "output_type": "execute_result"
    }
   ],
   "source": [
    "rest['chain'].unique()"
   ]
  },
  {
   "cell_type": "markdown",
   "metadata": {},
   "source": [
    "*В данном столбце все в порядке*"
   ]
  },
  {
   "cell_type": "code",
   "execution_count": 8,
   "metadata": {},
   "outputs": [
    {
     "data": {
      "text/plain": [
       "array(['кафе', 'столовая', 'закусочная',\n",
       "       'предприятие быстрого обслуживания', 'ресторан', 'кафетерий',\n",
       "       'буфет', 'бар', 'магазин (отдел кулинарии)'], dtype=object)"
      ]
     },
     "execution_count": 8,
     "metadata": {},
     "output_type": "execute_result"
    }
   ],
   "source": [
    "rest['object_type'].unique()"
   ]
  },
  {
   "cell_type": "markdown",
   "metadata": {},
   "source": [
    "*С типами объектов, тоже все в порядке*"
   ]
  },
  {
   "cell_type": "markdown",
   "metadata": {},
   "source": [
    "*Приведем у нижнему регистру адреса, для удобства при анализе*"
   ]
  },
  {
   "cell_type": "code",
   "execution_count": 9,
   "metadata": {},
   "outputs": [
    {
     "name": "stdout",
     "output_type": "stream",
     "text": [
      "0               город москва, улица егора абакумова, дом 9\n",
      "1        город москва, улица талалихина, дом 2/1, корпус 1\n",
      "2                город москва, абельмановская улица, дом 6\n",
      "3                  город москва, абрамцевская улица, дом 1\n",
      "4        город москва, абрамцевская улица, дом 9, корпус 1\n",
      "                               ...                        \n",
      "15361         город москва, 3-й крутицкий переулок, дом 18\n",
      "15362             город москва, улица земляной вал, дом 33\n",
      "15363             город москва, улица земляной вал, дом 33\n",
      "15364    город москва, поселение московский, киевское ш...\n",
      "15365               город москва, ходынский бульвар, дом 4\n",
      "Name: address, Length: 15366, dtype: object\n"
     ]
    }
   ],
   "source": [
    "rest['address'] = rest['address'].str.lower()\n",
    "print(rest['address'])"
   ]
  },
  {
   "cell_type": "markdown",
   "metadata": {},
   "source": [
    "*Проверим дубликаты и пропуски*"
   ]
  },
  {
   "cell_type": "code",
   "execution_count": 10,
   "metadata": {},
   "outputs": [
    {
     "name": "stdout",
     "output_type": "stream",
     "text": [
      "id             0\n",
      "object_name    0\n",
      "chain          0\n",
      "object_type    0\n",
      "address        0\n",
      "number         0\n",
      "dtype: int64\n",
      "-----------------\n",
      "0\n"
     ]
    }
   ],
   "source": [
    "print (rest.isna().sum())\n",
    "print('-----------------')\n",
    "print (rest.duplicated().sum())"
   ]
  },
  {
   "cell_type": "markdown",
   "metadata": {},
   "source": [
    "*Дубликатов и пропусков нет. Переходим к анализу данных*"
   ]
  },
  {
   "cell_type": "markdown",
   "metadata": {},
   "source": [
    "**ЧАСТЬ 2. АНАЛИЗ ДАННЫХ**"
   ]
  },
  {
   "cell_type": "markdown",
   "metadata": {},
   "source": [
    "**2.1. Исследовать соотношение видов объектов общественного питания по количеству. Построить график.**"
   ]
  },
  {
   "cell_type": "code",
   "execution_count": 11,
   "metadata": {},
   "outputs": [
    {
     "data": {
      "text/plain": [
       "кафе                                 6099\n",
       "столовая                             2587\n",
       "ресторан                             2285\n",
       "предприятие быстрого обслуживания    1923\n",
       "бар                                   856\n",
       "буфет                                 585\n",
       "кафетерий                             398\n",
       "закусочная                            360\n",
       "магазин (отдел кулинарии)             273\n",
       "Name: object_type, dtype: int64"
      ]
     },
     "execution_count": 11,
     "metadata": {},
     "output_type": "execute_result"
    }
   ],
   "source": [
    "rest['object_type'].value_counts()"
   ]
  },
  {
   "cell_type": "code",
   "execution_count": null,
   "metadata": {},
   "outputs": [],
   "source": [
    "fig = go.Figure(data=[go.Pie(labels=rest['object_type'].value_counts().index, values=rest['object_type'].value_counts(), title = 'Соотношение видов объектов общественного питания по количеству')])\n",
    "fig.show()"
   ]
  },
  {
   "cell_type": "markdown",
   "metadata": {},
   "source": [
    "*Наибольшее количество заведений отсносится к \"кафе\", нименьшее к \"магазинам с кулинарией\"*"
   ]
  },
  {
   "cell_type": "markdown",
   "metadata": {},
   "source": [
    "**2.2. Исследовать соотношение сетевых и несетевых заведений по количеству. Построить график.**"
   ]
  },
  {
   "cell_type": "code",
   "execution_count": null,
   "metadata": {},
   "outputs": [],
   "source": [
    "rest['chain'].value_counts()"
   ]
  },
  {
   "cell_type": "code",
   "execution_count": null,
   "metadata": {},
   "outputs": [],
   "source": [
    "fig = go.Figure(data=[go.Pie(labels=rest['chain'].value_counts().index, values=rest['chain'].value_counts(), title = 'Cоотношение сетевых и несетевых заведений по количеству')])\n",
    "fig.show()"
   ]
  },
  {
   "cell_type": "markdown",
   "metadata": {},
   "source": [
    "*80% заведений являются не сетевыми*"
   ]
  },
  {
   "cell_type": "markdown",
   "metadata": {},
   "source": [
    "**2.3. Определить для какого вида объекта общественного питания характерно сетевое распространение.**"
   ]
  },
  {
   "cell_type": "code",
   "execution_count": null,
   "metadata": {},
   "outputs": [],
   "source": [
    "chain_distribution = (rest.groupby(['object_type','chain'])['id'].count().reset_index().merge(rest.groupby('object_type').chain.count(), on='object_type'))\n",
    "chain_distribution = chain_distribution.rename(columns={'chain_x':'chain','chain_y' : 'total_quantity', 'id':'quantity'})\n",
    "display(chain_distribution)"
   ]
  },
  {
   "cell_type": "code",
   "execution_count": null,
   "metadata": {},
   "outputs": [],
   "source": [
    "chain_distribution ['share_of_chain'] = (chain_distribution['quantity'] * 100 / chain_distribution['total_quantity'])\n",
    "display(chain_distribution)"
   ]
  },
  {
   "cell_type": "code",
   "execution_count": null,
   "metadata": {},
   "outputs": [],
   "source": [
    "fig = px.bar(chain_distribution, x='object_type', y='quantity', color='chain', title='Распределение сетей по типу') \n",
    "fig.update_xaxes(tickangle=45)\n",
    "fig.show()"
   ]
  },
  {
   "cell_type": "code",
   "execution_count": null,
   "metadata": {},
   "outputs": [],
   "source": [
    "fig = px.bar(chain_distribution.query('chain==\"да\"').sort_values(by='share_of_chain'), x='object_type', y='share_of_chain', title = 'Распределение по доли сетевых объектов')\n",
    "fig.update_xaxes(tickangle=45)\n",
    "fig.show()"
   ]
  },
  {
   "cell_type": "markdown",
   "metadata": {},
   "source": [
    "*Топ 3: Предприятия быстрого обслуживания, Отделы кулинарии и рестораны*"
   ]
  },
  {
   "cell_type": "markdown",
   "metadata": {},
   "source": [
    "**2.4. Определить, что характерно для сетевых заведений: много заведений с небольшим числом посадочных мест в каждом или мало заведений с большим количеством посадочных мест?**"
   ]
  },
  {
   "cell_type": "code",
   "execution_count": null,
   "metadata": {},
   "outputs": [],
   "source": [
    "seats_avg_chain = rest[rest['chain'] == 'да'].groupby('object_type').agg({'number':'mean','id':'count'}).reset_index().rename(columns={'id':'quantity'}).sort_values(by='quantity', ascending=False)\n",
    "\n",
    "display (seats_avg_chain)"
   ]
  },
  {
   "cell_type": "markdown",
   "metadata": {},
   "source": [
    "*Много заведений с с небольшим числом посадочных мест*"
   ]
  },
  {
   "cell_type": "markdown",
   "metadata": {},
   "source": [
    "**2.5. Описать для каждого вида объекта общественного питания среднее количество посадочных мест. Определить какой вид предоставляет в среднем самое большое количество посадочных мест? Построить графики.**"
   ]
  },
  {
   "cell_type": "code",
   "execution_count": null,
   "metadata": {},
   "outputs": [],
   "source": [
    "seats = rest.groupby('object_type').agg({'number':'mean','id':'count'}).reset_index().rename(columns={'id':'quantity'}).sort_values(by='quantity', ascending=False)\n",
    "display(seats)"
   ]
  },
  {
   "cell_type": "code",
   "execution_count": null,
   "metadata": {},
   "outputs": [],
   "source": [
    "fig = px.bar(seats.sort_values(by='number'), x='object_type', y='number', title='Cреднее количество посадочных мест')\n",
    "fig.update_xaxes(tickangle=45)\n",
    "fig.show()"
   ]
  },
  {
   "cell_type": "markdown",
   "metadata": {},
   "source": [
    "*Столовые имеют в среднем самое большое количество посадочных мест*"
   ]
  },
  {
   "cell_type": "markdown",
   "metadata": {},
   "source": [
    "**2.6. Выделить в отдельный столбец информацию об улице из столбца \"address\".**"
   ]
  },
  {
   "cell_type": "code",
   "execution_count": null,
   "metadata": {},
   "outputs": [],
   "source": [
    "rest['address']"
   ]
  },
  {
   "cell_type": "code",
   "execution_count": null,
   "metadata": {},
   "outputs": [],
   "source": [
    "def street_func (data):\n",
    "    \n",
    "    name_street = ['улица','ул','шоссе','проспект','переулок','проезд','набережная','линия','километр','бульвар','аллея','село','площадь','тупик']\n",
    "\n",
    "    for street in data:\n",
    "        for name in name_street:\n",
    "            if name in street:\n",
    "                return street"
   ]
  },
  {
   "cell_type": "code",
   "execution_count": null,
   "metadata": {},
   "outputs": [],
   "source": [
    "rest['street'] = rest['address'].str.split(',').apply(street_func)"
   ]
  },
  {
   "cell_type": "code",
   "execution_count": null,
   "metadata": {},
   "outputs": [],
   "source": [
    "rest"
   ]
  },
  {
   "cell_type": "markdown",
   "metadata": {},
   "source": [
    "*Выделили адрес отдельным стобцом*"
   ]
  },
  {
   "cell_type": "markdown",
   "metadata": {},
   "source": [
    "**2.7. Постройть график топ-10 улиц по количеству объектов общественного питания. Воспользуоваться внешней информацией и ответить на вопрос — в каких районах Москвы находятся эти улицы?**"
   ]
  },
  {
   "cell_type": "code",
   "execution_count": null,
   "metadata": {},
   "outputs": [],
   "source": [
    "top_10_st = rest.groupby('street').count().rename(columns={'id':'quantity'}).sort_values(by='quantity', ascending=False).head(10).reset_index()\n",
    "top_10_st"
   ]
  },
  {
   "cell_type": "code",
   "execution_count": null,
   "metadata": {},
   "outputs": [],
   "source": [
    "fig = px.bar(top_10_st.sort_values(by='quantity'), x='street', y='quantity', title='Топ 10 улиц')\n",
    "fig.update_xaxes(tickangle=45)\n",
    "fig.show()"
   ]
  },
  {
   "cell_type": "code",
   "execution_count": null,
   "metadata": {},
   "outputs": [],
   "source": [
    "from io import BytesIO\n",
    "import requests\n",
    "spreadsheet_id = '1mlSmwzMl4EpPTWU8h594R-qcs6BTGmzEFXPTm1JGvaw'\n",
    "file_name = 'https://docs.google.com/spreadsheets/d/{}/export?format=csv'.format(spreadsheet_id)\n",
    "r = requests.get(file_name)\n",
    "data_district = pd.read_csv(BytesIO(r.content))\n",
    "data_district['street'] = data_district['Address'].str.split(',').apply(street_func)\n",
    "data_district['street'] = data_district['street'].str.lower()\n",
    "display(data_district)"
   ]
  },
  {
   "cell_type": "code",
   "execution_count": null,
   "metadata": {},
   "outputs": [],
   "source": [
    "top_10_st_area = top_10_st.merge(data_district, how='left', left_on='street', right_on='street')\n",
    "top_10_st_area[['street','District']]"
   ]
  },
  {
   "cell_type": "code",
   "execution_count": null,
   "metadata": {},
   "outputs": [],
   "source": [
    "top_10_st_area_group = pd.pivot_table(top_10_st_area,index=['street', 'District'])\n",
    "top_10_st_area_group.sort_values(by='quantity',ascending=False)"
   ]
  },
  {
   "cell_type": "markdown",
   "metadata": {},
   "source": [
    "*Так как улицы длинные, они затрагивают несколько районов*"
   ]
  },
  {
   "cell_type": "markdown",
   "metadata": {},
   "source": [
    "**2.8. Найти число улиц с одним объектом общественного питания. Воспользоваться внешней информацией и ответить на вопрос — в каких районах Москвы находятся эти улицы?**"
   ]
  },
  {
   "cell_type": "code",
   "execution_count": null,
   "metadata": {},
   "outputs": [],
   "source": [
    "street_gr = rest.groupby('street').count().rename(columns={'id':'quantity'}).sort_values(by='quantity', ascending=False).reset_index()\n",
    "one_st = street_gr[street_gr['quantity'] == 1]\n",
    "one_st[['street','quantity']]"
   ]
  },
  {
   "cell_type": "code",
   "execution_count": null,
   "metadata": {},
   "outputs": [],
   "source": [
    "one_st_area = one_st.merge(data_district, how='left', left_on='street', right_on='street')\n",
    "one_st_area_group = pd.pivot_table(one_st_area,index=['street', 'District'])\n",
    "one_st_area_group"
   ]
  },
  {
   "cell_type": "markdown",
   "metadata": {},
   "source": [
    "**Вывод:**"
   ]
  },
  {
   "cell_type": "markdown",
   "metadata": {},
   "source": [
    "1. Топ 3 категории объектов: 40% кафе, 17% столовые и 15% рестораны"
   ]
  },
  {
   "cell_type": "markdown",
   "metadata": {},
   "source": [
    "2. Доля сетевых точек составляет всего 20%. Топ 3 сетевых категории - кафе, точки быстрого питания и рестораны"
   ]
  },
  {
   "cell_type": "markdown",
   "metadata": {},
   "source": [
    "3. Для кафе и точек быстрого питания характерно больше точек, но мало мест, в отличии от ресторанов, в них больше мест и мало точек. "
   ]
  },
  {
   "cell_type": "markdown",
   "metadata": {},
   "source": [
    "4. Топ 3 улиц с наибольшим количеством заведений: проспект мира, профсоюзная улица, ленинградский проспект."
   ]
  },
  {
   "cell_type": "markdown",
   "metadata": {},
   "source": [
    "5. Количество улиц с одним заведением составляет 464."
   ]
  },
  {
   "cell_type": "markdown",
   "metadata": {},
   "source": [
    "**Рекомендации:**"
   ]
  },
  {
   "cell_type": "markdown",
   "metadata": {},
   "source": [
    "1. Надо выбирать одну из топ категорий: кафе, столовые или рестораны. "
   ]
  },
  {
   "cell_type": "markdown",
   "metadata": {},
   "source": [
    "2. По посадочным местам: Кафе в 40 мест, Столовая в 130 мест и рестораны в 90 мест. "
   ]
  },
  {
   "cell_type": "markdown",
   "metadata": {},
   "source": [
    "3. Необходимо рассмотреть топ 3 улиц по конкуренции и проходимости людей. Также, я бы рассмотрел улицы с одним заведением, посмотрел на проходимость людей."
   ]
  },
  {
   "cell_type": "markdown",
   "metadata": {},
   "source": [
    "4. Рекомендую сделать небольшую сеть, чтобы расширить присутсвие по районам. Также, это поможет в распределении выручки. Одна точка может быть убыточной на какой-то стадии, а другая сверх прибыльной. "
   ]
  },
  {
   "cell_type": "markdown",
   "metadata": {},
   "source": [
    "**ЧАСТЬ 3**"
   ]
  },
  {
   "cell_type": "markdown",
   "metadata": {},
   "source": [
    "Презентация: https://disk.yandex.ru/i/DypxTwCl0mWDGQ"
   ]
  },
  {
   "cell_type": "code",
   "execution_count": null,
   "metadata": {},
   "outputs": [],
   "source": []
  }
 ],
 "metadata": {
  "ExecuteTimeLog": [
   {
    "duration": 2299,
    "start_time": "2022-05-18T19:36:02.914Z"
   },
   {
    "duration": 344,
    "start_time": "2022-05-18T19:36:20.052Z"
   },
   {
    "duration": 15,
    "start_time": "2022-05-18T19:39:02.610Z"
   },
   {
    "duration": 18,
    "start_time": "2022-05-18T19:40:19.300Z"
   },
   {
    "duration": 8,
    "start_time": "2022-05-18T19:45:22.272Z"
   },
   {
    "duration": 5,
    "start_time": "2022-05-18T19:45:29.783Z"
   },
   {
    "duration": 27,
    "start_time": "2022-05-18T19:46:21.982Z"
   },
   {
    "duration": 34,
    "start_time": "2022-05-18T19:46:31.239Z"
   },
   {
    "duration": 7,
    "start_time": "2022-05-18T19:50:07.272Z"
   },
   {
    "duration": 10,
    "start_time": "2022-05-18T19:50:17.967Z"
   },
   {
    "duration": 8,
    "start_time": "2022-05-18T19:51:55.279Z"
   },
   {
    "duration": 9,
    "start_time": "2022-05-18T19:52:03.169Z"
   },
   {
    "duration": 16,
    "start_time": "2022-05-18T19:54:46.469Z"
   },
   {
    "duration": 11,
    "start_time": "2022-05-18T19:55:34.273Z"
   },
   {
    "duration": 16,
    "start_time": "2022-05-18T19:57:23.496Z"
   },
   {
    "duration": 28,
    "start_time": "2022-05-18T20:10:15.160Z"
   },
   {
    "duration": 33,
    "start_time": "2022-05-18T20:10:31.760Z"
   },
   {
    "duration": 50,
    "start_time": "2022-05-18T20:10:48.266Z"
   },
   {
    "duration": 27,
    "start_time": "2022-05-18T20:10:56.909Z"
   },
   {
    "duration": 21,
    "start_time": "2022-05-18T20:11:05.418Z"
   },
   {
    "duration": 30,
    "start_time": "2022-05-18T20:11:39.259Z"
   },
   {
    "duration": 20,
    "start_time": "2022-05-18T20:12:11.268Z"
   },
   {
    "duration": 9,
    "start_time": "2022-05-18T20:17:07.906Z"
   },
   {
    "duration": 122,
    "start_time": "2022-05-18T20:17:43.899Z"
   },
   {
    "duration": 824,
    "start_time": "2022-05-18T20:22:08.330Z"
   },
   {
    "duration": 38,
    "start_time": "2022-05-18T20:23:57.671Z"
   },
   {
    "duration": 24,
    "start_time": "2022-05-18T20:24:48.094Z"
   },
   {
    "duration": 22,
    "start_time": "2022-05-18T20:24:53.665Z"
   },
   {
    "duration": 14,
    "start_time": "2022-05-18T20:25:02.785Z"
   },
   {
    "duration": 15,
    "start_time": "2022-05-18T20:25:11.089Z"
   },
   {
    "duration": 8,
    "start_time": "2022-05-18T20:28:34.617Z"
   },
   {
    "duration": 11,
    "start_time": "2022-05-18T20:29:00.425Z"
   },
   {
    "duration": 10,
    "start_time": "2022-05-18T20:39:09.569Z"
   },
   {
    "duration": 9,
    "start_time": "2022-05-18T20:39:23.270Z"
   },
   {
    "duration": 9,
    "start_time": "2022-05-18T20:39:37.873Z"
   },
   {
    "duration": 19,
    "start_time": "2022-05-18T20:40:43.115Z"
   },
   {
    "duration": 20,
    "start_time": "2022-05-18T20:40:50.162Z"
   },
   {
    "duration": 17,
    "start_time": "2022-05-18T20:42:37.497Z"
   },
   {
    "duration": 17,
    "start_time": "2022-05-18T20:43:18.921Z"
   },
   {
    "duration": 26,
    "start_time": "2022-05-18T20:43:29.898Z"
   },
   {
    "duration": 24,
    "start_time": "2022-05-18T20:44:07.474Z"
   },
   {
    "duration": 18,
    "start_time": "2022-05-18T20:44:33.606Z"
   },
   {
    "duration": 31,
    "start_time": "2022-05-18T20:45:47.064Z"
   },
   {
    "duration": 17,
    "start_time": "2022-05-18T20:46:33.468Z"
   },
   {
    "duration": 26,
    "start_time": "2022-05-18T20:46:54.638Z"
   },
   {
    "duration": 19,
    "start_time": "2022-05-18T20:47:16.730Z"
   },
   {
    "duration": 20,
    "start_time": "2022-05-18T20:48:14.917Z"
   },
   {
    "duration": 20,
    "start_time": "2022-05-18T20:48:30.118Z"
   },
   {
    "duration": 18,
    "start_time": "2022-05-18T20:49:09.687Z"
   },
   {
    "duration": 21,
    "start_time": "2022-05-18T20:49:19.817Z"
   },
   {
    "duration": 18,
    "start_time": "2022-05-18T20:50:24.719Z"
   },
   {
    "duration": 317,
    "start_time": "2022-05-18T20:52:38.914Z"
   },
   {
    "duration": 13,
    "start_time": "2022-05-18T20:53:01.900Z"
   },
   {
    "duration": 23,
    "start_time": "2022-05-18T20:55:27.877Z"
   },
   {
    "duration": 457,
    "start_time": "2022-05-18T20:55:45.017Z"
   },
   {
    "duration": 51,
    "start_time": "2022-05-18T20:55:54.299Z"
   },
   {
    "duration": 46,
    "start_time": "2022-05-18T20:56:02.593Z"
   },
   {
    "duration": 71,
    "start_time": "2022-05-18T20:56:44.517Z"
   },
   {
    "duration": 18,
    "start_time": "2022-05-18T20:59:06.031Z"
   },
   {
    "duration": 22,
    "start_time": "2022-05-18T20:59:40.503Z"
   },
   {
    "duration": 13,
    "start_time": "2022-05-18T21:00:14.224Z"
   },
   {
    "duration": 14,
    "start_time": "2022-05-18T21:00:52.283Z"
   },
   {
    "duration": 29,
    "start_time": "2022-05-18T21:01:24.444Z"
   },
   {
    "duration": 122,
    "start_time": "2022-05-18T21:03:27.568Z"
   },
   {
    "duration": 16,
    "start_time": "2022-05-18T21:04:05.310Z"
   },
   {
    "duration": 23,
    "start_time": "2022-05-18T21:05:46.264Z"
   },
   {
    "duration": 118,
    "start_time": "2022-05-18T21:07:27.370Z"
   },
   {
    "duration": 1484,
    "start_time": "2022-05-19T18:52:26.380Z"
   },
   {
    "duration": 126,
    "start_time": "2022-05-19T18:52:27.866Z"
   },
   {
    "duration": 23,
    "start_time": "2022-05-19T18:52:27.994Z"
   },
   {
    "duration": 22,
    "start_time": "2022-05-19T18:52:28.018Z"
   },
   {
    "duration": 10,
    "start_time": "2022-05-19T18:52:28.045Z"
   },
   {
    "duration": 14,
    "start_time": "2022-05-19T18:52:28.056Z"
   },
   {
    "duration": 7,
    "start_time": "2022-05-19T18:52:28.071Z"
   },
   {
    "duration": 14,
    "start_time": "2022-05-19T18:52:28.079Z"
   },
   {
    "duration": 17,
    "start_time": "2022-05-19T18:52:28.094Z"
   },
   {
    "duration": 30,
    "start_time": "2022-05-19T18:52:28.126Z"
   },
   {
    "duration": 7,
    "start_time": "2022-05-19T18:52:28.158Z"
   },
   {
    "duration": 257,
    "start_time": "2022-05-19T18:52:28.166Z"
   },
   {
    "duration": 19,
    "start_time": "2022-05-19T18:52:28.425Z"
   },
   {
    "duration": 29,
    "start_time": "2022-05-19T18:52:28.450Z"
   },
   {
    "duration": 68,
    "start_time": "2022-05-19T18:52:28.480Z"
   },
   {
    "duration": 13,
    "start_time": "2022-05-19T18:52:28.550Z"
   },
   {
    "duration": 341,
    "start_time": "2022-05-19T18:52:28.565Z"
   },
   {
    "duration": 66,
    "start_time": "2022-05-19T18:52:28.908Z"
   },
   {
    "duration": 63,
    "start_time": "2022-05-19T18:55:08.423Z"
   },
   {
    "duration": 233,
    "start_time": "2022-05-19T19:05:46.623Z"
   },
   {
    "duration": 16,
    "start_time": "2022-05-19T19:05:53.759Z"
   },
   {
    "duration": 13,
    "start_time": "2022-05-19T19:05:54.251Z"
   },
   {
    "duration": 16,
    "start_time": "2022-05-19T19:06:54.149Z"
   },
   {
    "duration": 19,
    "start_time": "2022-05-19T19:07:57.083Z"
   },
   {
    "duration": 39,
    "start_time": "2022-05-19T19:08:20.761Z"
   },
   {
    "duration": 19,
    "start_time": "2022-05-19T19:08:37.774Z"
   },
   {
    "duration": 28,
    "start_time": "2022-05-19T19:08:55.068Z"
   },
   {
    "duration": 23,
    "start_time": "2022-05-19T19:11:08.467Z"
   },
   {
    "duration": 17,
    "start_time": "2022-05-19T19:11:20.251Z"
   },
   {
    "duration": 28,
    "start_time": "2022-05-19T19:11:50.773Z"
   },
   {
    "duration": 41,
    "start_time": "2022-05-19T19:12:14.306Z"
   },
   {
    "duration": 23,
    "start_time": "2022-05-19T19:15:11.495Z"
   },
   {
    "duration": 60,
    "start_time": "2022-05-19T19:16:50.976Z"
   },
   {
    "duration": 33,
    "start_time": "2022-05-19T19:17:24.026Z"
   },
   {
    "duration": 50,
    "start_time": "2022-05-19T19:17:49.156Z"
   },
   {
    "duration": 51,
    "start_time": "2022-05-19T19:18:35.864Z"
   },
   {
    "duration": 44,
    "start_time": "2022-05-19T19:19:10.646Z"
   },
   {
    "duration": 58,
    "start_time": "2022-05-19T19:19:33.887Z"
   },
   {
    "duration": 53,
    "start_time": "2022-05-19T19:21:13.545Z"
   },
   {
    "duration": 74,
    "start_time": "2022-05-19T19:21:46.963Z"
   },
   {
    "duration": 81,
    "start_time": "2022-05-19T19:26:54.494Z"
   },
   {
    "duration": 66,
    "start_time": "2022-05-19T19:27:16.292Z"
   },
   {
    "duration": 11,
    "start_time": "2022-05-19T19:27:35.614Z"
   },
   {
    "duration": 20,
    "start_time": "2022-05-19T19:29:47.762Z"
   },
   {
    "duration": 9,
    "start_time": "2022-05-19T19:29:59.045Z"
   },
   {
    "duration": 13,
    "start_time": "2022-05-19T19:30:09.090Z"
   },
   {
    "duration": 15,
    "start_time": "2022-05-19T19:30:11.181Z"
   },
   {
    "duration": 16,
    "start_time": "2022-05-19T19:30:42.070Z"
   },
   {
    "duration": 27,
    "start_time": "2022-05-19T19:31:55.597Z"
   },
   {
    "duration": 6,
    "start_time": "2022-05-19T19:32:44.274Z"
   },
   {
    "duration": 15,
    "start_time": "2022-05-19T19:33:01.602Z"
   },
   {
    "duration": 17,
    "start_time": "2022-05-19T19:33:20.960Z"
   },
   {
    "duration": 6,
    "start_time": "2022-05-19T19:33:21.940Z"
   },
   {
    "duration": 11,
    "start_time": "2022-05-19T19:33:23.547Z"
   },
   {
    "duration": 10,
    "start_time": "2022-05-19T19:33:43.488Z"
   },
   {
    "duration": 14,
    "start_time": "2022-05-19T19:34:31.988Z"
   },
   {
    "duration": 4,
    "start_time": "2022-05-19T19:34:33.102Z"
   },
   {
    "duration": 8,
    "start_time": "2022-05-19T19:34:33.355Z"
   },
   {
    "duration": 4,
    "start_time": "2022-05-19T19:38:26.162Z"
   },
   {
    "duration": 17,
    "start_time": "2022-05-19T19:39:31.792Z"
   },
   {
    "duration": 17,
    "start_time": "2022-05-19T19:39:56.049Z"
   },
   {
    "duration": 17,
    "start_time": "2022-05-19T19:40:13.935Z"
   },
   {
    "duration": 15,
    "start_time": "2022-05-19T19:40:38.488Z"
   },
   {
    "duration": 15,
    "start_time": "2022-05-19T19:45:30.767Z"
   },
   {
    "duration": 20,
    "start_time": "2022-05-19T19:46:09.492Z"
   },
   {
    "duration": 15,
    "start_time": "2022-05-19T19:46:18.490Z"
   },
   {
    "duration": 8,
    "start_time": "2022-05-19T19:53:00.496Z"
   },
   {
    "duration": 15,
    "start_time": "2022-05-19T19:53:20.978Z"
   },
   {
    "duration": 54,
    "start_time": "2022-05-19T19:55:18.299Z"
   },
   {
    "duration": 65,
    "start_time": "2022-05-19T19:58:55.623Z"
   },
   {
    "duration": 28,
    "start_time": "2022-05-19T19:59:43.969Z"
   },
   {
    "duration": 66,
    "start_time": "2022-05-19T20:00:09.367Z"
   },
   {
    "duration": 14,
    "start_time": "2022-05-19T20:00:45.527Z"
   },
   {
    "duration": 48,
    "start_time": "2022-05-19T20:00:57.570Z"
   },
   {
    "duration": 151,
    "start_time": "2022-05-19T20:01:15.745Z"
   },
   {
    "duration": 67,
    "start_time": "2022-05-19T20:02:08.311Z"
   },
   {
    "duration": 10,
    "start_time": "2022-05-19T20:02:32.409Z"
   },
   {
    "duration": 69,
    "start_time": "2022-05-19T20:02:36.863Z"
   },
   {
    "duration": 10,
    "start_time": "2022-05-19T20:02:40.812Z"
   },
   {
    "duration": 47,
    "start_time": "2022-05-19T20:02:44.900Z"
   },
   {
    "duration": 50,
    "start_time": "2022-05-19T20:03:05.183Z"
   },
   {
    "duration": 1239,
    "start_time": "2022-05-19T20:03:22.955Z"
   },
   {
    "duration": 59,
    "start_time": "2022-05-19T20:03:24.196Z"
   },
   {
    "duration": 17,
    "start_time": "2022-05-19T20:03:24.257Z"
   },
   {
    "duration": 14,
    "start_time": "2022-05-19T20:03:24.276Z"
   },
   {
    "duration": 7,
    "start_time": "2022-05-19T20:03:24.292Z"
   },
   {
    "duration": 15,
    "start_time": "2022-05-19T20:03:24.325Z"
   },
   {
    "duration": 9,
    "start_time": "2022-05-19T20:03:24.341Z"
   },
   {
    "duration": 14,
    "start_time": "2022-05-19T20:03:24.352Z"
   },
   {
    "duration": 27,
    "start_time": "2022-05-19T20:03:24.368Z"
   },
   {
    "duration": 98,
    "start_time": "2022-05-19T20:03:24.398Z"
   },
   {
    "duration": 11,
    "start_time": "2022-05-19T20:03:24.498Z"
   },
   {
    "duration": 328,
    "start_time": "2022-05-19T20:03:24.512Z"
   },
   {
    "duration": 8,
    "start_time": "2022-05-19T20:03:24.843Z"
   },
   {
    "duration": 20,
    "start_time": "2022-05-19T20:03:24.856Z"
   },
   {
    "duration": 81,
    "start_time": "2022-05-19T20:03:24.878Z"
   },
   {
    "duration": 67,
    "start_time": "2022-05-19T20:03:24.962Z"
   },
   {
    "duration": 282,
    "start_time": "2022-05-19T20:03:25.032Z"
   },
   {
    "duration": 92,
    "start_time": "2022-05-19T20:03:25.316Z"
   },
   {
    "duration": 40,
    "start_time": "2022-05-19T20:03:25.410Z"
   },
   {
    "duration": 23,
    "start_time": "2022-05-19T20:03:25.453Z"
   },
   {
    "duration": 99,
    "start_time": "2022-05-19T20:03:25.480Z"
   },
   {
    "duration": 3,
    "start_time": "2022-05-19T20:16:03.608Z"
   },
   {
    "duration": 23,
    "start_time": "2022-05-19T20:16:20.710Z"
   },
   {
    "duration": 55,
    "start_time": "2022-05-19T20:17:43.816Z"
   },
   {
    "duration": 5,
    "start_time": "2022-05-19T20:18:07.261Z"
   },
   {
    "duration": 25,
    "start_time": "2022-05-19T20:18:13.146Z"
   },
   {
    "duration": 4,
    "start_time": "2022-05-19T20:24:21.104Z"
   },
   {
    "duration": 26,
    "start_time": "2022-05-19T20:24:22.160Z"
   },
   {
    "duration": 8,
    "start_time": "2022-05-19T20:24:44.725Z"
   },
   {
    "duration": 15,
    "start_time": "2022-05-19T20:24:45.147Z"
   },
   {
    "duration": 7,
    "start_time": "2022-05-19T20:25:05.103Z"
   },
   {
    "duration": 8,
    "start_time": "2022-05-19T20:25:35.139Z"
   },
   {
    "duration": 5,
    "start_time": "2022-05-19T20:25:50.605Z"
   },
   {
    "duration": 4,
    "start_time": "2022-05-19T20:29:41.195Z"
   },
   {
    "duration": 26,
    "start_time": "2022-05-19T20:29:41.720Z"
   },
   {
    "duration": 4,
    "start_time": "2022-05-19T20:32:12.967Z"
   },
   {
    "duration": 17,
    "start_time": "2022-05-19T20:32:14.168Z"
   },
   {
    "duration": 16,
    "start_time": "2022-05-19T20:32:20.651Z"
   },
   {
    "duration": 5,
    "start_time": "2022-05-19T20:32:27.811Z"
   },
   {
    "duration": 15,
    "start_time": "2022-05-19T20:32:28.662Z"
   },
   {
    "duration": 1268,
    "start_time": "2022-05-19T20:32:36.714Z"
   },
   {
    "duration": 59,
    "start_time": "2022-05-19T20:32:37.984Z"
   },
   {
    "duration": 15,
    "start_time": "2022-05-19T20:32:38.045Z"
   },
   {
    "duration": 13,
    "start_time": "2022-05-19T20:32:38.062Z"
   },
   {
    "duration": 4,
    "start_time": "2022-05-19T20:32:38.077Z"
   },
   {
    "duration": 16,
    "start_time": "2022-05-19T20:32:38.083Z"
   },
   {
    "duration": 31,
    "start_time": "2022-05-19T20:32:38.100Z"
   },
   {
    "duration": 19,
    "start_time": "2022-05-19T20:32:38.133Z"
   },
   {
    "duration": 17,
    "start_time": "2022-05-19T20:32:38.154Z"
   },
   {
    "duration": 37,
    "start_time": "2022-05-19T20:32:38.173Z"
   },
   {
    "duration": 6,
    "start_time": "2022-05-19T20:32:38.212Z"
   },
   {
    "duration": 253,
    "start_time": "2022-05-19T20:32:38.220Z"
   },
   {
    "duration": 6,
    "start_time": "2022-05-19T20:32:38.475Z"
   },
   {
    "duration": 15,
    "start_time": "2022-05-19T20:32:38.483Z"
   },
   {
    "duration": 44,
    "start_time": "2022-05-19T20:32:38.500Z"
   },
   {
    "duration": 12,
    "start_time": "2022-05-19T20:32:38.546Z"
   },
   {
    "duration": 313,
    "start_time": "2022-05-19T20:32:38.560Z"
   },
   {
    "duration": 71,
    "start_time": "2022-05-19T20:32:38.875Z"
   },
   {
    "duration": 16,
    "start_time": "2022-05-19T20:32:38.948Z"
   },
   {
    "duration": 13,
    "start_time": "2022-05-19T20:32:38.966Z"
   },
   {
    "duration": 85,
    "start_time": "2022-05-19T20:32:38.981Z"
   },
   {
    "duration": 7,
    "start_time": "2022-05-19T20:32:39.068Z"
   },
   {
    "duration": 19,
    "start_time": "2022-05-19T20:32:39.076Z"
   },
   {
    "duration": 4,
    "start_time": "2022-05-19T20:32:45.665Z"
   },
   {
    "duration": 15,
    "start_time": "2022-05-19T20:32:46.442Z"
   },
   {
    "duration": 4,
    "start_time": "2022-05-19T20:32:51.113Z"
   },
   {
    "duration": 13,
    "start_time": "2022-05-19T20:32:51.867Z"
   },
   {
    "duration": 5,
    "start_time": "2022-05-19T20:32:58.639Z"
   },
   {
    "duration": 17,
    "start_time": "2022-05-19T20:32:59.388Z"
   },
   {
    "duration": 4,
    "start_time": "2022-05-19T20:33:42.311Z"
   },
   {
    "duration": 14,
    "start_time": "2022-05-19T20:33:43.578Z"
   },
   {
    "duration": 42,
    "start_time": "2022-05-19T20:34:18.742Z"
   },
   {
    "duration": 18,
    "start_time": "2022-05-19T20:34:19.625Z"
   },
   {
    "duration": 34,
    "start_time": "2022-05-19T20:34:37.160Z"
   },
   {
    "duration": 408,
    "start_time": "2022-05-19T20:34:40.567Z"
   },
   {
    "duration": 17,
    "start_time": "2022-05-19T20:34:41.257Z"
   },
   {
    "duration": 45,
    "start_time": "2022-05-19T20:35:56.842Z"
   },
   {
    "duration": 20,
    "start_time": "2022-05-19T20:35:57.262Z"
   },
   {
    "duration": 161,
    "start_time": "2022-05-19T20:36:01.602Z"
   },
   {
    "duration": 15,
    "start_time": "2022-05-19T20:36:02.593Z"
   },
   {
    "duration": 5,
    "start_time": "2022-05-19T20:43:27.039Z"
   },
   {
    "duration": 39,
    "start_time": "2022-05-19T20:43:27.451Z"
   },
   {
    "duration": 15,
    "start_time": "2022-05-19T20:43:27.998Z"
   },
   {
    "duration": 1281,
    "start_time": "2022-05-19T20:43:36.695Z"
   },
   {
    "duration": 79,
    "start_time": "2022-05-19T20:43:37.978Z"
   },
   {
    "duration": 19,
    "start_time": "2022-05-19T20:43:38.060Z"
   },
   {
    "duration": 22,
    "start_time": "2022-05-19T20:43:38.082Z"
   },
   {
    "duration": 26,
    "start_time": "2022-05-19T20:43:38.107Z"
   },
   {
    "duration": 35,
    "start_time": "2022-05-19T20:43:38.135Z"
   },
   {
    "duration": 13,
    "start_time": "2022-05-19T20:43:38.172Z"
   },
   {
    "duration": 34,
    "start_time": "2022-05-19T20:43:38.187Z"
   },
   {
    "duration": 38,
    "start_time": "2022-05-19T20:43:38.223Z"
   },
   {
    "duration": 33,
    "start_time": "2022-05-19T20:43:38.263Z"
   },
   {
    "duration": 10,
    "start_time": "2022-05-19T20:43:38.298Z"
   },
   {
    "duration": 287,
    "start_time": "2022-05-19T20:43:38.310Z"
   },
   {
    "duration": 6,
    "start_time": "2022-05-19T20:43:38.599Z"
   },
   {
    "duration": 25,
    "start_time": "2022-05-19T20:43:38.609Z"
   },
   {
    "duration": 36,
    "start_time": "2022-05-19T20:43:38.637Z"
   },
   {
    "duration": 58,
    "start_time": "2022-05-19T20:43:38.675Z"
   },
   {
    "duration": 268,
    "start_time": "2022-05-19T20:43:38.741Z"
   },
   {
    "duration": 74,
    "start_time": "2022-05-19T20:43:39.010Z"
   },
   {
    "duration": 15,
    "start_time": "2022-05-19T20:43:39.085Z"
   },
   {
    "duration": 42,
    "start_time": "2022-05-19T20:43:39.102Z"
   },
   {
    "duration": 45,
    "start_time": "2022-05-19T20:43:39.146Z"
   },
   {
    "duration": 6,
    "start_time": "2022-05-19T20:43:39.192Z"
   },
   {
    "duration": 6,
    "start_time": "2022-05-19T20:43:39.199Z"
   },
   {
    "duration": 53,
    "start_time": "2022-05-19T20:43:39.228Z"
   },
   {
    "duration": 16,
    "start_time": "2022-05-19T20:43:39.282Z"
   },
   {
    "duration": 36,
    "start_time": "2022-05-19T20:55:45.665Z"
   },
   {
    "duration": 14,
    "start_time": "2022-05-19T20:55:46.611Z"
   },
   {
    "duration": 209,
    "start_time": "2022-05-19T20:56:46.148Z"
   },
   {
    "duration": 28,
    "start_time": "2022-05-19T20:56:52.589Z"
   },
   {
    "duration": 22,
    "start_time": "2022-05-19T20:59:11.066Z"
   },
   {
    "duration": 1488,
    "start_time": "2022-05-21T12:15:33.461Z"
   },
   {
    "duration": 103,
    "start_time": "2022-05-21T12:15:34.951Z"
   },
   {
    "duration": 18,
    "start_time": "2022-05-21T12:15:35.056Z"
   },
   {
    "duration": 17,
    "start_time": "2022-05-21T12:15:35.076Z"
   },
   {
    "duration": 5,
    "start_time": "2022-05-21T12:15:35.095Z"
   },
   {
    "duration": 21,
    "start_time": "2022-05-21T12:15:35.101Z"
   },
   {
    "duration": 6,
    "start_time": "2022-05-21T12:15:35.123Z"
   },
   {
    "duration": 39,
    "start_time": "2022-05-21T12:15:35.131Z"
   },
   {
    "duration": 21,
    "start_time": "2022-05-21T12:15:35.172Z"
   },
   {
    "duration": 46,
    "start_time": "2022-05-21T12:15:35.195Z"
   },
   {
    "duration": 7,
    "start_time": "2022-05-21T12:15:35.243Z"
   },
   {
    "duration": 244,
    "start_time": "2022-05-21T12:15:35.252Z"
   },
   {
    "duration": 8,
    "start_time": "2022-05-21T12:15:35.498Z"
   },
   {
    "duration": 30,
    "start_time": "2022-05-21T12:15:35.509Z"
   },
   {
    "duration": 49,
    "start_time": "2022-05-21T12:15:35.541Z"
   },
   {
    "duration": 16,
    "start_time": "2022-05-21T12:15:35.592Z"
   },
   {
    "duration": 286,
    "start_time": "2022-05-21T12:15:35.664Z"
   },
   {
    "duration": 58,
    "start_time": "2022-05-21T12:15:35.952Z"
   },
   {
    "duration": 16,
    "start_time": "2022-05-21T12:15:36.012Z"
   },
   {
    "duration": 36,
    "start_time": "2022-05-21T12:15:36.029Z"
   },
   {
    "duration": 53,
    "start_time": "2022-05-21T12:15:36.067Z"
   },
   {
    "duration": 6,
    "start_time": "2022-05-21T12:15:36.122Z"
   },
   {
    "duration": 9,
    "start_time": "2022-05-21T12:15:36.130Z"
   },
   {
    "duration": 64,
    "start_time": "2022-05-21T12:15:36.141Z"
   },
   {
    "duration": 17,
    "start_time": "2022-05-21T12:15:36.207Z"
   },
   {
    "duration": 50,
    "start_time": "2022-05-21T12:15:36.226Z"
   },
   {
    "duration": 186,
    "start_time": "2022-05-21T12:15:36.278Z"
   },
   {
    "duration": 13,
    "start_time": "2022-05-21T12:15:58.472Z"
   },
   {
    "duration": 52,
    "start_time": "2022-05-21T12:16:07.731Z"
   },
   {
    "duration": 28,
    "start_time": "2022-05-21T12:36:21.082Z"
   },
   {
    "duration": 1202,
    "start_time": "2022-05-21T12:36:32.089Z"
   },
   {
    "duration": 756,
    "start_time": "2022-05-21T12:37:09.941Z"
   },
   {
    "duration": 1339,
    "start_time": "2022-05-21T12:42:11.412Z"
   },
   {
    "duration": 1197,
    "start_time": "2022-05-21T12:46:04.440Z"
   },
   {
    "duration": 1301,
    "start_time": "2022-05-21T12:46:27.424Z"
   },
   {
    "duration": 2344,
    "start_time": "2022-05-21T12:47:58.032Z"
   },
   {
    "duration": 2347,
    "start_time": "2022-05-21T12:48:32.015Z"
   },
   {
    "duration": 21,
    "start_time": "2022-05-21T13:12:36.633Z"
   },
   {
    "duration": 21,
    "start_time": "2022-05-21T13:14:21.382Z"
   },
   {
    "duration": 16,
    "start_time": "2022-05-21T13:14:46.268Z"
   },
   {
    "duration": 20,
    "start_time": "2022-05-21T13:14:53.300Z"
   },
   {
    "duration": 3318,
    "start_time": "2022-05-21T13:16:49.957Z"
   },
   {
    "duration": 2303,
    "start_time": "2022-05-21T13:17:28.422Z"
   },
   {
    "duration": 2334,
    "start_time": "2022-05-21T13:18:05.800Z"
   },
   {
    "duration": 7,
    "start_time": "2022-05-21T13:18:23.712Z"
   },
   {
    "duration": 25,
    "start_time": "2022-05-21T13:18:31.052Z"
   },
   {
    "duration": 57,
    "start_time": "2022-05-21T13:18:53.052Z"
   },
   {
    "duration": 35,
    "start_time": "2022-05-21T13:19:47.670Z"
   },
   {
    "duration": 12,
    "start_time": "2022-05-21T13:21:17.782Z"
   },
   {
    "duration": 31,
    "start_time": "2022-05-21T13:21:27.421Z"
   },
   {
    "duration": 26,
    "start_time": "2022-05-21T13:22:24.391Z"
   },
   {
    "duration": 23,
    "start_time": "2022-05-21T13:22:28.621Z"
   },
   {
    "duration": 25,
    "start_time": "2022-05-21T13:38:08.228Z"
   },
   {
    "duration": 15,
    "start_time": "2022-05-21T13:38:32.868Z"
   },
   {
    "duration": 22,
    "start_time": "2022-05-21T13:39:04.791Z"
   },
   {
    "duration": 17,
    "start_time": "2022-05-21T13:40:54.462Z"
   },
   {
    "duration": 609,
    "start_time": "2022-05-21T13:41:23.325Z"
   },
   {
    "duration": 20,
    "start_time": "2022-05-21T13:41:58.099Z"
   },
   {
    "duration": 16,
    "start_time": "2022-05-21T13:42:28.216Z"
   },
   {
    "duration": 23,
    "start_time": "2022-05-21T13:42:57.051Z"
   },
   {
    "duration": 25,
    "start_time": "2022-05-21T13:43:07.758Z"
   },
   {
    "duration": 24,
    "start_time": "2022-05-21T13:43:39.969Z"
   },
   {
    "duration": 24,
    "start_time": "2022-05-21T13:43:47.781Z"
   },
   {
    "duration": 5,
    "start_time": "2022-05-21T14:14:03.446Z"
   },
   {
    "duration": 7,
    "start_time": "2022-05-21T14:14:09.498Z"
   },
   {
    "duration": 6,
    "start_time": "2022-05-21T14:14:24.242Z"
   },
   {
    "duration": 21,
    "start_time": "2022-05-21T14:16:44.986Z"
   },
   {
    "duration": 25,
    "start_time": "2022-05-21T14:16:50.460Z"
   },
   {
    "duration": 23,
    "start_time": "2022-05-21T14:17:23.208Z"
   },
   {
    "duration": 44,
    "start_time": "2022-05-21T14:19:40.692Z"
   },
   {
    "duration": 40,
    "start_time": "2022-05-21T14:19:55.888Z"
   },
   {
    "duration": 48,
    "start_time": "2022-05-21T14:20:24.484Z"
   },
   {
    "duration": 45,
    "start_time": "2022-05-21T14:25:22.761Z"
   },
   {
    "duration": 39,
    "start_time": "2022-05-21T14:25:51.306Z"
   },
   {
    "duration": 32,
    "start_time": "2022-05-21T14:26:39.686Z"
   },
   {
    "duration": 49,
    "start_time": "2022-05-21T14:27:05.707Z"
   },
   {
    "duration": 52,
    "start_time": "2022-05-21T14:28:06.294Z"
   },
   {
    "duration": 49,
    "start_time": "2022-05-21T14:28:21.049Z"
   },
   {
    "duration": 49,
    "start_time": "2022-05-21T14:31:51.224Z"
   },
   {
    "duration": 19,
    "start_time": "2022-05-21T15:30:15.794Z"
   },
   {
    "duration": 71,
    "start_time": "2022-05-21T15:42:43.010Z"
   },
   {
    "duration": 1240,
    "start_time": "2022-05-22T20:51:35.249Z"
   },
   {
    "duration": 54,
    "start_time": "2022-05-22T20:51:36.491Z"
   },
   {
    "duration": 21,
    "start_time": "2022-05-22T20:51:36.547Z"
   },
   {
    "duration": 14,
    "start_time": "2022-05-22T20:51:36.570Z"
   },
   {
    "duration": 5,
    "start_time": "2022-05-22T20:51:36.586Z"
   },
   {
    "duration": 18,
    "start_time": "2022-05-22T20:51:36.592Z"
   },
   {
    "duration": 8,
    "start_time": "2022-05-22T20:51:36.611Z"
   },
   {
    "duration": 7,
    "start_time": "2022-05-22T20:51:36.620Z"
   },
   {
    "duration": 39,
    "start_time": "2022-05-22T20:51:36.628Z"
   },
   {
    "duration": 27,
    "start_time": "2022-05-22T20:51:36.670Z"
   },
   {
    "duration": 7,
    "start_time": "2022-05-22T20:51:36.698Z"
   },
   {
    "duration": 259,
    "start_time": "2022-05-22T20:51:36.706Z"
   },
   {
    "duration": 7,
    "start_time": "2022-05-22T20:51:36.968Z"
   },
   {
    "duration": 17,
    "start_time": "2022-05-22T20:51:36.977Z"
   },
   {
    "duration": 70,
    "start_time": "2022-05-22T20:51:36.996Z"
   },
   {
    "duration": 13,
    "start_time": "2022-05-22T20:51:37.068Z"
   },
   {
    "duration": 1255,
    "start_time": "2022-05-22T20:51:37.083Z"
   },
   {
    "duration": 61,
    "start_time": "2022-05-22T20:51:38.340Z"
   },
   {
    "duration": 16,
    "start_time": "2022-05-22T20:51:38.402Z"
   },
   {
    "duration": 12,
    "start_time": "2022-05-22T20:51:38.420Z"
   },
   {
    "duration": 48,
    "start_time": "2022-05-22T20:51:38.452Z"
   },
   {
    "duration": 6,
    "start_time": "2022-05-22T20:51:38.502Z"
   },
   {
    "duration": 5,
    "start_time": "2022-05-22T20:51:38.509Z"
   },
   {
    "duration": 63,
    "start_time": "2022-05-22T20:51:38.515Z"
   },
   {
    "duration": 14,
    "start_time": "2022-05-22T20:51:38.579Z"
   },
   {
    "duration": 21,
    "start_time": "2022-05-22T20:51:38.595Z"
   },
   {
    "duration": 63,
    "start_time": "2022-05-22T20:51:38.618Z"
   },
   {
    "duration": 3478,
    "start_time": "2022-05-22T20:51:38.684Z"
   },
   {
    "duration": 45,
    "start_time": "2022-05-22T20:51:42.164Z"
   },
   {
    "duration": 23,
    "start_time": "2022-05-22T20:51:42.211Z"
   },
   {
    "duration": 43,
    "start_time": "2022-05-22T20:51:42.236Z"
   },
   {
    "duration": 53,
    "start_time": "2022-05-22T20:51:42.281Z"
   },
   {
    "duration": 1151,
    "start_time": "2022-05-23T20:29:58.642Z"
   },
   {
    "duration": 112,
    "start_time": "2022-05-23T20:29:59.794Z"
   },
   {
    "duration": 19,
    "start_time": "2022-05-23T20:29:59.907Z"
   },
   {
    "duration": 14,
    "start_time": "2022-05-23T20:29:59.928Z"
   },
   {
    "duration": 8,
    "start_time": "2022-05-23T20:29:59.943Z"
   },
   {
    "duration": 12,
    "start_time": "2022-05-23T20:29:59.953Z"
   },
   {
    "duration": 5,
    "start_time": "2022-05-23T20:29:59.967Z"
   },
   {
    "duration": 7,
    "start_time": "2022-05-23T20:29:59.973Z"
   },
   {
    "duration": 16,
    "start_time": "2022-05-23T20:29:59.982Z"
   },
   {
    "duration": 23,
    "start_time": "2022-05-23T20:30:00.028Z"
   },
   {
    "duration": 6,
    "start_time": "2022-05-23T20:30:00.053Z"
   },
   {
    "duration": 224,
    "start_time": "2022-05-23T20:30:00.060Z"
   },
   {
    "duration": 7,
    "start_time": "2022-05-23T20:30:00.285Z"
   },
   {
    "duration": 18,
    "start_time": "2022-05-23T20:30:00.294Z"
   },
   {
    "duration": 28,
    "start_time": "2022-05-23T20:30:00.314Z"
   },
   {
    "duration": 11,
    "start_time": "2022-05-23T20:30:00.343Z"
   },
   {
    "duration": 274,
    "start_time": "2022-05-23T20:30:00.355Z"
   },
   {
    "duration": 50,
    "start_time": "2022-05-23T20:30:00.630Z"
   },
   {
    "duration": 16,
    "start_time": "2022-05-23T20:30:00.681Z"
   },
   {
    "duration": 37,
    "start_time": "2022-05-23T20:30:00.698Z"
   },
   {
    "duration": 46,
    "start_time": "2022-05-23T20:30:00.737Z"
   },
   {
    "duration": 9,
    "start_time": "2022-05-23T20:30:00.785Z"
   },
   {
    "duration": 51,
    "start_time": "2022-05-23T20:30:00.795Z"
   },
   {
    "duration": 47,
    "start_time": "2022-05-23T20:30:00.848Z"
   },
   {
    "duration": 21,
    "start_time": "2022-05-23T20:30:00.896Z"
   },
   {
    "duration": 34,
    "start_time": "2022-05-23T20:30:00.919Z"
   },
   {
    "duration": 43,
    "start_time": "2022-05-23T20:30:00.955Z"
   },
   {
    "duration": 3381,
    "start_time": "2022-05-23T20:30:01.000Z"
   },
   {
    "duration": 50,
    "start_time": "2022-05-23T20:30:04.382Z"
   },
   {
    "duration": 21,
    "start_time": "2022-05-23T20:30:04.433Z"
   },
   {
    "duration": 20,
    "start_time": "2022-05-23T20:30:04.456Z"
   },
   {
    "duration": 73,
    "start_time": "2022-05-23T20:30:04.478Z"
   },
   {
    "duration": 1155,
    "start_time": "2022-08-02T12:35:59.077Z"
   },
   {
    "duration": 111,
    "start_time": "2022-08-02T12:36:00.233Z"
   },
   {
    "duration": 17,
    "start_time": "2022-08-02T12:36:00.345Z"
   },
   {
    "duration": 13,
    "start_time": "2022-08-02T12:36:00.364Z"
   },
   {
    "duration": 9,
    "start_time": "2022-08-02T12:36:00.379Z"
   },
   {
    "duration": 17,
    "start_time": "2022-08-02T12:36:00.390Z"
   },
   {
    "duration": 13,
    "start_time": "2022-08-02T12:36:00.409Z"
   },
   {
    "duration": 14,
    "start_time": "2022-08-02T12:36:00.424Z"
   },
   {
    "duration": 35,
    "start_time": "2022-08-02T12:36:00.440Z"
   },
   {
    "duration": 47,
    "start_time": "2022-08-02T12:36:00.477Z"
   },
   {
    "duration": 15,
    "start_time": "2022-08-02T12:36:00.526Z"
   }
  ],
  "kernelspec": {
   "display_name": "Python 3 (ipykernel)",
   "language": "python",
   "name": "python3"
  },
  "language_info": {
   "codemirror_mode": {
    "name": "ipython",
    "version": 3
   },
   "file_extension": ".py",
   "mimetype": "text/x-python",
   "name": "python",
   "nbconvert_exporter": "python",
   "pygments_lexer": "ipython3",
   "version": "3.9.5"
  },
  "toc": {
   "base_numbering": 1,
   "nav_menu": {},
   "number_sections": true,
   "sideBar": true,
   "skip_h1_title": true,
   "title_cell": "Table of Contents",
   "title_sidebar": "Contents",
   "toc_cell": false,
   "toc_position": {},
   "toc_section_display": true,
   "toc_window_display": true
  }
 },
 "nbformat": 4,
 "nbformat_minor": 2
}
