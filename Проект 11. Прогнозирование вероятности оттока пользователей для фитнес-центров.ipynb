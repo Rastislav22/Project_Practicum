{
 "cells": [
  {
   "cell_type": "markdown",
   "metadata": {},
   "source": [
    "**АНАЛИЗ ДАННЫХ ДЛЯ УДЕРЖАНИЯ КЛИЕНТОВ СЕТИ ФИТНЕС-ЦЕНТРОВ «Культурист-датасаентист»**"
   ]
  },
  {
   "cell_type": "markdown",
   "metadata": {},
   "source": [
    "**ШАГ 1. ЗАГРУЗИТЬ ДАННЫЕ**"
   ]
  },
  {
   "cell_type": "markdown",
   "metadata": {},
   "source": [
    "**ШАГ 2. ПРОВЕСТИ ИССЛЕДОВАТЕЛЬСКИЙ АНАЛИЗ ДАННЫХ(EDA)**"
   ]
  },
  {
   "cell_type": "markdown",
   "metadata": {},
   "source": [
    "**2.1. Посмотрите на датасет: есть ли в нем отсутствующие признаки, изучите средние значения и стандартные отклонения (пригодится метод describe());**"
   ]
  },
  {
   "cell_type": "markdown",
   "metadata": {},
   "source": [
    "**2.2. Посмотрите на средние значения признаков в двух группах — тех, кто ушел в отток и тех, кто остался (воспользуйтесь методом groupby());**"
   ]
  },
  {
   "cell_type": "markdown",
   "metadata": {},
   "source": [
    "**2.3. Постройте столбчатые гистограммы и распределения признаков для тех, кто ушёл (отток) и тех, кто остался (не попали в отток);**"
   ]
  },
  {
   "cell_type": "markdown",
   "metadata": {},
   "source": [
    "**2.4. Постройте матрицу корреляций и отобразите её.**"
   ]
  },
  {
   "cell_type": "markdown",
   "metadata": {},
   "source": [
    "**ШАГ 3. ПОСТРОИТЬ МОДЕЛЬ ПРОГНОЗИРОВАНИЯ ОТТОКА КЛИЕНТОВ**"
   ]
  },
  {
   "cell_type": "markdown",
   "metadata": {},
   "source": [
    "**3.1. Разбейте данные на обучающую и валидационную выборку функцией train_test_split().**"
   ]
  },
  {
   "cell_type": "markdown",
   "metadata": {},
   "source": [
    "**3.2. Обучите модель на train-выборке двумя способами:логистической регрессией, случайным лесом.**"
   ]
  },
  {
   "cell_type": "markdown",
   "metadata": {},
   "source": [
    "**3.3. Оцените метрики accuracy, precision и recall для обеих моделей на валидационной выборке. Сравните по ним модели. Какая модель показала себя лучше на основании метрик?**"
   ]
  },
  {
   "cell_type": "markdown",
   "metadata": {},
   "source": [
    "**ШАГ 4. СДЕЛАТЬ КЛАСТЕРИЗАЦИЮ КЛИЕНТОВ**"
   ]
  },
  {
   "cell_type": "markdown",
   "metadata": {},
   "source": [
    "**4.1. Стандартизируйте данные.**"
   ]
  },
  {
   "cell_type": "markdown",
   "metadata": {},
   "source": [
    "**4.2. Постройте матрицу расстояний функцией linkage() на стандартизованной матрице признаков и нарисуйте дендрограмму. Внимание: отрисовка дендрограммы может занять время! На основании полученного графика предположите, какое количество кластеров можно выделить.**"
   ]
  },
  {
   "cell_type": "markdown",
   "metadata": {},
   "source": [
    "**4.3. Обучите модель кластеризации на основании алгоритма K-Means и спрогнозируйте кластеры клиентов. Договоримся за число кластеров принять n=5, чтобы ваши результаты можно было сравнивать с результатами остальных студентов. Однако, конечно, в жизни никто не скажет вам правильный ответ, и решение остаётся за вами (на основании изучения графика из предыдущего пункта).**"
   ]
  },
  {
   "cell_type": "markdown",
   "metadata": {},
   "source": [
    "**4.4. Посмотрите на средние значения признаков для кластеров. Можно ли сразу что-то заметить?**"
   ]
  },
  {
   "cell_type": "markdown",
   "metadata": {},
   "source": [
    "**4.5. Постройте распределения признаков для кластеров. Можно ли что-то заметить по ним?**"
   ]
  },
  {
   "cell_type": "markdown",
   "metadata": {},
   "source": [
    "**4.6. Для каждого полученного кластера посчитайте долю оттока (методом groupby()). Отличаются ли они по доле оттока? Какие кластеры склонны к оттоку, а какие — надёжны?**"
   ]
  },
  {
   "cell_type": "markdown",
   "metadata": {},
   "source": [
    "**ШАГ 5. СФОРМУЛИРОВАТЬ ВЫВОДЫ И СДЕЛАТЬ БОЗОВЫЕ РЕКОМЕНДАЦИИ ПО РАБОТЕ С КЛИЕНТАМИ**"
   ]
  },
  {
   "cell_type": "code",
   "execution_count": 1,
   "metadata": {},
   "outputs": [],
   "source": [
    "import numpy as np\n",
    "import pandas as pd\n",
    "from matplotlib import pyplot as plt\n",
    "import seaborn as sns\n",
    "from sklearn.preprocessing import StandardScaler\n",
    "from sklearn.model_selection import train_test_split\n",
    "from sklearn.linear_model import LogisticRegression\n",
    "from sklearn.metrics import accuracy_score, precision_score, recall_score, f1_score\n",
    "from sklearn.ensemble import RandomForestClassifier\n",
    "from scipy.cluster.hierarchy import dendrogram, linkage\n",
    "from sklearn.cluster import KMeans\n",
    "import warnings\n",
    "warnings.filterwarnings('ignore')"
   ]
  },
  {
   "cell_type": "markdown",
   "metadata": {},
   "source": [
    "**ШАГ 1. ЗАГРУЗИТЬ ДАННЫЕ**"
   ]
  },
  {
   "cell_type": "code",
   "execution_count": 2,
   "metadata": {},
   "outputs": [
    {
     "data": {
      "text/html": [
       "<div>\n",
       "<style scoped>\n",
       "    .dataframe tbody tr th:only-of-type {\n",
       "        vertical-align: middle;\n",
       "    }\n",
       "\n",
       "    .dataframe tbody tr th {\n",
       "        vertical-align: top;\n",
       "    }\n",
       "\n",
       "    .dataframe thead th {\n",
       "        text-align: right;\n",
       "    }\n",
       "</style>\n",
       "<table border=\"1\" class=\"dataframe\">\n",
       "  <thead>\n",
       "    <tr style=\"text-align: right;\">\n",
       "      <th></th>\n",
       "      <th>gender</th>\n",
       "      <th>Near_Location</th>\n",
       "      <th>Partner</th>\n",
       "      <th>Promo_friends</th>\n",
       "      <th>Phone</th>\n",
       "      <th>Contract_period</th>\n",
       "      <th>Group_visits</th>\n",
       "      <th>Age</th>\n",
       "      <th>Avg_additional_charges_total</th>\n",
       "      <th>Month_to_end_contract</th>\n",
       "      <th>Lifetime</th>\n",
       "      <th>Avg_class_frequency_total</th>\n",
       "      <th>Avg_class_frequency_current_month</th>\n",
       "      <th>Churn</th>\n",
       "    </tr>\n",
       "  </thead>\n",
       "  <tbody>\n",
       "    <tr>\n",
       "      <th>0</th>\n",
       "      <td>1</td>\n",
       "      <td>1</td>\n",
       "      <td>1</td>\n",
       "      <td>1</td>\n",
       "      <td>0</td>\n",
       "      <td>6</td>\n",
       "      <td>1</td>\n",
       "      <td>29</td>\n",
       "      <td>14.227470</td>\n",
       "      <td>5.0</td>\n",
       "      <td>3</td>\n",
       "      <td>0.020398</td>\n",
       "      <td>0.000000</td>\n",
       "      <td>0</td>\n",
       "    </tr>\n",
       "    <tr>\n",
       "      <th>1</th>\n",
       "      <td>0</td>\n",
       "      <td>1</td>\n",
       "      <td>0</td>\n",
       "      <td>0</td>\n",
       "      <td>1</td>\n",
       "      <td>12</td>\n",
       "      <td>1</td>\n",
       "      <td>31</td>\n",
       "      <td>113.202938</td>\n",
       "      <td>12.0</td>\n",
       "      <td>7</td>\n",
       "      <td>1.922936</td>\n",
       "      <td>1.910244</td>\n",
       "      <td>0</td>\n",
       "    </tr>\n",
       "    <tr>\n",
       "      <th>2</th>\n",
       "      <td>0</td>\n",
       "      <td>1</td>\n",
       "      <td>1</td>\n",
       "      <td>0</td>\n",
       "      <td>1</td>\n",
       "      <td>1</td>\n",
       "      <td>0</td>\n",
       "      <td>28</td>\n",
       "      <td>129.448479</td>\n",
       "      <td>1.0</td>\n",
       "      <td>2</td>\n",
       "      <td>1.859098</td>\n",
       "      <td>1.736502</td>\n",
       "      <td>0</td>\n",
       "    </tr>\n",
       "    <tr>\n",
       "      <th>3</th>\n",
       "      <td>0</td>\n",
       "      <td>1</td>\n",
       "      <td>1</td>\n",
       "      <td>1</td>\n",
       "      <td>1</td>\n",
       "      <td>12</td>\n",
       "      <td>1</td>\n",
       "      <td>33</td>\n",
       "      <td>62.669863</td>\n",
       "      <td>12.0</td>\n",
       "      <td>2</td>\n",
       "      <td>3.205633</td>\n",
       "      <td>3.357215</td>\n",
       "      <td>0</td>\n",
       "    </tr>\n",
       "    <tr>\n",
       "      <th>4</th>\n",
       "      <td>1</td>\n",
       "      <td>1</td>\n",
       "      <td>1</td>\n",
       "      <td>1</td>\n",
       "      <td>1</td>\n",
       "      <td>1</td>\n",
       "      <td>0</td>\n",
       "      <td>26</td>\n",
       "      <td>198.362265</td>\n",
       "      <td>1.0</td>\n",
       "      <td>3</td>\n",
       "      <td>1.113884</td>\n",
       "      <td>1.120078</td>\n",
       "      <td>0</td>\n",
       "    </tr>\n",
       "    <tr>\n",
       "      <th>5</th>\n",
       "      <td>1</td>\n",
       "      <td>1</td>\n",
       "      <td>0</td>\n",
       "      <td>0</td>\n",
       "      <td>1</td>\n",
       "      <td>1</td>\n",
       "      <td>1</td>\n",
       "      <td>34</td>\n",
       "      <td>450.743960</td>\n",
       "      <td>1.0</td>\n",
       "      <td>3</td>\n",
       "      <td>2.623477</td>\n",
       "      <td>2.637007</td>\n",
       "      <td>0</td>\n",
       "    </tr>\n",
       "    <tr>\n",
       "      <th>6</th>\n",
       "      <td>1</td>\n",
       "      <td>1</td>\n",
       "      <td>1</td>\n",
       "      <td>1</td>\n",
       "      <td>0</td>\n",
       "      <td>6</td>\n",
       "      <td>1</td>\n",
       "      <td>32</td>\n",
       "      <td>94.266389</td>\n",
       "      <td>6.0</td>\n",
       "      <td>2</td>\n",
       "      <td>1.138941</td>\n",
       "      <td>1.277242</td>\n",
       "      <td>0</td>\n",
       "    </tr>\n",
       "    <tr>\n",
       "      <th>7</th>\n",
       "      <td>0</td>\n",
       "      <td>1</td>\n",
       "      <td>0</td>\n",
       "      <td>0</td>\n",
       "      <td>1</td>\n",
       "      <td>1</td>\n",
       "      <td>0</td>\n",
       "      <td>30</td>\n",
       "      <td>217.786641</td>\n",
       "      <td>1.0</td>\n",
       "      <td>0</td>\n",
       "      <td>1.213502</td>\n",
       "      <td>1.049387</td>\n",
       "      <td>1</td>\n",
       "    </tr>\n",
       "    <tr>\n",
       "      <th>8</th>\n",
       "      <td>1</td>\n",
       "      <td>1</td>\n",
       "      <td>1</td>\n",
       "      <td>1</td>\n",
       "      <td>1</td>\n",
       "      <td>1</td>\n",
       "      <td>1</td>\n",
       "      <td>23</td>\n",
       "      <td>45.409909</td>\n",
       "      <td>1.0</td>\n",
       "      <td>1</td>\n",
       "      <td>1.106239</td>\n",
       "      <td>1.059333</td>\n",
       "      <td>0</td>\n",
       "    </tr>\n",
       "    <tr>\n",
       "      <th>9</th>\n",
       "      <td>0</td>\n",
       "      <td>1</td>\n",
       "      <td>0</td>\n",
       "      <td>0</td>\n",
       "      <td>1</td>\n",
       "      <td>1</td>\n",
       "      <td>0</td>\n",
       "      <td>31</td>\n",
       "      <td>65.310836</td>\n",
       "      <td>1.0</td>\n",
       "      <td>11</td>\n",
       "      <td>1.810852</td>\n",
       "      <td>1.951368</td>\n",
       "      <td>0</td>\n",
       "    </tr>\n",
       "  </tbody>\n",
       "</table>\n",
       "</div>"
      ],
      "text/plain": [
       "   gender  Near_Location  Partner  Promo_friends  Phone  Contract_period  \\\n",
       "0       1              1        1              1      0                6   \n",
       "1       0              1        0              0      1               12   \n",
       "2       0              1        1              0      1                1   \n",
       "3       0              1        1              1      1               12   \n",
       "4       1              1        1              1      1                1   \n",
       "5       1              1        0              0      1                1   \n",
       "6       1              1        1              1      0                6   \n",
       "7       0              1        0              0      1                1   \n",
       "8       1              1        1              1      1                1   \n",
       "9       0              1        0              0      1                1   \n",
       "\n",
       "   Group_visits  Age  Avg_additional_charges_total  Month_to_end_contract  \\\n",
       "0             1   29                     14.227470                    5.0   \n",
       "1             1   31                    113.202938                   12.0   \n",
       "2             0   28                    129.448479                    1.0   \n",
       "3             1   33                     62.669863                   12.0   \n",
       "4             0   26                    198.362265                    1.0   \n",
       "5             1   34                    450.743960                    1.0   \n",
       "6             1   32                     94.266389                    6.0   \n",
       "7             0   30                    217.786641                    1.0   \n",
       "8             1   23                     45.409909                    1.0   \n",
       "9             0   31                     65.310836                    1.0   \n",
       "\n",
       "   Lifetime  Avg_class_frequency_total  Avg_class_frequency_current_month  \\\n",
       "0         3                   0.020398                           0.000000   \n",
       "1         7                   1.922936                           1.910244   \n",
       "2         2                   1.859098                           1.736502   \n",
       "3         2                   3.205633                           3.357215   \n",
       "4         3                   1.113884                           1.120078   \n",
       "5         3                   2.623477                           2.637007   \n",
       "6         2                   1.138941                           1.277242   \n",
       "7         0                   1.213502                           1.049387   \n",
       "8         1                   1.106239                           1.059333   \n",
       "9        11                   1.810852                           1.951368   \n",
       "\n",
       "   Churn  \n",
       "0      0  \n",
       "1      0  \n",
       "2      0  \n",
       "3      0  \n",
       "4      0  \n",
       "5      0  \n",
       "6      0  \n",
       "7      1  \n",
       "8      0  \n",
       "9      0  "
      ]
     },
     "execution_count": 2,
     "metadata": {},
     "output_type": "execute_result"
    }
   ],
   "source": [
    "df = pd.read_csv('/datasets/gym_churn.csv')\n",
    "df.head(10)"
   ]
  },
  {
   "cell_type": "markdown",
   "metadata": {},
   "source": [
    "*Переведем название столбцов в нижний регистр*"
   ]
  },
  {
   "cell_type": "code",
   "execution_count": 3,
   "metadata": {},
   "outputs": [
    {
     "data": {
      "text/html": [
       "<div>\n",
       "<style scoped>\n",
       "    .dataframe tbody tr th:only-of-type {\n",
       "        vertical-align: middle;\n",
       "    }\n",
       "\n",
       "    .dataframe tbody tr th {\n",
       "        vertical-align: top;\n",
       "    }\n",
       "\n",
       "    .dataframe thead th {\n",
       "        text-align: right;\n",
       "    }\n",
       "</style>\n",
       "<table border=\"1\" class=\"dataframe\">\n",
       "  <thead>\n",
       "    <tr style=\"text-align: right;\">\n",
       "      <th></th>\n",
       "      <th>gender</th>\n",
       "      <th>near_location</th>\n",
       "      <th>partner</th>\n",
       "      <th>promo_friends</th>\n",
       "      <th>phone</th>\n",
       "      <th>contract_period</th>\n",
       "      <th>group_visits</th>\n",
       "      <th>age</th>\n",
       "      <th>avg_additional_charges_total</th>\n",
       "      <th>month_to_end_contract</th>\n",
       "      <th>lifetime</th>\n",
       "      <th>avg_class_frequency_total</th>\n",
       "      <th>avg_class_frequency_current_month</th>\n",
       "      <th>churn</th>\n",
       "    </tr>\n",
       "  </thead>\n",
       "  <tbody>\n",
       "    <tr>\n",
       "      <th>0</th>\n",
       "      <td>1</td>\n",
       "      <td>1</td>\n",
       "      <td>1</td>\n",
       "      <td>1</td>\n",
       "      <td>0</td>\n",
       "      <td>6</td>\n",
       "      <td>1</td>\n",
       "      <td>29</td>\n",
       "      <td>14.227470</td>\n",
       "      <td>5.0</td>\n",
       "      <td>3</td>\n",
       "      <td>0.020398</td>\n",
       "      <td>0.000000</td>\n",
       "      <td>0</td>\n",
       "    </tr>\n",
       "    <tr>\n",
       "      <th>1</th>\n",
       "      <td>0</td>\n",
       "      <td>1</td>\n",
       "      <td>0</td>\n",
       "      <td>0</td>\n",
       "      <td>1</td>\n",
       "      <td>12</td>\n",
       "      <td>1</td>\n",
       "      <td>31</td>\n",
       "      <td>113.202938</td>\n",
       "      <td>12.0</td>\n",
       "      <td>7</td>\n",
       "      <td>1.922936</td>\n",
       "      <td>1.910244</td>\n",
       "      <td>0</td>\n",
       "    </tr>\n",
       "    <tr>\n",
       "      <th>2</th>\n",
       "      <td>0</td>\n",
       "      <td>1</td>\n",
       "      <td>1</td>\n",
       "      <td>0</td>\n",
       "      <td>1</td>\n",
       "      <td>1</td>\n",
       "      <td>0</td>\n",
       "      <td>28</td>\n",
       "      <td>129.448479</td>\n",
       "      <td>1.0</td>\n",
       "      <td>2</td>\n",
       "      <td>1.859098</td>\n",
       "      <td>1.736502</td>\n",
       "      <td>0</td>\n",
       "    </tr>\n",
       "    <tr>\n",
       "      <th>3</th>\n",
       "      <td>0</td>\n",
       "      <td>1</td>\n",
       "      <td>1</td>\n",
       "      <td>1</td>\n",
       "      <td>1</td>\n",
       "      <td>12</td>\n",
       "      <td>1</td>\n",
       "      <td>33</td>\n",
       "      <td>62.669863</td>\n",
       "      <td>12.0</td>\n",
       "      <td>2</td>\n",
       "      <td>3.205633</td>\n",
       "      <td>3.357215</td>\n",
       "      <td>0</td>\n",
       "    </tr>\n",
       "    <tr>\n",
       "      <th>4</th>\n",
       "      <td>1</td>\n",
       "      <td>1</td>\n",
       "      <td>1</td>\n",
       "      <td>1</td>\n",
       "      <td>1</td>\n",
       "      <td>1</td>\n",
       "      <td>0</td>\n",
       "      <td>26</td>\n",
       "      <td>198.362265</td>\n",
       "      <td>1.0</td>\n",
       "      <td>3</td>\n",
       "      <td>1.113884</td>\n",
       "      <td>1.120078</td>\n",
       "      <td>0</td>\n",
       "    </tr>\n",
       "    <tr>\n",
       "      <th>5</th>\n",
       "      <td>1</td>\n",
       "      <td>1</td>\n",
       "      <td>0</td>\n",
       "      <td>0</td>\n",
       "      <td>1</td>\n",
       "      <td>1</td>\n",
       "      <td>1</td>\n",
       "      <td>34</td>\n",
       "      <td>450.743960</td>\n",
       "      <td>1.0</td>\n",
       "      <td>3</td>\n",
       "      <td>2.623477</td>\n",
       "      <td>2.637007</td>\n",
       "      <td>0</td>\n",
       "    </tr>\n",
       "    <tr>\n",
       "      <th>6</th>\n",
       "      <td>1</td>\n",
       "      <td>1</td>\n",
       "      <td>1</td>\n",
       "      <td>1</td>\n",
       "      <td>0</td>\n",
       "      <td>6</td>\n",
       "      <td>1</td>\n",
       "      <td>32</td>\n",
       "      <td>94.266389</td>\n",
       "      <td>6.0</td>\n",
       "      <td>2</td>\n",
       "      <td>1.138941</td>\n",
       "      <td>1.277242</td>\n",
       "      <td>0</td>\n",
       "    </tr>\n",
       "    <tr>\n",
       "      <th>7</th>\n",
       "      <td>0</td>\n",
       "      <td>1</td>\n",
       "      <td>0</td>\n",
       "      <td>0</td>\n",
       "      <td>1</td>\n",
       "      <td>1</td>\n",
       "      <td>0</td>\n",
       "      <td>30</td>\n",
       "      <td>217.786641</td>\n",
       "      <td>1.0</td>\n",
       "      <td>0</td>\n",
       "      <td>1.213502</td>\n",
       "      <td>1.049387</td>\n",
       "      <td>1</td>\n",
       "    </tr>\n",
       "    <tr>\n",
       "      <th>8</th>\n",
       "      <td>1</td>\n",
       "      <td>1</td>\n",
       "      <td>1</td>\n",
       "      <td>1</td>\n",
       "      <td>1</td>\n",
       "      <td>1</td>\n",
       "      <td>1</td>\n",
       "      <td>23</td>\n",
       "      <td>45.409909</td>\n",
       "      <td>1.0</td>\n",
       "      <td>1</td>\n",
       "      <td>1.106239</td>\n",
       "      <td>1.059333</td>\n",
       "      <td>0</td>\n",
       "    </tr>\n",
       "    <tr>\n",
       "      <th>9</th>\n",
       "      <td>0</td>\n",
       "      <td>1</td>\n",
       "      <td>0</td>\n",
       "      <td>0</td>\n",
       "      <td>1</td>\n",
       "      <td>1</td>\n",
       "      <td>0</td>\n",
       "      <td>31</td>\n",
       "      <td>65.310836</td>\n",
       "      <td>1.0</td>\n",
       "      <td>11</td>\n",
       "      <td>1.810852</td>\n",
       "      <td>1.951368</td>\n",
       "      <td>0</td>\n",
       "    </tr>\n",
       "  </tbody>\n",
       "</table>\n",
       "</div>"
      ],
      "text/plain": [
       "   gender  near_location  partner  promo_friends  phone  contract_period  \\\n",
       "0       1              1        1              1      0                6   \n",
       "1       0              1        0              0      1               12   \n",
       "2       0              1        1              0      1                1   \n",
       "3       0              1        1              1      1               12   \n",
       "4       1              1        1              1      1                1   \n",
       "5       1              1        0              0      1                1   \n",
       "6       1              1        1              1      0                6   \n",
       "7       0              1        0              0      1                1   \n",
       "8       1              1        1              1      1                1   \n",
       "9       0              1        0              0      1                1   \n",
       "\n",
       "   group_visits  age  avg_additional_charges_total  month_to_end_contract  \\\n",
       "0             1   29                     14.227470                    5.0   \n",
       "1             1   31                    113.202938                   12.0   \n",
       "2             0   28                    129.448479                    1.0   \n",
       "3             1   33                     62.669863                   12.0   \n",
       "4             0   26                    198.362265                    1.0   \n",
       "5             1   34                    450.743960                    1.0   \n",
       "6             1   32                     94.266389                    6.0   \n",
       "7             0   30                    217.786641                    1.0   \n",
       "8             1   23                     45.409909                    1.0   \n",
       "9             0   31                     65.310836                    1.0   \n",
       "\n",
       "   lifetime  avg_class_frequency_total  avg_class_frequency_current_month  \\\n",
       "0         3                   0.020398                           0.000000   \n",
       "1         7                   1.922936                           1.910244   \n",
       "2         2                   1.859098                           1.736502   \n",
       "3         2                   3.205633                           3.357215   \n",
       "4         3                   1.113884                           1.120078   \n",
       "5         3                   2.623477                           2.637007   \n",
       "6         2                   1.138941                           1.277242   \n",
       "7         0                   1.213502                           1.049387   \n",
       "8         1                   1.106239                           1.059333   \n",
       "9        11                   1.810852                           1.951368   \n",
       "\n",
       "   churn  \n",
       "0      0  \n",
       "1      0  \n",
       "2      0  \n",
       "3      0  \n",
       "4      0  \n",
       "5      0  \n",
       "6      0  \n",
       "7      1  \n",
       "8      0  \n",
       "9      0  "
      ]
     },
     "execution_count": 3,
     "metadata": {},
     "output_type": "execute_result"
    }
   ],
   "source": [
    "df.columns = df.columns.str.lower()\n",
    "df.head(10)"
   ]
  },
  {
   "cell_type": "markdown",
   "metadata": {},
   "source": [
    "**ШАГ 2. ПРОВЕСТИ ИССЛЕДОВАТЕЛЬСКИЙ АНАЛИЗ ДАННЫХ(EDA)**"
   ]
  },
  {
   "cell_type": "markdown",
   "metadata": {},
   "source": [
    "**2.1. Посмотрите на датасет: есть ли в нем отсутствующие признаки, изучите средние значения и стандартные отклонения (пригодится метод describe());**"
   ]
  },
  {
   "cell_type": "code",
   "execution_count": 4,
   "metadata": {},
   "outputs": [
    {
     "name": "stdout",
     "output_type": "stream",
     "text": [
      "<class 'pandas.core.frame.DataFrame'>\n",
      "RangeIndex: 4000 entries, 0 to 3999\n",
      "Data columns (total 14 columns):\n",
      " #   Column                             Non-Null Count  Dtype  \n",
      "---  ------                             --------------  -----  \n",
      " 0   gender                             4000 non-null   int64  \n",
      " 1   near_location                      4000 non-null   int64  \n",
      " 2   partner                            4000 non-null   int64  \n",
      " 3   promo_friends                      4000 non-null   int64  \n",
      " 4   phone                              4000 non-null   int64  \n",
      " 5   contract_period                    4000 non-null   int64  \n",
      " 6   group_visits                       4000 non-null   int64  \n",
      " 7   age                                4000 non-null   int64  \n",
      " 8   avg_additional_charges_total       4000 non-null   float64\n",
      " 9   month_to_end_contract              4000 non-null   float64\n",
      " 10  lifetime                           4000 non-null   int64  \n",
      " 11  avg_class_frequency_total          4000 non-null   float64\n",
      " 12  avg_class_frequency_current_month  4000 non-null   float64\n",
      " 13  churn                              4000 non-null   int64  \n",
      "dtypes: float64(4), int64(10)\n",
      "memory usage: 437.6 KB\n"
     ]
    }
   ],
   "source": [
    "df.info()"
   ]
  },
  {
   "cell_type": "markdown",
   "metadata": {},
   "source": [
    "*Пропусков нет*"
   ]
  },
  {
   "cell_type": "code",
   "execution_count": 5,
   "metadata": {},
   "outputs": [
    {
     "data": {
      "text/plain": [
       "0"
      ]
     },
     "execution_count": 5,
     "metadata": {},
     "output_type": "execute_result"
    }
   ],
   "source": [
    "df.duplicated().sum()"
   ]
  },
  {
   "cell_type": "markdown",
   "metadata": {},
   "source": [
    "*Дубликатов нет*"
   ]
  },
  {
   "cell_type": "code",
   "execution_count": 6,
   "metadata": {},
   "outputs": [
    {
     "data": {
      "text/html": [
       "<div>\n",
       "<style scoped>\n",
       "    .dataframe tbody tr th:only-of-type {\n",
       "        vertical-align: middle;\n",
       "    }\n",
       "\n",
       "    .dataframe tbody tr th {\n",
       "        vertical-align: top;\n",
       "    }\n",
       "\n",
       "    .dataframe thead th {\n",
       "        text-align: right;\n",
       "    }\n",
       "</style>\n",
       "<table border=\"1\" class=\"dataframe\">\n",
       "  <thead>\n",
       "    <tr style=\"text-align: right;\">\n",
       "      <th></th>\n",
       "      <th>gender</th>\n",
       "      <th>near_location</th>\n",
       "      <th>partner</th>\n",
       "      <th>promo_friends</th>\n",
       "      <th>phone</th>\n",
       "      <th>contract_period</th>\n",
       "      <th>group_visits</th>\n",
       "      <th>age</th>\n",
       "      <th>avg_additional_charges_total</th>\n",
       "      <th>month_to_end_contract</th>\n",
       "      <th>lifetime</th>\n",
       "      <th>avg_class_frequency_total</th>\n",
       "      <th>avg_class_frequency_current_month</th>\n",
       "      <th>churn</th>\n",
       "    </tr>\n",
       "  </thead>\n",
       "  <tbody>\n",
       "    <tr>\n",
       "      <th>count</th>\n",
       "      <td>4000.000000</td>\n",
       "      <td>4000.000000</td>\n",
       "      <td>4000.000000</td>\n",
       "      <td>4000.000000</td>\n",
       "      <td>4000.000000</td>\n",
       "      <td>4000.000000</td>\n",
       "      <td>4000.000000</td>\n",
       "      <td>4000.000000</td>\n",
       "      <td>4000.000000</td>\n",
       "      <td>4000.000000</td>\n",
       "      <td>4000.000000</td>\n",
       "      <td>4000.000000</td>\n",
       "      <td>4000.000000</td>\n",
       "      <td>4000.000000</td>\n",
       "    </tr>\n",
       "    <tr>\n",
       "      <th>mean</th>\n",
       "      <td>0.510250</td>\n",
       "      <td>0.845250</td>\n",
       "      <td>0.486750</td>\n",
       "      <td>0.308500</td>\n",
       "      <td>0.903500</td>\n",
       "      <td>4.681250</td>\n",
       "      <td>0.412250</td>\n",
       "      <td>29.184250</td>\n",
       "      <td>146.943728</td>\n",
       "      <td>4.322750</td>\n",
       "      <td>3.724750</td>\n",
       "      <td>1.879020</td>\n",
       "      <td>1.767052</td>\n",
       "      <td>0.265250</td>\n",
       "    </tr>\n",
       "    <tr>\n",
       "      <th>std</th>\n",
       "      <td>0.499957</td>\n",
       "      <td>0.361711</td>\n",
       "      <td>0.499887</td>\n",
       "      <td>0.461932</td>\n",
       "      <td>0.295313</td>\n",
       "      <td>4.549706</td>\n",
       "      <td>0.492301</td>\n",
       "      <td>3.258367</td>\n",
       "      <td>96.355602</td>\n",
       "      <td>4.191297</td>\n",
       "      <td>3.749267</td>\n",
       "      <td>0.972245</td>\n",
       "      <td>1.052906</td>\n",
       "      <td>0.441521</td>\n",
       "    </tr>\n",
       "    <tr>\n",
       "      <th>min</th>\n",
       "      <td>0.000000</td>\n",
       "      <td>0.000000</td>\n",
       "      <td>0.000000</td>\n",
       "      <td>0.000000</td>\n",
       "      <td>0.000000</td>\n",
       "      <td>1.000000</td>\n",
       "      <td>0.000000</td>\n",
       "      <td>18.000000</td>\n",
       "      <td>0.148205</td>\n",
       "      <td>1.000000</td>\n",
       "      <td>0.000000</td>\n",
       "      <td>0.000000</td>\n",
       "      <td>0.000000</td>\n",
       "      <td>0.000000</td>\n",
       "    </tr>\n",
       "    <tr>\n",
       "      <th>25%</th>\n",
       "      <td>0.000000</td>\n",
       "      <td>1.000000</td>\n",
       "      <td>0.000000</td>\n",
       "      <td>0.000000</td>\n",
       "      <td>1.000000</td>\n",
       "      <td>1.000000</td>\n",
       "      <td>0.000000</td>\n",
       "      <td>27.000000</td>\n",
       "      <td>68.868830</td>\n",
       "      <td>1.000000</td>\n",
       "      <td>1.000000</td>\n",
       "      <td>1.180875</td>\n",
       "      <td>0.963003</td>\n",
       "      <td>0.000000</td>\n",
       "    </tr>\n",
       "    <tr>\n",
       "      <th>50%</th>\n",
       "      <td>1.000000</td>\n",
       "      <td>1.000000</td>\n",
       "      <td>0.000000</td>\n",
       "      <td>0.000000</td>\n",
       "      <td>1.000000</td>\n",
       "      <td>1.000000</td>\n",
       "      <td>0.000000</td>\n",
       "      <td>29.000000</td>\n",
       "      <td>136.220159</td>\n",
       "      <td>1.000000</td>\n",
       "      <td>3.000000</td>\n",
       "      <td>1.832768</td>\n",
       "      <td>1.719574</td>\n",
       "      <td>0.000000</td>\n",
       "    </tr>\n",
       "    <tr>\n",
       "      <th>75%</th>\n",
       "      <td>1.000000</td>\n",
       "      <td>1.000000</td>\n",
       "      <td>1.000000</td>\n",
       "      <td>1.000000</td>\n",
       "      <td>1.000000</td>\n",
       "      <td>6.000000</td>\n",
       "      <td>1.000000</td>\n",
       "      <td>31.000000</td>\n",
       "      <td>210.949625</td>\n",
       "      <td>6.000000</td>\n",
       "      <td>5.000000</td>\n",
       "      <td>2.536078</td>\n",
       "      <td>2.510336</td>\n",
       "      <td>1.000000</td>\n",
       "    </tr>\n",
       "    <tr>\n",
       "      <th>max</th>\n",
       "      <td>1.000000</td>\n",
       "      <td>1.000000</td>\n",
       "      <td>1.000000</td>\n",
       "      <td>1.000000</td>\n",
       "      <td>1.000000</td>\n",
       "      <td>12.000000</td>\n",
       "      <td>1.000000</td>\n",
       "      <td>41.000000</td>\n",
       "      <td>552.590740</td>\n",
       "      <td>12.000000</td>\n",
       "      <td>31.000000</td>\n",
       "      <td>6.023668</td>\n",
       "      <td>6.146783</td>\n",
       "      <td>1.000000</td>\n",
       "    </tr>\n",
       "  </tbody>\n",
       "</table>\n",
       "</div>"
      ],
      "text/plain": [
       "            gender  near_location      partner  promo_friends        phone  \\\n",
       "count  4000.000000    4000.000000  4000.000000    4000.000000  4000.000000   \n",
       "mean      0.510250       0.845250     0.486750       0.308500     0.903500   \n",
       "std       0.499957       0.361711     0.499887       0.461932     0.295313   \n",
       "min       0.000000       0.000000     0.000000       0.000000     0.000000   \n",
       "25%       0.000000       1.000000     0.000000       0.000000     1.000000   \n",
       "50%       1.000000       1.000000     0.000000       0.000000     1.000000   \n",
       "75%       1.000000       1.000000     1.000000       1.000000     1.000000   \n",
       "max       1.000000       1.000000     1.000000       1.000000     1.000000   \n",
       "\n",
       "       contract_period  group_visits          age  \\\n",
       "count      4000.000000   4000.000000  4000.000000   \n",
       "mean          4.681250      0.412250    29.184250   \n",
       "std           4.549706      0.492301     3.258367   \n",
       "min           1.000000      0.000000    18.000000   \n",
       "25%           1.000000      0.000000    27.000000   \n",
       "50%           1.000000      0.000000    29.000000   \n",
       "75%           6.000000      1.000000    31.000000   \n",
       "max          12.000000      1.000000    41.000000   \n",
       "\n",
       "       avg_additional_charges_total  month_to_end_contract     lifetime  \\\n",
       "count                   4000.000000            4000.000000  4000.000000   \n",
       "mean                     146.943728               4.322750     3.724750   \n",
       "std                       96.355602               4.191297     3.749267   \n",
       "min                        0.148205               1.000000     0.000000   \n",
       "25%                       68.868830               1.000000     1.000000   \n",
       "50%                      136.220159               1.000000     3.000000   \n",
       "75%                      210.949625               6.000000     5.000000   \n",
       "max                      552.590740              12.000000    31.000000   \n",
       "\n",
       "       avg_class_frequency_total  avg_class_frequency_current_month  \\\n",
       "count                4000.000000                        4000.000000   \n",
       "mean                    1.879020                           1.767052   \n",
       "std                     0.972245                           1.052906   \n",
       "min                     0.000000                           0.000000   \n",
       "25%                     1.180875                           0.963003   \n",
       "50%                     1.832768                           1.719574   \n",
       "75%                     2.536078                           2.510336   \n",
       "max                     6.023668                           6.146783   \n",
       "\n",
       "             churn  \n",
       "count  4000.000000  \n",
       "mean      0.265250  \n",
       "std       0.441521  \n",
       "min       0.000000  \n",
       "25%       0.000000  \n",
       "50%       0.000000  \n",
       "75%       1.000000  \n",
       "max       1.000000  "
      ]
     },
     "execution_count": 6,
     "metadata": {},
     "output_type": "execute_result"
    }
   ],
   "source": [
    "df.describe()"
   ]
  },
  {
   "cell_type": "markdown",
   "metadata": {},
   "source": [
    "***Выбросов не наблюдаем, видна равномерность в данных, стандартное отклоенение близко к средним значениям***"
   ]
  },
  {
   "cell_type": "markdown",
   "metadata": {},
   "source": [
    "**2.2. Посмотрите на средние значения признаков в двух группах — тех, кто ушел в отток и тех, кто остался (воспользуйтесь методом groupby());**"
   ]
  },
  {
   "cell_type": "code",
   "execution_count": 7,
   "metadata": {},
   "outputs": [
    {
     "data": {
      "text/html": [
       "<div>\n",
       "<style scoped>\n",
       "    .dataframe tbody tr th:only-of-type {\n",
       "        vertical-align: middle;\n",
       "    }\n",
       "\n",
       "    .dataframe tbody tr th {\n",
       "        vertical-align: top;\n",
       "    }\n",
       "\n",
       "    .dataframe thead th {\n",
       "        text-align: right;\n",
       "    }\n",
       "</style>\n",
       "<table border=\"1\" class=\"dataframe\">\n",
       "  <thead>\n",
       "    <tr style=\"text-align: right;\">\n",
       "      <th></th>\n",
       "      <th>gender</th>\n",
       "      <th>near_location</th>\n",
       "      <th>partner</th>\n",
       "      <th>promo_friends</th>\n",
       "      <th>phone</th>\n",
       "      <th>contract_period</th>\n",
       "      <th>group_visits</th>\n",
       "      <th>age</th>\n",
       "      <th>avg_additional_charges_total</th>\n",
       "      <th>month_to_end_contract</th>\n",
       "      <th>lifetime</th>\n",
       "      <th>avg_class_frequency_total</th>\n",
       "      <th>avg_class_frequency_current_month</th>\n",
       "    </tr>\n",
       "    <tr>\n",
       "      <th>churn</th>\n",
       "      <th></th>\n",
       "      <th></th>\n",
       "      <th></th>\n",
       "      <th></th>\n",
       "      <th></th>\n",
       "      <th></th>\n",
       "      <th></th>\n",
       "      <th></th>\n",
       "      <th></th>\n",
       "      <th></th>\n",
       "      <th></th>\n",
       "      <th></th>\n",
       "      <th></th>\n",
       "    </tr>\n",
       "  </thead>\n",
       "  <tbody>\n",
       "    <tr>\n",
       "      <th>0</th>\n",
       "      <td>0.510037</td>\n",
       "      <td>0.873086</td>\n",
       "      <td>0.534195</td>\n",
       "      <td>0.353522</td>\n",
       "      <td>0.903709</td>\n",
       "      <td>5.747193</td>\n",
       "      <td>0.464103</td>\n",
       "      <td>29.976523</td>\n",
       "      <td>158.445715</td>\n",
       "      <td>5.283089</td>\n",
       "      <td>4.711807</td>\n",
       "      <td>2.024876</td>\n",
       "      <td>2.027882</td>\n",
       "    </tr>\n",
       "    <tr>\n",
       "      <th>1</th>\n",
       "      <td>0.510839</td>\n",
       "      <td>0.768143</td>\n",
       "      <td>0.355325</td>\n",
       "      <td>0.183789</td>\n",
       "      <td>0.902922</td>\n",
       "      <td>1.728558</td>\n",
       "      <td>0.268615</td>\n",
       "      <td>26.989632</td>\n",
       "      <td>115.082899</td>\n",
       "      <td>1.662582</td>\n",
       "      <td>0.990575</td>\n",
       "      <td>1.474995</td>\n",
       "      <td>1.044546</td>\n",
       "    </tr>\n",
       "  </tbody>\n",
       "</table>\n",
       "</div>"
      ],
      "text/plain": [
       "         gender  near_location   partner  promo_friends     phone  \\\n",
       "churn                                                               \n",
       "0      0.510037       0.873086  0.534195       0.353522  0.903709   \n",
       "1      0.510839       0.768143  0.355325       0.183789  0.902922   \n",
       "\n",
       "       contract_period  group_visits        age  avg_additional_charges_total  \\\n",
       "churn                                                                           \n",
       "0             5.747193      0.464103  29.976523                    158.445715   \n",
       "1             1.728558      0.268615  26.989632                    115.082899   \n",
       "\n",
       "       month_to_end_contract  lifetime  avg_class_frequency_total  \\\n",
       "churn                                                               \n",
       "0                   5.283089  4.711807                   2.024876   \n",
       "1                   1.662582  0.990575                   1.474995   \n",
       "\n",
       "       avg_class_frequency_current_month  \n",
       "churn                                     \n",
       "0                               2.027882  \n",
       "1                               1.044546  "
      ]
     },
     "execution_count": 7,
     "metadata": {},
     "output_type": "execute_result"
    }
   ],
   "source": [
    "df.groupby('churn').agg('mean')"
   ]
  },
  {
   "cell_type": "markdown",
   "metadata": {},
   "source": [
    "**2.3. Постройте столбчатые гистограммы и распределения признаков для тех, кто ушёл (отток) и тех, кто остался (не попали в отток);**"
   ]
  },
  {
   "cell_type": "code",
   "execution_count": 8,
   "metadata": {},
   "outputs": [],
   "source": [
    "#for column in df.columns:\n",
    "    #plt.figure(figsize=(7, 7))\n",
    "    #df.groupby('churn')[column]\n",
    "    #sns.distplot(df[column])\n",
    "    #plt.title(column)\n",
    "    #plt.show()"
   ]
  },
  {
   "cell_type": "code",
   "execution_count": 9,
   "metadata": {},
   "outputs": [],
   "source": [
    "#for column in df.columns:\n",
    "     #plt.figure(figsize=(7, 7))\n",
    "     #sns.countplot(x = df[column], hue='churn', data=df)\n",
    "     #plt.title(column)\n",
    "     #plt.show()"
   ]
  },
  {
   "cell_type": "markdown",
   "metadata": {},
   "source": [
    "***Распределение нормальное***"
   ]
  },
  {
   "cell_type": "markdown",
   "metadata": {},
   "source": [
    "***1. По gender - доли оттока и для мужчин и для женщин практически одинаковы;***\n",
    "\n",
    "***2. По near_location - доля живущих ближе к фитнес-центрам больше , как и польше доля оттока по ним;***\n",
    "\n",
    "***3. По partner - доля участвующих в программах немного выше, но при этом о доля их оттка меньше;*** \n",
    "\n",
    "***4. По promo_friends - доля участников промо акции гараздо меньше, как и их доля в оттоке;*** \n",
    "\n",
    "***5. По phone - логичное распределение, клиентов, которые оставили номер телефона, в разы больше;*** \n",
    "\n",
    "***6. По contract_period - явные лидеры оттока, это клиенты, которые купили клубную карту на 1 месяц. Видим тенденцию, чем больше период действия клубной карты, тем меньше отток;*** \n",
    "\n",
    "***7. По group_visits - отток клиентов, которые ходят на групповые занятия в разы меньше;*** \n",
    "\n",
    "***8. По age - клиенты от 18 до 25 лет включительно чаще прекращают посещение фитнес-центра;*** \n",
    "\n",
    "***9. По month_to_end_contract - явно видно, что основной отток клиентов происходит, когда до окончания действия карты остается 1 месяц;*** \n",
    "\n",
    "***10. По lifetime - как и по данным contract_period, отток клиентов с посещениями 1-2 месяца;*** "
   ]
  },
  {
   "cell_type": "markdown",
   "metadata": {},
   "source": [
    "**2.4. Постройте матрицу корреляций и отобразите её.**"
   ]
  },
  {
   "cell_type": "code",
   "execution_count": 10,
   "metadata": {},
   "outputs": [
    {
     "data": {
      "image/png": "[encoded data removed]",
      "text/plain": [
       "<Figure size 1080x720 with 2 Axes>"
      ]
     },
     "metadata": {
      "needs_background": "light"
     },
     "output_type": "display_data"
    }
   ],
   "source": [
    "cm = df.corr()\n",
    "plt.figure(figsize=(15, 10))\n",
    "sns.heatmap(cm, annot = True, square=False)\n",
    "plt.title('Матрица корреляций')\n",
    "plt.show()"
   ]
  },
  {
   "cell_type": "markdown",
   "metadata": {},
   "source": [
    "***В основном коррекляция слабая между признаками.*** \n",
    "\n",
    "***Сильная коррекляция у следующих признаков:*** \n",
    "\n",
    "***1. contract_period и month_to_end_contract - они логично коррелируют период контракта и окончание контракта***\n",
    "\n",
    "***2. avg_class_frequency_current_month и avg_class_frequency_total - тоже логично средняя частота посещейни за месяц и за весь период достаточно сильно кррелируют между собой.*** "
   ]
  },
  {
   "cell_type": "markdown",
   "metadata": {},
   "source": [
    "**ШАГ 3. ПОСТРОИТЬ МОДЕЛЬ ПРОГНОЗИРОВАНИЯ ОТТОКА КЛИЕНТОВ**"
   ]
  },
  {
   "cell_type": "markdown",
   "metadata": {},
   "source": [
    "**3.1. Разбейте данные на обучающую и валидационную выборку функцией train_test_split().**"
   ]
  },
  {
   "cell_type": "code",
   "execution_count": 11,
   "metadata": {},
   "outputs": [],
   "source": [
    "X = df.drop(['churn','contract_period', 'avg_class_frequency_current_month'], axis=1)\n",
    "y = df['churn'] "
   ]
  },
  {
   "cell_type": "code",
   "execution_count": 12,
   "metadata": {},
   "outputs": [],
   "source": [
    "X_train, X_test, y_train, y_test = train_test_split(X, y, stratify=y, test_size=0.2, random_state=0)"
   ]
  },
  {
   "cell_type": "code",
   "execution_count": 13,
   "metadata": {},
   "outputs": [],
   "source": [
    "scaler = StandardScaler()\n",
    "scaler.fit(X_train)\n",
    "X_train_st = scaler.transform(X_train)\n",
    "X_test_st = scaler.transform(X_test)"
   ]
  },
  {
   "cell_type": "markdown",
   "metadata": {},
   "source": [
    "**3.2. Обучите модель на train-выборке двумя способами:логистической регрессией, случайным лесом.**"
   ]
  },
  {
   "cell_type": "markdown",
   "metadata": {},
   "source": [
    "**Логическая регрессия**"
   ]
  },
  {
   "cell_type": "code",
   "execution_count": 14,
   "metadata": {},
   "outputs": [],
   "source": [
    "model_l = LogisticRegression(solver='liblinear',random_state = 0)"
   ]
  },
  {
   "cell_type": "code",
   "execution_count": 15,
   "metadata": {},
   "outputs": [
    {
     "data": {
      "text/plain": [
       "LogisticRegression(random_state=0, solver='liblinear')"
      ]
     },
     "execution_count": 15,
     "metadata": {},
     "output_type": "execute_result"
    }
   ],
   "source": [
    "model_l.fit(X_train_st, y_train)"
   ]
  },
  {
   "cell_type": "code",
   "execution_count": 16,
   "metadata": {},
   "outputs": [],
   "source": [
    "predictions_l = model_l.predict(X_test_st)\n",
    "probabilities_l =  model_l.predict_proba(X_test_st)[:,1]"
   ]
  },
  {
   "cell_type": "markdown",
   "metadata": {},
   "source": [
    "**Случайный лес**"
   ]
  },
  {
   "cell_type": "code",
   "execution_count": 17,
   "metadata": {},
   "outputs": [],
   "source": [
    "rf_model = RandomForestClassifier(n_estimators = 100, random_state = 0) \n",
    "rf_model.fit(X_train_st, y_train)\n",
    "rf_predictions = rf_model.predict(X_test_st) \n",
    "rf_probabilities = rf_model.predict_proba(X_test_st)[:,1]"
   ]
  },
  {
   "cell_type": "markdown",
   "metadata": {},
   "source": [
    "**3.3. Оцените метрики accuracy, precision и recall для обеих моделей на валидационной выборке. Сравните по ним модели. Какая модель показала себя лучше на основании метрик?**"
   ]
  },
  {
   "cell_type": "code",
   "execution_count": 18,
   "metadata": {},
   "outputs": [
    {
     "name": "stdout",
     "output_type": "stream",
     "text": [
      "Accuracy: 0.902\n",
      "Precision: 0.813\n",
      "Recall: 0.821\n"
     ]
    }
   ],
   "source": [
    "print('Accuracy: {:.3f}'.format(accuracy_score(y_test, predictions_l)))\n",
    "print('Precision: {:.3f}'.format(precision_score(y_test, predictions_l)))\n",
    "print('Recall: {:.3f}'.format(recall_score(y_test, predictions_l)))"
   ]
  },
  {
   "cell_type": "code",
   "execution_count": 19,
   "metadata": {},
   "outputs": [
    {
     "name": "stdout",
     "output_type": "stream",
     "text": [
      "Accuracy: 0.901\n",
      "Precision: 0.831\n",
      "Recall: 0.788\n"
     ]
    }
   ],
   "source": [
    "print('Accuracy: {:.3f}'.format(accuracy_score(y_test, rf_predictions)))\n",
    "print('Precision: {:.3f}'.format(precision_score(y_test, rf_predictions)))\n",
    "print('Recall: {:.3f}'.format(recall_score(y_test, rf_predictions)))"
   ]
  },
  {
   "cell_type": "markdown",
   "metadata": {},
   "source": [
    "***Обе модели показывают очень высокие показатели по Accuracy, Precision и Recall.*** \n",
    "\n",
    "***Но незначительно выигрывает модель Логической регрессии.***"
   ]
  },
  {
   "cell_type": "markdown",
   "metadata": {},
   "source": [
    "**ШАГ 4. СДЕЛАТЬ КЛАСТЕРИЗАЦИЮ КЛИЕНТОВ**"
   ]
  },
  {
   "cell_type": "markdown",
   "metadata": {},
   "source": [
    "**4.1. Стандартизируйте данные.**"
   ]
  },
  {
   "cell_type": "code",
   "execution_count": 20,
   "metadata": {},
   "outputs": [],
   "source": [
    "sc = StandardScaler()\n",
    "X_sc = sc.fit_transform(X)"
   ]
  },
  {
   "cell_type": "markdown",
   "metadata": {},
   "source": [
    "**4.2. Постройте матрицу расстояний функцией linkage() на стандартизованной матрице признаков и нарисуйте дендрограмму. Внимание: отрисовка дендрограммы может занять время! На основании полученного графика предположите, какое количество кластеров можно выделить.**"
   ]
  },
  {
   "cell_type": "code",
   "execution_count": 21,
   "metadata": {},
   "outputs": [],
   "source": [
    "linked = linkage(X_sc, method = 'ward')"
   ]
  },
  {
   "cell_type": "code",
   "execution_count": 22,
   "metadata": {},
   "outputs": [],
   "source": [
    "#plt.figure(figsize=(15, 10))  \n",
    "#dendrogram(linked, orientation = 'top')\n",
    "#plt.title('Кластеризация')\n",
    "#plt.show()"
   ]
  },
  {
   "cell_type": "markdown",
   "metadata": {},
   "source": [
    "***Согласно дендрограмме можно выделить 5 кластеров***"
   ]
  },
  {
   "cell_type": "markdown",
   "metadata": {},
   "source": [
    "**4.3. Обучите модель кластеризации на основании алгоритма K-Means и спрогнозируйте кластеры клиентов. Договоримся за число кластеров принять n=5, чтобы ваши результаты можно было сравнивать с результатами остальных студентов. Однако, конечно, в жизни никто не скажет вам правильный ответ, и решение остаётся за вами (на основании изучения графика из предыдущего пункта).**"
   ]
  },
  {
   "cell_type": "code",
   "execution_count": 32,
   "metadata": {},
   "outputs": [
    {
     "data": {
      "text/html": [
       "<div>\n",
       "<style scoped>\n",
       "    .dataframe tbody tr th:only-of-type {\n",
       "        vertical-align: middle;\n",
       "    }\n",
       "\n",
       "    .dataframe tbody tr th {\n",
       "        vertical-align: top;\n",
       "    }\n",
       "\n",
       "    .dataframe thead th {\n",
       "        text-align: right;\n",
       "    }\n",
       "</style>\n",
       "<table border=\"1\" class=\"dataframe\">\n",
       "  <thead>\n",
       "    <tr style=\"text-align: right;\">\n",
       "      <th></th>\n",
       "      <th>gender</th>\n",
       "      <th>near_location</th>\n",
       "      <th>partner</th>\n",
       "      <th>promo_friends</th>\n",
       "      <th>phone</th>\n",
       "      <th>contract_period</th>\n",
       "      <th>group_visits</th>\n",
       "      <th>age</th>\n",
       "      <th>avg_additional_charges_total</th>\n",
       "      <th>month_to_end_contract</th>\n",
       "      <th>lifetime</th>\n",
       "      <th>avg_class_frequency_total</th>\n",
       "      <th>avg_class_frequency_current_month</th>\n",
       "      <th>churn</th>\n",
       "      <th>cluster</th>\n",
       "    </tr>\n",
       "  </thead>\n",
       "  <tbody>\n",
       "    <tr>\n",
       "      <th>0</th>\n",
       "      <td>1</td>\n",
       "      <td>1</td>\n",
       "      <td>1</td>\n",
       "      <td>1</td>\n",
       "      <td>0</td>\n",
       "      <td>6</td>\n",
       "      <td>1</td>\n",
       "      <td>29</td>\n",
       "      <td>14.227470</td>\n",
       "      <td>5.0</td>\n",
       "      <td>3</td>\n",
       "      <td>0.020398</td>\n",
       "      <td>0.000000</td>\n",
       "      <td>0</td>\n",
       "      <td>4</td>\n",
       "    </tr>\n",
       "    <tr>\n",
       "      <th>1</th>\n",
       "      <td>0</td>\n",
       "      <td>1</td>\n",
       "      <td>0</td>\n",
       "      <td>0</td>\n",
       "      <td>1</td>\n",
       "      <td>12</td>\n",
       "      <td>1</td>\n",
       "      <td>31</td>\n",
       "      <td>113.202938</td>\n",
       "      <td>12.0</td>\n",
       "      <td>7</td>\n",
       "      <td>1.922936</td>\n",
       "      <td>1.910244</td>\n",
       "      <td>0</td>\n",
       "      <td>2</td>\n",
       "    </tr>\n",
       "    <tr>\n",
       "      <th>2</th>\n",
       "      <td>0</td>\n",
       "      <td>1</td>\n",
       "      <td>1</td>\n",
       "      <td>0</td>\n",
       "      <td>1</td>\n",
       "      <td>1</td>\n",
       "      <td>0</td>\n",
       "      <td>28</td>\n",
       "      <td>129.448479</td>\n",
       "      <td>1.0</td>\n",
       "      <td>2</td>\n",
       "      <td>1.859098</td>\n",
       "      <td>1.736502</td>\n",
       "      <td>0</td>\n",
       "      <td>3</td>\n",
       "    </tr>\n",
       "    <tr>\n",
       "      <th>3</th>\n",
       "      <td>0</td>\n",
       "      <td>1</td>\n",
       "      <td>1</td>\n",
       "      <td>1</td>\n",
       "      <td>1</td>\n",
       "      <td>12</td>\n",
       "      <td>1</td>\n",
       "      <td>33</td>\n",
       "      <td>62.669863</td>\n",
       "      <td>12.0</td>\n",
       "      <td>2</td>\n",
       "      <td>3.205633</td>\n",
       "      <td>3.357215</td>\n",
       "      <td>0</td>\n",
       "      <td>0</td>\n",
       "    </tr>\n",
       "    <tr>\n",
       "      <th>4</th>\n",
       "      <td>1</td>\n",
       "      <td>1</td>\n",
       "      <td>1</td>\n",
       "      <td>1</td>\n",
       "      <td>1</td>\n",
       "      <td>1</td>\n",
       "      <td>0</td>\n",
       "      <td>26</td>\n",
       "      <td>198.362265</td>\n",
       "      <td>1.0</td>\n",
       "      <td>3</td>\n",
       "      <td>1.113884</td>\n",
       "      <td>1.120078</td>\n",
       "      <td>0</td>\n",
       "      <td>0</td>\n",
       "    </tr>\n",
       "    <tr>\n",
       "      <th>5</th>\n",
       "      <td>1</td>\n",
       "      <td>1</td>\n",
       "      <td>0</td>\n",
       "      <td>0</td>\n",
       "      <td>1</td>\n",
       "      <td>1</td>\n",
       "      <td>1</td>\n",
       "      <td>34</td>\n",
       "      <td>450.743960</td>\n",
       "      <td>1.0</td>\n",
       "      <td>3</td>\n",
       "      <td>2.623477</td>\n",
       "      <td>2.637007</td>\n",
       "      <td>0</td>\n",
       "      <td>2</td>\n",
       "    </tr>\n",
       "    <tr>\n",
       "      <th>6</th>\n",
       "      <td>1</td>\n",
       "      <td>1</td>\n",
       "      <td>1</td>\n",
       "      <td>1</td>\n",
       "      <td>0</td>\n",
       "      <td>6</td>\n",
       "      <td>1</td>\n",
       "      <td>32</td>\n",
       "      <td>94.266389</td>\n",
       "      <td>6.0</td>\n",
       "      <td>2</td>\n",
       "      <td>1.138941</td>\n",
       "      <td>1.277242</td>\n",
       "      <td>0</td>\n",
       "      <td>4</td>\n",
       "    </tr>\n",
       "    <tr>\n",
       "      <th>7</th>\n",
       "      <td>0</td>\n",
       "      <td>1</td>\n",
       "      <td>0</td>\n",
       "      <td>0</td>\n",
       "      <td>1</td>\n",
       "      <td>1</td>\n",
       "      <td>0</td>\n",
       "      <td>30</td>\n",
       "      <td>217.786641</td>\n",
       "      <td>1.0</td>\n",
       "      <td>0</td>\n",
       "      <td>1.213502</td>\n",
       "      <td>1.049387</td>\n",
       "      <td>1</td>\n",
       "      <td>3</td>\n",
       "    </tr>\n",
       "    <tr>\n",
       "      <th>8</th>\n",
       "      <td>1</td>\n",
       "      <td>1</td>\n",
       "      <td>1</td>\n",
       "      <td>1</td>\n",
       "      <td>1</td>\n",
       "      <td>1</td>\n",
       "      <td>1</td>\n",
       "      <td>23</td>\n",
       "      <td>45.409909</td>\n",
       "      <td>1.0</td>\n",
       "      <td>1</td>\n",
       "      <td>1.106239</td>\n",
       "      <td>1.059333</td>\n",
       "      <td>0</td>\n",
       "      <td>0</td>\n",
       "    </tr>\n",
       "    <tr>\n",
       "      <th>9</th>\n",
       "      <td>0</td>\n",
       "      <td>1</td>\n",
       "      <td>0</td>\n",
       "      <td>0</td>\n",
       "      <td>1</td>\n",
       "      <td>1</td>\n",
       "      <td>0</td>\n",
       "      <td>31</td>\n",
       "      <td>65.310836</td>\n",
       "      <td>1.0</td>\n",
       "      <td>11</td>\n",
       "      <td>1.810852</td>\n",
       "      <td>1.951368</td>\n",
       "      <td>0</td>\n",
       "      <td>2</td>\n",
       "    </tr>\n",
       "  </tbody>\n",
       "</table>\n",
       "</div>"
      ],
      "text/plain": [
       "   gender  near_location  partner  promo_friends  phone  contract_period  \\\n",
       "0       1              1        1              1      0                6   \n",
       "1       0              1        0              0      1               12   \n",
       "2       0              1        1              0      1                1   \n",
       "3       0              1        1              1      1               12   \n",
       "4       1              1        1              1      1                1   \n",
       "5       1              1        0              0      1                1   \n",
       "6       1              1        1              1      0                6   \n",
       "7       0              1        0              0      1                1   \n",
       "8       1              1        1              1      1                1   \n",
       "9       0              1        0              0      1                1   \n",
       "\n",
       "   group_visits  age  avg_additional_charges_total  month_to_end_contract  \\\n",
       "0             1   29                     14.227470                    5.0   \n",
       "1             1   31                    113.202938                   12.0   \n",
       "2             0   28                    129.448479                    1.0   \n",
       "3             1   33                     62.669863                   12.0   \n",
       "4             0   26                    198.362265                    1.0   \n",
       "5             1   34                    450.743960                    1.0   \n",
       "6             1   32                     94.266389                    6.0   \n",
       "7             0   30                    217.786641                    1.0   \n",
       "8             1   23                     45.409909                    1.0   \n",
       "9             0   31                     65.310836                    1.0   \n",
       "\n",
       "   lifetime  avg_class_frequency_total  avg_class_frequency_current_month  \\\n",
       "0         3                   0.020398                           0.000000   \n",
       "1         7                   1.922936                           1.910244   \n",
       "2         2                   1.859098                           1.736502   \n",
       "3         2                   3.205633                           3.357215   \n",
       "4         3                   1.113884                           1.120078   \n",
       "5         3                   2.623477                           2.637007   \n",
       "6         2                   1.138941                           1.277242   \n",
       "7         0                   1.213502                           1.049387   \n",
       "8         1                   1.106239                           1.059333   \n",
       "9        11                   1.810852                           1.951368   \n",
       "\n",
       "   churn  cluster  \n",
       "0      0        4  \n",
       "1      0        2  \n",
       "2      0        3  \n",
       "3      0        0  \n",
       "4      0        0  \n",
       "5      0        2  \n",
       "6      0        4  \n",
       "7      1        3  \n",
       "8      0        0  \n",
       "9      0        2  "
      ]
     },
     "execution_count": 32,
     "metadata": {},
     "output_type": "execute_result"
    }
   ],
   "source": [
    "km = KMeans(n_clusters = 5, random_state=0)\n",
    "labels = km.fit_predict(X_sc)\n",
    "df['cluster'] = labels\n",
    "df.head(10)"
   ]
  },
  {
   "cell_type": "code",
   "execution_count": 33,
   "metadata": {},
   "outputs": [
    {
     "data": {
      "text/plain": [
       "cluster\n",
       "0    1001\n",
       "1     557\n",
       "2     898\n",
       "3    1158\n",
       "4     386\n",
       "Name: age, dtype: int64"
      ]
     },
     "execution_count": 33,
     "metadata": {},
     "output_type": "execute_result"
    }
   ],
   "source": [
    "df.groupby(['cluster'])['age'].count()"
   ]
  },
  {
   "cell_type": "markdown",
   "metadata": {},
   "source": [
    "**4.4. Посмотрите на средние значения признаков для кластеров. Можно ли сразу что-то заметить?**"
   ]
  },
  {
   "cell_type": "code",
   "execution_count": 34,
   "metadata": {},
   "outputs": [
    {
     "data": {
      "text/html": [
       "<div>\n",
       "<style scoped>\n",
       "    .dataframe tbody tr th:only-of-type {\n",
       "        vertical-align: middle;\n",
       "    }\n",
       "\n",
       "    .dataframe tbody tr th {\n",
       "        vertical-align: top;\n",
       "    }\n",
       "\n",
       "    .dataframe thead th {\n",
       "        text-align: right;\n",
       "    }\n",
       "</style>\n",
       "<table border=\"1\" class=\"dataframe\">\n",
       "  <thead>\n",
       "    <tr style=\"text-align: right;\">\n",
       "      <th>cluster</th>\n",
       "      <th>0</th>\n",
       "      <th>1</th>\n",
       "      <th>2</th>\n",
       "      <th>3</th>\n",
       "      <th>4</th>\n",
       "    </tr>\n",
       "  </thead>\n",
       "  <tbody>\n",
       "    <tr>\n",
       "      <th>gender</th>\n",
       "      <td>0.498501</td>\n",
       "      <td>0.500898</td>\n",
       "      <td>0.521158</td>\n",
       "      <td>0.512090</td>\n",
       "      <td>0.523316</td>\n",
       "    </tr>\n",
       "    <tr>\n",
       "      <th>near_location</th>\n",
       "      <td>0.995005</td>\n",
       "      <td>0.000000</td>\n",
       "      <td>0.995546</td>\n",
       "      <td>1.000000</td>\n",
       "      <td>0.862694</td>\n",
       "    </tr>\n",
       "    <tr>\n",
       "      <th>partner</th>\n",
       "      <td>0.889111</td>\n",
       "      <td>0.488330</td>\n",
       "      <td>0.417595</td>\n",
       "      <td>0.196891</td>\n",
       "      <td>0.471503</td>\n",
       "    </tr>\n",
       "    <tr>\n",
       "      <th>promo_friends</th>\n",
       "      <td>1.000000</td>\n",
       "      <td>0.077199</td>\n",
       "      <td>0.011136</td>\n",
       "      <td>0.053541</td>\n",
       "      <td>0.305699</td>\n",
       "    </tr>\n",
       "    <tr>\n",
       "      <th>phone</th>\n",
       "      <td>1.000000</td>\n",
       "      <td>1.000000</td>\n",
       "      <td>1.000000</td>\n",
       "      <td>1.000000</td>\n",
       "      <td>0.000000</td>\n",
       "    </tr>\n",
       "    <tr>\n",
       "      <th>contract_period</th>\n",
       "      <td>6.844156</td>\n",
       "      <td>2.978456</td>\n",
       "      <td>6.726058</td>\n",
       "      <td>2.012953</td>\n",
       "      <td>4.777202</td>\n",
       "    </tr>\n",
       "    <tr>\n",
       "      <th>group_visits</th>\n",
       "      <td>0.519481</td>\n",
       "      <td>0.231598</td>\n",
       "      <td>0.546771</td>\n",
       "      <td>0.297064</td>\n",
       "      <td>0.427461</td>\n",
       "    </tr>\n",
       "    <tr>\n",
       "      <th>age</th>\n",
       "      <td>29.543457</td>\n",
       "      <td>28.685817</td>\n",
       "      <td>30.805122</td>\n",
       "      <td>27.818653</td>\n",
       "      <td>29.297927</td>\n",
       "    </tr>\n",
       "    <tr>\n",
       "      <th>avg_additional_charges_total</th>\n",
       "      <td>152.139417</td>\n",
       "      <td>137.277472</td>\n",
       "      <td>177.103564</td>\n",
       "      <td>124.625600</td>\n",
       "      <td>144.208179</td>\n",
       "    </tr>\n",
       "    <tr>\n",
       "      <th>month_to_end_contract</th>\n",
       "      <td>6.265734</td>\n",
       "      <td>2.804309</td>\n",
       "      <td>6.162584</td>\n",
       "      <td>1.898964</td>\n",
       "      <td>4.466321</td>\n",
       "    </tr>\n",
       "    <tr>\n",
       "      <th>lifetime</th>\n",
       "      <td>4.210789</td>\n",
       "      <td>2.978456</td>\n",
       "      <td>5.701559</td>\n",
       "      <td>2.058722</td>\n",
       "      <td>3.940415</td>\n",
       "    </tr>\n",
       "    <tr>\n",
       "      <th>avg_class_frequency_total</th>\n",
       "      <td>1.951909</td>\n",
       "      <td>1.762672</td>\n",
       "      <td>2.318701</td>\n",
       "      <td>1.539284</td>\n",
       "      <td>1.854211</td>\n",
       "    </tr>\n",
       "    <tr>\n",
       "      <th>avg_class_frequency_current_month</th>\n",
       "      <td>1.899338</td>\n",
       "      <td>1.597632</td>\n",
       "      <td>2.314057</td>\n",
       "      <td>1.324365</td>\n",
       "      <td>1.723967</td>\n",
       "    </tr>\n",
       "    <tr>\n",
       "      <th>churn</th>\n",
       "      <td>0.132867</td>\n",
       "      <td>0.402154</td>\n",
       "      <td>0.016704</td>\n",
       "      <td>0.506045</td>\n",
       "      <td>0.266839</td>\n",
       "    </tr>\n",
       "  </tbody>\n",
       "</table>\n",
       "</div>"
      ],
      "text/plain": [
       "cluster                                     0           1           2  \\\n",
       "gender                               0.498501    0.500898    0.521158   \n",
       "near_location                        0.995005    0.000000    0.995546   \n",
       "partner                              0.889111    0.488330    0.417595   \n",
       "promo_friends                        1.000000    0.077199    0.011136   \n",
       "phone                                1.000000    1.000000    1.000000   \n",
       "contract_period                      6.844156    2.978456    6.726058   \n",
       "group_visits                         0.519481    0.231598    0.546771   \n",
       "age                                 29.543457   28.685817   30.805122   \n",
       "avg_additional_charges_total       152.139417  137.277472  177.103564   \n",
       "month_to_end_contract                6.265734    2.804309    6.162584   \n",
       "lifetime                             4.210789    2.978456    5.701559   \n",
       "avg_class_frequency_total            1.951909    1.762672    2.318701   \n",
       "avg_class_frequency_current_month    1.899338    1.597632    2.314057   \n",
       "churn                                0.132867    0.402154    0.016704   \n",
       "\n",
       "cluster                                     3           4  \n",
       "gender                               0.512090    0.523316  \n",
       "near_location                        1.000000    0.862694  \n",
       "partner                              0.196891    0.471503  \n",
       "promo_friends                        0.053541    0.305699  \n",
       "phone                                1.000000    0.000000  \n",
       "contract_period                      2.012953    4.777202  \n",
       "group_visits                         0.297064    0.427461  \n",
       "age                                 27.818653   29.297927  \n",
       "avg_additional_charges_total       124.625600  144.208179  \n",
       "month_to_end_contract                1.898964    4.466321  \n",
       "lifetime                             2.058722    3.940415  \n",
       "avg_class_frequency_total            1.539284    1.854211  \n",
       "avg_class_frequency_current_month    1.324365    1.723967  \n",
       "churn                                0.506045    0.266839  "
      ]
     },
     "execution_count": 34,
     "metadata": {},
     "output_type": "execute_result"
    }
   ],
   "source": [
    "df.groupby('cluster').mean().T"
   ]
  },
  {
   "cell_type": "markdown",
   "metadata": {},
   "source": [
    "***Можно заметить:*** \n",
    "\n",
    "***1. По кластеру 0 - partner выская доля, самая высокая из всех кластеров среднее promo_friends, как и contract_period, month_to_end_contract***\n",
    "\n",
    "***2. По кластеру 1 - среднее phone равно 0***\n",
    "\n",
    "***3. По кластеру 2 - среднее near_location равно 0, самое низкое среднее group_visits и promo_friends***\n",
    "\n",
    "***4. По кластеру 3 - самые низкие показатели средних значений по параметрам  avg_class_frequency_total и avg_class_frequency_current_month***\n",
    "\n",
    "***5. По кластеру 4 - самые выские средные по параметрам avg_class_frequency_total и avg_class_frequency_current_month***\n"
   ]
  },
  {
   "cell_type": "markdown",
   "metadata": {},
   "source": [
    "**4.5. Постройте распределения признаков для кластеров. Можно ли что-то заметить по ним?**"
   ]
  },
  {
   "cell_type": "code",
   "execution_count": 35,
   "metadata": {},
   "outputs": [],
   "source": [
    "#for column in df.columns:\n",
    "#    plt.figure(figsize=(15, 15))\n",
    "#    sns.countplot(x = df[column], hue='cluster', data=df)\n",
    "#    plt.title(column)\n",
    "#    plt.show()"
   ]
  },
  {
   "cell_type": "code",
   "execution_count": 46,
   "metadata": {},
   "outputs": [
    {
     "data": {
      "image/png": "[encoded data removed]",
      "text/plain": [
       "<Figure size 504x504 with 1 Axes>"
      ]
     },
     "metadata": {
      "needs_background": "light"
     },
     "output_type": "display_data"
    },
    {
     "data": {
      "image/png": "[encoded data removed]",
      "text/plain": [
       "<Figure size 504x504 with 1 Axes>"
      ]
     },
     "metadata": {
      "needs_background": "light"
     },
     "output_type": "display_data"
    },
    {
     "data": {
      "image/png": "[encoded data removed]",
      "text/plain": [
       "<Figure size 504x504 with 1 Axes>"
      ]
     },
     "metadata": {
      "needs_background": "light"
     },
     "output_type": "display_data"
    },
    {
     "data": {
      "image/png": "[encoded data removed]",
      "text/plain": [
       "<Figure size 504x504 with 1 Axes>"
      ]
     },
     "metadata": {
      "needs_background": "light"
     },
     "output_type": "display_data"
    },
    {
     "data": {
      "image/png": "[encoded data removed]",
      "text/plain": [
       "<Figure size 504x504 with 1 Axes>"
      ]
     },
     "metadata": {
      "needs_background": "light"
     },
     "output_type": "display_data"
    },
    {
     "data": {
      "image/png": "[encoded data removed]",
      "text/plain": [
       "<Figure size 504x504 with 1 Axes>"
      ]
     },
     "metadata": {
      "needs_background": "light"
     },
     "output_type": "display_data"
    }
   ],
   "source": [
    "for column in ['month_to_end_contract', 'age', 'avg_additional_charges_total', 'lifetime', 'avg_class_frequency_total', 'avg_class_frequency_current_month']:\n",
    "    plt.figure(figsize=(7, 7))\n",
    "    sns.kdeplot(data = df, x = df[column], hue = 'cluster')\n",
    "    plt.title(column)\n",
    "    plt.show()"
   ]
  },
  {
   "cell_type": "markdown",
   "metadata": {},
   "source": [
    "***1. По gender - выделяется кластер 3, как по мужчинам, так и по женщинам.*** \n",
    "\n",
    "***2. По near_location - также, выделяется 3 кластер по количеству клиентов, которые живут близко.*** \n",
    "\n",
    "***3. По partner - без партнерских программ выделяется кластер 3, а с партнерскими программами кластер 0.***\n",
    "\n",
    "***4. По promo_friends - аналогиная ситуация, как и с partner.***\n",
    "\n",
    "***5. По phone - как ранее описывал, только один кластер без номеров клиентов.***\n",
    "\n",
    "***6. По contract_period - кластер 3 выделяется по клубным картам на 1 месяц, кластер 4 на 6 месяцев и кластер 0 на 12 месяцев.*** \n",
    "\n",
    "***7. По group_visits - большинство клиентов, которые не ходят на групповые занятия состоят в кластере 3, а с групповыми кластер 0.*** \n",
    "\n",
    "***8. По age - большинство клиентов до 30 входят в 3 кластер, после 30 в 0 кластер.*** \n",
    "\n",
    "***9. По month_to_end_contract - аналогично contract_period***\n",
    "\n",
    "***10. По lifetime - до 4 месяцев лидирует кластер 3, с 4 месяца по 6 лидирует кластер 0*** "
   ]
  },
  {
   "cell_type": "markdown",
   "metadata": {},
   "source": [
    "**4.6. Для каждого полученного кластера посчитайте долю оттока (методом groupby()). Отличаются ли они по доле оттока? Какие кластеры склонны к оттоку, а какие — надёжны?**"
   ]
  },
  {
   "cell_type": "code",
   "execution_count": 47,
   "metadata": {},
   "outputs": [
    {
     "data": {
      "text/plain": [
       "cluster\n",
       "0    0.125353\n",
       "1    0.211122\n",
       "2    0.014138\n",
       "3    0.552309\n",
       "4    0.097078\n",
       "Name: churn, dtype: float64"
      ]
     },
     "execution_count": 47,
     "metadata": {},
     "output_type": "execute_result"
    }
   ],
   "source": [
    "df.query('churn==1').groupby('cluster')['churn'].count() / df.query('churn==1')['churn'].count()"
   ]
  },
  {
   "cell_type": "markdown",
   "metadata": {},
   "source": [
    "***Наибольший отток из 3 и 2 кластеров, самые надежные 0 и 4 кластеры***"
   ]
  },
  {
   "cell_type": "markdown",
   "metadata": {},
   "source": [
    "**ШАГ 5. СФОРМУЛИРОВАТЬ ВЫВОДЫ И СДЕЛАТЬ БОЗОВЫЕ РЕКОМЕНДАЦИИ ПО РАБОТЕ С КЛИЕНТАМИ**"
   ]
  },
  {
   "cell_type": "markdown",
   "metadata": {},
   "source": [
    "1. ПРЕДОБРАБОТКА ДАННЫХ"
   ]
  },
  {
   "cell_type": "markdown",
   "metadata": {},
   "source": [
    " Все столбцы перевели в нижний регистр, остальное не трогали. "
   ]
  },
  {
   "cell_type": "markdown",
   "metadata": {},
   "source": [
    "2. КОРРЕЛЯЦИЯ"
   ]
  },
  {
   "cell_type": "markdown",
   "metadata": {},
   "source": [
    "Выявили сильную корреляцию у следующих признаков:\n",
    "\n",
    "contract_period и month_to_end_contract\n",
    "\n",
    "avg_class_frequency_current_month и avg_class_frequency_total"
   ]
  },
  {
   "cell_type": "markdown",
   "metadata": {},
   "source": [
    "3. ПРОГНОЗИРОВАНИЕ"
   ]
  },
  {
   "cell_type": "markdown",
   "metadata": {},
   "source": [
    "Применили 2 модели прогнозирования Логистическая регрессия и Случайный лес. \n",
    "Обе модели отработали эффективно с высокими показателями Accuracy, Precision, Recall. \n",
    "При этом незначительно вырвалась вперед модель Логистической регрессии. "
   ]
  },
  {
   "cell_type": "markdown",
   "metadata": {},
   "source": [
    "4. КЛАСТЕРИЗАЦИЯ"
   ]
  },
  {
   "cell_type": "markdown",
   "metadata": {},
   "source": [
    "Согласно дендрограмме было принято решение распределить клиентов на 5 кластеров:\n",
    "\n",
    "\n",
    "0 - самый надежный кластер с минимальным оттоком. В основном в кластер входят клиенты, которые купили клубные карты на 12 месяцев, которые ходят на групповые занятия. \n",
    "\n",
    "1 - отток составляет 10%, и является кластером без телефоных номеров. \n",
    "\n",
    "2 - топ 2 по оттоку клиентов. Клиенты находятся на большом расстоянии от фитнес-центра и не пользуются групповыми занятиями. \n",
    "\n",
    "3 - топ 1 по оттоку клиентов, самый ненадежный кластер. Клиенты из этого кластера имеют клубную карту на 1-2 месяца. Пришли не по промо акции или партнерской программе. В осноном молодой контингент.  \n",
    "\n",
    "4 - можно отнести к надежному кластеру с оттоком 5,37%."
   ]
  },
  {
   "cell_type": "markdown",
   "metadata": {},
   "source": [
    "РЕКОМЕНДАЦИИ"
   ]
  },
  {
   "cell_type": "markdown",
   "metadata": {},
   "source": [
    "1. Кластеры показали, что отток клиентов, которые пришли через партнерские программы и по промо-акции, много меньше. В связи с этим, надо сделать упор на привлечение клиентов именно через эти каналы. \n",
    "2. Также, согласно проведенной работе, надежными клиентами явлются те, кто купил карту на 12 месяцев. Надо рассмотреть улучшение тарифа на карту 12 месяцев, возможно ввести дополнительные \"плюшким\" такием клиентам. \n",
    "3. Развивать программы групповых занятий, что может удержать клиента в фитнес-центре.\n"
   ]
  },
  {
   "cell_type": "code",
   "execution_count": null,
   "metadata": {},
   "outputs": [],
   "source": []
  }
 ],
 "metadata": {
  "ExecuteTimeLog": [
   {
    "duration": 390,
    "start_time": "2022-06-26T14:22:28.692Z"
   },
   {
    "duration": 1311,
    "start_time": "2022-06-26T14:23:57.233Z"
   },
   {
    "duration": 8,
    "start_time": "2022-06-26T14:24:09.200Z"
   },
   {
    "duration": 143,
    "start_time": "2022-06-26T14:26:49.435Z"
   },
   {
    "duration": 47,
    "start_time": "2022-06-26T14:27:00.030Z"
   },
   {
    "duration": 30,
    "start_time": "2022-06-26T14:35:25.317Z"
   },
   {
    "duration": 12,
    "start_time": "2022-06-26T14:38:24.298Z"
   },
   {
    "duration": 7,
    "start_time": "2022-06-26T14:41:41.377Z"
   },
   {
    "duration": 51,
    "start_time": "2022-06-26T14:41:59.072Z"
   },
   {
    "duration": 6,
    "start_time": "2022-06-26T14:50:51.463Z"
   },
   {
    "duration": 14,
    "start_time": "2022-06-26T14:58:43.401Z"
   },
   {
    "duration": 15,
    "start_time": "2022-06-26T15:02:05.442Z"
   },
   {
    "duration": 1396,
    "start_time": "2022-06-26T15:15:18.598Z"
   },
   {
    "duration": 62,
    "start_time": "2022-06-26T15:15:19.996Z"
   },
   {
    "duration": 17,
    "start_time": "2022-06-26T15:15:20.059Z"
   },
   {
    "duration": 15,
    "start_time": "2022-06-26T15:15:20.078Z"
   },
   {
    "duration": 7,
    "start_time": "2022-06-26T15:15:20.095Z"
   },
   {
    "duration": 39,
    "start_time": "2022-06-26T15:15:20.103Z"
   },
   {
    "duration": 13,
    "start_time": "2022-06-26T15:15:20.143Z"
   },
   {
    "duration": 1336,
    "start_time": "2022-06-26T15:15:50.405Z"
   },
   {
    "duration": 50,
    "start_time": "2022-06-26T15:15:51.743Z"
   },
   {
    "duration": 16,
    "start_time": "2022-06-26T15:15:51.795Z"
   },
   {
    "duration": 11,
    "start_time": "2022-06-26T15:15:51.813Z"
   },
   {
    "duration": 6,
    "start_time": "2022-06-26T15:15:51.825Z"
   },
   {
    "duration": 62,
    "start_time": "2022-06-26T15:15:51.833Z"
   },
   {
    "duration": 16,
    "start_time": "2022-06-26T15:15:51.897Z"
   },
   {
    "duration": 1354,
    "start_time": "2022-06-26T15:16:22.667Z"
   },
   {
    "duration": 48,
    "start_time": "2022-06-26T15:16:24.022Z"
   },
   {
    "duration": 17,
    "start_time": "2022-06-26T15:16:24.071Z"
   },
   {
    "duration": 9,
    "start_time": "2022-06-26T15:16:24.090Z"
   },
   {
    "duration": 6,
    "start_time": "2022-06-26T15:16:24.101Z"
   },
   {
    "duration": 44,
    "start_time": "2022-06-26T15:16:24.108Z"
   },
   {
    "duration": 40,
    "start_time": "2022-06-26T15:16:24.154Z"
   },
   {
    "duration": 215480,
    "start_time": "2022-06-26T15:16:24.196Z"
   },
   {
    "duration": 41,
    "start_time": "2022-06-26T15:21:02.306Z"
   },
   {
    "duration": 106,
    "start_time": "2022-06-26T15:25:53.562Z"
   },
   {
    "duration": 14,
    "start_time": "2022-06-26T15:26:13.202Z"
   },
   {
    "duration": 14,
    "start_time": "2022-06-26T15:27:18.294Z"
   },
   {
    "duration": 2298,
    "start_time": "2022-06-26T15:28:39.690Z"
   },
   {
    "duration": 46,
    "start_time": "2022-06-26T15:29:01.845Z"
   },
   {
    "duration": 19,
    "start_time": "2022-06-26T15:29:07.335Z"
   },
   {
    "duration": 20,
    "start_time": "2022-06-26T15:29:15.201Z"
   },
   {
    "duration": 11,
    "start_time": "2022-06-26T15:29:16.250Z"
   },
   {
    "duration": 8,
    "start_time": "2022-06-26T15:29:17.101Z"
   },
   {
    "duration": 43,
    "start_time": "2022-06-26T15:29:17.862Z"
   },
   {
    "duration": 15,
    "start_time": "2022-06-26T15:29:19.054Z"
   },
   {
    "duration": 1391,
    "start_time": "2022-06-26T15:29:41.957Z"
   },
   {
    "duration": 45,
    "start_time": "2022-06-26T15:29:43.350Z"
   },
   {
    "duration": 16,
    "start_time": "2022-06-26T15:29:43.396Z"
   },
   {
    "duration": 11,
    "start_time": "2022-06-26T15:29:43.413Z"
   },
   {
    "duration": 5,
    "start_time": "2022-06-26T15:29:43.426Z"
   },
   {
    "duration": 40,
    "start_time": "2022-06-26T15:29:43.433Z"
   },
   {
    "duration": 30,
    "start_time": "2022-06-26T15:29:43.475Z"
   },
   {
    "duration": 1437,
    "start_time": "2022-06-26T15:30:56.598Z"
   },
   {
    "duration": 50,
    "start_time": "2022-06-26T15:30:58.037Z"
   },
   {
    "duration": 17,
    "start_time": "2022-06-26T15:30:58.088Z"
   },
   {
    "duration": 12,
    "start_time": "2022-06-26T15:30:58.107Z"
   },
   {
    "duration": 9,
    "start_time": "2022-06-26T15:30:58.121Z"
   },
   {
    "duration": 68,
    "start_time": "2022-06-26T15:30:58.131Z"
   },
   {
    "duration": 15,
    "start_time": "2022-06-26T15:30:58.201Z"
   },
   {
    "duration": 1805,
    "start_time": "2022-06-26T15:34:26.434Z"
   },
   {
    "duration": 60,
    "start_time": "2022-06-26T15:34:28.241Z"
   },
   {
    "duration": 28,
    "start_time": "2022-06-26T15:34:28.303Z"
   },
   {
    "duration": 16,
    "start_time": "2022-06-26T15:34:28.334Z"
   },
   {
    "duration": 9,
    "start_time": "2022-06-26T15:34:28.352Z"
   },
   {
    "duration": 80,
    "start_time": "2022-06-26T15:34:28.363Z"
   },
   {
    "duration": 19,
    "start_time": "2022-06-26T15:34:28.445Z"
   },
   {
    "duration": 1462,
    "start_time": "2022-06-26T15:36:09.836Z"
   },
   {
    "duration": 46,
    "start_time": "2022-06-26T15:36:11.301Z"
   },
   {
    "duration": 27,
    "start_time": "2022-06-26T15:36:11.350Z"
   },
   {
    "duration": 18,
    "start_time": "2022-06-26T15:36:11.379Z"
   },
   {
    "duration": 10,
    "start_time": "2022-06-26T15:36:11.400Z"
   },
   {
    "duration": 52,
    "start_time": "2022-06-26T15:36:11.412Z"
   },
   {
    "duration": 44,
    "start_time": "2022-06-26T15:36:11.466Z"
   },
   {
    "duration": 1415,
    "start_time": "2022-06-26T15:38:12.368Z"
   },
   {
    "duration": 47,
    "start_time": "2022-06-26T15:38:13.786Z"
   },
   {
    "duration": 17,
    "start_time": "2022-06-26T15:38:13.834Z"
   },
   {
    "duration": 14,
    "start_time": "2022-06-26T15:38:13.853Z"
   },
   {
    "duration": 9,
    "start_time": "2022-06-26T15:38:13.870Z"
   },
   {
    "duration": 50,
    "start_time": "2022-06-26T15:38:13.880Z"
   },
   {
    "duration": 14,
    "start_time": "2022-06-26T15:38:13.931Z"
   },
   {
    "duration": 1539,
    "start_time": "2022-06-26T15:39:53.354Z"
   },
   {
    "duration": 49,
    "start_time": "2022-06-26T15:39:54.895Z"
   },
   {
    "duration": 18,
    "start_time": "2022-06-26T15:39:54.946Z"
   },
   {
    "duration": 19,
    "start_time": "2022-06-26T15:39:54.966Z"
   },
   {
    "duration": 11,
    "start_time": "2022-06-26T15:39:54.988Z"
   },
   {
    "duration": 48,
    "start_time": "2022-06-26T15:39:55.002Z"
   },
   {
    "duration": 16,
    "start_time": "2022-06-26T15:39:55.052Z"
   },
   {
    "duration": 1432,
    "start_time": "2022-06-26T15:42:43.099Z"
   },
   {
    "duration": 52,
    "start_time": "2022-06-26T15:42:44.533Z"
   },
   {
    "duration": 21,
    "start_time": "2022-06-26T15:42:44.586Z"
   },
   {
    "duration": 13,
    "start_time": "2022-06-26T15:42:44.608Z"
   },
   {
    "duration": 8,
    "start_time": "2022-06-26T15:42:44.623Z"
   },
   {
    "duration": 69,
    "start_time": "2022-06-26T15:42:44.633Z"
   },
   {
    "duration": 15,
    "start_time": "2022-06-26T15:42:44.704Z"
   },
   {
    "duration": 1351,
    "start_time": "2022-06-26T15:43:36.042Z"
   },
   {
    "duration": 50,
    "start_time": "2022-06-26T15:43:37.395Z"
   },
   {
    "duration": 16,
    "start_time": "2022-06-26T15:43:37.447Z"
   },
   {
    "duration": 17,
    "start_time": "2022-06-26T15:43:37.465Z"
   },
   {
    "duration": 13,
    "start_time": "2022-06-26T15:43:37.484Z"
   },
   {
    "duration": 61,
    "start_time": "2022-06-26T15:43:37.499Z"
   },
   {
    "duration": 19,
    "start_time": "2022-06-26T15:43:37.562Z"
   },
   {
    "duration": 1444,
    "start_time": "2022-06-26T15:46:52.211Z"
   },
   {
    "duration": 49,
    "start_time": "2022-06-26T15:46:53.657Z"
   },
   {
    "duration": 17,
    "start_time": "2022-06-26T15:46:53.708Z"
   },
   {
    "duration": 27,
    "start_time": "2022-06-26T15:46:53.727Z"
   },
   {
    "duration": 6,
    "start_time": "2022-06-26T15:46:53.756Z"
   },
   {
    "duration": 53,
    "start_time": "2022-06-26T15:46:53.764Z"
   },
   {
    "duration": 23,
    "start_time": "2022-06-26T15:46:53.819Z"
   },
   {
    "duration": 19,
    "start_time": "2022-06-26T15:46:56.937Z"
   },
   {
    "duration": 4,
    "start_time": "2022-06-26T15:47:08.535Z"
   },
   {
    "duration": 42,
    "start_time": "2022-06-26T15:47:08.902Z"
   },
   {
    "duration": 12,
    "start_time": "2022-06-26T15:47:09.252Z"
   },
   {
    "duration": 11,
    "start_time": "2022-06-26T15:47:09.801Z"
   },
   {
    "duration": 11,
    "start_time": "2022-06-26T15:47:10.234Z"
   },
   {
    "duration": 48,
    "start_time": "2022-06-26T15:47:10.698Z"
   },
   {
    "duration": 20,
    "start_time": "2022-06-26T15:47:11.310Z"
   },
   {
    "duration": 2599,
    "start_time": "2022-06-26T15:47:16.210Z"
   },
   {
    "duration": 1450,
    "start_time": "2022-06-26T15:49:16.933Z"
   },
   {
    "duration": 44,
    "start_time": "2022-06-26T15:49:18.385Z"
   },
   {
    "duration": 12,
    "start_time": "2022-06-26T15:49:18.431Z"
   },
   {
    "duration": 11,
    "start_time": "2022-06-26T15:49:18.445Z"
   },
   {
    "duration": 14,
    "start_time": "2022-06-26T15:49:18.458Z"
   },
   {
    "duration": 42,
    "start_time": "2022-06-26T15:49:18.473Z"
   },
   {
    "duration": 15,
    "start_time": "2022-06-26T15:49:18.517Z"
   },
   {
    "duration": 2603,
    "start_time": "2022-06-26T15:49:18.534Z"
   },
   {
    "duration": 1419,
    "start_time": "2022-06-26T15:50:24.349Z"
   },
   {
    "duration": 47,
    "start_time": "2022-06-26T15:50:25.770Z"
   },
   {
    "duration": 12,
    "start_time": "2022-06-26T15:50:25.819Z"
   },
   {
    "duration": 12,
    "start_time": "2022-06-26T15:50:25.833Z"
   },
   {
    "duration": 7,
    "start_time": "2022-06-26T15:50:25.846Z"
   },
   {
    "duration": 74,
    "start_time": "2022-06-26T15:50:25.855Z"
   },
   {
    "duration": 15,
    "start_time": "2022-06-26T15:50:25.931Z"
   },
   {
    "duration": 2790,
    "start_time": "2022-06-26T15:50:25.947Z"
   },
   {
    "duration": 1330,
    "start_time": "2022-06-26T15:50:58.348Z"
   },
   {
    "duration": 44,
    "start_time": "2022-06-26T15:50:59.679Z"
   },
   {
    "duration": 13,
    "start_time": "2022-06-26T15:50:59.725Z"
   },
   {
    "duration": 20,
    "start_time": "2022-06-26T15:50:59.740Z"
   },
   {
    "duration": 9,
    "start_time": "2022-06-26T15:50:59.762Z"
   },
   {
    "duration": 49,
    "start_time": "2022-06-26T15:50:59.772Z"
   },
   {
    "duration": 15,
    "start_time": "2022-06-26T15:50:59.822Z"
   },
   {
    "duration": 2632,
    "start_time": "2022-06-26T15:50:59.839Z"
   },
   {
    "duration": 102,
    "start_time": "2022-06-26T15:51:02.473Z"
   },
   {
    "duration": 2740,
    "start_time": "2022-06-26T15:51:06.962Z"
   },
   {
    "duration": 20,
    "start_time": "2022-06-26T15:51:10.202Z"
   },
   {
    "duration": 2833,
    "start_time": "2022-06-26T15:51:11.871Z"
   },
   {
    "duration": 11,
    "start_time": "2022-06-26T15:51:14.762Z"
   },
   {
    "duration": 8,
    "start_time": "2022-06-26T15:51:21.056Z"
   },
   {
    "duration": 1441,
    "start_time": "2022-06-26T15:51:41.035Z"
   },
   {
    "duration": 51,
    "start_time": "2022-06-26T15:51:42.479Z"
   },
   {
    "duration": 13,
    "start_time": "2022-06-26T15:51:42.532Z"
   },
   {
    "duration": 22,
    "start_time": "2022-06-26T15:51:42.548Z"
   },
   {
    "duration": 9,
    "start_time": "2022-06-26T15:51:42.571Z"
   },
   {
    "duration": 66,
    "start_time": "2022-06-26T15:51:42.582Z"
   },
   {
    "duration": 20,
    "start_time": "2022-06-26T15:51:42.649Z"
   },
   {
    "duration": 2843,
    "start_time": "2022-06-26T15:51:42.672Z"
   },
   {
    "duration": 227607,
    "start_time": "2022-06-26T15:51:45.517Z"
   },
   {
    "duration": 1542,
    "start_time": "2022-06-26T16:44:25.835Z"
   },
   {
    "duration": 1236,
    "start_time": "2022-06-26T16:45:14.442Z"
   },
   {
    "duration": 1261,
    "start_time": "2022-06-26T16:45:40.589Z"
   },
   {
    "duration": 4,
    "start_time": "2022-06-26T17:04:50.922Z"
   },
   {
    "duration": 5,
    "start_time": "2022-06-26T17:07:05.115Z"
   },
   {
    "duration": 3,
    "start_time": "2022-06-26T17:09:09.129Z"
   },
   {
    "duration": 1428,
    "start_time": "2022-06-26T17:09:18.195Z"
   },
   {
    "duration": 12,
    "start_time": "2022-06-26T17:09:29.104Z"
   },
   {
    "duration": 8,
    "start_time": "2022-06-26T17:26:13.835Z"
   },
   {
    "duration": 327,
    "start_time": "2022-06-26T17:26:21.090Z"
   },
   {
    "duration": 112,
    "start_time": "2022-06-26T17:28:38.312Z"
   },
   {
    "duration": 10,
    "start_time": "2022-06-26T17:28:58.460Z"
   },
   {
    "duration": 3,
    "start_time": "2022-06-26T17:29:02.358Z"
   },
   {
    "duration": 1671,
    "start_time": "2022-06-26T17:29:02.649Z"
   },
   {
    "duration": 87,
    "start_time": "2022-06-26T17:29:04.324Z"
   },
   {
    "duration": 5,
    "start_time": "2022-06-26T17:30:05.096Z"
   },
   {
    "duration": 11,
    "start_time": "2022-06-26T17:30:09.227Z"
   },
   {
    "duration": 10,
    "start_time": "2022-06-26T17:30:37.872Z"
   },
   {
    "duration": 9,
    "start_time": "2022-06-26T17:35:23.335Z"
   },
   {
    "duration": 3,
    "start_time": "2022-06-26T17:35:44.860Z"
   },
   {
    "duration": 56,
    "start_time": "2022-06-26T17:35:45.242Z"
   },
   {
    "duration": 7,
    "start_time": "2022-06-26T17:35:46.024Z"
   },
   {
    "duration": 331,
    "start_time": "2022-06-26T17:35:47.061Z"
   },
   {
    "duration": 14,
    "start_time": "2022-06-26T17:35:49.243Z"
   },
   {
    "duration": 9,
    "start_time": "2022-06-26T17:36:01.640Z"
   },
   {
    "duration": 54,
    "start_time": "2022-06-26T17:36:22.945Z"
   },
   {
    "duration": 5,
    "start_time": "2022-06-26T17:36:29.763Z"
   },
   {
    "duration": 2,
    "start_time": "2022-06-26T17:37:17.953Z"
   },
   {
    "duration": 79,
    "start_time": "2022-06-26T17:37:18.437Z"
   },
   {
    "duration": 4,
    "start_time": "2022-06-26T17:37:18.916Z"
   },
   {
    "duration": 332,
    "start_time": "2022-06-26T17:37:23.932Z"
   },
   {
    "duration": 13,
    "start_time": "2022-06-26T17:37:24.841Z"
   },
   {
    "duration": 9,
    "start_time": "2022-06-26T17:37:30.009Z"
   },
   {
    "duration": 4,
    "start_time": "2022-06-26T17:40:44.946Z"
   },
   {
    "duration": 3,
    "start_time": "2022-06-26T17:43:40.328Z"
   },
   {
    "duration": 19,
    "start_time": "2022-06-26T17:43:40.911Z"
   },
   {
    "duration": 5,
    "start_time": "2022-06-26T17:43:42.037Z"
   },
   {
    "duration": 7,
    "start_time": "2022-06-26T17:43:42.491Z"
   },
   {
    "duration": 354,
    "start_time": "2022-06-26T17:43:43.799Z"
   },
   {
    "duration": 13,
    "start_time": "2022-06-26T17:43:45.363Z"
   },
   {
    "duration": 20,
    "start_time": "2022-06-26T17:45:44.091Z"
   },
   {
    "duration": 3,
    "start_time": "2022-06-26T17:45:45.973Z"
   },
   {
    "duration": 13,
    "start_time": "2022-06-26T17:45:46.325Z"
   },
   {
    "duration": 7,
    "start_time": "2022-06-26T17:45:46.723Z"
   },
   {
    "duration": 3,
    "start_time": "2022-06-26T17:45:47.109Z"
   },
   {
    "duration": 346,
    "start_time": "2022-06-26T17:45:48.233Z"
   },
   {
    "duration": 13,
    "start_time": "2022-06-26T17:45:49.156Z"
   },
   {
    "duration": 9,
    "start_time": "2022-06-26T17:45:52.832Z"
   },
   {
    "duration": 8,
    "start_time": "2022-06-26T17:46:03.195Z"
   },
   {
    "duration": 10,
    "start_time": "2022-06-26T17:46:27.563Z"
   },
   {
    "duration": 3,
    "start_time": "2022-06-26T17:46:30.824Z"
   },
   {
    "duration": 11,
    "start_time": "2022-06-26T17:46:31.239Z"
   },
   {
    "duration": 9,
    "start_time": "2022-06-26T17:46:31.742Z"
   },
   {
    "duration": 3,
    "start_time": "2022-06-26T17:46:32.128Z"
   },
   {
    "duration": 344,
    "start_time": "2022-06-26T17:46:33.089Z"
   },
   {
    "duration": 12,
    "start_time": "2022-06-26T17:46:33.968Z"
   },
   {
    "duration": 21,
    "start_time": "2022-06-26T17:50:08.886Z"
   },
   {
    "duration": 7,
    "start_time": "2022-06-26T17:50:09.110Z"
   },
   {
    "duration": 3,
    "start_time": "2022-06-26T17:50:09.485Z"
   },
   {
    "duration": 340,
    "start_time": "2022-06-26T17:50:10.184Z"
   },
   {
    "duration": 13,
    "start_time": "2022-06-26T17:50:11.029Z"
   },
   {
    "duration": 9,
    "start_time": "2022-06-26T17:50:18.198Z"
   },
   {
    "duration": 3,
    "start_time": "2022-06-26T17:51:08.405Z"
   },
   {
    "duration": 491,
    "start_time": "2022-06-26T17:51:09.710Z"
   },
   {
    "duration": 10,
    "start_time": "2022-06-26T17:51:23.882Z"
   },
   {
    "duration": 3,
    "start_time": "2022-06-26T17:51:24.327Z"
   },
   {
    "duration": 378,
    "start_time": "2022-06-26T17:51:25.849Z"
   },
   {
    "duration": 14,
    "start_time": "2022-06-26T17:51:26.920Z"
   },
   {
    "duration": 12,
    "start_time": "2022-06-26T17:51:57.436Z"
   },
   {
    "duration": 18,
    "start_time": "2022-06-26T17:51:57.683Z"
   },
   {
    "duration": 2,
    "start_time": "2022-06-26T17:52:46.897Z"
   },
   {
    "duration": 35,
    "start_time": "2022-06-26T17:52:47.264Z"
   },
   {
    "duration": 4,
    "start_time": "2022-06-26T17:52:47.702Z"
   },
   {
    "duration": 3,
    "start_time": "2022-06-26T17:52:48.119Z"
   },
   {
    "duration": 316,
    "start_time": "2022-06-26T17:52:48.854Z"
   },
   {
    "duration": 12,
    "start_time": "2022-06-26T17:52:49.819Z"
   },
   {
    "duration": 3,
    "start_time": "2022-06-26T17:53:26.618Z"
   },
   {
    "duration": 63,
    "start_time": "2022-06-26T17:53:27.132Z"
   },
   {
    "duration": 8,
    "start_time": "2022-06-26T17:53:49.484Z"
   },
   {
    "duration": 490,
    "start_time": "2022-06-26T17:54:01.611Z"
   },
   {
    "duration": 95,
    "start_time": "2022-06-26T17:54:02.103Z"
   },
   {
    "duration": 3,
    "start_time": "2022-06-26T17:54:02.815Z"
   },
   {
    "duration": 327,
    "start_time": "2022-06-26T17:54:03.825Z"
   },
   {
    "duration": 13,
    "start_time": "2022-06-26T17:54:04.831Z"
   },
   {
    "duration": 12,
    "start_time": "2022-06-26T17:54:17.263Z"
   },
   {
    "duration": 7,
    "start_time": "2022-06-26T17:54:22.445Z"
   },
   {
    "duration": 3,
    "start_time": "2022-06-26T17:54:43.338Z"
   },
   {
    "duration": 518,
    "start_time": "2022-06-26T17:54:43.584Z"
   },
   {
    "duration": 103,
    "start_time": "2022-06-26T17:54:44.193Z"
   },
   {
    "duration": 100,
    "start_time": "2022-06-26T17:54:44.301Z"
   },
   {
    "duration": 9,
    "start_time": "2022-06-26T17:54:45.047Z"
   },
   {
    "duration": 326,
    "start_time": "2022-06-26T17:54:45.391Z"
   },
   {
    "duration": 12,
    "start_time": "2022-06-26T17:54:46.268Z"
   },
   {
    "duration": 7,
    "start_time": "2022-06-26T17:54:47.220Z"
   },
   {
    "duration": 1434,
    "start_time": "2022-06-26T17:55:06.965Z"
   },
   {
    "duration": 54,
    "start_time": "2022-06-26T17:55:08.401Z"
   },
   {
    "duration": 16,
    "start_time": "2022-06-26T17:55:08.457Z"
   },
   {
    "duration": 11,
    "start_time": "2022-06-26T17:55:08.475Z"
   },
   {
    "duration": 7,
    "start_time": "2022-06-26T17:55:08.488Z"
   },
   {
    "duration": 39,
    "start_time": "2022-06-26T17:55:08.497Z"
   },
   {
    "duration": 14,
    "start_time": "2022-06-26T17:55:08.538Z"
   },
   {
    "duration": 2452,
    "start_time": "2022-06-26T17:55:08.553Z"
   },
   {
    "duration": 1359,
    "start_time": "2022-06-26T17:56:27.271Z"
   },
   {
    "duration": 43,
    "start_time": "2022-06-26T17:56:28.632Z"
   },
   {
    "duration": 13,
    "start_time": "2022-06-26T17:56:28.676Z"
   },
   {
    "duration": 11,
    "start_time": "2022-06-26T17:56:28.691Z"
   },
   {
    "duration": 5,
    "start_time": "2022-06-26T17:56:28.704Z"
   },
   {
    "duration": 40,
    "start_time": "2022-06-26T17:56:28.711Z"
   },
   {
    "duration": 15,
    "start_time": "2022-06-26T17:56:28.752Z"
   },
   {
    "duration": 2,
    "start_time": "2022-06-26T17:56:28.769Z"
   },
   {
    "duration": 23,
    "start_time": "2022-06-26T17:56:28.773Z"
   },
   {
    "duration": 1326,
    "start_time": "2022-06-26T17:56:28.799Z"
   },
   {
    "duration": 3,
    "start_time": "2022-06-26T17:56:30.127Z"
   },
   {
    "duration": 9,
    "start_time": "2022-06-26T17:56:30.132Z"
   },
   {
    "duration": 13,
    "start_time": "2022-06-26T17:56:30.142Z"
   },
   {
    "duration": 6,
    "start_time": "2022-06-26T17:56:30.156Z"
   },
   {
    "duration": 291,
    "start_time": "2022-06-26T17:56:30.164Z"
   },
   {
    "duration": 38,
    "start_time": "2022-06-26T17:56:30.457Z"
   },
   {
    "duration": 4,
    "start_time": "2022-06-26T17:56:30.497Z"
   },
   {
    "duration": 417,
    "start_time": "2022-06-26T17:56:30.502Z"
   },
   {
    "duration": 100,
    "start_time": "2022-06-26T17:56:30.921Z"
   },
   {
    "duration": 0,
    "start_time": "2022-06-26T17:56:31.022Z"
   },
   {
    "duration": 9,
    "start_time": "2022-06-26T17:56:38.345Z"
   },
   {
    "duration": 356,
    "start_time": "2022-06-26T17:56:43.587Z"
   },
   {
    "duration": 12,
    "start_time": "2022-06-26T17:56:44.458Z"
   },
   {
    "duration": 3,
    "start_time": "2022-06-26T17:57:57.209Z"
   },
   {
    "duration": 14,
    "start_time": "2022-06-26T17:57:57.438Z"
   },
   {
    "duration": 7,
    "start_time": "2022-06-26T17:57:57.796Z"
   },
   {
    "duration": 5,
    "start_time": "2022-06-26T17:57:58.201Z"
   },
   {
    "duration": 334,
    "start_time": "2022-06-26T17:57:58.995Z"
   },
   {
    "duration": 13,
    "start_time": "2022-06-26T17:58:00.197Z"
   },
   {
    "duration": 7,
    "start_time": "2022-06-26T17:58:01.092Z"
   },
   {
    "duration": 3,
    "start_time": "2022-06-26T17:59:20.666Z"
   },
   {
    "duration": 14,
    "start_time": "2022-06-26T17:59:21.107Z"
   },
   {
    "duration": 329,
    "start_time": "2022-06-26T17:59:23.045Z"
   },
   {
    "duration": 7,
    "start_time": "2022-06-26T17:59:23.989Z"
   },
   {
    "duration": 7,
    "start_time": "2022-06-26T17:59:26.257Z"
   },
   {
    "duration": 8,
    "start_time": "2022-06-26T18:01:28.278Z"
   },
   {
    "duration": 7,
    "start_time": "2022-06-26T18:01:29.328Z"
   },
   {
    "duration": 7,
    "start_time": "2022-06-26T18:06:20.404Z"
   },
   {
    "duration": 513,
    "start_time": "2022-06-26T18:08:55.447Z"
   },
   {
    "duration": 97681,
    "start_time": "2022-06-26T18:09:30.678Z"
   },
   {
    "duration": 3,
    "start_time": "2022-06-26T18:13:53.409Z"
   },
   {
    "duration": 1193,
    "start_time": "2022-06-26T18:14:06.905Z"
   },
   {
    "duration": 820,
    "start_time": "2022-06-26T18:14:55.276Z"
   },
   {
    "duration": 1071,
    "start_time": "2022-06-26T18:15:00.726Z"
   },
   {
    "duration": 5,
    "start_time": "2022-06-26T18:16:17.105Z"
   },
   {
    "duration": 6,
    "start_time": "2022-06-26T18:16:42.084Z"
   },
   {
    "duration": 6,
    "start_time": "2022-06-26T18:17:13.542Z"
   },
   {
    "duration": 1117,
    "start_time": "2022-06-26T18:17:28.481Z"
   },
   {
    "duration": 1140,
    "start_time": "2022-06-26T18:17:38.465Z"
   },
   {
    "duration": 13,
    "start_time": "2022-06-26T18:20:07.600Z"
   },
   {
    "duration": 5,
    "start_time": "2022-06-26T18:20:33.426Z"
   },
   {
    "duration": 13,
    "start_time": "2022-06-26T18:23:29.651Z"
   },
   {
    "duration": 96654,
    "start_time": "2022-06-26T18:30:24.475Z"
   },
   {
    "duration": 294939,
    "start_time": "2022-06-26T18:52:49.547Z"
   },
   {
    "duration": 150,
    "start_time": "2022-06-26T18:57:44.488Z"
   },
   {
    "duration": 420,
    "start_time": "2022-06-26T18:59:38.885Z"
   },
   {
    "duration": 426,
    "start_time": "2022-06-26T18:59:48.689Z"
   },
   {
    "duration": 564,
    "start_time": "2022-06-26T18:59:57.310Z"
   },
   {
    "duration": 296522,
    "start_time": "2022-06-26T19:00:59.558Z"
   },
   {
    "duration": 10,
    "start_time": "2022-06-26T19:20:23.907Z"
   },
   {
    "duration": 1872,
    "start_time": "2022-06-27T12:12:06.380Z"
   },
   {
    "duration": 62,
    "start_time": "2022-06-27T12:12:08.255Z"
   },
   {
    "duration": 17,
    "start_time": "2022-06-27T12:12:08.318Z"
   },
   {
    "duration": 19,
    "start_time": "2022-06-27T12:12:08.337Z"
   },
   {
    "duration": 7,
    "start_time": "2022-06-27T12:12:08.359Z"
   },
   {
    "duration": 69,
    "start_time": "2022-06-27T12:12:08.368Z"
   },
   {
    "duration": 20,
    "start_time": "2022-06-27T12:12:08.439Z"
   },
   {
    "duration": 3035,
    "start_time": "2022-06-27T12:12:08.461Z"
   },
   {
    "duration": 54630,
    "start_time": "2022-06-27T12:12:11.499Z"
   },
   {
    "duration": 0,
    "start_time": "2022-06-27T12:13:06.131Z"
   },
   {
    "duration": 0,
    "start_time": "2022-06-27T12:13:06.132Z"
   },
   {
    "duration": 0,
    "start_time": "2022-06-27T12:13:06.134Z"
   },
   {
    "duration": 0,
    "start_time": "2022-06-27T12:13:06.135Z"
   },
   {
    "duration": 0,
    "start_time": "2022-06-27T12:13:06.136Z"
   },
   {
    "duration": 0,
    "start_time": "2022-06-27T12:13:06.137Z"
   },
   {
    "duration": 0,
    "start_time": "2022-06-27T12:13:06.137Z"
   },
   {
    "duration": 0,
    "start_time": "2022-06-27T12:13:06.138Z"
   },
   {
    "duration": 0,
    "start_time": "2022-06-27T12:13:06.140Z"
   },
   {
    "duration": 0,
    "start_time": "2022-06-27T12:13:06.141Z"
   },
   {
    "duration": 0,
    "start_time": "2022-06-27T12:13:06.142Z"
   },
   {
    "duration": 0,
    "start_time": "2022-06-27T12:13:06.144Z"
   },
   {
    "duration": 0,
    "start_time": "2022-06-27T12:13:06.145Z"
   },
   {
    "duration": 0,
    "start_time": "2022-06-27T12:13:06.145Z"
   },
   {
    "duration": 0,
    "start_time": "2022-06-27T12:13:06.146Z"
   },
   {
    "duration": 0,
    "start_time": "2022-06-27T12:13:06.147Z"
   },
   {
    "duration": 0,
    "start_time": "2022-06-27T12:13:06.148Z"
   },
   {
    "duration": 0,
    "start_time": "2022-06-27T12:13:06.149Z"
   },
   {
    "duration": 1574,
    "start_time": "2022-06-27T12:13:12.583Z"
   },
   {
    "duration": 40,
    "start_time": "2022-06-27T12:13:14.160Z"
   },
   {
    "duration": 14,
    "start_time": "2022-06-27T12:13:14.201Z"
   },
   {
    "duration": 21,
    "start_time": "2022-06-27T12:13:14.216Z"
   },
   {
    "duration": 8,
    "start_time": "2022-06-27T12:13:14.242Z"
   },
   {
    "duration": 47,
    "start_time": "2022-06-27T12:13:14.252Z"
   },
   {
    "duration": 40,
    "start_time": "2022-06-27T12:13:14.300Z"
   },
   {
    "duration": 3181,
    "start_time": "2022-06-27T12:13:14.342Z"
   },
   {
    "duration": 6,
    "start_time": "2022-06-27T12:13:17.526Z"
   },
   {
    "duration": 1591,
    "start_time": "2022-06-27T12:13:17.534Z"
   },
   {
    "duration": 5,
    "start_time": "2022-06-27T12:13:19.128Z"
   },
   {
    "duration": 21,
    "start_time": "2022-06-27T12:13:19.135Z"
   },
   {
    "duration": 11,
    "start_time": "2022-06-27T12:13:19.158Z"
   },
   {
    "duration": 3,
    "start_time": "2022-06-27T12:13:19.171Z"
   },
   {
    "duration": 17,
    "start_time": "2022-06-27T12:13:19.175Z"
   },
   {
    "duration": 35,
    "start_time": "2022-06-27T12:13:19.194Z"
   },
   {
    "duration": 521,
    "start_time": "2022-06-27T12:13:19.232Z"
   },
   {
    "duration": 8,
    "start_time": "2022-06-27T12:13:19.754Z"
   },
   {
    "duration": 10,
    "start_time": "2022-06-27T12:13:19.763Z"
   },
   {
    "duration": 8,
    "start_time": "2022-06-27T12:13:19.774Z"
   },
   {
    "duration": 666,
    "start_time": "2022-06-27T12:13:19.784Z"
   },
   {
    "duration": 120506,
    "start_time": "2022-06-27T12:13:20.456Z"
   },
   {
    "duration": 1886,
    "start_time": "2022-06-27T12:15:20.964Z"
   },
   {
    "duration": 5,
    "start_time": "2022-06-27T12:15:22.853Z"
   },
   {
    "duration": 17,
    "start_time": "2022-06-27T12:15:22.860Z"
   },
   {
    "duration": 357164,
    "start_time": "2022-06-27T12:15:22.879Z"
   },
   {
    "duration": 14,
    "start_time": "2022-06-27T12:21:20.046Z"
   },
   {
    "duration": 47,
    "start_time": "2022-06-28T06:13:17.112Z"
   },
   {
    "duration": 1566,
    "start_time": "2022-06-28T06:13:30.729Z"
   },
   {
    "duration": 62,
    "start_time": "2022-06-28T06:13:32.297Z"
   },
   {
    "duration": 17,
    "start_time": "2022-06-28T06:13:56.279Z"
   },
   {
    "duration": 12,
    "start_time": "2022-06-28T06:13:58.391Z"
   },
   {
    "duration": 7,
    "start_time": "2022-06-28T06:13:59.150Z"
   },
   {
    "duration": 51,
    "start_time": "2022-06-28T06:13:59.712Z"
   },
   {
    "duration": 16,
    "start_time": "2022-06-28T06:14:01.919Z"
   },
   {
    "duration": 2795,
    "start_time": "2022-06-28T06:14:02.543Z"
   },
   {
    "duration": 3,
    "start_time": "2022-06-28T06:14:05.340Z"
   },
   {
    "duration": 1580,
    "start_time": "2022-06-28T06:14:06.043Z"
   },
   {
    "duration": 78,
    "start_time": "2022-06-28T06:14:14.826Z"
   },
   {
    "duration": 4,
    "start_time": "2022-06-28T06:26:51.439Z"
   },
   {
    "duration": 5,
    "start_time": "2022-06-28T06:26:52.501Z"
   },
   {
    "duration": 6,
    "start_time": "2022-06-28T06:31:12.028Z"
   },
   {
    "duration": 17,
    "start_time": "2022-06-28T06:35:28.088Z"
   },
   {
    "duration": 2997,
    "start_time": "2022-06-28T06:37:32.009Z"
   },
   {
    "duration": 2177,
    "start_time": "2022-06-28T06:37:42.481Z"
   },
   {
    "duration": 12,
    "start_time": "2022-06-28T06:39:30.636Z"
   },
   {
    "duration": 11,
    "start_time": "2022-06-28T06:42:33.669Z"
   },
   {
    "duration": 11,
    "start_time": "2022-06-28T06:42:42.089Z"
   },
   {
    "duration": 19,
    "start_time": "2022-06-28T06:45:00.829Z"
   },
   {
    "duration": 19,
    "start_time": "2022-06-28T06:45:10.021Z"
   },
   {
    "duration": 1381,
    "start_time": "2022-06-28T06:45:28.818Z"
   },
   {
    "duration": 36,
    "start_time": "2022-06-28T06:45:30.201Z"
   },
   {
    "duration": 12,
    "start_time": "2022-06-28T06:45:30.239Z"
   },
   {
    "duration": 50,
    "start_time": "2022-06-28T06:45:30.254Z"
   },
   {
    "duration": 22,
    "start_time": "2022-06-28T06:45:30.307Z"
   },
   {
    "duration": 46,
    "start_time": "2022-06-28T06:45:30.331Z"
   },
   {
    "duration": 21,
    "start_time": "2022-06-28T06:45:30.379Z"
   },
   {
    "duration": 2664,
    "start_time": "2022-06-28T06:45:30.401Z"
   },
   {
    "duration": 1454,
    "start_time": "2022-06-28T06:47:27.598Z"
   },
   {
    "duration": 39,
    "start_time": "2022-06-28T06:47:29.054Z"
   },
   {
    "duration": 13,
    "start_time": "2022-06-28T06:47:29.095Z"
   },
   {
    "duration": 16,
    "start_time": "2022-06-28T06:47:29.110Z"
   },
   {
    "duration": 6,
    "start_time": "2022-06-28T06:47:29.128Z"
   },
   {
    "duration": 46,
    "start_time": "2022-06-28T06:47:29.136Z"
   },
   {
    "duration": 15,
    "start_time": "2022-06-28T06:47:29.183Z"
   },
   {
    "duration": 2,
    "start_time": "2022-06-28T06:47:29.200Z"
   },
   {
    "duration": 8,
    "start_time": "2022-06-28T06:47:29.203Z"
   },
   {
    "duration": 1506,
    "start_time": "2022-06-28T06:47:29.229Z"
   },
   {
    "duration": 4,
    "start_time": "2022-06-28T06:47:30.736Z"
   },
   {
    "duration": 17,
    "start_time": "2022-06-28T06:47:30.742Z"
   },
   {
    "duration": 11,
    "start_time": "2022-06-28T06:47:30.761Z"
   },
   {
    "duration": 14,
    "start_time": "2022-06-28T06:47:30.773Z"
   },
   {
    "duration": 27,
    "start_time": "2022-06-28T06:47:30.788Z"
   },
   {
    "duration": 83,
    "start_time": "2022-06-28T06:47:30.817Z"
   },
   {
    "duration": 375,
    "start_time": "2022-06-28T06:47:30.902Z"
   },
   {
    "duration": 7,
    "start_time": "2022-06-28T06:47:31.279Z"
   },
   {
    "duration": 11,
    "start_time": "2022-06-28T06:47:31.288Z"
   },
   {
    "duration": 10,
    "start_time": "2022-06-28T06:47:31.301Z"
   },
   {
    "duration": 571,
    "start_time": "2022-06-28T06:47:31.313Z"
   },
   {
    "duration": 1452,
    "start_time": "2022-06-28T06:51:35.736Z"
   },
   {
    "duration": 36,
    "start_time": "2022-06-28T06:51:37.190Z"
   },
   {
    "duration": 14,
    "start_time": "2022-06-28T06:51:37.229Z"
   },
   {
    "duration": 14,
    "start_time": "2022-06-28T06:51:37.245Z"
   },
   {
    "duration": 11,
    "start_time": "2022-06-28T06:51:37.261Z"
   },
   {
    "duration": 65,
    "start_time": "2022-06-28T06:51:37.274Z"
   },
   {
    "duration": 22,
    "start_time": "2022-06-28T06:51:37.341Z"
   },
   {
    "duration": 3,
    "start_time": "2022-06-28T06:51:37.365Z"
   },
   {
    "duration": 14,
    "start_time": "2022-06-28T06:51:37.369Z"
   },
   {
    "duration": 1539,
    "start_time": "2022-06-28T06:51:37.387Z"
   },
   {
    "duration": 4,
    "start_time": "2022-06-28T06:51:38.928Z"
   },
   {
    "duration": 9,
    "start_time": "2022-06-28T06:51:38.934Z"
   },
   {
    "duration": 9,
    "start_time": "2022-06-28T06:51:38.944Z"
   },
   {
    "duration": 3,
    "start_time": "2022-06-28T06:51:38.954Z"
   },
   {
    "duration": 13,
    "start_time": "2022-06-28T06:51:38.958Z"
   },
   {
    "duration": 97,
    "start_time": "2022-06-28T06:51:38.972Z"
   },
   {
    "duration": 359,
    "start_time": "2022-06-28T06:51:39.071Z"
   },
   {
    "duration": 7,
    "start_time": "2022-06-28T06:51:39.432Z"
   },
   {
    "duration": 10,
    "start_time": "2022-06-28T06:51:39.440Z"
   },
   {
    "duration": 9,
    "start_time": "2022-06-28T06:51:39.452Z"
   },
   {
    "duration": 594,
    "start_time": "2022-06-28T06:51:39.463Z"
   },
   {
    "duration": 1373,
    "start_time": "2022-06-28T06:52:32.943Z"
   },
   {
    "duration": 35,
    "start_time": "2022-06-28T06:52:34.317Z"
   },
   {
    "duration": 12,
    "start_time": "2022-06-28T06:52:34.354Z"
   },
   {
    "duration": 12,
    "start_time": "2022-06-28T06:52:34.368Z"
   },
   {
    "duration": 7,
    "start_time": "2022-06-28T06:52:34.382Z"
   },
   {
    "duration": 61,
    "start_time": "2022-06-28T06:52:34.391Z"
   },
   {
    "duration": 14,
    "start_time": "2022-06-28T06:52:34.454Z"
   },
   {
    "duration": 3,
    "start_time": "2022-06-28T06:52:34.469Z"
   },
   {
    "duration": 7,
    "start_time": "2022-06-28T06:52:34.473Z"
   },
   {
    "duration": 1512,
    "start_time": "2022-06-28T06:52:34.483Z"
   },
   {
    "duration": 5,
    "start_time": "2022-06-28T06:52:35.997Z"
   },
   {
    "duration": 10,
    "start_time": "2022-06-28T06:52:36.004Z"
   },
   {
    "duration": 14,
    "start_time": "2022-06-28T06:52:36.015Z"
   },
   {
    "duration": 3,
    "start_time": "2022-06-28T06:52:36.031Z"
   },
   {
    "duration": 15,
    "start_time": "2022-06-28T06:52:36.035Z"
   },
   {
    "duration": 86,
    "start_time": "2022-06-28T06:52:36.051Z"
   },
   {
    "duration": 404,
    "start_time": "2022-06-28T06:52:36.138Z"
   },
   {
    "duration": 6,
    "start_time": "2022-06-28T06:52:36.544Z"
   },
   {
    "duration": 27,
    "start_time": "2022-06-28T06:52:36.552Z"
   },
   {
    "duration": 10,
    "start_time": "2022-06-28T06:52:36.580Z"
   },
   {
    "duration": 579,
    "start_time": "2022-06-28T06:52:36.591Z"
   },
   {
    "duration": 3,
    "start_time": "2022-06-28T06:52:37.171Z"
   },
   {
    "duration": 1556,
    "start_time": "2022-06-28T06:52:37.175Z"
   },
   {
    "duration": 5,
    "start_time": "2022-06-28T06:52:38.733Z"
   },
   {
    "duration": 17,
    "start_time": "2022-06-28T06:52:38.740Z"
   },
   {
    "duration": 1348,
    "start_time": "2022-06-28T06:53:02.461Z"
   },
   {
    "duration": 42,
    "start_time": "2022-06-28T06:53:03.811Z"
   },
   {
    "duration": 16,
    "start_time": "2022-06-28T06:53:03.854Z"
   },
   {
    "duration": 13,
    "start_time": "2022-06-28T06:53:03.872Z"
   },
   {
    "duration": 9,
    "start_time": "2022-06-28T06:53:03.887Z"
   },
   {
    "duration": 65,
    "start_time": "2022-06-28T06:53:03.898Z"
   },
   {
    "duration": 15,
    "start_time": "2022-06-28T06:53:03.965Z"
   },
   {
    "duration": 2,
    "start_time": "2022-06-28T06:53:03.982Z"
   },
   {
    "duration": 7,
    "start_time": "2022-06-28T06:53:03.985Z"
   },
   {
    "duration": 1588,
    "start_time": "2022-06-28T06:53:03.994Z"
   },
   {
    "duration": 4,
    "start_time": "2022-06-28T06:53:05.584Z"
   },
   {
    "duration": 10,
    "start_time": "2022-06-28T06:53:05.589Z"
   },
   {
    "duration": 9,
    "start_time": "2022-06-28T06:53:05.600Z"
   },
   {
    "duration": 2,
    "start_time": "2022-06-28T06:53:05.610Z"
   },
   {
    "duration": 17,
    "start_time": "2022-06-28T06:53:05.614Z"
   },
   {
    "duration": 78,
    "start_time": "2022-06-28T06:53:05.633Z"
   },
   {
    "duration": 383,
    "start_time": "2022-06-28T06:53:05.713Z"
   },
   {
    "duration": 7,
    "start_time": "2022-06-28T06:53:06.098Z"
   },
   {
    "duration": 20,
    "start_time": "2022-06-28T06:53:06.107Z"
   },
   {
    "duration": 9,
    "start_time": "2022-06-28T06:53:06.129Z"
   },
   {
    "duration": 644,
    "start_time": "2022-06-28T06:53:06.139Z"
   },
   {
    "duration": 2,
    "start_time": "2022-06-28T06:53:06.785Z"
   },
   {
    "duration": 1642,
    "start_time": "2022-06-28T06:53:06.789Z"
   },
   {
    "duration": 6,
    "start_time": "2022-06-28T06:53:08.432Z"
   },
   {
    "duration": 18,
    "start_time": "2022-06-28T06:53:08.440Z"
   },
   {
    "duration": 2,
    "start_time": "2022-06-28T06:53:08.460Z"
   },
   {
    "duration": 137,
    "start_time": "2022-06-28T06:53:08.464Z"
   },
   {
    "duration": 0,
    "start_time": "2022-06-28T06:53:08.603Z"
   },
   {
    "duration": 14,
    "start_time": "2022-06-28T06:53:33.136Z"
   },
   {
    "duration": 3,
    "start_time": "2022-06-28T06:53:35.819Z"
   },
   {
    "duration": 16,
    "start_time": "2022-06-28T06:53:36.207Z"
   },
   {
    "duration": 6,
    "start_time": "2022-06-28T06:55:19.090Z"
   },
   {
    "duration": 1439,
    "start_time": "2022-06-28T06:55:22.393Z"
   },
   {
    "duration": 6,
    "start_time": "2022-06-28T06:55:26.007Z"
   },
   {
    "duration": 15,
    "start_time": "2022-06-28T06:55:26.520Z"
   },
   {
    "duration": 2,
    "start_time": "2022-06-28T06:55:27.862Z"
   },
   {
    "duration": 12,
    "start_time": "2022-06-28T06:55:28.131Z"
   },
   {
    "duration": 11,
    "start_time": "2022-06-28T06:56:42.165Z"
   },
   {
    "duration": 13,
    "start_time": "2022-06-28T06:56:47.619Z"
   },
   {
    "duration": 12,
    "start_time": "2022-06-28T06:56:54.960Z"
   },
   {
    "duration": 3711,
    "start_time": "2022-06-28T07:00:07.696Z"
   },
   {
    "duration": 11,
    "start_time": "2022-06-28T07:00:34.317Z"
   },
   {
    "duration": 16,
    "start_time": "2022-06-28T07:06:07.777Z"
   },
   {
    "duration": 2772,
    "start_time": "2022-06-28T07:06:24.023Z"
   },
   {
    "duration": 4343,
    "start_time": "2022-06-28T07:08:58.025Z"
   },
   {
    "duration": 3637,
    "start_time": "2022-06-28T07:09:11.686Z"
   },
   {
    "duration": 1568,
    "start_time": "2022-06-28T07:09:45.023Z"
   },
   {
    "duration": 11,
    "start_time": "2022-06-28T07:10:52.884Z"
   }
  ],
  "kernelspec": {
   "display_name": "Python 3 (ipykernel)",
   "language": "python",
   "name": "python3"
  },
  "language_info": {
   "codemirror_mode": {
    "name": "ipython",
    "version": 3
   },
   "file_extension": ".py",
   "mimetype": "text/x-python",
   "name": "python",
   "nbconvert_exporter": "python",
   "pygments_lexer": "ipython3",
   "version": "3.9.5"
  },
  "toc": {
   "base_numbering": 1,
   "nav_menu": {},
   "number_sections": true,
   "sideBar": true,
   "skip_h1_title": true,
   "title_cell": "Table of Contents",
   "title_sidebar": "Contents",
   "toc_cell": false,
   "toc_position": {},
   "toc_section_display": true,
   "toc_window_display": false
  }
 },
 "nbformat": 4,
 "nbformat_minor": 2
}
